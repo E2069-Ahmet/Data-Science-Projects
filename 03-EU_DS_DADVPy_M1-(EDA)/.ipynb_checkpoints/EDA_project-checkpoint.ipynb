{
 "cells": [
  {
   "cell_type": "code",
   "execution_count": 1,
   "metadata": {},
   "outputs": [],
   "source": [
    "import warnings\n",
    "warnings.filterwarnings('ignore')\n",
    "warnings.warn(\"this will not show\")"
   ]
  },
  {
   "cell_type": "code",
   "execution_count": 2,
   "metadata": {},
   "outputs": [],
   "source": [
    "import numpy as np\n",
    "import pandas as pd\n",
    "\n",
    "cars = pd.read_json(\"scout_car.json\", lines = True)"
   ]
  },
  {
   "cell_type": "code",
   "execution_count": 3,
   "metadata": {},
   "outputs": [
    {
     "data": {
      "text/html": [
       "<div>\n",
       "<style scoped>\n",
       "    .dataframe tbody tr th:only-of-type {\n",
       "        vertical-align: middle;\n",
       "    }\n",
       "\n",
       "    .dataframe tbody tr th {\n",
       "        vertical-align: top;\n",
       "    }\n",
       "\n",
       "    .dataframe thead th {\n",
       "        text-align: right;\n",
       "    }\n",
       "</style>\n",
       "<table border=\"1\" class=\"dataframe\">\n",
       "  <thead>\n",
       "    <tr style=\"text-align: right;\">\n",
       "      <th></th>\n",
       "      <th>url</th>\n",
       "      <th>make_model</th>\n",
       "      <th>short_description</th>\n",
       "      <th>body_type</th>\n",
       "      <th>price</th>\n",
       "      <th>vat</th>\n",
       "      <th>km</th>\n",
       "      <th>registration</th>\n",
       "      <th>prev_owner</th>\n",
       "      <th>kW</th>\n",
       "      <th>...</th>\n",
       "      <th>description</th>\n",
       "      <th>Emission Label</th>\n",
       "      <th>Gears</th>\n",
       "      <th>Country version</th>\n",
       "      <th>Electricity consumption</th>\n",
       "      <th>Last Service Date</th>\n",
       "      <th>Other Fuel Types</th>\n",
       "      <th>Availability</th>\n",
       "      <th>Last Timing Belt Service Date</th>\n",
       "      <th>Available from</th>\n",
       "    </tr>\n",
       "  </thead>\n",
       "  <tbody>\n",
       "    <tr>\n",
       "      <th>0</th>\n",
       "      <td>https://www.autoscout24.com//offers/audi-a1-sp...</td>\n",
       "      <td>Audi A1</td>\n",
       "      <td>Sportback 1.4 TDI S-tronic Xenon Navi Klima</td>\n",
       "      <td>Sedans</td>\n",
       "      <td>15770</td>\n",
       "      <td>VAT deductible</td>\n",
       "      <td>56,013 km</td>\n",
       "      <td>01/2016</td>\n",
       "      <td>2 previous owners</td>\n",
       "      <td>NaN</td>\n",
       "      <td>...</td>\n",
       "      <td>[\\n, Sicherheit:,  , Deaktivierung für Beifahr...</td>\n",
       "      <td>NaN</td>\n",
       "      <td>NaN</td>\n",
       "      <td>NaN</td>\n",
       "      <td>NaN</td>\n",
       "      <td>NaN</td>\n",
       "      <td>NaN</td>\n",
       "      <td>NaN</td>\n",
       "      <td>NaN</td>\n",
       "      <td>NaN</td>\n",
       "    </tr>\n",
       "  </tbody>\n",
       "</table>\n",
       "<p>1 rows × 54 columns</p>\n",
       "</div>"
      ],
      "text/plain": [
       "                                                 url make_model  \\\n",
       "0  https://www.autoscout24.com//offers/audi-a1-sp...    Audi A1   \n",
       "\n",
       "                             short_description body_type  price  \\\n",
       "0  Sportback 1.4 TDI S-tronic Xenon Navi Klima    Sedans  15770   \n",
       "\n",
       "              vat         km registration         prev_owner  kW  ...  \\\n",
       "0  VAT deductible  56,013 km      01/2016  2 previous owners NaN  ...   \n",
       "\n",
       "                                         description Emission Label Gears  \\\n",
       "0  [\\n, Sicherheit:,  , Deaktivierung für Beifahr...            NaN   NaN   \n",
       "\n",
       "  Country version Electricity consumption Last Service Date Other Fuel Types  \\\n",
       "0             NaN                     NaN               NaN              NaN   \n",
       "\n",
       "  Availability Last Timing Belt Service Date Available from  \n",
       "0          NaN                           NaN            NaN  \n",
       "\n",
       "[1 rows x 54 columns]"
      ]
     },
     "execution_count": 3,
     "metadata": {},
     "output_type": "execute_result"
    }
   ],
   "source": [
    "cars.head(1)"
   ]
  },
  {
   "cell_type": "markdown",
   "metadata": {},
   "source": [
    "## Detection and drop of NaN's"
   ]
  },
  {
   "cell_type": "code",
   "execution_count": 4,
   "metadata": {},
   "outputs": [],
   "source": [
    "def show_nans(df, limit):\n",
    "    missing = df.isnull().sum()*100/df.shape[0]\n",
    "    return missing.loc[lambda x : x > limit] "
   ]
  },
  {
   "cell_type": "code",
   "execution_count": 5,
   "metadata": {},
   "outputs": [
    {
     "data": {
      "text/plain": [
       "kW                               100.000000\n",
       "Next Inspection                   77.793831\n",
       "Inspection new                    75.299956\n",
       "Emission Label                    74.967021\n",
       "Electricity consumption           99.139393\n",
       "Last Service Date                 96.444500\n",
       "Other Fuel Types                  94.472015\n",
       "Availability                      96.011056\n",
       "Last Timing Belt Service Date     99.899491\n",
       "Available from                    98.291350\n",
       "dtype: float64"
      ]
     },
     "execution_count": 5,
     "metadata": {},
     "output_type": "execute_result"
    }
   ],
   "source": [
    "show_nans(cars, 70) # NaN ratios in columns are determined by show_nans function"
   ]
  },
  {
   "cell_type": "code",
   "execution_count": 6,
   "metadata": {},
   "outputs": [
    {
     "data": {
      "text/plain": [
       "url                                  0\n",
       "make_model                           0\n",
       "short_description                   46\n",
       "body_type                           60\n",
       "price                                0\n",
       "vat                               4513\n",
       "km                                   0\n",
       "registration                         0\n",
       "prev_owner                        6828\n",
       "kW                               15919\n",
       "hp                                   0\n",
       "Type                                 2\n",
       "Previous Owners                   6640\n",
       "Next Inspection                  12384\n",
       "Inspection new                   11987\n",
       "Warranty                          5420\n",
       "Full Service                      7704\n",
       "Non-smoking Vehicle               8742\n",
       "null                                 0\n",
       "Make                                 0\n",
       "Model                                0\n",
       "Offer Number                      3175\n",
       "First Registration                1597\n",
       "Body Color                         597\n",
       "Paint Type                        5772\n",
       "Body Color Original               3759\n",
       "Upholstery                        3720\n",
       "Body                                60\n",
       "Nr. of Doors                       212\n",
       "Nr. of Seats                       977\n",
       "Model Code                       10941\n",
       "Gearing Type                         0\n",
       "Displacement                       496\n",
       "Cylinders                         5680\n",
       "Weight                            6974\n",
       "Drive chain                       6858\n",
       "Fuel                                 0\n",
       "Consumption                       1906\n",
       "CO2 Emission                      1808\n",
       "Emission Class                    3021\n",
       "\\nComfort & Convenience\\n          920\n",
       "\\nEntertainment & Media\\n         1374\n",
       "\\nExtras\\n                        2962\n",
       "\\nSafety & Security\\n              982\n",
       "description                          0\n",
       "Emission Label                   11934\n",
       "Gears                             4712\n",
       "Country version                   8333\n",
       "Electricity consumption          15782\n",
       "Last Service Date                15353\n",
       "Other Fuel Types                 15039\n",
       "Availability                     15284\n",
       "Last Timing Belt Service Date    15903\n",
       "Available from                   15647\n",
       "dtype: int64"
      ]
     },
     "execution_count": 6,
     "metadata": {},
     "output_type": "execute_result"
    }
   ],
   "source": [
    "cars.isnull().sum()"
   ]
  },
  {
   "cell_type": "code",
   "execution_count": 7,
   "metadata": {},
   "outputs": [],
   "source": [
    "cars.drop([\"url\", \"kW\", \"Next Inspection\", \"Emission Label\", \"Electricity consumption\", \"Last Service Date\", \"Other Fuel Types\",\n",
    "          \"Availability\", \"Last Timing Belt Service Date\", \"Available from\", \"Inspection new\", \"Full Service\", \n",
    "           \"Non-smoking Vehicle\", \"null\", \"Make\", \"Model\", \"Offer Number\", \"First Registration\", \"Body Color Original\",\n",
    "          \"Body\", \"Model Code\", \"Country version\", \"description\"], axis = 1, inplace = True)\n",
    "# As a result of the examination of the contents of the columns, the columns that were considered to have no effect\\\n",
    "# on the car price and the columns with most of them were droped."
   ]
  },
  {
   "cell_type": "code",
   "execution_count": 8,
   "metadata": {},
   "outputs": [
    {
     "data": {
      "text/plain": [
       "(15919, 31)"
      ]
     },
     "execution_count": 8,
     "metadata": {},
     "output_type": "execute_result"
    }
   ],
   "source": [
    "cars.shape "
   ]
  },
  {
   "cell_type": "markdown",
   "metadata": {},
   "source": [
    "## Working on columns"
   ]
  },
  {
   "cell_type": "code",
   "execution_count": 9,
   "metadata": {},
   "outputs": [
    {
     "data": {
      "text/plain": [
       "Sedans           7903\n",
       "Station wagon    3553\n",
       "Compact          3153\n",
       "Van               783\n",
       "Other             290\n",
       "Transporter        88\n",
       "NaN                60\n",
       "Off-Road           56\n",
       "Coupe              25\n",
       "Convertible         8\n",
       "Name: body_type, dtype: int64"
      ]
     },
     "execution_count": 9,
     "metadata": {},
     "output_type": "execute_result"
    }
   ],
   "source": [
    "cars[\"body_type\"].value_counts(dropna = False) # Detected the number of unique values in the body_type column"
   ]
  },
  {
   "cell_type": "code",
   "execution_count": 10,
   "metadata": {},
   "outputs": [],
   "source": [
    "def fill_most(df, model, col):\n",
    "    x = df[col][df[\"make_model\"] == model].mode()\n",
    "    df[col][df[\"make_model\"] == model] = df[col][df[\"make_model\"] == model].fillna(method = \"ffill\")\n",
    "    df[col][df[\"make_model\"] == model] = df[col][df[\"make_model\"] == model].fillna(x[0])\n",
    "    return df[col][df[\"make_model\"] == model]\n",
    "# We use the ffill method to fill the NaNs in the columns homogeneously. Remaining NaN's after ffill or bfill method are \n",
    "# filled with mode () method.\n"
   ]
  },
  {
   "cell_type": "code",
   "execution_count": 11,
   "metadata": {},
   "outputs": [],
   "source": [
    "for i in cars[\"make_model\"].unique():\n",
    "    fill_most(cars, i, \"body_type\")"
   ]
  },
  {
   "cell_type": "code",
   "execution_count": 12,
   "metadata": {},
   "outputs": [
    {
     "data": {
      "text/plain": [
       "Sedans           7922\n",
       "Station wagon    3563\n",
       "Compact          3161\n",
       "Van               801\n",
       "Other             292\n",
       "Transporter        91\n",
       "Off-Road           56\n",
       "Coupe              25\n",
       "Convertible         8\n",
       "Name: body_type, dtype: int64"
      ]
     },
     "execution_count": 12,
     "metadata": {},
     "output_type": "execute_result"
    }
   ],
   "source": [
    "cars[\"body_type\"].value_counts(dropna = False) # no NaN left"
   ]
  },
  {
   "cell_type": "code",
   "execution_count": 13,
   "metadata": {},
   "outputs": [],
   "source": [
    "cars[\"km\"][cars[\"km\"]== \"- km\"] = \"0\" # When the km info of the cars with - km was examined, it was seen that they were new cars.\n",
    "cars[\"km\"] = cars[\"km\"].str.extract(\"(\\d*,\\d*|\\d*)\")[0].str.replace(\",\", \"\") # numerical value extracted\n",
    "cars[\"km\"] = cars[\"km\"].astype(\"int\") # the numeric value converted to integer"
   ]
  },
  {
   "cell_type": "code",
   "execution_count": 14,
   "metadata": {},
   "outputs": [
    {
     "data": {
      "text/plain": [
       "dtype('int32')"
      ]
     },
     "execution_count": 14,
     "metadata": {},
     "output_type": "execute_result"
    }
   ],
   "source": [
    "cars[\"km\"].dtype"
   ]
  },
  {
   "cell_type": "code",
   "execution_count": 15,
   "metadata": {},
   "outputs": [],
   "source": [
    "def unique_values(item): \n",
    "    \n",
    "    if type(item) == list:\n",
    "        return \" \".join(item).strip(\" ,\").split()\n",
    "        \n",
    "    else:\n",
    "        return item"
   ]
  },
  {
   "cell_type": "code",
   "execution_count": 16,
   "metadata": {},
   "outputs": [
    {
     "data": {
      "text/plain": [
       "0                  Used\n",
       "1                  Used\n",
       "2                  Used\n",
       "3                  Used\n",
       "4                  Used\n",
       "              ...      \n",
       "15914               New\n",
       "15915              Used\n",
       "15916    Pre-registered\n",
       "15917    Pre-registered\n",
       "15918     Demonstration\n",
       "Name: Type, Length: 15919, dtype: object"
      ]
     },
     "execution_count": 16,
     "metadata": {},
     "output_type": "execute_result"
    }
   ],
   "source": [
    "car_type = cars[\"Type\"].apply(unique_values).str[0] # the values in the list has been pulled with unique_values func.\n",
    "car_type"
   ]
  },
  {
   "cell_type": "code",
   "execution_count": 17,
   "metadata": {},
   "outputs": [
    {
     "data": {
      "text/plain": [
       "Used              11096\n",
       "New                1650\n",
       "Pre-registered     1364\n",
       "Employee's         1011\n",
       "Demonstration       796\n",
       "NaN                   2\n",
       "Name: Type, dtype: int64"
      ]
     },
     "execution_count": 17,
     "metadata": {},
     "output_type": "execute_result"
    }
   ],
   "source": [
    "car_type.value_counts(dropna = False) # there are 2 NaN"
   ]
  },
  {
   "cell_type": "code",
   "execution_count": 18,
   "metadata": {},
   "outputs": [],
   "source": [
    "cars[\"car_type\"] = car_type"
   ]
  },
  {
   "cell_type": "code",
   "execution_count": 19,
   "metadata": {},
   "outputs": [
    {
     "data": {
      "text/html": [
       "<div>\n",
       "<style scoped>\n",
       "    .dataframe tbody tr th:only-of-type {\n",
       "        vertical-align: middle;\n",
       "    }\n",
       "\n",
       "    .dataframe tbody tr th {\n",
       "        vertical-align: top;\n",
       "    }\n",
       "\n",
       "    .dataframe thead th {\n",
       "        text-align: right;\n",
       "    }\n",
       "</style>\n",
       "<table border=\"1\" class=\"dataframe\">\n",
       "  <thead>\n",
       "    <tr style=\"text-align: right;\">\n",
       "      <th></th>\n",
       "      <th>make_model</th>\n",
       "      <th>short_description</th>\n",
       "      <th>body_type</th>\n",
       "      <th>price</th>\n",
       "      <th>vat</th>\n",
       "      <th>km</th>\n",
       "      <th>registration</th>\n",
       "      <th>prev_owner</th>\n",
       "      <th>hp</th>\n",
       "      <th>Type</th>\n",
       "      <th>...</th>\n",
       "      <th>Fuel</th>\n",
       "      <th>Consumption</th>\n",
       "      <th>CO2 Emission</th>\n",
       "      <th>Emission Class</th>\n",
       "      <th>\\nComfort &amp; Convenience\\n</th>\n",
       "      <th>\\nEntertainment &amp; Media\\n</th>\n",
       "      <th>\\nExtras\\n</th>\n",
       "      <th>\\nSafety &amp; Security\\n</th>\n",
       "      <th>Gears</th>\n",
       "      <th>car_type</th>\n",
       "    </tr>\n",
       "  </thead>\n",
       "  <tbody>\n",
       "    <tr>\n",
       "      <th>2765</th>\n",
       "      <td>Audi A3</td>\n",
       "      <td>SPB 2.0 TDI S tronic Sport</td>\n",
       "      <td>Sedans</td>\n",
       "      <td>17900</td>\n",
       "      <td>None</td>\n",
       "      <td>115137</td>\n",
       "      <td>10/2016</td>\n",
       "      <td>None</td>\n",
       "      <td>110 kW</td>\n",
       "      <td>NaN</td>\n",
       "      <td>...</td>\n",
       "      <td>[\\n, Diesel, \\n]</td>\n",
       "      <td>[[4.5 l/100 km (comb)], [5.3 l/100 km (city)],...</td>\n",
       "      <td>[\\n118 g CO2/km (comb)\\n]</td>\n",
       "      <td>[\\nEuro 6\\n]</td>\n",
       "      <td>[Air conditioning]</td>\n",
       "      <td>[Bluetooth, Hands-free equipment]</td>\n",
       "      <td>[Alloy wheels, Sport seats, Sport suspension]</td>\n",
       "      <td>[ABS, Central door lock, Driver-side airbag, I...</td>\n",
       "      <td>[\\n6\\n]</td>\n",
       "      <td>NaN</td>\n",
       "    </tr>\n",
       "    <tr>\n",
       "      <th>5237</th>\n",
       "      <td>Audi A3</td>\n",
       "      <td>SPB 1.6 TDI 116 CV S tronic</td>\n",
       "      <td>Sedans</td>\n",
       "      <td>25400</td>\n",
       "      <td>None</td>\n",
       "      <td>0</td>\n",
       "      <td>-/-</td>\n",
       "      <td>None</td>\n",
       "      <td>85 kW</td>\n",
       "      <td>NaN</td>\n",
       "      <td>...</td>\n",
       "      <td>[\\n, Diesel, \\n]</td>\n",
       "      <td>[[3.9 l/100 km (comb)], [4.1 l/100 km (city)],...</td>\n",
       "      <td>[\\n103 g CO2/km (comb)\\n]</td>\n",
       "      <td>[\\nEuro 6\\n]</td>\n",
       "      <td>[Air conditioning]</td>\n",
       "      <td>[Bluetooth, Hands-free equipment]</td>\n",
       "      <td>[Alloy wheels]</td>\n",
       "      <td>[ABS, Central door lock, Driver-side airbag, I...</td>\n",
       "      <td>[\\n7\\n]</td>\n",
       "      <td>NaN</td>\n",
       "    </tr>\n",
       "  </tbody>\n",
       "</table>\n",
       "<p>2 rows × 32 columns</p>\n",
       "</div>"
      ],
      "text/plain": [
       "     make_model            short_description body_type  price   vat      km  \\\n",
       "2765    Audi A3   SPB 2.0 TDI S tronic Sport    Sedans  17900  None  115137   \n",
       "5237    Audi A3  SPB 1.6 TDI 116 CV S tronic    Sedans  25400  None       0   \n",
       "\n",
       "     registration prev_owner      hp Type  ...              Fuel  \\\n",
       "2765      10/2016       None  110 kW  NaN  ...  [\\n, Diesel, \\n]   \n",
       "5237          -/-       None   85 kW  NaN  ...  [\\n, Diesel, \\n]   \n",
       "\n",
       "                                            Consumption  \\\n",
       "2765  [[4.5 l/100 km (comb)], [5.3 l/100 km (city)],...   \n",
       "5237  [[3.9 l/100 km (comb)], [4.1 l/100 km (city)],...   \n",
       "\n",
       "                   CO2 Emission Emission Class \\nComfort & Convenience\\n  \\\n",
       "2765  [\\n118 g CO2/km (comb)\\n]   [\\nEuro 6\\n]        [Air conditioning]   \n",
       "5237  [\\n103 g CO2/km (comb)\\n]   [\\nEuro 6\\n]        [Air conditioning]   \n",
       "\n",
       "              \\nEntertainment & Media\\n  \\\n",
       "2765  [Bluetooth, Hands-free equipment]   \n",
       "5237  [Bluetooth, Hands-free equipment]   \n",
       "\n",
       "                                         \\nExtras\\n  \\\n",
       "2765  [Alloy wheels, Sport seats, Sport suspension]   \n",
       "5237                                 [Alloy wheels]   \n",
       "\n",
       "                                  \\nSafety & Security\\n    Gears car_type  \n",
       "2765  [ABS, Central door lock, Driver-side airbag, I...  [\\n6\\n]      NaN  \n",
       "5237  [ABS, Central door lock, Driver-side airbag, I...  [\\n7\\n]      NaN  \n",
       "\n",
       "[2 rows x 32 columns]"
      ]
     },
     "execution_count": 19,
     "metadata": {},
     "output_type": "execute_result"
    }
   ],
   "source": [
    "cars[cars[\"car_type\"].isnull()] # one of the cars was new and the other one was used"
   ]
  },
  {
   "cell_type": "code",
   "execution_count": 20,
   "metadata": {},
   "outputs": [],
   "source": [
    "cars.loc[2765, \"car_type\"] = \"Used\" # one of the cars was new and the other one was used\n",
    "cars.loc[5237, \"car_type\"] = \"New\" "
   ]
  },
  {
   "cell_type": "code",
   "execution_count": 21,
   "metadata": {},
   "outputs": [],
   "source": [
    "cars.km[(cars.car_type == \"New\")] = 0\n",
    "cars.km[(cars.car_type == \"Pre-registered\")] = 0 # After the research, it was seen that the Pre-registered cars were \n",
    "# in the new car category."
   ]
  },
  {
   "cell_type": "code",
   "execution_count": 22,
   "metadata": {},
   "outputs": [],
   "source": [
    "cars.drop([\"Type\", \"Previous Owners\"], axis = 1, inplace = True) \n",
    "#Since the car_type column was created and the prev_owner column and Previous Owners columns are the same, \n",
    "#the Type and Previous Owners columns were droped."
   ]
  },
  {
   "cell_type": "code",
   "execution_count": 23,
   "metadata": {},
   "outputs": [
    {
     "data": {
      "text/plain": [
       "car_type      \n",
       "New               1548\n",
       "Used                35\n",
       "Pre-registered       6\n",
       "Demonstration        5\n",
       "Employee's           3\n",
       "dtype: int64"
      ]
     },
     "execution_count": 23,
     "metadata": {},
     "output_type": "execute_result"
    }
   ],
   "source": [
    "cars.loc[(cars[\"registration\"] == \"-/-\"), [\"car_type\"]].value_counts() "
   ]
  },
  {
   "cell_type": "code",
   "execution_count": 24,
   "metadata": {},
   "outputs": [],
   "source": [
    "cars[\"registration\"] = cars[\"registration\"].replace(\"-/-\", np.nan) \n",
    "#It was seen that the cars with no registration are new."
   ]
  },
  {
   "cell_type": "code",
   "execution_count": 25,
   "metadata": {},
   "outputs": [
    {
     "data": {
      "text/plain": [
       "dtype('O')"
      ]
     },
     "execution_count": 25,
     "metadata": {},
     "output_type": "execute_result"
    }
   ],
   "source": [
    "cars[\"registration\"].dtype"
   ]
  },
  {
   "cell_type": "code",
   "execution_count": 26,
   "metadata": {},
   "outputs": [],
   "source": [
    "cars[\"registration\"] = pd.to_datetime(cars[\"registration\"])"
   ]
  },
  {
   "cell_type": "code",
   "execution_count": 27,
   "metadata": {},
   "outputs": [
    {
     "data": {
      "text/html": [
       "<div>\n",
       "<style scoped>\n",
       "    .dataframe tbody tr th:only-of-type {\n",
       "        vertical-align: middle;\n",
       "    }\n",
       "\n",
       "    .dataframe tbody tr th {\n",
       "        vertical-align: top;\n",
       "    }\n",
       "\n",
       "    .dataframe thead th {\n",
       "        text-align: right;\n",
       "    }\n",
       "</style>\n",
       "<table border=\"1\" class=\"dataframe\">\n",
       "  <thead>\n",
       "    <tr style=\"text-align: right;\">\n",
       "      <th></th>\n",
       "      <th>make_model</th>\n",
       "      <th>short_description</th>\n",
       "      <th>body_type</th>\n",
       "      <th>price</th>\n",
       "      <th>vat</th>\n",
       "      <th>km</th>\n",
       "      <th>registration</th>\n",
       "      <th>prev_owner</th>\n",
       "      <th>hp</th>\n",
       "      <th>Warranty</th>\n",
       "      <th>...</th>\n",
       "      <th>Fuel</th>\n",
       "      <th>Consumption</th>\n",
       "      <th>CO2 Emission</th>\n",
       "      <th>Emission Class</th>\n",
       "      <th>\\nComfort &amp; Convenience\\n</th>\n",
       "      <th>\\nEntertainment &amp; Media\\n</th>\n",
       "      <th>\\nExtras\\n</th>\n",
       "      <th>\\nSafety &amp; Security\\n</th>\n",
       "      <th>Gears</th>\n",
       "      <th>car_type</th>\n",
       "    </tr>\n",
       "  </thead>\n",
       "  <tbody>\n",
       "    <tr>\n",
       "      <th>15795</th>\n",
       "      <td>Renault Espace</td>\n",
       "      <td>EXECUTIVE Energy dCi 160 EDC</td>\n",
       "      <td>Van</td>\n",
       "      <td>34200</td>\n",
       "      <td>None</td>\n",
       "      <td>1</td>\n",
       "      <td>2018-12-01</td>\n",
       "      <td>1 previous owner</td>\n",
       "      <td>118 kW</td>\n",
       "      <td>NaN</td>\n",
       "      <td>...</td>\n",
       "      <td>[\\n, Diesel, \\n]</td>\n",
       "      <td>NaN</td>\n",
       "      <td>NaN</td>\n",
       "      <td>NaN</td>\n",
       "      <td>[Air conditioning, Automatic climate control, ...</td>\n",
       "      <td>[Radio, USB]</td>\n",
       "      <td>[Alloy wheels]</td>\n",
       "      <td>[ABS, Isofix, Power steering, Side airbag]</td>\n",
       "      <td>[\\n6\\n]</td>\n",
       "      <td>Employee's</td>\n",
       "    </tr>\n",
       "    <tr>\n",
       "      <th>7949</th>\n",
       "      <td>Opel Astra</td>\n",
       "      <td>1.6 CDTi S/S 81kW (110CV) Selective</td>\n",
       "      <td>Compact</td>\n",
       "      <td>17500</td>\n",
       "      <td>None</td>\n",
       "      <td>1</td>\n",
       "      <td>2019-05-01</td>\n",
       "      <td>None</td>\n",
       "      <td>81 kW</td>\n",
       "      <td>\\n12 months\\n</td>\n",
       "      <td>...</td>\n",
       "      <td>[\\n, Diesel, \\n]</td>\n",
       "      <td>NaN</td>\n",
       "      <td>NaN</td>\n",
       "      <td>NaN</td>\n",
       "      <td>NaN</td>\n",
       "      <td>NaN</td>\n",
       "      <td>NaN</td>\n",
       "      <td>NaN</td>\n",
       "      <td>[\\n6\\n]</td>\n",
       "      <td>Used</td>\n",
       "    </tr>\n",
       "    <tr>\n",
       "      <th>7944</th>\n",
       "      <td>Opel Astra</td>\n",
       "      <td>1.6 CDTi S/S 81kW (110CV) Selective</td>\n",
       "      <td>Compact</td>\n",
       "      <td>17500</td>\n",
       "      <td>None</td>\n",
       "      <td>1</td>\n",
       "      <td>2019-05-01</td>\n",
       "      <td>None</td>\n",
       "      <td>81 kW</td>\n",
       "      <td>\\n12 months\\n</td>\n",
       "      <td>...</td>\n",
       "      <td>[\\n, Diesel, \\n]</td>\n",
       "      <td>NaN</td>\n",
       "      <td>NaN</td>\n",
       "      <td>NaN</td>\n",
       "      <td>NaN</td>\n",
       "      <td>NaN</td>\n",
       "      <td>NaN</td>\n",
       "      <td>NaN</td>\n",
       "      <td>[\\n6\\n]</td>\n",
       "      <td>Used</td>\n",
       "    </tr>\n",
       "    <tr>\n",
       "      <th>4592</th>\n",
       "      <td>Audi A3</td>\n",
       "      <td>SB 30 1.0 tfsi Business 116cv s-tronic my19</td>\n",
       "      <td>Sedans</td>\n",
       "      <td>22900</td>\n",
       "      <td>VAT deductible</td>\n",
       "      <td>1</td>\n",
       "      <td>2019-02-01</td>\n",
       "      <td>1 previous owner</td>\n",
       "      <td>85 kW</td>\n",
       "      <td>NaN</td>\n",
       "      <td>...</td>\n",
       "      <td>[\\n, Super 95 (Particulate Filter), \\n]</td>\n",
       "      <td>[[5.1 l/100 km (comb)], [5.8 l/100 km (city)],...</td>\n",
       "      <td>[\\n117 g CO2/km (comb)\\n]</td>\n",
       "      <td>[\\nEuro 6\\n]</td>\n",
       "      <td>[Air conditioning, Power windows]</td>\n",
       "      <td>[Radio]</td>\n",
       "      <td>[Alloy wheels]</td>\n",
       "      <td>[Central door lock, Driver-side airbag, Immobi...</td>\n",
       "      <td>[\\n7\\n]</td>\n",
       "      <td>Used</td>\n",
       "    </tr>\n",
       "    <tr>\n",
       "      <th>4594</th>\n",
       "      <td>Audi A3</td>\n",
       "      <td>SB 30 1.0 tfsi Business 116cv s-tronic my19</td>\n",
       "      <td>Sedans</td>\n",
       "      <td>22900</td>\n",
       "      <td>VAT deductible</td>\n",
       "      <td>1</td>\n",
       "      <td>2019-02-01</td>\n",
       "      <td>1 previous owner</td>\n",
       "      <td>85 kW</td>\n",
       "      <td>NaN</td>\n",
       "      <td>...</td>\n",
       "      <td>[\\n, Super 95 (Particulate Filter), \\n]</td>\n",
       "      <td>[[5.1 l/100 km (comb)], [5.8 l/100 km (city)],...</td>\n",
       "      <td>[\\n117 g CO2/km (comb)\\n]</td>\n",
       "      <td>[\\nEuro 6\\n]</td>\n",
       "      <td>[Air conditioning, Power windows]</td>\n",
       "      <td>[Radio]</td>\n",
       "      <td>[Alloy wheels]</td>\n",
       "      <td>[Central door lock, Driver-side airbag, Immobi...</td>\n",
       "      <td>[\\n7\\n]</td>\n",
       "      <td>Used</td>\n",
       "    </tr>\n",
       "    <tr>\n",
       "      <th>...</th>\n",
       "      <td>...</td>\n",
       "      <td>...</td>\n",
       "      <td>...</td>\n",
       "      <td>...</td>\n",
       "      <td>...</td>\n",
       "      <td>...</td>\n",
       "      <td>...</td>\n",
       "      <td>...</td>\n",
       "      <td>...</td>\n",
       "      <td>...</td>\n",
       "      <td>...</td>\n",
       "      <td>...</td>\n",
       "      <td>...</td>\n",
       "      <td>...</td>\n",
       "      <td>...</td>\n",
       "      <td>...</td>\n",
       "      <td>...</td>\n",
       "      <td>...</td>\n",
       "      <td>...</td>\n",
       "      <td>...</td>\n",
       "      <td>...</td>\n",
       "    </tr>\n",
       "    <tr>\n",
       "      <th>15277</th>\n",
       "      <td>Renault Espace</td>\n",
       "      <td>dCi 160 Energy Twin Turbo Initiale Paris EDC</td>\n",
       "      <td>Van</td>\n",
       "      <td>14600</td>\n",
       "      <td>None</td>\n",
       "      <td>240000</td>\n",
       "      <td>2017-02-01</td>\n",
       "      <td>None</td>\n",
       "      <td>118 kW</td>\n",
       "      <td>NaN</td>\n",
       "      <td>...</td>\n",
       "      <td>[\\n, Diesel (Particulate Filter), \\n]</td>\n",
       "      <td>[[4.6 l/100 km (comb)], [5 l/100 km (city)], [...</td>\n",
       "      <td>[\\n120 g CO2/km (comb)\\n]</td>\n",
       "      <td>[\\nEuro 6\\n]</td>\n",
       "      <td>[Air conditioning, Automatic climate control, ...</td>\n",
       "      <td>[Sound system]</td>\n",
       "      <td>[Alloy wheels]</td>\n",
       "      <td>[ABS, Central door lock with remote control, D...</td>\n",
       "      <td>[\\n6\\n]</td>\n",
       "      <td>Used</td>\n",
       "    </tr>\n",
       "    <tr>\n",
       "      <th>6224</th>\n",
       "      <td>Opel Astra</td>\n",
       "      <td>1.6 CDTI 110CV Sports Tourer Profe</td>\n",
       "      <td>Station wagon</td>\n",
       "      <td>9800</td>\n",
       "      <td>VAT deductible</td>\n",
       "      <td>248000</td>\n",
       "      <td>2016-01-01</td>\n",
       "      <td>None</td>\n",
       "      <td>81 kW</td>\n",
       "      <td>NaN</td>\n",
       "      <td>...</td>\n",
       "      <td>[\\n, Diesel (Particulate Filter), \\n]</td>\n",
       "      <td>[[4.5 l/100 km (comb)], [5.4 l/100 km (city)],...</td>\n",
       "      <td>[\\n120 g CO2/km (comb)\\n]</td>\n",
       "      <td>[\\nEuro 5\\n]</td>\n",
       "      <td>[Air conditioning, Armrest, Electrical side mi...</td>\n",
       "      <td>[Bluetooth, CD player, Hands-free equipment, M...</td>\n",
       "      <td>[Touch screen]</td>\n",
       "      <td>[ABS, Alarm system, Central door lock, Electro...</td>\n",
       "      <td>[\\n6\\n]</td>\n",
       "      <td>Used</td>\n",
       "    </tr>\n",
       "    <tr>\n",
       "      <th>5712</th>\n",
       "      <td>Opel Astra</td>\n",
       "      <td>Edition K Sports Tourer Automatik Navi 1 Hand</td>\n",
       "      <td>Station wagon</td>\n",
       "      <td>6000</td>\n",
       "      <td>None</td>\n",
       "      <td>260000</td>\n",
       "      <td>2016-05-01</td>\n",
       "      <td>1 previous owner</td>\n",
       "      <td>100 kW</td>\n",
       "      <td>NaN</td>\n",
       "      <td>...</td>\n",
       "      <td>[\\n, Diesel, \\n]</td>\n",
       "      <td>[[4.5 l/100 km (comb)], [5.7 l/100 km (city)],...</td>\n",
       "      <td>[\\n119 g CO2/km (comb)\\n]</td>\n",
       "      <td>[\\nEuro 6\\n]</td>\n",
       "      <td>[Air conditioning, Automatic climate control, ...</td>\n",
       "      <td>[Bluetooth, Hands-free equipment, On-board com...</td>\n",
       "      <td>[Alloy wheels, Roof rack, Touch screen, Traile...</td>\n",
       "      <td>[ABS, Central door lock, Central door lock wit...</td>\n",
       "      <td>[\\n6\\n]</td>\n",
       "      <td>Used</td>\n",
       "    </tr>\n",
       "    <tr>\n",
       "      <th>3003</th>\n",
       "      <td>Audi A3</td>\n",
       "      <td>2.0 TDI quattro Limousine Ambition S-Line LED</td>\n",
       "      <td>Sedans</td>\n",
       "      <td>14980</td>\n",
       "      <td>VAT deductible</td>\n",
       "      <td>291800</td>\n",
       "      <td>2016-01-01</td>\n",
       "      <td>1 previous owner</td>\n",
       "      <td>110 kW</td>\n",
       "      <td>[\\n, \\n, \\nEuro 6\\n]</td>\n",
       "      <td>...</td>\n",
       "      <td>[\\n, Diesel (Particulate Filter), \\n]</td>\n",
       "      <td>[[4.7 l/100 km (comb)], [5.6 l/100 km (city)],...</td>\n",
       "      <td>[\\n125 g CO2/km (comb)\\n]</td>\n",
       "      <td>[\\nEuro 6\\n]</td>\n",
       "      <td>[Air conditioning, Armrest, Automatic climate ...</td>\n",
       "      <td>[Bluetooth, CD player, Hands-free equipment, O...</td>\n",
       "      <td>[Alloy wheels, Sport package, Sport seats, Spo...</td>\n",
       "      <td>[ABS, Adaptive headlights, Central door lock, ...</td>\n",
       "      <td>NaN</td>\n",
       "      <td>Used</td>\n",
       "    </tr>\n",
       "    <tr>\n",
       "      <th>9279</th>\n",
       "      <td>Opel Corsa</td>\n",
       "      <td>1.4 LPG (ecoFLEX) Color Edition</td>\n",
       "      <td>Sedans</td>\n",
       "      <td>8350</td>\n",
       "      <td>None</td>\n",
       "      <td>317000</td>\n",
       "      <td>2017-11-01</td>\n",
       "      <td>1 previous owner</td>\n",
       "      <td>66 kW</td>\n",
       "      <td>NaN</td>\n",
       "      <td>...</td>\n",
       "      <td>[\\n, Gasoline, \\n]</td>\n",
       "      <td>[[6 l/100 km (comb)], [7.4 l/100 km (city)], [...</td>\n",
       "      <td>[\\n136 g CO2/km (comb)\\n]</td>\n",
       "      <td>[\\nEuro 6d-TEMP\\n]</td>\n",
       "      <td>[Air conditioning, Hill Holder, Power windows]</td>\n",
       "      <td>[On-board computer]</td>\n",
       "      <td>NaN</td>\n",
       "      <td>[ABS, Central door lock with remote control, D...</td>\n",
       "      <td>[\\n5\\n]</td>\n",
       "      <td>Used</td>\n",
       "    </tr>\n",
       "  </tbody>\n",
       "</table>\n",
       "<p>12848 rows × 30 columns</p>\n",
       "</div>"
      ],
      "text/plain": [
       "           make_model                              short_description  \\\n",
       "15795  Renault Espace                   EXECUTIVE Energy dCi 160 EDC   \n",
       "7949       Opel Astra            1.6 CDTi S/S 81kW (110CV) Selective   \n",
       "7944       Opel Astra            1.6 CDTi S/S 81kW (110CV) Selective   \n",
       "4592          Audi A3    SB 30 1.0 tfsi Business 116cv s-tronic my19   \n",
       "4594          Audi A3    SB 30 1.0 tfsi Business 116cv s-tronic my19   \n",
       "...               ...                                            ...   \n",
       "15277  Renault Espace   dCi 160 Energy Twin Turbo Initiale Paris EDC   \n",
       "6224       Opel Astra             1.6 CDTI 110CV Sports Tourer Profe   \n",
       "5712       Opel Astra  Edition K Sports Tourer Automatik Navi 1 Hand   \n",
       "3003          Audi A3  2.0 TDI quattro Limousine Ambition S-Line LED   \n",
       "9279       Opel Corsa                1.4 LPG (ecoFLEX) Color Edition   \n",
       "\n",
       "           body_type  price             vat      km registration  \\\n",
       "15795            Van  34200            None       1   2018-12-01   \n",
       "7949         Compact  17500            None       1   2019-05-01   \n",
       "7944         Compact  17500            None       1   2019-05-01   \n",
       "4592          Sedans  22900  VAT deductible       1   2019-02-01   \n",
       "4594          Sedans  22900  VAT deductible       1   2019-02-01   \n",
       "...              ...    ...             ...     ...          ...   \n",
       "15277            Van  14600            None  240000   2017-02-01   \n",
       "6224   Station wagon   9800  VAT deductible  248000   2016-01-01   \n",
       "5712   Station wagon   6000            None  260000   2016-05-01   \n",
       "3003          Sedans  14980  VAT deductible  291800   2016-01-01   \n",
       "9279          Sedans   8350            None  317000   2017-11-01   \n",
       "\n",
       "             prev_owner      hp              Warranty  ...  \\\n",
       "15795  1 previous owner  118 kW                   NaN  ...   \n",
       "7949               None   81 kW         \\n12 months\\n  ...   \n",
       "7944               None   81 kW         \\n12 months\\n  ...   \n",
       "4592   1 previous owner   85 kW                   NaN  ...   \n",
       "4594   1 previous owner   85 kW                   NaN  ...   \n",
       "...                 ...     ...                   ...  ...   \n",
       "15277              None  118 kW                   NaN  ...   \n",
       "6224               None   81 kW                   NaN  ...   \n",
       "5712   1 previous owner  100 kW                   NaN  ...   \n",
       "3003   1 previous owner  110 kW  [\\n, \\n, \\nEuro 6\\n]  ...   \n",
       "9279   1 previous owner   66 kW                   NaN  ...   \n",
       "\n",
       "                                          Fuel  \\\n",
       "15795                         [\\n, Diesel, \\n]   \n",
       "7949                          [\\n, Diesel, \\n]   \n",
       "7944                          [\\n, Diesel, \\n]   \n",
       "4592   [\\n, Super 95 (Particulate Filter), \\n]   \n",
       "4594   [\\n, Super 95 (Particulate Filter), \\n]   \n",
       "...                                        ...   \n",
       "15277    [\\n, Diesel (Particulate Filter), \\n]   \n",
       "6224     [\\n, Diesel (Particulate Filter), \\n]   \n",
       "5712                          [\\n, Diesel, \\n]   \n",
       "3003     [\\n, Diesel (Particulate Filter), \\n]   \n",
       "9279                        [\\n, Gasoline, \\n]   \n",
       "\n",
       "                                             Consumption  \\\n",
       "15795                                                NaN   \n",
       "7949                                                 NaN   \n",
       "7944                                                 NaN   \n",
       "4592   [[5.1 l/100 km (comb)], [5.8 l/100 km (city)],...   \n",
       "4594   [[5.1 l/100 km (comb)], [5.8 l/100 km (city)],...   \n",
       "...                                                  ...   \n",
       "15277  [[4.6 l/100 km (comb)], [5 l/100 km (city)], [...   \n",
       "6224   [[4.5 l/100 km (comb)], [5.4 l/100 km (city)],...   \n",
       "5712   [[4.5 l/100 km (comb)], [5.7 l/100 km (city)],...   \n",
       "3003   [[4.7 l/100 km (comb)], [5.6 l/100 km (city)],...   \n",
       "9279   [[6 l/100 km (comb)], [7.4 l/100 km (city)], [...   \n",
       "\n",
       "                    CO2 Emission      Emission Class  \\\n",
       "15795                        NaN                 NaN   \n",
       "7949                         NaN                 NaN   \n",
       "7944                         NaN                 NaN   \n",
       "4592   [\\n117 g CO2/km (comb)\\n]        [\\nEuro 6\\n]   \n",
       "4594   [\\n117 g CO2/km (comb)\\n]        [\\nEuro 6\\n]   \n",
       "...                          ...                 ...   \n",
       "15277  [\\n120 g CO2/km (comb)\\n]        [\\nEuro 6\\n]   \n",
       "6224   [\\n120 g CO2/km (comb)\\n]        [\\nEuro 5\\n]   \n",
       "5712   [\\n119 g CO2/km (comb)\\n]        [\\nEuro 6\\n]   \n",
       "3003   [\\n125 g CO2/km (comb)\\n]        [\\nEuro 6\\n]   \n",
       "9279   [\\n136 g CO2/km (comb)\\n]  [\\nEuro 6d-TEMP\\n]   \n",
       "\n",
       "                               \\nComfort & Convenience\\n  \\\n",
       "15795  [Air conditioning, Automatic climate control, ...   \n",
       "7949                                                 NaN   \n",
       "7944                                                 NaN   \n",
       "4592                   [Air conditioning, Power windows]   \n",
       "4594                   [Air conditioning, Power windows]   \n",
       "...                                                  ...   \n",
       "15277  [Air conditioning, Automatic climate control, ...   \n",
       "6224   [Air conditioning, Armrest, Electrical side mi...   \n",
       "5712   [Air conditioning, Automatic climate control, ...   \n",
       "3003   [Air conditioning, Armrest, Automatic climate ...   \n",
       "9279      [Air conditioning, Hill Holder, Power windows]   \n",
       "\n",
       "                               \\nEntertainment & Media\\n  \\\n",
       "15795                                       [Radio, USB]   \n",
       "7949                                                 NaN   \n",
       "7944                                                 NaN   \n",
       "4592                                             [Radio]   \n",
       "4594                                             [Radio]   \n",
       "...                                                  ...   \n",
       "15277                                     [Sound system]   \n",
       "6224   [Bluetooth, CD player, Hands-free equipment, M...   \n",
       "5712   [Bluetooth, Hands-free equipment, On-board com...   \n",
       "3003   [Bluetooth, CD player, Hands-free equipment, O...   \n",
       "9279                                 [On-board computer]   \n",
       "\n",
       "                                              \\nExtras\\n  \\\n",
       "15795                                     [Alloy wheels]   \n",
       "7949                                                 NaN   \n",
       "7944                                                 NaN   \n",
       "4592                                      [Alloy wheels]   \n",
       "4594                                      [Alloy wheels]   \n",
       "...                                                  ...   \n",
       "15277                                     [Alloy wheels]   \n",
       "6224                                      [Touch screen]   \n",
       "5712   [Alloy wheels, Roof rack, Touch screen, Traile...   \n",
       "3003   [Alloy wheels, Sport package, Sport seats, Spo...   \n",
       "9279                                                 NaN   \n",
       "\n",
       "                                   \\nSafety & Security\\n    Gears    car_type  \n",
       "15795         [ABS, Isofix, Power steering, Side airbag]  [\\n6\\n]  Employee's  \n",
       "7949                                                 NaN  [\\n6\\n]        Used  \n",
       "7944                                                 NaN  [\\n6\\n]        Used  \n",
       "4592   [Central door lock, Driver-side airbag, Immobi...  [\\n7\\n]        Used  \n",
       "4594   [Central door lock, Driver-side airbag, Immobi...  [\\n7\\n]        Used  \n",
       "...                                                  ...      ...         ...  \n",
       "15277  [ABS, Central door lock with remote control, D...  [\\n6\\n]        Used  \n",
       "6224   [ABS, Alarm system, Central door lock, Electro...  [\\n6\\n]        Used  \n",
       "5712   [ABS, Central door lock, Central door lock wit...  [\\n6\\n]        Used  \n",
       "3003   [ABS, Adaptive headlights, Central door lock, ...      NaN        Used  \n",
       "9279   [ABS, Central door lock with remote control, D...  [\\n5\\n]        Used  \n",
       "\n",
       "[12848 rows x 30 columns]"
      ]
     },
     "execution_count": 27,
     "metadata": {},
     "output_type": "execute_result"
    }
   ],
   "source": [
    "cars[cars[\"km\"] != 0].sort_values(\"km\")"
   ]
  },
  {
   "cell_type": "code",
   "execution_count": 28,
   "metadata": {},
   "outputs": [],
   "source": [
    "def fill(x,y):\n",
    "    a = cars[\"registration\"][(cars[\"km\"] >= x) & (cars[\"km\"] < y)].mode()\n",
    "    cars[\"registration\"][(cars[\"km\"] >= x) & (cars[\"km\"] < y)] = cars[\"registration\"][(cars[\"km\"] >= x) & (cars[\"km\"] < y)]\\\n",
    "    .fillna(a[0])\n",
    "    return cars[\"registration\"][(cars[\"km\"] >= x) & (cars[\"km\"] < y)]\n",
    "# Registration date is assigned according to the \"km\" information for vehicles without registration."
   ]
  },
  {
   "cell_type": "code",
   "execution_count": 29,
   "metadata": {},
   "outputs": [
    {
     "data": {
      "text/plain": [
       "1       2017-03-01\n",
       "2       2016-02-01\n",
       "3       2016-08-01\n",
       "26      2016-03-01\n",
       "27      2016-06-01\n",
       "           ...    \n",
       "15411   2017-01-01\n",
       "15414   2016-01-01\n",
       "15422   2016-05-01\n",
       "15423   2016-01-01\n",
       "15607   2017-06-01\n",
       "Name: registration, Length: 1256, dtype: datetime64[ns]"
      ]
     },
     "execution_count": 29,
     "metadata": {},
     "output_type": "execute_result"
    }
   ],
   "source": [
    "fill(0, 160)\n",
    "fill(195, 790)\n",
    "fill(2900, 6000)\n",
    "fill(6000, 11300)\n",
    "fill(19000, 21000)\n",
    "fill(22000, 40000)\n",
    "fill(65000, 90000)"
   ]
  },
  {
   "cell_type": "code",
   "execution_count": 30,
   "metadata": {},
   "outputs": [
    {
     "data": {
      "text/plain": [
       "<bound method Series.items of registration\n",
       "2016-01-01    89997.367021\n",
       "2016-02-01    80934.815678\n",
       "2016-03-01    77583.473198\n",
       "2016-04-01    77616.167293\n",
       "2016-05-01    79279.481481\n",
       "2016-06-01    77622.004425\n",
       "2016-07-01    74469.073864\n",
       "2016-08-01    65995.053191\n",
       "2016-09-01    65184.191489\n",
       "2016-10-01    75950.368750\n",
       "2016-11-01    67831.711268\n",
       "2016-12-01    58764.291045\n",
       "2017-01-01    55065.735294\n",
       "2017-02-01    51961.486413\n",
       "2017-03-01    50354.138004\n",
       "2017-04-01    47312.673684\n",
       "2017-05-01    38831.368812\n",
       "2017-06-01    38150.672372\n",
       "2017-07-01    34709.767442\n",
       "2017-08-01    31436.000000\n",
       "2017-09-01    28319.825503\n",
       "2017-10-01    28529.305195\n",
       "2017-11-01    27832.738889\n",
       "2017-12-01    24203.747967\n",
       "2018-01-01    21896.951076\n",
       "2018-02-01    21794.849722\n",
       "2018-03-01    20075.570413\n",
       "2018-04-01    19773.693161\n",
       "2018-05-01    17273.215652\n",
       "2018-06-01    17111.520677\n",
       "2018-07-01    17910.237374\n",
       "2018-08-01    12884.259649\n",
       "2018-09-01    11137.312057\n",
       "2018-10-01     8813.546392\n",
       "2018-11-01     5062.981818\n",
       "2018-12-01     5261.951456\n",
       "2019-01-01     2981.853974\n",
       "2019-02-01     2571.037607\n",
       "2019-03-01     1802.647378\n",
       "2019-04-01      224.149735\n",
       "2019-05-01     1249.322727\n",
       "2019-06-01     1335.919643\n",
       "2019-07-01        0.000000\n",
       "2019-08-01    19200.000000\n",
       "2019-09-01    21000.000000\n",
       "2019-11-01        1.000000\n",
       "2019-12-01        1.000000\n",
       "Name: km, dtype: float64>"
      ]
     },
     "execution_count": 30,
     "metadata": {},
     "output_type": "execute_result"
    }
   ],
   "source": [
    "d = cars.groupby(\"registration\").mean()[\"km\"].items\n",
    "d"
   ]
  },
  {
   "cell_type": "code",
   "execution_count": 31,
   "metadata": {},
   "outputs": [
    {
     "data": {
      "text/plain": [
       "<AxesSubplot:xlabel='registration'>"
      ]
     },
     "execution_count": 31,
     "metadata": {},
     "output_type": "execute_result"
    },
    {
     "data": {
      "image/png": "[encoded data removed]",
      "text/plain": [
       "<Figure size 432x288 with 1 Axes>"
      ]
     },
     "metadata": {
      "needs_background": "light"
     },
     "output_type": "display_data"
    }
   ],
   "source": [
    "cars.groupby(\"registration\").mean()[\"km\"].plot()"
   ]
  },
  {
   "cell_type": "code",
   "execution_count": 32,
   "metadata": {},
   "outputs": [],
   "source": [
    "# According to my research on the internet, there is not much outlier km information in cars under 2 years old. \n",
    "# In order to estimate the car prices correctly, the registration date was assigned to the cars under the age of 2 \n",
    "# with more km according to 2.5 iqr.\n",
    "\n",
    "for j, k in cars.groupby(\"registration\").mean()[\"km\"].items():\n",
    "    if j > pd.Timestamp('2017-12-01'):\n",
    "        c= cars[cars[\"registration\"] == j][\"km\"]\n",
    "        q25 = c.quantile(0.25)\n",
    "        q75 = c.quantile(0.75)\n",
    "        iqr = q75 -q25\n",
    "        lower_bound = range(0, 301) # q25-(1.5*iqr(c))\n",
    "        upper_bound = q75 + (2.5*iqr)\n",
    "        for n in c:\n",
    "            if n > upper_bound:\n",
    "                for a, b in cars.groupby(\"registration\").mean()[\"km\"].items():\n",
    "                    if n > b:\n",
    "                        cars[\"registration\"][cars[\"km\"] == n] = a\n",
    "                        break\n",
    "# According to the research I made on the internet, I saw that there are a few new cars among the cars over 2 years old. \n",
    "# In order to estimate the prices correctly, new registration dates have been assigned to cars over 2 years old and \n",
    "# between 0-300 km.                        \n",
    "\n",
    "    elif j < pd.Timestamp('2017-12-01'):\n",
    "        lower_bound = range(0, 301) # q25-(1.5*iqr(c))\n",
    "        c= cars[cars[\"registration\"] == j][\"km\"]\n",
    "        for n in c:\n",
    "            if n in lower_bound:\n",
    "                for a, b in cars.groupby(\"registration\").mean()[\"km\"].items():\n",
    "                    if n > b:\n",
    "                        cars[\"registration\"][cars[\"km\"] == n] = a\n",
    "                        break"
   ]
  },
  {
   "cell_type": "code",
   "execution_count": 33,
   "metadata": {},
   "outputs": [
    {
     "data": {
      "text/plain": [
       "<bound method Series.items of registration\n",
       "2016-01-01    91209.316195\n",
       "2016-02-01    81252.936475\n",
       "2016-03-01    78085.760000\n",
       "2016-04-01    78248.834630\n",
       "2016-05-01    80057.342282\n",
       "2016-06-01    77886.981693\n",
       "2016-07-01    76131.445122\n",
       "2016-08-01    67564.398551\n",
       "2016-09-01    67110.386364\n",
       "2016-10-01    76872.756579\n",
       "2016-11-01    68020.459854\n",
       "2016-12-01    59069.325758\n",
       "2017-01-01    55576.788194\n",
       "2017-02-01    52690.417614\n",
       "2017-03-01    51242.212528\n",
       "2017-04-01    48089.445652\n",
       "2017-05-01    39439.042079\n",
       "2017-06-01    38473.704835\n",
       "2017-07-01    35165.581395\n",
       "2017-08-01    32033.682243\n",
       "2017-09-01    29267.710145\n",
       "2017-10-01    28930.226027\n",
       "2017-11-01    28951.446429\n",
       "2017-12-01    25238.586207\n",
       "2018-01-01    22200.375502\n",
       "2018-02-01    22230.383838\n",
       "2018-03-01    20639.464724\n",
       "2018-04-01    20127.347349\n",
       "2018-05-01    17813.858075\n",
       "2018-06-01    17635.481557\n",
       "2018-07-01    18490.920110\n",
       "2018-08-01    13963.193252\n",
       "2018-09-01    12590.170732\n",
       "2018-10-01     9740.265116\n",
       "2018-11-01     6662.612546\n",
       "2018-12-01     4346.068729\n",
       "2019-01-01     2432.361111\n",
       "2019-02-01     1541.672234\n",
       "2019-03-01      743.491954\n",
       "2019-04-01       45.638317\n",
       "2019-05-01        2.248322\n",
       "2019-06-01        0.898649\n",
       "2019-07-01       43.478261\n",
       "2019-09-01        0.000000\n",
       "2019-11-01       30.555556\n",
       "2019-12-01       19.750000\n",
       "Name: km, dtype: float64>"
      ]
     },
     "execution_count": 33,
     "metadata": {},
     "output_type": "execute_result"
    }
   ],
   "source": [
    "cars.groupby(\"registration\").mean()[\"km\"].items"
   ]
  },
  {
   "cell_type": "code",
   "execution_count": 34,
   "metadata": {},
   "outputs": [
    {
     "data": {
      "text/plain": [
       "<AxesSubplot:xlabel='registration'>"
      ]
     },
     "execution_count": 34,
     "metadata": {},
     "output_type": "execute_result"
    },
    {
     "data": {
      "image/png": "[encoded data removed]",
      "text/plain": [
       "<Figure size 432x288 with 1 Axes>"
      ]
     },
     "metadata": {
      "needs_background": "light"
     },
     "output_type": "display_data"
    }
   ],
   "source": [
    "cars.groupby(\"registration\").mean()[\"km\"].plot() # We see that the km averages of cars younger than 2 years old are in order."
   ]
  },
  {
   "cell_type": "code",
   "execution_count": 35,
   "metadata": {},
   "outputs": [
    {
     "data": {
      "text/plain": [
       "2019-04-01    2187\n",
       "2018-03-01     652\n",
       "2018-05-01     613\n",
       "2019-01-01     576\n",
       "2016-03-01     550\n",
       "2018-04-01     547\n",
       "2016-04-01     514\n",
       "2018-01-01     498\n",
       "2018-02-01     495\n",
       "2018-06-01     488\n",
       "2016-02-01     488\n",
       "2019-02-01     479\n",
       "2016-05-01     447\n",
       "2017-03-01     447\n",
       "2016-06-01     437\n",
       "2019-03-01     435\n",
       "2017-05-01     404\n",
       "2017-06-01     393\n",
       "2016-01-01     389\n",
       "2017-04-01     368\n",
       "2018-07-01     363\n",
       "2017-02-01     352\n",
       "2018-08-01     326\n",
       "2019-05-01     298\n",
       "2018-12-01     291\n",
       "2017-01-01     288\n",
       "2018-11-01     271\n",
       "2018-10-01     215\n",
       "2017-07-01     215\n",
       "2017-11-01     168\n",
       "2016-07-01     164\n",
       "2016-10-01     152\n",
       "2019-06-01     148\n",
       "2017-10-01     146\n",
       "2017-12-01     145\n",
       "2017-09-01     138\n",
       "2016-08-01     138\n",
       "2016-11-01     137\n",
       "2016-12-01     132\n",
       "2016-09-01     132\n",
       "2018-09-01     123\n",
       "2017-08-01     107\n",
       "2019-07-01      46\n",
       "2019-11-01       9\n",
       "2019-12-01       4\n",
       "2019-09-01       4\n",
       "Name: registration, dtype: int64"
      ]
     },
     "execution_count": 35,
     "metadata": {},
     "output_type": "execute_result"
    }
   ],
   "source": [
    "cars[\"registration\"].value_counts(dropna = False)"
   ]
  },
  {
   "cell_type": "code",
   "execution_count": 36,
   "metadata": {},
   "outputs": [],
   "source": [
    "cars[\"prev_owner\"][(cars[\"km\"] >= 0) & (cars[\"km\"] <= 300)] = cars[\"prev_owner\"][(cars[\"km\"] >= 0) & (cars[\"km\"] <= 300)]\\\n",
    ".fillna(\"no previous owner\") \n",
    "cars[\"prev_owner\"][cars[\"km\"] > 300] = cars[\"prev_owner\"][cars[\"km\"] > 300].fillna(\"1 previous owner\")  \n"
   ]
  },
  {
   "cell_type": "code",
   "execution_count": 37,
   "metadata": {},
   "outputs": [],
   "source": [
    "cars[\"prev_owner\"][cars.km == 0] = \"no previous owner\" # Prev_owner information has been rearranged according to km information"
   ]
  },
  {
   "cell_type": "code",
   "execution_count": 38,
   "metadata": {},
   "outputs": [
    {
     "data": {
      "text/plain": [
       "1 previous owner     11634\n",
       "no previous owner     3494\n",
       "2 previous owners      772\n",
       "3 previous owners       17\n",
       "4 previous owners        2\n",
       "Name: prev_owner, dtype: int64"
      ]
     },
     "execution_count": 38,
     "metadata": {},
     "output_type": "execute_result"
    }
   ],
   "source": [
    "cars[\"prev_owner\"].value_counts(dropna = False)"
   ]
  },
  {
   "cell_type": "code",
   "execution_count": 39,
   "metadata": {},
   "outputs": [
    {
     "data": {
      "text/plain": [
       "VAT deductible      10980\n",
       "NaN                  4513\n",
       "Price negotiable      426\n",
       "Name: vat, dtype: int64"
      ]
     },
     "execution_count": 39,
     "metadata": {},
     "output_type": "execute_result"
    }
   ],
   "source": [
    "cars[\"vat\"].value_counts(dropna = False)"
   ]
  },
  {
   "cell_type": "code",
   "execution_count": 40,
   "metadata": {},
   "outputs": [],
   "source": [
    "def fill_most(df, col):\n",
    "    \n",
    "    return df[col].fillna(method = \"bfill\", inplace = True)\n"
   ]
  },
  {
   "cell_type": "code",
   "execution_count": 41,
   "metadata": {},
   "outputs": [],
   "source": [
    "fill_most(cars, \"vat\") # In order to have a homogeneous distribution, the bfill method was used."
   ]
  },
  {
   "cell_type": "code",
   "execution_count": 42,
   "metadata": {},
   "outputs": [
    {
     "data": {
      "text/plain": [
       "VAT deductible      15083\n",
       "Price negotiable      836\n",
       "Name: vat, dtype: int64"
      ]
     },
     "execution_count": 42,
     "metadata": {},
     "output_type": "execute_result"
    }
   ],
   "source": [
    "cars[\"vat\"].value_counts()"
   ]
  },
  {
   "cell_type": "code",
   "execution_count": 43,
   "metadata": {},
   "outputs": [],
   "source": [
    "# Fuel types in fuel column simplified.\n",
    "def unique_values(item):\n",
    "    \n",
    "    x = item[1] if type(item) == list else item\n",
    "    \n",
    "    if \"electric/gasoline\" in x.lower():\n",
    "        return \"electric/gasoline\"\n",
    "    elif \"cng\" in x.lower():\n",
    "        return \"CNG\"\n",
    "    elif \"lpg\" in x.lower():\n",
    "        return \"LPG\"\n",
    "    elif \"super\" in x.lower():\n",
    "        return \"gasoline\"\n",
    "    elif \"benzine\" in x.lower(): \n",
    "        return \"gasoline\"\n",
    "    elif \"gasoline\" in x.lower():\n",
    "        return \"gasoline\"\n",
    "    elif \"diesel\" in x.lower():\n",
    "        return \"diesel\"\n",
    "    elif \"domestic\" in x.lower():\n",
    "        return \"CNG\"\n",
    "    elif \"biogas\" in x.lower():\n",
    "        return \"LPG\"\n",
    "    elif \"particulate filter\" in x.lower():\n",
    "        return \"diesel\"\n",
    "    else:\n",
    "        return x.lower()"
   ]
  },
  {
   "cell_type": "code",
   "execution_count": 44,
   "metadata": {},
   "outputs": [
    {
     "data": {
      "text/plain": [
       "gasoline             8545\n",
       "diesel               7300\n",
       "CNG                    37\n",
       "LPG                    27\n",
       "others                  5\n",
       "electric/gasoline       4\n",
       "electric                1\n",
       "Name: Fuel, dtype: int64"
      ]
     },
     "execution_count": 44,
     "metadata": {},
     "output_type": "execute_result"
    }
   ],
   "source": [
    "cars[\"Fuel\"].apply(unique_values).value_counts()"
   ]
  },
  {
   "cell_type": "code",
   "execution_count": 45,
   "metadata": {},
   "outputs": [],
   "source": [
    "cars[\"Fuel2\"] = cars[\"Fuel\"].apply(unique_values) # fuel2 column created"
   ]
  },
  {
   "cell_type": "code",
   "execution_count": 46,
   "metadata": {},
   "outputs": [
    {
     "data": {
      "text/html": [
       "<div>\n",
       "<style scoped>\n",
       "    .dataframe tbody tr th:only-of-type {\n",
       "        vertical-align: middle;\n",
       "    }\n",
       "\n",
       "    .dataframe tbody tr th {\n",
       "        vertical-align: top;\n",
       "    }\n",
       "\n",
       "    .dataframe thead th {\n",
       "        text-align: right;\n",
       "    }\n",
       "</style>\n",
       "<table border=\"1\" class=\"dataframe\">\n",
       "  <thead>\n",
       "    <tr style=\"text-align: right;\">\n",
       "      <th></th>\n",
       "      <th>make_model</th>\n",
       "      <th>short_description</th>\n",
       "      <th>body_type</th>\n",
       "      <th>price</th>\n",
       "      <th>vat</th>\n",
       "      <th>km</th>\n",
       "      <th>registration</th>\n",
       "      <th>prev_owner</th>\n",
       "      <th>hp</th>\n",
       "      <th>Warranty</th>\n",
       "      <th>...</th>\n",
       "      <th>Consumption</th>\n",
       "      <th>CO2 Emission</th>\n",
       "      <th>Emission Class</th>\n",
       "      <th>\\nComfort &amp; Convenience\\n</th>\n",
       "      <th>\\nEntertainment &amp; Media\\n</th>\n",
       "      <th>\\nExtras\\n</th>\n",
       "      <th>\\nSafety &amp; Security\\n</th>\n",
       "      <th>Gears</th>\n",
       "      <th>car_type</th>\n",
       "      <th>Fuel2</th>\n",
       "    </tr>\n",
       "  </thead>\n",
       "  <tbody>\n",
       "    <tr>\n",
       "      <th>819</th>\n",
       "      <td>Audi A1</td>\n",
       "      <td>1.4TDI Sportback /Euro6 /Navi /SHZ /PDC</td>\n",
       "      <td>Sedans</td>\n",
       "      <td>14388</td>\n",
       "      <td>VAT deductible</td>\n",
       "      <td>25684</td>\n",
       "      <td>2016-10-01</td>\n",
       "      <td>1 previous owner</td>\n",
       "      <td>66 kW</td>\n",
       "      <td>[\\n, \\n]</td>\n",
       "      <td>...</td>\n",
       "      <td>NaN</td>\n",
       "      <td>NaN</td>\n",
       "      <td>[[], [], []]</td>\n",
       "      <td>[Armrest, Cruise control, Electrical side mirr...</td>\n",
       "      <td>[Bluetooth, Hands-free equipment, On-board com...</td>\n",
       "      <td>NaN</td>\n",
       "      <td>NaN</td>\n",
       "      <td>[\\n5\\n]</td>\n",
       "      <td>Used</td>\n",
       "      <td>others</td>\n",
       "    </tr>\n",
       "    <tr>\n",
       "      <th>2885</th>\n",
       "      <td>Audi A3</td>\n",
       "      <td>SPORTBACK 1.4 TFSI G-Tron S-Tronic Adrenalin S...</td>\n",
       "      <td>Compact</td>\n",
       "      <td>16400</td>\n",
       "      <td>VAT deductible</td>\n",
       "      <td>123748</td>\n",
       "      <td>2016-04-01</td>\n",
       "      <td>1 previous owner</td>\n",
       "      <td>81 kW</td>\n",
       "      <td>NaN</td>\n",
       "      <td>...</td>\n",
       "      <td>NaN</td>\n",
       "      <td>[[], [], []]</td>\n",
       "      <td>[\\nEuro 6\\n]</td>\n",
       "      <td>[Air conditioning, Armrest, Automatic climate ...</td>\n",
       "      <td>[CD player, Hands-free equipment, On-board com...</td>\n",
       "      <td>[Alloy wheels, Sport package, Trailer hitch]</td>\n",
       "      <td>[ABS, Central door lock, Driver-side airbag, F...</td>\n",
       "      <td>[\\n7\\n]</td>\n",
       "      <td>Used</td>\n",
       "      <td>others</td>\n",
       "    </tr>\n",
       "    <tr>\n",
       "      <th>10374</th>\n",
       "      <td>Opel Corsa</td>\n",
       "      <td>1.4 GLP Selective Pro 90</td>\n",
       "      <td>Sedans</td>\n",
       "      <td>11300</td>\n",
       "      <td>VAT deductible</td>\n",
       "      <td>0</td>\n",
       "      <td>2019-05-01</td>\n",
       "      <td>no previous owner</td>\n",
       "      <td>66 kW</td>\n",
       "      <td>[\\n24 months\\n, \\n126 g CO2/km (comb)\\n]</td>\n",
       "      <td>...</td>\n",
       "      <td>[[5.1 l/100 km (comb)], [6.5 l/100 km (city)],...</td>\n",
       "      <td>[\\n126 g CO2/km (comb)\\n]</td>\n",
       "      <td>[\\nEuro 6d-TEMP\\n]</td>\n",
       "      <td>[Air conditioning, Cruise control, Electrical ...</td>\n",
       "      <td>[Bluetooth, Hands-free equipment, On-board com...</td>\n",
       "      <td>[Alloy wheels, Voice Control]</td>\n",
       "      <td>[ABS, Adaptive headlights, Central door lock w...</td>\n",
       "      <td>[\\n5\\n]</td>\n",
       "      <td>Pre-registered</td>\n",
       "      <td>others</td>\n",
       "    </tr>\n",
       "    <tr>\n",
       "      <th>11677</th>\n",
       "      <td>Opel Insignia</td>\n",
       "      <td>Edition</td>\n",
       "      <td>Other</td>\n",
       "      <td>18480</td>\n",
       "      <td>VAT deductible</td>\n",
       "      <td>14937</td>\n",
       "      <td>2018-02-01</td>\n",
       "      <td>1 previous owner</td>\n",
       "      <td>103 kW</td>\n",
       "      <td>NaN</td>\n",
       "      <td>...</td>\n",
       "      <td>NaN</td>\n",
       "      <td>NaN</td>\n",
       "      <td>[[], [], []]</td>\n",
       "      <td>[Air conditioning, Cruise control, Electrical ...</td>\n",
       "      <td>[On-board computer, Radio, USB]</td>\n",
       "      <td>[Alloy wheels, Trailer hitch]</td>\n",
       "      <td>[Central door lock, Daytime running lights, Dr...</td>\n",
       "      <td>NaN</td>\n",
       "      <td>Used</td>\n",
       "      <td>others</td>\n",
       "    </tr>\n",
       "    <tr>\n",
       "      <th>14500</th>\n",
       "      <td>Renault Clio</td>\n",
       "      <td>TCe Energy GLP Limited 66kW 90CV</td>\n",
       "      <td>Sedans</td>\n",
       "      <td>10800</td>\n",
       "      <td>VAT deductible</td>\n",
       "      <td>13000</td>\n",
       "      <td>2018-06-01</td>\n",
       "      <td>1 previous owner</td>\n",
       "      <td>66 kW</td>\n",
       "      <td>[\\n12 months\\n, \\nEuro 6d-TEMP\\n]</td>\n",
       "      <td>...</td>\n",
       "      <td>[[4.7 l/100 km (comb)], [5.7 l/100 km (city)],...</td>\n",
       "      <td>[\\n108 g CO2/km (comb)\\n]</td>\n",
       "      <td>[\\nEuro 6d-TEMP\\n]</td>\n",
       "      <td>[Air conditioning, Automatic climate control, ...</td>\n",
       "      <td>[Bluetooth, Hands-free equipment, Radio, Sound...</td>\n",
       "      <td>[Alloy wheels, Touch screen]</td>\n",
       "      <td>[ABS, Central door lock with remote control, D...</td>\n",
       "      <td>[\\n5\\n]</td>\n",
       "      <td>Employee's</td>\n",
       "      <td>others</td>\n",
       "    </tr>\n",
       "  </tbody>\n",
       "</table>\n",
       "<p>5 rows × 31 columns</p>\n",
       "</div>"
      ],
      "text/plain": [
       "          make_model                                  short_description  \\\n",
       "819          Audi A1            1.4TDI Sportback /Euro6 /Navi /SHZ /PDC   \n",
       "2885         Audi A3  SPORTBACK 1.4 TFSI G-Tron S-Tronic Adrenalin S...   \n",
       "10374     Opel Corsa                           1.4 GLP Selective Pro 90   \n",
       "11677  Opel Insignia                                            Edition   \n",
       "14500   Renault Clio                   TCe Energy GLP Limited 66kW 90CV   \n",
       "\n",
       "      body_type  price             vat      km registration  \\\n",
       "819      Sedans  14388  VAT deductible   25684   2016-10-01   \n",
       "2885    Compact  16400  VAT deductible  123748   2016-04-01   \n",
       "10374    Sedans  11300  VAT deductible       0   2019-05-01   \n",
       "11677     Other  18480  VAT deductible   14937   2018-02-01   \n",
       "14500    Sedans  10800  VAT deductible   13000   2018-06-01   \n",
       "\n",
       "              prev_owner      hp                                  Warranty  \\\n",
       "819     1 previous owner   66 kW                                  [\\n, \\n]   \n",
       "2885    1 previous owner   81 kW                                       NaN   \n",
       "10374  no previous owner   66 kW  [\\n24 months\\n, \\n126 g CO2/km (comb)\\n]   \n",
       "11677   1 previous owner  103 kW                                       NaN   \n",
       "14500   1 previous owner   66 kW         [\\n12 months\\n, \\nEuro 6d-TEMP\\n]   \n",
       "\n",
       "       ...                                        Consumption  \\\n",
       "819    ...                                                NaN   \n",
       "2885   ...                                                NaN   \n",
       "10374  ...  [[5.1 l/100 km (comb)], [6.5 l/100 km (city)],...   \n",
       "11677  ...                                                NaN   \n",
       "14500  ...  [[4.7 l/100 km (comb)], [5.7 l/100 km (city)],...   \n",
       "\n",
       "                    CO2 Emission      Emission Class  \\\n",
       "819                          NaN        [[], [], []]   \n",
       "2885                [[], [], []]        [\\nEuro 6\\n]   \n",
       "10374  [\\n126 g CO2/km (comb)\\n]  [\\nEuro 6d-TEMP\\n]   \n",
       "11677                        NaN        [[], [], []]   \n",
       "14500  [\\n108 g CO2/km (comb)\\n]  [\\nEuro 6d-TEMP\\n]   \n",
       "\n",
       "                               \\nComfort & Convenience\\n  \\\n",
       "819    [Armrest, Cruise control, Electrical side mirr...   \n",
       "2885   [Air conditioning, Armrest, Automatic climate ...   \n",
       "10374  [Air conditioning, Cruise control, Electrical ...   \n",
       "11677  [Air conditioning, Cruise control, Electrical ...   \n",
       "14500  [Air conditioning, Automatic climate control, ...   \n",
       "\n",
       "                               \\nEntertainment & Media\\n  \\\n",
       "819    [Bluetooth, Hands-free equipment, On-board com...   \n",
       "2885   [CD player, Hands-free equipment, On-board com...   \n",
       "10374  [Bluetooth, Hands-free equipment, On-board com...   \n",
       "11677                    [On-board computer, Radio, USB]   \n",
       "14500  [Bluetooth, Hands-free equipment, Radio, Sound...   \n",
       "\n",
       "                                         \\nExtras\\n  \\\n",
       "819                                             NaN   \n",
       "2885   [Alloy wheels, Sport package, Trailer hitch]   \n",
       "10374                 [Alloy wheels, Voice Control]   \n",
       "11677                 [Alloy wheels, Trailer hitch]   \n",
       "14500                  [Alloy wheels, Touch screen]   \n",
       "\n",
       "                                   \\nSafety & Security\\n    Gears  \\\n",
       "819                                                  NaN  [\\n5\\n]   \n",
       "2885   [ABS, Central door lock, Driver-side airbag, F...  [\\n7\\n]   \n",
       "10374  [ABS, Adaptive headlights, Central door lock w...  [\\n5\\n]   \n",
       "11677  [Central door lock, Daytime running lights, Dr...      NaN   \n",
       "14500  [ABS, Central door lock with remote control, D...  [\\n5\\n]   \n",
       "\n",
       "             car_type   Fuel2  \n",
       "819              Used  others  \n",
       "2885             Used  others  \n",
       "10374  Pre-registered  others  \n",
       "11677            Used  others  \n",
       "14500      Employee's  others  \n",
       "\n",
       "[5 rows x 31 columns]"
      ]
     },
     "execution_count": 46,
     "metadata": {},
     "output_type": "execute_result"
    }
   ],
   "source": [
    "cars.loc[(cars[\"Fuel2\"] == \"others\")].head() # 1 diesel, 4 gasoline according to short_description"
   ]
  },
  {
   "cell_type": "code",
   "execution_count": 47,
   "metadata": {},
   "outputs": [],
   "source": [
    "cars.loc[(cars[\"Fuel2\"] == \"others\"), \"Fuel2\"] = [\"diesel\", \"gasoline\", \"gasoline\", \"gasoline\", \"gasoline\"]\n",
    "# 1 diesel, 4 gasoline according to short_description"
   ]
  },
  {
   "cell_type": "code",
   "execution_count": 48,
   "metadata": {},
   "outputs": [],
   "source": [
    "cars.drop(\"Fuel\", axis = 1, inplace = True) # Since we no longer need the fuelcolumn, we drop it."
   ]
  },
  {
   "cell_type": "code",
   "execution_count": 49,
   "metadata": {},
   "outputs": [
    {
     "data": {
      "text/html": [
       "<div>\n",
       "<style scoped>\n",
       "    .dataframe tbody tr th:only-of-type {\n",
       "        vertical-align: middle;\n",
       "    }\n",
       "\n",
       "    .dataframe tbody tr th {\n",
       "        vertical-align: top;\n",
       "    }\n",
       "\n",
       "    .dataframe thead th {\n",
       "        text-align: right;\n",
       "    }\n",
       "</style>\n",
       "<table border=\"1\" class=\"dataframe\">\n",
       "  <thead>\n",
       "    <tr style=\"text-align: right;\">\n",
       "      <th></th>\n",
       "      <th>make_model</th>\n",
       "      <th>short_description</th>\n",
       "      <th>body_type</th>\n",
       "      <th>price</th>\n",
       "      <th>vat</th>\n",
       "      <th>km</th>\n",
       "      <th>registration</th>\n",
       "      <th>prev_owner</th>\n",
       "      <th>hp</th>\n",
       "      <th>Warranty</th>\n",
       "      <th>...</th>\n",
       "      <th>Consumption</th>\n",
       "      <th>CO2 Emission</th>\n",
       "      <th>Emission Class</th>\n",
       "      <th>\\nComfort &amp; Convenience\\n</th>\n",
       "      <th>\\nEntertainment &amp; Media\\n</th>\n",
       "      <th>\\nExtras\\n</th>\n",
       "      <th>\\nSafety &amp; Security\\n</th>\n",
       "      <th>Gears</th>\n",
       "      <th>car_type</th>\n",
       "      <th>Fuel2</th>\n",
       "    </tr>\n",
       "  </thead>\n",
       "  <tbody>\n",
       "    <tr>\n",
       "      <th>0</th>\n",
       "      <td>Audi A1</td>\n",
       "      <td>Sportback 1.4 TDI S-tronic Xenon Navi Klima</td>\n",
       "      <td>Sedans</td>\n",
       "      <td>15770</td>\n",
       "      <td>VAT deductible</td>\n",
       "      <td>56013</td>\n",
       "      <td>2016-01-01</td>\n",
       "      <td>2 previous owners</td>\n",
       "      <td>66 kW</td>\n",
       "      <td>[\\n, \\n, \\n4 (Green)\\n]</td>\n",
       "      <td>...</td>\n",
       "      <td>[[3.8 l/100 km (comb)], [4.3 l/100 km (city)],...</td>\n",
       "      <td>[\\n99 g CO2/km (comb)\\n]</td>\n",
       "      <td>[\\nEuro 6\\n]</td>\n",
       "      <td>[Air conditioning, Armrest, Automatic climate ...</td>\n",
       "      <td>[Bluetooth, Hands-free equipment, On-board com...</td>\n",
       "      <td>[Alloy wheels, Catalytic Converter, Voice Cont...</td>\n",
       "      <td>[ABS, Central door lock, Daytime running light...</td>\n",
       "      <td>NaN</td>\n",
       "      <td>Used</td>\n",
       "      <td>diesel</td>\n",
       "    </tr>\n",
       "  </tbody>\n",
       "</table>\n",
       "<p>1 rows × 30 columns</p>\n",
       "</div>"
      ],
      "text/plain": [
       "  make_model                            short_description body_type  price  \\\n",
       "0    Audi A1  Sportback 1.4 TDI S-tronic Xenon Navi Klima    Sedans  15770   \n",
       "\n",
       "              vat     km registration         prev_owner     hp  \\\n",
       "0  VAT deductible  56013   2016-01-01  2 previous owners  66 kW   \n",
       "\n",
       "                  Warranty  ...  \\\n",
       "0  [\\n, \\n, \\n4 (Green)\\n]  ...   \n",
       "\n",
       "                                         Consumption  \\\n",
       "0  [[3.8 l/100 km (comb)], [4.3 l/100 km (city)],...   \n",
       "\n",
       "               CO2 Emission Emission Class  \\\n",
       "0  [\\n99 g CO2/km (comb)\\n]   [\\nEuro 6\\n]   \n",
       "\n",
       "                           \\nComfort & Convenience\\n  \\\n",
       "0  [Air conditioning, Armrest, Automatic climate ...   \n",
       "\n",
       "                           \\nEntertainment & Media\\n  \\\n",
       "0  [Bluetooth, Hands-free equipment, On-board com...   \n",
       "\n",
       "                                          \\nExtras\\n  \\\n",
       "0  [Alloy wheels, Catalytic Converter, Voice Cont...   \n",
       "\n",
       "                               \\nSafety & Security\\n Gears car_type   Fuel2  \n",
       "0  [ABS, Central door lock, Daytime running light...   NaN     Used  diesel  \n",
       "\n",
       "[1 rows x 30 columns]"
      ]
     },
     "execution_count": 49,
     "metadata": {},
     "output_type": "execute_result"
    }
   ],
   "source": [
    "cars.head(1)"
   ]
  },
  {
   "cell_type": "code",
   "execution_count": null,
   "metadata": {},
   "outputs": [],
   "source": []
  },
  {
   "cell_type": "code",
   "execution_count": 50,
   "metadata": {},
   "outputs": [
    {
     "data": {
      "text/plain": [
       "13158     - kW\n",
       "15472     - kW\n",
       "15439     - kW\n",
       "11183     - kW\n",
       "15438     - kW\n",
       "         ...  \n",
       "15318    96 kW\n",
       "15330    96 kW\n",
       "15384    98 kW\n",
       "15382    98 kW\n",
       "15376    98 kW\n",
       "Name: hp, Length: 15919, dtype: object"
      ]
     },
     "execution_count": 50,
     "metadata": {},
     "output_type": "execute_result"
    }
   ],
   "source": [
    "cars[\"hp\"].sort_values()"
   ]
  },
  {
   "cell_type": "code",
   "execution_count": 51,
   "metadata": {},
   "outputs": [
    {
     "data": {
      "text/plain": [
       "1269    NaN\n",
       "2500    NaN\n",
       "4259    NaN\n",
       "7177    NaN\n",
       "7670    NaN\n",
       "         ..\n",
       "15641   NaN\n",
       "15647   NaN\n",
       "15684   NaN\n",
       "15791   NaN\n",
       "15906   NaN\n",
       "Name: hp, Length: 88, dtype: float64"
      ]
     },
     "execution_count": 51,
     "metadata": {},
     "output_type": "execute_result"
    }
   ],
   "source": [
    "cars[\"hp\"][cars[\"hp\"] == \"- kW\"].replace(\"- kW\", np.nan)"
   ]
  },
  {
   "cell_type": "code",
   "execution_count": 52,
   "metadata": {},
   "outputs": [
    {
     "data": {
      "text/plain": [
       "0"
      ]
     },
     "execution_count": 52,
     "metadata": {},
     "output_type": "execute_result"
    }
   ],
   "source": [
    "cars[\"hp\"].isnull().sum()"
   ]
  },
  {
   "cell_type": "code",
   "execution_count": 53,
   "metadata": {},
   "outputs": [],
   "source": [
    "cars[\"hp\"][cars[\"hp\"] == \"- kW\"] = cars[\"hp\"][cars[\"hp\"] == \"- kW\"].replace(\"- kW\", np.nan)"
   ]
  },
  {
   "cell_type": "code",
   "execution_count": 54,
   "metadata": {},
   "outputs": [],
   "source": [
    "def fill_most(df, model, col):\n",
    "    \n",
    "    x = df[col][df[\"make_model\"] == model].mode()\n",
    "    df[col][df[\"make_model\"] == model] = df[col][df[\"make_model\"] == model].fillna(method = \"ffill\")\n",
    "    df[col][df[\"make_model\"] == model] = df[col][df[\"make_model\"] == model].fillna(x[0])\n",
    "    return df[col][df[\"make_model\"] == model]"
   ]
  },
  {
   "cell_type": "code",
   "execution_count": 55,
   "metadata": {},
   "outputs": [],
   "source": [
    "for i in cars[\"make_model\"].unique():\n",
    "    fill_most(cars, i, \"hp\")"
   ]
  },
  {
   "cell_type": "code",
   "execution_count": 56,
   "metadata": {},
   "outputs": [
    {
     "data": {
      "text/plain": [
       "85 kW     2544\n",
       "66 kW     2130\n",
       "81 kW     1402\n",
       "100 kW    1309\n",
       "110 kW    1114\n",
       "          ... \n",
       "115 kW       1\n",
       "44 kW        1\n",
       "4 kW         1\n",
       "9 kW         1\n",
       "195 kW       1\n",
       "Name: hp, Length: 80, dtype: int64"
      ]
     },
     "execution_count": 56,
     "metadata": {},
     "output_type": "execute_result"
    }
   ],
   "source": [
    "cars.hp.value_counts(dropna = False)"
   ]
  },
  {
   "cell_type": "code",
   "execution_count": 57,
   "metadata": {},
   "outputs": [],
   "source": [
    "cars[\"hp\"].str.extract(\"(\\d*)\") # the numeric values are extracted\n",
    "cars[\"hp\"] = cars[\"hp\"].str.extract(\"(\\d*)\")\n",
    "cars[\"hp\"] = cars[\"hp\"].astype(\"int\")"
   ]
  },
  {
   "cell_type": "code",
   "execution_count": 58,
   "metadata": {},
   "outputs": [
    {
     "data": {
      "text/plain": [
       "0     66\n",
       "1    141\n",
       "2     85\n",
       "3     66\n",
       "4     66\n",
       "Name: hp, dtype: int32"
      ]
     },
     "execution_count": 58,
     "metadata": {},
     "output_type": "execute_result"
    }
   ],
   "source": [
    "cars[\"hp\"].head()"
   ]
  },
  {
   "cell_type": "code",
   "execution_count": 59,
   "metadata": {},
   "outputs": [
    {
     "data": {
      "text/html": [
       "<div>\n",
       "<style scoped>\n",
       "    .dataframe tbody tr th:only-of-type {\n",
       "        vertical-align: middle;\n",
       "    }\n",
       "\n",
       "    .dataframe tbody tr th {\n",
       "        vertical-align: top;\n",
       "    }\n",
       "\n",
       "    .dataframe thead th {\n",
       "        text-align: right;\n",
       "    }\n",
       "</style>\n",
       "<table border=\"1\" class=\"dataframe\">\n",
       "  <thead>\n",
       "    <tr style=\"text-align: right;\">\n",
       "      <th></th>\n",
       "      <th>make_model</th>\n",
       "      <th>short_description</th>\n",
       "      <th>body_type</th>\n",
       "      <th>price</th>\n",
       "      <th>vat</th>\n",
       "      <th>km</th>\n",
       "      <th>registration</th>\n",
       "      <th>prev_owner</th>\n",
       "      <th>hp</th>\n",
       "      <th>Warranty</th>\n",
       "      <th>...</th>\n",
       "      <th>Consumption</th>\n",
       "      <th>CO2 Emission</th>\n",
       "      <th>Emission Class</th>\n",
       "      <th>\\nComfort &amp; Convenience\\n</th>\n",
       "      <th>\\nEntertainment &amp; Media\\n</th>\n",
       "      <th>\\nExtras\\n</th>\n",
       "      <th>\\nSafety &amp; Security\\n</th>\n",
       "      <th>Gears</th>\n",
       "      <th>car_type</th>\n",
       "      <th>Fuel2</th>\n",
       "    </tr>\n",
       "  </thead>\n",
       "  <tbody>\n",
       "    <tr>\n",
       "      <th>0</th>\n",
       "      <td>Audi A1</td>\n",
       "      <td>Sportback 1.4 TDI S-tronic Xenon Navi Klima</td>\n",
       "      <td>Sedans</td>\n",
       "      <td>15770</td>\n",
       "      <td>VAT deductible</td>\n",
       "      <td>56013</td>\n",
       "      <td>2016-01-01</td>\n",
       "      <td>2 previous owners</td>\n",
       "      <td>66</td>\n",
       "      <td>[\\n, \\n, \\n4 (Green)\\n]</td>\n",
       "      <td>...</td>\n",
       "      <td>[[3.8 l/100 km (comb)], [4.3 l/100 km (city)],...</td>\n",
       "      <td>[\\n99 g CO2/km (comb)\\n]</td>\n",
       "      <td>[\\nEuro 6\\n]</td>\n",
       "      <td>[Air conditioning, Armrest, Automatic climate ...</td>\n",
       "      <td>[Bluetooth, Hands-free equipment, On-board com...</td>\n",
       "      <td>[Alloy wheels, Catalytic Converter, Voice Cont...</td>\n",
       "      <td>[ABS, Central door lock, Daytime running light...</td>\n",
       "      <td>NaN</td>\n",
       "      <td>Used</td>\n",
       "      <td>diesel</td>\n",
       "    </tr>\n",
       "  </tbody>\n",
       "</table>\n",
       "<p>1 rows × 30 columns</p>\n",
       "</div>"
      ],
      "text/plain": [
       "  make_model                            short_description body_type  price  \\\n",
       "0    Audi A1  Sportback 1.4 TDI S-tronic Xenon Navi Klima    Sedans  15770   \n",
       "\n",
       "              vat     km registration         prev_owner  hp  \\\n",
       "0  VAT deductible  56013   2016-01-01  2 previous owners  66   \n",
       "\n",
       "                  Warranty  ...  \\\n",
       "0  [\\n, \\n, \\n4 (Green)\\n]  ...   \n",
       "\n",
       "                                         Consumption  \\\n",
       "0  [[3.8 l/100 km (comb)], [4.3 l/100 km (city)],...   \n",
       "\n",
       "               CO2 Emission Emission Class  \\\n",
       "0  [\\n99 g CO2/km (comb)\\n]   [\\nEuro 6\\n]   \n",
       "\n",
       "                           \\nComfort & Convenience\\n  \\\n",
       "0  [Air conditioning, Armrest, Automatic climate ...   \n",
       "\n",
       "                           \\nEntertainment & Media\\n  \\\n",
       "0  [Bluetooth, Hands-free equipment, On-board com...   \n",
       "\n",
       "                                          \\nExtras\\n  \\\n",
       "0  [Alloy wheels, Catalytic Converter, Voice Cont...   \n",
       "\n",
       "                               \\nSafety & Security\\n Gears car_type   Fuel2  \n",
       "0  [ABS, Central door lock, Daytime running light...   NaN     Used  diesel  \n",
       "\n",
       "[1 rows x 30 columns]"
      ]
     },
     "execution_count": 59,
     "metadata": {},
     "output_type": "execute_result"
    }
   ],
   "source": [
    "cars.head(1)"
   ]
  },
  {
   "cell_type": "code",
   "execution_count": 60,
   "metadata": {},
   "outputs": [],
   "source": [
    "def unique_values(item):\n",
    "    \n",
    "    if type(item) == list:\n",
    "        return \", \".join(item).strip(\",\").split()\n",
    "        \n",
    "    else:\n",
    "        return str(item).strip(\",\").split()"
   ]
  },
  {
   "cell_type": "code",
   "execution_count": 61,
   "metadata": {},
   "outputs": [
    {
     "data": {
      "text/plain": [
       "0         0\n",
       "1         0\n",
       "2         0\n",
       "3         0\n",
       "4         0\n",
       "         ..\n",
       "15914    24\n",
       "15915     0\n",
       "15916     0\n",
       "15917     0\n",
       "15918     0\n",
       "Name: Warranty, Length: 15919, dtype: object"
      ]
     },
     "execution_count": 61,
     "metadata": {},
     "output_type": "execute_result"
    }
   ],
   "source": [
    "cars.Warranty.apply(unique_values).str[0].str.replace(\"nan\", \"0\").str.replace(\",\", \"0\").fillna(\"0\")"
   ]
  },
  {
   "cell_type": "code",
   "execution_count": 62,
   "metadata": {},
   "outputs": [],
   "source": [
    "cars.Warranty = cars.Warranty.apply(unique_values).str[0].str.replace(\"nan\", \"0\").str.replace(\",\", \"0\").fillna(\"0\")\n",
    "# \"0\" assigned to nan and \",\" "
   ]
  },
  {
   "cell_type": "code",
   "execution_count": 63,
   "metadata": {},
   "outputs": [],
   "source": [
    "cars[\"Warranty\"] = cars[\"Warranty\"].astype(\"int\") # returned int."
   ]
  },
  {
   "cell_type": "code",
   "execution_count": 64,
   "metadata": {},
   "outputs": [
    {
     "data": {
      "text/plain": [
       "122       0\n",
       "710      24\n",
       "734       0\n",
       "741      36\n",
       "743       0\n",
       "         ..\n",
       "15892     0\n",
       "15902     0\n",
       "15907    36\n",
       "15912    24\n",
       "15914    24\n",
       "Name: Warranty, Length: 1651, dtype: int32"
      ]
     },
     "execution_count": 64,
     "metadata": {},
     "output_type": "execute_result"
    }
   ],
   "source": [
    "cars.loc[cars[\"car_type\"] == \"New\", \"Warranty\"]"
   ]
  },
  {
   "cell_type": "code",
   "execution_count": 65,
   "metadata": {},
   "outputs": [],
   "source": [
    "cars.loc[cars[\"car_type\"] == \"New\", \"Warranty\"] = 36 \n",
    "# Considering that the warranty for new cars is 36 months on average, the warranty for all new cars has been \n",
    "# assigned as 36 months."
   ]
  },
  {
   "cell_type": "code",
   "execution_count": 66,
   "metadata": {},
   "outputs": [
    {
     "data": {
      "text/plain": [
       "122      36\n",
       "710      36\n",
       "734      36\n",
       "741      36\n",
       "743      36\n",
       "         ..\n",
       "15892    36\n",
       "15902    36\n",
       "15907    36\n",
       "15912    36\n",
       "15914    36\n",
       "Name: Warranty, Length: 1651, dtype: int32"
      ]
     },
     "execution_count": 66,
     "metadata": {},
     "output_type": "execute_result"
    }
   ],
   "source": [
    "cars.loc[cars[\"car_type\"] == \"New\", \"Warranty\"]"
   ]
  },
  {
   "cell_type": "code",
   "execution_count": 67,
   "metadata": {},
   "outputs": [],
   "source": [
    "# 36 months are assigned as a guarantee for all cars with a km of less than 500, registered in 2019\n",
    "# No perivious owner is assigned as prev_owner\n",
    "# new is assigned as car_type"
   ]
  },
  {
   "cell_type": "code",
   "execution_count": 68,
   "metadata": {},
   "outputs": [],
   "source": [
    "cars.loc[((cars[\"registration\"] >= pd.Timestamp('2019-01-01')) & (cars[\"registration\"] <= pd.Timestamp('2019-12-01'))\\\n",
    "    &(cars[\"Warranty\"] == 0) & (cars[\"car_type\"] == \"Used\") & (cars[\"km\"] < 500)), \"Warranty\"] = 36"
   ]
  },
  {
   "cell_type": "code",
   "execution_count": 69,
   "metadata": {},
   "outputs": [],
   "source": [
    "cars.loc[((cars[\"registration\"] >= pd.Timestamp('2019-01-01')) & (cars[\"registration\"] <= pd.Timestamp('2019-12-01'))\\\n",
    "    &(cars[\"Warranty\"] == 36) & (cars[\"car_type\"] == \"Used\") & (cars[\"km\"] < 500)), \"prev_owner\"] = \"no previous owner\""
   ]
  },
  {
   "cell_type": "code",
   "execution_count": 70,
   "metadata": {},
   "outputs": [],
   "source": [
    "cars.loc[((cars[\"registration\"] >= pd.Timestamp('2019-01-01')) & (cars[\"registration\"] <= pd.Timestamp('2019-12-01'))\\\n",
    "    &(cars[\"Warranty\"] == 36) & (cars[\"car_type\"] == \"Used\") & (cars[\"km\"] < 500)), \"car_type\"] = \"New\""
   ]
  },
  {
   "cell_type": "code",
   "execution_count": 71,
   "metadata": {},
   "outputs": [],
   "source": [
    "cars.loc[((cars[\"registration\"] >= pd.Timestamp('2018-01-01')) & (cars[\"registration\"] <= pd.Timestamp('2018-12-01'))\\\n",
    "    &(cars[\"Warranty\"] == 0) & (cars[\"car_type\"] == \"Used\") & (cars[\"km\"] < 500)), \"Warranty\"] = 36"
   ]
  },
  {
   "cell_type": "code",
   "execution_count": 72,
   "metadata": {},
   "outputs": [],
   "source": [
    "cars.loc[((cars[\"registration\"] >= pd.Timestamp('2018-01-01')) & (cars[\"registration\"] <= pd.Timestamp('2018-12-01'))\\\n",
    "    &(cars[\"Warranty\"] == 36) & (cars[\"car_type\"] == \"Used\") & (cars[\"km\"] < 500)), \"prev_owner\"] = \"no previous owner\""
   ]
  },
  {
   "cell_type": "code",
   "execution_count": 73,
   "metadata": {},
   "outputs": [],
   "source": [
    "cars.loc[((cars[\"registration\"] >= pd.Timestamp('2018-01-01')) & (cars[\"registration\"] <= pd.Timestamp('2018-12-01'))\\\n",
    "    &(cars[\"Warranty\"] == 36) & (cars[\"car_type\"] == \"Used\") & (cars[\"km\"] < 500)), \"car_type\"] = \"New\""
   ]
  },
  {
   "cell_type": "code",
   "execution_count": 74,
   "metadata": {},
   "outputs": [
    {
     "data": {
      "text/html": [
       "<div>\n",
       "<style scoped>\n",
       "    .dataframe tbody tr th:only-of-type {\n",
       "        vertical-align: middle;\n",
       "    }\n",
       "\n",
       "    .dataframe tbody tr th {\n",
       "        vertical-align: top;\n",
       "    }\n",
       "\n",
       "    .dataframe thead th {\n",
       "        text-align: right;\n",
       "    }\n",
       "</style>\n",
       "<table border=\"1\" class=\"dataframe\">\n",
       "  <thead>\n",
       "    <tr style=\"text-align: right;\">\n",
       "      <th></th>\n",
       "      <th>Warranty</th>\n",
       "      <th>Body Color</th>\n",
       "      <th>Paint Type</th>\n",
       "      <th>Upholstery</th>\n",
       "      <th>Nr. of Doors</th>\n",
       "      <th>Nr. of Seats</th>\n",
       "      <th>Gearing Type</th>\n",
       "      <th>Displacement</th>\n",
       "      <th>Cylinders</th>\n",
       "      <th>Weight</th>\n",
       "      <th>...</th>\n",
       "      <th>Consumption</th>\n",
       "      <th>CO2 Emission</th>\n",
       "      <th>Emission Class</th>\n",
       "      <th>\\nComfort &amp; Convenience\\n</th>\n",
       "      <th>\\nEntertainment &amp; Media\\n</th>\n",
       "      <th>\\nExtras\\n</th>\n",
       "      <th>\\nSafety &amp; Security\\n</th>\n",
       "      <th>Gears</th>\n",
       "      <th>car_type</th>\n",
       "      <th>Fuel2</th>\n",
       "    </tr>\n",
       "  </thead>\n",
       "  <tbody>\n",
       "    <tr>\n",
       "      <th>0</th>\n",
       "      <td>0</td>\n",
       "      <td>[\\n, Black, \\n]</td>\n",
       "      <td>[\\nMetallic\\n]</td>\n",
       "      <td>[\\nCloth, Black\\n]</td>\n",
       "      <td>[\\n5\\n]</td>\n",
       "      <td>[\\n5\\n]</td>\n",
       "      <td>[\\n, Automatic, \\n]</td>\n",
       "      <td>[\\n1,422 cc\\n]</td>\n",
       "      <td>[\\n3\\n]</td>\n",
       "      <td>[\\n1,220 kg\\n]</td>\n",
       "      <td>...</td>\n",
       "      <td>[[3.8 l/100 km (comb)], [4.3 l/100 km (city)],...</td>\n",
       "      <td>[\\n99 g CO2/km (comb)\\n]</td>\n",
       "      <td>[\\nEuro 6\\n]</td>\n",
       "      <td>[Air conditioning, Armrest, Automatic climate ...</td>\n",
       "      <td>[Bluetooth, Hands-free equipment, On-board com...</td>\n",
       "      <td>[Alloy wheels, Catalytic Converter, Voice Cont...</td>\n",
       "      <td>[ABS, Central door lock, Daytime running light...</td>\n",
       "      <td>NaN</td>\n",
       "      <td>Used</td>\n",
       "      <td>diesel</td>\n",
       "    </tr>\n",
       "  </tbody>\n",
       "</table>\n",
       "<p>1 rows × 21 columns</p>\n",
       "</div>"
      ],
      "text/plain": [
       "   Warranty       Body Color      Paint Type          Upholstery Nr. of Doors  \\\n",
       "0         0  [\\n, Black, \\n]  [\\nMetallic\\n]  [\\nCloth, Black\\n]      [\\n5\\n]   \n",
       "\n",
       "  Nr. of Seats         Gearing Type    Displacement Cylinders          Weight  \\\n",
       "0      [\\n5\\n]  [\\n, Automatic, \\n]  [\\n1,422 cc\\n]   [\\n3\\n]  [\\n1,220 kg\\n]   \n",
       "\n",
       "   ...                                        Consumption  \\\n",
       "0  ...  [[3.8 l/100 km (comb)], [4.3 l/100 km (city)],...   \n",
       "\n",
       "               CO2 Emission Emission Class  \\\n",
       "0  [\\n99 g CO2/km (comb)\\n]   [\\nEuro 6\\n]   \n",
       "\n",
       "                           \\nComfort & Convenience\\n  \\\n",
       "0  [Air conditioning, Armrest, Automatic climate ...   \n",
       "\n",
       "                           \\nEntertainment & Media\\n  \\\n",
       "0  [Bluetooth, Hands-free equipment, On-board com...   \n",
       "\n",
       "                                          \\nExtras\\n  \\\n",
       "0  [Alloy wheels, Catalytic Converter, Voice Cont...   \n",
       "\n",
       "                               \\nSafety & Security\\n Gears car_type   Fuel2  \n",
       "0  [ABS, Central door lock, Daytime running light...   NaN     Used  diesel  \n",
       "\n",
       "[1 rows x 21 columns]"
      ]
     },
     "execution_count": 74,
     "metadata": {},
     "output_type": "execute_result"
    }
   ],
   "source": [
    "cars.loc[:, \"Warranty\":].head(1)"
   ]
  },
  {
   "cell_type": "code",
   "execution_count": 75,
   "metadata": {},
   "outputs": [
    {
     "ename": "TypeError",
     "evalue": "unhashable type: 'list'",
     "output_type": "error",
     "traceback": [
      "\u001b[1;31m---------------------------------------------------------------------------\u001b[0m",
      "\u001b[1;31mTypeError\u001b[0m                                 Traceback (most recent call last)",
      "\u001b[1;32mpandas\\_libs\\hashtable_class_helper.pxi\u001b[0m in \u001b[0;36mpandas._libs.hashtable.PyObjectHashTable.map_locations\u001b[1;34m()\u001b[0m\n",
      "\u001b[1;31mTypeError\u001b[0m: unhashable type: 'list'"
     ]
    },
    {
     "name": "stderr",
     "output_type": "stream",
     "text": [
      "Exception ignored in: 'pandas._libs.index.IndexEngine._call_map_locations'\n",
      "Traceback (most recent call last):\n",
      "  File \"pandas\\_libs\\hashtable_class_helper.pxi\", line 1709, in pandas._libs.hashtable.PyObjectHashTable.map_locations\n",
      "TypeError: unhashable type: 'list'\n"
     ]
    },
    {
     "data": {
      "text/plain": [
       "[\\n, Black, \\n]     3745\n",
       "[\\n, Grey, \\n]      3505\n",
       "[\\n, White, \\n]     3406\n",
       "[\\n, Silver, \\n]    1647\n",
       "[\\n, Blue, \\n]      1431\n",
       "[\\n, Red, \\n]        957\n",
       "NaN                  597\n",
       "[\\n, Brown, \\n]      289\n",
       "[\\n, Green, \\n]      154\n",
       "[\\n, Beige, \\n]      108\n",
       "[\\n, Yellow, \\n]      51\n",
       "[\\n, Violet, \\n]      18\n",
       "[\\n, Bronze, \\n]       6\n",
       "[\\n, Orange, \\n]       3\n",
       "[\\n, Gold, \\n]         2\n",
       "Name: Body Color, dtype: int64"
      ]
     },
     "execution_count": 75,
     "metadata": {},
     "output_type": "execute_result"
    }
   ],
   "source": [
    "cars[\"Body Color\"].value_counts(dropna = False)"
   ]
  },
  {
   "cell_type": "code",
   "execution_count": 76,
   "metadata": {},
   "outputs": [],
   "source": [
    "def unique_values(item):\n",
    "    \n",
    "    if type(item) == list:\n",
    "        return \", \".join(item).strip(\"\\n,\").split()\n",
    "        \n",
    "    else:\n",
    "        return item"
   ]
  },
  {
   "cell_type": "code",
   "execution_count": 77,
   "metadata": {},
   "outputs": [
    {
     "data": {
      "text/plain": [
       "0        Black\n",
       "1          Red\n",
       "2        Black\n",
       "3        Brown\n",
       "4        Black\n",
       "         ...  \n",
       "15914     Grey\n",
       "15915     Grey\n",
       "15916    White\n",
       "15917     Grey\n",
       "15918     Grey\n",
       "Name: Body Color, Length: 15919, dtype: object"
      ]
     },
     "execution_count": 77,
     "metadata": {},
     "output_type": "execute_result"
    }
   ],
   "source": [
    "cars[\"Body Color\"].apply(unique_values).str[0].str.replace(\",\", \"\")"
   ]
  },
  {
   "cell_type": "code",
   "execution_count": 78,
   "metadata": {},
   "outputs": [],
   "source": [
    "cars[\"Body Color\"] = cars[\"Body Color\"].apply(unique_values).str[0].str.replace(\",\", \"\")"
   ]
  },
  {
   "cell_type": "code",
   "execution_count": 79,
   "metadata": {},
   "outputs": [
    {
     "data": {
      "text/plain": [
       "Black     3745\n",
       "Grey      3505\n",
       "White     3406\n",
       "Silver    1647\n",
       "Blue      1431\n",
       "Red        957\n",
       "NaN        597\n",
       "Brown      289\n",
       "Green      154\n",
       "Beige      108\n",
       "Yellow      51\n",
       "Violet      18\n",
       "Bronze       6\n",
       "Orange       3\n",
       "Gold         2\n",
       "Name: Body Color, dtype: int64"
      ]
     },
     "execution_count": 79,
     "metadata": {},
     "output_type": "execute_result"
    }
   ],
   "source": [
    "cars[\"Body Color\"].value_counts(dropna = False)"
   ]
  },
  {
   "cell_type": "code",
   "execution_count": 80,
   "metadata": {},
   "outputs": [],
   "source": [
    "def fill_most(df, model, col):\n",
    "    \n",
    "    x = df[col][df[\"make_model\"] == model].mode()\n",
    "    df[col][df[\"make_model\"] == model] = df[col][df[\"make_model\"] == model].fillna(method = \"ffill\")\n",
    "    df[col][df[\"make_model\"] == model] = df[col][df[\"make_model\"] == model].fillna(x[0])\n",
    "    return df[col][df[\"make_model\"] == model]"
   ]
  },
  {
   "cell_type": "code",
   "execution_count": 81,
   "metadata": {},
   "outputs": [],
   "source": [
    "for i in cars[\"make_model\"].unique():\n",
    "    fill_most(cars, i, \"Body Color\")"
   ]
  },
  {
   "cell_type": "code",
   "execution_count": 82,
   "metadata": {},
   "outputs": [
    {
     "data": {
      "text/plain": [
       "Black     3877\n",
       "Grey      3614\n",
       "White     3531\n",
       "Silver    1705\n",
       "Blue      1535\n",
       "Red        998\n",
       "Brown      298\n",
       "Green      163\n",
       "Beige      114\n",
       "Yellow      54\n",
       "Violet      19\n",
       "Bronze       6\n",
       "Orange       3\n",
       "Gold         2\n",
       "Name: Body Color, dtype: int64"
      ]
     },
     "execution_count": 82,
     "metadata": {},
     "output_type": "execute_result"
    }
   ],
   "source": [
    "cars[\"Body Color\"].value_counts(dropna = False)"
   ]
  },
  {
   "cell_type": "code",
   "execution_count": 83,
   "metadata": {},
   "outputs": [],
   "source": [
    "def unique_values(item):\n",
    "    \n",
    "    if type(item) == list:\n",
    "        return \", \".join(item).strip(\"\\n\").split()\n",
    "        \n",
    "    else:\n",
    "        return item"
   ]
  },
  {
   "cell_type": "code",
   "execution_count": 84,
   "metadata": {},
   "outputs": [
    {
     "data": {
      "text/plain": [
       "0        Metallic\n",
       "1             NaN\n",
       "2        Metallic\n",
       "3        Metallic\n",
       "4        Metallic\n",
       "           ...   \n",
       "15914    Metallic\n",
       "15915    Metallic\n",
       "15916         NaN\n",
       "15917         NaN\n",
       "15918    Metallic\n",
       "Name: Paint Type, Length: 15919, dtype: object"
      ]
     },
     "execution_count": 84,
     "metadata": {},
     "output_type": "execute_result"
    }
   ],
   "source": [
    "cars[\"Paint Type\"].apply(unique_values).str[0] # data extracted from list"
   ]
  },
  {
   "cell_type": "code",
   "execution_count": 85,
   "metadata": {},
   "outputs": [],
   "source": [
    "cars[\"Paint Type\"] = cars[\"Paint Type\"].apply(unique_values).str[0]"
   ]
  },
  {
   "cell_type": "code",
   "execution_count": 86,
   "metadata": {},
   "outputs": [
    {
     "data": {
      "text/plain": [
       "Metallic     9794\n",
       "NaN          5772\n",
       "Uni/basic     347\n",
       "Perl            6\n",
       "Name: Paint Type, dtype: int64"
      ]
     },
     "execution_count": 86,
     "metadata": {},
     "output_type": "execute_result"
    }
   ],
   "source": [
    "cars[\"Paint Type\"].value_counts(dropna = False)"
   ]
  },
  {
   "cell_type": "code",
   "execution_count": 87,
   "metadata": {},
   "outputs": [],
   "source": [
    "def fill_most(df, model, col):\n",
    "    \n",
    "    x = df[col][df[\"make_model\"] == model].mode()\n",
    "    df[col][df[\"make_model\"] == model] = df[col][df[\"make_model\"] == model].fillna(method = \"ffill\")\n",
    "    df[col][df[\"make_model\"] == model] = df[col][df[\"make_model\"] == model].fillna(x[0])\n",
    "    return df[col][df[\"make_model\"] == model]\n"
   ]
  },
  {
   "cell_type": "code",
   "execution_count": 88,
   "metadata": {},
   "outputs": [],
   "source": [
    "for i in cars[\"make_model\"].unique(): # The NaNs were filled homagically.\n",
    "    fill_most(cars, i, \"Paint Type\")"
   ]
  },
  {
   "cell_type": "code",
   "execution_count": 89,
   "metadata": {},
   "outputs": [
    {
     "data": {
      "text/plain": [
       "Metallic     15261\n",
       "Uni/basic      617\n",
       "Perl            41\n",
       "Name: Paint Type, dtype: int64"
      ]
     },
     "execution_count": 89,
     "metadata": {},
     "output_type": "execute_result"
    }
   ],
   "source": [
    "cars[\"Paint Type\"].value_counts(dropna = False)"
   ]
  },
  {
   "cell_type": "code",
   "execution_count": 90,
   "metadata": {},
   "outputs": [
    {
     "data": {
      "text/html": [
       "<div>\n",
       "<style scoped>\n",
       "    .dataframe tbody tr th:only-of-type {\n",
       "        vertical-align: middle;\n",
       "    }\n",
       "\n",
       "    .dataframe tbody tr th {\n",
       "        vertical-align: top;\n",
       "    }\n",
       "\n",
       "    .dataframe thead th {\n",
       "        text-align: right;\n",
       "    }\n",
       "</style>\n",
       "<table border=\"1\" class=\"dataframe\">\n",
       "  <thead>\n",
       "    <tr style=\"text-align: right;\">\n",
       "      <th></th>\n",
       "      <th>Warranty</th>\n",
       "      <th>Body Color</th>\n",
       "      <th>Paint Type</th>\n",
       "      <th>Upholstery</th>\n",
       "      <th>Nr. of Doors</th>\n",
       "      <th>Nr. of Seats</th>\n",
       "      <th>Gearing Type</th>\n",
       "      <th>Displacement</th>\n",
       "      <th>Cylinders</th>\n",
       "      <th>Weight</th>\n",
       "      <th>...</th>\n",
       "      <th>Consumption</th>\n",
       "      <th>CO2 Emission</th>\n",
       "      <th>Emission Class</th>\n",
       "      <th>\\nComfort &amp; Convenience\\n</th>\n",
       "      <th>\\nEntertainment &amp; Media\\n</th>\n",
       "      <th>\\nExtras\\n</th>\n",
       "      <th>\\nSafety &amp; Security\\n</th>\n",
       "      <th>Gears</th>\n",
       "      <th>car_type</th>\n",
       "      <th>Fuel2</th>\n",
       "    </tr>\n",
       "  </thead>\n",
       "  <tbody>\n",
       "    <tr>\n",
       "      <th>0</th>\n",
       "      <td>0</td>\n",
       "      <td>Black</td>\n",
       "      <td>Metallic</td>\n",
       "      <td>[\\nCloth, Black\\n]</td>\n",
       "      <td>[\\n5\\n]</td>\n",
       "      <td>[\\n5\\n]</td>\n",
       "      <td>[\\n, Automatic, \\n]</td>\n",
       "      <td>[\\n1,422 cc\\n]</td>\n",
       "      <td>[\\n3\\n]</td>\n",
       "      <td>[\\n1,220 kg\\n]</td>\n",
       "      <td>...</td>\n",
       "      <td>[[3.8 l/100 km (comb)], [4.3 l/100 km (city)],...</td>\n",
       "      <td>[\\n99 g CO2/km (comb)\\n]</td>\n",
       "      <td>[\\nEuro 6\\n]</td>\n",
       "      <td>[Air conditioning, Armrest, Automatic climate ...</td>\n",
       "      <td>[Bluetooth, Hands-free equipment, On-board com...</td>\n",
       "      <td>[Alloy wheels, Catalytic Converter, Voice Cont...</td>\n",
       "      <td>[ABS, Central door lock, Daytime running light...</td>\n",
       "      <td>NaN</td>\n",
       "      <td>Used</td>\n",
       "      <td>diesel</td>\n",
       "    </tr>\n",
       "  </tbody>\n",
       "</table>\n",
       "<p>1 rows × 21 columns</p>\n",
       "</div>"
      ],
      "text/plain": [
       "   Warranty Body Color Paint Type          Upholstery Nr. of Doors  \\\n",
       "0         0      Black   Metallic  [\\nCloth, Black\\n]      [\\n5\\n]   \n",
       "\n",
       "  Nr. of Seats         Gearing Type    Displacement Cylinders          Weight  \\\n",
       "0      [\\n5\\n]  [\\n, Automatic, \\n]  [\\n1,422 cc\\n]   [\\n3\\n]  [\\n1,220 kg\\n]   \n",
       "\n",
       "   ...                                        Consumption  \\\n",
       "0  ...  [[3.8 l/100 km (comb)], [4.3 l/100 km (city)],...   \n",
       "\n",
       "               CO2 Emission Emission Class  \\\n",
       "0  [\\n99 g CO2/km (comb)\\n]   [\\nEuro 6\\n]   \n",
       "\n",
       "                           \\nComfort & Convenience\\n  \\\n",
       "0  [Air conditioning, Armrest, Automatic climate ...   \n",
       "\n",
       "                           \\nEntertainment & Media\\n  \\\n",
       "0  [Bluetooth, Hands-free equipment, On-board com...   \n",
       "\n",
       "                                          \\nExtras\\n  \\\n",
       "0  [Alloy wheels, Catalytic Converter, Voice Cont...   \n",
       "\n",
       "                               \\nSafety & Security\\n Gears car_type   Fuel2  \n",
       "0  [ABS, Central door lock, Daytime running light...   NaN     Used  diesel  \n",
       "\n",
       "[1 rows x 21 columns]"
      ]
     },
     "execution_count": 90,
     "metadata": {},
     "output_type": "execute_result"
    }
   ],
   "source": [
    "cars.loc[:, \"Warranty\":].head(1)"
   ]
  },
  {
   "cell_type": "code",
   "execution_count": 91,
   "metadata": {},
   "outputs": [
    {
     "data": {
      "text/plain": [
       "0               [\\nCloth, Black\\n]\n",
       "1                [\\nCloth, Grey\\n]\n",
       "2               [\\nCloth, Black\\n]\n",
       "3                              NaN\n",
       "4               [\\nCloth, Black\\n]\n",
       "                   ...            \n",
       "15914                          NaN\n",
       "15915                  [\\nCloth\\n]\n",
       "15916    [\\nFull leather, Black\\n]\n",
       "15917           [\\nPart leather\\n]\n",
       "15918    [\\nFull leather, Brown\\n]\n",
       "Name: Upholstery, Length: 15919, dtype: object"
      ]
     },
     "execution_count": 91,
     "metadata": {},
     "output_type": "execute_result"
    }
   ],
   "source": [
    "cars[\"Upholstery\"]"
   ]
  },
  {
   "cell_type": "code",
   "execution_count": 92,
   "metadata": {},
   "outputs": [],
   "source": [
    "def unique_values(item):\n",
    "    \n",
    "    if type(item) == list:\n",
    "        return \"\".join(item).strip(\"\\n,\").split(\",\")\n",
    "        \n",
    "    else:\n",
    "        return item"
   ]
  },
  {
   "cell_type": "code",
   "execution_count": 93,
   "metadata": {},
   "outputs": [
    {
     "data": {
      "text/plain": [
       "0               [Cloth,  Black]\n",
       "1                [Cloth,  Grey]\n",
       "2               [Cloth,  Black]\n",
       "3                           NaN\n",
       "4               [Cloth,  Black]\n",
       "                  ...          \n",
       "15914                       NaN\n",
       "15915                   [Cloth]\n",
       "15916    [Full leather,  Black]\n",
       "15917            [Part leather]\n",
       "15918    [Full leather,  Brown]\n",
       "Name: Upholstery, Length: 15919, dtype: object"
      ]
     },
     "execution_count": 93,
     "metadata": {},
     "output_type": "execute_result"
    }
   ],
   "source": [
    "cars[\"Upholstery\"].apply(unique_values) # data extracted from list"
   ]
  },
  {
   "cell_type": "code",
   "execution_count": 94,
   "metadata": {},
   "outputs": [
    {
     "data": {
      "text/plain": [
       "Cloth           8423\n",
       "NaN             3720\n",
       "Part leather    1499\n",
       "Full leather    1009\n",
       "Black            491\n",
       "Other            368\n",
       "Grey             273\n",
       "Velour            60\n",
       "alcantara         57\n",
       "Brown             12\n",
       "Beige              3\n",
       "White              2\n",
       "Blue               2\n",
       "Name: Upholstery, dtype: int64"
      ]
     },
     "execution_count": 94,
     "metadata": {},
     "output_type": "execute_result"
    }
   ],
   "source": [
    "cars[\"Upholstery\"].apply(unique_values).str[0].value_counts(dropna = False)"
   ]
  },
  {
   "cell_type": "code",
   "execution_count": 95,
   "metadata": {},
   "outputs": [],
   "source": [
    "# Two separate columns were created for Upholstery type and color."
   ]
  },
  {
   "cell_type": "code",
   "execution_count": 96,
   "metadata": {},
   "outputs": [],
   "source": [
    "cars.loc[(cars[\"Upholstery\"].apply(unique_values).str[0] != \"Cloth\") & (cars[\"Upholstery\"].apply(unique_values).str[0] != \"Part leather\")\\\n",
    "& (cars[\"Upholstery\"].apply(unique_values).str[0] != \"Full leather\"), \"Upholstery\"] = np.nan\n",
    "\n",
    "# The colors that appear in the upholstery type have been dropped"
   ]
  },
  {
   "cell_type": "code",
   "execution_count": 97,
   "metadata": {},
   "outputs": [],
   "source": [
    "cars[\"upholstery_type\"] = cars[\"Upholstery\"].apply(unique_values).str[0]"
   ]
  },
  {
   "cell_type": "code",
   "execution_count": 98,
   "metadata": {},
   "outputs": [
    {
     "data": {
      "text/plain": [
       "Cloth           8423\n",
       "NaN             4988\n",
       "Part leather    1499\n",
       "Full leather    1009\n",
       "Name: Upholstery, dtype: int64"
      ]
     },
     "execution_count": 98,
     "metadata": {},
     "output_type": "execute_result"
    }
   ],
   "source": [
    "cars[\"Upholstery\"].apply(unique_values).str[0].value_counts(dropna = False)"
   ]
  },
  {
   "cell_type": "code",
   "execution_count": null,
   "metadata": {},
   "outputs": [],
   "source": []
  },
  {
   "cell_type": "code",
   "execution_count": 99,
   "metadata": {},
   "outputs": [
    {
     "data": {
      "text/plain": [
       " Black     7517\n",
       "NaN        6272\n",
       " Grey      1074\n",
       " Other      776\n",
       " Brown      194\n",
       " Beige       51\n",
       " Blue        14\n",
       " White       11\n",
       " Red          9\n",
       " Orange       1\n",
       "Name: Upholstery, dtype: int64"
      ]
     },
     "execution_count": 99,
     "metadata": {},
     "output_type": "execute_result"
    }
   ],
   "source": [
    "cars[\"Upholstery\"].apply(unique_values).str[1].value_counts(dropna = False)"
   ]
  },
  {
   "cell_type": "code",
   "execution_count": 100,
   "metadata": {},
   "outputs": [],
   "source": [
    "cars[\"upholstery_color\"] = cars[\"Upholstery\"].apply(unique_values).str[1]"
   ]
  },
  {
   "cell_type": "code",
   "execution_count": 101,
   "metadata": {},
   "outputs": [],
   "source": [
    "def fill_most(df, model, col):\n",
    "    \n",
    "    x = df[col][df[\"make_model\"] == model].mode()\n",
    "    df[col][df[\"make_model\"] == model] = df[col][df[\"make_model\"] == model].fillna(method = \"ffill\")\n",
    "    df[col][df[\"make_model\"] == model] = df[col][df[\"make_model\"] == model].fillna(x[0])\n",
    "    return df[col][df[\"make_model\"] == model]"
   ]
  },
  {
   "cell_type": "code",
   "execution_count": 102,
   "metadata": {},
   "outputs": [],
   "source": [
    "for i in cars[\"make_model\"].unique():\n",
    "    fill_most(cars, i, \"upholstery_type\")"
   ]
  },
  {
   "cell_type": "code",
   "execution_count": 103,
   "metadata": {},
   "outputs": [],
   "source": [
    "for i in cars[\"make_model\"].unique():\n",
    "    fill_most(cars, i, \"upholstery_color\")"
   ]
  },
  {
   "cell_type": "code",
   "execution_count": 104,
   "metadata": {},
   "outputs": [
    {
     "data": {
      "text/plain": [
       "Cloth           12295\n",
       "Part leather     2181\n",
       "Full leather     1443\n",
       "Name: upholstery_type, dtype: int64"
      ]
     },
     "execution_count": 104,
     "metadata": {},
     "output_type": "execute_result"
    }
   ],
   "source": [
    "cars[\"upholstery_type\"].value_counts(dropna = False)"
   ]
  },
  {
   "cell_type": "code",
   "execution_count": 105,
   "metadata": {},
   "outputs": [
    {
     "data": {
      "text/plain": [
       " Black     12179\n",
       " Grey       1816\n",
       " Other      1342\n",
       " Brown       419\n",
       " Beige        88\n",
       " White        29\n",
       " Blue         29\n",
       " Red          16\n",
       " Orange        1\n",
       "Name: upholstery_color, dtype: int64"
      ]
     },
     "execution_count": 105,
     "metadata": {},
     "output_type": "execute_result"
    }
   ],
   "source": [
    "cars[\"upholstery_color\"].value_counts(dropna = False)"
   ]
  },
  {
   "cell_type": "code",
   "execution_count": 106,
   "metadata": {},
   "outputs": [
    {
     "data": {
      "text/plain": [
       "(15919, 32)"
      ]
     },
     "execution_count": 106,
     "metadata": {},
     "output_type": "execute_result"
    }
   ],
   "source": [
    "cars.shape"
   ]
  },
  {
   "cell_type": "code",
   "execution_count": 107,
   "metadata": {},
   "outputs": [
    {
     "data": {
      "text/html": [
       "<div>\n",
       "<style scoped>\n",
       "    .dataframe tbody tr th:only-of-type {\n",
       "        vertical-align: middle;\n",
       "    }\n",
       "\n",
       "    .dataframe tbody tr th {\n",
       "        vertical-align: top;\n",
       "    }\n",
       "\n",
       "    .dataframe thead th {\n",
       "        text-align: right;\n",
       "    }\n",
       "</style>\n",
       "<table border=\"1\" class=\"dataframe\">\n",
       "  <thead>\n",
       "    <tr style=\"text-align: right;\">\n",
       "      <th></th>\n",
       "      <th>make_model</th>\n",
       "      <th>short_description</th>\n",
       "      <th>body_type</th>\n",
       "      <th>price</th>\n",
       "      <th>vat</th>\n",
       "      <th>km</th>\n",
       "      <th>registration</th>\n",
       "      <th>prev_owner</th>\n",
       "      <th>hp</th>\n",
       "      <th>Warranty</th>\n",
       "      <th>...</th>\n",
       "      <th>Emission Class</th>\n",
       "      <th>\\nComfort &amp; Convenience\\n</th>\n",
       "      <th>\\nEntertainment &amp; Media\\n</th>\n",
       "      <th>\\nExtras\\n</th>\n",
       "      <th>\\nSafety &amp; Security\\n</th>\n",
       "      <th>Gears</th>\n",
       "      <th>car_type</th>\n",
       "      <th>Fuel2</th>\n",
       "      <th>upholstery_type</th>\n",
       "      <th>upholstery_color</th>\n",
       "    </tr>\n",
       "  </thead>\n",
       "  <tbody>\n",
       "    <tr>\n",
       "      <th>0</th>\n",
       "      <td>Audi A1</td>\n",
       "      <td>Sportback 1.4 TDI S-tronic Xenon Navi Klima</td>\n",
       "      <td>Sedans</td>\n",
       "      <td>15770</td>\n",
       "      <td>VAT deductible</td>\n",
       "      <td>56013</td>\n",
       "      <td>2016-01-01</td>\n",
       "      <td>2 previous owners</td>\n",
       "      <td>66</td>\n",
       "      <td>0</td>\n",
       "      <td>...</td>\n",
       "      <td>[\\nEuro 6\\n]</td>\n",
       "      <td>[Air conditioning, Armrest, Automatic climate ...</td>\n",
       "      <td>[Bluetooth, Hands-free equipment, On-board com...</td>\n",
       "      <td>[Alloy wheels, Catalytic Converter, Voice Cont...</td>\n",
       "      <td>[ABS, Central door lock, Daytime running light...</td>\n",
       "      <td>NaN</td>\n",
       "      <td>Used</td>\n",
       "      <td>diesel</td>\n",
       "      <td>Cloth</td>\n",
       "      <td>Black</td>\n",
       "    </tr>\n",
       "  </tbody>\n",
       "</table>\n",
       "<p>1 rows × 32 columns</p>\n",
       "</div>"
      ],
      "text/plain": [
       "  make_model                            short_description body_type  price  \\\n",
       "0    Audi A1  Sportback 1.4 TDI S-tronic Xenon Navi Klima    Sedans  15770   \n",
       "\n",
       "              vat     km registration         prev_owner  hp  Warranty  ...  \\\n",
       "0  VAT deductible  56013   2016-01-01  2 previous owners  66         0  ...   \n",
       "\n",
       "  Emission Class                          \\nComfort & Convenience\\n  \\\n",
       "0   [\\nEuro 6\\n]  [Air conditioning, Armrest, Automatic climate ...   \n",
       "\n",
       "                           \\nEntertainment & Media\\n  \\\n",
       "0  [Bluetooth, Hands-free equipment, On-board com...   \n",
       "\n",
       "                                          \\nExtras\\n  \\\n",
       "0  [Alloy wheels, Catalytic Converter, Voice Cont...   \n",
       "\n",
       "                               \\nSafety & Security\\n Gears car_type   Fuel2  \\\n",
       "0  [ABS, Central door lock, Daytime running light...   NaN     Used  diesel   \n",
       "\n",
       "  upholstery_type upholstery_color  \n",
       "0           Cloth            Black  \n",
       "\n",
       "[1 rows x 32 columns]"
      ]
     },
     "execution_count": 107,
     "metadata": {},
     "output_type": "execute_result"
    }
   ],
   "source": [
    "cars.head(1)"
   ]
  },
  {
   "cell_type": "code",
   "execution_count": 108,
   "metadata": {},
   "outputs": [],
   "source": [
    "cars.drop(\"Upholstery\", axis = 1, inplace = True)\n",
    "# Upholstery column dropped as we no longer needed it"
   ]
  },
  {
   "cell_type": "code",
   "execution_count": 109,
   "metadata": {},
   "outputs": [
    {
     "data": {
      "text/plain": [
       "False"
      ]
     },
     "execution_count": 109,
     "metadata": {},
     "output_type": "execute_result"
    }
   ],
   "source": [
    "\"Upholstery\" in cars"
   ]
  },
  {
   "cell_type": "code",
   "execution_count": 110,
   "metadata": {},
   "outputs": [
    {
     "data": {
      "text/html": [
       "<div>\n",
       "<style scoped>\n",
       "    .dataframe tbody tr th:only-of-type {\n",
       "        vertical-align: middle;\n",
       "    }\n",
       "\n",
       "    .dataframe tbody tr th {\n",
       "        vertical-align: top;\n",
       "    }\n",
       "\n",
       "    .dataframe thead th {\n",
       "        text-align: right;\n",
       "    }\n",
       "</style>\n",
       "<table border=\"1\" class=\"dataframe\">\n",
       "  <thead>\n",
       "    <tr style=\"text-align: right;\">\n",
       "      <th></th>\n",
       "      <th>Warranty</th>\n",
       "      <th>Body Color</th>\n",
       "      <th>Paint Type</th>\n",
       "      <th>Nr. of Doors</th>\n",
       "      <th>Nr. of Seats</th>\n",
       "      <th>Gearing Type</th>\n",
       "      <th>Displacement</th>\n",
       "      <th>Cylinders</th>\n",
       "      <th>Weight</th>\n",
       "      <th>Drive chain</th>\n",
       "      <th>...</th>\n",
       "      <th>Emission Class</th>\n",
       "      <th>\\nComfort &amp; Convenience\\n</th>\n",
       "      <th>\\nEntertainment &amp; Media\\n</th>\n",
       "      <th>\\nExtras\\n</th>\n",
       "      <th>\\nSafety &amp; Security\\n</th>\n",
       "      <th>Gears</th>\n",
       "      <th>car_type</th>\n",
       "      <th>Fuel2</th>\n",
       "      <th>upholstery_type</th>\n",
       "      <th>upholstery_color</th>\n",
       "    </tr>\n",
       "  </thead>\n",
       "  <tbody>\n",
       "    <tr>\n",
       "      <th>0</th>\n",
       "      <td>0</td>\n",
       "      <td>Black</td>\n",
       "      <td>Metallic</td>\n",
       "      <td>[\\n5\\n]</td>\n",
       "      <td>[\\n5\\n]</td>\n",
       "      <td>[\\n, Automatic, \\n]</td>\n",
       "      <td>[\\n1,422 cc\\n]</td>\n",
       "      <td>[\\n3\\n]</td>\n",
       "      <td>[\\n1,220 kg\\n]</td>\n",
       "      <td>[\\nfront\\n]</td>\n",
       "      <td>...</td>\n",
       "      <td>[\\nEuro 6\\n]</td>\n",
       "      <td>[Air conditioning, Armrest, Automatic climate ...</td>\n",
       "      <td>[Bluetooth, Hands-free equipment, On-board com...</td>\n",
       "      <td>[Alloy wheels, Catalytic Converter, Voice Cont...</td>\n",
       "      <td>[ABS, Central door lock, Daytime running light...</td>\n",
       "      <td>NaN</td>\n",
       "      <td>Used</td>\n",
       "      <td>diesel</td>\n",
       "      <td>Cloth</td>\n",
       "      <td>Black</td>\n",
       "    </tr>\n",
       "  </tbody>\n",
       "</table>\n",
       "<p>1 rows × 22 columns</p>\n",
       "</div>"
      ],
      "text/plain": [
       "   Warranty Body Color Paint Type Nr. of Doors Nr. of Seats  \\\n",
       "0         0      Black   Metallic      [\\n5\\n]      [\\n5\\n]   \n",
       "\n",
       "          Gearing Type    Displacement Cylinders          Weight  Drive chain  \\\n",
       "0  [\\n, Automatic, \\n]  [\\n1,422 cc\\n]   [\\n3\\n]  [\\n1,220 kg\\n]  [\\nfront\\n]   \n",
       "\n",
       "   ... Emission Class                          \\nComfort & Convenience\\n  \\\n",
       "0  ...   [\\nEuro 6\\n]  [Air conditioning, Armrest, Automatic climate ...   \n",
       "\n",
       "                           \\nEntertainment & Media\\n  \\\n",
       "0  [Bluetooth, Hands-free equipment, On-board com...   \n",
       "\n",
       "                                          \\nExtras\\n  \\\n",
       "0  [Alloy wheels, Catalytic Converter, Voice Cont...   \n",
       "\n",
       "                               \\nSafety & Security\\n Gears car_type   Fuel2  \\\n",
       "0  [ABS, Central door lock, Daytime running light...   NaN     Used  diesel   \n",
       "\n",
       "  upholstery_type upholstery_color  \n",
       "0           Cloth            Black  \n",
       "\n",
       "[1 rows x 22 columns]"
      ]
     },
     "execution_count": 110,
     "metadata": {},
     "output_type": "execute_result"
    }
   ],
   "source": [
    "cars.loc[:, \"Warranty\":].head(1)"
   ]
  },
  {
   "cell_type": "code",
   "execution_count": 111,
   "metadata": {},
   "outputs": [
    {
     "ename": "TypeError",
     "evalue": "unhashable type: 'list'",
     "output_type": "error",
     "traceback": [
      "\u001b[1;31m---------------------------------------------------------------------------\u001b[0m",
      "\u001b[1;31mTypeError\u001b[0m                                 Traceback (most recent call last)",
      "\u001b[1;32mpandas\\_libs\\hashtable_class_helper.pxi\u001b[0m in \u001b[0;36mpandas._libs.hashtable.PyObjectHashTable.map_locations\u001b[1;34m()\u001b[0m\n",
      "\u001b[1;31mTypeError\u001b[0m: unhashable type: 'list'"
     ]
    },
    {
     "name": "stderr",
     "output_type": "stream",
     "text": [
      "Exception ignored in: 'pandas._libs.index.IndexEngine._call_map_locations'\n",
      "Traceback (most recent call last):\n",
      "  File \"pandas\\_libs\\hashtable_class_helper.pxi\", line 1709, in pandas._libs.hashtable.PyObjectHashTable.map_locations\n",
      "TypeError: unhashable type: 'list'\n"
     ]
    },
    {
     "data": {
      "text/plain": [
       "[\\n5\\n]    11575\n",
       "[\\n4\\n]     3079\n",
       "[\\n3\\n]      832\n",
       "[\\n2\\n]      219\n",
       "NaN          212\n",
       "[\\n7\\n]        1\n",
       "[\\n1\\n]        1\n",
       "Name: Nr. of Doors, dtype: int64"
      ]
     },
     "execution_count": 111,
     "metadata": {},
     "output_type": "execute_result"
    }
   ],
   "source": [
    "cars[\"Nr. of Doors\"].value_counts(dropna =False)"
   ]
  },
  {
   "cell_type": "code",
   "execution_count": 112,
   "metadata": {},
   "outputs": [],
   "source": [
    "def unique_values(item):\n",
    "    \n",
    "    if type(item) == list:\n",
    "        return \"\".join(item).strip(\"\\n,\").split(\",\")\n",
    "        \n",
    "    else:\n",
    "        return item"
   ]
  },
  {
   "cell_type": "code",
   "execution_count": 113,
   "metadata": {},
   "outputs": [
    {
     "data": {
      "text/plain": [
       "5      11575\n",
       "4       3079\n",
       "3        832\n",
       "2        219\n",
       "NaN      212\n",
       "7          1\n",
       "1          1\n",
       "Name: Nr. of Doors, dtype: int64"
      ]
     },
     "execution_count": 113,
     "metadata": {},
     "output_type": "execute_result"
    }
   ],
   "source": [
    "cars[\"Nr. of Doors\"].apply(unique_values).str[0].value_counts(dropna = False) # data extracted from list"
   ]
  },
  {
   "cell_type": "code",
   "execution_count": null,
   "metadata": {},
   "outputs": [],
   "source": []
  },
  {
   "cell_type": "code",
   "execution_count": 114,
   "metadata": {},
   "outputs": [],
   "source": [
    "cars[\"Nr. of Doors\"] = cars[\"Nr. of Doors\"].apply(unique_values).str[0]"
   ]
  },
  {
   "cell_type": "code",
   "execution_count": 115,
   "metadata": {},
   "outputs": [],
   "source": [
    "def fill_most(df, model, col):\n",
    "    \n",
    "    x = df[col][df[\"make_model\"] == model].mode()\n",
    "    df[col][df[\"make_model\"] == model] = df[col][df[\"make_model\"] == model].fillna(method = \"ffill\")\n",
    "    df[col][df[\"make_model\"] == model] = df[col][df[\"make_model\"] == model].fillna(x[0])\n",
    "    return df[col][df[\"make_model\"] == model]"
   ]
  },
  {
   "cell_type": "code",
   "execution_count": 116,
   "metadata": {},
   "outputs": [],
   "source": [
    "for i in cars[\"make_model\"].unique():\n",
    "    fill_most(cars, i, \"Nr. of Doors\")"
   ]
  },
  {
   "cell_type": "code",
   "execution_count": 117,
   "metadata": {},
   "outputs": [],
   "source": [
    "cars[\"Nr. of Doors\"] = cars[\"Nr. of Doors\"].astype(\"int\")"
   ]
  },
  {
   "cell_type": "code",
   "execution_count": 118,
   "metadata": {},
   "outputs": [
    {
     "data": {
      "text/plain": [
       "5    11724\n",
       "4     3122\n",
       "3      848\n",
       "2      223\n",
       "7        1\n",
       "1        1\n",
       "Name: Nr. of Doors, dtype: int64"
      ]
     },
     "execution_count": 118,
     "metadata": {},
     "output_type": "execute_result"
    }
   ],
   "source": [
    "cars[\"Nr. of Doors\"].value_counts(dropna = False)"
   ]
  },
  {
   "cell_type": "code",
   "execution_count": 119,
   "metadata": {},
   "outputs": [
    {
     "data": {
      "text/plain": [
       "15202    7\n",
       "Name: Nr. of Doors, dtype: int32"
      ]
     },
     "execution_count": 119,
     "metadata": {},
     "output_type": "execute_result"
    }
   ],
   "source": [
    "cars[cars[\"Nr. of Doors\"] == 7][\"Nr. of Doors\"]"
   ]
  },
  {
   "cell_type": "code",
   "execution_count": 120,
   "metadata": {},
   "outputs": [],
   "source": [
    "cars.loc[15202, \"Nr. of Doors\"] = 5 #  The values thought to be entered incorrectly were corrected manually."
   ]
  },
  {
   "cell_type": "code",
   "execution_count": 121,
   "metadata": {},
   "outputs": [
    {
     "data": {
      "text/plain": [
       "5"
      ]
     },
     "execution_count": 121,
     "metadata": {},
     "output_type": "execute_result"
    }
   ],
   "source": [
    "cars.loc[15202, \"Nr. of Doors\"]"
   ]
  },
  {
   "cell_type": "code",
   "execution_count": 122,
   "metadata": {},
   "outputs": [
    {
     "data": {
      "text/plain": [
       "13782    1\n",
       "Name: Nr. of Doors, dtype: int32"
      ]
     },
     "execution_count": 122,
     "metadata": {},
     "output_type": "execute_result"
    }
   ],
   "source": [
    "cars[cars[\"Nr. of Doors\"] == 1][\"Nr. of Doors\"] # The values thought to be entered incorrectly were corrected manually."
   ]
  },
  {
   "cell_type": "code",
   "execution_count": 123,
   "metadata": {},
   "outputs": [],
   "source": [
    "cars.loc[13782, \"Nr. of Doors\"] = 4"
   ]
  },
  {
   "cell_type": "code",
   "execution_count": 124,
   "metadata": {},
   "outputs": [
    {
     "data": {
      "text/plain": [
       "4"
      ]
     },
     "execution_count": 124,
     "metadata": {},
     "output_type": "execute_result"
    }
   ],
   "source": [
    "cars.loc[13782, \"Nr. of Doors\"]"
   ]
  },
  {
   "cell_type": "code",
   "execution_count": 125,
   "metadata": {},
   "outputs": [
    {
     "data": {
      "text/plain": [
       "5    11725\n",
       "4     3123\n",
       "3      848\n",
       "2      223\n",
       "Name: Nr. of Doors, dtype: int64"
      ]
     },
     "execution_count": 125,
     "metadata": {},
     "output_type": "execute_result"
    }
   ],
   "source": [
    "cars[\"Nr. of Doors\"].value_counts(dropna = False)"
   ]
  },
  {
   "cell_type": "code",
   "execution_count": 126,
   "metadata": {},
   "outputs": [
    {
     "data": {
      "text/html": [
       "<div>\n",
       "<style scoped>\n",
       "    .dataframe tbody tr th:only-of-type {\n",
       "        vertical-align: middle;\n",
       "    }\n",
       "\n",
       "    .dataframe tbody tr th {\n",
       "        vertical-align: top;\n",
       "    }\n",
       "\n",
       "    .dataframe thead th {\n",
       "        text-align: right;\n",
       "    }\n",
       "</style>\n",
       "<table border=\"1\" class=\"dataframe\">\n",
       "  <thead>\n",
       "    <tr style=\"text-align: right;\">\n",
       "      <th></th>\n",
       "      <th>Warranty</th>\n",
       "      <th>Body Color</th>\n",
       "      <th>Paint Type</th>\n",
       "      <th>Nr. of Doors</th>\n",
       "      <th>Nr. of Seats</th>\n",
       "      <th>Gearing Type</th>\n",
       "      <th>Displacement</th>\n",
       "      <th>Cylinders</th>\n",
       "      <th>Weight</th>\n",
       "      <th>Drive chain</th>\n",
       "      <th>...</th>\n",
       "      <th>Emission Class</th>\n",
       "      <th>\\nComfort &amp; Convenience\\n</th>\n",
       "      <th>\\nEntertainment &amp; Media\\n</th>\n",
       "      <th>\\nExtras\\n</th>\n",
       "      <th>\\nSafety &amp; Security\\n</th>\n",
       "      <th>Gears</th>\n",
       "      <th>car_type</th>\n",
       "      <th>Fuel2</th>\n",
       "      <th>upholstery_type</th>\n",
       "      <th>upholstery_color</th>\n",
       "    </tr>\n",
       "  </thead>\n",
       "  <tbody>\n",
       "    <tr>\n",
       "      <th>0</th>\n",
       "      <td>0</td>\n",
       "      <td>Black</td>\n",
       "      <td>Metallic</td>\n",
       "      <td>5</td>\n",
       "      <td>[\\n5\\n]</td>\n",
       "      <td>[\\n, Automatic, \\n]</td>\n",
       "      <td>[\\n1,422 cc\\n]</td>\n",
       "      <td>[\\n3\\n]</td>\n",
       "      <td>[\\n1,220 kg\\n]</td>\n",
       "      <td>[\\nfront\\n]</td>\n",
       "      <td>...</td>\n",
       "      <td>[\\nEuro 6\\n]</td>\n",
       "      <td>[Air conditioning, Armrest, Automatic climate ...</td>\n",
       "      <td>[Bluetooth, Hands-free equipment, On-board com...</td>\n",
       "      <td>[Alloy wheels, Catalytic Converter, Voice Cont...</td>\n",
       "      <td>[ABS, Central door lock, Daytime running light...</td>\n",
       "      <td>NaN</td>\n",
       "      <td>Used</td>\n",
       "      <td>diesel</td>\n",
       "      <td>Cloth</td>\n",
       "      <td>Black</td>\n",
       "    </tr>\n",
       "  </tbody>\n",
       "</table>\n",
       "<p>1 rows × 22 columns</p>\n",
       "</div>"
      ],
      "text/plain": [
       "   Warranty Body Color Paint Type  Nr. of Doors Nr. of Seats  \\\n",
       "0         0      Black   Metallic             5      [\\n5\\n]   \n",
       "\n",
       "          Gearing Type    Displacement Cylinders          Weight  Drive chain  \\\n",
       "0  [\\n, Automatic, \\n]  [\\n1,422 cc\\n]   [\\n3\\n]  [\\n1,220 kg\\n]  [\\nfront\\n]   \n",
       "\n",
       "   ... Emission Class                          \\nComfort & Convenience\\n  \\\n",
       "0  ...   [\\nEuro 6\\n]  [Air conditioning, Armrest, Automatic climate ...   \n",
       "\n",
       "                           \\nEntertainment & Media\\n  \\\n",
       "0  [Bluetooth, Hands-free equipment, On-board com...   \n",
       "\n",
       "                                          \\nExtras\\n  \\\n",
       "0  [Alloy wheels, Catalytic Converter, Voice Cont...   \n",
       "\n",
       "                               \\nSafety & Security\\n Gears car_type   Fuel2  \\\n",
       "0  [ABS, Central door lock, Daytime running light...   NaN     Used  diesel   \n",
       "\n",
       "  upholstery_type upholstery_color  \n",
       "0           Cloth            Black  \n",
       "\n",
       "[1 rows x 22 columns]"
      ]
     },
     "execution_count": 126,
     "metadata": {},
     "output_type": "execute_result"
    }
   ],
   "source": [
    "cars.loc[:, \"Warranty\":].head(1)"
   ]
  },
  {
   "cell_type": "code",
   "execution_count": 127,
   "metadata": {},
   "outputs": [
    {
     "ename": "TypeError",
     "evalue": "unhashable type: 'list'",
     "output_type": "error",
     "traceback": [
      "\u001b[1;31m---------------------------------------------------------------------------\u001b[0m",
      "\u001b[1;31mTypeError\u001b[0m                                 Traceback (most recent call last)",
      "\u001b[1;32mpandas\\_libs\\hashtable_class_helper.pxi\u001b[0m in \u001b[0;36mpandas._libs.hashtable.PyObjectHashTable.map_locations\u001b[1;34m()\u001b[0m\n",
      "\u001b[1;31mTypeError\u001b[0m: unhashable type: 'list'"
     ]
    },
    {
     "name": "stderr",
     "output_type": "stream",
     "text": [
      "Exception ignored in: 'pandas._libs.index.IndexEngine._call_map_locations'\n",
      "Traceback (most recent call last):\n",
      "  File \"pandas\\_libs\\hashtable_class_helper.pxi\", line 1709, in pandas._libs.hashtable.PyObjectHashTable.map_locations\n",
      "TypeError: unhashable type: 'list'\n"
     ]
    },
    {
     "data": {
      "text/plain": [
       "[\\n5\\n]    13336\n",
       "[\\n4\\n]     1125\n",
       "NaN          977\n",
       "[\\n7\\n]      362\n",
       "[\\n2\\n]      116\n",
       "[\\n6\\n]        2\n",
       "[\\n3\\n]        1\n",
       "Name: Nr. of Seats, dtype: int64"
      ]
     },
     "execution_count": 127,
     "metadata": {},
     "output_type": "execute_result"
    }
   ],
   "source": [
    "cars[\"Nr. of Seats\"].value_counts(dropna = False)"
   ]
  },
  {
   "cell_type": "code",
   "execution_count": 128,
   "metadata": {},
   "outputs": [],
   "source": [
    "def unique_values(item):\n",
    "    \n",
    "    if type(item) == list:\n",
    "        return \"\".join(item).strip(\"\\n\").split(\",\")\n",
    "        \n",
    "    else:\n",
    "        return item"
   ]
  },
  {
   "cell_type": "code",
   "execution_count": 129,
   "metadata": {},
   "outputs": [
    {
     "data": {
      "text/plain": [
       "5      13336\n",
       "4       1125\n",
       "NaN      977\n",
       "7        362\n",
       "2        116\n",
       "6          2\n",
       "3          1\n",
       "Name: Nr. of Seats, dtype: int64"
      ]
     },
     "execution_count": 129,
     "metadata": {},
     "output_type": "execute_result"
    }
   ],
   "source": [
    "cars[\"Nr. of Seats\"].apply(unique_values).str[0].value_counts(dropna = False) # data extracted from list"
   ]
  },
  {
   "cell_type": "code",
   "execution_count": 130,
   "metadata": {},
   "outputs": [],
   "source": [
    "cars[\"Nr. of Seats\"] = cars[\"Nr. of Seats\"].apply(unique_values).str[0]"
   ]
  },
  {
   "cell_type": "code",
   "execution_count": 131,
   "metadata": {},
   "outputs": [],
   "source": [
    "def fill_most(df, model, col):\n",
    "    \n",
    "    x = df[col][df[\"make_model\"] == model].mode()\n",
    "    df[col][df[\"make_model\"] == model] = df[col][df[\"make_model\"] == model].fillna(method = \"ffill\")\n",
    "    df[col][df[\"make_model\"] == model] = df[col][df[\"make_model\"] == model].fillna(x[0])\n",
    "    return df[col][df[\"make_model\"] == model]"
   ]
  },
  {
   "cell_type": "code",
   "execution_count": 132,
   "metadata": {},
   "outputs": [],
   "source": [
    "for i in cars[\"make_model\"].unique():\n",
    "    fill_most(cars, i, \"Nr. of Seats\")"
   ]
  },
  {
   "cell_type": "code",
   "execution_count": null,
   "metadata": {},
   "outputs": [],
   "source": []
  },
  {
   "cell_type": "code",
   "execution_count": 133,
   "metadata": {},
   "outputs": [
    {
     "data": {
      "text/plain": [
       "5    14179\n",
       "4     1192\n",
       "7      415\n",
       "2      130\n",
       "6        2\n",
       "3        1\n",
       "Name: Nr. of Seats, dtype: int64"
      ]
     },
     "execution_count": 133,
     "metadata": {},
     "output_type": "execute_result"
    }
   ],
   "source": [
    "cars[\"Nr. of Seats\"].value_counts(dropna = False)"
   ]
  },
  {
   "cell_type": "code",
   "execution_count": 134,
   "metadata": {},
   "outputs": [
    {
     "data": {
      "text/html": [
       "<div>\n",
       "<style scoped>\n",
       "    .dataframe tbody tr th:only-of-type {\n",
       "        vertical-align: middle;\n",
       "    }\n",
       "\n",
       "    .dataframe tbody tr th {\n",
       "        vertical-align: top;\n",
       "    }\n",
       "\n",
       "    .dataframe thead th {\n",
       "        text-align: right;\n",
       "    }\n",
       "</style>\n",
       "<table border=\"1\" class=\"dataframe\">\n",
       "  <thead>\n",
       "    <tr style=\"text-align: right;\">\n",
       "      <th></th>\n",
       "      <th>make_model</th>\n",
       "      <th>short_description</th>\n",
       "      <th>body_type</th>\n",
       "      <th>price</th>\n",
       "      <th>vat</th>\n",
       "      <th>km</th>\n",
       "      <th>registration</th>\n",
       "      <th>prev_owner</th>\n",
       "      <th>hp</th>\n",
       "      <th>Warranty</th>\n",
       "      <th>...</th>\n",
       "      <th>Emission Class</th>\n",
       "      <th>\\nComfort &amp; Convenience\\n</th>\n",
       "      <th>\\nEntertainment &amp; Media\\n</th>\n",
       "      <th>\\nExtras\\n</th>\n",
       "      <th>\\nSafety &amp; Security\\n</th>\n",
       "      <th>Gears</th>\n",
       "      <th>car_type</th>\n",
       "      <th>Fuel2</th>\n",
       "      <th>upholstery_type</th>\n",
       "      <th>upholstery_color</th>\n",
       "    </tr>\n",
       "  </thead>\n",
       "  <tbody>\n",
       "  </tbody>\n",
       "</table>\n",
       "<p>0 rows × 31 columns</p>\n",
       "</div>"
      ],
      "text/plain": [
       "Empty DataFrame\n",
       "Columns: [make_model, short_description, body_type, price, vat, km, registration, prev_owner, hp, Warranty, Body Color, Paint Type, Nr. of Doors, Nr. of Seats, Gearing Type, Displacement, Cylinders, Weight, Drive chain, Consumption, CO2 Emission, Emission Class, \n",
       "Comfort & Convenience\n",
       ", \n",
       "Entertainment & Media\n",
       ", \n",
       "Extras\n",
       ", \n",
       "Safety & Security\n",
       ", Gears, car_type, Fuel2, upholstery_type, upholstery_color]\n",
       "Index: []\n",
       "\n",
       "[0 rows x 31 columns]"
      ]
     },
     "execution_count": 134,
     "metadata": {},
     "output_type": "execute_result"
    }
   ],
   "source": [
    "cars[cars[\"Nr. of Seats\"]== 3]"
   ]
  },
  {
   "cell_type": "code",
   "execution_count": 135,
   "metadata": {},
   "outputs": [
    {
     "data": {
      "text/plain": [
       "'3'"
      ]
     },
     "execution_count": 135,
     "metadata": {},
     "output_type": "execute_result"
    }
   ],
   "source": [
    "cars.loc[1636, \"Nr. of Seats\"]"
   ]
  },
  {
   "cell_type": "code",
   "execution_count": 136,
   "metadata": {},
   "outputs": [],
   "source": [
    "cars.loc[1636, \"Nr. of Seats\"] = 5 # The values thought to be entered incorrectly were corrected manually."
   ]
  },
  {
   "cell_type": "code",
   "execution_count": 137,
   "metadata": {},
   "outputs": [
    {
     "data": {
      "text/plain": [
       "5"
      ]
     },
     "execution_count": 137,
     "metadata": {},
     "output_type": "execute_result"
    }
   ],
   "source": [
    "cars.loc[1636, \"Nr. of Seats\"]"
   ]
  },
  {
   "cell_type": "code",
   "execution_count": 138,
   "metadata": {},
   "outputs": [
    {
     "data": {
      "text/html": [
       "<div>\n",
       "<style scoped>\n",
       "    .dataframe tbody tr th:only-of-type {\n",
       "        vertical-align: middle;\n",
       "    }\n",
       "\n",
       "    .dataframe tbody tr th {\n",
       "        vertical-align: top;\n",
       "    }\n",
       "\n",
       "    .dataframe thead th {\n",
       "        text-align: right;\n",
       "    }\n",
       "</style>\n",
       "<table border=\"1\" class=\"dataframe\">\n",
       "  <thead>\n",
       "    <tr style=\"text-align: right;\">\n",
       "      <th></th>\n",
       "      <th>make_model</th>\n",
       "      <th>short_description</th>\n",
       "      <th>body_type</th>\n",
       "      <th>price</th>\n",
       "      <th>vat</th>\n",
       "      <th>km</th>\n",
       "      <th>registration</th>\n",
       "      <th>prev_owner</th>\n",
       "      <th>hp</th>\n",
       "      <th>Warranty</th>\n",
       "      <th>...</th>\n",
       "      <th>Emission Class</th>\n",
       "      <th>\\nComfort &amp; Convenience\\n</th>\n",
       "      <th>\\nEntertainment &amp; Media\\n</th>\n",
       "      <th>\\nExtras\\n</th>\n",
       "      <th>\\nSafety &amp; Security\\n</th>\n",
       "      <th>Gears</th>\n",
       "      <th>car_type</th>\n",
       "      <th>Fuel2</th>\n",
       "      <th>upholstery_type</th>\n",
       "      <th>upholstery_color</th>\n",
       "    </tr>\n",
       "  </thead>\n",
       "  <tbody>\n",
       "  </tbody>\n",
       "</table>\n",
       "<p>0 rows × 31 columns</p>\n",
       "</div>"
      ],
      "text/plain": [
       "Empty DataFrame\n",
       "Columns: [make_model, short_description, body_type, price, vat, km, registration, prev_owner, hp, Warranty, Body Color, Paint Type, Nr. of Doors, Nr. of Seats, Gearing Type, Displacement, Cylinders, Weight, Drive chain, Consumption, CO2 Emission, Emission Class, \n",
       "Comfort & Convenience\n",
       ", \n",
       "Entertainment & Media\n",
       ", \n",
       "Extras\n",
       ", \n",
       "Safety & Security\n",
       ", Gears, car_type, Fuel2, upholstery_type, upholstery_color]\n",
       "Index: []\n",
       "\n",
       "[0 rows x 31 columns]"
      ]
     },
     "execution_count": 138,
     "metadata": {},
     "output_type": "execute_result"
    }
   ],
   "source": [
    "cars[cars[\"Nr. of Seats\"]== 6] # The values thought to be entered incorrectly were corrected manually."
   ]
  },
  {
   "cell_type": "code",
   "execution_count": 139,
   "metadata": {},
   "outputs": [],
   "source": [
    "cars.loc[[582, 15890], \"Nr. of Seats\"] = 5 # The values thought to be entered incorrectly were corrected manually."
   ]
  },
  {
   "cell_type": "code",
   "execution_count": 140,
   "metadata": {},
   "outputs": [
    {
     "data": {
      "text/plain": [
       "582      5\n",
       "15890    5\n",
       "Name: Nr. of Seats, dtype: object"
      ]
     },
     "execution_count": 140,
     "metadata": {},
     "output_type": "execute_result"
    }
   ],
   "source": [
    "cars.loc[[582, 15890], \"Nr. of Seats\"]"
   ]
  },
  {
   "cell_type": "code",
   "execution_count": 141,
   "metadata": {},
   "outputs": [],
   "source": [
    "cars[\"Nr. of Seats\"] = cars[\"Nr. of Seats\"].astype(\"int\")"
   ]
  },
  {
   "cell_type": "code",
   "execution_count": 142,
   "metadata": {},
   "outputs": [
    {
     "data": {
      "text/plain": [
       "dtype('int32')"
      ]
     },
     "execution_count": 142,
     "metadata": {},
     "output_type": "execute_result"
    }
   ],
   "source": [
    "cars[\"Nr. of Seats\"].dtype"
   ]
  },
  {
   "cell_type": "code",
   "execution_count": 143,
   "metadata": {},
   "outputs": [
    {
     "data": {
      "text/html": [
       "<div>\n",
       "<style scoped>\n",
       "    .dataframe tbody tr th:only-of-type {\n",
       "        vertical-align: middle;\n",
       "    }\n",
       "\n",
       "    .dataframe tbody tr th {\n",
       "        vertical-align: top;\n",
       "    }\n",
       "\n",
       "    .dataframe thead th {\n",
       "        text-align: right;\n",
       "    }\n",
       "</style>\n",
       "<table border=\"1\" class=\"dataframe\">\n",
       "  <thead>\n",
       "    <tr style=\"text-align: right;\">\n",
       "      <th></th>\n",
       "      <th>Warranty</th>\n",
       "      <th>Body Color</th>\n",
       "      <th>Paint Type</th>\n",
       "      <th>Nr. of Doors</th>\n",
       "      <th>Nr. of Seats</th>\n",
       "      <th>Gearing Type</th>\n",
       "      <th>Displacement</th>\n",
       "      <th>Cylinders</th>\n",
       "      <th>Weight</th>\n",
       "      <th>Drive chain</th>\n",
       "      <th>...</th>\n",
       "      <th>Emission Class</th>\n",
       "      <th>\\nComfort &amp; Convenience\\n</th>\n",
       "      <th>\\nEntertainment &amp; Media\\n</th>\n",
       "      <th>\\nExtras\\n</th>\n",
       "      <th>\\nSafety &amp; Security\\n</th>\n",
       "      <th>Gears</th>\n",
       "      <th>car_type</th>\n",
       "      <th>Fuel2</th>\n",
       "      <th>upholstery_type</th>\n",
       "      <th>upholstery_color</th>\n",
       "    </tr>\n",
       "  </thead>\n",
       "  <tbody>\n",
       "    <tr>\n",
       "      <th>0</th>\n",
       "      <td>0</td>\n",
       "      <td>Black</td>\n",
       "      <td>Metallic</td>\n",
       "      <td>5</td>\n",
       "      <td>5</td>\n",
       "      <td>[\\n, Automatic, \\n]</td>\n",
       "      <td>[\\n1,422 cc\\n]</td>\n",
       "      <td>[\\n3\\n]</td>\n",
       "      <td>[\\n1,220 kg\\n]</td>\n",
       "      <td>[\\nfront\\n]</td>\n",
       "      <td>...</td>\n",
       "      <td>[\\nEuro 6\\n]</td>\n",
       "      <td>[Air conditioning, Armrest, Automatic climate ...</td>\n",
       "      <td>[Bluetooth, Hands-free equipment, On-board com...</td>\n",
       "      <td>[Alloy wheels, Catalytic Converter, Voice Cont...</td>\n",
       "      <td>[ABS, Central door lock, Daytime running light...</td>\n",
       "      <td>NaN</td>\n",
       "      <td>Used</td>\n",
       "      <td>diesel</td>\n",
       "      <td>Cloth</td>\n",
       "      <td>Black</td>\n",
       "    </tr>\n",
       "  </tbody>\n",
       "</table>\n",
       "<p>1 rows × 22 columns</p>\n",
       "</div>"
      ],
      "text/plain": [
       "   Warranty Body Color Paint Type  Nr. of Doors  Nr. of Seats  \\\n",
       "0         0      Black   Metallic             5             5   \n",
       "\n",
       "          Gearing Type    Displacement Cylinders          Weight  Drive chain  \\\n",
       "0  [\\n, Automatic, \\n]  [\\n1,422 cc\\n]   [\\n3\\n]  [\\n1,220 kg\\n]  [\\nfront\\n]   \n",
       "\n",
       "   ... Emission Class                          \\nComfort & Convenience\\n  \\\n",
       "0  ...   [\\nEuro 6\\n]  [Air conditioning, Armrest, Automatic climate ...   \n",
       "\n",
       "                           \\nEntertainment & Media\\n  \\\n",
       "0  [Bluetooth, Hands-free equipment, On-board com...   \n",
       "\n",
       "                                          \\nExtras\\n  \\\n",
       "0  [Alloy wheels, Catalytic Converter, Voice Cont...   \n",
       "\n",
       "                               \\nSafety & Security\\n Gears car_type   Fuel2  \\\n",
       "0  [ABS, Central door lock, Daytime running light...   NaN     Used  diesel   \n",
       "\n",
       "  upholstery_type upholstery_color  \n",
       "0           Cloth            Black  \n",
       "\n",
       "[1 rows x 22 columns]"
      ]
     },
     "execution_count": 143,
     "metadata": {},
     "output_type": "execute_result"
    }
   ],
   "source": [
    "cars.loc[:, \"Warranty\":].head(1)"
   ]
  },
  {
   "cell_type": "code",
   "execution_count": 144,
   "metadata": {},
   "outputs": [
    {
     "ename": "TypeError",
     "evalue": "unhashable type: 'list'",
     "output_type": "error",
     "traceback": [
      "\u001b[1;31m---------------------------------------------------------------------------\u001b[0m",
      "\u001b[1;31mTypeError\u001b[0m                                 Traceback (most recent call last)",
      "\u001b[1;32mpandas\\_libs\\hashtable_class_helper.pxi\u001b[0m in \u001b[0;36mpandas._libs.hashtable.PyObjectHashTable.map_locations\u001b[1;34m()\u001b[0m\n",
      "\u001b[1;31mTypeError\u001b[0m: unhashable type: 'list'"
     ]
    },
    {
     "name": "stderr",
     "output_type": "stream",
     "text": [
      "Exception ignored in: 'pandas._libs.index.IndexEngine._call_map_locations'\n",
      "Traceback (most recent call last):\n",
      "  File \"pandas\\_libs\\hashtable_class_helper.pxi\", line 1709, in pandas._libs.hashtable.PyObjectHashTable.map_locations\n",
      "TypeError: unhashable type: 'list'\n"
     ]
    },
    {
     "data": {
      "text/plain": [
       "[\\n, Manual, \\n]            8153\n",
       "[\\n, Automatic, \\n]         7297\n",
       "[\\n, Semi-automatic, \\n]     469\n",
       "Name: Gearing Type, dtype: int64"
      ]
     },
     "execution_count": 144,
     "metadata": {},
     "output_type": "execute_result"
    }
   ],
   "source": [
    "cars[\"Gearing Type\"].value_counts(dropna = False)"
   ]
  },
  {
   "cell_type": "code",
   "execution_count": 145,
   "metadata": {},
   "outputs": [],
   "source": [
    "def unique_values(item):\n",
    "    \n",
    "    if type(item) == list:\n",
    "        return \"\".join(item).strip(\"\\n,\").split()\n",
    "        \n",
    "    else:\n",
    "        return item"
   ]
  },
  {
   "cell_type": "code",
   "execution_count": 146,
   "metadata": {},
   "outputs": [
    {
     "data": {
      "text/plain": [
       "Manual            8153\n",
       "Automatic         7297\n",
       "Semi-automatic     469\n",
       "Name: Gearing Type, dtype: int64"
      ]
     },
     "execution_count": 146,
     "metadata": {},
     "output_type": "execute_result"
    }
   ],
   "source": [
    "cars[\"Gearing Type\"].apply(unique_values).str[0].value_counts(dropna = False)"
   ]
  },
  {
   "cell_type": "code",
   "execution_count": 147,
   "metadata": {},
   "outputs": [
    {
     "data": {
      "text/plain": [
       "Manual            8153\n",
       "Automatic         7297\n",
       "Semi-automatic     469\n",
       "Name: Gearing Type, dtype: int64"
      ]
     },
     "execution_count": 147,
     "metadata": {},
     "output_type": "execute_result"
    }
   ],
   "source": [
    "cars[\"Gearing Type\"].apply(unique_values).str[0].value_counts(dropna = False)"
   ]
  },
  {
   "cell_type": "code",
   "execution_count": 148,
   "metadata": {},
   "outputs": [],
   "source": [
    "cars[\"Gearing Type\"] = cars[\"Gearing Type\"].apply(unique_values).str[0]"
   ]
  },
  {
   "cell_type": "code",
   "execution_count": 149,
   "metadata": {},
   "outputs": [
    {
     "data": {
      "text/plain": [
       "Manual            8153\n",
       "Automatic         7297\n",
       "Semi-automatic     469\n",
       "Name: Gearing Type, dtype: int64"
      ]
     },
     "execution_count": 149,
     "metadata": {},
     "output_type": "execute_result"
    }
   ],
   "source": [
    "cars[\"Gearing Type\"].value_counts(dropna = False)"
   ]
  },
  {
   "cell_type": "code",
   "execution_count": 150,
   "metadata": {},
   "outputs": [
    {
     "ename": "TypeError",
     "evalue": "unhashable type: 'list'",
     "output_type": "error",
     "traceback": [
      "\u001b[1;31m---------------------------------------------------------------------------\u001b[0m",
      "\u001b[1;31mTypeError\u001b[0m                                 Traceback (most recent call last)",
      "\u001b[1;32mpandas\\_libs\\hashtable_class_helper.pxi\u001b[0m in \u001b[0;36mpandas._libs.hashtable.PyObjectHashTable.map_locations\u001b[1;34m()\u001b[0m\n",
      "\u001b[1;31mTypeError\u001b[0m: unhashable type: 'list'"
     ]
    },
    {
     "name": "stderr",
     "output_type": "stream",
     "text": [
      "Exception ignored in: 'pandas._libs.index.IndexEngine._call_map_locations'\n",
      "Traceback (most recent call last):\n",
      "  File \"pandas\\_libs\\hashtable_class_helper.pxi\", line 1709, in pandas._libs.hashtable.PyObjectHashTable.map_locations\n",
      "TypeError: unhashable type: 'list'\n"
     ]
    },
    {
     "data": {
      "text/plain": [
       "[\\n1,598 cc\\n]     4761\n",
       "[\\n999 cc\\n]       2438\n",
       "[\\n1,398 cc\\n]     1314\n",
       "[\\n1,399 cc\\n]      749\n",
       "[\\n1,229 cc\\n]      677\n",
       "                   ... \n",
       "[\\n1,800 cc\\n]        1\n",
       "[\\n140 cc\\n]          1\n",
       "[\\n15,898 cc\\n]       1\n",
       "[\\n1,686 cc\\n]        1\n",
       "[\\n1,368 cc\\n]        1\n",
       "Name: Displacement, Length: 78, dtype: int64"
      ]
     },
     "execution_count": 150,
     "metadata": {},
     "output_type": "execute_result"
    }
   ],
   "source": [
    "cars[\"Displacement\"].value_counts(dropna = False)"
   ]
  },
  {
   "cell_type": "code",
   "execution_count": 151,
   "metadata": {},
   "outputs": [],
   "source": [
    "def unique_values(item):\n",
    "    \n",
    "    if type(item) == list:\n",
    "        return \"\".join(item).strip(\"\\n\")\n",
    "        \n",
    "    else:\n",
    "        return item"
   ]
  },
  {
   "cell_type": "code",
   "execution_count": 152,
   "metadata": {},
   "outputs": [
    {
     "data": {
      "text/plain": [
       "0        1,422 cc\n",
       "1        1,798 cc\n",
       "2        1,598 cc\n",
       "3        1,422 cc\n",
       "4        1,422 cc\n",
       "           ...   \n",
       "15914    1,997 cc\n",
       "15915    1,798 cc\n",
       "15916    1,997 cc\n",
       "15917    1,997 cc\n",
       "15918    1,798 cc\n",
       "Name: Displacement, Length: 15919, dtype: object"
      ]
     },
     "execution_count": 152,
     "metadata": {},
     "output_type": "execute_result"
    }
   ],
   "source": [
    "cars[\"Displacement\"].apply(unique_values) # data excracted from list"
   ]
  },
  {
   "cell_type": "code",
   "execution_count": 153,
   "metadata": {},
   "outputs": [
    {
     "data": {
      "text/html": [
       "<div>\n",
       "<style scoped>\n",
       "    .dataframe tbody tr th:only-of-type {\n",
       "        vertical-align: middle;\n",
       "    }\n",
       "\n",
       "    .dataframe tbody tr th {\n",
       "        vertical-align: top;\n",
       "    }\n",
       "\n",
       "    .dataframe thead th {\n",
       "        text-align: right;\n",
       "    }\n",
       "</style>\n",
       "<table border=\"1\" class=\"dataframe\">\n",
       "  <thead>\n",
       "    <tr style=\"text-align: right;\">\n",
       "      <th></th>\n",
       "      <th>0</th>\n",
       "    </tr>\n",
       "  </thead>\n",
       "  <tbody>\n",
       "    <tr>\n",
       "      <th>0</th>\n",
       "      <td>1422</td>\n",
       "    </tr>\n",
       "    <tr>\n",
       "      <th>1</th>\n",
       "      <td>1798</td>\n",
       "    </tr>\n",
       "    <tr>\n",
       "      <th>2</th>\n",
       "      <td>1598</td>\n",
       "    </tr>\n",
       "    <tr>\n",
       "      <th>3</th>\n",
       "      <td>1422</td>\n",
       "    </tr>\n",
       "    <tr>\n",
       "      <th>4</th>\n",
       "      <td>1422</td>\n",
       "    </tr>\n",
       "    <tr>\n",
       "      <th>...</th>\n",
       "      <td>...</td>\n",
       "    </tr>\n",
       "    <tr>\n",
       "      <th>15914</th>\n",
       "      <td>1997</td>\n",
       "    </tr>\n",
       "    <tr>\n",
       "      <th>15915</th>\n",
       "      <td>1798</td>\n",
       "    </tr>\n",
       "    <tr>\n",
       "      <th>15916</th>\n",
       "      <td>1997</td>\n",
       "    </tr>\n",
       "    <tr>\n",
       "      <th>15917</th>\n",
       "      <td>1997</td>\n",
       "    </tr>\n",
       "    <tr>\n",
       "      <th>15918</th>\n",
       "      <td>1798</td>\n",
       "    </tr>\n",
       "  </tbody>\n",
       "</table>\n",
       "<p>15919 rows × 1 columns</p>\n",
       "</div>"
      ],
      "text/plain": [
       "          0\n",
       "0      1422\n",
       "1      1798\n",
       "2      1598\n",
       "3      1422\n",
       "4      1422\n",
       "...     ...\n",
       "15914  1997\n",
       "15915  1798\n",
       "15916  1997\n",
       "15917  1997\n",
       "15918  1798\n",
       "\n",
       "[15919 rows x 1 columns]"
      ]
     },
     "execution_count": 153,
     "metadata": {},
     "output_type": "execute_result"
    }
   ],
   "source": [
    "cars[\"Displacement\"].apply(unique_values).str.replace(\",\", \"\").str.extract(\"(\\d*,\\d*|\\d*)\")"
   ]
  },
  {
   "cell_type": "code",
   "execution_count": 154,
   "metadata": {},
   "outputs": [],
   "source": [
    "cars[\"Displacement\"] = cars[\"Displacement\"].apply(unique_values).str.replace(\",\", \"\").str.extract(\"(\\d*,\\d*|\\d*)\")\n",
    "# Numeric data that will be useful for us was excracted"
   ]
  },
  {
   "cell_type": "code",
   "execution_count": 155,
   "metadata": {},
   "outputs": [
    {
     "data": {
      "text/plain": [
       "496"
      ]
     },
     "execution_count": 155,
     "metadata": {},
     "output_type": "execute_result"
    }
   ],
   "source": [
    "cars[\"Displacement\"].isnull().sum()"
   ]
  },
  {
   "cell_type": "code",
   "execution_count": 156,
   "metadata": {},
   "outputs": [
    {
     "data": {
      "text/plain": [
       "1598    4761\n",
       "999     2438\n",
       "1398    1314\n",
       "1399     749\n",
       "1229     677\n",
       "Name: Displacement, dtype: int64"
      ]
     },
     "execution_count": 156,
     "metadata": {},
     "output_type": "execute_result"
    }
   ],
   "source": [
    "cars[\"Displacement\"].value_counts().head()"
   ]
  },
  {
   "cell_type": "code",
   "execution_count": 157,
   "metadata": {},
   "outputs": [],
   "source": [
    "def fill_most(df, model, col):\n",
    "    x = df[col][df[\"make_model\"] == model].mode()\n",
    "    df[col][df[\"make_model\"] == model] = df[col][df[\"make_model\"] == model].fillna(x[0])\n",
    "    return df[col][df[\"make_model\"] == model]"
   ]
  },
  {
   "cell_type": "code",
   "execution_count": 158,
   "metadata": {},
   "outputs": [],
   "source": [
    "for i in cars[\"make_model\"].unique():\n",
    "    fill_most(cars, i, \"Displacement\")"
   ]
  },
  {
   "cell_type": "code",
   "execution_count": 159,
   "metadata": {},
   "outputs": [],
   "source": [
    "cars[\"Displacement\"] = cars[\"Displacement\"].astype(\"int\")"
   ]
  },
  {
   "cell_type": "code",
   "execution_count": 160,
   "metadata": {},
   "outputs": [
    {
     "data": {
      "text/plain": [
       "dtype('int32')"
      ]
     },
     "execution_count": 160,
     "metadata": {},
     "output_type": "execute_result"
    }
   ],
   "source": [
    "cars[\"Displacement\"].dtype"
   ]
  },
  {
   "cell_type": "code",
   "execution_count": 161,
   "metadata": {},
   "outputs": [
    {
     "data": {
      "text/plain": [
       "[1,\n",
       " 2,\n",
       " 54,\n",
       " 122,\n",
       " 139,\n",
       " 140,\n",
       " 160,\n",
       " 890,\n",
       " 898,\n",
       " 899,\n",
       " 900,\n",
       " 929,\n",
       " 973,\n",
       " 995,\n",
       " 996,\n",
       " 997,\n",
       " 998,\n",
       " 999,\n",
       " 1000,\n",
       " 1100,\n",
       " 1149,\n",
       " 1195,\n",
       " 1197,\n",
       " 1198,\n",
       " 1199,\n",
       " 1200,\n",
       " 1229,\n",
       " 1239,\n",
       " 1248,\n",
       " 1300,\n",
       " 1333,\n",
       " 1350,\n",
       " 1364,\n",
       " 1368,\n",
       " 1369,\n",
       " 1390,\n",
       " 1395,\n",
       " 1396,\n",
       " 1397,\n",
       " 1398,\n",
       " 1399,\n",
       " 1400,\n",
       " 1422,\n",
       " 1461,\n",
       " 1490,\n",
       " 1495,\n",
       " 1496,\n",
       " 1498,\n",
       " 1499,\n",
       " 1500,\n",
       " 1533,\n",
       " 1568,\n",
       " 1580,\n",
       " 1584,\n",
       " 1589,\n",
       " 1596,\n",
       " 1598,\n",
       " 1599,\n",
       " 1600,\n",
       " 1618,\n",
       " 1686,\n",
       " 1696,\n",
       " 1798,\n",
       " 1800,\n",
       " 1856,\n",
       " 1896,\n",
       " 1956,\n",
       " 1968,\n",
       " 1984,\n",
       " 1995,\n",
       " 1997,\n",
       " 1998,\n",
       " 2000,\n",
       " 2480,\n",
       " 2967,\n",
       " 15898,\n",
       " 16000]"
      ]
     },
     "execution_count": 161,
     "metadata": {},
     "output_type": "execute_result"
    }
   ],
   "source": [
    "sorted(cars[\"Displacement\"].value_counts().index)"
   ]
  },
  {
   "cell_type": "code",
   "execution_count": 162,
   "metadata": {},
   "outputs": [],
   "source": [
    "# The values thought to be entered incorrectly were corrected manually.\n",
    "\n",
    "cars.loc[(cars[\"Displacement\"] == 1) & (cars[\"make_model\"] == \"Opel Insignia\"), \"Displacement\"] = 1598\n",
    "cars.loc[(cars[\"Displacement\"] == 1) & (cars[\"make_model\"] == \"Renault Clio\"), \"Displacement\"] = 1229\n",
    "cars.loc[(cars[\"Displacement\"] == 2) & (cars[\"make_model\"] == \"Opel Insignia\"), \"Displacement\"] = 1998\n",
    "cars.loc[(cars[\"Displacement\"] == 2) & (cars[\"make_model\"] == \"Renault Clio\"), \"Displacement\"] = 1490\n",
    "cars.loc[(cars[\"Displacement\"] == 160) & (cars[\"make_model\"] == \"Renault Espace\"), \"Displacement\"] = 1600\n",
    "cars.loc[(cars[\"Displacement\"] == 122) & (cars[\"make_model\"] == \"Opel Corsa\"), \"Displacement\"] = 1220\n",
    "cars.loc[(cars[\"Displacement\"] == 54) & (cars[\"make_model\"] == \"Renault Clio\"), \"Displacement\"] = 1490\n",
    "cars.loc[(cars[\"Displacement\"] == 140) & (cars[\"make_model\"] == \"Opel Astra\"), \"Displacement\"] = 1400\n",
    "cars.loc[(cars[\"Displacement\"] == 15898)& (cars[\"make_model\"] == \"Opel Astra\"), \"Displacement\"] = 1598\n",
    "cars.loc[(cars[\"Displacement\"] == 139)& (cars[\"make_model\"] == \"Opel Astra\"), \"Displacement\"] = 1398\n",
    "cars.loc[(cars[\"Displacement\"] == 16000)& (cars[\"make_model\"] == \"Opel Insignia\"), \"Displacement\"] = 1598\n",
    "cars.loc[(cars[\"Displacement\"] == 2967)& (cars[\"make_model\"] == \"Opel Insignia\"), \"Displacement\"] = 1598\n",
    "cars.loc[(cars[\"Displacement\"] == 1856), \"Displacement\"]  = 1598\n",
    "cars.loc[(cars[\"Displacement\"] == 1896), \"Displacement\"] = 1598"
   ]
  },
  {
   "cell_type": "code",
   "execution_count": 163,
   "metadata": {},
   "outputs": [],
   "source": [
    "# Displacements simplified\n",
    "\n",
    "def unique_values(item):\n",
    "\n",
    "    \n",
    "    if item >=890 and item <= 929:\n",
    "        return 898\n",
    "    elif item >=973 and item <= 1100:\n",
    "        return 998\n",
    "    elif item >=1149 and item <= 1239:\n",
    "        return 1198\n",
    "    elif item >=1248 and item <= 1333:\n",
    "        return 1298\n",
    "    elif item >=1350 and item <= 1422: \n",
    "        return 1398\n",
    "    elif item >=1461 and item <= 1533:\n",
    "        return 1498\n",
    "    elif item >=1568 and item <= 1696:\n",
    "        return 1598\n",
    "    elif item >=1798 and item <= 1856:\n",
    "        return 1798\n",
    "    elif item >=1956 and item <= 2000:\n",
    "        return 1998\n",
    "    else:\n",
    "        return item\n",
    "    "
   ]
  },
  {
   "cell_type": "code",
   "execution_count": 164,
   "metadata": {},
   "outputs": [
    {
     "data": {
      "text/plain": [
       "0        1398\n",
       "1        1798\n",
       "2        1598\n",
       "3        1398\n",
       "4        1398\n",
       "         ... \n",
       "15914    1998\n",
       "15915    1798\n",
       "15916    1998\n",
       "15917    1998\n",
       "15918    1798\n",
       "Name: Displacement, Length: 15919, dtype: int64"
      ]
     },
     "execution_count": 164,
     "metadata": {},
     "output_type": "execute_result"
    }
   ],
   "source": [
    "cars[\"Displacement\"].apply(unique_values) # Displacements simplified"
   ]
  },
  {
   "cell_type": "code",
   "execution_count": 165,
   "metadata": {},
   "outputs": [],
   "source": [
    "cars[\"Displacement\"] = cars[\"Displacement\"].apply(unique_values)"
   ]
  },
  {
   "cell_type": "code",
   "execution_count": null,
   "metadata": {},
   "outputs": [],
   "source": []
  },
  {
   "cell_type": "code",
   "execution_count": 166,
   "metadata": {},
   "outputs": [
    {
     "data": {
      "text/html": [
       "<div>\n",
       "<style scoped>\n",
       "    .dataframe tbody tr th:only-of-type {\n",
       "        vertical-align: middle;\n",
       "    }\n",
       "\n",
       "    .dataframe tbody tr th {\n",
       "        vertical-align: top;\n",
       "    }\n",
       "\n",
       "    .dataframe thead th {\n",
       "        text-align: right;\n",
       "    }\n",
       "</style>\n",
       "<table border=\"1\" class=\"dataframe\">\n",
       "  <thead>\n",
       "    <tr style=\"text-align: right;\">\n",
       "      <th></th>\n",
       "      <th>Weight</th>\n",
       "      <th>Drive chain</th>\n",
       "      <th>Consumption</th>\n",
       "      <th>CO2 Emission</th>\n",
       "      <th>Emission Class</th>\n",
       "      <th>\\nComfort &amp; Convenience\\n</th>\n",
       "      <th>\\nEntertainment &amp; Media\\n</th>\n",
       "      <th>\\nExtras\\n</th>\n",
       "      <th>\\nSafety &amp; Security\\n</th>\n",
       "      <th>Gears</th>\n",
       "      <th>car_type</th>\n",
       "      <th>Fuel2</th>\n",
       "      <th>upholstery_type</th>\n",
       "      <th>upholstery_color</th>\n",
       "    </tr>\n",
       "  </thead>\n",
       "  <tbody>\n",
       "    <tr>\n",
       "      <th>0</th>\n",
       "      <td>[\\n1,220 kg\\n]</td>\n",
       "      <td>[\\nfront\\n]</td>\n",
       "      <td>[[3.8 l/100 km (comb)], [4.3 l/100 km (city)],...</td>\n",
       "      <td>[\\n99 g CO2/km (comb)\\n]</td>\n",
       "      <td>[\\nEuro 6\\n]</td>\n",
       "      <td>[Air conditioning, Armrest, Automatic climate ...</td>\n",
       "      <td>[Bluetooth, Hands-free equipment, On-board com...</td>\n",
       "      <td>[Alloy wheels, Catalytic Converter, Voice Cont...</td>\n",
       "      <td>[ABS, Central door lock, Daytime running light...</td>\n",
       "      <td>NaN</td>\n",
       "      <td>Used</td>\n",
       "      <td>diesel</td>\n",
       "      <td>Cloth</td>\n",
       "      <td>Black</td>\n",
       "    </tr>\n",
       "  </tbody>\n",
       "</table>\n",
       "</div>"
      ],
      "text/plain": [
       "           Weight  Drive chain  \\\n",
       "0  [\\n1,220 kg\\n]  [\\nfront\\n]   \n",
       "\n",
       "                                         Consumption  \\\n",
       "0  [[3.8 l/100 km (comb)], [4.3 l/100 km (city)],...   \n",
       "\n",
       "               CO2 Emission Emission Class  \\\n",
       "0  [\\n99 g CO2/km (comb)\\n]   [\\nEuro 6\\n]   \n",
       "\n",
       "                           \\nComfort & Convenience\\n  \\\n",
       "0  [Air conditioning, Armrest, Automatic climate ...   \n",
       "\n",
       "                           \\nEntertainment & Media\\n  \\\n",
       "0  [Bluetooth, Hands-free equipment, On-board com...   \n",
       "\n",
       "                                          \\nExtras\\n  \\\n",
       "0  [Alloy wheels, Catalytic Converter, Voice Cont...   \n",
       "\n",
       "                               \\nSafety & Security\\n Gears car_type   Fuel2  \\\n",
       "0  [ABS, Central door lock, Daytime running light...   NaN     Used  diesel   \n",
       "\n",
       "  upholstery_type upholstery_color  \n",
       "0           Cloth            Black  "
      ]
     },
     "execution_count": 166,
     "metadata": {},
     "output_type": "execute_result"
    }
   ],
   "source": [
    "cars.loc[:, \"Weight\":].head(1)"
   ]
  },
  {
   "cell_type": "code",
   "execution_count": 167,
   "metadata": {},
   "outputs": [
    {
     "ename": "TypeError",
     "evalue": "unhashable type: 'list'",
     "output_type": "error",
     "traceback": [
      "\u001b[1;31m---------------------------------------------------------------------------\u001b[0m",
      "\u001b[1;31mTypeError\u001b[0m                                 Traceback (most recent call last)",
      "\u001b[1;32mpandas\\_libs\\hashtable_class_helper.pxi\u001b[0m in \u001b[0;36mpandas._libs.hashtable.PyObjectHashTable.map_locations\u001b[1;34m()\u001b[0m\n",
      "\u001b[1;31mTypeError\u001b[0m: unhashable type: 'list'"
     ]
    },
    {
     "name": "stderr",
     "output_type": "stream",
     "text": [
      "Exception ignored in: 'pandas._libs.index.IndexEngine._call_map_locations'\n",
      "Traceback (most recent call last):\n",
      "  File \"pandas\\_libs\\hashtable_class_helper.pxi\", line 1709, in pandas._libs.hashtable.PyObjectHashTable.map_locations\n",
      "TypeError: unhashable type: 'list'\n"
     ]
    },
    {
     "data": {
      "text/plain": [
       "[\\n4\\n]    8105\n",
       "NaN        5680\n",
       "[\\n3\\n]    2104\n",
       "[\\n5\\n]      22\n",
       "[\\n6\\n]       3\n",
       "[\\n2\\n]       2\n",
       "[\\n8\\n]       2\n",
       "[\\n1\\n]       1\n",
       "Name: Cylinders, dtype: int64"
      ]
     },
     "execution_count": 167,
     "metadata": {},
     "output_type": "execute_result"
    }
   ],
   "source": [
    "cars[\"Cylinders\"].value_counts(dropna = False)"
   ]
  },
  {
   "cell_type": "code",
   "execution_count": 168,
   "metadata": {},
   "outputs": [],
   "source": [
    "def unique_values(item):\n",
    "    \n",
    "    if type(item) == list:\n",
    "        return \"\".join(item).strip(\"\\n\")\n",
    "        \n",
    "    else:\n",
    "        return item"
   ]
  },
  {
   "cell_type": "code",
   "execution_count": 169,
   "metadata": {},
   "outputs": [
    {
     "data": {
      "text/plain": [
       "4      8105\n",
       "NaN    5680\n",
       "3      2104\n",
       "5        22\n",
       "6         3\n",
       "2         2\n",
       "8         2\n",
       "1         1\n",
       "Name: Cylinders, dtype: int64"
      ]
     },
     "execution_count": 169,
     "metadata": {},
     "output_type": "execute_result"
    }
   ],
   "source": [
    "cars[\"Cylinders\"].apply(unique_values).value_counts(dropna = False) # data extracted from list"
   ]
  },
  {
   "cell_type": "code",
   "execution_count": 170,
   "metadata": {},
   "outputs": [],
   "source": [
    "cars[\"Cylinders\"] = cars[\"Cylinders\"].apply(unique_values)"
   ]
  },
  {
   "cell_type": "code",
   "execution_count": null,
   "metadata": {},
   "outputs": [],
   "source": []
  },
  {
   "cell_type": "code",
   "execution_count": 171,
   "metadata": {},
   "outputs": [
    {
     "data": {
      "text/html": [
       "<div>\n",
       "<style scoped>\n",
       "    .dataframe tbody tr th:only-of-type {\n",
       "        vertical-align: middle;\n",
       "    }\n",
       "\n",
       "    .dataframe tbody tr th {\n",
       "        vertical-align: top;\n",
       "    }\n",
       "\n",
       "    .dataframe thead th {\n",
       "        text-align: right;\n",
       "    }\n",
       "</style>\n",
       "<table border=\"1\" class=\"dataframe\">\n",
       "  <thead>\n",
       "    <tr style=\"text-align: right;\">\n",
       "      <th></th>\n",
       "      <th>make_model</th>\n",
       "      <th>short_description</th>\n",
       "      <th>body_type</th>\n",
       "      <th>price</th>\n",
       "      <th>vat</th>\n",
       "      <th>km</th>\n",
       "      <th>registration</th>\n",
       "      <th>prev_owner</th>\n",
       "      <th>hp</th>\n",
       "      <th>Warranty</th>\n",
       "      <th>...</th>\n",
       "      <th>Emission Class</th>\n",
       "      <th>\\nComfort &amp; Convenience\\n</th>\n",
       "      <th>\\nEntertainment &amp; Media\\n</th>\n",
       "      <th>\\nExtras\\n</th>\n",
       "      <th>\\nSafety &amp; Security\\n</th>\n",
       "      <th>Gears</th>\n",
       "      <th>car_type</th>\n",
       "      <th>Fuel2</th>\n",
       "      <th>upholstery_type</th>\n",
       "      <th>upholstery_color</th>\n",
       "    </tr>\n",
       "  </thead>\n",
       "  <tbody>\n",
       "    <tr>\n",
       "      <th>3587</th>\n",
       "      <td>Audi A3</td>\n",
       "      <td>RS 3 SPB 2.5 TFSI quattro S tronic</td>\n",
       "      <td>Sedans</td>\n",
       "      <td>64900</td>\n",
       "      <td>VAT deductible</td>\n",
       "      <td>35000</td>\n",
       "      <td>2018-04-01</td>\n",
       "      <td>1 previous owner</td>\n",
       "      <td>294</td>\n",
       "      <td>0</td>\n",
       "      <td>...</td>\n",
       "      <td>[\\nEuro 6\\n]</td>\n",
       "      <td>[Air conditioning, Seat ventilation, Split rea...</td>\n",
       "      <td>[Radio]</td>\n",
       "      <td>[Alloy wheels]</td>\n",
       "      <td>[Adaptive Cruise Control, Alarm system, Centra...</td>\n",
       "      <td>[\\n7\\n]</td>\n",
       "      <td>Used</td>\n",
       "      <td>gasoline</td>\n",
       "      <td>Full leather</td>\n",
       "      <td>Black</td>\n",
       "    </tr>\n",
       "    <tr>\n",
       "      <th>3590</th>\n",
       "      <td>Audi A3</td>\n",
       "      <td>RS 3 SPB Quattro S Tronic</td>\n",
       "      <td>Sedans</td>\n",
       "      <td>62900</td>\n",
       "      <td>VAT deductible</td>\n",
       "      <td>700</td>\n",
       "      <td>2019-04-01</td>\n",
       "      <td>1 previous owner</td>\n",
       "      <td>294</td>\n",
       "      <td>0</td>\n",
       "      <td>...</td>\n",
       "      <td>[\\nEuro 6d-TEMP\\n]</td>\n",
       "      <td>[Air conditioning, Seat ventilation, Split rea...</td>\n",
       "      <td>[Bluetooth, Radio]</td>\n",
       "      <td>[Alloy wheels]</td>\n",
       "      <td>[ABS, Adaptive Cruise Control, Alarm system, C...</td>\n",
       "      <td>[\\n7\\n]</td>\n",
       "      <td>Used</td>\n",
       "      <td>gasoline</td>\n",
       "      <td>Part leather</td>\n",
       "      <td>Black</td>\n",
       "    </tr>\n",
       "    <tr>\n",
       "      <th>3592</th>\n",
       "      <td>Audi A3</td>\n",
       "      <td>RS 3 SPB 2.5 TFSI quattro S tronic ! FAST VOLL</td>\n",
       "      <td>Sedans</td>\n",
       "      <td>56900</td>\n",
       "      <td>VAT deductible</td>\n",
       "      <td>5200</td>\n",
       "      <td>2018-08-01</td>\n",
       "      <td>1 previous owner</td>\n",
       "      <td>294</td>\n",
       "      <td>0</td>\n",
       "      <td>...</td>\n",
       "      <td>[\\nEuro 6\\n]</td>\n",
       "      <td>[Air conditioning, Air suspension, Armrest, Au...</td>\n",
       "      <td>[Bluetooth, CD player, Digital radio, Hands-fr...</td>\n",
       "      <td>[Alloy wheels, Shift paddles, Sport package, S...</td>\n",
       "      <td>[ABS, Adaptive Cruise Control, Adaptive headli...</td>\n",
       "      <td>[\\n7\\n]</td>\n",
       "      <td>Used</td>\n",
       "      <td>gasoline</td>\n",
       "      <td>Full leather</td>\n",
       "      <td>Black</td>\n",
       "    </tr>\n",
       "    <tr>\n",
       "      <th>3593</th>\n",
       "      <td>Audi A3</td>\n",
       "      <td>RS 3 SPB 2.5 TFSI quattro S tronic</td>\n",
       "      <td>Sedans</td>\n",
       "      <td>58500</td>\n",
       "      <td>VAT deductible</td>\n",
       "      <td>10000</td>\n",
       "      <td>2018-10-01</td>\n",
       "      <td>1 previous owner</td>\n",
       "      <td>294</td>\n",
       "      <td>0</td>\n",
       "      <td>...</td>\n",
       "      <td>[\\nEuro 6\\n]</td>\n",
       "      <td>[Air conditioning, Seat ventilation, Split rea...</td>\n",
       "      <td>[Radio]</td>\n",
       "      <td>[Alloy wheels]</td>\n",
       "      <td>[Adaptive Cruise Control, Alarm system, Centra...</td>\n",
       "      <td>[\\n7\\n]</td>\n",
       "      <td>Used</td>\n",
       "      <td>gasoline</td>\n",
       "      <td>Full leather</td>\n",
       "      <td>Black</td>\n",
       "    </tr>\n",
       "    <tr>\n",
       "      <th>3595</th>\n",
       "      <td>Audi A3</td>\n",
       "      <td>RS 3 SPB 2.5 TFSI quattro S tronic</td>\n",
       "      <td>Station wagon</td>\n",
       "      <td>63900</td>\n",
       "      <td>VAT deductible</td>\n",
       "      <td>10</td>\n",
       "      <td>2019-06-01</td>\n",
       "      <td>1 previous owner</td>\n",
       "      <td>294</td>\n",
       "      <td>24</td>\n",
       "      <td>...</td>\n",
       "      <td>[\\nEuro 6\\n]</td>\n",
       "      <td>[Air conditioning, Armrest, Automatic climate ...</td>\n",
       "      <td>[Bluetooth, CD player, Digital radio, Hands-fr...</td>\n",
       "      <td>[Alloy wheels, Shift paddles, Ski bag, Sport p...</td>\n",
       "      <td>[ABS, Adaptive Cruise Control, Adaptive headli...</td>\n",
       "      <td>[\\n7\\n]</td>\n",
       "      <td>Used</td>\n",
       "      <td>gasoline</td>\n",
       "      <td>Part leather</td>\n",
       "      <td>Black</td>\n",
       "    </tr>\n",
       "    <tr>\n",
       "      <th>3596</th>\n",
       "      <td>Audi A3</td>\n",
       "      <td>RS 3 SPB 2.5 TFSI quattro S tronic</td>\n",
       "      <td>Sedans</td>\n",
       "      <td>57400</td>\n",
       "      <td>Price negotiable</td>\n",
       "      <td>63000</td>\n",
       "      <td>2018-01-01</td>\n",
       "      <td>1 previous owner</td>\n",
       "      <td>294</td>\n",
       "      <td>0</td>\n",
       "      <td>...</td>\n",
       "      <td>[\\nEuro 6\\n]</td>\n",
       "      <td>[Air conditioning, Air suspension, Armrest, Au...</td>\n",
       "      <td>[Bluetooth, CD player, Hands-free equipment, O...</td>\n",
       "      <td>[Alloy wheels, Sport seats, Sport suspension, ...</td>\n",
       "      <td>[ABS, Adaptive Cruise Control, Adaptive headli...</td>\n",
       "      <td>[\\n7\\n]</td>\n",
       "      <td>Used</td>\n",
       "      <td>gasoline</td>\n",
       "      <td>Full leather</td>\n",
       "      <td>Black</td>\n",
       "    </tr>\n",
       "    <tr>\n",
       "      <th>3598</th>\n",
       "      <td>Audi A3</td>\n",
       "      <td>RS 3 SPB 2.5 TFSI quattro S tronic</td>\n",
       "      <td>Sedans</td>\n",
       "      <td>55000</td>\n",
       "      <td>VAT deductible</td>\n",
       "      <td>24000</td>\n",
       "      <td>2018-01-01</td>\n",
       "      <td>1 previous owner</td>\n",
       "      <td>294</td>\n",
       "      <td>0</td>\n",
       "      <td>...</td>\n",
       "      <td>[\\nEuro 6\\n]</td>\n",
       "      <td>[Air conditioning, Seat ventilation, Split rea...</td>\n",
       "      <td>[Radio]</td>\n",
       "      <td>[Alloy wheels]</td>\n",
       "      <td>[Adaptive Cruise Control, Alarm system, Centra...</td>\n",
       "      <td>[\\n7\\n]</td>\n",
       "      <td>Used</td>\n",
       "      <td>gasoline</td>\n",
       "      <td>Part leather</td>\n",
       "      <td>Black</td>\n",
       "    </tr>\n",
       "    <tr>\n",
       "      <th>3599</th>\n",
       "      <td>Audi A3</td>\n",
       "      <td>RS 3 Sedan 2.5 TFSI quattro S tronic</td>\n",
       "      <td>Sedans</td>\n",
       "      <td>55000</td>\n",
       "      <td>VAT deductible</td>\n",
       "      <td>30000</td>\n",
       "      <td>2018-03-01</td>\n",
       "      <td>1 previous owner</td>\n",
       "      <td>294</td>\n",
       "      <td>0</td>\n",
       "      <td>...</td>\n",
       "      <td>[\\nEuro 6\\n]</td>\n",
       "      <td>[Air conditioning, Seat ventilation, Split rea...</td>\n",
       "      <td>[Radio]</td>\n",
       "      <td>[Alloy wheels]</td>\n",
       "      <td>[Adaptive Cruise Control, Alarm system, Centra...</td>\n",
       "      <td>[\\n7\\n]</td>\n",
       "      <td>Used</td>\n",
       "      <td>gasoline</td>\n",
       "      <td>Part leather</td>\n",
       "      <td>Black</td>\n",
       "    </tr>\n",
       "    <tr>\n",
       "      <th>3600</th>\n",
       "      <td>Audi A3</td>\n",
       "      <td>RS 3 Sedan 2.5 TFSI quattro S tronic</td>\n",
       "      <td>Sedans</td>\n",
       "      <td>53000</td>\n",
       "      <td>VAT deductible</td>\n",
       "      <td>4000</td>\n",
       "      <td>2019-01-01</td>\n",
       "      <td>1 previous owner</td>\n",
       "      <td>294</td>\n",
       "      <td>0</td>\n",
       "      <td>...</td>\n",
       "      <td>[\\nEuro 6\\n]</td>\n",
       "      <td>[Air conditioning, Air suspension, Armrest, Au...</td>\n",
       "      <td>[Bluetooth, CD player, Digital radio, Hands-fr...</td>\n",
       "      <td>[Alloy wheels, Catalytic Converter, Shift padd...</td>\n",
       "      <td>[Adaptive Cruise Control, Adaptive headlights,...</td>\n",
       "      <td>[\\n7\\n]</td>\n",
       "      <td>Used</td>\n",
       "      <td>gasoline</td>\n",
       "      <td>Part leather</td>\n",
       "      <td>Black</td>\n",
       "    </tr>\n",
       "    <tr>\n",
       "      <th>3601</th>\n",
       "      <td>Audi A3</td>\n",
       "      <td>RS 3 SPB 2.5 TFSI quattro S tronic</td>\n",
       "      <td>Sedans</td>\n",
       "      <td>51900</td>\n",
       "      <td>VAT deductible</td>\n",
       "      <td>19000</td>\n",
       "      <td>2018-05-01</td>\n",
       "      <td>1 previous owner</td>\n",
       "      <td>294</td>\n",
       "      <td>0</td>\n",
       "      <td>...</td>\n",
       "      <td>[\\nEuro 6\\n]</td>\n",
       "      <td>[Air conditioning, Armrest, Automatic climate ...</td>\n",
       "      <td>[Bluetooth, Digital radio, Hands-free equipmen...</td>\n",
       "      <td>[Alloy wheels, Catalytic Converter, Shift padd...</td>\n",
       "      <td>[ABS, Adaptive Cruise Control, Adaptive headli...</td>\n",
       "      <td>[\\n7\\n]</td>\n",
       "      <td>Used</td>\n",
       "      <td>gasoline</td>\n",
       "      <td>Part leather</td>\n",
       "      <td>Black</td>\n",
       "    </tr>\n",
       "    <tr>\n",
       "      <th>3602</th>\n",
       "      <td>Audi A3</td>\n",
       "      <td>RS 3 SPB 2.5 TFSI quattro S tronic</td>\n",
       "      <td>Sedans</td>\n",
       "      <td>51900</td>\n",
       "      <td>VAT deductible</td>\n",
       "      <td>49000</td>\n",
       "      <td>2018-01-01</td>\n",
       "      <td>1 previous owner</td>\n",
       "      <td>294</td>\n",
       "      <td>12</td>\n",
       "      <td>...</td>\n",
       "      <td>[\\nEuro 6\\n]</td>\n",
       "      <td>[Air conditioning, Armrest, Automatic climate ...</td>\n",
       "      <td>[Bluetooth, Digital radio, Hands-free equipmen...</td>\n",
       "      <td>[Alloy wheels, Shift paddles, Sport package, S...</td>\n",
       "      <td>[ABS, Adaptive Cruise Control, Alarm system, C...</td>\n",
       "      <td>[\\n7\\n]</td>\n",
       "      <td>Used</td>\n",
       "      <td>gasoline</td>\n",
       "      <td>Full leather</td>\n",
       "      <td>Black</td>\n",
       "    </tr>\n",
       "    <tr>\n",
       "      <th>3603</th>\n",
       "      <td>Audi A3</td>\n",
       "      <td>RS 3 SPB 2.5 TFSI quattro S tronic</td>\n",
       "      <td>Sedans</td>\n",
       "      <td>52000</td>\n",
       "      <td>VAT deductible</td>\n",
       "      <td>13963</td>\n",
       "      <td>2018-06-01</td>\n",
       "      <td>1 previous owner</td>\n",
       "      <td>294</td>\n",
       "      <td>0</td>\n",
       "      <td>...</td>\n",
       "      <td>[\\nEuro 6\\n]</td>\n",
       "      <td>[Air conditioning, Air suspension, Automatic c...</td>\n",
       "      <td>[Bluetooth, CD player, Hands-free equipment, M...</td>\n",
       "      <td>[Alloy wheels, Sliding door, Sport package, Sp...</td>\n",
       "      <td>[Adaptive Cruise Control, Adaptive headlights,...</td>\n",
       "      <td>[\\n7\\n]</td>\n",
       "      <td>Used</td>\n",
       "      <td>gasoline</td>\n",
       "      <td>Full leather</td>\n",
       "      <td>Black</td>\n",
       "    </tr>\n",
       "    <tr>\n",
       "      <th>3604</th>\n",
       "      <td>Audi A3</td>\n",
       "      <td>RS 3 SPB 2.5 TFSI quattro S tronic</td>\n",
       "      <td>Sedans</td>\n",
       "      <td>50000</td>\n",
       "      <td>VAT deductible</td>\n",
       "      <td>25000</td>\n",
       "      <td>2018-02-01</td>\n",
       "      <td>1 previous owner</td>\n",
       "      <td>294</td>\n",
       "      <td>0</td>\n",
       "      <td>...</td>\n",
       "      <td>[\\nEuro 6\\n]</td>\n",
       "      <td>[Air conditioning, Automatic climate control, ...</td>\n",
       "      <td>[Bluetooth, CD player, Hands-free equipment, O...</td>\n",
       "      <td>[Alloy wheels, Shift paddles, Sport package, S...</td>\n",
       "      <td>[ABS, Adaptive Cruise Control, Alarm system, C...</td>\n",
       "      <td>[\\n7\\n]</td>\n",
       "      <td>Used</td>\n",
       "      <td>gasoline</td>\n",
       "      <td>Full leather</td>\n",
       "      <td>Black</td>\n",
       "    </tr>\n",
       "    <tr>\n",
       "      <th>3605</th>\n",
       "      <td>Audi A3</td>\n",
       "      <td>RS 3 SPB 2.5 TFSI quattro S tronic TETTO LED N...</td>\n",
       "      <td>Sedans</td>\n",
       "      <td>51999</td>\n",
       "      <td>VAT deductible</td>\n",
       "      <td>33000</td>\n",
       "      <td>2017-10-01</td>\n",
       "      <td>1 previous owner</td>\n",
       "      <td>294</td>\n",
       "      <td>0</td>\n",
       "      <td>...</td>\n",
       "      <td>[\\nEuro 6\\n]</td>\n",
       "      <td>[Air conditioning, Armrest, Automatic climate ...</td>\n",
       "      <td>[Bluetooth, CD player, Digital radio, Hands-fr...</td>\n",
       "      <td>[Alloy wheels, Catalytic Converter, Shift padd...</td>\n",
       "      <td>[ABS, Adaptive Cruise Control, Adaptive headli...</td>\n",
       "      <td>[\\n7\\n]</td>\n",
       "      <td>Used</td>\n",
       "      <td>gasoline</td>\n",
       "      <td>Full leather</td>\n",
       "      <td>Black</td>\n",
       "    </tr>\n",
       "    <tr>\n",
       "      <th>3606</th>\n",
       "      <td>Audi A3</td>\n",
       "      <td>RS 3 SPB 2.5 TFSI quattro S tronic</td>\n",
       "      <td>Sedans</td>\n",
       "      <td>49900</td>\n",
       "      <td>VAT deductible</td>\n",
       "      <td>17234</td>\n",
       "      <td>2018-02-01</td>\n",
       "      <td>1 previous owner</td>\n",
       "      <td>294</td>\n",
       "      <td>0</td>\n",
       "      <td>...</td>\n",
       "      <td>[\\nEuro 6\\n]</td>\n",
       "      <td>[Air conditioning, Seat ventilation, Split rea...</td>\n",
       "      <td>[Radio]</td>\n",
       "      <td>[Alloy wheels]</td>\n",
       "      <td>[Adaptive Cruise Control, Alarm system, Centra...</td>\n",
       "      <td>[\\n7\\n]</td>\n",
       "      <td>Used</td>\n",
       "      <td>gasoline</td>\n",
       "      <td>Full leather</td>\n",
       "      <td>Black</td>\n",
       "    </tr>\n",
       "    <tr>\n",
       "      <th>3608</th>\n",
       "      <td>Audi A3</td>\n",
       "      <td>RS 3 SPB 2.5 TFSI quattro S tronic</td>\n",
       "      <td>Sedans</td>\n",
       "      <td>42500</td>\n",
       "      <td>Price negotiable</td>\n",
       "      <td>37333</td>\n",
       "      <td>2016-01-01</td>\n",
       "      <td>1 previous owner</td>\n",
       "      <td>270</td>\n",
       "      <td>0</td>\n",
       "      <td>...</td>\n",
       "      <td>[\\nEuro 6\\n]</td>\n",
       "      <td>[Air conditioning, Seat ventilation, Split rea...</td>\n",
       "      <td>[Bluetooth]</td>\n",
       "      <td>[Alloy wheels]</td>\n",
       "      <td>[ABS, Alarm system, Central door lock, Driver-...</td>\n",
       "      <td>[\\n7\\n]</td>\n",
       "      <td>Used</td>\n",
       "      <td>gasoline</td>\n",
       "      <td>Part leather</td>\n",
       "      <td>Black</td>\n",
       "    </tr>\n",
       "    <tr>\n",
       "      <th>3609</th>\n",
       "      <td>Audi A3</td>\n",
       "      <td>RS 3 SPB 2.5 TFSI quattro S tronic</td>\n",
       "      <td>Sedans</td>\n",
       "      <td>41000</td>\n",
       "      <td>VAT deductible</td>\n",
       "      <td>30000</td>\n",
       "      <td>2016-05-01</td>\n",
       "      <td>1 previous owner</td>\n",
       "      <td>270</td>\n",
       "      <td>0</td>\n",
       "      <td>...</td>\n",
       "      <td>[\\nEuro 6\\n]</td>\n",
       "      <td>[Air conditioning, Armrest, Automatic climate ...</td>\n",
       "      <td>[Bluetooth, Digital radio, On-board computer]</td>\n",
       "      <td>[Alloy wheels, Shift paddles, Sport package, S...</td>\n",
       "      <td>[ABS, Adaptive Cruise Control, Alarm system, C...</td>\n",
       "      <td>[\\n7\\n]</td>\n",
       "      <td>Used</td>\n",
       "      <td>gasoline</td>\n",
       "      <td>Part leather</td>\n",
       "      <td>Black</td>\n",
       "    </tr>\n",
       "    <tr>\n",
       "      <th>3610</th>\n",
       "      <td>Audi A3</td>\n",
       "      <td>RS 3 SPB 2.5 TFSI quattro S tronic-Virtual-MMI...</td>\n",
       "      <td>Sedans</td>\n",
       "      <td>45890</td>\n",
       "      <td>VAT deductible</td>\n",
       "      <td>18700</td>\n",
       "      <td>2018-03-01</td>\n",
       "      <td>1 previous owner</td>\n",
       "      <td>294</td>\n",
       "      <td>0</td>\n",
       "      <td>...</td>\n",
       "      <td>[\\nEuro 6\\n]</td>\n",
       "      <td>[Air conditioning, Seat ventilation, Split rea...</td>\n",
       "      <td>[Radio]</td>\n",
       "      <td>[Alloy wheels]</td>\n",
       "      <td>[Adaptive Cruise Control, Alarm system, Centra...</td>\n",
       "      <td>[\\n7\\n]</td>\n",
       "      <td>Used</td>\n",
       "      <td>gasoline</td>\n",
       "      <td>Part leather</td>\n",
       "      <td>Black</td>\n",
       "    </tr>\n",
       "    <tr>\n",
       "      <th>3648</th>\n",
       "      <td>Audi A3</td>\n",
       "      <td>Limousine 2.5 TFSI RS3 quattro</td>\n",
       "      <td>Sedans</td>\n",
       "      <td>74600</td>\n",
       "      <td>VAT deductible</td>\n",
       "      <td>13000</td>\n",
       "      <td>2018-05-01</td>\n",
       "      <td>1 previous owner</td>\n",
       "      <td>294</td>\n",
       "      <td>0</td>\n",
       "      <td>...</td>\n",
       "      <td>[\\nEuro 6\\n]</td>\n",
       "      <td>[Air conditioning, Armrest, Automatic climate ...</td>\n",
       "      <td>[CD player, On-board computer, Radio]</td>\n",
       "      <td>[Alloy wheels, Sport seats, Sport suspension]</td>\n",
       "      <td>[ABS, Alarm system, Central door lock, Driver-...</td>\n",
       "      <td>[\\n7\\n]</td>\n",
       "      <td>Used</td>\n",
       "      <td>gasoline</td>\n",
       "      <td>Full leather</td>\n",
       "      <td>Grey</td>\n",
       "    </tr>\n",
       "    <tr>\n",
       "      <th>3649</th>\n",
       "      <td>Audi A3</td>\n",
       "      <td>Sportback 2.5 TFSI RS3 quattro</td>\n",
       "      <td>Compact</td>\n",
       "      <td>67600</td>\n",
       "      <td>VAT deductible</td>\n",
       "      <td>37747</td>\n",
       "      <td>2017-10-01</td>\n",
       "      <td>1 previous owner</td>\n",
       "      <td>294</td>\n",
       "      <td>0</td>\n",
       "      <td>...</td>\n",
       "      <td>[\\nEuro 6\\n]</td>\n",
       "      <td>[Air conditioning, Armrest, Automatic climate ...</td>\n",
       "      <td>[CD player, On-board computer, Radio]</td>\n",
       "      <td>[Alloy wheels, Roof rack, Sport seats, Sport s...</td>\n",
       "      <td>[ABS, Alarm system, Central door lock, Driver-...</td>\n",
       "      <td>[\\n7\\n]</td>\n",
       "      <td>Used</td>\n",
       "      <td>gasoline</td>\n",
       "      <td>Full leather</td>\n",
       "      <td>Black</td>\n",
       "    </tr>\n",
       "    <tr>\n",
       "      <th>4185</th>\n",
       "      <td>Audi A3</td>\n",
       "      <td>None</td>\n",
       "      <td>Station wagon</td>\n",
       "      <td>18990</td>\n",
       "      <td>Price negotiable</td>\n",
       "      <td>39000</td>\n",
       "      <td>2017-03-01</td>\n",
       "      <td>1 previous owner</td>\n",
       "      <td>85</td>\n",
       "      <td>0</td>\n",
       "      <td>...</td>\n",
       "      <td>NaN</td>\n",
       "      <td>[Air conditioning, Armrest, Automatic climate ...</td>\n",
       "      <td>[Bluetooth, Digital radio, On-board computer, ...</td>\n",
       "      <td>[Alloy wheels, Catalytic Converter, Sport pack...</td>\n",
       "      <td>[ABS, Adaptive Cruise Control, Central door lo...</td>\n",
       "      <td>[\\n6\\n]</td>\n",
       "      <td>Used</td>\n",
       "      <td>diesel</td>\n",
       "      <td>Cloth</td>\n",
       "      <td>Black</td>\n",
       "    </tr>\n",
       "    <tr>\n",
       "      <th>14480</th>\n",
       "      <td>Renault Clio</td>\n",
       "      <td>1.2i Life</td>\n",
       "      <td>Sedans</td>\n",
       "      <td>10000</td>\n",
       "      <td>VAT deductible</td>\n",
       "      <td>8000</td>\n",
       "      <td>2018-11-01</td>\n",
       "      <td>1 previous owner</td>\n",
       "      <td>54</td>\n",
       "      <td>0</td>\n",
       "      <td>...</td>\n",
       "      <td>[\\nEuro 4\\n]</td>\n",
       "      <td>[Air conditioning, Cruise control, Electrical ...</td>\n",
       "      <td>[Bluetooth, Hands-free equipment, On-board com...</td>\n",
       "      <td>NaN</td>\n",
       "      <td>[ABS, Central door lock, Central door lock wit...</td>\n",
       "      <td>[\\n5\\n]</td>\n",
       "      <td>Used</td>\n",
       "      <td>gasoline</td>\n",
       "      <td>Cloth</td>\n",
       "      <td>Black</td>\n",
       "    </tr>\n",
       "  </tbody>\n",
       "</table>\n",
       "<p>22 rows × 31 columns</p>\n",
       "</div>"
      ],
      "text/plain": [
       "         make_model                                  short_description  \\\n",
       "3587        Audi A3                 RS 3 SPB 2.5 TFSI quattro S tronic   \n",
       "3590        Audi A3                          RS 3 SPB Quattro S Tronic   \n",
       "3592        Audi A3     RS 3 SPB 2.5 TFSI quattro S tronic ! FAST VOLL   \n",
       "3593        Audi A3                 RS 3 SPB 2.5 TFSI quattro S tronic   \n",
       "3595        Audi A3                 RS 3 SPB 2.5 TFSI quattro S tronic   \n",
       "3596        Audi A3                 RS 3 SPB 2.5 TFSI quattro S tronic   \n",
       "3598        Audi A3                 RS 3 SPB 2.5 TFSI quattro S tronic   \n",
       "3599        Audi A3               RS 3 Sedan 2.5 TFSI quattro S tronic   \n",
       "3600        Audi A3               RS 3 Sedan 2.5 TFSI quattro S tronic   \n",
       "3601        Audi A3                 RS 3 SPB 2.5 TFSI quattro S tronic   \n",
       "3602        Audi A3                 RS 3 SPB 2.5 TFSI quattro S tronic   \n",
       "3603        Audi A3                 RS 3 SPB 2.5 TFSI quattro S tronic   \n",
       "3604        Audi A3                 RS 3 SPB 2.5 TFSI quattro S tronic   \n",
       "3605        Audi A3  RS 3 SPB 2.5 TFSI quattro S tronic TETTO LED N...   \n",
       "3606        Audi A3                 RS 3 SPB 2.5 TFSI quattro S tronic   \n",
       "3608        Audi A3                 RS 3 SPB 2.5 TFSI quattro S tronic   \n",
       "3609        Audi A3                 RS 3 SPB 2.5 TFSI quattro S tronic   \n",
       "3610        Audi A3  RS 3 SPB 2.5 TFSI quattro S tronic-Virtual-MMI...   \n",
       "3648        Audi A3                     Limousine 2.5 TFSI RS3 quattro   \n",
       "3649        Audi A3                     Sportback 2.5 TFSI RS3 quattro   \n",
       "4185        Audi A3                                               None   \n",
       "14480  Renault Clio                                          1.2i Life   \n",
       "\n",
       "           body_type  price               vat     km registration  \\\n",
       "3587          Sedans  64900    VAT deductible  35000   2018-04-01   \n",
       "3590          Sedans  62900    VAT deductible    700   2019-04-01   \n",
       "3592          Sedans  56900    VAT deductible   5200   2018-08-01   \n",
       "3593          Sedans  58500    VAT deductible  10000   2018-10-01   \n",
       "3595   Station wagon  63900    VAT deductible     10   2019-06-01   \n",
       "3596          Sedans  57400  Price negotiable  63000   2018-01-01   \n",
       "3598          Sedans  55000    VAT deductible  24000   2018-01-01   \n",
       "3599          Sedans  55000    VAT deductible  30000   2018-03-01   \n",
       "3600          Sedans  53000    VAT deductible   4000   2019-01-01   \n",
       "3601          Sedans  51900    VAT deductible  19000   2018-05-01   \n",
       "3602          Sedans  51900    VAT deductible  49000   2018-01-01   \n",
       "3603          Sedans  52000    VAT deductible  13963   2018-06-01   \n",
       "3604          Sedans  50000    VAT deductible  25000   2018-02-01   \n",
       "3605          Sedans  51999    VAT deductible  33000   2017-10-01   \n",
       "3606          Sedans  49900    VAT deductible  17234   2018-02-01   \n",
       "3608          Sedans  42500  Price negotiable  37333   2016-01-01   \n",
       "3609          Sedans  41000    VAT deductible  30000   2016-05-01   \n",
       "3610          Sedans  45890    VAT deductible  18700   2018-03-01   \n",
       "3648          Sedans  74600    VAT deductible  13000   2018-05-01   \n",
       "3649         Compact  67600    VAT deductible  37747   2017-10-01   \n",
       "4185   Station wagon  18990  Price negotiable  39000   2017-03-01   \n",
       "14480         Sedans  10000    VAT deductible   8000   2018-11-01   \n",
       "\n",
       "             prev_owner   hp  Warranty  ...      Emission Class  \\\n",
       "3587   1 previous owner  294         0  ...        [\\nEuro 6\\n]   \n",
       "3590   1 previous owner  294         0  ...  [\\nEuro 6d-TEMP\\n]   \n",
       "3592   1 previous owner  294         0  ...        [\\nEuro 6\\n]   \n",
       "3593   1 previous owner  294         0  ...        [\\nEuro 6\\n]   \n",
       "3595   1 previous owner  294        24  ...        [\\nEuro 6\\n]   \n",
       "3596   1 previous owner  294         0  ...        [\\nEuro 6\\n]   \n",
       "3598   1 previous owner  294         0  ...        [\\nEuro 6\\n]   \n",
       "3599   1 previous owner  294         0  ...        [\\nEuro 6\\n]   \n",
       "3600   1 previous owner  294         0  ...        [\\nEuro 6\\n]   \n",
       "3601   1 previous owner  294         0  ...        [\\nEuro 6\\n]   \n",
       "3602   1 previous owner  294        12  ...        [\\nEuro 6\\n]   \n",
       "3603   1 previous owner  294         0  ...        [\\nEuro 6\\n]   \n",
       "3604   1 previous owner  294         0  ...        [\\nEuro 6\\n]   \n",
       "3605   1 previous owner  294         0  ...        [\\nEuro 6\\n]   \n",
       "3606   1 previous owner  294         0  ...        [\\nEuro 6\\n]   \n",
       "3608   1 previous owner  270         0  ...        [\\nEuro 6\\n]   \n",
       "3609   1 previous owner  270         0  ...        [\\nEuro 6\\n]   \n",
       "3610   1 previous owner  294         0  ...        [\\nEuro 6\\n]   \n",
       "3648   1 previous owner  294         0  ...        [\\nEuro 6\\n]   \n",
       "3649   1 previous owner  294         0  ...        [\\nEuro 6\\n]   \n",
       "4185   1 previous owner   85         0  ...                 NaN   \n",
       "14480  1 previous owner   54         0  ...        [\\nEuro 4\\n]   \n",
       "\n",
       "                               \\nComfort & Convenience\\n  \\\n",
       "3587   [Air conditioning, Seat ventilation, Split rea...   \n",
       "3590   [Air conditioning, Seat ventilation, Split rea...   \n",
       "3592   [Air conditioning, Air suspension, Armrest, Au...   \n",
       "3593   [Air conditioning, Seat ventilation, Split rea...   \n",
       "3595   [Air conditioning, Armrest, Automatic climate ...   \n",
       "3596   [Air conditioning, Air suspension, Armrest, Au...   \n",
       "3598   [Air conditioning, Seat ventilation, Split rea...   \n",
       "3599   [Air conditioning, Seat ventilation, Split rea...   \n",
       "3600   [Air conditioning, Air suspension, Armrest, Au...   \n",
       "3601   [Air conditioning, Armrest, Automatic climate ...   \n",
       "3602   [Air conditioning, Armrest, Automatic climate ...   \n",
       "3603   [Air conditioning, Air suspension, Automatic c...   \n",
       "3604   [Air conditioning, Automatic climate control, ...   \n",
       "3605   [Air conditioning, Armrest, Automatic climate ...   \n",
       "3606   [Air conditioning, Seat ventilation, Split rea...   \n",
       "3608   [Air conditioning, Seat ventilation, Split rea...   \n",
       "3609   [Air conditioning, Armrest, Automatic climate ...   \n",
       "3610   [Air conditioning, Seat ventilation, Split rea...   \n",
       "3648   [Air conditioning, Armrest, Automatic climate ...   \n",
       "3649   [Air conditioning, Armrest, Automatic climate ...   \n",
       "4185   [Air conditioning, Armrest, Automatic climate ...   \n",
       "14480  [Air conditioning, Cruise control, Electrical ...   \n",
       "\n",
       "                               \\nEntertainment & Media\\n  \\\n",
       "3587                                             [Radio]   \n",
       "3590                                  [Bluetooth, Radio]   \n",
       "3592   [Bluetooth, CD player, Digital radio, Hands-fr...   \n",
       "3593                                             [Radio]   \n",
       "3595   [Bluetooth, CD player, Digital radio, Hands-fr...   \n",
       "3596   [Bluetooth, CD player, Hands-free equipment, O...   \n",
       "3598                                             [Radio]   \n",
       "3599                                             [Radio]   \n",
       "3600   [Bluetooth, CD player, Digital radio, Hands-fr...   \n",
       "3601   [Bluetooth, Digital radio, Hands-free equipmen...   \n",
       "3602   [Bluetooth, Digital radio, Hands-free equipmen...   \n",
       "3603   [Bluetooth, CD player, Hands-free equipment, M...   \n",
       "3604   [Bluetooth, CD player, Hands-free equipment, O...   \n",
       "3605   [Bluetooth, CD player, Digital radio, Hands-fr...   \n",
       "3606                                             [Radio]   \n",
       "3608                                         [Bluetooth]   \n",
       "3609       [Bluetooth, Digital radio, On-board computer]   \n",
       "3610                                             [Radio]   \n",
       "3648               [CD player, On-board computer, Radio]   \n",
       "3649               [CD player, On-board computer, Radio]   \n",
       "4185   [Bluetooth, Digital radio, On-board computer, ...   \n",
       "14480  [Bluetooth, Hands-free equipment, On-board com...   \n",
       "\n",
       "                                              \\nExtras\\n  \\\n",
       "3587                                      [Alloy wheels]   \n",
       "3590                                      [Alloy wheels]   \n",
       "3592   [Alloy wheels, Shift paddles, Sport package, S...   \n",
       "3593                                      [Alloy wheels]   \n",
       "3595   [Alloy wheels, Shift paddles, Ski bag, Sport p...   \n",
       "3596   [Alloy wheels, Sport seats, Sport suspension, ...   \n",
       "3598                                      [Alloy wheels]   \n",
       "3599                                      [Alloy wheels]   \n",
       "3600   [Alloy wheels, Catalytic Converter, Shift padd...   \n",
       "3601   [Alloy wheels, Catalytic Converter, Shift padd...   \n",
       "3602   [Alloy wheels, Shift paddles, Sport package, S...   \n",
       "3603   [Alloy wheels, Sliding door, Sport package, Sp...   \n",
       "3604   [Alloy wheels, Shift paddles, Sport package, S...   \n",
       "3605   [Alloy wheels, Catalytic Converter, Shift padd...   \n",
       "3606                                      [Alloy wheels]   \n",
       "3608                                      [Alloy wheels]   \n",
       "3609   [Alloy wheels, Shift paddles, Sport package, S...   \n",
       "3610                                      [Alloy wheels]   \n",
       "3648       [Alloy wheels, Sport seats, Sport suspension]   \n",
       "3649   [Alloy wheels, Roof rack, Sport seats, Sport s...   \n",
       "4185   [Alloy wheels, Catalytic Converter, Sport pack...   \n",
       "14480                                                NaN   \n",
       "\n",
       "                                   \\nSafety & Security\\n    Gears car_type  \\\n",
       "3587   [Adaptive Cruise Control, Alarm system, Centra...  [\\n7\\n]     Used   \n",
       "3590   [ABS, Adaptive Cruise Control, Alarm system, C...  [\\n7\\n]     Used   \n",
       "3592   [ABS, Adaptive Cruise Control, Adaptive headli...  [\\n7\\n]     Used   \n",
       "3593   [Adaptive Cruise Control, Alarm system, Centra...  [\\n7\\n]     Used   \n",
       "3595   [ABS, Adaptive Cruise Control, Adaptive headli...  [\\n7\\n]     Used   \n",
       "3596   [ABS, Adaptive Cruise Control, Adaptive headli...  [\\n7\\n]     Used   \n",
       "3598   [Adaptive Cruise Control, Alarm system, Centra...  [\\n7\\n]     Used   \n",
       "3599   [Adaptive Cruise Control, Alarm system, Centra...  [\\n7\\n]     Used   \n",
       "3600   [Adaptive Cruise Control, Adaptive headlights,...  [\\n7\\n]     Used   \n",
       "3601   [ABS, Adaptive Cruise Control, Adaptive headli...  [\\n7\\n]     Used   \n",
       "3602   [ABS, Adaptive Cruise Control, Alarm system, C...  [\\n7\\n]     Used   \n",
       "3603   [Adaptive Cruise Control, Adaptive headlights,...  [\\n7\\n]     Used   \n",
       "3604   [ABS, Adaptive Cruise Control, Alarm system, C...  [\\n7\\n]     Used   \n",
       "3605   [ABS, Adaptive Cruise Control, Adaptive headli...  [\\n7\\n]     Used   \n",
       "3606   [Adaptive Cruise Control, Alarm system, Centra...  [\\n7\\n]     Used   \n",
       "3608   [ABS, Alarm system, Central door lock, Driver-...  [\\n7\\n]     Used   \n",
       "3609   [ABS, Adaptive Cruise Control, Alarm system, C...  [\\n7\\n]     Used   \n",
       "3610   [Adaptive Cruise Control, Alarm system, Centra...  [\\n7\\n]     Used   \n",
       "3648   [ABS, Alarm system, Central door lock, Driver-...  [\\n7\\n]     Used   \n",
       "3649   [ABS, Alarm system, Central door lock, Driver-...  [\\n7\\n]     Used   \n",
       "4185   [ABS, Adaptive Cruise Control, Central door lo...  [\\n6\\n]     Used   \n",
       "14480  [ABS, Central door lock, Central door lock wit...  [\\n5\\n]     Used   \n",
       "\n",
       "          Fuel2 upholstery_type upholstery_color  \n",
       "3587   gasoline    Full leather            Black  \n",
       "3590   gasoline    Part leather            Black  \n",
       "3592   gasoline    Full leather            Black  \n",
       "3593   gasoline    Full leather            Black  \n",
       "3595   gasoline    Part leather            Black  \n",
       "3596   gasoline    Full leather            Black  \n",
       "3598   gasoline    Part leather            Black  \n",
       "3599   gasoline    Part leather            Black  \n",
       "3600   gasoline    Part leather            Black  \n",
       "3601   gasoline    Part leather            Black  \n",
       "3602   gasoline    Full leather            Black  \n",
       "3603   gasoline    Full leather            Black  \n",
       "3604   gasoline    Full leather            Black  \n",
       "3605   gasoline    Full leather            Black  \n",
       "3606   gasoline    Full leather            Black  \n",
       "3608   gasoline    Part leather            Black  \n",
       "3609   gasoline    Part leather            Black  \n",
       "3610   gasoline    Part leather            Black  \n",
       "3648   gasoline    Full leather             Grey  \n",
       "3649   gasoline    Full leather            Black  \n",
       "4185     diesel           Cloth            Black  \n",
       "14480  gasoline           Cloth            Black  \n",
       "\n",
       "[22 rows x 31 columns]"
      ]
     },
     "execution_count": 171,
     "metadata": {},
     "output_type": "execute_result"
    }
   ],
   "source": [
    "cars[cars[\"Cylinders\"] == \"5\"] # The values thought to be entered incorrectly were corrected manually."
   ]
  },
  {
   "cell_type": "code",
   "execution_count": 172,
   "metadata": {},
   "outputs": [],
   "source": [
    "cars.loc[14480, \"Cylinders\"] = \"4\" # The values thought to be entered incorrectly were corrected manually."
   ]
  },
  {
   "cell_type": "code",
   "execution_count": 173,
   "metadata": {},
   "outputs": [],
   "source": [
    "cars.loc[[10771, 10826, 12897], \"Cylinders\"] = \"4\" # The values thought to be entered incorrectly were corrected manually."
   ]
  },
  {
   "cell_type": "code",
   "execution_count": 174,
   "metadata": {},
   "outputs": [
    {
     "data": {
      "text/plain": [
       "10771    4\n",
       "10826    4\n",
       "12897    4\n",
       "Name: Cylinders, dtype: object"
      ]
     },
     "execution_count": 174,
     "metadata": {},
     "output_type": "execute_result"
    }
   ],
   "source": [
    "cars.loc[[10771, 10826, 12897], \"Cylinders\"]"
   ]
  },
  {
   "cell_type": "code",
   "execution_count": 175,
   "metadata": {},
   "outputs": [],
   "source": [
    "cars.loc[[535, 15055], \"Cylinders\"] = \"4\" # The values thought to be entered incorrectly were corrected manually."
   ]
  },
  {
   "cell_type": "code",
   "execution_count": 176,
   "metadata": {},
   "outputs": [],
   "source": [
    "cars.loc[[9956, 11342, 15835], \"Cylinders\"] =\"4\" # The values thought to be entered incorrectly were corrected manually."
   ]
  },
  {
   "cell_type": "code",
   "execution_count": 177,
   "metadata": {},
   "outputs": [
    {
     "data": {
      "text/plain": [
       "9956     4\n",
       "11342    4\n",
       "15835    4\n",
       "Name: Cylinders, dtype: object"
      ]
     },
     "execution_count": 177,
     "metadata": {},
     "output_type": "execute_result"
    }
   ],
   "source": [
    "cars.loc[[9956, 11342, 15835], \"Cylinders\"]"
   ]
  },
  {
   "cell_type": "code",
   "execution_count": 178,
   "metadata": {},
   "outputs": [],
   "source": [
    "cars.loc[cars[\"make_model\"] == \"Audi A2\",\"Cylinders\"] = \"4\" # The values thought to be entered incorrectly were corrected manually."
   ]
  },
  {
   "cell_type": "code",
   "execution_count": 179,
   "metadata": {},
   "outputs": [],
   "source": [
    "def fill_most(df, model, col):\n",
    "   \n",
    "    x = df[col][df[\"make_model\"] == model].mode()\n",
    "    df[col][df[\"make_model\"] == model] = df[col][df[\"make_model\"] == model].fillna(method = \"ffill\")\n",
    "    df[col][df[\"make_model\"] == model] = df[col][df[\"make_model\"] == model].fillna(x[0])\n",
    "    return df[col][df[\"make_model\"] == model]"
   ]
  },
  {
   "cell_type": "code",
   "execution_count": 180,
   "metadata": {},
   "outputs": [],
   "source": [
    "for i in cars[\"make_model\"].unique():\n",
    "    fill_most(cars, i, \"Cylinders\")"
   ]
  },
  {
   "cell_type": "code",
   "execution_count": 181,
   "metadata": {},
   "outputs": [
    {
     "data": {
      "text/plain": [
       "4    12578\n",
       "3     3319\n",
       "5       22\n",
       "Name: Cylinders, dtype: int64"
      ]
     },
     "execution_count": 181,
     "metadata": {},
     "output_type": "execute_result"
    }
   ],
   "source": [
    "cars[\"Cylinders\"].value_counts(dropna= False)"
   ]
  },
  {
   "cell_type": "code",
   "execution_count": 182,
   "metadata": {},
   "outputs": [],
   "source": [
    "cars[\"Cylinders\"] = cars[\"Cylinders\"].astype(\"int\")"
   ]
  },
  {
   "cell_type": "code",
   "execution_count": 183,
   "metadata": {},
   "outputs": [
    {
     "data": {
      "text/html": [
       "<div>\n",
       "<style scoped>\n",
       "    .dataframe tbody tr th:only-of-type {\n",
       "        vertical-align: middle;\n",
       "    }\n",
       "\n",
       "    .dataframe tbody tr th {\n",
       "        vertical-align: top;\n",
       "    }\n",
       "\n",
       "    .dataframe thead th {\n",
       "        text-align: right;\n",
       "    }\n",
       "</style>\n",
       "<table border=\"1\" class=\"dataframe\">\n",
       "  <thead>\n",
       "    <tr style=\"text-align: right;\">\n",
       "      <th></th>\n",
       "      <th>Weight</th>\n",
       "      <th>Drive chain</th>\n",
       "      <th>Consumption</th>\n",
       "      <th>CO2 Emission</th>\n",
       "      <th>Emission Class</th>\n",
       "      <th>\\nComfort &amp; Convenience\\n</th>\n",
       "      <th>\\nEntertainment &amp; Media\\n</th>\n",
       "      <th>\\nExtras\\n</th>\n",
       "      <th>\\nSafety &amp; Security\\n</th>\n",
       "      <th>Gears</th>\n",
       "      <th>car_type</th>\n",
       "      <th>Fuel2</th>\n",
       "      <th>upholstery_type</th>\n",
       "      <th>upholstery_color</th>\n",
       "    </tr>\n",
       "  </thead>\n",
       "  <tbody>\n",
       "    <tr>\n",
       "      <th>0</th>\n",
       "      <td>[\\n1,220 kg\\n]</td>\n",
       "      <td>[\\nfront\\n]</td>\n",
       "      <td>[[3.8 l/100 km (comb)], [4.3 l/100 km (city)],...</td>\n",
       "      <td>[\\n99 g CO2/km (comb)\\n]</td>\n",
       "      <td>[\\nEuro 6\\n]</td>\n",
       "      <td>[Air conditioning, Armrest, Automatic climate ...</td>\n",
       "      <td>[Bluetooth, Hands-free equipment, On-board com...</td>\n",
       "      <td>[Alloy wheels, Catalytic Converter, Voice Cont...</td>\n",
       "      <td>[ABS, Central door lock, Daytime running light...</td>\n",
       "      <td>NaN</td>\n",
       "      <td>Used</td>\n",
       "      <td>diesel</td>\n",
       "      <td>Cloth</td>\n",
       "      <td>Black</td>\n",
       "    </tr>\n",
       "  </tbody>\n",
       "</table>\n",
       "</div>"
      ],
      "text/plain": [
       "           Weight  Drive chain  \\\n",
       "0  [\\n1,220 kg\\n]  [\\nfront\\n]   \n",
       "\n",
       "                                         Consumption  \\\n",
       "0  [[3.8 l/100 km (comb)], [4.3 l/100 km (city)],...   \n",
       "\n",
       "               CO2 Emission Emission Class  \\\n",
       "0  [\\n99 g CO2/km (comb)\\n]   [\\nEuro 6\\n]   \n",
       "\n",
       "                           \\nComfort & Convenience\\n  \\\n",
       "0  [Air conditioning, Armrest, Automatic climate ...   \n",
       "\n",
       "                           \\nEntertainment & Media\\n  \\\n",
       "0  [Bluetooth, Hands-free equipment, On-board com...   \n",
       "\n",
       "                                          \\nExtras\\n  \\\n",
       "0  [Alloy wheels, Catalytic Converter, Voice Cont...   \n",
       "\n",
       "                               \\nSafety & Security\\n Gears car_type   Fuel2  \\\n",
       "0  [ABS, Central door lock, Daytime running light...   NaN     Used  diesel   \n",
       "\n",
       "  upholstery_type upholstery_color  \n",
       "0           Cloth            Black  "
      ]
     },
     "execution_count": 183,
     "metadata": {},
     "output_type": "execute_result"
    }
   ],
   "source": [
    "cars.loc[:, \"Weight\":].head(1)"
   ]
  },
  {
   "cell_type": "code",
   "execution_count": 184,
   "metadata": {},
   "outputs": [
    {
     "ename": "TypeError",
     "evalue": "unhashable type: 'list'",
     "output_type": "error",
     "traceback": [
      "\u001b[1;31m---------------------------------------------------------------------------\u001b[0m",
      "\u001b[1;31mTypeError\u001b[0m                                 Traceback (most recent call last)",
      "\u001b[1;32mpandas\\_libs\\hashtable_class_helper.pxi\u001b[0m in \u001b[0;36mpandas._libs.hashtable.PyObjectHashTable.map_locations\u001b[1;34m()\u001b[0m\n",
      "\u001b[1;31mTypeError\u001b[0m: unhashable type: 'list'"
     ]
    },
    {
     "name": "stderr",
     "output_type": "stream",
     "text": [
      "Exception ignored in: 'pandas._libs.index.IndexEngine._call_map_locations'\n",
      "Traceback (most recent call last):\n",
      "  File \"pandas\\_libs\\hashtable_class_helper.pxi\", line 1709, in pandas._libs.hashtable.PyObjectHashTable.map_locations\n",
      "TypeError: unhashable type: 'list'\n"
     ]
    },
    {
     "data": {
      "text/plain": [
       "NaN               6974\n",
       "[\\n1,163 kg\\n]     574\n",
       "[\\n1,360 kg\\n]     356\n",
       "[\\n1,165 kg\\n]     301\n",
       "[\\n1,335 kg\\n]     242\n",
       "Name: Weight, dtype: int64"
      ]
     },
     "execution_count": 184,
     "metadata": {},
     "output_type": "execute_result"
    }
   ],
   "source": [
    "cars[\"Weight\"].value_counts(dropna = False).head()"
   ]
  },
  {
   "cell_type": "code",
   "execution_count": 185,
   "metadata": {},
   "outputs": [],
   "source": [
    "def unique_values(item):\n",
    "    \n",
    "    if type(item) == list:\n",
    "        return \"\".join(item).strip(\"\\n\")\n",
    "        \n",
    "    else:\n",
    "        return item"
   ]
  },
  {
   "cell_type": "code",
   "execution_count": 186,
   "metadata": {},
   "outputs": [
    {
     "data": {
      "text/plain": [
       "0        1,220 kg\n",
       "1        1,255 kg\n",
       "2             NaN\n",
       "3        1,195 kg\n",
       "4             NaN\n",
       "           ...   \n",
       "15914    1,758 kg\n",
       "15915    1,708 kg\n",
       "15916         NaN\n",
       "15917    1,758 kg\n",
       "15918    1,685 kg\n",
       "Name: Weight, Length: 15919, dtype: object"
      ]
     },
     "execution_count": 186,
     "metadata": {},
     "output_type": "execute_result"
    }
   ],
   "source": [
    "cars[\"Weight\"].apply(unique_values) # data exctracted from list"
   ]
  },
  {
   "cell_type": "code",
   "execution_count": 187,
   "metadata": {},
   "outputs": [
    {
     "data": {
      "text/html": [
       "<div>\n",
       "<style scoped>\n",
       "    .dataframe tbody tr th:only-of-type {\n",
       "        vertical-align: middle;\n",
       "    }\n",
       "\n",
       "    .dataframe tbody tr th {\n",
       "        vertical-align: top;\n",
       "    }\n",
       "\n",
       "    .dataframe thead th {\n",
       "        text-align: right;\n",
       "    }\n",
       "</style>\n",
       "<table border=\"1\" class=\"dataframe\">\n",
       "  <thead>\n",
       "    <tr style=\"text-align: right;\">\n",
       "      <th></th>\n",
       "      <th>0</th>\n",
       "    </tr>\n",
       "  </thead>\n",
       "  <tbody>\n",
       "    <tr>\n",
       "      <th>0</th>\n",
       "      <td>1220</td>\n",
       "    </tr>\n",
       "    <tr>\n",
       "      <th>1</th>\n",
       "      <td>1255</td>\n",
       "    </tr>\n",
       "    <tr>\n",
       "      <th>2</th>\n",
       "      <td>NaN</td>\n",
       "    </tr>\n",
       "    <tr>\n",
       "      <th>3</th>\n",
       "      <td>1195</td>\n",
       "    </tr>\n",
       "    <tr>\n",
       "      <th>4</th>\n",
       "      <td>NaN</td>\n",
       "    </tr>\n",
       "    <tr>\n",
       "      <th>...</th>\n",
       "      <td>...</td>\n",
       "    </tr>\n",
       "    <tr>\n",
       "      <th>15914</th>\n",
       "      <td>1758</td>\n",
       "    </tr>\n",
       "    <tr>\n",
       "      <th>15915</th>\n",
       "      <td>1708</td>\n",
       "    </tr>\n",
       "    <tr>\n",
       "      <th>15916</th>\n",
       "      <td>NaN</td>\n",
       "    </tr>\n",
       "    <tr>\n",
       "      <th>15917</th>\n",
       "      <td>1758</td>\n",
       "    </tr>\n",
       "    <tr>\n",
       "      <th>15918</th>\n",
       "      <td>1685</td>\n",
       "    </tr>\n",
       "  </tbody>\n",
       "</table>\n",
       "<p>15919 rows × 1 columns</p>\n",
       "</div>"
      ],
      "text/plain": [
       "          0\n",
       "0      1220\n",
       "1      1255\n",
       "2       NaN\n",
       "3      1195\n",
       "4       NaN\n",
       "...     ...\n",
       "15914  1758\n",
       "15915  1708\n",
       "15916   NaN\n",
       "15917  1758\n",
       "15918  1685\n",
       "\n",
       "[15919 rows x 1 columns]"
      ]
     },
     "execution_count": 187,
     "metadata": {},
     "output_type": "execute_result"
    }
   ],
   "source": [
    "cars[\"Weight\"].apply(unique_values).str.replace(\",\", \"\").str.extract(\"(\\d*)\")\n",
    "# Numeric data that will be useful for us was excracted"
   ]
  },
  {
   "cell_type": "code",
   "execution_count": 188,
   "metadata": {},
   "outputs": [],
   "source": [
    "cars[\"Weight\"] = cars[\"Weight\"].apply(unique_values).str.replace(\",\", \"\").str.extract(\"(\\d*)\")"
   ]
  },
  {
   "cell_type": "code",
   "execution_count": 189,
   "metadata": {},
   "outputs": [
    {
     "data": {
      "text/plain": [
       "Index(['1163', '1360', '1165', '1335', '1135', '1199', '1734', '1180', '1503',\n",
       "       '1350',\n",
       "       ...\n",
       "       '1132', '1507', '1792', '2275', '1476', '1397', '1207', '1257', '1819',\n",
       "       '1420'],\n",
       "      dtype='object', length=434)"
      ]
     },
     "execution_count": 189,
     "metadata": {},
     "output_type": "execute_result"
    }
   ],
   "source": [
    "cars[\"Weight\"].value_counts().index"
   ]
  },
  {
   "cell_type": "code",
   "execution_count": 190,
   "metadata": {},
   "outputs": [],
   "source": [
    "def fill_most(df, model, col):\n",
    "    x = df[col][df[\"make_model\"] == model].mode()\n",
    "    df[col][df[\"make_model\"] == model] = df[col][df[\"make_model\"] == model].fillna(x[0])\n",
    "    return df[col][df[\"make_model\"] == model]"
   ]
  },
  {
   "cell_type": "code",
   "execution_count": 191,
   "metadata": {},
   "outputs": [],
   "source": [
    "cars.loc[cars[\"make_model\"] == \"Audi A2\",\"Weight\"] = 1100 \n",
    "# The values thought to be entered incorrectly were corrected manually."
   ]
  },
  {
   "cell_type": "code",
   "execution_count": 192,
   "metadata": {},
   "outputs": [],
   "source": [
    "cars.loc[cars[\"make_model\"] == \"Renault Duster\",\"Weight\"] = 1205 \n",
    "# The values thought to be entered incorrectly were corrected manually."
   ]
  },
  {
   "cell_type": "code",
   "execution_count": 193,
   "metadata": {},
   "outputs": [],
   "source": [
    "for i in cars[\"make_model\"].unique():\n",
    "    fill_most(cars, i, \"Weight\")"
   ]
  },
  {
   "cell_type": "code",
   "execution_count": 194,
   "metadata": {},
   "outputs": [],
   "source": [
    "cars[\"Weight\"] = cars[\"Weight\"].astype(\"int\")"
   ]
  },
  {
   "cell_type": "code",
   "execution_count": null,
   "metadata": {},
   "outputs": [],
   "source": []
  },
  {
   "cell_type": "code",
   "execution_count": 195,
   "metadata": {},
   "outputs": [
    {
     "data": {
      "text/plain": [
       "0       1220\n",
       "1       1255\n",
       "2       1165\n",
       "3       1195\n",
       "4       1165\n",
       "        ... \n",
       "2609    1165\n",
       "2610    1165\n",
       "2611    1135\n",
       "2612    1165\n",
       "2613    1136\n",
       "Name: Weight, Length: 2614, dtype: int32"
      ]
     },
     "execution_count": 195,
     "metadata": {},
     "output_type": "execute_result"
    }
   ],
   "source": [
    "cars[cars.make_model == \"Audi A1\"][\"Weight\"]"
   ]
  },
  {
   "cell_type": "code",
   "execution_count": 196,
   "metadata": {},
   "outputs": [],
   "source": [
    "cars.loc[[8355, 12779], \"Weight\"] = [1163, 1503]\n",
    "# The values thought to be entered incorrectly were corrected manually."
   ]
  },
  {
   "cell_type": "code",
   "execution_count": 197,
   "metadata": {},
   "outputs": [],
   "source": [
    "cars.loc[1143, \"Weight\"] = 1165\n",
    "# The values thought to be entered incorrectly were corrected manually."
   ]
  },
  {
   "cell_type": "code",
   "execution_count": 198,
   "metadata": {},
   "outputs": [
    {
     "data": {
      "text/html": [
       "<div>\n",
       "<style scoped>\n",
       "    .dataframe tbody tr th:only-of-type {\n",
       "        vertical-align: middle;\n",
       "    }\n",
       "\n",
       "    .dataframe tbody tr th {\n",
       "        vertical-align: top;\n",
       "    }\n",
       "\n",
       "    .dataframe thead th {\n",
       "        text-align: right;\n",
       "    }\n",
       "</style>\n",
       "<table border=\"1\" class=\"dataframe\">\n",
       "  <thead>\n",
       "    <tr style=\"text-align: right;\">\n",
       "      <th></th>\n",
       "      <th>Weight</th>\n",
       "      <th>Drive chain</th>\n",
       "      <th>Consumption</th>\n",
       "      <th>CO2 Emission</th>\n",
       "      <th>Emission Class</th>\n",
       "      <th>\\nComfort &amp; Convenience\\n</th>\n",
       "      <th>\\nEntertainment &amp; Media\\n</th>\n",
       "      <th>\\nExtras\\n</th>\n",
       "      <th>\\nSafety &amp; Security\\n</th>\n",
       "      <th>Gears</th>\n",
       "      <th>car_type</th>\n",
       "      <th>Fuel2</th>\n",
       "      <th>upholstery_type</th>\n",
       "      <th>upholstery_color</th>\n",
       "    </tr>\n",
       "  </thead>\n",
       "  <tbody>\n",
       "    <tr>\n",
       "      <th>0</th>\n",
       "      <td>1220</td>\n",
       "      <td>[\\nfront\\n]</td>\n",
       "      <td>[[3.8 l/100 km (comb)], [4.3 l/100 km (city)],...</td>\n",
       "      <td>[\\n99 g CO2/km (comb)\\n]</td>\n",
       "      <td>[\\nEuro 6\\n]</td>\n",
       "      <td>[Air conditioning, Armrest, Automatic climate ...</td>\n",
       "      <td>[Bluetooth, Hands-free equipment, On-board com...</td>\n",
       "      <td>[Alloy wheels, Catalytic Converter, Voice Cont...</td>\n",
       "      <td>[ABS, Central door lock, Daytime running light...</td>\n",
       "      <td>NaN</td>\n",
       "      <td>Used</td>\n",
       "      <td>diesel</td>\n",
       "      <td>Cloth</td>\n",
       "      <td>Black</td>\n",
       "    </tr>\n",
       "  </tbody>\n",
       "</table>\n",
       "</div>"
      ],
      "text/plain": [
       "   Weight  Drive chain                                        Consumption  \\\n",
       "0    1220  [\\nfront\\n]  [[3.8 l/100 km (comb)], [4.3 l/100 km (city)],...   \n",
       "\n",
       "               CO2 Emission Emission Class  \\\n",
       "0  [\\n99 g CO2/km (comb)\\n]   [\\nEuro 6\\n]   \n",
       "\n",
       "                           \\nComfort & Convenience\\n  \\\n",
       "0  [Air conditioning, Armrest, Automatic climate ...   \n",
       "\n",
       "                           \\nEntertainment & Media\\n  \\\n",
       "0  [Bluetooth, Hands-free equipment, On-board com...   \n",
       "\n",
       "                                          \\nExtras\\n  \\\n",
       "0  [Alloy wheels, Catalytic Converter, Voice Cont...   \n",
       "\n",
       "                               \\nSafety & Security\\n Gears car_type   Fuel2  \\\n",
       "0  [ABS, Central door lock, Daytime running light...   NaN     Used  diesel   \n",
       "\n",
       "  upholstery_type upholstery_color  \n",
       "0           Cloth            Black  "
      ]
     },
     "execution_count": 198,
     "metadata": {},
     "output_type": "execute_result"
    }
   ],
   "source": [
    "cars.loc[:, \"Weight\":].head(1)"
   ]
  },
  {
   "cell_type": "code",
   "execution_count": null,
   "metadata": {},
   "outputs": [],
   "source": []
  },
  {
   "cell_type": "code",
   "execution_count": 199,
   "metadata": {},
   "outputs": [
    {
     "ename": "TypeError",
     "evalue": "unhashable type: 'list'",
     "output_type": "error",
     "traceback": [
      "\u001b[1;31m---------------------------------------------------------------------------\u001b[0m",
      "\u001b[1;31mTypeError\u001b[0m                                 Traceback (most recent call last)",
      "\u001b[1;32mpandas\\_libs\\hashtable_class_helper.pxi\u001b[0m in \u001b[0;36mpandas._libs.hashtable.PyObjectHashTable.map_locations\u001b[1;34m()\u001b[0m\n",
      "\u001b[1;31mTypeError\u001b[0m: unhashable type: 'list'"
     ]
    },
    {
     "name": "stderr",
     "output_type": "stream",
     "text": [
      "Exception ignored in: 'pandas._libs.index.IndexEngine._call_map_locations'\n",
      "Traceback (most recent call last):\n",
      "  File \"pandas\\_libs\\hashtable_class_helper.pxi\", line 1709, in pandas._libs.hashtable.PyObjectHashTable.map_locations\n",
      "TypeError: unhashable type: 'list'\n"
     ]
    },
    {
     "data": {
      "text/plain": [
       "[\\nfront\\n]    8886\n",
       "NaN            6858\n",
       "[\\n4WD\\n]       171\n",
       "[\\nrear\\n]        4\n",
       "Name: Drive chain, dtype: int64"
      ]
     },
     "execution_count": 199,
     "metadata": {},
     "output_type": "execute_result"
    }
   ],
   "source": [
    "cars[\"Drive chain\"].value_counts(dropna = False)"
   ]
  },
  {
   "cell_type": "code",
   "execution_count": 200,
   "metadata": {},
   "outputs": [],
   "source": [
    "def unique_values(item):\n",
    "    \n",
    "    if type(item) == list:\n",
    "        return \"\".join(item).strip(\"\\n\")\n",
    "        \n",
    "    else:\n",
    "        return item"
   ]
  },
  {
   "cell_type": "code",
   "execution_count": 201,
   "metadata": {},
   "outputs": [
    {
     "data": {
      "text/plain": [
       "front    8886\n",
       "NaN      6858\n",
       "4WD       171\n",
       "rear        4\n",
       "Name: Drive chain, dtype: int64"
      ]
     },
     "execution_count": 201,
     "metadata": {},
     "output_type": "execute_result"
    }
   ],
   "source": [
    "cars[\"Drive chain\"].apply(unique_values).value_counts(dropna =False) # data extracted from list"
   ]
  },
  {
   "cell_type": "code",
   "execution_count": 202,
   "metadata": {},
   "outputs": [],
   "source": [
    "cars[\"Drive chain\"] = cars[\"Drive chain\"].apply(unique_values)"
   ]
  },
  {
   "cell_type": "code",
   "execution_count": 203,
   "metadata": {},
   "outputs": [],
   "source": [
    "def fill_most(df, model, col):\n",
    "    \n",
    "    x = df[col][df[\"make_model\"] == model].mode()\n",
    "    df[col][df[\"make_model\"] == model] = df[col][df[\"make_model\"] == model].fillna(method = \"ffill\")\n",
    "    df[col][df[\"make_model\"] == model] = df[col][df[\"make_model\"] == model].fillna(x[0])\n",
    "    return df[col][df[\"make_model\"] == model]"
   ]
  },
  {
   "cell_type": "code",
   "execution_count": 204,
   "metadata": {},
   "outputs": [],
   "source": [
    "for i in cars[\"make_model\"].unique():\n",
    "    fill_most(cars, i, \"Drive chain\")"
   ]
  },
  {
   "cell_type": "code",
   "execution_count": 205,
   "metadata": {},
   "outputs": [
    {
     "data": {
      "text/plain": [
       "front    15581\n",
       "4WD        333\n",
       "rear         5\n",
       "Name: Drive chain, dtype: int64"
      ]
     },
     "execution_count": 205,
     "metadata": {},
     "output_type": "execute_result"
    }
   ],
   "source": [
    "cars[\"Drive chain\"].value_counts(dropna = False)"
   ]
  },
  {
   "cell_type": "code",
   "execution_count": null,
   "metadata": {},
   "outputs": [],
   "source": []
  },
  {
   "cell_type": "code",
   "execution_count": 206,
   "metadata": {},
   "outputs": [
    {
     "data": {
      "text/html": [
       "<div>\n",
       "<style scoped>\n",
       "    .dataframe tbody tr th:only-of-type {\n",
       "        vertical-align: middle;\n",
       "    }\n",
       "\n",
       "    .dataframe tbody tr th {\n",
       "        vertical-align: top;\n",
       "    }\n",
       "\n",
       "    .dataframe thead th {\n",
       "        text-align: right;\n",
       "    }\n",
       "</style>\n",
       "<table border=\"1\" class=\"dataframe\">\n",
       "  <thead>\n",
       "    <tr style=\"text-align: right;\">\n",
       "      <th></th>\n",
       "      <th>Weight</th>\n",
       "      <th>Drive chain</th>\n",
       "      <th>Consumption</th>\n",
       "      <th>CO2 Emission</th>\n",
       "      <th>Emission Class</th>\n",
       "      <th>\\nComfort &amp; Convenience\\n</th>\n",
       "      <th>\\nEntertainment &amp; Media\\n</th>\n",
       "      <th>\\nExtras\\n</th>\n",
       "      <th>\\nSafety &amp; Security\\n</th>\n",
       "      <th>Gears</th>\n",
       "      <th>car_type</th>\n",
       "      <th>Fuel2</th>\n",
       "      <th>upholstery_type</th>\n",
       "      <th>upholstery_color</th>\n",
       "    </tr>\n",
       "  </thead>\n",
       "  <tbody>\n",
       "    <tr>\n",
       "      <th>0</th>\n",
       "      <td>1220</td>\n",
       "      <td>front</td>\n",
       "      <td>[[3.8 l/100 km (comb)], [4.3 l/100 km (city)],...</td>\n",
       "      <td>[\\n99 g CO2/km (comb)\\n]</td>\n",
       "      <td>[\\nEuro 6\\n]</td>\n",
       "      <td>[Air conditioning, Armrest, Automatic climate ...</td>\n",
       "      <td>[Bluetooth, Hands-free equipment, On-board com...</td>\n",
       "      <td>[Alloy wheels, Catalytic Converter, Voice Cont...</td>\n",
       "      <td>[ABS, Central door lock, Daytime running light...</td>\n",
       "      <td>NaN</td>\n",
       "      <td>Used</td>\n",
       "      <td>diesel</td>\n",
       "      <td>Cloth</td>\n",
       "      <td>Black</td>\n",
       "    </tr>\n",
       "  </tbody>\n",
       "</table>\n",
       "</div>"
      ],
      "text/plain": [
       "   Weight Drive chain                                        Consumption  \\\n",
       "0    1220       front  [[3.8 l/100 km (comb)], [4.3 l/100 km (city)],...   \n",
       "\n",
       "               CO2 Emission Emission Class  \\\n",
       "0  [\\n99 g CO2/km (comb)\\n]   [\\nEuro 6\\n]   \n",
       "\n",
       "                           \\nComfort & Convenience\\n  \\\n",
       "0  [Air conditioning, Armrest, Automatic climate ...   \n",
       "\n",
       "                           \\nEntertainment & Media\\n  \\\n",
       "0  [Bluetooth, Hands-free equipment, On-board com...   \n",
       "\n",
       "                                          \\nExtras\\n  \\\n",
       "0  [Alloy wheels, Catalytic Converter, Voice Cont...   \n",
       "\n",
       "                               \\nSafety & Security\\n Gears car_type   Fuel2  \\\n",
       "0  [ABS, Central door lock, Daytime running light...   NaN     Used  diesel   \n",
       "\n",
       "  upholstery_type upholstery_color  \n",
       "0           Cloth            Black  "
      ]
     },
     "execution_count": 206,
     "metadata": {},
     "output_type": "execute_result"
    }
   ],
   "source": [
    "cars.loc[:, \"Weight\":].head(1)"
   ]
  },
  {
   "cell_type": "code",
   "execution_count": 207,
   "metadata": {},
   "outputs": [
    {
     "ename": "TypeError",
     "evalue": "unhashable type: 'list'",
     "output_type": "error",
     "traceback": [
      "\u001b[1;31m---------------------------------------------------------------------------\u001b[0m",
      "\u001b[1;31mTypeError\u001b[0m                                 Traceback (most recent call last)",
      "\u001b[1;32mpandas\\_libs\\hashtable_class_helper.pxi\u001b[0m in \u001b[0;36mpandas._libs.hashtable.PyObjectHashTable.map_locations\u001b[1;34m()\u001b[0m\n",
      "\u001b[1;31mTypeError\u001b[0m: unhashable type: 'list'"
     ]
    },
    {
     "name": "stderr",
     "output_type": "stream",
     "text": [
      "Exception ignored in: 'pandas._libs.index.IndexEngine._call_map_locations'\n",
      "Traceback (most recent call last):\n",
      "  File \"pandas\\_libs\\hashtable_class_helper.pxi\", line 1709, in pandas._libs.hashtable.PyObjectHashTable.map_locations\n",
      "TypeError: unhashable type: 'list'\n"
     ]
    },
    {
     "data": {
      "text/plain": [
       "[[3.9 l/100 km (comb)], [4.1 l/100 km (city)], [3.7 l/100 km (country)]]              304\n",
       "[[4.2 l/100 km (comb)], [5 l/100 km (city)], [3.7 l/100 km (country)]]                276\n",
       "[[5.4 l/100 km (comb)], [6.8 l/100 km (city)], [4.5 l/100 km (country)]]              257\n",
       "[[3.8 l/100 km (comb)], [4.3 l/100 km (city)], [3.5 l/100 km (country)]]              253\n",
       "[[4.7 l/100 km (comb)], [5.1 l/100 km (city)], [4.4 l/100 km (country)]]              244\n",
       "                                                                                     ... \n",
       "[[], [], [5.6 l/100 km (country)]]                                                      1\n",
       "[\\n, 6.5 l/100 km (comb), \\n, 8.1 l/100 km (city), \\n, 5.5 l/100 km (country), \\n]      1\n",
       "[[3.5 l/100 km (comb)], [3.7 l/100 km (city)], [3.3 l/100 km (country)]]                1\n",
       "[[3.9 l/100 km (comb)], [4.5 l/100 km (city)], [3.7 l/100 km (country)]]                1\n",
       "[[5.4 l/100 km (comb)], [6.1 l/100 km (city)], [5 l/100 km (country)]]                  1\n",
       "Name: Consumption, Length: 881, dtype: int64"
      ]
     },
     "execution_count": 207,
     "metadata": {},
     "output_type": "execute_result"
    }
   ],
   "source": [
    "cars[\"Consumption\"].value_counts()"
   ]
  },
  {
   "cell_type": "code",
   "execution_count": null,
   "metadata": {},
   "outputs": [],
   "source": []
  },
  {
   "cell_type": "code",
   "execution_count": 208,
   "metadata": {},
   "outputs": [],
   "source": [
    "def unique_values(item):\n",
    "    \n",
    "    if type(item) == list:\n",
    "        return  str(item)\n",
    "        \n",
    "    else:\n",
    "        return item\n",
    "        "
   ]
  },
  {
   "cell_type": "code",
   "execution_count": 209,
   "metadata": {},
   "outputs": [
    {
     "data": {
      "text/plain": [
       "0    [['3.8 l/100 km (comb)'], ['4.3 l/100 km (city...\n",
       "1    [['5.6 l/100 km (comb)'], ['7.1 l/100 km (city...\n",
       "2    [['3.8 l/100 km (comb)'], ['4.4 l/100 km (city...\n",
       "3    [['3.8 l/100 km (comb)'], ['4.3 l/100 km (city...\n",
       "4    [['4.1 l/100 km (comb)'], ['4.6 l/100 km (city...\n",
       "Name: Consumption, dtype: object"
      ]
     },
     "execution_count": 209,
     "metadata": {},
     "output_type": "execute_result"
    }
   ],
   "source": [
    "cars[\"Consumption\"].apply(unique_values).head() # data extracted from list"
   ]
  },
  {
   "cell_type": "code",
   "execution_count": 210,
   "metadata": {},
   "outputs": [
    {
     "data": {
      "text/html": [
       "<div>\n",
       "<style scoped>\n",
       "    .dataframe tbody tr th:only-of-type {\n",
       "        vertical-align: middle;\n",
       "    }\n",
       "\n",
       "    .dataframe tbody tr th {\n",
       "        vertical-align: top;\n",
       "    }\n",
       "\n",
       "    .dataframe thead th {\n",
       "        text-align: right;\n",
       "    }\n",
       "</style>\n",
       "<table border=\"1\" class=\"dataframe\">\n",
       "  <thead>\n",
       "    <tr style=\"text-align: right;\">\n",
       "      <th></th>\n",
       "      <th>0</th>\n",
       "      <th>1</th>\n",
       "      <th>2</th>\n",
       "    </tr>\n",
       "  </thead>\n",
       "  <tbody>\n",
       "    <tr>\n",
       "      <th>0</th>\n",
       "      <td>3.8</td>\n",
       "      <td>4.3</td>\n",
       "      <td>3.5</td>\n",
       "    </tr>\n",
       "    <tr>\n",
       "      <th>1</th>\n",
       "      <td>5.6</td>\n",
       "      <td>7.1</td>\n",
       "      <td>4.7</td>\n",
       "    </tr>\n",
       "    <tr>\n",
       "      <th>2</th>\n",
       "      <td>3.8</td>\n",
       "      <td>4.4</td>\n",
       "      <td>3.4</td>\n",
       "    </tr>\n",
       "    <tr>\n",
       "      <th>3</th>\n",
       "      <td>3.8</td>\n",
       "      <td>4.3</td>\n",
       "      <td>3.5</td>\n",
       "    </tr>\n",
       "    <tr>\n",
       "      <th>4</th>\n",
       "      <td>4.1</td>\n",
       "      <td>4.6</td>\n",
       "      <td>3.8</td>\n",
       "    </tr>\n",
       "    <tr>\n",
       "      <th>...</th>\n",
       "      <td>...</td>\n",
       "      <td>...</td>\n",
       "      <td>...</td>\n",
       "    </tr>\n",
       "    <tr>\n",
       "      <th>15914</th>\n",
       "      <td>5.3</td>\n",
       "      <td>6.2</td>\n",
       "      <td>4.7</td>\n",
       "    </tr>\n",
       "    <tr>\n",
       "      <th>15915</th>\n",
       "      <td>7.4</td>\n",
       "      <td>9.2</td>\n",
       "      <td>6.3</td>\n",
       "    </tr>\n",
       "    <tr>\n",
       "      <th>15916</th>\n",
       "      <td>5.3</td>\n",
       "      <td>6.2</td>\n",
       "      <td>4.7</td>\n",
       "    </tr>\n",
       "    <tr>\n",
       "      <th>15917</th>\n",
       "      <td>5.3</td>\n",
       "      <td>6.2</td>\n",
       "      <td>4.7</td>\n",
       "    </tr>\n",
       "    <tr>\n",
       "      <th>15918</th>\n",
       "      <td>6.8</td>\n",
       "      <td>8.7</td>\n",
       "      <td>5.7</td>\n",
       "    </tr>\n",
       "  </tbody>\n",
       "</table>\n",
       "<p>15919 rows × 3 columns</p>\n",
       "</div>"
      ],
      "text/plain": [
       "         0    1    2\n",
       "0      3.8  4.3  3.5\n",
       "1      5.6  7.1  4.7\n",
       "2      3.8  4.4  3.4\n",
       "3      3.8  4.3  3.5\n",
       "4      4.1  4.6  3.8\n",
       "...    ...  ...  ...\n",
       "15914  5.3  6.2  4.7\n",
       "15915  7.4  9.2  6.3\n",
       "15916  5.3  6.2  4.7\n",
       "15917  5.3  6.2  4.7\n",
       "15918  6.8  8.7  5.7\n",
       "\n",
       "[15919 rows x 3 columns]"
      ]
     },
     "execution_count": 210,
     "metadata": {},
     "output_type": "execute_result"
    }
   ],
   "source": [
    "x = cars[\"Consumption\"].apply(unique_values).str.extract(\"(\\d+.\\d*|\\d+).*'(\\d+.\\d*|\\d+).*'(\\d+.\\d*|\\d+)\")\n",
    "x # Numeric data that will be useful for us was extracted"
   ]
  },
  {
   "cell_type": "code",
   "execution_count": 211,
   "metadata": {},
   "outputs": [],
   "source": [
    "x_new = x.rename(columns = {0 : \"comb\", 1: \"city\", 2: \"country\"}) \n",
    "# new column names assigned to newly created dataframe"
   ]
  },
  {
   "cell_type": "code",
   "execution_count": 212,
   "metadata": {},
   "outputs": [
    {
     "data": {
      "text/html": [
       "<div>\n",
       "<style scoped>\n",
       "    .dataframe tbody tr th:only-of-type {\n",
       "        vertical-align: middle;\n",
       "    }\n",
       "\n",
       "    .dataframe tbody tr th {\n",
       "        vertical-align: top;\n",
       "    }\n",
       "\n",
       "    .dataframe thead th {\n",
       "        text-align: right;\n",
       "    }\n",
       "</style>\n",
       "<table border=\"1\" class=\"dataframe\">\n",
       "  <thead>\n",
       "    <tr style=\"text-align: right;\">\n",
       "      <th></th>\n",
       "      <th>comb</th>\n",
       "      <th>city</th>\n",
       "      <th>country</th>\n",
       "    </tr>\n",
       "  </thead>\n",
       "  <tbody>\n",
       "    <tr>\n",
       "      <th>0</th>\n",
       "      <td>3.8</td>\n",
       "      <td>4.3</td>\n",
       "      <td>3.5</td>\n",
       "    </tr>\n",
       "    <tr>\n",
       "      <th>1</th>\n",
       "      <td>5.6</td>\n",
       "      <td>7.1</td>\n",
       "      <td>4.7</td>\n",
       "    </tr>\n",
       "    <tr>\n",
       "      <th>2</th>\n",
       "      <td>3.8</td>\n",
       "      <td>4.4</td>\n",
       "      <td>3.4</td>\n",
       "    </tr>\n",
       "    <tr>\n",
       "      <th>3</th>\n",
       "      <td>3.8</td>\n",
       "      <td>4.3</td>\n",
       "      <td>3.5</td>\n",
       "    </tr>\n",
       "    <tr>\n",
       "      <th>4</th>\n",
       "      <td>4.1</td>\n",
       "      <td>4.6</td>\n",
       "      <td>3.8</td>\n",
       "    </tr>\n",
       "    <tr>\n",
       "      <th>...</th>\n",
       "      <td>...</td>\n",
       "      <td>...</td>\n",
       "      <td>...</td>\n",
       "    </tr>\n",
       "    <tr>\n",
       "      <th>15914</th>\n",
       "      <td>5.3</td>\n",
       "      <td>6.2</td>\n",
       "      <td>4.7</td>\n",
       "    </tr>\n",
       "    <tr>\n",
       "      <th>15915</th>\n",
       "      <td>7.4</td>\n",
       "      <td>9.2</td>\n",
       "      <td>6.3</td>\n",
       "    </tr>\n",
       "    <tr>\n",
       "      <th>15916</th>\n",
       "      <td>5.3</td>\n",
       "      <td>6.2</td>\n",
       "      <td>4.7</td>\n",
       "    </tr>\n",
       "    <tr>\n",
       "      <th>15917</th>\n",
       "      <td>5.3</td>\n",
       "      <td>6.2</td>\n",
       "      <td>4.7</td>\n",
       "    </tr>\n",
       "    <tr>\n",
       "      <th>15918</th>\n",
       "      <td>6.8</td>\n",
       "      <td>8.7</td>\n",
       "      <td>5.7</td>\n",
       "    </tr>\n",
       "  </tbody>\n",
       "</table>\n",
       "<p>15919 rows × 3 columns</p>\n",
       "</div>"
      ],
      "text/plain": [
       "      comb city country\n",
       "0      3.8  4.3     3.5\n",
       "1      5.6  7.1     4.7\n",
       "2      3.8  4.4     3.4\n",
       "3      3.8  4.3     3.5\n",
       "4      4.1  4.6     3.8\n",
       "...    ...  ...     ...\n",
       "15914  5.3  6.2     4.7\n",
       "15915  7.4  9.2     6.3\n",
       "15916  5.3  6.2     4.7\n",
       "15917  5.3  6.2     4.7\n",
       "15918  6.8  8.7     5.7\n",
       "\n",
       "[15919 rows x 3 columns]"
      ]
     },
     "execution_count": 212,
     "metadata": {},
     "output_type": "execute_result"
    }
   ],
   "source": [
    "x_new"
   ]
  },
  {
   "cell_type": "code",
   "execution_count": 213,
   "metadata": {},
   "outputs": [],
   "source": [
    "x_new[\"comb\"] = x_new[\"comb\"].astype(\"float\")\n",
    "x_new[\"city\"] = x_new[\"city\"].astype(\"float\")\n",
    "x_new[\"country\"] = x_new[\"country\"].astype(\"float\") # new columns converted to float"
   ]
  },
  {
   "cell_type": "code",
   "execution_count": 214,
   "metadata": {},
   "outputs": [
    {
     "data": {
      "text/plain": [
       "dtype('float64')"
      ]
     },
     "execution_count": 214,
     "metadata": {},
     "output_type": "execute_result"
    }
   ],
   "source": [
    "x_new[\"comb\"].dtype"
   ]
  },
  {
   "cell_type": "code",
   "execution_count": 215,
   "metadata": {},
   "outputs": [
    {
     "data": {
      "text/html": [
       "<div>\n",
       "<style scoped>\n",
       "    .dataframe tbody tr th:only-of-type {\n",
       "        vertical-align: middle;\n",
       "    }\n",
       "\n",
       "    .dataframe tbody tr th {\n",
       "        vertical-align: top;\n",
       "    }\n",
       "\n",
       "    .dataframe thead th {\n",
       "        text-align: right;\n",
       "    }\n",
       "</style>\n",
       "<table border=\"1\" class=\"dataframe\">\n",
       "  <thead>\n",
       "    <tr style=\"text-align: right;\">\n",
       "      <th></th>\n",
       "      <th>make_model</th>\n",
       "      <th>short_description</th>\n",
       "      <th>body_type</th>\n",
       "      <th>price</th>\n",
       "      <th>vat</th>\n",
       "      <th>km</th>\n",
       "      <th>registration</th>\n",
       "      <th>prev_owner</th>\n",
       "      <th>hp</th>\n",
       "      <th>Warranty</th>\n",
       "      <th>...</th>\n",
       "      <th>Emission Class</th>\n",
       "      <th>\\nComfort &amp; Convenience\\n</th>\n",
       "      <th>\\nEntertainment &amp; Media\\n</th>\n",
       "      <th>\\nExtras\\n</th>\n",
       "      <th>\\nSafety &amp; Security\\n</th>\n",
       "      <th>Gears</th>\n",
       "      <th>car_type</th>\n",
       "      <th>Fuel2</th>\n",
       "      <th>upholstery_type</th>\n",
       "      <th>upholstery_color</th>\n",
       "    </tr>\n",
       "  </thead>\n",
       "  <tbody>\n",
       "    <tr>\n",
       "      <th>0</th>\n",
       "      <td>Audi A1</td>\n",
       "      <td>Sportback 1.4 TDI S-tronic Xenon Navi Klima</td>\n",
       "      <td>Sedans</td>\n",
       "      <td>15770</td>\n",
       "      <td>VAT deductible</td>\n",
       "      <td>56013</td>\n",
       "      <td>2016-01-01</td>\n",
       "      <td>2 previous owners</td>\n",
       "      <td>66</td>\n",
       "      <td>0</td>\n",
       "      <td>...</td>\n",
       "      <td>[\\nEuro 6\\n]</td>\n",
       "      <td>[Air conditioning, Armrest, Automatic climate ...</td>\n",
       "      <td>[Bluetooth, Hands-free equipment, On-board com...</td>\n",
       "      <td>[Alloy wheels, Catalytic Converter, Voice Cont...</td>\n",
       "      <td>[ABS, Central door lock, Daytime running light...</td>\n",
       "      <td>NaN</td>\n",
       "      <td>Used</td>\n",
       "      <td>diesel</td>\n",
       "      <td>Cloth</td>\n",
       "      <td>Black</td>\n",
       "    </tr>\n",
       "  </tbody>\n",
       "</table>\n",
       "<p>1 rows × 31 columns</p>\n",
       "</div>"
      ],
      "text/plain": [
       "  make_model                            short_description body_type  price  \\\n",
       "0    Audi A1  Sportback 1.4 TDI S-tronic Xenon Navi Klima    Sedans  15770   \n",
       "\n",
       "              vat     km registration         prev_owner  hp  Warranty  ...  \\\n",
       "0  VAT deductible  56013   2016-01-01  2 previous owners  66         0  ...   \n",
       "\n",
       "  Emission Class                          \\nComfort & Convenience\\n  \\\n",
       "0   [\\nEuro 6\\n]  [Air conditioning, Armrest, Automatic climate ...   \n",
       "\n",
       "                           \\nEntertainment & Media\\n  \\\n",
       "0  [Bluetooth, Hands-free equipment, On-board com...   \n",
       "\n",
       "                                          \\nExtras\\n  \\\n",
       "0  [Alloy wheels, Catalytic Converter, Voice Cont...   \n",
       "\n",
       "                               \\nSafety & Security\\n  Gears  car_type   Fuel2  \\\n",
       "0  [ABS, Central door lock, Daytime running light...    NaN      Used  diesel   \n",
       "\n",
       "  upholstery_type upholstery_color  \n",
       "0           Cloth            Black  \n",
       "\n",
       "[1 rows x 31 columns]"
      ]
     },
     "execution_count": 215,
     "metadata": {},
     "output_type": "execute_result"
    }
   ],
   "source": [
    "cars.head(1)"
   ]
  },
  {
   "cell_type": "code",
   "execution_count": 216,
   "metadata": {},
   "outputs": [],
   "source": [
    "cars = cars.join(x_new) # new columns joined to cars dataframe"
   ]
  },
  {
   "cell_type": "code",
   "execution_count": 217,
   "metadata": {},
   "outputs": [],
   "source": [
    "cars.drop(\"Consumption\", axis = 1, inplace = True)\n",
    "# Consumption column was dropped as we no longer needed it"
   ]
  },
  {
   "cell_type": "code",
   "execution_count": 218,
   "metadata": {},
   "outputs": [
    {
     "data": {
      "text/html": [
       "<div>\n",
       "<style scoped>\n",
       "    .dataframe tbody tr th:only-of-type {\n",
       "        vertical-align: middle;\n",
       "    }\n",
       "\n",
       "    .dataframe tbody tr th {\n",
       "        vertical-align: top;\n",
       "    }\n",
       "\n",
       "    .dataframe thead th {\n",
       "        text-align: right;\n",
       "    }\n",
       "</style>\n",
       "<table border=\"1\" class=\"dataframe\">\n",
       "  <thead>\n",
       "    <tr style=\"text-align: right;\">\n",
       "      <th></th>\n",
       "      <th>make_model</th>\n",
       "      <th>short_description</th>\n",
       "      <th>body_type</th>\n",
       "      <th>price</th>\n",
       "      <th>vat</th>\n",
       "      <th>km</th>\n",
       "      <th>registration</th>\n",
       "      <th>prev_owner</th>\n",
       "      <th>hp</th>\n",
       "      <th>Warranty</th>\n",
       "      <th>...</th>\n",
       "      <th>\\nExtras\\n</th>\n",
       "      <th>\\nSafety &amp; Security\\n</th>\n",
       "      <th>Gears</th>\n",
       "      <th>car_type</th>\n",
       "      <th>Fuel2</th>\n",
       "      <th>upholstery_type</th>\n",
       "      <th>upholstery_color</th>\n",
       "      <th>comb</th>\n",
       "      <th>city</th>\n",
       "      <th>country</th>\n",
       "    </tr>\n",
       "  </thead>\n",
       "  <tbody>\n",
       "    <tr>\n",
       "      <th>0</th>\n",
       "      <td>Audi A1</td>\n",
       "      <td>Sportback 1.4 TDI S-tronic Xenon Navi Klima</td>\n",
       "      <td>Sedans</td>\n",
       "      <td>15770</td>\n",
       "      <td>VAT deductible</td>\n",
       "      <td>56013</td>\n",
       "      <td>2016-01-01</td>\n",
       "      <td>2 previous owners</td>\n",
       "      <td>66</td>\n",
       "      <td>0</td>\n",
       "      <td>...</td>\n",
       "      <td>[Alloy wheels, Catalytic Converter, Voice Cont...</td>\n",
       "      <td>[ABS, Central door lock, Daytime running light...</td>\n",
       "      <td>NaN</td>\n",
       "      <td>Used</td>\n",
       "      <td>diesel</td>\n",
       "      <td>Cloth</td>\n",
       "      <td>Black</td>\n",
       "      <td>3.8</td>\n",
       "      <td>4.3</td>\n",
       "      <td>3.5</td>\n",
       "    </tr>\n",
       "  </tbody>\n",
       "</table>\n",
       "<p>1 rows × 33 columns</p>\n",
       "</div>"
      ],
      "text/plain": [
       "  make_model                            short_description body_type  price  \\\n",
       "0    Audi A1  Sportback 1.4 TDI S-tronic Xenon Navi Klima    Sedans  15770   \n",
       "\n",
       "              vat     km registration         prev_owner  hp  Warranty  ...  \\\n",
       "0  VAT deductible  56013   2016-01-01  2 previous owners  66         0  ...   \n",
       "\n",
       "                                          \\nExtras\\n  \\\n",
       "0  [Alloy wheels, Catalytic Converter, Voice Cont...   \n",
       "\n",
       "                               \\nSafety & Security\\n  Gears  car_type   Fuel2  \\\n",
       "0  [ABS, Central door lock, Daytime running light...    NaN      Used  diesel   \n",
       "\n",
       "   upholstery_type  upholstery_color  comb city country  \n",
       "0            Cloth             Black   3.8  4.3     3.5  \n",
       "\n",
       "[1 rows x 33 columns]"
      ]
     },
     "execution_count": 218,
     "metadata": {},
     "output_type": "execute_result"
    }
   ],
   "source": [
    "cars.head(1)"
   ]
  },
  {
   "cell_type": "code",
   "execution_count": 219,
   "metadata": {},
   "outputs": [],
   "source": [
    "def fill_most(df, model, col):\n",
    "    x = df[col][df[\"make_model\"] == model].mode()\n",
    "    df[col][df[\"make_model\"] == model] = df[col][df[\"make_model\"] == model].fillna(x[0])\n",
    "    return df[col][df[\"make_model\"] == model]"
   ]
  },
  {
   "cell_type": "code",
   "execution_count": 220,
   "metadata": {},
   "outputs": [],
   "source": [
    "for i in cars[\"make_model\"].unique():\n",
    "    fill_most(cars, i, \"comb\")"
   ]
  },
  {
   "cell_type": "code",
   "execution_count": 221,
   "metadata": {},
   "outputs": [],
   "source": [
    "for i in cars[\"make_model\"].unique():\n",
    "    fill_most(cars, i, \"city\")"
   ]
  },
  {
   "cell_type": "code",
   "execution_count": 222,
   "metadata": {},
   "outputs": [],
   "source": [
    "for i in cars[\"make_model\"].unique():\n",
    "    fill_most(cars, i, \"country\")"
   ]
  },
  {
   "cell_type": "code",
   "execution_count": 223,
   "metadata": {},
   "outputs": [
    {
     "data": {
      "text/plain": [
       "4.5    1533\n",
       "3.7    1500\n",
       "4.2    1443\n",
       "3.8    1179\n",
       "4.4    1137\n",
       "Name: country, dtype: int64"
      ]
     },
     "execution_count": 223,
     "metadata": {},
     "output_type": "execute_result"
    }
   ],
   "source": [
    "cars[\"country\"].value_counts(dropna = False).head()"
   ]
  },
  {
   "cell_type": "code",
   "execution_count": 224,
   "metadata": {},
   "outputs": [
    {
     "data": {
      "text/html": [
       "<div>\n",
       "<style scoped>\n",
       "    .dataframe tbody tr th:only-of-type {\n",
       "        vertical-align: middle;\n",
       "    }\n",
       "\n",
       "    .dataframe tbody tr th {\n",
       "        vertical-align: top;\n",
       "    }\n",
       "\n",
       "    .dataframe thead th {\n",
       "        text-align: right;\n",
       "    }\n",
       "</style>\n",
       "<table border=\"1\" class=\"dataframe\">\n",
       "  <thead>\n",
       "    <tr style=\"text-align: right;\">\n",
       "      <th></th>\n",
       "      <th>Weight</th>\n",
       "      <th>Drive chain</th>\n",
       "      <th>CO2 Emission</th>\n",
       "      <th>Emission Class</th>\n",
       "      <th>\\nComfort &amp; Convenience\\n</th>\n",
       "      <th>\\nEntertainment &amp; Media\\n</th>\n",
       "      <th>\\nExtras\\n</th>\n",
       "      <th>\\nSafety &amp; Security\\n</th>\n",
       "      <th>Gears</th>\n",
       "      <th>car_type</th>\n",
       "      <th>Fuel2</th>\n",
       "      <th>upholstery_type</th>\n",
       "      <th>upholstery_color</th>\n",
       "      <th>comb</th>\n",
       "      <th>city</th>\n",
       "      <th>country</th>\n",
       "    </tr>\n",
       "  </thead>\n",
       "  <tbody>\n",
       "    <tr>\n",
       "      <th>0</th>\n",
       "      <td>1220</td>\n",
       "      <td>front</td>\n",
       "      <td>[\\n99 g CO2/km (comb)\\n]</td>\n",
       "      <td>[\\nEuro 6\\n]</td>\n",
       "      <td>[Air conditioning, Armrest, Automatic climate ...</td>\n",
       "      <td>[Bluetooth, Hands-free equipment, On-board com...</td>\n",
       "      <td>[Alloy wheels, Catalytic Converter, Voice Cont...</td>\n",
       "      <td>[ABS, Central door lock, Daytime running light...</td>\n",
       "      <td>NaN</td>\n",
       "      <td>Used</td>\n",
       "      <td>diesel</td>\n",
       "      <td>Cloth</td>\n",
       "      <td>Black</td>\n",
       "      <td>3.8</td>\n",
       "      <td>4.3</td>\n",
       "      <td>3.5</td>\n",
       "    </tr>\n",
       "  </tbody>\n",
       "</table>\n",
       "</div>"
      ],
      "text/plain": [
       "   Weight Drive chain              CO2 Emission Emission Class  \\\n",
       "0    1220       front  [\\n99 g CO2/km (comb)\\n]   [\\nEuro 6\\n]   \n",
       "\n",
       "                           \\nComfort & Convenience\\n  \\\n",
       "0  [Air conditioning, Armrest, Automatic climate ...   \n",
       "\n",
       "                           \\nEntertainment & Media\\n  \\\n",
       "0  [Bluetooth, Hands-free equipment, On-board com...   \n",
       "\n",
       "                                          \\nExtras\\n  \\\n",
       "0  [Alloy wheels, Catalytic Converter, Voice Cont...   \n",
       "\n",
       "                               \\nSafety & Security\\n Gears car_type   Fuel2  \\\n",
       "0  [ABS, Central door lock, Daytime running light...   NaN     Used  diesel   \n",
       "\n",
       "  upholstery_type upholstery_color  comb  city  country  \n",
       "0           Cloth            Black   3.8   4.3      3.5  "
      ]
     },
     "execution_count": 224,
     "metadata": {},
     "output_type": "execute_result"
    }
   ],
   "source": [
    "cars.loc[:, \"Weight\":].head(1)"
   ]
  },
  {
   "cell_type": "code",
   "execution_count": 225,
   "metadata": {},
   "outputs": [
    {
     "ename": "TypeError",
     "evalue": "unhashable type: 'list'",
     "output_type": "error",
     "traceback": [
      "\u001b[1;31m---------------------------------------------------------------------------\u001b[0m",
      "\u001b[1;31mTypeError\u001b[0m                                 Traceback (most recent call last)",
      "\u001b[1;32mpandas\\_libs\\hashtable_class_helper.pxi\u001b[0m in \u001b[0;36mpandas._libs.hashtable.PyObjectHashTable.map_locations\u001b[1;34m()\u001b[0m\n",
      "\u001b[1;31mTypeError\u001b[0m: unhashable type: 'list'"
     ]
    },
    {
     "name": "stderr",
     "output_type": "stream",
     "text": [
      "Exception ignored in: 'pandas._libs.index.IndexEngine._call_map_locations'\n",
      "Traceback (most recent call last):\n",
      "  File \"pandas\\_libs\\hashtable_class_helper.pxi\", line 1709, in pandas._libs.hashtable.PyObjectHashTable.map_locations\n",
      "TypeError: unhashable type: 'list'\n"
     ]
    },
    {
     "data": {
      "text/plain": [
       "NaN                            1808\n",
       "[\\n120 g CO2/km (comb)\\n]       740\n",
       "[[], [], []]                    628\n",
       "[\\n99 g CO2/km (comb)\\n]        545\n",
       "[\\n97 g CO2/km (comb)\\n]        537\n",
       "                               ... \n",
       "[\\n193 g CO2/km (comb)\\n]         1\n",
       "[\\n171 g CO2/km (comb)\\n]         1\n",
       "[\\n990 g CO2/km (comb)\\n]         1\n",
       "[\\n1,060 g CO2/km (comb)\\n]       1\n",
       "[\\n183 g CO2/km (comb)\\n]         1\n",
       "Name: CO2 Emission, Length: 124, dtype: int64"
      ]
     },
     "execution_count": 225,
     "metadata": {},
     "output_type": "execute_result"
    }
   ],
   "source": [
    "cars[\"CO2 Emission\"].value_counts(dropna = False)"
   ]
  },
  {
   "cell_type": "code",
   "execution_count": 226,
   "metadata": {},
   "outputs": [],
   "source": [
    "def unique_values(item):\n",
    "    \n",
    "    if type(item) == list:\n",
    "        return str(item)\n",
    "        \n",
    "    else:\n",
    "        return item"
   ]
  },
  {
   "cell_type": "code",
   "execution_count": 227,
   "metadata": {},
   "outputs": [
    {
     "data": {
      "text/plain": [
       "0         ['\\n99 g CO2/km (comb)\\n']\n",
       "1        ['\\n129 g CO2/km (comb)\\n']\n",
       "2         ['\\n99 g CO2/km (comb)\\n']\n",
       "3         ['\\n99 g CO2/km (comb)\\n']\n",
       "4        ['\\n109 g CO2/km (comb)\\n']\n",
       "                    ...             \n",
       "15914    ['\\n139 g CO2/km (comb)\\n']\n",
       "15915    ['\\n168 g CO2/km (comb)\\n']\n",
       "15916    ['\\n139 g CO2/km (comb)\\n']\n",
       "15917    ['\\n139 g CO2/km (comb)\\n']\n",
       "15918    ['\\n153 g CO2/km (comb)\\n']\n",
       "Name: CO2 Emission, Length: 15919, dtype: object"
      ]
     },
     "execution_count": 227,
     "metadata": {},
     "output_type": "execute_result"
    }
   ],
   "source": [
    "cars[\"CO2 Emission\"].apply(unique_values)"
   ]
  },
  {
   "cell_type": "code",
   "execution_count": 228,
   "metadata": {},
   "outputs": [
    {
     "data": {
      "text/html": [
       "<div>\n",
       "<style scoped>\n",
       "    .dataframe tbody tr th:only-of-type {\n",
       "        vertical-align: middle;\n",
       "    }\n",
       "\n",
       "    .dataframe tbody tr th {\n",
       "        vertical-align: top;\n",
       "    }\n",
       "\n",
       "    .dataframe thead th {\n",
       "        text-align: right;\n",
       "    }\n",
       "</style>\n",
       "<table border=\"1\" class=\"dataframe\">\n",
       "  <thead>\n",
       "    <tr style=\"text-align: right;\">\n",
       "      <th></th>\n",
       "      <th>0</th>\n",
       "    </tr>\n",
       "  </thead>\n",
       "  <tbody>\n",
       "    <tr>\n",
       "      <th>0</th>\n",
       "      <td>99</td>\n",
       "    </tr>\n",
       "    <tr>\n",
       "      <th>1</th>\n",
       "      <td>129</td>\n",
       "    </tr>\n",
       "    <tr>\n",
       "      <th>2</th>\n",
       "      <td>99</td>\n",
       "    </tr>\n",
       "    <tr>\n",
       "      <th>3</th>\n",
       "      <td>99</td>\n",
       "    </tr>\n",
       "    <tr>\n",
       "      <th>4</th>\n",
       "      <td>109</td>\n",
       "    </tr>\n",
       "    <tr>\n",
       "      <th>...</th>\n",
       "      <td>...</td>\n",
       "    </tr>\n",
       "    <tr>\n",
       "      <th>15914</th>\n",
       "      <td>139</td>\n",
       "    </tr>\n",
       "    <tr>\n",
       "      <th>15915</th>\n",
       "      <td>168</td>\n",
       "    </tr>\n",
       "    <tr>\n",
       "      <th>15916</th>\n",
       "      <td>139</td>\n",
       "    </tr>\n",
       "    <tr>\n",
       "      <th>15917</th>\n",
       "      <td>139</td>\n",
       "    </tr>\n",
       "    <tr>\n",
       "      <th>15918</th>\n",
       "      <td>153</td>\n",
       "    </tr>\n",
       "  </tbody>\n",
       "</table>\n",
       "<p>15919 rows × 1 columns</p>\n",
       "</div>"
      ],
      "text/plain": [
       "         0\n",
       "0       99\n",
       "1      129\n",
       "2       99\n",
       "3       99\n",
       "4      109\n",
       "...    ...\n",
       "15914  139\n",
       "15915  168\n",
       "15916  139\n",
       "15917  139\n",
       "15918  153\n",
       "\n",
       "[15919 rows x 1 columns]"
      ]
     },
     "execution_count": 228,
     "metadata": {},
     "output_type": "execute_result"
    }
   ],
   "source": [
    "cars[\"CO2 Emission\"].apply(unique_values).str.extract(\"(\\d+)\") \n",
    "# Numeric data that will be useful for us was extracted"
   ]
  },
  {
   "cell_type": "code",
   "execution_count": 229,
   "metadata": {},
   "outputs": [],
   "source": [
    "cars[\"CO2 Emission\"] = cars[\"CO2 Emission\"].apply(unique_values).str.extract(\"(\\d+)\")"
   ]
  },
  {
   "cell_type": "code",
   "execution_count": 230,
   "metadata": {},
   "outputs": [
    {
     "data": {
      "text/plain": [
       "NaN    2436\n",
       "120     740\n",
       "99      545\n",
       "97      537\n",
       "104     501\n",
       "       ... \n",
       "253       1\n",
       "177       1\n",
       "239       1\n",
       "990       1\n",
       "51        1\n",
       "Name: CO2 Emission, Length: 120, dtype: int64"
      ]
     },
     "execution_count": 230,
     "metadata": {},
     "output_type": "execute_result"
    }
   ],
   "source": [
    "cars[\"CO2 Emission\"].value_counts(dropna = False)"
   ]
  },
  {
   "cell_type": "code",
   "execution_count": 231,
   "metadata": {},
   "outputs": [],
   "source": [
    "def fill_most(df, model, col):\n",
    "    \n",
    "    x = df[col][df[\"make_model\"] == model].mode()\n",
    "    df[col][df[\"make_model\"] == model] = df[col][df[\"make_model\"] == model].fillna(method = \"ffill\")\n",
    "    df[col][df[\"make_model\"] == model] = df[col][df[\"make_model\"] == model].fillna(x[0])\n",
    "    return df[col][df[\"make_model\"] == model]"
   ]
  },
  {
   "cell_type": "code",
   "execution_count": 232,
   "metadata": {},
   "outputs": [],
   "source": [
    "cars.loc[cars.make_model == \"Audi A2\", \"CO2 Emission\"] = \"104\" # value entered manually"
   ]
  },
  {
   "cell_type": "code",
   "execution_count": 233,
   "metadata": {},
   "outputs": [],
   "source": [
    "for i in cars[\"make_model\"].unique():\n",
    "    fill_most(cars, i, \"CO2 Emission\")"
   ]
  },
  {
   "cell_type": "code",
   "execution_count": 234,
   "metadata": {},
   "outputs": [],
   "source": [
    "cars[\"CO2 Emission\"] = cars[\"CO2 Emission\"].astype(\"int\")"
   ]
  },
  {
   "cell_type": "code",
   "execution_count": 235,
   "metadata": {},
   "outputs": [
    {
     "data": {
      "text/html": [
       "<div>\n",
       "<style scoped>\n",
       "    .dataframe tbody tr th:only-of-type {\n",
       "        vertical-align: middle;\n",
       "    }\n",
       "\n",
       "    .dataframe tbody tr th {\n",
       "        vertical-align: top;\n",
       "    }\n",
       "\n",
       "    .dataframe thead th {\n",
       "        text-align: right;\n",
       "    }\n",
       "</style>\n",
       "<table border=\"1\" class=\"dataframe\">\n",
       "  <thead>\n",
       "    <tr style=\"text-align: right;\">\n",
       "      <th></th>\n",
       "      <th>Weight</th>\n",
       "      <th>Drive chain</th>\n",
       "      <th>CO2 Emission</th>\n",
       "      <th>Emission Class</th>\n",
       "      <th>\\nComfort &amp; Convenience\\n</th>\n",
       "      <th>\\nEntertainment &amp; Media\\n</th>\n",
       "      <th>\\nExtras\\n</th>\n",
       "      <th>\\nSafety &amp; Security\\n</th>\n",
       "      <th>Gears</th>\n",
       "      <th>car_type</th>\n",
       "      <th>Fuel2</th>\n",
       "      <th>upholstery_type</th>\n",
       "      <th>upholstery_color</th>\n",
       "      <th>comb</th>\n",
       "      <th>city</th>\n",
       "      <th>country</th>\n",
       "    </tr>\n",
       "  </thead>\n",
       "  <tbody>\n",
       "    <tr>\n",
       "      <th>0</th>\n",
       "      <td>1220</td>\n",
       "      <td>front</td>\n",
       "      <td>99</td>\n",
       "      <td>[\\nEuro 6\\n]</td>\n",
       "      <td>[Air conditioning, Armrest, Automatic climate ...</td>\n",
       "      <td>[Bluetooth, Hands-free equipment, On-board com...</td>\n",
       "      <td>[Alloy wheels, Catalytic Converter, Voice Cont...</td>\n",
       "      <td>[ABS, Central door lock, Daytime running light...</td>\n",
       "      <td>NaN</td>\n",
       "      <td>Used</td>\n",
       "      <td>diesel</td>\n",
       "      <td>Cloth</td>\n",
       "      <td>Black</td>\n",
       "      <td>3.8</td>\n",
       "      <td>4.3</td>\n",
       "      <td>3.5</td>\n",
       "    </tr>\n",
       "  </tbody>\n",
       "</table>\n",
       "</div>"
      ],
      "text/plain": [
       "   Weight Drive chain  CO2 Emission Emission Class  \\\n",
       "0    1220       front            99   [\\nEuro 6\\n]   \n",
       "\n",
       "                           \\nComfort & Convenience\\n  \\\n",
       "0  [Air conditioning, Armrest, Automatic climate ...   \n",
       "\n",
       "                           \\nEntertainment & Media\\n  \\\n",
       "0  [Bluetooth, Hands-free equipment, On-board com...   \n",
       "\n",
       "                                          \\nExtras\\n  \\\n",
       "0  [Alloy wheels, Catalytic Converter, Voice Cont...   \n",
       "\n",
       "                               \\nSafety & Security\\n Gears car_type   Fuel2  \\\n",
       "0  [ABS, Central door lock, Daytime running light...   NaN     Used  diesel   \n",
       "\n",
       "  upholstery_type upholstery_color  comb  city  country  \n",
       "0           Cloth            Black   3.8   4.3      3.5  "
      ]
     },
     "execution_count": 235,
     "metadata": {},
     "output_type": "execute_result"
    }
   ],
   "source": [
    "cars.loc[:, \"Weight\":].head(1)"
   ]
  },
  {
   "cell_type": "code",
   "execution_count": null,
   "metadata": {},
   "outputs": [],
   "source": []
  },
  {
   "cell_type": "code",
   "execution_count": 236,
   "metadata": {},
   "outputs": [
    {
     "ename": "TypeError",
     "evalue": "unhashable type: 'list'",
     "output_type": "error",
     "traceback": [
      "\u001b[1;31m---------------------------------------------------------------------------\u001b[0m",
      "\u001b[1;31mTypeError\u001b[0m                                 Traceback (most recent call last)",
      "\u001b[1;32mpandas\\_libs\\hashtable_class_helper.pxi\u001b[0m in \u001b[0;36mpandas._libs.hashtable.PyObjectHashTable.map_locations\u001b[1;34m()\u001b[0m\n",
      "\u001b[1;31mTypeError\u001b[0m: unhashable type: 'list'"
     ]
    },
    {
     "name": "stderr",
     "output_type": "stream",
     "text": [
      "Exception ignored in: 'pandas._libs.index.IndexEngine._call_map_locations'\n",
      "Traceback (most recent call last):\n",
      "  File \"pandas\\_libs\\hashtable_class_helper.pxi\", line 1709, in pandas._libs.hashtable.PyObjectHashTable.map_locations\n",
      "TypeError: unhashable type: 'list'\n"
     ]
    },
    {
     "data": {
      "text/plain": [
       "[\\nEuro 6\\n]          10139\n",
       "NaN                    3021\n",
       "[\\nEuro 6d-TEMP\\n]     1845\n",
       "[[], [], []]            607\n",
       "[\\nEuro 6c\\n]           127\n",
       "[\\nEuro 5\\n]             78\n",
       "[\\nEuro 6d\\n]            62\n",
       "[\\nEuro 4\\n]             40\n",
       "Name: Emission Class, dtype: int64"
      ]
     },
     "execution_count": 236,
     "metadata": {},
     "output_type": "execute_result"
    }
   ],
   "source": [
    "cars[\"Emission Class\"].value_counts(dropna = False)"
   ]
  },
  {
   "cell_type": "code",
   "execution_count": 237,
   "metadata": {},
   "outputs": [],
   "source": [
    "def unique_values(item):\n",
    "    \n",
    "    if type(item) == list:\n",
    "        return str(item)\n",
    "        \n",
    "    else:\n",
    "        return item"
   ]
  },
  {
   "cell_type": "code",
   "execution_count": 238,
   "metadata": {},
   "outputs": [
    {
     "data": {
      "text/plain": [
       "Euro 6          10139\n",
       "Euro 6d-TEMP     1845\n",
       "Euro 6c           127\n",
       "Euro 5             78\n",
       "Euro 6d            62\n",
       "Euro 4             40\n",
       "dtype: int64"
      ]
     },
     "execution_count": 238,
     "metadata": {},
     "output_type": "execute_result"
    }
   ],
   "source": [
    "cars[\"Emission Class\"].apply(unique_values).replace(\"[[], [], []]\", np.nan).str.extract(\".{4}(.*).{4}\").value_counts()\n",
    "# Numeric data that will be useful for us was extracted"
   ]
  },
  {
   "cell_type": "code",
   "execution_count": 239,
   "metadata": {},
   "outputs": [],
   "source": [
    "cars[\"Emission Class\"] = cars[\"Emission Class\"].apply(unique_values).replace(\"[[], [], []]\", np.nan).str.extract(\".{4}(.*).{4}\")"
   ]
  },
  {
   "cell_type": "code",
   "execution_count": 240,
   "metadata": {},
   "outputs": [
    {
     "data": {
      "text/plain": [
       "Euro 6          10139\n",
       "NaN              3628\n",
       "Euro 6d-TEMP     1845\n",
       "Euro 6c           127\n",
       "Euro 5             78\n",
       "Euro 6d            62\n",
       "Euro 4             40\n",
       "Name: Emission Class, dtype: int64"
      ]
     },
     "execution_count": 240,
     "metadata": {},
     "output_type": "execute_result"
    }
   ],
   "source": [
    "cars[\"Emission Class\"].value_counts(dropna = False)"
   ]
  },
  {
   "cell_type": "code",
   "execution_count": 241,
   "metadata": {},
   "outputs": [],
   "source": [
    "def fill_most(df, model, col):\n",
    "    \n",
    "    x = df[col][df[\"make_model\"] == model].mode()\n",
    "    df[col][df[\"make_model\"] == model] = df[col][df[\"make_model\"] == model].fillna(method = \"ffill\")\n",
    "    df[col][df[\"make_model\"] == model] = df[col][df[\"make_model\"] == model].fillna(x[0])\n",
    "    return df[col][df[\"make_model\"] == model]"
   ]
  },
  {
   "cell_type": "code",
   "execution_count": 242,
   "metadata": {},
   "outputs": [],
   "source": [
    "for i in cars[\"make_model\"].unique():\n",
    "    fill_most(cars, i, \"Emission Class\")"
   ]
  },
  {
   "cell_type": "code",
   "execution_count": 243,
   "metadata": {},
   "outputs": [
    {
     "data": {
      "text/plain": [
       "Euro 6          12975\n",
       "Euro 6d-TEMP     2547\n",
       "Euro 6c           171\n",
       "Euro 5             96\n",
       "Euro 6d            87\n",
       "Euro 4             43\n",
       "Name: Emission Class, dtype: int64"
      ]
     },
     "execution_count": 243,
     "metadata": {},
     "output_type": "execute_result"
    }
   ],
   "source": [
    "cars[\"Emission Class\"].value_counts(dropna = False)"
   ]
  },
  {
   "cell_type": "code",
   "execution_count": 244,
   "metadata": {},
   "outputs": [
    {
     "data": {
      "text/html": [
       "<div>\n",
       "<style scoped>\n",
       "    .dataframe tbody tr th:only-of-type {\n",
       "        vertical-align: middle;\n",
       "    }\n",
       "\n",
       "    .dataframe tbody tr th {\n",
       "        vertical-align: top;\n",
       "    }\n",
       "\n",
       "    .dataframe thead th {\n",
       "        text-align: right;\n",
       "    }\n",
       "</style>\n",
       "<table border=\"1\" class=\"dataframe\">\n",
       "  <thead>\n",
       "    <tr style=\"text-align: right;\">\n",
       "      <th></th>\n",
       "      <th>Weight</th>\n",
       "      <th>Drive chain</th>\n",
       "      <th>CO2 Emission</th>\n",
       "      <th>Emission Class</th>\n",
       "      <th>\\nComfort &amp; Convenience\\n</th>\n",
       "      <th>\\nEntertainment &amp; Media\\n</th>\n",
       "      <th>\\nExtras\\n</th>\n",
       "      <th>\\nSafety &amp; Security\\n</th>\n",
       "      <th>Gears</th>\n",
       "      <th>car_type</th>\n",
       "      <th>Fuel2</th>\n",
       "      <th>upholstery_type</th>\n",
       "      <th>upholstery_color</th>\n",
       "      <th>comb</th>\n",
       "      <th>city</th>\n",
       "      <th>country</th>\n",
       "    </tr>\n",
       "  </thead>\n",
       "  <tbody>\n",
       "    <tr>\n",
       "      <th>0</th>\n",
       "      <td>1220</td>\n",
       "      <td>front</td>\n",
       "      <td>99</td>\n",
       "      <td>Euro 6</td>\n",
       "      <td>[Air conditioning, Armrest, Automatic climate ...</td>\n",
       "      <td>[Bluetooth, Hands-free equipment, On-board com...</td>\n",
       "      <td>[Alloy wheels, Catalytic Converter, Voice Cont...</td>\n",
       "      <td>[ABS, Central door lock, Daytime running light...</td>\n",
       "      <td>NaN</td>\n",
       "      <td>Used</td>\n",
       "      <td>diesel</td>\n",
       "      <td>Cloth</td>\n",
       "      <td>Black</td>\n",
       "      <td>3.8</td>\n",
       "      <td>4.3</td>\n",
       "      <td>3.5</td>\n",
       "    </tr>\n",
       "  </tbody>\n",
       "</table>\n",
       "</div>"
      ],
      "text/plain": [
       "   Weight Drive chain  CO2 Emission Emission Class  \\\n",
       "0    1220       front            99         Euro 6   \n",
       "\n",
       "                           \\nComfort & Convenience\\n  \\\n",
       "0  [Air conditioning, Armrest, Automatic climate ...   \n",
       "\n",
       "                           \\nEntertainment & Media\\n  \\\n",
       "0  [Bluetooth, Hands-free equipment, On-board com...   \n",
       "\n",
       "                                          \\nExtras\\n  \\\n",
       "0  [Alloy wheels, Catalytic Converter, Voice Cont...   \n",
       "\n",
       "                               \\nSafety & Security\\n Gears car_type   Fuel2  \\\n",
       "0  [ABS, Central door lock, Daytime running light...   NaN     Used  diesel   \n",
       "\n",
       "  upholstery_type upholstery_color  comb  city  country  \n",
       "0           Cloth            Black   3.8   4.3      3.5  "
      ]
     },
     "execution_count": 244,
     "metadata": {},
     "output_type": "execute_result"
    }
   ],
   "source": [
    "cars.loc[:, \"Weight\":].head(1)"
   ]
  },
  {
   "cell_type": "code",
   "execution_count": 245,
   "metadata": {},
   "outputs": [
    {
     "ename": "TypeError",
     "evalue": "unhashable type: 'list'",
     "output_type": "error",
     "traceback": [
      "\u001b[1;31m---------------------------------------------------------------------------\u001b[0m",
      "\u001b[1;31mTypeError\u001b[0m                                 Traceback (most recent call last)",
      "\u001b[1;32mpandas\\_libs\\hashtable_class_helper.pxi\u001b[0m in \u001b[0;36mpandas._libs.hashtable.PyObjectHashTable.map_locations\u001b[1;34m()\u001b[0m\n",
      "\u001b[1;31mTypeError\u001b[0m: unhashable type: 'list'"
     ]
    },
    {
     "name": "stderr",
     "output_type": "stream",
     "text": [
      "Exception ignored in: 'pandas._libs.index.IndexEngine._call_map_locations'\n",
      "Traceback (most recent call last):\n",
      "  File \"pandas\\_libs\\hashtable_class_helper.pxi\", line 1709, in pandas._libs.hashtable.PyObjectHashTable.map_locations\n",
      "TypeError: unhashable type: 'list'\n"
     ]
    },
    {
     "data": {
      "text/plain": [
       "NaN                                                                                                                                                                                                                                                                                                                                                                     920\n",
       "[Air conditioning, Electrical side mirrors, Hill Holder, Power windows]                                                                                                                                                                                                                                                                                                 216\n",
       "[Air conditioning, Electrical side mirrors, Power windows]                                                                                                                                                                                                                                                                                                              134\n",
       "[Air conditioning, Power windows]                                                                                                                                                                                                                                                                                                                                       130\n",
       "[Air conditioning, Armrest, Automatic climate control, Cruise control, Electrical side mirrors, Leather steering wheel, Light sensor, Lumbar support, Multi-function steering wheel, Navigation system, Park Distance Control, Parking assist system sensors front, Parking assist system sensors rear, Power windows, Rain sensor, Seat heating, Start-stop system]    105\n",
       "                                                                                                                                                                                                                                                                                                                                                                       ... \n",
       "[Air conditioning, Armrest, Automatic climate control, Cruise control, Leather steering wheel, Lumbar support, Multi-function steering wheel, Navigation system, Park Distance Control, Parking assist system sensors front, Parking assist system sensors rear, Power windows, Rain sensor]                                                                              1\n",
       "[Air conditioning, Armrest, Automatic climate control, Electrical side mirrors, Hill Holder, Keyless central door lock, Leather steering wheel, Light sensor, Park Distance Control, Parking assist system sensors rear, Power windows, Rain sensor]                                                                                                                      1\n",
       "[Air conditioning, Automatic climate control, Cruise control, Electrical side mirrors, Leather steering wheel, Light sensor, Multi-function steering wheel, Navigation system, Park Distance Control, Parking assist system sensors rear, Power windows, Rain sensor, Start-stop system]                                                                                  1\n",
       "[Air conditioning, Armrest, Cruise control, Electrical side mirrors, Leather steering wheel, Light sensor, Multi-function steering wheel, Park Distance Control, Parking assist system camera, Parking assist system sensors front, Parking assist system sensors rear, Power windows, Rain sensor, Seat heating, Start-stop system]                                      1\n",
       "[Air conditioning, Armrest, Automatic climate control, Auxiliary heating, Electrical side mirrors, Leather steering wheel, Light sensor, Multi-function steering wheel, Navigation system, Park Distance Control, Parking assist system sensors front, Parking assist system sensors rear, Power windows, Seat heating]                                                   1\n",
       "Name: \\nComfort & Convenience\\n, Length: 6199, dtype: int64"
      ]
     },
     "execution_count": 245,
     "metadata": {},
     "output_type": "execute_result"
    }
   ],
   "source": [
    "cars[\"\\nComfort & Convenience\\n\"].value_counts(dropna = False)"
   ]
  },
  {
   "cell_type": "code",
   "execution_count": 246,
   "metadata": {},
   "outputs": [],
   "source": [
    "def unique_values(item):\n",
    "    \n",
    "    if type(item) == list:\n",
    "        return \",\".join(item)\n",
    "        \n",
    "    else:\n",
    "        return item\n"
   ]
  },
  {
   "cell_type": "code",
   "execution_count": 247,
   "metadata": {
    "scrolled": true
   },
   "outputs": [
    {
     "data": {
      "text/plain": [
       "0        Air conditioning,Armrest,Automatic climate con...\n",
       "1        Air conditioning,Automatic climate control,Hil...\n",
       "2        Air conditioning,Cruise control,Electrical sid...\n",
       "3        Air suspension,Armrest,Auxiliary heating,Elect...\n",
       "4        Air conditioning,Armrest,Automatic climate con...\n",
       "                               ...                        \n",
       "15914    Air conditioning,Automatic climate control,Cru...\n",
       "15915    Air conditioning,Automatic climate control,Cru...\n",
       "15916    Air conditioning,Armrest,Automatic climate con...\n",
       "15917    Air conditioning,Automatic climate control,Cru...\n",
       "15918    Air conditioning,Automatic climate control,Cru...\n",
       "Name: \\nComfort & Convenience\\n, Length: 15919, dtype: object"
      ]
     },
     "execution_count": 247,
     "metadata": {},
     "output_type": "execute_result"
    }
   ],
   "source": [
    "cars[\"\\nComfort & Convenience\\n\"].apply(unique_values) # data excracted from list"
   ]
  },
  {
   "cell_type": "code",
   "execution_count": 248,
   "metadata": {},
   "outputs": [],
   "source": [
    "cars[\"\\nComfort & Convenience\\n\"] = cars[\"\\nComfort & Convenience\\n\"].apply(unique_values)"
   ]
  },
  {
   "cell_type": "code",
   "execution_count": 249,
   "metadata": {},
   "outputs": [
    {
     "data": {
      "text/plain": [
       "'Air conditioning,Armrest,Automatic climate control,Cruise control,Electrical side mirrors,Hill Holder,Leather steering wheel,Light sensor,Multi-function steering wheel,Navigation system,Park Distance Control,Parking assist system sensors rear,Power windows,Rain sensor,Seat heating,Start-stop system'"
      ]
     },
     "execution_count": 249,
     "metadata": {},
     "output_type": "execute_result"
    }
   ],
   "source": [
    "cars[\"\\nComfort & Convenience\\n\"][0]"
   ]
  },
  {
   "cell_type": "code",
   "execution_count": 250,
   "metadata": {},
   "outputs": [],
   "source": [
    "def fill_most(df, model, col):\n",
    "    \n",
    "    x = df[col][df[\"make_model\"] == model].mode()\n",
    "    df[col][df[\"make_model\"] == model] = df[col][df[\"make_model\"] == model].fillna(method = \"ffill\")\n",
    "    df[col][df[\"make_model\"] == model] = df[col][df[\"make_model\"] == model].fillna(x[0])\n",
    "    return df[col][df[\"make_model\"] == model]"
   ]
  },
  {
   "cell_type": "code",
   "execution_count": 251,
   "metadata": {},
   "outputs": [],
   "source": [
    "for i in cars[\"make_model\"].unique():\n",
    "    fill_most(cars, i, \"\\nComfort & Convenience\\n\")"
   ]
  },
  {
   "cell_type": "code",
   "execution_count": 252,
   "metadata": {},
   "outputs": [
    {
     "data": {
      "text/plain": [
       "Air conditioning,Electrical side mirrors,Hill Holder,Power windows                                                                                                                                                                                                                                                                                                                                                                                                                                                                                                                                                238\n",
       "Air conditioning,Electrical side mirrors,Power windows                                                                                                                                                                                                                                                                                                                                                                                                                                                                                                                                                            163\n",
       "Air conditioning,Power windows                                                                                                                                                                                                                                                                                                                                                                                                                                                                                                                                                                                    144\n",
       "Air conditioning,Armrest,Automatic climate control,Cruise control,Electrical side mirrors,Leather steering wheel,Light sensor,Lumbar support,Multi-function steering wheel,Navigation system,Park Distance Control,Parking assist system sensors front,Parking assist system sensors rear,Power windows,Rain sensor,Seat heating,Start-stop system                                                                                                                                                                                                                                                                107\n",
       "Air conditioning,Armrest,Automatic climate control,Cruise control,Electrical side mirrors,Hill Holder,Leather steering wheel,Light sensor,Multi-function steering wheel,Navigation system,Park Distance Control,Parking assist system sensors rear,Power windows,Rain sensor,Seat heating,Start-stop system                                                                                                                                                                                                                                                                                                        93\n",
       "                                                                                                                                                                                                                                                                                                                                                                                                                                                                                                                                                                                                                 ... \n",
       "Air conditioning,Automatic climate control,Cruise control,Electrically adjustable seats,Electrically heated windshield,Electrical side mirrors,Heads-up display,Heated steering wheel,Hill Holder,Keyless central door lock,Leather steering wheel,Light sensor,Massage seats,Multi-function steering wheel,Navigation system,Park Distance Control,Parking assist system sensors front,Parking assist system sensors rear,Power windows,Rain sensor,Seat heating,Seat ventilation,Start-stop system                                                                                                                1\n",
       "Air conditioning,Armrest,Automatic climate control,Cruise control,Electrically adjustable seats,Electrically heated windshield,Electrical side mirrors,Electric tailgate,Heated steering wheel,Keyless central door lock,Leather steering wheel,Light sensor,Lumbar support,Massage seats,Multi-function steering wheel,Navigation system,Panorama roof,Park Distance Control,Parking assist system camera,Parking assist system self-steering,Parking assist system sensors front,Parking assist system sensors rear,Power windows,Rain sensor,Seat heating,Split rear seats,Start-stop system,Tinted windows      1\n",
       "Air conditioning,Cruise control,Electrical side mirrors,Hill Holder,Keyless central door lock,Leather steering wheel,Light sensor,Multi-function steering wheel,Park Distance Control,Parking assist system sensors front,Parking assist system sensors rear,Power windows,Rain sensor,Seat heating,Start-stop system                                                                                                                                                                                                                                                                                               1\n",
       "Air conditioning,Armrest,Automatic climate control,Cruise control,Leather steering wheel,Light sensor,Multi-function steering wheel,Navigation system,Park Distance Control,Parking assist system camera,Parking assist system sensors front,Parking assist system sensors rear,Power windows,Sunroof                                                                                                                                                                                                                                                                                                               1\n",
       "Air conditioning,Armrest,Automatic climate control,Cruise control,Electrical side mirrors,Hill Holder,Light sensor,Navigation system,Park Distance Control,Parking assist system sensors front,Parking assist system sensors rear,Power windows,Rain sensor,Seat heating,Start-stop system                                                                                                                                                                                                                                                                                                                          1\n",
       "Name: \\nComfort & Convenience\\n, Length: 6198, dtype: int64"
      ]
     },
     "execution_count": 252,
     "metadata": {},
     "output_type": "execute_result"
    }
   ],
   "source": [
    "cars[\"\\nComfort & Convenience\\n\"].value_counts(dropna = False)\n"
   ]
  },
  {
   "cell_type": "code",
   "execution_count": 253,
   "metadata": {},
   "outputs": [
    {
     "ename": "TypeError",
     "evalue": "unhashable type: 'list'",
     "output_type": "error",
     "traceback": [
      "\u001b[1;31m---------------------------------------------------------------------------\u001b[0m",
      "\u001b[1;31mTypeError\u001b[0m                                 Traceback (most recent call last)",
      "\u001b[1;32mpandas\\_libs\\hashtable_class_helper.pxi\u001b[0m in \u001b[0;36mpandas._libs.hashtable.PyObjectHashTable.map_locations\u001b[1;34m()\u001b[0m\n",
      "\u001b[1;31mTypeError\u001b[0m: unhashable type: 'list'"
     ]
    },
    {
     "name": "stderr",
     "output_type": "stream",
     "text": [
      "Exception ignored in: 'pandas._libs.index.IndexEngine._call_map_locations'\n",
      "Traceback (most recent call last):\n",
      "  File \"pandas\\_libs\\hashtable_class_helper.pxi\", line 1709, in pandas._libs.hashtable.PyObjectHashTable.map_locations\n",
      "TypeError: unhashable type: 'list'\n"
     ]
    },
    {
     "data": {
      "text/plain": [
       "NaN                                                                                      1374\n",
       "[Bluetooth, Hands-free equipment, On-board computer, Radio, USB]                         1282\n",
       "[Bluetooth, Hands-free equipment, MP3, On-board computer, Radio, USB]                     982\n",
       "[Bluetooth, CD player, Hands-free equipment, MP3, On-board computer, Radio, USB]          783\n",
       "[On-board computer, Radio]                                                                487\n",
       "                                                                                         ... \n",
       "[Bluetooth, MP3, On-board computer, Sound system, USB]                                      1\n",
       "[CD player, Hands-free equipment, On-board computer, Radio, Sound system, Television]       1\n",
       "[Bluetooth, Digital radio, On-board computer, Sound system, USB]                            1\n",
       "[CD player, Hands-free equipment, MP3, Radio, USB]                                          1\n",
       "[CD player, Digital radio, Radio]                                                           1\n",
       "Name: \\nEntertainment & Media\\n, Length: 347, dtype: int64"
      ]
     },
     "execution_count": 253,
     "metadata": {},
     "output_type": "execute_result"
    }
   ],
   "source": [
    "cars[\"\\nEntertainment & Media\\n\"].value_counts(dropna = False)"
   ]
  },
  {
   "cell_type": "code",
   "execution_count": 254,
   "metadata": {},
   "outputs": [],
   "source": [
    "def unique_values(item):\n",
    "    \n",
    "    if type(item) == list:\n",
    "        return \",\".join(item)\n",
    "        \n",
    "    else:\n",
    "        return item"
   ]
  },
  {
   "cell_type": "code",
   "execution_count": 255,
   "metadata": {},
   "outputs": [
    {
     "data": {
      "text/plain": [
       "0        Bluetooth,Hands-free equipment,On-board comput...\n",
       "1        Bluetooth,Hands-free equipment,On-board comput...\n",
       "2                                    MP3,On-board computer\n",
       "3        Bluetooth,CD player,Hands-free equipment,MP3,O...\n",
       "4        Bluetooth,CD player,Hands-free equipment,MP3,O...\n",
       "                               ...                        \n",
       "15914    Bluetooth,Digital radio,Hands-free equipment,O...\n",
       "15915    Bluetooth,Digital radio,Hands-free equipment,R...\n",
       "15916    Bluetooth,Hands-free equipment,On-board comput...\n",
       "15917                    Bluetooth,Digital radio,Radio,USB\n",
       "15918                                                  USB\n",
       "Name: \\nEntertainment & Media\\n, Length: 15919, dtype: object"
      ]
     },
     "execution_count": 255,
     "metadata": {},
     "output_type": "execute_result"
    }
   ],
   "source": [
    "cars[\"\\nEntertainment & Media\\n\"].apply(unique_values) # data withdrawn from list"
   ]
  },
  {
   "cell_type": "code",
   "execution_count": 256,
   "metadata": {},
   "outputs": [],
   "source": [
    "cars[\"\\nEntertainment & Media\\n\"] = cars[\"\\nEntertainment & Media\\n\"].apply(unique_values)"
   ]
  },
  {
   "cell_type": "code",
   "execution_count": 257,
   "metadata": {},
   "outputs": [],
   "source": [
    "def fill_most(df, model, col):\n",
    "    \n",
    "    x = df[col][df[\"make_model\"] == model].mode()\n",
    "    df[col][df[\"make_model\"] == model] = df[col][df[\"make_model\"] == model].fillna(method = \"ffill\")\n",
    "    df[col][df[\"make_model\"] == model] = df[col][df[\"make_model\"] == model].fillna(x[0])\n",
    "    return df[col][df[\"make_model\"] == model]"
   ]
  },
  {
   "cell_type": "code",
   "execution_count": 258,
   "metadata": {},
   "outputs": [],
   "source": [
    "for i in cars[\"make_model\"].unique():\n",
    "    fill_most(cars, i, \"\\nEntertainment & Media\\n\")"
   ]
  },
  {
   "cell_type": "code",
   "execution_count": 259,
   "metadata": {},
   "outputs": [
    {
     "data": {
      "text/plain": [
       "Bluetooth,Hands-free equipment,On-board computer,Radio,USB                  1411\n",
       "Bluetooth,Hands-free equipment,MP3,On-board computer,Radio,USB              1054\n",
       "Bluetooth,CD player,Hands-free equipment,MP3,On-board computer,Radio,USB     832\n",
       "On-board computer                                                            548\n",
       "Radio                                                                        530\n",
       "                                                                            ... \n",
       "Bluetooth,Digital radio,MP3,Sound system,USB                                   1\n",
       "CD player,Hands-free equipment,On-board computer,Sound system                  1\n",
       "Bluetooth,Sound system,USB                                                     1\n",
       "CD player,Hands-free equipment,MP3,On-board computer                           1\n",
       "Hands-free equipment,MP3,On-board computer,Sound system,USB                    1\n",
       "Name: \\nEntertainment & Media\\n, Length: 346, dtype: int64"
      ]
     },
     "execution_count": 259,
     "metadata": {},
     "output_type": "execute_result"
    }
   ],
   "source": [
    "cars[\"\\nEntertainment & Media\\n\"].value_counts(dropna = False)"
   ]
  },
  {
   "cell_type": "code",
   "execution_count": 260,
   "metadata": {},
   "outputs": [
    {
     "ename": "TypeError",
     "evalue": "unhashable type: 'list'",
     "output_type": "error",
     "traceback": [
      "\u001b[1;31m---------------------------------------------------------------------------\u001b[0m",
      "\u001b[1;31mTypeError\u001b[0m                                 Traceback (most recent call last)",
      "\u001b[1;32mpandas\\_libs\\hashtable_class_helper.pxi\u001b[0m in \u001b[0;36mpandas._libs.hashtable.PyObjectHashTable.map_locations\u001b[1;34m()\u001b[0m\n",
      "\u001b[1;31mTypeError\u001b[0m: unhashable type: 'list'"
     ]
    },
    {
     "name": "stderr",
     "output_type": "stream",
     "text": [
      "Exception ignored in: 'pandas._libs.index.IndexEngine._call_map_locations'\n",
      "Traceback (most recent call last):\n",
      "  File \"pandas\\_libs\\hashtable_class_helper.pxi\", line 1709, in pandas._libs.hashtable.PyObjectHashTable.map_locations\n",
      "TypeError: unhashable type: 'list'\n"
     ]
    },
    {
     "data": {
      "text/plain": [
       "[Alloy wheels]                                                                                         3245\n",
       "NaN                                                                                                    2962\n",
       "[Alloy wheels, Touch screen]                                                                            697\n",
       "[Alloy wheels, Voice Control]                                                                           577\n",
       "[Alloy wheels, Touch screen, Voice Control]                                                             541\n",
       "                                                                                                       ... \n",
       "[Alloy wheels, Sport suspension, Touch screen, Trailer hitch, Voice Control]                              1\n",
       "[Alloy wheels, Catalytic Converter, Handicapped enabled, Touch screen, Voice Control, Winter tyres]       1\n",
       "[Ski bag, Sport suspension]                                                                               1\n",
       "[Alloy wheels, Sport package, Sport seats, Sport suspension, Tuned car]                                   1\n",
       "[Sport seats, Sport suspension, Voice Control]                                                            1\n",
       "Name: \\nExtras\\n, Length: 660, dtype: int64"
      ]
     },
     "execution_count": 260,
     "metadata": {},
     "output_type": "execute_result"
    }
   ],
   "source": [
    "cars[\"\\nExtras\\n\"].value_counts(dropna = False)"
   ]
  },
  {
   "cell_type": "code",
   "execution_count": 261,
   "metadata": {},
   "outputs": [],
   "source": [
    "def unique_values(item):\n",
    "    \n",
    "    if type(item) == list:\n",
    "        return \",\".join(item)\n",
    "        \n",
    "    else:\n",
    "        return item"
   ]
  },
  {
   "cell_type": "code",
   "execution_count": 262,
   "metadata": {},
   "outputs": [
    {
     "data": {
      "text/plain": [
       "0           Alloy wheels,Catalytic Converter,Voice Control\n",
       "1        Alloy wheels,Sport seats,Sport suspension,Voic...\n",
       "2                               Alloy wheels,Voice Control\n",
       "3                   Alloy wheels,Sport seats,Voice Control\n",
       "4        Alloy wheels,Sport package,Sport suspension,Vo...\n",
       "                               ...                        \n",
       "15914                            Alloy wheels,Touch screen\n",
       "15915              Alloy wheels,Touch screen,Voice Control\n",
       "15916                                         Alloy wheels\n",
       "15917                            Alloy wheels,Touch screen\n",
       "15918                            Alloy wheels,Touch screen\n",
       "Name: \\nExtras\\n, Length: 15919, dtype: object"
      ]
     },
     "execution_count": 262,
     "metadata": {},
     "output_type": "execute_result"
    }
   ],
   "source": [
    "cars[\"\\nExtras\\n\"].apply(unique_values) # data extracted from list"
   ]
  },
  {
   "cell_type": "code",
   "execution_count": 263,
   "metadata": {},
   "outputs": [],
   "source": [
    "cars[\"\\nExtras\\n\"] = cars[\"\\nExtras\\n\"].apply(unique_values)"
   ]
  },
  {
   "cell_type": "code",
   "execution_count": 264,
   "metadata": {},
   "outputs": [],
   "source": [
    "def fill_most(df, model, col):\n",
    "    \n",
    "    x = df[col][df[\"make_model\"] == model].mode()\n",
    "    df[col][df[\"make_model\"] == model] = df[col][df[\"make_model\"] == model].fillna(method = \"ffill\")\n",
    "    df[col][df[\"make_model\"] == model] = df[col][df[\"make_model\"] == model].fillna(x[0])\n",
    "    return df[col][df[\"make_model\"] == model]"
   ]
  },
  {
   "cell_type": "code",
   "execution_count": 265,
   "metadata": {},
   "outputs": [],
   "source": [
    "for i in cars[\"make_model\"].unique():\n",
    "    fill_most(cars, i, \"\\nExtras\\n\")"
   ]
  },
  {
   "cell_type": "code",
   "execution_count": 266,
   "metadata": {},
   "outputs": [
    {
     "data": {
      "text/plain": [
       "Alloy wheels                                                                         3877\n",
       "Alloy wheels,Touch screen                                                             839\n",
       "Alloy wheels,Voice Control                                                            709\n",
       "Alloy wheels,Touch screen,Voice Control                                               637\n",
       "Roof rack                                                                             566\n",
       "                                                                                     ... \n",
       "Alloy wheels,Catalytic Converter,Sport package,Trailer hitch                            1\n",
       "Alloy wheels,Sport seats,Sport suspension,Touch screen,Voice Control,Winter tyres       1\n",
       "Alloy wheels,Catalytic Converter,Shift paddles,Ski bag,Touch screen                     1\n",
       "Alloy wheels,Cab or rented Car,Sport seats,Touch screen                                 1\n",
       "Alloy wheels,Shift paddles,Sport seats,Sport suspension,Trailer hitch                   1\n",
       "Name: \\nExtras\\n, Length: 659, dtype: int64"
      ]
     },
     "execution_count": 266,
     "metadata": {},
     "output_type": "execute_result"
    }
   ],
   "source": [
    "cars[\"\\nExtras\\n\"].value_counts(dropna = False)"
   ]
  },
  {
   "cell_type": "code",
   "execution_count": 267,
   "metadata": {},
   "outputs": [
    {
     "ename": "TypeError",
     "evalue": "unhashable type: 'list'",
     "output_type": "error",
     "traceback": [
      "\u001b[1;31m---------------------------------------------------------------------------\u001b[0m",
      "\u001b[1;31mTypeError\u001b[0m                                 Traceback (most recent call last)",
      "\u001b[1;32mpandas\\_libs\\hashtable_class_helper.pxi\u001b[0m in \u001b[0;36mpandas._libs.hashtable.PyObjectHashTable.map_locations\u001b[1;34m()\u001b[0m\n",
      "\u001b[1;31mTypeError\u001b[0m: unhashable type: 'list'"
     ]
    },
    {
     "name": "stderr",
     "output_type": "stream",
     "text": [
      "Exception ignored in: 'pandas._libs.index.IndexEngine._call_map_locations'\n",
      "Traceback (most recent call last):\n",
      "  File \"pandas\\_libs\\hashtable_class_helper.pxi\", line 1709, in pandas._libs.hashtable.PyObjectHashTable.map_locations\n",
      "TypeError: unhashable type: 'list'\n"
     ]
    },
    {
     "data": {
      "text/plain": [
       "NaN                                                                                                                                                                                                                                                                                                                                                                                        982\n",
       "[ABS, Central door lock, Daytime running lights, Driver-side airbag, Electronic stability control, Fog lights, Immobilizer, Isofix, Passenger-side airbag, Power steering, Side airbag, Tire pressure monitoring system, Traction control]                                                                                                                                                 538\n",
       "[ABS, Central door lock, Daytime running lights, Driver-side airbag, Electronic stability control, Immobilizer, Isofix, Passenger-side airbag, Power steering, Side airbag, Tire pressure monitoring system, Traction control]                                                                                                                                                             480\n",
       "[ABS, Central door lock, Daytime running lights, Driver-side airbag, Electronic stability control, Immobilizer, Isofix, Passenger-side airbag, Power steering, Side airbag, Tire pressure monitoring system, Traction control, Xenon headlights]                                                                                                                                           275\n",
       "[ABS, Central door lock, Daytime running lights, Driver-side airbag, Electronic stability control, Fog lights, Immobilizer, Isofix, LED Daytime Running Lights, Passenger-side airbag, Power steering, Side airbag, Tire pressure monitoring system, Traction control]                                                                                                                     272\n",
       "                                                                                                                                                                                                                                                                                                                                                                                          ... \n",
       "[ABS, Adaptive Cruise Control, Central door lock, Driver-side airbag, Electronic stability control, Emergency brake assistant, Isofix, Lane departure warning system, Passenger-side airbag, Side airbag, Tire pressure monitoring system, Traction control]                                                                                                                                 1\n",
       "[ABS, Adaptive headlights, Central door lock, Daytime running lights, Driver-side airbag, Electronic stability control, Emergency brake assistant, Fog lights, Immobilizer, Isofix, Lane departure warning system, LED Daytime Running Lights, LED Headlights, Passenger-side airbag, Power steering, Side airbag, Tire pressure monitoring system]                                          1\n",
       "[ABS, Alarm system, Central door lock, Driver drowsiness detection, Driver-side airbag, Electronic stability control, Isofix, LED Daytime Running Lights, Passenger-side airbag, Power steering, Side airbag, Tire pressure monitoring system, Traction control, Xenon headlights]                                                                                                           1\n",
       "[ABS, Central door lock, Central door lock with remote control, Daytime running lights, Driver-side airbag, Electronic stability control, Emergency brake assistant, Emergency system, Fog lights, Head airbag, Immobilizer, Isofix, Lane departure warning system, Passenger-side airbag, Power steering, Rear airbag, Side airbag, Tire pressure monitoring system, Traction control]      1\n",
       "[ABS, Central door lock with remote control, Daytime running lights, Driver drowsiness detection, Driver-side airbag, Electronic stability control, Emergency brake assistant, Emergency system, Head airbag, Immobilizer, Isofix, LED Daytime Running Lights, Passenger-side airbag, Power steering, Side airbag, Tire pressure monitoring system, Traction control]                        1\n",
       "Name: \\nSafety & Security\\n, Length: 4444, dtype: int64"
      ]
     },
     "execution_count": 267,
     "metadata": {},
     "output_type": "execute_result"
    }
   ],
   "source": [
    "cars[\"\\nSafety & Security\\n\"].value_counts(dropna = False)"
   ]
  },
  {
   "cell_type": "code",
   "execution_count": 268,
   "metadata": {},
   "outputs": [],
   "source": [
    "def unique_values(item):\n",
    "    \n",
    "    if type(item) == list:\n",
    "        return \",\".join(item)\n",
    "        \n",
    "    else:\n",
    "        return item"
   ]
  },
  {
   "cell_type": "code",
   "execution_count": 269,
   "metadata": {},
   "outputs": [
    {
     "data": {
      "text/plain": [
       "0        ABS,Central door lock,Daytime running lights,D...\n",
       "1        ABS,Central door lock,Central door lock with r...\n",
       "2        ABS,Central door lock,Daytime running lights,D...\n",
       "3        ABS,Alarm system,Central door lock with remote...\n",
       "4        ABS,Central door lock,Driver-side airbag,Elect...\n",
       "                               ...                        \n",
       "15914    ABS,Central door lock,Central door lock with r...\n",
       "15915    ABS,Adaptive Cruise Control,Blind spot monitor...\n",
       "15916    ABS,Adaptive Cruise Control,Blind spot monitor...\n",
       "15917    ABS,Blind spot monitor,Driver-side airbag,Elec...\n",
       "15918    ABS,Blind spot monitor,Daytime running lights,...\n",
       "Name: \\nSafety & Security\\n, Length: 15919, dtype: object"
      ]
     },
     "execution_count": 269,
     "metadata": {},
     "output_type": "execute_result"
    }
   ],
   "source": [
    "cars[\"\\nSafety & Security\\n\"].apply(unique_values) # data extracted from list"
   ]
  },
  {
   "cell_type": "code",
   "execution_count": 270,
   "metadata": {},
   "outputs": [],
   "source": [
    "cars[\"\\nSafety & Security\\n\"] = cars[\"\\nSafety & Security\\n\"].apply(unique_values)"
   ]
  },
  {
   "cell_type": "code",
   "execution_count": 271,
   "metadata": {},
   "outputs": [],
   "source": [
    "def fill_most(df, model, col):\n",
    "    \n",
    "    x = df[col][df[\"make_model\"] == model].mode()\n",
    "    df[col][df[\"make_model\"] == model] = df[col][df[\"make_model\"] == model].fillna(method = \"ffill\")\n",
    "    df[col][df[\"make_model\"] == model] = df[col][df[\"make_model\"] == model].fillna(x[0])\n",
    "    return df[col][df[\"make_model\"] == model]"
   ]
  },
  {
   "cell_type": "code",
   "execution_count": 272,
   "metadata": {},
   "outputs": [],
   "source": [
    "for i in cars[\"make_model\"].unique():\n",
    "    fill_most(cars, i, \"\\nSafety & Security\\n\")"
   ]
  },
  {
   "cell_type": "code",
   "execution_count": 273,
   "metadata": {},
   "outputs": [
    {
     "data": {
      "text/plain": [
       "ABS,Central door lock,Daytime running lights,Driver-side airbag,Electronic stability control,Fog lights,Immobilizer,Isofix,Passenger-side airbag,Power steering,Side airbag,Tire pressure monitoring system,Traction control                                                      563\n",
       "ABS,Central door lock,Daytime running lights,Driver-side airbag,Electronic stability control,Immobilizer,Isofix,Passenger-side airbag,Power steering,Side airbag,Tire pressure monitoring system,Traction control                                                                 510\n",
       "ABS,Central door lock,Daytime running lights,Driver-side airbag,Electronic stability control,Fog lights,Immobilizer,Isofix,LED Daytime Running Lights,Passenger-side airbag,Power steering,Side airbag,Tire pressure monitoring system,Traction control                           290\n",
       "ABS,Central door lock,Daytime running lights,Driver-side airbag,Electronic stability control,Immobilizer,Isofix,Passenger-side airbag,Power steering,Side airbag,Tire pressure monitoring system,Traction control,Xenon headlights                                                280\n",
       "ABS,Central door lock,Daytime running lights,Driver-side airbag,Electronic stability control,Immobilizer,Isofix,LED Daytime Running Lights,Passenger-side airbag,Power steering,Side airbag,Tire pressure monitoring system,Traction control                                      258\n",
       "                                                                                                                                                                                                                                                                                 ... \n",
       "ABS,Adaptive headlights,Central door lock,Daytime running lights,Driver-side airbag,Electronic stability control,Fog lights,Immobilizer,Passenger-side airbag,Power steering,Side airbag,Tire pressure monitoring system,Traction control,Xenon headlights                          1\n",
       "ABS,Central door lock with remote control,Daytime running lights,Driver-side airbag,Head airbag,Power steering                                                                                                                                                                      1\n",
       "ABS,Adaptive headlights,Central door lock,Driver-side airbag,Electronic stability control,Fog lights,Passenger-side airbag,Power steering,Side airbag,Tire pressure monitoring system,Traction control                                                                              1\n",
       "Adaptive headlights,Daytime running lights,Driver-side airbag,Fog lights,Immobilizer,Lane departure warning system,LED Daytime Running Lights,LED Headlights,Passenger-side airbag,Side airbag,Tire pressure monitoring system,Traffic sign recognition                             1\n",
       "ABS,Central door lock,Daytime running lights,Driver-side airbag,Electronic stability control,Emergency system,Immobilizer,Isofix,LED Daytime Running Lights,Passenger-side airbag,Power steering,Side airbag,Tire pressure monitoring system,Traction control,Xenon headlights      1\n",
       "Name: \\nSafety & Security\\n, Length: 4443, dtype: int64"
      ]
     },
     "execution_count": 273,
     "metadata": {},
     "output_type": "execute_result"
    }
   ],
   "source": [
    "cars[\"\\nSafety & Security\\n\"].value_counts(dropna = False)"
   ]
  },
  {
   "cell_type": "code",
   "execution_count": null,
   "metadata": {},
   "outputs": [],
   "source": []
  },
  {
   "cell_type": "code",
   "execution_count": 274,
   "metadata": {},
   "outputs": [
    {
     "ename": "TypeError",
     "evalue": "unhashable type: 'list'",
     "output_type": "error",
     "traceback": [
      "\u001b[1;31m---------------------------------------------------------------------------\u001b[0m",
      "\u001b[1;31mTypeError\u001b[0m                                 Traceback (most recent call last)",
      "\u001b[1;32mpandas\\_libs\\hashtable_class_helper.pxi\u001b[0m in \u001b[0;36mpandas._libs.hashtable.PyObjectHashTable.map_locations\u001b[1;34m()\u001b[0m\n",
      "\u001b[1;31mTypeError\u001b[0m: unhashable type: 'list'"
     ]
    },
    {
     "name": "stderr",
     "output_type": "stream",
     "text": [
      "Exception ignored in: 'pandas._libs.index.IndexEngine._call_map_locations'\n",
      "Traceback (most recent call last):\n",
      "  File \"pandas\\_libs\\hashtable_class_helper.pxi\", line 1709, in pandas._libs.hashtable.PyObjectHashTable.map_locations\n",
      "TypeError: unhashable type: 'list'\n"
     ]
    },
    {
     "data": {
      "text/plain": [
       "[\\n6\\n]     5822\n",
       "NaN         4712\n",
       "[\\n5\\n]     3239\n",
       "[\\n7\\n]     1908\n",
       "[\\n8\\n]      224\n",
       "[\\n9\\n]        6\n",
       "[\\n4\\n]        2\n",
       "[\\n3\\n]        2\n",
       "[\\n1\\n]        2\n",
       "[\\n50\\n]       1\n",
       "[\\n2\\n]        1\n",
       "Name: Gears, dtype: int64"
      ]
     },
     "execution_count": 274,
     "metadata": {},
     "output_type": "execute_result"
    }
   ],
   "source": [
    "cars[\"Gears\"].value_counts(dropna = False)"
   ]
  },
  {
   "cell_type": "code",
   "execution_count": 275,
   "metadata": {},
   "outputs": [],
   "source": [
    "def unique_values(item):\n",
    "    \n",
    "    if type(item) == list:\n",
    "        return \"\".join(item).strip(\"\\n\")\n",
    "        \n",
    "    else:\n",
    "        return item"
   ]
  },
  {
   "cell_type": "code",
   "execution_count": 276,
   "metadata": {},
   "outputs": [
    {
     "data": {
      "text/plain": [
       "6      5822\n",
       "NaN    4712\n",
       "5      3239\n",
       "7      1908\n",
       "8       224\n",
       "9         6\n",
       "4         2\n",
       "3         2\n",
       "1         2\n",
       "2         1\n",
       "50        1\n",
       "Name: Gears, dtype: int64"
      ]
     },
     "execution_count": 276,
     "metadata": {},
     "output_type": "execute_result"
    }
   ],
   "source": [
    "cars[\"Gears\"].apply(unique_values).value_counts(dropna = False) # data extracted from list"
   ]
  },
  {
   "cell_type": "code",
   "execution_count": 277,
   "metadata": {},
   "outputs": [],
   "source": [
    "cars[\"Gears\"] = cars[\"Gears\"].apply(unique_values)"
   ]
  },
  {
   "cell_type": "code",
   "execution_count": 278,
   "metadata": {},
   "outputs": [
    {
     "data": {
      "text/html": [
       "<div>\n",
       "<style scoped>\n",
       "    .dataframe tbody tr th:only-of-type {\n",
       "        vertical-align: middle;\n",
       "    }\n",
       "\n",
       "    .dataframe tbody tr th {\n",
       "        vertical-align: top;\n",
       "    }\n",
       "\n",
       "    .dataframe thead th {\n",
       "        text-align: right;\n",
       "    }\n",
       "</style>\n",
       "<table border=\"1\" class=\"dataframe\">\n",
       "  <thead>\n",
       "    <tr style=\"text-align: right;\">\n",
       "      <th></th>\n",
       "      <th>Gears</th>\n",
       "      <th>Gearing Type</th>\n",
       "      <th>make_model</th>\n",
       "      <th>Cylinders</th>\n",
       "      <th>hp</th>\n",
       "    </tr>\n",
       "  </thead>\n",
       "  <tbody>\n",
       "    <tr>\n",
       "      <th>8921</th>\n",
       "      <td>1</td>\n",
       "      <td>Semi-automatic</td>\n",
       "      <td>Opel Corsa</td>\n",
       "      <td>4</td>\n",
       "      <td>66</td>\n",
       "    </tr>\n",
       "    <tr>\n",
       "      <th>14375</th>\n",
       "      <td>1</td>\n",
       "      <td>Automatic</td>\n",
       "      <td>Renault Clio</td>\n",
       "      <td>4</td>\n",
       "      <td>147</td>\n",
       "    </tr>\n",
       "  </tbody>\n",
       "</table>\n",
       "</div>"
      ],
      "text/plain": [
       "      Gears    Gearing Type    make_model  Cylinders   hp\n",
       "8921      1  Semi-automatic    Opel Corsa          4   66\n",
       "14375     1       Automatic  Renault Clio          4  147"
      ]
     },
     "execution_count": 278,
     "metadata": {},
     "output_type": "execute_result"
    }
   ],
   "source": [
    "cars.loc[cars.Gears == \"1\", [\"Gears\",\"Gearing Type\", \"make_model\", \"Cylinders\", \"hp\"]].head(50)"
   ]
  },
  {
   "cell_type": "code",
   "execution_count": 279,
   "metadata": {},
   "outputs": [],
   "source": [
    "cars.loc[[14495, 9812, 15822, 15823, 15817, 15845, 8921, 14375, 215, 1033, 10151], \"Gears\"] =\\\n",
    "[\"5\", \"5\", \"6\",\"6\", \"6\", \"6\", \"6\", \"5\", \"7\",\"7\", \"6\"] # The values thought to be entered incorrectly were corrected manually."
   ]
  },
  {
   "cell_type": "code",
   "execution_count": 280,
   "metadata": {},
   "outputs": [
    {
     "data": {
      "text/plain": [
       "14495    5\n",
       "9812     5\n",
       "15822    6\n",
       "15823    6\n",
       "15817    6\n",
       "15845    6\n",
       "8921     6\n",
       "14375    5\n",
       "215      7\n",
       "1033     7\n",
       "10151    6\n",
       "Name: Gears, dtype: object"
      ]
     },
     "execution_count": 280,
     "metadata": {},
     "output_type": "execute_result"
    }
   ],
   "source": [
    "cars.loc[[14495, 9812, 15822, 15823, 15817, 15845, 8921, 14375, 215, 1033, 10151], \"Gears\"]"
   ]
  },
  {
   "cell_type": "code",
   "execution_count": 281,
   "metadata": {},
   "outputs": [],
   "source": [
    "def fill_most(df, model, grtyp, col):\n",
    "    \n",
    "    df[col][(df[\"make_model\"] == model) & (df[\"Gearing Type\"] == grtyp)] = df[col][(df[\"make_model\"] == model)  & \\\n",
    "        (df[\"Gearing Type\"] == grtyp)].fillna(method = \"ffill\")\n",
    "    return df[col][(df[\"make_model\"] == model) & (df[\"Gearing Type\"] == grtyp)]"
   ]
  },
  {
   "cell_type": "code",
   "execution_count": 282,
   "metadata": {},
   "outputs": [],
   "source": [
    "cars.loc[cars.make_model == \"Audi A2\", \"Gears\"] = \"5\""
   ]
  },
  {
   "cell_type": "code",
   "execution_count": 283,
   "metadata": {},
   "outputs": [],
   "source": [
    "for i in cars[\"make_model\"].unique():\n",
    "    for j in cars[\"Gearing Type\"].unique():\n",
    "        fill_most(cars, i, j, \"Gears\")"
   ]
  },
  {
   "cell_type": "code",
   "execution_count": 284,
   "metadata": {},
   "outputs": [
    {
     "data": {
      "text/plain": [
       "6      8384\n",
       "5      4388\n",
       "7      2837\n",
       "8       283\n",
       "NaN      16\n",
       "9        11\n",
       "Name: Gears, dtype: int64"
      ]
     },
     "execution_count": 284,
     "metadata": {},
     "output_type": "execute_result"
    }
   ],
   "source": [
    "cars.Gears.value_counts(dropna= False)"
   ]
  },
  {
   "cell_type": "code",
   "execution_count": 285,
   "metadata": {},
   "outputs": [],
   "source": [
    "def fill_most(df, model, col):\n",
    "    x = df[col][df[\"make_model\"] == model].mode()\n",
    "    df[col][df[\"make_model\"] == model] = df[col][df[\"make_model\"] == model].fillna(x[0])\n",
    "    return df[col][df[\"make_model\"] == model]"
   ]
  },
  {
   "cell_type": "code",
   "execution_count": 286,
   "metadata": {},
   "outputs": [],
   "source": [
    "for i in cars[\"make_model\"].unique():\n",
    "    fill_most(cars, i, \"Gears\")"
   ]
  },
  {
   "cell_type": "code",
   "execution_count": 287,
   "metadata": {},
   "outputs": [
    {
     "data": {
      "text/plain": [
       "6    8398\n",
       "5    4390\n",
       "7    2837\n",
       "8     283\n",
       "9      11\n",
       "Name: Gears, dtype: int64"
      ]
     },
     "execution_count": 287,
     "metadata": {},
     "output_type": "execute_result"
    }
   ],
   "source": [
    "cars.Gears.value_counts(dropna= False)"
   ]
  },
  {
   "cell_type": "code",
   "execution_count": 288,
   "metadata": {},
   "outputs": [],
   "source": [
    "# When I examined the warranty column, it was found that the warranty period and car registration did not match. \n",
    "# excluding new cars, based on the date of 12/2019, a warranty period has been assigned to other cars according to their age."
   ]
  },
  {
   "cell_type": "code",
   "execution_count": 289,
   "metadata": {},
   "outputs": [
    {
     "data": {
      "text/plain": [
       "0       1430 days\n",
       "1       1005 days\n",
       "2       1399 days\n",
       "3       1217 days\n",
       "4       1309 days\n",
       "           ...   \n",
       "15914    244 days\n",
       "15915    426 days\n",
       "15916    275 days\n",
       "15917    183 days\n",
       "15918    334 days\n",
       "Name: registration, Length: 15919, dtype: timedelta64[ns]"
      ]
     },
     "execution_count": 289,
     "metadata": {},
     "output_type": "execute_result"
    }
   ],
   "source": [
    "c = pd.Timestamp('2019-12-01')-cars[\"registration\"]\n",
    "c  "
   ]
  },
  {
   "cell_type": "code",
   "execution_count": 290,
   "metadata": {},
   "outputs": [
    {
     "data": {
      "text/plain": [
       "0        47\n",
       "1        33\n",
       "2        46\n",
       "3        40\n",
       "4        43\n",
       "         ..\n",
       "15914     8\n",
       "15915    14\n",
       "15916     9\n",
       "15917     6\n",
       "15918    11\n",
       "Name: registration, Length: 15919, dtype: int64"
      ]
     },
     "execution_count": 290,
     "metadata": {},
     "output_type": "execute_result"
    }
   ],
   "source": [
    "a = c.dt.days//30\n",
    "a"
   ]
  },
  {
   "cell_type": "code",
   "execution_count": 291,
   "metadata": {},
   "outputs": [
    {
     "data": {
      "text/plain": [
       "0        False\n",
       "1         True\n",
       "2        False\n",
       "3        False\n",
       "4        False\n",
       "         ...  \n",
       "15914     True\n",
       "15915     True\n",
       "15916     True\n",
       "15917     True\n",
       "15918     True\n",
       "Name: registration, Length: 15919, dtype: bool"
      ]
     },
     "execution_count": 291,
     "metadata": {},
     "output_type": "execute_result"
    }
   ],
   "source": [
    "a <= 36"
   ]
  },
  {
   "cell_type": "code",
   "execution_count": 292,
   "metadata": {},
   "outputs": [
    {
     "data": {
      "text/plain": [
       "1         3\n",
       "9         6\n",
       "10       22\n",
       "16       18\n",
       "17       11\n",
       "         ..\n",
       "15913    28\n",
       "15915    22\n",
       "15916    27\n",
       "15917    30\n",
       "15918    25\n",
       "Name: registration, Length: 10271, dtype: int64"
      ]
     },
     "execution_count": 292,
     "metadata": {},
     "output_type": "execute_result"
    }
   ],
   "source": [
    "36-a[(36-a>0) & (cars[\"car_type\"] != \"New\")] # Remaining warranty periods as of 12/2019 were determined"
   ]
  },
  {
   "cell_type": "code",
   "execution_count": 293,
   "metadata": {},
   "outputs": [],
   "source": [
    "cars.loc[(36-a > 0) & (cars[\"car_type\"] != \"New\"), \"Warranty\"] = 36-a[(36-a>0) & (cars[\"car_type\"] != \"New\")]\n",
    "# Remaining warranty periods as of 12/2019 were assigned."
   ]
  },
  {
   "cell_type": "code",
   "execution_count": 294,
   "metadata": {},
   "outputs": [
    {
     "data": {
      "text/plain": [
       "1         3\n",
       "9         6\n",
       "10       22\n",
       "16       18\n",
       "17       11\n",
       "         ..\n",
       "15913    28\n",
       "15915    22\n",
       "15916    27\n",
       "15917    30\n",
       "15918    25\n",
       "Name: Warranty, Length: 10271, dtype: int64"
      ]
     },
     "execution_count": 294,
     "metadata": {},
     "output_type": "execute_result"
    }
   ],
   "source": [
    "cars.loc[(36-a > 0) & (cars[\"car_type\"] != \"New\"), \"Warranty\"]"
   ]
  },
  {
   "cell_type": "code",
   "execution_count": 295,
   "metadata": {},
   "outputs": [],
   "source": [
    "cars.loc[(cars[\"car_type\"] == \"Used\") & (cars[\"Warranty\"]== 36), \"car_type\"] = \"New\"\n",
    "#  new as car_type was assigned to cars with a warranty period of 36 "
   ]
  },
  {
   "cell_type": "code",
   "execution_count": 296,
   "metadata": {},
   "outputs": [],
   "source": [
    "cars.loc[(cars[\"car_type\"] == \"New\") & (cars[\"Warranty\"]== 36), \"prev_owner\"] = \"no previous owner\"\n",
    "# no previous owner as prev_owner was assigned to the cars."
   ]
  },
  {
   "cell_type": "code",
   "execution_count": 297,
   "metadata": {},
   "outputs": [
    {
     "data": {
      "text/html": [
       "<div>\n",
       "<style scoped>\n",
       "    .dataframe tbody tr th:only-of-type {\n",
       "        vertical-align: middle;\n",
       "    }\n",
       "\n",
       "    .dataframe tbody tr th {\n",
       "        vertical-align: top;\n",
       "    }\n",
       "\n",
       "    .dataframe thead th {\n",
       "        text-align: right;\n",
       "    }\n",
       "</style>\n",
       "<table border=\"1\" class=\"dataframe\">\n",
       "  <thead>\n",
       "    <tr style=\"text-align: right;\">\n",
       "      <th></th>\n",
       "      <th>make_model</th>\n",
       "      <th>short_description</th>\n",
       "      <th>body_type</th>\n",
       "      <th>price</th>\n",
       "      <th>vat</th>\n",
       "      <th>km</th>\n",
       "      <th>registration</th>\n",
       "      <th>prev_owner</th>\n",
       "      <th>hp</th>\n",
       "      <th>Warranty</th>\n",
       "      <th>...</th>\n",
       "      <th>\\nExtras\\n</th>\n",
       "      <th>\\nSafety &amp; Security\\n</th>\n",
       "      <th>Gears</th>\n",
       "      <th>car_type</th>\n",
       "      <th>Fuel2</th>\n",
       "      <th>upholstery_type</th>\n",
       "      <th>upholstery_color</th>\n",
       "      <th>comb</th>\n",
       "      <th>city</th>\n",
       "      <th>country</th>\n",
       "    </tr>\n",
       "  </thead>\n",
       "  <tbody>\n",
       "    <tr>\n",
       "      <th>0</th>\n",
       "      <td>Audi A1</td>\n",
       "      <td>Sportback 1.4 TDI S-tronic Xenon Navi Klima</td>\n",
       "      <td>Sedans</td>\n",
       "      <td>15770</td>\n",
       "      <td>VAT deductible</td>\n",
       "      <td>56013</td>\n",
       "      <td>2016-01-01</td>\n",
       "      <td>2 previous owners</td>\n",
       "      <td>66</td>\n",
       "      <td>0</td>\n",
       "      <td>...</td>\n",
       "      <td>Alloy wheels,Catalytic Converter,Voice Control</td>\n",
       "      <td>ABS,Central door lock,Daytime running lights,D...</td>\n",
       "      <td>5</td>\n",
       "      <td>Used</td>\n",
       "      <td>diesel</td>\n",
       "      <td>Cloth</td>\n",
       "      <td>Black</td>\n",
       "      <td>3.8</td>\n",
       "      <td>4.3</td>\n",
       "      <td>3.5</td>\n",
       "    </tr>\n",
       "  </tbody>\n",
       "</table>\n",
       "<p>1 rows × 33 columns</p>\n",
       "</div>"
      ],
      "text/plain": [
       "  make_model                            short_description body_type  price  \\\n",
       "0    Audi A1  Sportback 1.4 TDI S-tronic Xenon Navi Klima    Sedans  15770   \n",
       "\n",
       "              vat     km registration         prev_owner  hp  Warranty  ...  \\\n",
       "0  VAT deductible  56013   2016-01-01  2 previous owners  66         0  ...   \n",
       "\n",
       "                                       \\nExtras\\n  \\\n",
       "0  Alloy wheels,Catalytic Converter,Voice Control   \n",
       "\n",
       "                               \\nSafety & Security\\n  Gears  car_type   Fuel2  \\\n",
       "0  ABS,Central door lock,Daytime running lights,D...      5      Used  diesel   \n",
       "\n",
       "   upholstery_type  upholstery_color  comb city  country  \n",
       "0            Cloth             Black   3.8  4.3      3.5  \n",
       "\n",
       "[1 rows x 33 columns]"
      ]
     },
     "execution_count": 297,
     "metadata": {},
     "output_type": "execute_result"
    }
   ],
   "source": [
    "cars.head(1)"
   ]
  },
  {
   "cell_type": "code",
   "execution_count": null,
   "metadata": {},
   "outputs": [],
   "source": []
  },
  {
   "cell_type": "code",
   "execution_count": 298,
   "metadata": {},
   "outputs": [
    {
     "data": {
      "text/plain": [
       "8594       13\n",
       "8828      120\n",
       "6066      255\n",
       "8829      331\n",
       "8827     4950\n",
       "8825     4990\n",
       "8826     5250\n",
       "8824     5300\n",
       "13770    5445\n",
       "8823     5450\n",
       "Name: price, dtype: int64"
      ]
     },
     "execution_count": 298,
     "metadata": {},
     "output_type": "execute_result"
    }
   ],
   "source": [
    "cars[\"price\"].sort_values().head(10)"
   ]
  },
  {
   "cell_type": "code",
   "execution_count": 299,
   "metadata": {},
   "outputs": [],
   "source": [
    "cars.loc[[8594, 8828, 6066, 8829], \"price\"] = [13000, 12000, 14900, 11500]\n",
    "# The values thought to be entered incorrectly were corrected manually."
   ]
  },
  {
   "cell_type": "code",
   "execution_count": 300,
   "metadata": {},
   "outputs": [
    {
     "data": {
      "text/plain": [
       "8594    13000\n",
       "8828    12000\n",
       "6066    14900\n",
       "8829    11500\n",
       "Name: price, dtype: int64"
      ]
     },
     "execution_count": 300,
     "metadata": {},
     "output_type": "execute_result"
    }
   ],
   "source": [
    "cars.loc[[8594, 8828, 6066, 8829], \"price\"]"
   ]
  },
  {
   "cell_type": "code",
   "execution_count": 301,
   "metadata": {},
   "outputs": [
    {
     "data": {
      "text/plain": [
       "make_model                           object\n",
       "short_description                    object\n",
       "body_type                            object\n",
       "price                                 int64\n",
       "vat                                  object\n",
       "km                                    int32\n",
       "registration                 datetime64[ns]\n",
       "prev_owner                           object\n",
       "hp                                    int32\n",
       "Warranty                              int64\n",
       "Body Color                           object\n",
       "Paint Type                           object\n",
       "Nr. of Doors                          int32\n",
       "Nr. of Seats                          int32\n",
       "Gearing Type                         object\n",
       "Displacement                          int64\n",
       "Cylinders                             int32\n",
       "Weight                                int32\n",
       "Drive chain                          object\n",
       "CO2 Emission                          int32\n",
       "Emission Class                       object\n",
       "\\nComfort & Convenience\\n            object\n",
       "\\nEntertainment & Media\\n            object\n",
       "\\nExtras\\n                           object\n",
       "\\nSafety & Security\\n                object\n",
       "Gears                                object\n",
       "car_type                             object\n",
       "Fuel2                                object\n",
       "upholstery_type                      object\n",
       "upholstery_color                     object\n",
       "comb                                float64\n",
       "city                                float64\n",
       "country                             float64\n",
       "dtype: object"
      ]
     },
     "execution_count": 301,
     "metadata": {},
     "output_type": "execute_result"
    }
   ],
   "source": [
    "cars.dtypes"
   ]
  },
  {
   "cell_type": "code",
   "execution_count": 302,
   "metadata": {},
   "outputs": [
    {
     "data": {
      "text/plain": [
       "10566    0.0\n",
       "14902    1.0\n",
       "11053    3.0\n",
       "13147    3.0\n",
       "13558    3.0\n",
       "6240     3.0\n",
       "10960    3.0\n",
       "2863     3.0\n",
       "2862     3.0\n",
       "6205     3.0\n",
       "6204     3.0\n",
       "8048     3.0\n",
       "6200     3.0\n",
       "8044     3.0\n",
       "11179    3.0\n",
       "8039     3.0\n",
       "8036     3.0\n",
       "11157    3.0\n",
       "8024     3.0\n",
       "8020     3.0\n",
       "811      3.0\n",
       "13577    3.0\n",
       "13154    3.0\n",
       "13251    3.0\n",
       "13257    3.0\n",
       "3850     3.0\n",
       "8731     3.0\n",
       "6778     3.0\n",
       "8762     3.0\n",
       "6746     3.0\n",
       "6873     3.0\n",
       "6874     3.0\n",
       "13493    3.0\n",
       "8805     3.0\n",
       "8822     3.0\n",
       "13482    3.0\n",
       "11044    3.0\n",
       "6906     3.0\n",
       "412      3.0\n",
       "13511    3.0\n",
       "1025     3.0\n",
       "10322    3.0\n",
       "10740    3.0\n",
       "6404     3.0\n",
       "13545    3.0\n",
       "10918    3.0\n",
       "13494    3.0\n",
       "53       3.0\n",
       "13256    3.0\n",
       "11015    3.0\n",
       "Name: comb, dtype: float64"
      ]
     },
     "execution_count": 302,
     "metadata": {},
     "output_type": "execute_result"
    }
   ],
   "source": [
    "cars.comb.sort_values().head(50)"
   ]
  },
  {
   "cell_type": "code",
   "execution_count": 303,
   "metadata": {},
   "outputs": [],
   "source": [
    "cars.loc[535,[\"comb\", \"city\", \"country\"]] = [5.1, 6.2, 4.4]\n",
    "# The values thought to be entered incorrectly were corrected manually."
   ]
  },
  {
   "cell_type": "code",
   "execution_count": 304,
   "metadata": {},
   "outputs": [],
   "source": [
    "cars.loc[500, \"comb\"] = 4.3\n",
    "# The values thought to be entered incorrectly were corrected manually."
   ]
  },
  {
   "cell_type": "code",
   "execution_count": 305,
   "metadata": {},
   "outputs": [],
   "source": [
    "cars.loc[11954, \"comb\"]  = 5.5\n",
    "# The values thought to be entered incorrectly were corrected manually."
   ]
  },
  {
   "cell_type": "code",
   "execution_count": 306,
   "metadata": {},
   "outputs": [],
   "source": [
    "cars.loc[cars.comb > 11, [\"comb\", \"city\", \"country\"]] = cars.loc[cars.comb > 11, [\"comb\", \"city\", \"country\"]]/10\n",
    "# The values thought to be entered incorrectly were corrected manually."
   ]
  },
  {
   "cell_type": "code",
   "execution_count": 307,
   "metadata": {},
   "outputs": [],
   "source": [
    "cars.loc[10566, [\"comb\", \"city\", \"country\"]] = [7.1, 9.6, 5.6]\n",
    "# The values thought to be entered incorrectly were corrected manually."
   ]
  },
  {
   "cell_type": "code",
   "execution_count": 308,
   "metadata": {},
   "outputs": [],
   "source": [
    "cars.loc[14902, [\"comb\", \"city\", \"country\"]] = 10\n",
    "# The values thought to be entered incorrectly were corrected manually."
   ]
  },
  {
   "cell_type": "code",
   "execution_count": 309,
   "metadata": {},
   "outputs": [
    {
     "data": {
      "text/plain": [
       "comb       10\n",
       "city       10\n",
       "country    10\n",
       "Name: 14902, dtype: object"
      ]
     },
     "execution_count": 309,
     "metadata": {},
     "output_type": "execute_result"
    }
   ],
   "source": [
    "cars.loc[14902, [\"comb\", \"city\", \"country\"]]\n",
    "# The values thought to be entered incorrectly were corrected manually."
   ]
  },
  {
   "cell_type": "code",
   "execution_count": 310,
   "metadata": {},
   "outputs": [],
   "source": [
    "cars.loc[cars.Fuel2 == \"electric\", [\"comb\", \"city\", \"country\"]] = [0.0, 0.0, 0.0]\n",
    "# The values thought to be entered incorrectly were corrected manually."
   ]
  },
  {
   "cell_type": "code",
   "execution_count": 311,
   "metadata": {},
   "outputs": [
    {
     "data": {
      "text/plain": [
       "10517    0.0\n",
       "10511    0.0\n",
       "10509    0.0\n",
       "11325    0.0\n",
       "5693     0.0\n",
       "13397    0.0\n",
       "10322    1.0\n",
       "30       3.0\n",
       "13482    3.0\n",
       "13493    3.0\n",
       "13257    3.0\n",
       "13256    3.0\n",
       "13251    3.0\n",
       "13147    3.0\n",
       "13154    3.0\n",
       "13494    3.0\n",
       "13861    3.3\n",
       "13442    3.3\n",
       "13501    3.3\n",
       "13579    3.3\n",
       "13706    3.3\n",
       "13716    3.3\n",
       "13668    3.3\n",
       "13721    3.3\n",
       "13518    3.3\n",
       "13743    3.3\n",
       "13740    3.3\n",
       "8912     3.4\n",
       "13417    3.4\n",
       "8569     3.4\n",
       "8904     3.4\n",
       "13963    3.4\n",
       "8874     3.4\n",
       "8872     3.4\n",
       "8580     3.4\n",
       "8566     3.4\n",
       "14196    3.4\n",
       "14197    3.4\n",
       "14199    3.4\n",
       "8911     3.4\n",
       "13582    3.5\n",
       "13580    3.5\n",
       "13584    3.5\n",
       "13578    3.5\n",
       "13583    3.5\n",
       "13827    3.5\n",
       "13760    3.5\n",
       "13395    3.5\n",
       "13575    3.5\n",
       "13567    3.5\n",
       "Name: city, dtype: float64"
      ]
     },
     "execution_count": 311,
     "metadata": {},
     "output_type": "execute_result"
    }
   ],
   "source": [
    "cars.city.sort_values().head(50)"
   ]
  },
  {
   "cell_type": "code",
   "execution_count": 312,
   "metadata": {},
   "outputs": [],
   "source": [
    "cars.loc[9756, [\"comb\", \"city\", \"country\"]] = [4.8, 5.8, 4.1]\n",
    "# The values thought to be entered incorrectly were corrected manually."
   ]
  },
  {
   "cell_type": "code",
   "execution_count": 313,
   "metadata": {},
   "outputs": [],
   "source": [
    "cars.loc[[11325, 10517, 10511, 10509, 5693, 10322], \"comb\"] = [6.5, 5.6, 6.5, 6.5, 4.1, 5.7]\n",
    "cars.loc[[11325, 10517, 10511, 10509, 5693, 10322], \"city\"] = [8.1, 7.8, 8.1, 8.1, 4.6, 7.3]\n",
    "cars.loc[[11325, 10517, 10511, 10509, 5693, 10322], \"country\"] = [5.5, 4.3, 5.5, 5.5, 3.8, 4.8]\n",
    "# The values thought to be entered incorrectly were corrected manually."
   ]
  },
  {
   "cell_type": "code",
   "execution_count": 314,
   "metadata": {},
   "outputs": [],
   "source": [
    "cars.loc[cars.country == 0, \"country\"] = 4.8\n",
    "# The values thought to be entered incorrectly were corrected manually."
   ]
  },
  {
   "cell_type": "code",
   "execution_count": null,
   "metadata": {},
   "outputs": [],
   "source": []
  },
  {
   "cell_type": "code",
   "execution_count": 315,
   "metadata": {},
   "outputs": [],
   "source": [
    "# car ages were determined and assigned according to the date of 12/2019"
   ]
  },
  {
   "cell_type": "code",
   "execution_count": 316,
   "metadata": {},
   "outputs": [
    {
     "data": {
      "text/plain": [
       "0       1430 days\n",
       "1       1005 days\n",
       "2       1399 days\n",
       "3       1217 days\n",
       "4       1309 days\n",
       "           ...   \n",
       "15914    244 days\n",
       "15915    426 days\n",
       "15916    275 days\n",
       "15917    183 days\n",
       "15918    334 days\n",
       "Name: registration, Length: 15919, dtype: timedelta64[ns]"
      ]
     },
     "execution_count": 316,
     "metadata": {},
     "output_type": "execute_result"
    }
   ],
   "source": [
    "age = pd.Timestamp('2019-12-01')-cars[\"registration\"]\n",
    "\n",
    "age"
   ]
  },
  {
   "cell_type": "code",
   "execution_count": 317,
   "metadata": {},
   "outputs": [],
   "source": [
    "cars[\"age\"] = age.dt.days//30"
   ]
  },
  {
   "cell_type": "code",
   "execution_count": 318,
   "metadata": {},
   "outputs": [
    {
     "data": {
      "text/html": [
       "<div>\n",
       "<style scoped>\n",
       "    .dataframe tbody tr th:only-of-type {\n",
       "        vertical-align: middle;\n",
       "    }\n",
       "\n",
       "    .dataframe tbody tr th {\n",
       "        vertical-align: top;\n",
       "    }\n",
       "\n",
       "    .dataframe thead th {\n",
       "        text-align: right;\n",
       "    }\n",
       "</style>\n",
       "<table border=\"1\" class=\"dataframe\">\n",
       "  <thead>\n",
       "    <tr style=\"text-align: right;\">\n",
       "      <th></th>\n",
       "      <th>make_model</th>\n",
       "      <th>short_description</th>\n",
       "      <th>body_type</th>\n",
       "      <th>price</th>\n",
       "      <th>vat</th>\n",
       "      <th>km</th>\n",
       "      <th>registration</th>\n",
       "      <th>prev_owner</th>\n",
       "      <th>hp</th>\n",
       "      <th>Warranty</th>\n",
       "      <th>...</th>\n",
       "      <th>\\nSafety &amp; Security\\n</th>\n",
       "      <th>Gears</th>\n",
       "      <th>car_type</th>\n",
       "      <th>Fuel2</th>\n",
       "      <th>upholstery_type</th>\n",
       "      <th>upholstery_color</th>\n",
       "      <th>comb</th>\n",
       "      <th>city</th>\n",
       "      <th>country</th>\n",
       "      <th>age</th>\n",
       "    </tr>\n",
       "  </thead>\n",
       "  <tbody>\n",
       "    <tr>\n",
       "      <th>0</th>\n",
       "      <td>Audi A1</td>\n",
       "      <td>Sportback 1.4 TDI S-tronic Xenon Navi Klima</td>\n",
       "      <td>Sedans</td>\n",
       "      <td>15770</td>\n",
       "      <td>VAT deductible</td>\n",
       "      <td>56013</td>\n",
       "      <td>2016-01-01</td>\n",
       "      <td>2 previous owners</td>\n",
       "      <td>66</td>\n",
       "      <td>0</td>\n",
       "      <td>...</td>\n",
       "      <td>ABS,Central door lock,Daytime running lights,D...</td>\n",
       "      <td>5</td>\n",
       "      <td>Used</td>\n",
       "      <td>diesel</td>\n",
       "      <td>Cloth</td>\n",
       "      <td>Black</td>\n",
       "      <td>3.8</td>\n",
       "      <td>4.3</td>\n",
       "      <td>3.5</td>\n",
       "      <td>47</td>\n",
       "    </tr>\n",
       "  </tbody>\n",
       "</table>\n",
       "<p>1 rows × 34 columns</p>\n",
       "</div>"
      ],
      "text/plain": [
       "  make_model                            short_description body_type  price  \\\n",
       "0    Audi A1  Sportback 1.4 TDI S-tronic Xenon Navi Klima    Sedans  15770   \n",
       "\n",
       "              vat     km registration         prev_owner  hp  Warranty  ...  \\\n",
       "0  VAT deductible  56013   2016-01-01  2 previous owners  66         0  ...   \n",
       "\n",
       "                               \\nSafety & Security\\n Gears  car_type   Fuel2  \\\n",
       "0  ABS,Central door lock,Daytime running lights,D...     5      Used  diesel   \n",
       "\n",
       "  upholstery_type  upholstery_color  comb  city country  age  \n",
       "0           Cloth             Black   3.8   4.3     3.5   47  \n",
       "\n",
       "[1 rows x 34 columns]"
      ]
     },
     "execution_count": 318,
     "metadata": {},
     "output_type": "execute_result"
    }
   ],
   "source": [
    "cars.head(1)"
   ]
  },
  {
   "cell_type": "code",
   "execution_count": 319,
   "metadata": {},
   "outputs": [
    {
     "data": {
      "text/html": [
       "<div>\n",
       "<style scoped>\n",
       "    .dataframe tbody tr th:only-of-type {\n",
       "        vertical-align: middle;\n",
       "    }\n",
       "\n",
       "    .dataframe tbody tr th {\n",
       "        vertical-align: top;\n",
       "    }\n",
       "\n",
       "    .dataframe thead th {\n",
       "        text-align: right;\n",
       "    }\n",
       "</style>\n",
       "<table border=\"1\" class=\"dataframe\">\n",
       "  <thead>\n",
       "    <tr style=\"text-align: right;\">\n",
       "      <th></th>\n",
       "      <th>price</th>\n",
       "      <th>km</th>\n",
       "      <th>hp</th>\n",
       "      <th>Warranty</th>\n",
       "      <th>Nr. of Doors</th>\n",
       "      <th>Nr. of Seats</th>\n",
       "      <th>Displacement</th>\n",
       "      <th>Cylinders</th>\n",
       "      <th>Weight</th>\n",
       "      <th>CO2 Emission</th>\n",
       "      <th>comb</th>\n",
       "      <th>city</th>\n",
       "      <th>country</th>\n",
       "      <th>age</th>\n",
       "    </tr>\n",
       "  </thead>\n",
       "  <tbody>\n",
       "    <tr>\n",
       "      <th>price</th>\n",
       "      <td>1.000000</td>\n",
       "      <td>-0.707988</td>\n",
       "      <td>0.497669</td>\n",
       "      <td>0.776187</td>\n",
       "      <td>0.061667</td>\n",
       "      <td>0.018843</td>\n",
       "      <td>0.038116</td>\n",
       "      <td>NaN</td>\n",
       "      <td>-0.202683</td>\n",
       "      <td>0.444042</td>\n",
       "      <td>0.464243</td>\n",
       "      <td>0.393026</td>\n",
       "      <td>0.442960</td>\n",
       "      <td>-0.834694</td>\n",
       "    </tr>\n",
       "    <tr>\n",
       "      <th>km</th>\n",
       "      <td>-0.707988</td>\n",
       "      <td>1.000000</td>\n",
       "      <td>-0.184072</td>\n",
       "      <td>-0.669685</td>\n",
       "      <td>-0.055636</td>\n",
       "      <td>-0.062646</td>\n",
       "      <td>0.197690</td>\n",
       "      <td>NaN</td>\n",
       "      <td>0.260160</td>\n",
       "      <td>-0.215545</td>\n",
       "      <td>-0.268903</td>\n",
       "      <td>-0.188320</td>\n",
       "      <td>-0.276754</td>\n",
       "      <td>0.813509</td>\n",
       "    </tr>\n",
       "    <tr>\n",
       "      <th>hp</th>\n",
       "      <td>0.497669</td>\n",
       "      <td>-0.184072</td>\n",
       "      <td>1.000000</td>\n",
       "      <td>0.308447</td>\n",
       "      <td>-0.134416</td>\n",
       "      <td>-0.000075</td>\n",
       "      <td>0.424428</td>\n",
       "      <td>NaN</td>\n",
       "      <td>-0.018329</td>\n",
       "      <td>0.587911</td>\n",
       "      <td>0.597470</td>\n",
       "      <td>0.593878</td>\n",
       "      <td>0.483616</td>\n",
       "      <td>-0.306442</td>\n",
       "    </tr>\n",
       "    <tr>\n",
       "      <th>Warranty</th>\n",
       "      <td>0.776187</td>\n",
       "      <td>-0.669685</td>\n",
       "      <td>0.308447</td>\n",
       "      <td>1.000000</td>\n",
       "      <td>0.069494</td>\n",
       "      <td>0.020089</td>\n",
       "      <td>-0.102700</td>\n",
       "      <td>NaN</td>\n",
       "      <td>-0.239851</td>\n",
       "      <td>0.269204</td>\n",
       "      <td>0.302649</td>\n",
       "      <td>0.230379</td>\n",
       "      <td>0.289009</td>\n",
       "      <td>-0.843261</td>\n",
       "    </tr>\n",
       "    <tr>\n",
       "      <th>Nr. of Doors</th>\n",
       "      <td>0.061667</td>\n",
       "      <td>-0.055636</td>\n",
       "      <td>-0.134416</td>\n",
       "      <td>0.069494</td>\n",
       "      <td>1.000000</td>\n",
       "      <td>0.034567</td>\n",
       "      <td>-0.062724</td>\n",
       "      <td>NaN</td>\n",
       "      <td>0.187820</td>\n",
       "      <td>-0.075813</td>\n",
       "      <td>-0.138269</td>\n",
       "      <td>-0.124230</td>\n",
       "      <td>-0.098017</td>\n",
       "      <td>-0.033275</td>\n",
       "    </tr>\n",
       "    <tr>\n",
       "      <th>Nr. of Seats</th>\n",
       "      <td>0.018843</td>\n",
       "      <td>-0.062646</td>\n",
       "      <td>-0.000075</td>\n",
       "      <td>0.020089</td>\n",
       "      <td>0.034567</td>\n",
       "      <td>1.000000</td>\n",
       "      <td>0.000688</td>\n",
       "      <td>NaN</td>\n",
       "      <td>0.008945</td>\n",
       "      <td>0.002988</td>\n",
       "      <td>-0.002563</td>\n",
       "      <td>-0.001434</td>\n",
       "      <td>0.000496</td>\n",
       "      <td>-0.030852</td>\n",
       "    </tr>\n",
       "    <tr>\n",
       "      <th>Displacement</th>\n",
       "      <td>0.038116</td>\n",
       "      <td>0.197690</td>\n",
       "      <td>0.424428</td>\n",
       "      <td>-0.102700</td>\n",
       "      <td>-0.062724</td>\n",
       "      <td>0.000688</td>\n",
       "      <td>1.000000</td>\n",
       "      <td>NaN</td>\n",
       "      <td>0.232674</td>\n",
       "      <td>0.302266</td>\n",
       "      <td>0.031293</td>\n",
       "      <td>0.122613</td>\n",
       "      <td>-0.074043</td>\n",
       "      <td>0.129996</td>\n",
       "    </tr>\n",
       "    <tr>\n",
       "      <th>Cylinders</th>\n",
       "      <td>NaN</td>\n",
       "      <td>NaN</td>\n",
       "      <td>NaN</td>\n",
       "      <td>NaN</td>\n",
       "      <td>NaN</td>\n",
       "      <td>NaN</td>\n",
       "      <td>NaN</td>\n",
       "      <td>NaN</td>\n",
       "      <td>NaN</td>\n",
       "      <td>NaN</td>\n",
       "      <td>NaN</td>\n",
       "      <td>NaN</td>\n",
       "      <td>NaN</td>\n",
       "      <td>NaN</td>\n",
       "    </tr>\n",
       "    <tr>\n",
       "      <th>Weight</th>\n",
       "      <td>-0.202683</td>\n",
       "      <td>0.260160</td>\n",
       "      <td>-0.018329</td>\n",
       "      <td>-0.239851</td>\n",
       "      <td>0.187820</td>\n",
       "      <td>0.008945</td>\n",
       "      <td>0.232674</td>\n",
       "      <td>NaN</td>\n",
       "      <td>1.000000</td>\n",
       "      <td>0.002138</td>\n",
       "      <td>-0.108559</td>\n",
       "      <td>-0.057417</td>\n",
       "      <td>-0.154774</td>\n",
       "      <td>0.304736</td>\n",
       "    </tr>\n",
       "    <tr>\n",
       "      <th>CO2 Emission</th>\n",
       "      <td>0.444042</td>\n",
       "      <td>-0.215545</td>\n",
       "      <td>0.587911</td>\n",
       "      <td>0.269204</td>\n",
       "      <td>-0.075813</td>\n",
       "      <td>0.002988</td>\n",
       "      <td>0.302266</td>\n",
       "      <td>NaN</td>\n",
       "      <td>0.002138</td>\n",
       "      <td>1.000000</td>\n",
       "      <td>0.690138</td>\n",
       "      <td>0.710872</td>\n",
       "      <td>0.570686</td>\n",
       "      <td>-0.311484</td>\n",
       "    </tr>\n",
       "    <tr>\n",
       "      <th>comb</th>\n",
       "      <td>0.464243</td>\n",
       "      <td>-0.268903</td>\n",
       "      <td>0.597470</td>\n",
       "      <td>0.302649</td>\n",
       "      <td>-0.138269</td>\n",
       "      <td>-0.002563</td>\n",
       "      <td>0.031293</td>\n",
       "      <td>NaN</td>\n",
       "      <td>-0.108559</td>\n",
       "      <td>0.690138</td>\n",
       "      <td>1.000000</td>\n",
       "      <td>0.953521</td>\n",
       "      <td>0.876343</td>\n",
       "      <td>-0.361580</td>\n",
       "    </tr>\n",
       "    <tr>\n",
       "      <th>city</th>\n",
       "      <td>0.393026</td>\n",
       "      <td>-0.188320</td>\n",
       "      <td>0.593878</td>\n",
       "      <td>0.230379</td>\n",
       "      <td>-0.124230</td>\n",
       "      <td>-0.001434</td>\n",
       "      <td>0.122613</td>\n",
       "      <td>NaN</td>\n",
       "      <td>-0.057417</td>\n",
       "      <td>0.710872</td>\n",
       "      <td>0.953521</td>\n",
       "      <td>1.000000</td>\n",
       "      <td>0.872012</td>\n",
       "      <td>-0.276649</td>\n",
       "    </tr>\n",
       "    <tr>\n",
       "      <th>country</th>\n",
       "      <td>0.442960</td>\n",
       "      <td>-0.276754</td>\n",
       "      <td>0.483616</td>\n",
       "      <td>0.289009</td>\n",
       "      <td>-0.098017</td>\n",
       "      <td>0.000496</td>\n",
       "      <td>-0.074043</td>\n",
       "      <td>NaN</td>\n",
       "      <td>-0.154774</td>\n",
       "      <td>0.570686</td>\n",
       "      <td>0.876343</td>\n",
       "      <td>0.872012</td>\n",
       "      <td>1.000000</td>\n",
       "      <td>-0.373650</td>\n",
       "    </tr>\n",
       "    <tr>\n",
       "      <th>age</th>\n",
       "      <td>-0.834694</td>\n",
       "      <td>0.813509</td>\n",
       "      <td>-0.306442</td>\n",
       "      <td>-0.843261</td>\n",
       "      <td>-0.033275</td>\n",
       "      <td>-0.030852</td>\n",
       "      <td>0.129996</td>\n",
       "      <td>NaN</td>\n",
       "      <td>0.304736</td>\n",
       "      <td>-0.311484</td>\n",
       "      <td>-0.361580</td>\n",
       "      <td>-0.276649</td>\n",
       "      <td>-0.373650</td>\n",
       "      <td>1.000000</td>\n",
       "    </tr>\n",
       "  </tbody>\n",
       "</table>\n",
       "</div>"
      ],
      "text/plain": [
       "                 price        km        hp  Warranty  Nr. of Doors  \\\n",
       "price         1.000000 -0.707988  0.497669  0.776187      0.061667   \n",
       "km           -0.707988  1.000000 -0.184072 -0.669685     -0.055636   \n",
       "hp            0.497669 -0.184072  1.000000  0.308447     -0.134416   \n",
       "Warranty      0.776187 -0.669685  0.308447  1.000000      0.069494   \n",
       "Nr. of Doors  0.061667 -0.055636 -0.134416  0.069494      1.000000   \n",
       "Nr. of Seats  0.018843 -0.062646 -0.000075  0.020089      0.034567   \n",
       "Displacement  0.038116  0.197690  0.424428 -0.102700     -0.062724   \n",
       "Cylinders          NaN       NaN       NaN       NaN           NaN   \n",
       "Weight       -0.202683  0.260160 -0.018329 -0.239851      0.187820   \n",
       "CO2 Emission  0.444042 -0.215545  0.587911  0.269204     -0.075813   \n",
       "comb          0.464243 -0.268903  0.597470  0.302649     -0.138269   \n",
       "city          0.393026 -0.188320  0.593878  0.230379     -0.124230   \n",
       "country       0.442960 -0.276754  0.483616  0.289009     -0.098017   \n",
       "age          -0.834694  0.813509 -0.306442 -0.843261     -0.033275   \n",
       "\n",
       "              Nr. of Seats  Displacement  Cylinders    Weight  CO2 Emission  \\\n",
       "price             0.018843      0.038116        NaN -0.202683      0.444042   \n",
       "km               -0.062646      0.197690        NaN  0.260160     -0.215545   \n",
       "hp               -0.000075      0.424428        NaN -0.018329      0.587911   \n",
       "Warranty          0.020089     -0.102700        NaN -0.239851      0.269204   \n",
       "Nr. of Doors      0.034567     -0.062724        NaN  0.187820     -0.075813   \n",
       "Nr. of Seats      1.000000      0.000688        NaN  0.008945      0.002988   \n",
       "Displacement      0.000688      1.000000        NaN  0.232674      0.302266   \n",
       "Cylinders              NaN           NaN        NaN       NaN           NaN   \n",
       "Weight            0.008945      0.232674        NaN  1.000000      0.002138   \n",
       "CO2 Emission      0.002988      0.302266        NaN  0.002138      1.000000   \n",
       "comb             -0.002563      0.031293        NaN -0.108559      0.690138   \n",
       "city             -0.001434      0.122613        NaN -0.057417      0.710872   \n",
       "country           0.000496     -0.074043        NaN -0.154774      0.570686   \n",
       "age              -0.030852      0.129996        NaN  0.304736     -0.311484   \n",
       "\n",
       "                  comb      city   country       age  \n",
       "price         0.464243  0.393026  0.442960 -0.834694  \n",
       "km           -0.268903 -0.188320 -0.276754  0.813509  \n",
       "hp            0.597470  0.593878  0.483616 -0.306442  \n",
       "Warranty      0.302649  0.230379  0.289009 -0.843261  \n",
       "Nr. of Doors -0.138269 -0.124230 -0.098017 -0.033275  \n",
       "Nr. of Seats -0.002563 -0.001434  0.000496 -0.030852  \n",
       "Displacement  0.031293  0.122613 -0.074043  0.129996  \n",
       "Cylinders          NaN       NaN       NaN       NaN  \n",
       "Weight       -0.108559 -0.057417 -0.154774  0.304736  \n",
       "CO2 Emission  0.690138  0.710872  0.570686 -0.311484  \n",
       "comb          1.000000  0.953521  0.876343 -0.361580  \n",
       "city          0.953521  1.000000  0.872012 -0.276649  \n",
       "country       0.876343  0.872012  1.000000 -0.373650  \n",
       "age          -0.361580 -0.276649 -0.373650  1.000000  "
      ]
     },
     "execution_count": 319,
     "metadata": {},
     "output_type": "execute_result"
    }
   ],
   "source": [
    "cars[cars.make_model == \"Opel Insignia\"].corr()"
   ]
  },
  {
   "cell_type": "code",
   "execution_count": 320,
   "metadata": {},
   "outputs": [
    {
     "data": {
      "text/plain": [
       "Audi A3           3097\n",
       "Audi A1           2614\n",
       "Opel Insignia     2598\n",
       "Opel Astra        2526\n",
       "Opel Corsa        2219\n",
       "Renault Clio      1839\n",
       "Renault Espace     991\n",
       "Renault Duster      34\n",
       "Audi A2              1\n",
       "Name: make_model, dtype: int64"
      ]
     },
     "execution_count": 320,
     "metadata": {},
     "output_type": "execute_result"
    }
   ],
   "source": [
    "cars.make_model.value_counts()"
   ]
  },
  {
   "cell_type": "code",
   "execution_count": 321,
   "metadata": {},
   "outputs": [
    {
     "data": {
      "text/plain": [
       "make_model                    0\n",
       "short_description            46\n",
       "body_type                     0\n",
       "price                         0\n",
       "vat                           0\n",
       "km                            0\n",
       "registration                  0\n",
       "prev_owner                    0\n",
       "hp                            0\n",
       "Warranty                      0\n",
       "Body Color                    0\n",
       "Paint Type                    0\n",
       "Nr. of Doors                  0\n",
       "Nr. of Seats                  0\n",
       "Gearing Type                  0\n",
       "Displacement                  0\n",
       "Cylinders                     0\n",
       "Weight                        0\n",
       "Drive chain                   0\n",
       "CO2 Emission                  0\n",
       "Emission Class                0\n",
       "\\nComfort & Convenience\\n     0\n",
       "\\nEntertainment & Media\\n     0\n",
       "\\nExtras\\n                    0\n",
       "\\nSafety & Security\\n         0\n",
       "Gears                         0\n",
       "car_type                      0\n",
       "Fuel2                         0\n",
       "upholstery_type               0\n",
       "upholstery_color              0\n",
       "comb                          0\n",
       "city                          0\n",
       "country                       0\n",
       "age                           0\n",
       "dtype: int64"
      ]
     },
     "execution_count": 321,
     "metadata": {},
     "output_type": "execute_result"
    }
   ],
   "source": [
    "cars.isnull().sum()"
   ]
  },
  {
   "cell_type": "code",
   "execution_count": 322,
   "metadata": {},
   "outputs": [
    {
     "data": {
      "text/plain": [
       "make_model                           object\n",
       "short_description                    object\n",
       "body_type                            object\n",
       "price                                 int64\n",
       "vat                                  object\n",
       "km                                    int32\n",
       "registration                 datetime64[ns]\n",
       "prev_owner                           object\n",
       "hp                                    int32\n",
       "Warranty                              int64\n",
       "Body Color                           object\n",
       "Paint Type                           object\n",
       "Nr. of Doors                          int32\n",
       "Nr. of Seats                          int32\n",
       "Gearing Type                         object\n",
       "Displacement                          int64\n",
       "Cylinders                             int32\n",
       "Weight                                int32\n",
       "Drive chain                          object\n",
       "CO2 Emission                          int32\n",
       "Emission Class                       object\n",
       "\\nComfort & Convenience\\n            object\n",
       "\\nEntertainment & Media\\n            object\n",
       "\\nExtras\\n                           object\n",
       "\\nSafety & Security\\n                object\n",
       "Gears                                object\n",
       "car_type                             object\n",
       "Fuel2                                object\n",
       "upholstery_type                      object\n",
       "upholstery_color                     object\n",
       "comb                                float64\n",
       "city                                float64\n",
       "country                             float64\n",
       "age                                   int64\n",
       "dtype: object"
      ]
     },
     "execution_count": 322,
     "metadata": {},
     "output_type": "execute_result"
    }
   ],
   "source": [
    "cars.dtypes"
   ]
  },
  {
   "cell_type": "code",
   "execution_count": 323,
   "metadata": {},
   "outputs": [
    {
     "data": {
      "text/plain": [
       "[1,\n",
       " 4,\n",
       " 9,\n",
       " 40,\n",
       " 44,\n",
       " 51,\n",
       " 52,\n",
       " 53,\n",
       " 54,\n",
       " 55,\n",
       " 56,\n",
       " 57,\n",
       " 60,\n",
       " 63,\n",
       " 65,\n",
       " 66,\n",
       " 67,\n",
       " 70,\n",
       " 71,\n",
       " 74,\n",
       " 75,\n",
       " 76,\n",
       " 77,\n",
       " 78,\n",
       " 80,\n",
       " 81,\n",
       " 82,\n",
       " 84,\n",
       " 85,\n",
       " 86,\n",
       " 87,\n",
       " 88,\n",
       " 89,\n",
       " 90,\n",
       " 92,\n",
       " 93,\n",
       " 96,\n",
       " 98,\n",
       " 100,\n",
       " 101,\n",
       " 103,\n",
       " 104,\n",
       " 110,\n",
       " 112,\n",
       " 115,\n",
       " 117,\n",
       " 118,\n",
       " 119,\n",
       " 120,\n",
       " 121,\n",
       " 122,\n",
       " 123,\n",
       " 125,\n",
       " 127,\n",
       " 132,\n",
       " 133,\n",
       " 135,\n",
       " 137,\n",
       " 140,\n",
       " 141,\n",
       " 143,\n",
       " 146,\n",
       " 147,\n",
       " 149,\n",
       " 150,\n",
       " 154,\n",
       " 155,\n",
       " 162,\n",
       " 163,\n",
       " 164,\n",
       " 165,\n",
       " 167,\n",
       " 168,\n",
       " 184,\n",
       " 191,\n",
       " 195,\n",
       " 228,\n",
       " 239,\n",
       " 270,\n",
       " 294]"
      ]
     },
     "execution_count": 323,
     "metadata": {},
     "output_type": "execute_result"
    }
   ],
   "source": [
    "sorted(cars.hp.value_counts().index)"
   ]
  },
  {
   "cell_type": "code",
   "execution_count": 324,
   "metadata": {},
   "outputs": [],
   "source": [
    "# Mode values are assigned according to the make_model and Displacement for hp which is outlier.\n",
    "def fill_most(a):\n",
    "    for i, j in zip(cars[(cars.hp == a)][\"make_model\"], cars[(cars.hp == a)][\"Displacement\"]):\n",
    "        x = cars[\"hp\"][(cars.hp != a) & (cars.make_model == i) & (cars.Displacement == j)].mode()\n",
    "        cars[\"hp\"][(cars.hp == a) & (cars.make_model == i) & (cars.Displacement == j)] = x[0]"
   ]
  },
  {
   "cell_type": "code",
   "execution_count": 325,
   "metadata": {},
   "outputs": [],
   "source": [
    "fill_most(1) # Mode values are assigned according to the make_model and Displacement for hp which is outlier."
   ]
  },
  {
   "cell_type": "code",
   "execution_count": 326,
   "metadata": {},
   "outputs": [],
   "source": [
    "fill_most(4)"
   ]
  },
  {
   "cell_type": "code",
   "execution_count": 327,
   "metadata": {},
   "outputs": [],
   "source": [
    "fill_most(9)"
   ]
  },
  {
   "cell_type": "code",
   "execution_count": 328,
   "metadata": {},
   "outputs": [],
   "source": [
    "fill_most(40)"
   ]
  },
  {
   "cell_type": "code",
   "execution_count": 329,
   "metadata": {},
   "outputs": [],
   "source": [
    "fill_most(44)"
   ]
  },
  {
   "cell_type": "code",
   "execution_count": null,
   "metadata": {},
   "outputs": [],
   "source": []
  },
  {
   "cell_type": "code",
   "execution_count": 330,
   "metadata": {},
   "outputs": [],
   "source": [
    "def fill_most():\n",
    "    m = cars[(cars[\"CO2 Emission\"] <= 51 )  | (cars[\"CO2 Emission\"] >= 190)]\n",
    "    for i in m.make_model.unique():\n",
    "        x = cars[\"CO2 Emission\"][(cars.make_model ==i) & (cars[\"CO2 Emission\"] > 51 )  & (cars[\"CO2 Emission\"] < 190)].mode()\n",
    "        cars[\"CO2 Emission\"][(cars[\"CO2 Emission\"] <= 51 )  | (cars[\"CO2 Emission\"] >= 190)] = x[0]\n"
   ]
  },
  {
   "cell_type": "code",
   "execution_count": 331,
   "metadata": {},
   "outputs": [],
   "source": [
    "fill_most() # Mode values are assigned according to the make_model and CO2 Emission for hp which is outlier."
   ]
  },
  {
   "cell_type": "code",
   "execution_count": 332,
   "metadata": {},
   "outputs": [
    {
     "data": {
      "text/plain": [
       "7857     80\n",
       "14199    82\n",
       "8904     82\n",
       "8911     82\n",
       "8874     82\n",
       "Name: CO2 Emission, dtype: int32"
      ]
     },
     "execution_count": 332,
     "metadata": {},
     "output_type": "execute_result"
    }
   ],
   "source": [
    "cars[\"CO2 Emission\"].sort_values().head()"
   ]
  },
  {
   "cell_type": "code",
   "execution_count": 333,
   "metadata": {},
   "outputs": [
    {
     "data": {
      "text/plain": [
       "<AxesSubplot:>"
      ]
     },
     "execution_count": 333,
     "metadata": {},
     "output_type": "execute_result"
    },
    {
     "data": {
      "image/png": "[encoded data removed]",
      "text/plain": [
       "<Figure size 864x504 with 2 Axes>"
      ]
     },
     "metadata": {
      "needs_background": "light"
     },
     "output_type": "display_data"
    }
   ],
   "source": [
    "import matplotlib.pyplot as plt\n",
    "import seaborn as sns\n",
    "fig = plt.subplots(figsize = (12,7))\n",
    "sns.heatmap(cars.corr(), cmap = \"coolwarm\", annot = True)"
   ]
  },
  {
   "cell_type": "code",
   "execution_count": 334,
   "metadata": {},
   "outputs": [],
   "source": [
    "def outlier(col):\n",
    "    for i in cars.make_model.unique():\n",
    "        for j in cars.Displacement.unique():\n",
    "            for k in cars.Fuel2.unique():\n",
    "            \n",
    "                    x = cars[col][(cars.make_model == i) & (cars.Displacement == j) & (cars.Fuel2 == k)]\n",
    "                    cars[col][(cars.make_model == i) & (cars.Displacement == j) & (cars.Fuel2 == k)] = np.log(x)\n",
    "            "
   ]
  },
  {
   "cell_type": "code",
   "execution_count": 335,
   "metadata": {},
   "outputs": [],
   "source": [
    "outlier(\"CO2 Emission\") # The values were grouped according to the corr. value and logged."
   ]
  },
  {
   "cell_type": "code",
   "execution_count": 336,
   "metadata": {},
   "outputs": [
    {
     "data": {
      "text/plain": [
       "0        4.595120\n",
       "1        4.859812\n",
       "2        4.595120\n",
       "3        4.595120\n",
       "4        4.691348\n",
       "           ...   \n",
       "15914    4.934474\n",
       "15915    5.123964\n",
       "15916    4.934474\n",
       "15917    4.934474\n",
       "15918    5.030438\n",
       "Name: CO2 Emission, Length: 15919, dtype: float64"
      ]
     },
     "execution_count": 336,
     "metadata": {},
     "output_type": "execute_result"
    }
   ],
   "source": [
    "cars[\"CO2 Emission\"]"
   ]
  },
  {
   "cell_type": "code",
   "execution_count": 337,
   "metadata": {},
   "outputs": [
    {
     "data": {
      "text/plain": [
       "<AxesSubplot:>"
      ]
     },
     "execution_count": 337,
     "metadata": {},
     "output_type": "execute_result"
    },
    {
     "data": {
      "image/png": "[encoded data removed]",
      "text/plain": [
       "<Figure size 432x288 with 1 Axes>"
      ]
     },
     "metadata": {
      "needs_background": "light"
     },
     "output_type": "display_data"
    }
   ],
   "source": [
    "cars[\"CO2 Emission\"][(cars.make_model == \"Audi A3\") & (cars.Displacement == 1598) & (cars.Fuel2 == \"diesel\")].plot(kind=\"box\")"
   ]
  },
  {
   "cell_type": "code",
   "execution_count": 338,
   "metadata": {},
   "outputs": [
    {
     "data": {
      "text/plain": [
       "<AxesSubplot:ylabel='Frequency'>"
      ]
     },
     "execution_count": 338,
     "metadata": {},
     "output_type": "execute_result"
    },
    {
     "data": {
      "image/png": "[encoded data removed]",
      "text/plain": [
       "<Figure size 432x288 with 1 Axes>"
      ]
     },
     "metadata": {
      "needs_background": "light"
     },
     "output_type": "display_data"
    }
   ],
   "source": [
    "cars[\"CO2 Emission\"][(cars.make_model == \"Audi A3\") & (cars.Displacement == 1598) & (cars.Fuel2 == \"diesel\")].plot(kind=\"hist\")"
   ]
  },
  {
   "cell_type": "code",
   "execution_count": 339,
   "metadata": {},
   "outputs": [],
   "source": [
    "def outlier(col):\n",
    "    for i in cars.make_model.unique():\n",
    "        for j in cars.Displacement.unique():\n",
    "            for k in cars.hp.unique():\n",
    "            \n",
    "            \n",
    "                    x = cars[col][(cars.make_model == i) & (cars.Displacement == j) & (cars.hp == k)]\n",
    "                    cars[col][(cars.make_model == i) & (cars.Displacement == j) & (cars.hp == k)] = np.log(x)"
   ]
  },
  {
   "cell_type": "code",
   "execution_count": 340,
   "metadata": {},
   "outputs": [],
   "source": [
    "outlier(\"Weight\") # The values were grouped according to the corr. value and logged."
   ]
  },
  {
   "cell_type": "code",
   "execution_count": 341,
   "metadata": {},
   "outputs": [],
   "source": [
    "cars.loc[9279, \"km\"] = 31700 # The values thought to be entered incorrectly were corrected manually."
   ]
  },
  {
   "cell_type": "code",
   "execution_count": 342,
   "metadata": {},
   "outputs": [],
   "source": [
    "def outlier(col):\n",
    "    for i in range(4):\n",
    "        x = cars[col][(cars.km//12 == i)]\n",
    "        cars[col][(cars.make_model == i)] = np.log(x)               "
   ]
  },
  {
   "cell_type": "code",
   "execution_count": 343,
   "metadata": {},
   "outputs": [],
   "source": [
    "outlier(\"km\") # km values logged for car age and make_model"
   ]
  },
  {
   "cell_type": "code",
   "execution_count": 344,
   "metadata": {},
   "outputs": [
    {
     "data": {
      "text/html": [
       "<div>\n",
       "<style scoped>\n",
       "    .dataframe tbody tr th:only-of-type {\n",
       "        vertical-align: middle;\n",
       "    }\n",
       "\n",
       "    .dataframe tbody tr th {\n",
       "        vertical-align: top;\n",
       "    }\n",
       "\n",
       "    .dataframe thead th {\n",
       "        text-align: right;\n",
       "    }\n",
       "</style>\n",
       "<table border=\"1\" class=\"dataframe\">\n",
       "  <thead>\n",
       "    <tr style=\"text-align: right;\">\n",
       "      <th></th>\n",
       "      <th>price</th>\n",
       "      <th>km</th>\n",
       "      <th>hp</th>\n",
       "      <th>Warranty</th>\n",
       "      <th>Nr. of Doors</th>\n",
       "      <th>Nr. of Seats</th>\n",
       "      <th>Displacement</th>\n",
       "      <th>Cylinders</th>\n",
       "      <th>Weight</th>\n",
       "      <th>CO2 Emission</th>\n",
       "      <th>comb</th>\n",
       "      <th>city</th>\n",
       "      <th>country</th>\n",
       "      <th>age</th>\n",
       "    </tr>\n",
       "  </thead>\n",
       "  <tbody>\n",
       "    <tr>\n",
       "      <th>price</th>\n",
       "      <td>1.000000</td>\n",
       "      <td>-0.400925</td>\n",
       "      <td>0.697856</td>\n",
       "      <td>0.399892</td>\n",
       "      <td>0.163380</td>\n",
       "      <td>0.263834</td>\n",
       "      <td>0.274819</td>\n",
       "      <td>0.000012</td>\n",
       "      <td>0.485123</td>\n",
       "      <td>0.347137</td>\n",
       "      <td>0.233939</td>\n",
       "      <td>0.151721</td>\n",
       "      <td>0.296447</td>\n",
       "      <td>-0.459090</td>\n",
       "    </tr>\n",
       "    <tr>\n",
       "      <th>km</th>\n",
       "      <td>-0.400925</td>\n",
       "      <td>1.000000</td>\n",
       "      <td>0.002686</td>\n",
       "      <td>-0.620843</td>\n",
       "      <td>-0.003318</td>\n",
       "      <td>-0.014766</td>\n",
       "      <td>0.311402</td>\n",
       "      <td>0.210634</td>\n",
       "      <td>0.140764</td>\n",
       "      <td>-0.240862</td>\n",
       "      <td>-0.287135</td>\n",
       "      <td>-0.247864</td>\n",
       "      <td>-0.279304</td>\n",
       "      <td>0.790019</td>\n",
       "    </tr>\n",
       "    <tr>\n",
       "      <th>hp</th>\n",
       "      <td>0.697856</td>\n",
       "      <td>0.002686</td>\n",
       "      <td>1.000000</td>\n",
       "      <td>0.057480</td>\n",
       "      <td>0.125208</td>\n",
       "      <td>0.303373</td>\n",
       "      <td>0.594147</td>\n",
       "      <td>0.290560</td>\n",
       "      <td>0.661083</td>\n",
       "      <td>0.487513</td>\n",
       "      <td>0.354889</td>\n",
       "      <td>0.306718</td>\n",
       "      <td>0.370019</td>\n",
       "      <td>-0.071898</td>\n",
       "    </tr>\n",
       "    <tr>\n",
       "      <th>Warranty</th>\n",
       "      <td>0.399892</td>\n",
       "      <td>-0.620843</td>\n",
       "      <td>0.057480</td>\n",
       "      <td>1.000000</td>\n",
       "      <td>0.080596</td>\n",
       "      <td>0.077308</td>\n",
       "      <td>-0.215761</td>\n",
       "      <td>-0.166286</td>\n",
       "      <td>-0.056395</td>\n",
       "      <td>0.264057</td>\n",
       "      <td>0.292481</td>\n",
       "      <td>0.243275</td>\n",
       "      <td>0.288721</td>\n",
       "      <td>-0.803502</td>\n",
       "    </tr>\n",
       "    <tr>\n",
       "      <th>Nr. of Doors</th>\n",
       "      <td>0.163380</td>\n",
       "      <td>-0.003318</td>\n",
       "      <td>0.125208</td>\n",
       "      <td>0.080596</td>\n",
       "      <td>1.000000</td>\n",
       "      <td>0.097402</td>\n",
       "      <td>0.096374</td>\n",
       "      <td>0.037488</td>\n",
       "      <td>0.179193</td>\n",
       "      <td>-0.046831</td>\n",
       "      <td>-0.068832</td>\n",
       "      <td>-0.098149</td>\n",
       "      <td>-0.044802</td>\n",
       "      <td>-0.087283</td>\n",
       "    </tr>\n",
       "    <tr>\n",
       "      <th>Nr. of Seats</th>\n",
       "      <td>0.263834</td>\n",
       "      <td>-0.014766</td>\n",
       "      <td>0.303373</td>\n",
       "      <td>0.077308</td>\n",
       "      <td>0.097402</td>\n",
       "      <td>1.000000</td>\n",
       "      <td>0.196195</td>\n",
       "      <td>0.217879</td>\n",
       "      <td>0.355827</td>\n",
       "      <td>0.289470</td>\n",
       "      <td>0.191861</td>\n",
       "      <td>0.145880</td>\n",
       "      <td>0.214188</td>\n",
       "      <td>-0.073287</td>\n",
       "    </tr>\n",
       "    <tr>\n",
       "      <th>Displacement</th>\n",
       "      <td>0.274819</td>\n",
       "      <td>0.311402</td>\n",
       "      <td>0.594147</td>\n",
       "      <td>-0.215761</td>\n",
       "      <td>0.096374</td>\n",
       "      <td>0.196195</td>\n",
       "      <td>1.000000</td>\n",
       "      <td>0.625149</td>\n",
       "      <td>0.572090</td>\n",
       "      <td>0.268889</td>\n",
       "      <td>0.054703</td>\n",
       "      <td>0.045689</td>\n",
       "      <td>0.084434</td>\n",
       "      <td>0.229331</td>\n",
       "    </tr>\n",
       "    <tr>\n",
       "      <th>Cylinders</th>\n",
       "      <td>0.000012</td>\n",
       "      <td>0.210634</td>\n",
       "      <td>0.290560</td>\n",
       "      <td>-0.166286</td>\n",
       "      <td>0.037488</td>\n",
       "      <td>0.217879</td>\n",
       "      <td>0.625149</td>\n",
       "      <td>1.000000</td>\n",
       "      <td>0.315649</td>\n",
       "      <td>0.306162</td>\n",
       "      <td>0.183438</td>\n",
       "      <td>0.185481</td>\n",
       "      <td>0.175829</td>\n",
       "      <td>0.177633</td>\n",
       "    </tr>\n",
       "    <tr>\n",
       "      <th>Weight</th>\n",
       "      <td>0.485123</td>\n",
       "      <td>0.140764</td>\n",
       "      <td>0.661083</td>\n",
       "      <td>-0.056395</td>\n",
       "      <td>0.179193</td>\n",
       "      <td>0.355827</td>\n",
       "      <td>0.572090</td>\n",
       "      <td>0.315649</td>\n",
       "      <td>1.000000</td>\n",
       "      <td>0.290116</td>\n",
       "      <td>0.081356</td>\n",
       "      <td>0.024317</td>\n",
       "      <td>0.139130</td>\n",
       "      <td>0.069776</td>\n",
       "    </tr>\n",
       "    <tr>\n",
       "      <th>CO2 Emission</th>\n",
       "      <td>0.347137</td>\n",
       "      <td>-0.240862</td>\n",
       "      <td>0.487513</td>\n",
       "      <td>0.264057</td>\n",
       "      <td>-0.046831</td>\n",
       "      <td>0.289470</td>\n",
       "      <td>0.268889</td>\n",
       "      <td>0.306162</td>\n",
       "      <td>0.290116</td>\n",
       "      <td>1.000000</td>\n",
       "      <td>0.824469</td>\n",
       "      <td>0.795929</td>\n",
       "      <td>0.786850</td>\n",
       "      <td>-0.299717</td>\n",
       "    </tr>\n",
       "    <tr>\n",
       "      <th>comb</th>\n",
       "      <td>0.233939</td>\n",
       "      <td>-0.287135</td>\n",
       "      <td>0.354889</td>\n",
       "      <td>0.292481</td>\n",
       "      <td>-0.068832</td>\n",
       "      <td>0.191861</td>\n",
       "      <td>0.054703</td>\n",
       "      <td>0.183438</td>\n",
       "      <td>0.081356</td>\n",
       "      <td>0.824469</td>\n",
       "      <td>1.000000</td>\n",
       "      <td>0.944582</td>\n",
       "      <td>0.941397</td>\n",
       "      <td>-0.329444</td>\n",
       "    </tr>\n",
       "    <tr>\n",
       "      <th>city</th>\n",
       "      <td>0.151721</td>\n",
       "      <td>-0.247864</td>\n",
       "      <td>0.306718</td>\n",
       "      <td>0.243275</td>\n",
       "      <td>-0.098149</td>\n",
       "      <td>0.145880</td>\n",
       "      <td>0.045689</td>\n",
       "      <td>0.185481</td>\n",
       "      <td>0.024317</td>\n",
       "      <td>0.795929</td>\n",
       "      <td>0.944582</td>\n",
       "      <td>1.000000</td>\n",
       "      <td>0.865052</td>\n",
       "      <td>-0.279483</td>\n",
       "    </tr>\n",
       "    <tr>\n",
       "      <th>country</th>\n",
       "      <td>0.296447</td>\n",
       "      <td>-0.279304</td>\n",
       "      <td>0.370019</td>\n",
       "      <td>0.288721</td>\n",
       "      <td>-0.044802</td>\n",
       "      <td>0.214188</td>\n",
       "      <td>0.084434</td>\n",
       "      <td>0.175829</td>\n",
       "      <td>0.139130</td>\n",
       "      <td>0.786850</td>\n",
       "      <td>0.941397</td>\n",
       "      <td>0.865052</td>\n",
       "      <td>1.000000</td>\n",
       "      <td>-0.326238</td>\n",
       "    </tr>\n",
       "    <tr>\n",
       "      <th>age</th>\n",
       "      <td>-0.459090</td>\n",
       "      <td>0.790019</td>\n",
       "      <td>-0.071898</td>\n",
       "      <td>-0.803502</td>\n",
       "      <td>-0.087283</td>\n",
       "      <td>-0.073287</td>\n",
       "      <td>0.229331</td>\n",
       "      <td>0.177633</td>\n",
       "      <td>0.069776</td>\n",
       "      <td>-0.299717</td>\n",
       "      <td>-0.329444</td>\n",
       "      <td>-0.279483</td>\n",
       "      <td>-0.326238</td>\n",
       "      <td>1.000000</td>\n",
       "    </tr>\n",
       "  </tbody>\n",
       "</table>\n",
       "</div>"
      ],
      "text/plain": [
       "                 price        km        hp  Warranty  Nr. of Doors  \\\n",
       "price         1.000000 -0.400925  0.697856  0.399892      0.163380   \n",
       "km           -0.400925  1.000000  0.002686 -0.620843     -0.003318   \n",
       "hp            0.697856  0.002686  1.000000  0.057480      0.125208   \n",
       "Warranty      0.399892 -0.620843  0.057480  1.000000      0.080596   \n",
       "Nr. of Doors  0.163380 -0.003318  0.125208  0.080596      1.000000   \n",
       "Nr. of Seats  0.263834 -0.014766  0.303373  0.077308      0.097402   \n",
       "Displacement  0.274819  0.311402  0.594147 -0.215761      0.096374   \n",
       "Cylinders     0.000012  0.210634  0.290560 -0.166286      0.037488   \n",
       "Weight        0.485123  0.140764  0.661083 -0.056395      0.179193   \n",
       "CO2 Emission  0.347137 -0.240862  0.487513  0.264057     -0.046831   \n",
       "comb          0.233939 -0.287135  0.354889  0.292481     -0.068832   \n",
       "city          0.151721 -0.247864  0.306718  0.243275     -0.098149   \n",
       "country       0.296447 -0.279304  0.370019  0.288721     -0.044802   \n",
       "age          -0.459090  0.790019 -0.071898 -0.803502     -0.087283   \n",
       "\n",
       "              Nr. of Seats  Displacement  Cylinders    Weight  CO2 Emission  \\\n",
       "price             0.263834      0.274819   0.000012  0.485123      0.347137   \n",
       "km               -0.014766      0.311402   0.210634  0.140764     -0.240862   \n",
       "hp                0.303373      0.594147   0.290560  0.661083      0.487513   \n",
       "Warranty          0.077308     -0.215761  -0.166286 -0.056395      0.264057   \n",
       "Nr. of Doors      0.097402      0.096374   0.037488  0.179193     -0.046831   \n",
       "Nr. of Seats      1.000000      0.196195   0.217879  0.355827      0.289470   \n",
       "Displacement      0.196195      1.000000   0.625149  0.572090      0.268889   \n",
       "Cylinders         0.217879      0.625149   1.000000  0.315649      0.306162   \n",
       "Weight            0.355827      0.572090   0.315649  1.000000      0.290116   \n",
       "CO2 Emission      0.289470      0.268889   0.306162  0.290116      1.000000   \n",
       "comb              0.191861      0.054703   0.183438  0.081356      0.824469   \n",
       "city              0.145880      0.045689   0.185481  0.024317      0.795929   \n",
       "country           0.214188      0.084434   0.175829  0.139130      0.786850   \n",
       "age              -0.073287      0.229331   0.177633  0.069776     -0.299717   \n",
       "\n",
       "                  comb      city   country       age  \n",
       "price         0.233939  0.151721  0.296447 -0.459090  \n",
       "km           -0.287135 -0.247864 -0.279304  0.790019  \n",
       "hp            0.354889  0.306718  0.370019 -0.071898  \n",
       "Warranty      0.292481  0.243275  0.288721 -0.803502  \n",
       "Nr. of Doors -0.068832 -0.098149 -0.044802 -0.087283  \n",
       "Nr. of Seats  0.191861  0.145880  0.214188 -0.073287  \n",
       "Displacement  0.054703  0.045689  0.084434  0.229331  \n",
       "Cylinders     0.183438  0.185481  0.175829  0.177633  \n",
       "Weight        0.081356  0.024317  0.139130  0.069776  \n",
       "CO2 Emission  0.824469  0.795929  0.786850 -0.299717  \n",
       "comb          1.000000  0.944582  0.941397 -0.329444  \n",
       "city          0.944582  1.000000  0.865052 -0.279483  \n",
       "country       0.941397  0.865052  1.000000 -0.326238  \n",
       "age          -0.329444 -0.279483 -0.326238  1.000000  "
      ]
     },
     "execution_count": 344,
     "metadata": {},
     "output_type": "execute_result"
    }
   ],
   "source": [
    "cars.corr()"
   ]
  },
  {
   "cell_type": "code",
   "execution_count": 345,
   "metadata": {},
   "outputs": [],
   "source": [
    "def outlier(col):\n",
    "    for i in cars.make_model.unique():\n",
    "        for k in cars.hp.unique():\n",
    "            for n in range(4):\n",
    "                x = cars[col][(cars.make_model == i)  & (cars.hp == k) & (cars.age//12 == n)]\n",
    "                cars[col][(cars.make_model == i) & (cars.hp == k) & (cars.age//12 == n)] = np.log(x)"
   ]
  },
  {
   "cell_type": "code",
   "execution_count": 346,
   "metadata": {},
   "outputs": [],
   "source": [
    "outlier(\"price\") # The values were grouped according to the corr. value and logged."
   ]
  },
  {
   "cell_type": "code",
   "execution_count": 347,
   "metadata": {},
   "outputs": [
    {
     "data": {
      "text/plain": [
       "0        5\n",
       "1        3\n",
       "2        4\n",
       "3        3\n",
       "4        5\n",
       "        ..\n",
       "15914    5\n",
       "15915    5\n",
       "15916    5\n",
       "15917    5\n",
       "15918    5\n",
       "Name: Nr. of Doors, Length: 15919, dtype: object"
      ]
     },
     "execution_count": 347,
     "metadata": {},
     "output_type": "execute_result"
    }
   ],
   "source": [
    "cars[\"Nr. of Doors\"] = cars[\"Nr. of Doors\"].astype(str)\n",
    "cars[\"Nr. of Doors\"] # converted into object"
   ]
  },
  {
   "cell_type": "code",
   "execution_count": 348,
   "metadata": {},
   "outputs": [
    {
     "data": {
      "text/plain": [
       "0        5\n",
       "1        4\n",
       "2        4\n",
       "3        4\n",
       "4        5\n",
       "        ..\n",
       "15914    5\n",
       "15915    5\n",
       "15916    7\n",
       "15917    7\n",
       "15918    5\n",
       "Name: Nr. of Seats, Length: 15919, dtype: object"
      ]
     },
     "execution_count": 348,
     "metadata": {},
     "output_type": "execute_result"
    }
   ],
   "source": [
    "cars[\"Nr. of Seats\"] = cars[\"Nr. of Seats\"].astype(str)\n",
    "cars[\"Nr. of Seats\"] # converted into object"
   ]
  },
  {
   "cell_type": "code",
   "execution_count": 349,
   "metadata": {},
   "outputs": [
    {
     "data": {
      "text/plain": [
       "0        1398\n",
       "1        1798\n",
       "2        1598\n",
       "3        1398\n",
       "4        1398\n",
       "         ... \n",
       "15914    1998\n",
       "15915    1798\n",
       "15916    1998\n",
       "15917    1998\n",
       "15918    1798\n",
       "Name: Displacement, Length: 15919, dtype: object"
      ]
     },
     "execution_count": 349,
     "metadata": {},
     "output_type": "execute_result"
    }
   ],
   "source": [
    "cars[\"Displacement\"] = cars[\"Displacement\"].astype(str)\n",
    "cars[\"Displacement\"] # converted into object"
   ]
  },
  {
   "cell_type": "code",
   "execution_count": 350,
   "metadata": {},
   "outputs": [
    {
     "data": {
      "text/plain": [
       "0        3\n",
       "1        4\n",
       "2        4\n",
       "3        3\n",
       "4        3\n",
       "        ..\n",
       "15914    4\n",
       "15915    4\n",
       "15916    4\n",
       "15917    4\n",
       "15918    4\n",
       "Name: Cylinders, Length: 15919, dtype: object"
      ]
     },
     "execution_count": 350,
     "metadata": {},
     "output_type": "execute_result"
    }
   ],
   "source": [
    "cars[\"Cylinders\"] = cars[\"Cylinders\"].astype(str)\n",
    "cars[\"Cylinders\"] # converted into object"
   ]
  },
  {
   "cell_type": "code",
   "execution_count": 351,
   "metadata": {},
   "outputs": [
    {
     "data": {
      "text/plain": [
       "make_model                           object\n",
       "short_description                    object\n",
       "body_type                            object\n",
       "price                               float64\n",
       "vat                                  object\n",
       "km                                    int32\n",
       "registration                 datetime64[ns]\n",
       "prev_owner                           object\n",
       "hp                                    int32\n",
       "Warranty                              int64\n",
       "Body Color                           object\n",
       "Paint Type                           object\n",
       "Nr. of Doors                         object\n",
       "Nr. of Seats                         object\n",
       "Gearing Type                         object\n",
       "Displacement                         object\n",
       "Cylinders                            object\n",
       "Weight                              float64\n",
       "Drive chain                          object\n",
       "CO2 Emission                        float64\n",
       "Emission Class                       object\n",
       "\\nComfort & Convenience\\n            object\n",
       "\\nEntertainment & Media\\n            object\n",
       "\\nExtras\\n                           object\n",
       "\\nSafety & Security\\n                object\n",
       "Gears                                object\n",
       "car_type                             object\n",
       "Fuel2                                object\n",
       "upholstery_type                      object\n",
       "upholstery_color                     object\n",
       "comb                                float64\n",
       "city                                float64\n",
       "country                             float64\n",
       "age                                   int64\n",
       "dtype: object"
      ]
     },
     "execution_count": 351,
     "metadata": {},
     "output_type": "execute_result"
    }
   ],
   "source": [
    "cars.dtypes"
   ]
  },
  {
   "cell_type": "markdown",
   "metadata": {},
   "source": [
    "## all columns are converted to numeric."
   ]
  },
  {
   "cell_type": "code",
   "execution_count": 352,
   "metadata": {},
   "outputs": [
    {
     "data": {
      "text/html": [
       "<div>\n",
       "<style scoped>\n",
       "    .dataframe tbody tr th:only-of-type {\n",
       "        vertical-align: middle;\n",
       "    }\n",
       "\n",
       "    .dataframe tbody tr th {\n",
       "        vertical-align: top;\n",
       "    }\n",
       "\n",
       "    .dataframe thead th {\n",
       "        text-align: right;\n",
       "    }\n",
       "</style>\n",
       "<table border=\"1\" class=\"dataframe\">\n",
       "  <thead>\n",
       "    <tr style=\"text-align: right;\">\n",
       "      <th></th>\n",
       "      <th>Air conditioning</th>\n",
       "      <th>Air suspension</th>\n",
       "      <th>Armrest</th>\n",
       "      <th>Automatic climate control</th>\n",
       "      <th>Auxiliary heating</th>\n",
       "      <th>Cruise control</th>\n",
       "      <th>Electric Starter</th>\n",
       "      <th>Electric tailgate</th>\n",
       "      <th>Electrical side mirrors</th>\n",
       "      <th>Electrically adjustable seats</th>\n",
       "      <th>...</th>\n",
       "      <th>Power windows</th>\n",
       "      <th>Rain sensor</th>\n",
       "      <th>Seat heating</th>\n",
       "      <th>Seat ventilation</th>\n",
       "      <th>Split rear seats</th>\n",
       "      <th>Start-stop system</th>\n",
       "      <th>Sunroof</th>\n",
       "      <th>Tinted windows</th>\n",
       "      <th>Wind deflector</th>\n",
       "      <th>Windshield</th>\n",
       "    </tr>\n",
       "  </thead>\n",
       "  <tbody>\n",
       "    <tr>\n",
       "      <th>0</th>\n",
       "      <td>1</td>\n",
       "      <td>0</td>\n",
       "      <td>1</td>\n",
       "      <td>1</td>\n",
       "      <td>0</td>\n",
       "      <td>1</td>\n",
       "      <td>0</td>\n",
       "      <td>0</td>\n",
       "      <td>1</td>\n",
       "      <td>0</td>\n",
       "      <td>...</td>\n",
       "      <td>1</td>\n",
       "      <td>1</td>\n",
       "      <td>1</td>\n",
       "      <td>0</td>\n",
       "      <td>0</td>\n",
       "      <td>1</td>\n",
       "      <td>0</td>\n",
       "      <td>0</td>\n",
       "      <td>0</td>\n",
       "      <td>0</td>\n",
       "    </tr>\n",
       "    <tr>\n",
       "      <th>1</th>\n",
       "      <td>1</td>\n",
       "      <td>0</td>\n",
       "      <td>0</td>\n",
       "      <td>1</td>\n",
       "      <td>0</td>\n",
       "      <td>0</td>\n",
       "      <td>0</td>\n",
       "      <td>0</td>\n",
       "      <td>0</td>\n",
       "      <td>0</td>\n",
       "      <td>...</td>\n",
       "      <td>1</td>\n",
       "      <td>0</td>\n",
       "      <td>0</td>\n",
       "      <td>0</td>\n",
       "      <td>0</td>\n",
       "      <td>1</td>\n",
       "      <td>0</td>\n",
       "      <td>1</td>\n",
       "      <td>0</td>\n",
       "      <td>0</td>\n",
       "    </tr>\n",
       "    <tr>\n",
       "      <th>2</th>\n",
       "      <td>1</td>\n",
       "      <td>0</td>\n",
       "      <td>0</td>\n",
       "      <td>0</td>\n",
       "      <td>0</td>\n",
       "      <td>1</td>\n",
       "      <td>0</td>\n",
       "      <td>0</td>\n",
       "      <td>1</td>\n",
       "      <td>0</td>\n",
       "      <td>...</td>\n",
       "      <td>1</td>\n",
       "      <td>0</td>\n",
       "      <td>1</td>\n",
       "      <td>0</td>\n",
       "      <td>0</td>\n",
       "      <td>1</td>\n",
       "      <td>0</td>\n",
       "      <td>0</td>\n",
       "      <td>0</td>\n",
       "      <td>0</td>\n",
       "    </tr>\n",
       "    <tr>\n",
       "      <th>3</th>\n",
       "      <td>0</td>\n",
       "      <td>1</td>\n",
       "      <td>1</td>\n",
       "      <td>0</td>\n",
       "      <td>1</td>\n",
       "      <td>0</td>\n",
       "      <td>0</td>\n",
       "      <td>0</td>\n",
       "      <td>1</td>\n",
       "      <td>0</td>\n",
       "      <td>...</td>\n",
       "      <td>1</td>\n",
       "      <td>1</td>\n",
       "      <td>1</td>\n",
       "      <td>0</td>\n",
       "      <td>1</td>\n",
       "      <td>1</td>\n",
       "      <td>0</td>\n",
       "      <td>0</td>\n",
       "      <td>0</td>\n",
       "      <td>0</td>\n",
       "    </tr>\n",
       "    <tr>\n",
       "      <th>4</th>\n",
       "      <td>1</td>\n",
       "      <td>0</td>\n",
       "      <td>1</td>\n",
       "      <td>1</td>\n",
       "      <td>0</td>\n",
       "      <td>0</td>\n",
       "      <td>0</td>\n",
       "      <td>0</td>\n",
       "      <td>1</td>\n",
       "      <td>0</td>\n",
       "      <td>...</td>\n",
       "      <td>1</td>\n",
       "      <td>1</td>\n",
       "      <td>0</td>\n",
       "      <td>0</td>\n",
       "      <td>0</td>\n",
       "      <td>1</td>\n",
       "      <td>0</td>\n",
       "      <td>0</td>\n",
       "      <td>0</td>\n",
       "      <td>0</td>\n",
       "    </tr>\n",
       "    <tr>\n",
       "      <th>...</th>\n",
       "      <td>...</td>\n",
       "      <td>...</td>\n",
       "      <td>...</td>\n",
       "      <td>...</td>\n",
       "      <td>...</td>\n",
       "      <td>...</td>\n",
       "      <td>...</td>\n",
       "      <td>...</td>\n",
       "      <td>...</td>\n",
       "      <td>...</td>\n",
       "      <td>...</td>\n",
       "      <td>...</td>\n",
       "      <td>...</td>\n",
       "      <td>...</td>\n",
       "      <td>...</td>\n",
       "      <td>...</td>\n",
       "      <td>...</td>\n",
       "      <td>...</td>\n",
       "      <td>...</td>\n",
       "      <td>...</td>\n",
       "      <td>...</td>\n",
       "    </tr>\n",
       "    <tr>\n",
       "      <th>15914</th>\n",
       "      <td>1</td>\n",
       "      <td>0</td>\n",
       "      <td>0</td>\n",
       "      <td>1</td>\n",
       "      <td>0</td>\n",
       "      <td>1</td>\n",
       "      <td>0</td>\n",
       "      <td>0</td>\n",
       "      <td>1</td>\n",
       "      <td>1</td>\n",
       "      <td>...</td>\n",
       "      <td>1</td>\n",
       "      <td>1</td>\n",
       "      <td>0</td>\n",
       "      <td>0</td>\n",
       "      <td>1</td>\n",
       "      <td>1</td>\n",
       "      <td>0</td>\n",
       "      <td>1</td>\n",
       "      <td>0</td>\n",
       "      <td>0</td>\n",
       "    </tr>\n",
       "    <tr>\n",
       "      <th>15915</th>\n",
       "      <td>1</td>\n",
       "      <td>0</td>\n",
       "      <td>0</td>\n",
       "      <td>1</td>\n",
       "      <td>0</td>\n",
       "      <td>1</td>\n",
       "      <td>0</td>\n",
       "      <td>1</td>\n",
       "      <td>1</td>\n",
       "      <td>0</td>\n",
       "      <td>...</td>\n",
       "      <td>1</td>\n",
       "      <td>1</td>\n",
       "      <td>1</td>\n",
       "      <td>0</td>\n",
       "      <td>0</td>\n",
       "      <td>0</td>\n",
       "      <td>1</td>\n",
       "      <td>0</td>\n",
       "      <td>0</td>\n",
       "      <td>0</td>\n",
       "    </tr>\n",
       "    <tr>\n",
       "      <th>15916</th>\n",
       "      <td>1</td>\n",
       "      <td>0</td>\n",
       "      <td>1</td>\n",
       "      <td>1</td>\n",
       "      <td>0</td>\n",
       "      <td>1</td>\n",
       "      <td>0</td>\n",
       "      <td>1</td>\n",
       "      <td>1</td>\n",
       "      <td>0</td>\n",
       "      <td>...</td>\n",
       "      <td>1</td>\n",
       "      <td>1</td>\n",
       "      <td>1</td>\n",
       "      <td>1</td>\n",
       "      <td>0</td>\n",
       "      <td>0</td>\n",
       "      <td>1</td>\n",
       "      <td>0</td>\n",
       "      <td>0</td>\n",
       "      <td>0</td>\n",
       "    </tr>\n",
       "    <tr>\n",
       "      <th>15917</th>\n",
       "      <td>1</td>\n",
       "      <td>0</td>\n",
       "      <td>0</td>\n",
       "      <td>1</td>\n",
       "      <td>0</td>\n",
       "      <td>1</td>\n",
       "      <td>0</td>\n",
       "      <td>0</td>\n",
       "      <td>1</td>\n",
       "      <td>1</td>\n",
       "      <td>...</td>\n",
       "      <td>1</td>\n",
       "      <td>0</td>\n",
       "      <td>0</td>\n",
       "      <td>0</td>\n",
       "      <td>0</td>\n",
       "      <td>1</td>\n",
       "      <td>0</td>\n",
       "      <td>0</td>\n",
       "      <td>0</td>\n",
       "      <td>0</td>\n",
       "    </tr>\n",
       "    <tr>\n",
       "      <th>15918</th>\n",
       "      <td>1</td>\n",
       "      <td>0</td>\n",
       "      <td>0</td>\n",
       "      <td>1</td>\n",
       "      <td>0</td>\n",
       "      <td>1</td>\n",
       "      <td>0</td>\n",
       "      <td>1</td>\n",
       "      <td>1</td>\n",
       "      <td>1</td>\n",
       "      <td>...</td>\n",
       "      <td>1</td>\n",
       "      <td>0</td>\n",
       "      <td>1</td>\n",
       "      <td>0</td>\n",
       "      <td>0</td>\n",
       "      <td>0</td>\n",
       "      <td>0</td>\n",
       "      <td>0</td>\n",
       "      <td>0</td>\n",
       "      <td>0</td>\n",
       "    </tr>\n",
       "  </tbody>\n",
       "</table>\n",
       "<p>15919 rows × 38 columns</p>\n",
       "</div>"
      ],
      "text/plain": [
       "       Air conditioning  Air suspension  Armrest  Automatic climate control  \\\n",
       "0                     1               0        1                          1   \n",
       "1                     1               0        0                          1   \n",
       "2                     1               0        0                          0   \n",
       "3                     0               1        1                          0   \n",
       "4                     1               0        1                          1   \n",
       "...                 ...             ...      ...                        ...   \n",
       "15914                 1               0        0                          1   \n",
       "15915                 1               0        0                          1   \n",
       "15916                 1               0        1                          1   \n",
       "15917                 1               0        0                          1   \n",
       "15918                 1               0        0                          1   \n",
       "\n",
       "       Auxiliary heating  Cruise control  Electric Starter  Electric tailgate  \\\n",
       "0                      0               1                 0                  0   \n",
       "1                      0               0                 0                  0   \n",
       "2                      0               1                 0                  0   \n",
       "3                      1               0                 0                  0   \n",
       "4                      0               0                 0                  0   \n",
       "...                  ...             ...               ...                ...   \n",
       "15914                  0               1                 0                  0   \n",
       "15915                  0               1                 0                  1   \n",
       "15916                  0               1                 0                  1   \n",
       "15917                  0               1                 0                  0   \n",
       "15918                  0               1                 0                  1   \n",
       "\n",
       "       Electrical side mirrors  Electrically adjustable seats  ...  \\\n",
       "0                            1                              0  ...   \n",
       "1                            0                              0  ...   \n",
       "2                            1                              0  ...   \n",
       "3                            1                              0  ...   \n",
       "4                            1                              0  ...   \n",
       "...                        ...                            ...  ...   \n",
       "15914                        1                              1  ...   \n",
       "15915                        1                              0  ...   \n",
       "15916                        1                              0  ...   \n",
       "15917                        1                              1  ...   \n",
       "15918                        1                              1  ...   \n",
       "\n",
       "       Power windows  Rain sensor  Seat heating  Seat ventilation  \\\n",
       "0                  1            1             1                 0   \n",
       "1                  1            0             0                 0   \n",
       "2                  1            0             1                 0   \n",
       "3                  1            1             1                 0   \n",
       "4                  1            1             0                 0   \n",
       "...              ...          ...           ...               ...   \n",
       "15914              1            1             0                 0   \n",
       "15915              1            1             1                 0   \n",
       "15916              1            1             1                 1   \n",
       "15917              1            0             0                 0   \n",
       "15918              1            0             1                 0   \n",
       "\n",
       "       Split rear seats  Start-stop system  Sunroof  Tinted windows  \\\n",
       "0                     0                  1        0               0   \n",
       "1                     0                  1        0               1   \n",
       "2                     0                  1        0               0   \n",
       "3                     1                  1        0               0   \n",
       "4                     0                  1        0               0   \n",
       "...                 ...                ...      ...             ...   \n",
       "15914                 1                  1        0               1   \n",
       "15915                 0                  0        1               0   \n",
       "15916                 0                  0        1               0   \n",
       "15917                 0                  1        0               0   \n",
       "15918                 0                  0        0               0   \n",
       "\n",
       "       Wind deflector  Windshield  \n",
       "0                   0           0  \n",
       "1                   0           0  \n",
       "2                   0           0  \n",
       "3                   0           0  \n",
       "4                   0           0  \n",
       "...               ...         ...  \n",
       "15914               0           0  \n",
       "15915               0           0  \n",
       "15916               0           0  \n",
       "15917               0           0  \n",
       "15918               0           0  \n",
       "\n",
       "[15919 rows x 38 columns]"
      ]
     },
     "execution_count": 352,
     "metadata": {},
     "output_type": "execute_result"
    }
   ],
   "source": [
    "a = cars[\"\\nComfort & Convenience\\n\"].str.get_dummies(sep = \",\")\n",
    "a"
   ]
  },
  {
   "cell_type": "code",
   "execution_count": 353,
   "metadata": {},
   "outputs": [
    {
     "data": {
      "text/html": [
       "<div>\n",
       "<style scoped>\n",
       "    .dataframe tbody tr th:only-of-type {\n",
       "        vertical-align: middle;\n",
       "    }\n",
       "\n",
       "    .dataframe tbody tr th {\n",
       "        vertical-align: top;\n",
       "    }\n",
       "\n",
       "    .dataframe thead th {\n",
       "        text-align: right;\n",
       "    }\n",
       "</style>\n",
       "<table border=\"1\" class=\"dataframe\">\n",
       "  <thead>\n",
       "    <tr style=\"text-align: right;\">\n",
       "      <th></th>\n",
       "      <th>Bluetooth</th>\n",
       "      <th>CD player</th>\n",
       "      <th>Digital radio</th>\n",
       "      <th>Hands-free equipment</th>\n",
       "      <th>MP3</th>\n",
       "      <th>On-board computer</th>\n",
       "      <th>Radio</th>\n",
       "      <th>Sound system</th>\n",
       "      <th>Television</th>\n",
       "      <th>USB</th>\n",
       "    </tr>\n",
       "  </thead>\n",
       "  <tbody>\n",
       "    <tr>\n",
       "      <th>0</th>\n",
       "      <td>1</td>\n",
       "      <td>0</td>\n",
       "      <td>0</td>\n",
       "      <td>1</td>\n",
       "      <td>0</td>\n",
       "      <td>1</td>\n",
       "      <td>1</td>\n",
       "      <td>0</td>\n",
       "      <td>0</td>\n",
       "      <td>0</td>\n",
       "    </tr>\n",
       "    <tr>\n",
       "      <th>1</th>\n",
       "      <td>1</td>\n",
       "      <td>0</td>\n",
       "      <td>0</td>\n",
       "      <td>1</td>\n",
       "      <td>0</td>\n",
       "      <td>1</td>\n",
       "      <td>1</td>\n",
       "      <td>1</td>\n",
       "      <td>0</td>\n",
       "      <td>0</td>\n",
       "    </tr>\n",
       "    <tr>\n",
       "      <th>2</th>\n",
       "      <td>0</td>\n",
       "      <td>0</td>\n",
       "      <td>0</td>\n",
       "      <td>0</td>\n",
       "      <td>1</td>\n",
       "      <td>1</td>\n",
       "      <td>0</td>\n",
       "      <td>0</td>\n",
       "      <td>0</td>\n",
       "      <td>0</td>\n",
       "    </tr>\n",
       "    <tr>\n",
       "      <th>3</th>\n",
       "      <td>1</td>\n",
       "      <td>1</td>\n",
       "      <td>0</td>\n",
       "      <td>1</td>\n",
       "      <td>1</td>\n",
       "      <td>1</td>\n",
       "      <td>1</td>\n",
       "      <td>1</td>\n",
       "      <td>0</td>\n",
       "      <td>1</td>\n",
       "    </tr>\n",
       "    <tr>\n",
       "      <th>4</th>\n",
       "      <td>1</td>\n",
       "      <td>1</td>\n",
       "      <td>0</td>\n",
       "      <td>1</td>\n",
       "      <td>1</td>\n",
       "      <td>1</td>\n",
       "      <td>1</td>\n",
       "      <td>0</td>\n",
       "      <td>0</td>\n",
       "      <td>1</td>\n",
       "    </tr>\n",
       "    <tr>\n",
       "      <th>...</th>\n",
       "      <td>...</td>\n",
       "      <td>...</td>\n",
       "      <td>...</td>\n",
       "      <td>...</td>\n",
       "      <td>...</td>\n",
       "      <td>...</td>\n",
       "      <td>...</td>\n",
       "      <td>...</td>\n",
       "      <td>...</td>\n",
       "      <td>...</td>\n",
       "    </tr>\n",
       "    <tr>\n",
       "      <th>15914</th>\n",
       "      <td>1</td>\n",
       "      <td>0</td>\n",
       "      <td>1</td>\n",
       "      <td>1</td>\n",
       "      <td>0</td>\n",
       "      <td>1</td>\n",
       "      <td>1</td>\n",
       "      <td>0</td>\n",
       "      <td>0</td>\n",
       "      <td>1</td>\n",
       "    </tr>\n",
       "    <tr>\n",
       "      <th>15915</th>\n",
       "      <td>1</td>\n",
       "      <td>0</td>\n",
       "      <td>1</td>\n",
       "      <td>1</td>\n",
       "      <td>0</td>\n",
       "      <td>0</td>\n",
       "      <td>1</td>\n",
       "      <td>0</td>\n",
       "      <td>0</td>\n",
       "      <td>1</td>\n",
       "    </tr>\n",
       "    <tr>\n",
       "      <th>15916</th>\n",
       "      <td>1</td>\n",
       "      <td>0</td>\n",
       "      <td>0</td>\n",
       "      <td>1</td>\n",
       "      <td>0</td>\n",
       "      <td>1</td>\n",
       "      <td>1</td>\n",
       "      <td>0</td>\n",
       "      <td>0</td>\n",
       "      <td>0</td>\n",
       "    </tr>\n",
       "    <tr>\n",
       "      <th>15917</th>\n",
       "      <td>1</td>\n",
       "      <td>0</td>\n",
       "      <td>1</td>\n",
       "      <td>0</td>\n",
       "      <td>0</td>\n",
       "      <td>0</td>\n",
       "      <td>1</td>\n",
       "      <td>0</td>\n",
       "      <td>0</td>\n",
       "      <td>1</td>\n",
       "    </tr>\n",
       "    <tr>\n",
       "      <th>15918</th>\n",
       "      <td>0</td>\n",
       "      <td>0</td>\n",
       "      <td>0</td>\n",
       "      <td>0</td>\n",
       "      <td>0</td>\n",
       "      <td>0</td>\n",
       "      <td>0</td>\n",
       "      <td>0</td>\n",
       "      <td>0</td>\n",
       "      <td>1</td>\n",
       "    </tr>\n",
       "  </tbody>\n",
       "</table>\n",
       "<p>15919 rows × 10 columns</p>\n",
       "</div>"
      ],
      "text/plain": [
       "       Bluetooth  CD player  Digital radio  Hands-free equipment  MP3  \\\n",
       "0              1          0              0                     1    0   \n",
       "1              1          0              0                     1    0   \n",
       "2              0          0              0                     0    1   \n",
       "3              1          1              0                     1    1   \n",
       "4              1          1              0                     1    1   \n",
       "...          ...        ...            ...                   ...  ...   \n",
       "15914          1          0              1                     1    0   \n",
       "15915          1          0              1                     1    0   \n",
       "15916          1          0              0                     1    0   \n",
       "15917          1          0              1                     0    0   \n",
       "15918          0          0              0                     0    0   \n",
       "\n",
       "       On-board computer  Radio  Sound system  Television  USB  \n",
       "0                      1      1             0           0    0  \n",
       "1                      1      1             1           0    0  \n",
       "2                      1      0             0           0    0  \n",
       "3                      1      1             1           0    1  \n",
       "4                      1      1             0           0    1  \n",
       "...                  ...    ...           ...         ...  ...  \n",
       "15914                  1      1             0           0    1  \n",
       "15915                  0      1             0           0    1  \n",
       "15916                  1      1             0           0    0  \n",
       "15917                  0      1             0           0    1  \n",
       "15918                  0      0             0           0    1  \n",
       "\n",
       "[15919 rows x 10 columns]"
      ]
     },
     "execution_count": 353,
     "metadata": {},
     "output_type": "execute_result"
    }
   ],
   "source": [
    "b = cars[\"\\nEntertainment & Media\\n\"].str.get_dummies(sep = \",\")\n",
    "b"
   ]
  },
  {
   "cell_type": "code",
   "execution_count": 354,
   "metadata": {},
   "outputs": [
    {
     "data": {
      "text/html": [
       "<div>\n",
       "<style scoped>\n",
       "    .dataframe tbody tr th:only-of-type {\n",
       "        vertical-align: middle;\n",
       "    }\n",
       "\n",
       "    .dataframe tbody tr th {\n",
       "        vertical-align: top;\n",
       "    }\n",
       "\n",
       "    .dataframe thead th {\n",
       "        text-align: right;\n",
       "    }\n",
       "</style>\n",
       "<table border=\"1\" class=\"dataframe\">\n",
       "  <thead>\n",
       "    <tr style=\"text-align: right;\">\n",
       "      <th></th>\n",
       "      <th>Alloy wheels</th>\n",
       "      <th>Cab or rented Car</th>\n",
       "      <th>Catalytic Converter</th>\n",
       "      <th>Handicapped enabled</th>\n",
       "      <th>Right hand drive</th>\n",
       "      <th>Roof rack</th>\n",
       "      <th>Shift paddles</th>\n",
       "      <th>Ski bag</th>\n",
       "      <th>Sliding door</th>\n",
       "      <th>Sport package</th>\n",
       "      <th>Sport seats</th>\n",
       "      <th>Sport suspension</th>\n",
       "      <th>Touch screen</th>\n",
       "      <th>Trailer hitch</th>\n",
       "      <th>Tuned car</th>\n",
       "      <th>Voice Control</th>\n",
       "      <th>Winter tyres</th>\n",
       "    </tr>\n",
       "  </thead>\n",
       "  <tbody>\n",
       "    <tr>\n",
       "      <th>0</th>\n",
       "      <td>1</td>\n",
       "      <td>0</td>\n",
       "      <td>1</td>\n",
       "      <td>0</td>\n",
       "      <td>0</td>\n",
       "      <td>0</td>\n",
       "      <td>0</td>\n",
       "      <td>0</td>\n",
       "      <td>0</td>\n",
       "      <td>0</td>\n",
       "      <td>0</td>\n",
       "      <td>0</td>\n",
       "      <td>0</td>\n",
       "      <td>0</td>\n",
       "      <td>0</td>\n",
       "      <td>1</td>\n",
       "      <td>0</td>\n",
       "    </tr>\n",
       "    <tr>\n",
       "      <th>1</th>\n",
       "      <td>1</td>\n",
       "      <td>0</td>\n",
       "      <td>0</td>\n",
       "      <td>0</td>\n",
       "      <td>0</td>\n",
       "      <td>0</td>\n",
       "      <td>0</td>\n",
       "      <td>0</td>\n",
       "      <td>0</td>\n",
       "      <td>0</td>\n",
       "      <td>1</td>\n",
       "      <td>1</td>\n",
       "      <td>0</td>\n",
       "      <td>0</td>\n",
       "      <td>0</td>\n",
       "      <td>1</td>\n",
       "      <td>0</td>\n",
       "    </tr>\n",
       "    <tr>\n",
       "      <th>2</th>\n",
       "      <td>1</td>\n",
       "      <td>0</td>\n",
       "      <td>0</td>\n",
       "      <td>0</td>\n",
       "      <td>0</td>\n",
       "      <td>0</td>\n",
       "      <td>0</td>\n",
       "      <td>0</td>\n",
       "      <td>0</td>\n",
       "      <td>0</td>\n",
       "      <td>0</td>\n",
       "      <td>0</td>\n",
       "      <td>0</td>\n",
       "      <td>0</td>\n",
       "      <td>0</td>\n",
       "      <td>1</td>\n",
       "      <td>0</td>\n",
       "    </tr>\n",
       "    <tr>\n",
       "      <th>3</th>\n",
       "      <td>1</td>\n",
       "      <td>0</td>\n",
       "      <td>0</td>\n",
       "      <td>0</td>\n",
       "      <td>0</td>\n",
       "      <td>0</td>\n",
       "      <td>0</td>\n",
       "      <td>0</td>\n",
       "      <td>0</td>\n",
       "      <td>0</td>\n",
       "      <td>1</td>\n",
       "      <td>0</td>\n",
       "      <td>0</td>\n",
       "      <td>0</td>\n",
       "      <td>0</td>\n",
       "      <td>1</td>\n",
       "      <td>0</td>\n",
       "    </tr>\n",
       "    <tr>\n",
       "      <th>4</th>\n",
       "      <td>1</td>\n",
       "      <td>0</td>\n",
       "      <td>0</td>\n",
       "      <td>0</td>\n",
       "      <td>0</td>\n",
       "      <td>0</td>\n",
       "      <td>0</td>\n",
       "      <td>0</td>\n",
       "      <td>0</td>\n",
       "      <td>1</td>\n",
       "      <td>0</td>\n",
       "      <td>1</td>\n",
       "      <td>0</td>\n",
       "      <td>0</td>\n",
       "      <td>0</td>\n",
       "      <td>1</td>\n",
       "      <td>0</td>\n",
       "    </tr>\n",
       "    <tr>\n",
       "      <th>...</th>\n",
       "      <td>...</td>\n",
       "      <td>...</td>\n",
       "      <td>...</td>\n",
       "      <td>...</td>\n",
       "      <td>...</td>\n",
       "      <td>...</td>\n",
       "      <td>...</td>\n",
       "      <td>...</td>\n",
       "      <td>...</td>\n",
       "      <td>...</td>\n",
       "      <td>...</td>\n",
       "      <td>...</td>\n",
       "      <td>...</td>\n",
       "      <td>...</td>\n",
       "      <td>...</td>\n",
       "      <td>...</td>\n",
       "      <td>...</td>\n",
       "    </tr>\n",
       "    <tr>\n",
       "      <th>15914</th>\n",
       "      <td>1</td>\n",
       "      <td>0</td>\n",
       "      <td>0</td>\n",
       "      <td>0</td>\n",
       "      <td>0</td>\n",
       "      <td>0</td>\n",
       "      <td>0</td>\n",
       "      <td>0</td>\n",
       "      <td>0</td>\n",
       "      <td>0</td>\n",
       "      <td>0</td>\n",
       "      <td>0</td>\n",
       "      <td>1</td>\n",
       "      <td>0</td>\n",
       "      <td>0</td>\n",
       "      <td>0</td>\n",
       "      <td>0</td>\n",
       "    </tr>\n",
       "    <tr>\n",
       "      <th>15915</th>\n",
       "      <td>1</td>\n",
       "      <td>0</td>\n",
       "      <td>0</td>\n",
       "      <td>0</td>\n",
       "      <td>0</td>\n",
       "      <td>0</td>\n",
       "      <td>0</td>\n",
       "      <td>0</td>\n",
       "      <td>0</td>\n",
       "      <td>0</td>\n",
       "      <td>0</td>\n",
       "      <td>0</td>\n",
       "      <td>1</td>\n",
       "      <td>0</td>\n",
       "      <td>0</td>\n",
       "      <td>1</td>\n",
       "      <td>0</td>\n",
       "    </tr>\n",
       "    <tr>\n",
       "      <th>15916</th>\n",
       "      <td>1</td>\n",
       "      <td>0</td>\n",
       "      <td>0</td>\n",
       "      <td>0</td>\n",
       "      <td>0</td>\n",
       "      <td>0</td>\n",
       "      <td>0</td>\n",
       "      <td>0</td>\n",
       "      <td>0</td>\n",
       "      <td>0</td>\n",
       "      <td>0</td>\n",
       "      <td>0</td>\n",
       "      <td>0</td>\n",
       "      <td>0</td>\n",
       "      <td>0</td>\n",
       "      <td>0</td>\n",
       "      <td>0</td>\n",
       "    </tr>\n",
       "    <tr>\n",
       "      <th>15917</th>\n",
       "      <td>1</td>\n",
       "      <td>0</td>\n",
       "      <td>0</td>\n",
       "      <td>0</td>\n",
       "      <td>0</td>\n",
       "      <td>0</td>\n",
       "      <td>0</td>\n",
       "      <td>0</td>\n",
       "      <td>0</td>\n",
       "      <td>0</td>\n",
       "      <td>0</td>\n",
       "      <td>0</td>\n",
       "      <td>1</td>\n",
       "      <td>0</td>\n",
       "      <td>0</td>\n",
       "      <td>0</td>\n",
       "      <td>0</td>\n",
       "    </tr>\n",
       "    <tr>\n",
       "      <th>15918</th>\n",
       "      <td>1</td>\n",
       "      <td>0</td>\n",
       "      <td>0</td>\n",
       "      <td>0</td>\n",
       "      <td>0</td>\n",
       "      <td>0</td>\n",
       "      <td>0</td>\n",
       "      <td>0</td>\n",
       "      <td>0</td>\n",
       "      <td>0</td>\n",
       "      <td>0</td>\n",
       "      <td>0</td>\n",
       "      <td>1</td>\n",
       "      <td>0</td>\n",
       "      <td>0</td>\n",
       "      <td>0</td>\n",
       "      <td>0</td>\n",
       "    </tr>\n",
       "  </tbody>\n",
       "</table>\n",
       "<p>15919 rows × 17 columns</p>\n",
       "</div>"
      ],
      "text/plain": [
       "       Alloy wheels  Cab or rented Car  Catalytic Converter  \\\n",
       "0                 1                  0                    1   \n",
       "1                 1                  0                    0   \n",
       "2                 1                  0                    0   \n",
       "3                 1                  0                    0   \n",
       "4                 1                  0                    0   \n",
       "...             ...                ...                  ...   \n",
       "15914             1                  0                    0   \n",
       "15915             1                  0                    0   \n",
       "15916             1                  0                    0   \n",
       "15917             1                  0                    0   \n",
       "15918             1                  0                    0   \n",
       "\n",
       "       Handicapped enabled  Right hand drive  Roof rack  Shift paddles  \\\n",
       "0                        0                 0          0              0   \n",
       "1                        0                 0          0              0   \n",
       "2                        0                 0          0              0   \n",
       "3                        0                 0          0              0   \n",
       "4                        0                 0          0              0   \n",
       "...                    ...               ...        ...            ...   \n",
       "15914                    0                 0          0              0   \n",
       "15915                    0                 0          0              0   \n",
       "15916                    0                 0          0              0   \n",
       "15917                    0                 0          0              0   \n",
       "15918                    0                 0          0              0   \n",
       "\n",
       "       Ski bag  Sliding door  Sport package  Sport seats  Sport suspension  \\\n",
       "0            0             0              0            0                 0   \n",
       "1            0             0              0            1                 1   \n",
       "2            0             0              0            0                 0   \n",
       "3            0             0              0            1                 0   \n",
       "4            0             0              1            0                 1   \n",
       "...        ...           ...            ...          ...               ...   \n",
       "15914        0             0              0            0                 0   \n",
       "15915        0             0              0            0                 0   \n",
       "15916        0             0              0            0                 0   \n",
       "15917        0             0              0            0                 0   \n",
       "15918        0             0              0            0                 0   \n",
       "\n",
       "       Touch screen  Trailer hitch  Tuned car  Voice Control  Winter tyres  \n",
       "0                 0              0          0              1             0  \n",
       "1                 0              0          0              1             0  \n",
       "2                 0              0          0              1             0  \n",
       "3                 0              0          0              1             0  \n",
       "4                 0              0          0              1             0  \n",
       "...             ...            ...        ...            ...           ...  \n",
       "15914             1              0          0              0             0  \n",
       "15915             1              0          0              1             0  \n",
       "15916             0              0          0              0             0  \n",
       "15917             1              0          0              0             0  \n",
       "15918             1              0          0              0             0  \n",
       "\n",
       "[15919 rows x 17 columns]"
      ]
     },
     "execution_count": 354,
     "metadata": {},
     "output_type": "execute_result"
    }
   ],
   "source": [
    "c = cars[\"\\nExtras\\n\"].str.get_dummies(sep = \",\")\n",
    "c"
   ]
  },
  {
   "cell_type": "code",
   "execution_count": 355,
   "metadata": {},
   "outputs": [
    {
     "data": {
      "text/html": [
       "<div>\n",
       "<style scoped>\n",
       "    .dataframe tbody tr th:only-of-type {\n",
       "        vertical-align: middle;\n",
       "    }\n",
       "\n",
       "    .dataframe tbody tr th {\n",
       "        vertical-align: top;\n",
       "    }\n",
       "\n",
       "    .dataframe thead th {\n",
       "        text-align: right;\n",
       "    }\n",
       "</style>\n",
       "<table border=\"1\" class=\"dataframe\">\n",
       "  <thead>\n",
       "    <tr style=\"text-align: right;\">\n",
       "      <th></th>\n",
       "      <th>ABS</th>\n",
       "      <th>Adaptive Cruise Control</th>\n",
       "      <th>Adaptive headlights</th>\n",
       "      <th>Alarm system</th>\n",
       "      <th>Blind spot monitor</th>\n",
       "      <th>Central door lock</th>\n",
       "      <th>Central door lock with remote control</th>\n",
       "      <th>Daytime running lights</th>\n",
       "      <th>Driver drowsiness detection</th>\n",
       "      <th>Driver-side airbag</th>\n",
       "      <th>...</th>\n",
       "      <th>Lane departure warning system</th>\n",
       "      <th>Night view assist</th>\n",
       "      <th>Passenger-side airbag</th>\n",
       "      <th>Power steering</th>\n",
       "      <th>Rear airbag</th>\n",
       "      <th>Side airbag</th>\n",
       "      <th>Tire pressure monitoring system</th>\n",
       "      <th>Traction control</th>\n",
       "      <th>Traffic sign recognition</th>\n",
       "      <th>Xenon headlights</th>\n",
       "    </tr>\n",
       "  </thead>\n",
       "  <tbody>\n",
       "    <tr>\n",
       "      <th>0</th>\n",
       "      <td>1</td>\n",
       "      <td>0</td>\n",
       "      <td>0</td>\n",
       "      <td>0</td>\n",
       "      <td>0</td>\n",
       "      <td>1</td>\n",
       "      <td>0</td>\n",
       "      <td>1</td>\n",
       "      <td>0</td>\n",
       "      <td>1</td>\n",
       "      <td>...</td>\n",
       "      <td>0</td>\n",
       "      <td>0</td>\n",
       "      <td>1</td>\n",
       "      <td>1</td>\n",
       "      <td>0</td>\n",
       "      <td>1</td>\n",
       "      <td>1</td>\n",
       "      <td>1</td>\n",
       "      <td>0</td>\n",
       "      <td>1</td>\n",
       "    </tr>\n",
       "    <tr>\n",
       "      <th>1</th>\n",
       "      <td>1</td>\n",
       "      <td>0</td>\n",
       "      <td>0</td>\n",
       "      <td>0</td>\n",
       "      <td>0</td>\n",
       "      <td>1</td>\n",
       "      <td>1</td>\n",
       "      <td>1</td>\n",
       "      <td>0</td>\n",
       "      <td>1</td>\n",
       "      <td>...</td>\n",
       "      <td>0</td>\n",
       "      <td>0</td>\n",
       "      <td>1</td>\n",
       "      <td>1</td>\n",
       "      <td>0</td>\n",
       "      <td>1</td>\n",
       "      <td>1</td>\n",
       "      <td>1</td>\n",
       "      <td>0</td>\n",
       "      <td>1</td>\n",
       "    </tr>\n",
       "    <tr>\n",
       "      <th>2</th>\n",
       "      <td>1</td>\n",
       "      <td>0</td>\n",
       "      <td>0</td>\n",
       "      <td>0</td>\n",
       "      <td>0</td>\n",
       "      <td>1</td>\n",
       "      <td>0</td>\n",
       "      <td>1</td>\n",
       "      <td>0</td>\n",
       "      <td>1</td>\n",
       "      <td>...</td>\n",
       "      <td>0</td>\n",
       "      <td>0</td>\n",
       "      <td>1</td>\n",
       "      <td>1</td>\n",
       "      <td>0</td>\n",
       "      <td>1</td>\n",
       "      <td>1</td>\n",
       "      <td>1</td>\n",
       "      <td>0</td>\n",
       "      <td>0</td>\n",
       "    </tr>\n",
       "    <tr>\n",
       "      <th>3</th>\n",
       "      <td>1</td>\n",
       "      <td>0</td>\n",
       "      <td>0</td>\n",
       "      <td>1</td>\n",
       "      <td>0</td>\n",
       "      <td>0</td>\n",
       "      <td>1</td>\n",
       "      <td>0</td>\n",
       "      <td>1</td>\n",
       "      <td>1</td>\n",
       "      <td>...</td>\n",
       "      <td>0</td>\n",
       "      <td>0</td>\n",
       "      <td>1</td>\n",
       "      <td>1</td>\n",
       "      <td>0</td>\n",
       "      <td>1</td>\n",
       "      <td>1</td>\n",
       "      <td>0</td>\n",
       "      <td>0</td>\n",
       "      <td>0</td>\n",
       "    </tr>\n",
       "    <tr>\n",
       "      <th>4</th>\n",
       "      <td>1</td>\n",
       "      <td>0</td>\n",
       "      <td>0</td>\n",
       "      <td>0</td>\n",
       "      <td>0</td>\n",
       "      <td>1</td>\n",
       "      <td>0</td>\n",
       "      <td>0</td>\n",
       "      <td>0</td>\n",
       "      <td>1</td>\n",
       "      <td>...</td>\n",
       "      <td>0</td>\n",
       "      <td>0</td>\n",
       "      <td>1</td>\n",
       "      <td>1</td>\n",
       "      <td>0</td>\n",
       "      <td>1</td>\n",
       "      <td>1</td>\n",
       "      <td>1</td>\n",
       "      <td>0</td>\n",
       "      <td>1</td>\n",
       "    </tr>\n",
       "    <tr>\n",
       "      <th>...</th>\n",
       "      <td>...</td>\n",
       "      <td>...</td>\n",
       "      <td>...</td>\n",
       "      <td>...</td>\n",
       "      <td>...</td>\n",
       "      <td>...</td>\n",
       "      <td>...</td>\n",
       "      <td>...</td>\n",
       "      <td>...</td>\n",
       "      <td>...</td>\n",
       "      <td>...</td>\n",
       "      <td>...</td>\n",
       "      <td>...</td>\n",
       "      <td>...</td>\n",
       "      <td>...</td>\n",
       "      <td>...</td>\n",
       "      <td>...</td>\n",
       "      <td>...</td>\n",
       "      <td>...</td>\n",
       "      <td>...</td>\n",
       "      <td>...</td>\n",
       "    </tr>\n",
       "    <tr>\n",
       "      <th>15914</th>\n",
       "      <td>1</td>\n",
       "      <td>0</td>\n",
       "      <td>0</td>\n",
       "      <td>0</td>\n",
       "      <td>0</td>\n",
       "      <td>1</td>\n",
       "      <td>1</td>\n",
       "      <td>0</td>\n",
       "      <td>0</td>\n",
       "      <td>1</td>\n",
       "      <td>...</td>\n",
       "      <td>1</td>\n",
       "      <td>0</td>\n",
       "      <td>1</td>\n",
       "      <td>1</td>\n",
       "      <td>1</td>\n",
       "      <td>1</td>\n",
       "      <td>1</td>\n",
       "      <td>1</td>\n",
       "      <td>1</td>\n",
       "      <td>0</td>\n",
       "    </tr>\n",
       "    <tr>\n",
       "      <th>15915</th>\n",
       "      <td>1</td>\n",
       "      <td>1</td>\n",
       "      <td>0</td>\n",
       "      <td>0</td>\n",
       "      <td>1</td>\n",
       "      <td>1</td>\n",
       "      <td>0</td>\n",
       "      <td>1</td>\n",
       "      <td>0</td>\n",
       "      <td>1</td>\n",
       "      <td>...</td>\n",
       "      <td>1</td>\n",
       "      <td>0</td>\n",
       "      <td>1</td>\n",
       "      <td>1</td>\n",
       "      <td>0</td>\n",
       "      <td>1</td>\n",
       "      <td>1</td>\n",
       "      <td>1</td>\n",
       "      <td>1</td>\n",
       "      <td>0</td>\n",
       "    </tr>\n",
       "    <tr>\n",
       "      <th>15916</th>\n",
       "      <td>1</td>\n",
       "      <td>1</td>\n",
       "      <td>0</td>\n",
       "      <td>0</td>\n",
       "      <td>1</td>\n",
       "      <td>1</td>\n",
       "      <td>0</td>\n",
       "      <td>1</td>\n",
       "      <td>0</td>\n",
       "      <td>1</td>\n",
       "      <td>...</td>\n",
       "      <td>1</td>\n",
       "      <td>0</td>\n",
       "      <td>1</td>\n",
       "      <td>1</td>\n",
       "      <td>0</td>\n",
       "      <td>1</td>\n",
       "      <td>0</td>\n",
       "      <td>1</td>\n",
       "      <td>1</td>\n",
       "      <td>0</td>\n",
       "    </tr>\n",
       "    <tr>\n",
       "      <th>15917</th>\n",
       "      <td>1</td>\n",
       "      <td>0</td>\n",
       "      <td>0</td>\n",
       "      <td>0</td>\n",
       "      <td>1</td>\n",
       "      <td>0</td>\n",
       "      <td>0</td>\n",
       "      <td>0</td>\n",
       "      <td>0</td>\n",
       "      <td>1</td>\n",
       "      <td>...</td>\n",
       "      <td>0</td>\n",
       "      <td>0</td>\n",
       "      <td>1</td>\n",
       "      <td>1</td>\n",
       "      <td>0</td>\n",
       "      <td>1</td>\n",
       "      <td>1</td>\n",
       "      <td>0</td>\n",
       "      <td>1</td>\n",
       "      <td>0</td>\n",
       "    </tr>\n",
       "    <tr>\n",
       "      <th>15918</th>\n",
       "      <td>1</td>\n",
       "      <td>0</td>\n",
       "      <td>0</td>\n",
       "      <td>0</td>\n",
       "      <td>1</td>\n",
       "      <td>0</td>\n",
       "      <td>0</td>\n",
       "      <td>1</td>\n",
       "      <td>0</td>\n",
       "      <td>1</td>\n",
       "      <td>...</td>\n",
       "      <td>0</td>\n",
       "      <td>0</td>\n",
       "      <td>1</td>\n",
       "      <td>1</td>\n",
       "      <td>0</td>\n",
       "      <td>1</td>\n",
       "      <td>1</td>\n",
       "      <td>0</td>\n",
       "      <td>1</td>\n",
       "      <td>0</td>\n",
       "    </tr>\n",
       "  </tbody>\n",
       "</table>\n",
       "<p>15919 rows × 29 columns</p>\n",
       "</div>"
      ],
      "text/plain": [
       "       ABS  Adaptive Cruise Control  Adaptive headlights  Alarm system  \\\n",
       "0        1                        0                    0             0   \n",
       "1        1                        0                    0             0   \n",
       "2        1                        0                    0             0   \n",
       "3        1                        0                    0             1   \n",
       "4        1                        0                    0             0   \n",
       "...    ...                      ...                  ...           ...   \n",
       "15914    1                        0                    0             0   \n",
       "15915    1                        1                    0             0   \n",
       "15916    1                        1                    0             0   \n",
       "15917    1                        0                    0             0   \n",
       "15918    1                        0                    0             0   \n",
       "\n",
       "       Blind spot monitor  Central door lock  \\\n",
       "0                       0                  1   \n",
       "1                       0                  1   \n",
       "2                       0                  1   \n",
       "3                       0                  0   \n",
       "4                       0                  1   \n",
       "...                   ...                ...   \n",
       "15914                   0                  1   \n",
       "15915                   1                  1   \n",
       "15916                   1                  1   \n",
       "15917                   1                  0   \n",
       "15918                   1                  0   \n",
       "\n",
       "       Central door lock with remote control  Daytime running lights  \\\n",
       "0                                          0                       1   \n",
       "1                                          1                       1   \n",
       "2                                          0                       1   \n",
       "3                                          1                       0   \n",
       "4                                          0                       0   \n",
       "...                                      ...                     ...   \n",
       "15914                                      1                       0   \n",
       "15915                                      0                       1   \n",
       "15916                                      0                       1   \n",
       "15917                                      0                       0   \n",
       "15918                                      0                       1   \n",
       "\n",
       "       Driver drowsiness detection  Driver-side airbag  ...  \\\n",
       "0                                0                   1  ...   \n",
       "1                                0                   1  ...   \n",
       "2                                0                   1  ...   \n",
       "3                                1                   1  ...   \n",
       "4                                0                   1  ...   \n",
       "...                            ...                 ...  ...   \n",
       "15914                            0                   1  ...   \n",
       "15915                            0                   1  ...   \n",
       "15916                            0                   1  ...   \n",
       "15917                            0                   1  ...   \n",
       "15918                            0                   1  ...   \n",
       "\n",
       "       Lane departure warning system  Night view assist  \\\n",
       "0                                  0                  0   \n",
       "1                                  0                  0   \n",
       "2                                  0                  0   \n",
       "3                                  0                  0   \n",
       "4                                  0                  0   \n",
       "...                              ...                ...   \n",
       "15914                              1                  0   \n",
       "15915                              1                  0   \n",
       "15916                              1                  0   \n",
       "15917                              0                  0   \n",
       "15918                              0                  0   \n",
       "\n",
       "       Passenger-side airbag  Power steering  Rear airbag  Side airbag  \\\n",
       "0                          1               1            0            1   \n",
       "1                          1               1            0            1   \n",
       "2                          1               1            0            1   \n",
       "3                          1               1            0            1   \n",
       "4                          1               1            0            1   \n",
       "...                      ...             ...          ...          ...   \n",
       "15914                      1               1            1            1   \n",
       "15915                      1               1            0            1   \n",
       "15916                      1               1            0            1   \n",
       "15917                      1               1            0            1   \n",
       "15918                      1               1            0            1   \n",
       "\n",
       "       Tire pressure monitoring system  Traction control  \\\n",
       "0                                    1                 1   \n",
       "1                                    1                 1   \n",
       "2                                    1                 1   \n",
       "3                                    1                 0   \n",
       "4                                    1                 1   \n",
       "...                                ...               ...   \n",
       "15914                                1                 1   \n",
       "15915                                1                 1   \n",
       "15916                                0                 1   \n",
       "15917                                1                 0   \n",
       "15918                                1                 0   \n",
       "\n",
       "       Traffic sign recognition  Xenon headlights  \n",
       "0                             0                 1  \n",
       "1                             0                 1  \n",
       "2                             0                 0  \n",
       "3                             0                 0  \n",
       "4                             0                 1  \n",
       "...                         ...               ...  \n",
       "15914                         1                 0  \n",
       "15915                         1                 0  \n",
       "15916                         1                 0  \n",
       "15917                         1                 0  \n",
       "15918                         1                 0  \n",
       "\n",
       "[15919 rows x 29 columns]"
      ]
     },
     "execution_count": 355,
     "metadata": {},
     "output_type": "execute_result"
    }
   ],
   "source": [
    "d = cars[\"\\nSafety & Security\\n\"].str.get_dummies(sep = \",\")\n",
    "d"
   ]
  },
  {
   "cell_type": "code",
   "execution_count": 356,
   "metadata": {},
   "outputs": [],
   "source": [
    "cars.drop(\"short_description\", axis = 1, inplace = True) # short_description colm. dropped"
   ]
  },
  {
   "cell_type": "code",
   "execution_count": 357,
   "metadata": {},
   "outputs": [],
   "source": [
    "cars.drop([\"\\nComfort & Convenience\\n\", \"\\nEntertainment & Media\\n\", \"\\nExtras\\n\" ,\"\\nSafety & Security\\n\"], axis = 1,\\\n",
    "          inplace = True ) # columns converted to numeric have been deleted"
   ]
  },
  {
   "cell_type": "code",
   "execution_count": 358,
   "metadata": {},
   "outputs": [],
   "source": [
    "cars_new = pd.concat([cars, a, b, c, d], axis = 1) # numeric columns are concanated with cars df"
   ]
  },
  {
   "cell_type": "code",
   "execution_count": 359,
   "metadata": {},
   "outputs": [
    {
     "data": {
      "text/html": [
       "<div>\n",
       "<style scoped>\n",
       "    .dataframe tbody tr th:only-of-type {\n",
       "        vertical-align: middle;\n",
       "    }\n",
       "\n",
       "    .dataframe tbody tr th {\n",
       "        vertical-align: top;\n",
       "    }\n",
       "\n",
       "    .dataframe thead th {\n",
       "        text-align: right;\n",
       "    }\n",
       "</style>\n",
       "<table border=\"1\" class=\"dataframe\">\n",
       "  <thead>\n",
       "    <tr style=\"text-align: right;\">\n",
       "      <th></th>\n",
       "      <th>make_model</th>\n",
       "      <th>body_type</th>\n",
       "      <th>price</th>\n",
       "      <th>vat</th>\n",
       "      <th>km</th>\n",
       "      <th>registration</th>\n",
       "      <th>prev_owner</th>\n",
       "      <th>hp</th>\n",
       "      <th>Warranty</th>\n",
       "      <th>Body Color</th>\n",
       "      <th>...</th>\n",
       "      <th>Lane departure warning system</th>\n",
       "      <th>Night view assist</th>\n",
       "      <th>Passenger-side airbag</th>\n",
       "      <th>Power steering</th>\n",
       "      <th>Rear airbag</th>\n",
       "      <th>Side airbag</th>\n",
       "      <th>Tire pressure monitoring system</th>\n",
       "      <th>Traction control</th>\n",
       "      <th>Traffic sign recognition</th>\n",
       "      <th>Xenon headlights</th>\n",
       "    </tr>\n",
       "  </thead>\n",
       "  <tbody>\n",
       "    <tr>\n",
       "      <th>0</th>\n",
       "      <td>Audi A1</td>\n",
       "      <td>Sedans</td>\n",
       "      <td>9.665865</td>\n",
       "      <td>VAT deductible</td>\n",
       "      <td>56013</td>\n",
       "      <td>2016-01-01</td>\n",
       "      <td>2 previous owners</td>\n",
       "      <td>66</td>\n",
       "      <td>0</td>\n",
       "      <td>Black</td>\n",
       "      <td>...</td>\n",
       "      <td>0</td>\n",
       "      <td>0</td>\n",
       "      <td>1</td>\n",
       "      <td>1</td>\n",
       "      <td>0</td>\n",
       "      <td>1</td>\n",
       "      <td>1</td>\n",
       "      <td>1</td>\n",
       "      <td>0</td>\n",
       "      <td>1</td>\n",
       "    </tr>\n",
       "    <tr>\n",
       "      <th>1</th>\n",
       "      <td>Audi A1</td>\n",
       "      <td>Sedans</td>\n",
       "      <td>9.581904</td>\n",
       "      <td>Price negotiable</td>\n",
       "      <td>80000</td>\n",
       "      <td>2017-03-01</td>\n",
       "      <td>1 previous owner</td>\n",
       "      <td>141</td>\n",
       "      <td>3</td>\n",
       "      <td>Red</td>\n",
       "      <td>...</td>\n",
       "      <td>0</td>\n",
       "      <td>0</td>\n",
       "      <td>1</td>\n",
       "      <td>1</td>\n",
       "      <td>0</td>\n",
       "      <td>1</td>\n",
       "      <td>1</td>\n",
       "      <td>1</td>\n",
       "      <td>0</td>\n",
       "      <td>1</td>\n",
       "    </tr>\n",
       "    <tr>\n",
       "      <th>2</th>\n",
       "      <td>Audi A1</td>\n",
       "      <td>Sedans</td>\n",
       "      <td>9.591513</td>\n",
       "      <td>VAT deductible</td>\n",
       "      <td>83450</td>\n",
       "      <td>2016-02-01</td>\n",
       "      <td>1 previous owner</td>\n",
       "      <td>85</td>\n",
       "      <td>0</td>\n",
       "      <td>Black</td>\n",
       "      <td>...</td>\n",
       "      <td>0</td>\n",
       "      <td>0</td>\n",
       "      <td>1</td>\n",
       "      <td>1</td>\n",
       "      <td>0</td>\n",
       "      <td>1</td>\n",
       "      <td>1</td>\n",
       "      <td>1</td>\n",
       "      <td>0</td>\n",
       "      <td>0</td>\n",
       "    </tr>\n",
       "    <tr>\n",
       "      <th>3</th>\n",
       "      <td>Audi A1</td>\n",
       "      <td>Sedans</td>\n",
       "      <td>9.581904</td>\n",
       "      <td>VAT deductible</td>\n",
       "      <td>73000</td>\n",
       "      <td>2016-08-01</td>\n",
       "      <td>1 previous owner</td>\n",
       "      <td>66</td>\n",
       "      <td>0</td>\n",
       "      <td>Brown</td>\n",
       "      <td>...</td>\n",
       "      <td>0</td>\n",
       "      <td>0</td>\n",
       "      <td>1</td>\n",
       "      <td>1</td>\n",
       "      <td>0</td>\n",
       "      <td>1</td>\n",
       "      <td>1</td>\n",
       "      <td>0</td>\n",
       "      <td>0</td>\n",
       "      <td>0</td>\n",
       "    </tr>\n",
       "    <tr>\n",
       "      <th>4</th>\n",
       "      <td>Audi A1</td>\n",
       "      <td>Sedans</td>\n",
       "      <td>9.728539</td>\n",
       "      <td>VAT deductible</td>\n",
       "      <td>16200</td>\n",
       "      <td>2016-05-01</td>\n",
       "      <td>1 previous owner</td>\n",
       "      <td>66</td>\n",
       "      <td>0</td>\n",
       "      <td>Black</td>\n",
       "      <td>...</td>\n",
       "      <td>0</td>\n",
       "      <td>0</td>\n",
       "      <td>1</td>\n",
       "      <td>1</td>\n",
       "      <td>0</td>\n",
       "      <td>1</td>\n",
       "      <td>1</td>\n",
       "      <td>1</td>\n",
       "      <td>0</td>\n",
       "      <td>1</td>\n",
       "    </tr>\n",
       "    <tr>\n",
       "      <th>...</th>\n",
       "      <td>...</td>\n",
       "      <td>...</td>\n",
       "      <td>...</td>\n",
       "      <td>...</td>\n",
       "      <td>...</td>\n",
       "      <td>...</td>\n",
       "      <td>...</td>\n",
       "      <td>...</td>\n",
       "      <td>...</td>\n",
       "      <td>...</td>\n",
       "      <td>...</td>\n",
       "      <td>...</td>\n",
       "      <td>...</td>\n",
       "      <td>...</td>\n",
       "      <td>...</td>\n",
       "      <td>...</td>\n",
       "      <td>...</td>\n",
       "      <td>...</td>\n",
       "      <td>...</td>\n",
       "      <td>...</td>\n",
       "      <td>...</td>\n",
       "    </tr>\n",
       "    <tr>\n",
       "      <th>15914</th>\n",
       "      <td>Renault Espace</td>\n",
       "      <td>Van</td>\n",
       "      <td>10.595384</td>\n",
       "      <td>VAT deductible</td>\n",
       "      <td>0</td>\n",
       "      <td>2019-04-01</td>\n",
       "      <td>no previous owner</td>\n",
       "      <td>147</td>\n",
       "      <td>36</td>\n",
       "      <td>Grey</td>\n",
       "      <td>...</td>\n",
       "      <td>1</td>\n",
       "      <td>0</td>\n",
       "      <td>1</td>\n",
       "      <td>1</td>\n",
       "      <td>1</td>\n",
       "      <td>1</td>\n",
       "      <td>1</td>\n",
       "      <td>1</td>\n",
       "      <td>1</td>\n",
       "      <td>0</td>\n",
       "    </tr>\n",
       "    <tr>\n",
       "      <th>15915</th>\n",
       "      <td>Renault Espace</td>\n",
       "      <td>Van</td>\n",
       "      <td>10.593756</td>\n",
       "      <td>VAT deductible</td>\n",
       "      <td>9900</td>\n",
       "      <td>2018-10-01</td>\n",
       "      <td>1 previous owner</td>\n",
       "      <td>165</td>\n",
       "      <td>22</td>\n",
       "      <td>Grey</td>\n",
       "      <td>...</td>\n",
       "      <td>1</td>\n",
       "      <td>0</td>\n",
       "      <td>1</td>\n",
       "      <td>1</td>\n",
       "      <td>0</td>\n",
       "      <td>1</td>\n",
       "      <td>1</td>\n",
       "      <td>1</td>\n",
       "      <td>1</td>\n",
       "      <td>0</td>\n",
       "    </tr>\n",
       "    <tr>\n",
       "      <th>15916</th>\n",
       "      <td>Renault Espace</td>\n",
       "      <td>Van</td>\n",
       "      <td>10.593505</td>\n",
       "      <td>VAT deductible</td>\n",
       "      <td>0</td>\n",
       "      <td>2019-03-01</td>\n",
       "      <td>no previous owner</td>\n",
       "      <td>146</td>\n",
       "      <td>27</td>\n",
       "      <td>White</td>\n",
       "      <td>...</td>\n",
       "      <td>1</td>\n",
       "      <td>0</td>\n",
       "      <td>1</td>\n",
       "      <td>1</td>\n",
       "      <td>0</td>\n",
       "      <td>1</td>\n",
       "      <td>0</td>\n",
       "      <td>1</td>\n",
       "      <td>1</td>\n",
       "      <td>0</td>\n",
       "    </tr>\n",
       "    <tr>\n",
       "      <th>15917</th>\n",
       "      <td>Renault Espace</td>\n",
       "      <td>Van</td>\n",
       "      <td>10.589106</td>\n",
       "      <td>VAT deductible</td>\n",
       "      <td>0</td>\n",
       "      <td>2019-06-01</td>\n",
       "      <td>no previous owner</td>\n",
       "      <td>147</td>\n",
       "      <td>30</td>\n",
       "      <td>Grey</td>\n",
       "      <td>...</td>\n",
       "      <td>0</td>\n",
       "      <td>0</td>\n",
       "      <td>1</td>\n",
       "      <td>1</td>\n",
       "      <td>0</td>\n",
       "      <td>1</td>\n",
       "      <td>1</td>\n",
       "      <td>0</td>\n",
       "      <td>1</td>\n",
       "      <td>0</td>\n",
       "    </tr>\n",
       "    <tr>\n",
       "      <th>15918</th>\n",
       "      <td>Renault Espace</td>\n",
       "      <td>Van</td>\n",
       "      <td>10.621303</td>\n",
       "      <td>VAT deductible</td>\n",
       "      <td>0</td>\n",
       "      <td>2019-01-01</td>\n",
       "      <td>no previous owner</td>\n",
       "      <td>165</td>\n",
       "      <td>25</td>\n",
       "      <td>Grey</td>\n",
       "      <td>...</td>\n",
       "      <td>0</td>\n",
       "      <td>0</td>\n",
       "      <td>1</td>\n",
       "      <td>1</td>\n",
       "      <td>0</td>\n",
       "      <td>1</td>\n",
       "      <td>1</td>\n",
       "      <td>0</td>\n",
       "      <td>1</td>\n",
       "      <td>0</td>\n",
       "    </tr>\n",
       "  </tbody>\n",
       "</table>\n",
       "<p>15919 rows × 123 columns</p>\n",
       "</div>"
      ],
      "text/plain": [
       "           make_model body_type      price               vat     km  \\\n",
       "0             Audi A1    Sedans   9.665865    VAT deductible  56013   \n",
       "1             Audi A1    Sedans   9.581904  Price negotiable  80000   \n",
       "2             Audi A1    Sedans   9.591513    VAT deductible  83450   \n",
       "3             Audi A1    Sedans   9.581904    VAT deductible  73000   \n",
       "4             Audi A1    Sedans   9.728539    VAT deductible  16200   \n",
       "...               ...       ...        ...               ...    ...   \n",
       "15914  Renault Espace       Van  10.595384    VAT deductible      0   \n",
       "15915  Renault Espace       Van  10.593756    VAT deductible   9900   \n",
       "15916  Renault Espace       Van  10.593505    VAT deductible      0   \n",
       "15917  Renault Espace       Van  10.589106    VAT deductible      0   \n",
       "15918  Renault Espace       Van  10.621303    VAT deductible      0   \n",
       "\n",
       "      registration         prev_owner   hp  Warranty Body Color  ...  \\\n",
       "0       2016-01-01  2 previous owners   66         0      Black  ...   \n",
       "1       2017-03-01   1 previous owner  141         3        Red  ...   \n",
       "2       2016-02-01   1 previous owner   85         0      Black  ...   \n",
       "3       2016-08-01   1 previous owner   66         0      Brown  ...   \n",
       "4       2016-05-01   1 previous owner   66         0      Black  ...   \n",
       "...            ...                ...  ...       ...        ...  ...   \n",
       "15914   2019-04-01  no previous owner  147        36       Grey  ...   \n",
       "15915   2018-10-01   1 previous owner  165        22       Grey  ...   \n",
       "15916   2019-03-01  no previous owner  146        27      White  ...   \n",
       "15917   2019-06-01  no previous owner  147        30       Grey  ...   \n",
       "15918   2019-01-01  no previous owner  165        25       Grey  ...   \n",
       "\n",
       "      Lane departure warning system Night view assist Passenger-side airbag  \\\n",
       "0                                 0                 0                     1   \n",
       "1                                 0                 0                     1   \n",
       "2                                 0                 0                     1   \n",
       "3                                 0                 0                     1   \n",
       "4                                 0                 0                     1   \n",
       "...                             ...               ...                   ...   \n",
       "15914                             1                 0                     1   \n",
       "15915                             1                 0                     1   \n",
       "15916                             1                 0                     1   \n",
       "15917                             0                 0                     1   \n",
       "15918                             0                 0                     1   \n",
       "\n",
       "      Power steering Rear airbag Side airbag  Tire pressure monitoring system  \\\n",
       "0                  1           0           1                                1   \n",
       "1                  1           0           1                                1   \n",
       "2                  1           0           1                                1   \n",
       "3                  1           0           1                                1   \n",
       "4                  1           0           1                                1   \n",
       "...              ...         ...         ...                              ...   \n",
       "15914              1           1           1                                1   \n",
       "15915              1           0           1                                1   \n",
       "15916              1           0           1                                0   \n",
       "15917              1           0           1                                1   \n",
       "15918              1           0           1                                1   \n",
       "\n",
       "      Traction control  Traffic sign recognition Xenon headlights  \n",
       "0                    1                         0                1  \n",
       "1                    1                         0                1  \n",
       "2                    1                         0                0  \n",
       "3                    0                         0                0  \n",
       "4                    1                         0                1  \n",
       "...                ...                       ...              ...  \n",
       "15914                1                         1                0  \n",
       "15915                1                         1                0  \n",
       "15916                1                         1                0  \n",
       "15917                0                         1                0  \n",
       "15918                0                         1                0  \n",
       "\n",
       "[15919 rows x 123 columns]"
      ]
     },
     "execution_count": 359,
     "metadata": {},
     "output_type": "execute_result"
    }
   ],
   "source": [
    "cars_new"
   ]
  },
  {
   "cell_type": "code",
   "execution_count": 360,
   "metadata": {},
   "outputs": [
    {
     "data": {
      "text/plain": [
       "0        735964\n",
       "1        736389\n",
       "2        735995\n",
       "3        736177\n",
       "4        736085\n",
       "          ...  \n",
       "15914    737150\n",
       "15915    736968\n",
       "15916    737119\n",
       "15917    737211\n",
       "15918    737060\n",
       "Name: registration, Length: 15919, dtype: int64"
      ]
     },
     "execution_count": 360,
     "metadata": {},
     "output_type": "execute_result"
    }
   ],
   "source": [
    "cars_new.registration.apply(lambda x: x.toordinal())"
   ]
  },
  {
   "cell_type": "code",
   "execution_count": 361,
   "metadata": {},
   "outputs": [],
   "source": [
    "cars_new[\"registration\"] = cars_new.registration.apply(lambda x: x.toordinal())\n",
    "# registration column was converted to numeric"
   ]
  },
  {
   "cell_type": "code",
   "execution_count": 362,
   "metadata": {},
   "outputs": [],
   "source": [
    "cars_new = pd.get_dummies(cars_new) # categorical columns converted to numeric"
   ]
  },
  {
   "cell_type": "code",
   "execution_count": 363,
   "metadata": {},
   "outputs": [
    {
     "data": {
      "text/html": [
       "<div>\n",
       "<style scoped>\n",
       "    .dataframe tbody tr th:only-of-type {\n",
       "        vertical-align: middle;\n",
       "    }\n",
       "\n",
       "    .dataframe tbody tr th {\n",
       "        vertical-align: top;\n",
       "    }\n",
       "\n",
       "    .dataframe thead th {\n",
       "        text-align: right;\n",
       "    }\n",
       "</style>\n",
       "<table border=\"1\" class=\"dataframe\">\n",
       "  <thead>\n",
       "    <tr style=\"text-align: right;\">\n",
       "      <th></th>\n",
       "      <th>price</th>\n",
       "      <th>km</th>\n",
       "      <th>registration</th>\n",
       "      <th>hp</th>\n",
       "      <th>Warranty</th>\n",
       "      <th>Weight</th>\n",
       "      <th>CO2 Emission</th>\n",
       "      <th>comb</th>\n",
       "      <th>city</th>\n",
       "      <th>country</th>\n",
       "      <th>...</th>\n",
       "      <th>upholstery_type_Part leather</th>\n",
       "      <th>upholstery_color_ Beige</th>\n",
       "      <th>upholstery_color_ Black</th>\n",
       "      <th>upholstery_color_ Blue</th>\n",
       "      <th>upholstery_color_ Brown</th>\n",
       "      <th>upholstery_color_ Grey</th>\n",
       "      <th>upholstery_color_ Orange</th>\n",
       "      <th>upholstery_color_ Other</th>\n",
       "      <th>upholstery_color_ Red</th>\n",
       "      <th>upholstery_color_ White</th>\n",
       "    </tr>\n",
       "  </thead>\n",
       "  <tbody>\n",
       "    <tr>\n",
       "      <th>0</th>\n",
       "      <td>9.665865</td>\n",
       "      <td>56013</td>\n",
       "      <td>735964</td>\n",
       "      <td>66</td>\n",
       "      <td>0</td>\n",
       "      <td>7.106606</td>\n",
       "      <td>4.595120</td>\n",
       "      <td>3.8</td>\n",
       "      <td>4.3</td>\n",
       "      <td>3.5</td>\n",
       "      <td>...</td>\n",
       "      <td>0</td>\n",
       "      <td>0</td>\n",
       "      <td>1</td>\n",
       "      <td>0</td>\n",
       "      <td>0</td>\n",
       "      <td>0</td>\n",
       "      <td>0</td>\n",
       "      <td>0</td>\n",
       "      <td>0</td>\n",
       "      <td>0</td>\n",
       "    </tr>\n",
       "    <tr>\n",
       "      <th>1</th>\n",
       "      <td>9.581904</td>\n",
       "      <td>80000</td>\n",
       "      <td>736389</td>\n",
       "      <td>141</td>\n",
       "      <td>3</td>\n",
       "      <td>7.134891</td>\n",
       "      <td>4.859812</td>\n",
       "      <td>5.6</td>\n",
       "      <td>7.1</td>\n",
       "      <td>4.7</td>\n",
       "      <td>...</td>\n",
       "      <td>0</td>\n",
       "      <td>0</td>\n",
       "      <td>0</td>\n",
       "      <td>0</td>\n",
       "      <td>0</td>\n",
       "      <td>1</td>\n",
       "      <td>0</td>\n",
       "      <td>0</td>\n",
       "      <td>0</td>\n",
       "      <td>0</td>\n",
       "    </tr>\n",
       "    <tr>\n",
       "      <th>2</th>\n",
       "      <td>9.591513</td>\n",
       "      <td>83450</td>\n",
       "      <td>735995</td>\n",
       "      <td>85</td>\n",
       "      <td>0</td>\n",
       "      <td>7.060476</td>\n",
       "      <td>4.595120</td>\n",
       "      <td>3.8</td>\n",
       "      <td>4.4</td>\n",
       "      <td>3.4</td>\n",
       "      <td>...</td>\n",
       "      <td>0</td>\n",
       "      <td>0</td>\n",
       "      <td>1</td>\n",
       "      <td>0</td>\n",
       "      <td>0</td>\n",
       "      <td>0</td>\n",
       "      <td>0</td>\n",
       "      <td>0</td>\n",
       "      <td>0</td>\n",
       "      <td>0</td>\n",
       "    </tr>\n",
       "    <tr>\n",
       "      <th>3</th>\n",
       "      <td>9.581904</td>\n",
       "      <td>73000</td>\n",
       "      <td>736177</td>\n",
       "      <td>66</td>\n",
       "      <td>0</td>\n",
       "      <td>7.085901</td>\n",
       "      <td>4.595120</td>\n",
       "      <td>3.8</td>\n",
       "      <td>4.3</td>\n",
       "      <td>3.5</td>\n",
       "      <td>...</td>\n",
       "      <td>0</td>\n",
       "      <td>0</td>\n",
       "      <td>1</td>\n",
       "      <td>0</td>\n",
       "      <td>0</td>\n",
       "      <td>0</td>\n",
       "      <td>0</td>\n",
       "      <td>0</td>\n",
       "      <td>0</td>\n",
       "      <td>0</td>\n",
       "    </tr>\n",
       "    <tr>\n",
       "      <th>4</th>\n",
       "      <td>9.728539</td>\n",
       "      <td>16200</td>\n",
       "      <td>736085</td>\n",
       "      <td>66</td>\n",
       "      <td>0</td>\n",
       "      <td>7.060476</td>\n",
       "      <td>4.691348</td>\n",
       "      <td>4.1</td>\n",
       "      <td>4.6</td>\n",
       "      <td>3.8</td>\n",
       "      <td>...</td>\n",
       "      <td>0</td>\n",
       "      <td>0</td>\n",
       "      <td>1</td>\n",
       "      <td>0</td>\n",
       "      <td>0</td>\n",
       "      <td>0</td>\n",
       "      <td>0</td>\n",
       "      <td>0</td>\n",
       "      <td>0</td>\n",
       "      <td>0</td>\n",
       "    </tr>\n",
       "  </tbody>\n",
       "</table>\n",
       "<p>5 rows × 208 columns</p>\n",
       "</div>"
      ],
      "text/plain": [
       "      price     km  registration   hp  Warranty    Weight  CO2 Emission  comb  \\\n",
       "0  9.665865  56013        735964   66         0  7.106606      4.595120   3.8   \n",
       "1  9.581904  80000        736389  141         3  7.134891      4.859812   5.6   \n",
       "2  9.591513  83450        735995   85         0  7.060476      4.595120   3.8   \n",
       "3  9.581904  73000        736177   66         0  7.085901      4.595120   3.8   \n",
       "4  9.728539  16200        736085   66         0  7.060476      4.691348   4.1   \n",
       "\n",
       "   city  country  ...  upholstery_type_Part leather  upholstery_color_ Beige  \\\n",
       "0   4.3      3.5  ...                             0                        0   \n",
       "1   7.1      4.7  ...                             0                        0   \n",
       "2   4.4      3.4  ...                             0                        0   \n",
       "3   4.3      3.5  ...                             0                        0   \n",
       "4   4.6      3.8  ...                             0                        0   \n",
       "\n",
       "   upholstery_color_ Black  upholstery_color_ Blue  upholstery_color_ Brown  \\\n",
       "0                        1                       0                        0   \n",
       "1                        0                       0                        0   \n",
       "2                        1                       0                        0   \n",
       "3                        1                       0                        0   \n",
       "4                        1                       0                        0   \n",
       "\n",
       "   upholstery_color_ Grey  upholstery_color_ Orange  upholstery_color_ Other  \\\n",
       "0                       0                         0                        0   \n",
       "1                       1                         0                        0   \n",
       "2                       0                         0                        0   \n",
       "3                       0                         0                        0   \n",
       "4                       0                         0                        0   \n",
       "\n",
       "   upholstery_color_ Red  upholstery_color_ White  \n",
       "0                      0                        0  \n",
       "1                      0                        0  \n",
       "2                      0                        0  \n",
       "3                      0                        0  \n",
       "4                      0                        0  \n",
       "\n",
       "[5 rows x 208 columns]"
      ]
     },
     "execution_count": 363,
     "metadata": {},
     "output_type": "execute_result"
    }
   ],
   "source": [
    "cars_new.head()"
   ]
  },
  {
   "cell_type": "code",
   "execution_count": 364,
   "metadata": {},
   "outputs": [
    {
     "data": {
      "text/plain": [
       "(15919, 208)"
      ]
     },
     "execution_count": 364,
     "metadata": {},
     "output_type": "execute_result"
    }
   ],
   "source": [
    "cars_new.shape"
   ]
  },
  {
   "cell_type": "code",
   "execution_count": 365,
   "metadata": {},
   "outputs": [
    {
     "name": "stdout",
     "output_type": "stream",
     "text": [
      "<class 'pandas.core.frame.DataFrame'>\n",
      "RangeIndex: 15919 entries, 0 to 15918\n",
      "Columns: 208 entries, price to upholstery_color_ White\n",
      "dtypes: float64(6), int32(2), int64(97), uint8(103)\n",
      "memory usage: 14.2 MB\n"
     ]
    }
   ],
   "source": [
    "cars_new.info()"
   ]
  },
  {
   "cell_type": "code",
   "execution_count": 366,
   "metadata": {},
   "outputs": [
    {
     "data": {
      "text/plain": [
       "0"
      ]
     },
     "execution_count": 366,
     "metadata": {},
     "output_type": "execute_result"
    }
   ],
   "source": [
    "cars_new.isnull().sum().sum()"
   ]
  },
  {
   "cell_type": "code",
   "execution_count": 367,
   "metadata": {},
   "outputs": [],
   "source": [
    "cars_new.to_csv(\"cars_new2.csv\", index = False)"
   ]
  },
  {
   "cell_type": "code",
   "execution_count": 368,
   "metadata": {},
   "outputs": [
    {
     "data": {
      "text/html": [
       "<div>\n",
       "<style scoped>\n",
       "    .dataframe tbody tr th:only-of-type {\n",
       "        vertical-align: middle;\n",
       "    }\n",
       "\n",
       "    .dataframe tbody tr th {\n",
       "        vertical-align: top;\n",
       "    }\n",
       "\n",
       "    .dataframe thead th {\n",
       "        text-align: right;\n",
       "    }\n",
       "</style>\n",
       "<table border=\"1\" class=\"dataframe\">\n",
       "  <thead>\n",
       "    <tr style=\"text-align: right;\">\n",
       "      <th></th>\n",
       "      <th>price</th>\n",
       "      <th>km</th>\n",
       "      <th>registration</th>\n",
       "      <th>hp</th>\n",
       "      <th>Warranty</th>\n",
       "      <th>Weight</th>\n",
       "      <th>CO2 Emission</th>\n",
       "      <th>comb</th>\n",
       "      <th>city</th>\n",
       "      <th>country</th>\n",
       "      <th>...</th>\n",
       "      <th>upholstery_type_Part leather</th>\n",
       "      <th>upholstery_color_ Beige</th>\n",
       "      <th>upholstery_color_ Black</th>\n",
       "      <th>upholstery_color_ Blue</th>\n",
       "      <th>upholstery_color_ Brown</th>\n",
       "      <th>upholstery_color_ Grey</th>\n",
       "      <th>upholstery_color_ Orange</th>\n",
       "      <th>upholstery_color_ Other</th>\n",
       "      <th>upholstery_color_ Red</th>\n",
       "      <th>upholstery_color_ White</th>\n",
       "    </tr>\n",
       "  </thead>\n",
       "  <tbody>\n",
       "    <tr>\n",
       "      <th>0</th>\n",
       "      <td>9.665865</td>\n",
       "      <td>56013</td>\n",
       "      <td>735964</td>\n",
       "      <td>66</td>\n",
       "      <td>0</td>\n",
       "      <td>7.106606</td>\n",
       "      <td>4.595120</td>\n",
       "      <td>3.8</td>\n",
       "      <td>4.3</td>\n",
       "      <td>3.5</td>\n",
       "      <td>...</td>\n",
       "      <td>0</td>\n",
       "      <td>0</td>\n",
       "      <td>1</td>\n",
       "      <td>0</td>\n",
       "      <td>0</td>\n",
       "      <td>0</td>\n",
       "      <td>0</td>\n",
       "      <td>0</td>\n",
       "      <td>0</td>\n",
       "      <td>0</td>\n",
       "    </tr>\n",
       "    <tr>\n",
       "      <th>1</th>\n",
       "      <td>9.581904</td>\n",
       "      <td>80000</td>\n",
       "      <td>736389</td>\n",
       "      <td>141</td>\n",
       "      <td>3</td>\n",
       "      <td>7.134891</td>\n",
       "      <td>4.859812</td>\n",
       "      <td>5.6</td>\n",
       "      <td>7.1</td>\n",
       "      <td>4.7</td>\n",
       "      <td>...</td>\n",
       "      <td>0</td>\n",
       "      <td>0</td>\n",
       "      <td>0</td>\n",
       "      <td>0</td>\n",
       "      <td>0</td>\n",
       "      <td>1</td>\n",
       "      <td>0</td>\n",
       "      <td>0</td>\n",
       "      <td>0</td>\n",
       "      <td>0</td>\n",
       "    </tr>\n",
       "    <tr>\n",
       "      <th>2</th>\n",
       "      <td>9.591513</td>\n",
       "      <td>83450</td>\n",
       "      <td>735995</td>\n",
       "      <td>85</td>\n",
       "      <td>0</td>\n",
       "      <td>7.060476</td>\n",
       "      <td>4.595120</td>\n",
       "      <td>3.8</td>\n",
       "      <td>4.4</td>\n",
       "      <td>3.4</td>\n",
       "      <td>...</td>\n",
       "      <td>0</td>\n",
       "      <td>0</td>\n",
       "      <td>1</td>\n",
       "      <td>0</td>\n",
       "      <td>0</td>\n",
       "      <td>0</td>\n",
       "      <td>0</td>\n",
       "      <td>0</td>\n",
       "      <td>0</td>\n",
       "      <td>0</td>\n",
       "    </tr>\n",
       "    <tr>\n",
       "      <th>3</th>\n",
       "      <td>9.581904</td>\n",
       "      <td>73000</td>\n",
       "      <td>736177</td>\n",
       "      <td>66</td>\n",
       "      <td>0</td>\n",
       "      <td>7.085901</td>\n",
       "      <td>4.595120</td>\n",
       "      <td>3.8</td>\n",
       "      <td>4.3</td>\n",
       "      <td>3.5</td>\n",
       "      <td>...</td>\n",
       "      <td>0</td>\n",
       "      <td>0</td>\n",
       "      <td>1</td>\n",
       "      <td>0</td>\n",
       "      <td>0</td>\n",
       "      <td>0</td>\n",
       "      <td>0</td>\n",
       "      <td>0</td>\n",
       "      <td>0</td>\n",
       "      <td>0</td>\n",
       "    </tr>\n",
       "    <tr>\n",
       "      <th>4</th>\n",
       "      <td>9.728539</td>\n",
       "      <td>16200</td>\n",
       "      <td>736085</td>\n",
       "      <td>66</td>\n",
       "      <td>0</td>\n",
       "      <td>7.060476</td>\n",
       "      <td>4.691348</td>\n",
       "      <td>4.1</td>\n",
       "      <td>4.6</td>\n",
       "      <td>3.8</td>\n",
       "      <td>...</td>\n",
       "      <td>0</td>\n",
       "      <td>0</td>\n",
       "      <td>1</td>\n",
       "      <td>0</td>\n",
       "      <td>0</td>\n",
       "      <td>0</td>\n",
       "      <td>0</td>\n",
       "      <td>0</td>\n",
       "      <td>0</td>\n",
       "      <td>0</td>\n",
       "    </tr>\n",
       "  </tbody>\n",
       "</table>\n",
       "<p>5 rows × 208 columns</p>\n",
       "</div>"
      ],
      "text/plain": [
       "      price     km  registration   hp  Warranty    Weight  CO2 Emission  comb  \\\n",
       "0  9.665865  56013        735964   66         0  7.106606      4.595120   3.8   \n",
       "1  9.581904  80000        736389  141         3  7.134891      4.859812   5.6   \n",
       "2  9.591513  83450        735995   85         0  7.060476      4.595120   3.8   \n",
       "3  9.581904  73000        736177   66         0  7.085901      4.595120   3.8   \n",
       "4  9.728539  16200        736085   66         0  7.060476      4.691348   4.1   \n",
       "\n",
       "   city  country  ...  upholstery_type_Part leather  upholstery_color_ Beige  \\\n",
       "0   4.3      3.5  ...                             0                        0   \n",
       "1   7.1      4.7  ...                             0                        0   \n",
       "2   4.4      3.4  ...                             0                        0   \n",
       "3   4.3      3.5  ...                             0                        0   \n",
       "4   4.6      3.8  ...                             0                        0   \n",
       "\n",
       "   upholstery_color_ Black  upholstery_color_ Blue  upholstery_color_ Brown  \\\n",
       "0                        1                       0                        0   \n",
       "1                        0                       0                        0   \n",
       "2                        1                       0                        0   \n",
       "3                        1                       0                        0   \n",
       "4                        1                       0                        0   \n",
       "\n",
       "   upholstery_color_ Grey  upholstery_color_ Orange  upholstery_color_ Other  \\\n",
       "0                       0                         0                        0   \n",
       "1                       1                         0                        0   \n",
       "2                       0                         0                        0   \n",
       "3                       0                         0                        0   \n",
       "4                       0                         0                        0   \n",
       "\n",
       "   upholstery_color_ Red  upholstery_color_ White  \n",
       "0                      0                        0  \n",
       "1                      0                        0  \n",
       "2                      0                        0  \n",
       "3                      0                        0  \n",
       "4                      0                        0  \n",
       "\n",
       "[5 rows x 208 columns]"
      ]
     },
     "execution_count": 368,
     "metadata": {},
     "output_type": "execute_result"
    }
   ],
   "source": [
    "pd.read_csv(\"cars_new2.csv\").head()"
   ]
  }
 ],
 "metadata": {
  "kernelspec": {
   "display_name": "Python 3",
   "language": "python",
   "name": "python3"
  },
  "language_info": {
   "codemirror_mode": {
    "name": "ipython",
    "version": 3
   },
   "file_extension": ".py",
   "mimetype": "text/x-python",
   "name": "python",
   "nbconvert_exporter": "python",
   "pygments_lexer": "ipython3",
   "version": "3.7.7"
  }
 },
 "nbformat": 4,
 "nbformat_minor": 4
}
