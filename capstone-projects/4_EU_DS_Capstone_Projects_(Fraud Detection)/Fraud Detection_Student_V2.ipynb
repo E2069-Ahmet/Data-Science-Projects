{
 "cells": [
  {
   "cell_type": "markdown",
   "metadata": {
    "id": "jx3Ut_rjMuHR"
   },
   "source": [
    "___\n",
    "\n",
    "<p style=\"text-align: center;\"><img src=\"https://docs.google.com/uc?id=1lY0Uj5R04yMY3-ZppPWxqCr5pvBLYPnV\" class=\"img-fluid\" alt=\"CLRSWY\"></p>\n",
    "\n",
    "___"
   ]
  },
  {
   "cell_type": "markdown",
   "metadata": {
    "id": "-24P_wByMuHX"
   },
   "source": [
    "# WELCOME!"
   ]
  },
  {
   "cell_type": "markdown",
   "metadata": {
    "id": "Ow9AD-4vMuHX"
   },
   "source": [
    "Welcome to \"***Fraud Detection Project***\". This is the last project of the Capstone Series.\n",
    "\n",
    "One of the challenges in this project is the absence of domain knowledge. So without knowing what the column names are, you will only be interested in their values. The other one is the class frequencies of the target variable are quite imbalanced.\n",
    "\n",
    "You will implement ***Logistic Regression, Random Forest, Neural Network*** algorithms and ***SMOTE*** technique. Also visualize performances of the models using ***Seaborn, Matplotlib*** and ***Yellowbrick*** in a variety of ways.\n",
    "\n",
    "At the end of the project, you will have the opportunity to deploy your model by ***Flask API***.\n",
    "\n",
    "Before diving into the project, please take a look at the Determines and Tasks.\n",
    "\n",
    "- ***NOTE:*** *This tutorial assumes that you already know the basics of coding in Python and are familiar with model deployement (flask api) as well as the theory behind Logistic Regression, Random Forest, Neural Network.*\n",
    "\n"
   ]
  },
  {
   "cell_type": "markdown",
   "metadata": {
    "id": "dqbMkIZ-MuHY"
   },
   "source": [
    "---\n",
    "---\n"
   ]
  },
  {
   "cell_type": "markdown",
   "metadata": {
    "id": "spCFDhO7MuHY"
   },
   "source": [
    "# #Determines\n",
    "The datasets contains transactions made by credit cards in September 2013 by european cardholders. This dataset presents transactions that occurred in two days, where it has **492 frauds** out of **284,807** transactions. The dataset is **highly unbalanced**, the positive class (frauds) account for 0.172% of all transactions.\n",
    "\n",
    "**Feature Information:**\n",
    "\n",
    "**Time**: This feature is contains the seconds elapsed between each transaction and the first transaction in the dataset. \n",
    "\n",
    "**Amount**:  This feature is the transaction Amount, can be used for example-dependant cost-senstive learning. \n",
    "\n",
    "**Class**: This feature is the target variable and it takes value 1 in case of fraud and 0 otherwise.\n",
    "\n",
    "---\n",
    "\n",
    "The aim of this project is to predict whether a credit card transaction is fraudulent. Of course, this is not easy to do.\n",
    "First of all, you need to analyze and recognize your data well in order to draw your roadmap and choose the correct arguments you will use. Accordingly, you can examine the frequency distributions of variables. You can observe variable correlations and want to explore multicollinearity. You can show the distribution of the target variable's classes over other variables. \n",
    "Also, it is useful to take missing values and outliers.\n",
    "\n",
    "After these procedures, you can move on to the model building stage by doing the basic data pre-processing you are familiar with. \n",
    "\n",
    "Start with Logistic Regression and evaluate model performance. You will apply the SMOTE technique used to increase the sample for unbalanced data. Next, rebuild your Logistic Regression model with SMOTE applied data to observe its effect.\n",
    "\n",
    "Then, you will use three different algorithms in the model building phase. You have applied Logistic Regression and Random Forest in your previous projects. However, the Deep Learning Neural Network algorithm will appear for the first time.\n",
    "\n",
    "In the final step, you will deploy your model using ***Flask API***."
   ]
  },
  {
   "cell_type": "markdown",
   "metadata": {
    "id": "YOl6z9mXMuHY"
   },
   "source": [
    "---\n",
    "---\n"
   ]
  },
  {
   "cell_type": "markdown",
   "metadata": {
    "id": "1o6X3hLLMuHZ"
   },
   "source": [
    "# #Tasks\n",
    "\n",
    "#### 1. Exploratory Data Analysis & Data Cleaning\n",
    "\n",
    "- Import Modules, Load Data & Data Review\n",
    "- Exploratory Data Analysis\n",
    "- Data Cleaning\n",
    "\n",
    "\n",
    "\n",
    "    \n",
    "#### 2. Data Preprocessing\n",
    "\n",
    "- Scaling\n",
    "- Train - Test Split\n",
    "\n",
    "\n",
    "#### 3. Model Building\n",
    "\n",
    "- Logistic Regression without SMOTE\n",
    "- Apply SMOTE\n",
    "- Logistic Regression with SMOTE\n",
    "- Random Forest Classifier with SMOTE\n",
    "- Neural Network\n",
    "\n",
    "#### 4. Model Deployement\n",
    "\n",
    "- Save and Export the Model as .pkl\n",
    "- Save and Export Variables as .pkl \n",
    "\n",
    "\n"
   ]
  },
  {
   "cell_type": "markdown",
   "metadata": {
    "id": "9sDSWJywMuHZ"
   },
   "source": [
    "---\n",
    "---\n"
   ]
  },
  {
   "cell_type": "markdown",
   "metadata": {
    "id": "fbFMU3AdMuHZ"
   },
   "source": [
    "## 1. Exploratory Data Analysis & Data Cleaning"
   ]
  },
  {
   "cell_type": "markdown",
   "metadata": {
    "id": "5nmI08_GMuHZ"
   },
   "source": [
    "### Import Modules, Load Data & Data Review"
   ]
  },
  {
   "cell_type": "code",
   "execution_count": 1,
   "metadata": {
    "id": "yKZtJybfMuHa"
   },
   "outputs": [],
   "source": [
    "import numpy as np\n",
    "import pandas as pd\n",
    "import statsmodels.api as sm\n",
    "import seaborn as sns\n",
    "import matplotlib.pyplot as plt\n",
    "import warnings\n",
    "warnings.filterwarnings(\"ignore\")\n",
    "from scipy.stats import zscore\n",
    "from scipy import stats\n",
    "from sklearn.preprocessing import scale, StandardScaler\n",
    "from sklearn.model_selection import train_test_split, GridSearchCV, cross_val_score\n",
    "from sklearn.metrics import confusion_matrix, accuracy_score, mean_squared_error, r2_score, roc_auc_score, roc_curve, classification_report"
   ]
  },
  {
   "cell_type": "code",
   "execution_count": 2,
   "metadata": {},
   "outputs": [],
   "source": [
    "df = pd.read_csv(\"creditcard.csv\")"
   ]
  },
  {
   "cell_type": "code",
   "execution_count": 3,
   "metadata": {},
   "outputs": [
    {
     "data": {
      "text/html": [
       "<div>\n",
       "<style scoped>\n",
       "    .dataframe tbody tr th:only-of-type {\n",
       "        vertical-align: middle;\n",
       "    }\n",
       "\n",
       "    .dataframe tbody tr th {\n",
       "        vertical-align: top;\n",
       "    }\n",
       "\n",
       "    .dataframe thead th {\n",
       "        text-align: right;\n",
       "    }\n",
       "</style>\n",
       "<table border=\"1\" class=\"dataframe\">\n",
       "  <thead>\n",
       "    <tr style=\"text-align: right;\">\n",
       "      <th></th>\n",
       "      <th>Time</th>\n",
       "      <th>V1</th>\n",
       "      <th>V2</th>\n",
       "      <th>V3</th>\n",
       "      <th>V4</th>\n",
       "      <th>V5</th>\n",
       "      <th>V6</th>\n",
       "      <th>V7</th>\n",
       "      <th>V8</th>\n",
       "      <th>V9</th>\n",
       "      <th>...</th>\n",
       "      <th>V21</th>\n",
       "      <th>V22</th>\n",
       "      <th>V23</th>\n",
       "      <th>V24</th>\n",
       "      <th>V25</th>\n",
       "      <th>V26</th>\n",
       "      <th>V27</th>\n",
       "      <th>V28</th>\n",
       "      <th>Amount</th>\n",
       "      <th>Class</th>\n",
       "    </tr>\n",
       "  </thead>\n",
       "  <tbody>\n",
       "    <tr>\n",
       "      <th>0</th>\n",
       "      <td>0.0</td>\n",
       "      <td>-1.359807</td>\n",
       "      <td>-0.072781</td>\n",
       "      <td>2.536347</td>\n",
       "      <td>1.378155</td>\n",
       "      <td>-0.338321</td>\n",
       "      <td>0.462388</td>\n",
       "      <td>0.239599</td>\n",
       "      <td>0.098698</td>\n",
       "      <td>0.363787</td>\n",
       "      <td>...</td>\n",
       "      <td>-0.018307</td>\n",
       "      <td>0.277838</td>\n",
       "      <td>-0.110474</td>\n",
       "      <td>0.066928</td>\n",
       "      <td>0.128539</td>\n",
       "      <td>-0.189115</td>\n",
       "      <td>0.133558</td>\n",
       "      <td>-0.021053</td>\n",
       "      <td>149.62</td>\n",
       "      <td>0</td>\n",
       "    </tr>\n",
       "    <tr>\n",
       "      <th>1</th>\n",
       "      <td>0.0</td>\n",
       "      <td>1.191857</td>\n",
       "      <td>0.266151</td>\n",
       "      <td>0.166480</td>\n",
       "      <td>0.448154</td>\n",
       "      <td>0.060018</td>\n",
       "      <td>-0.082361</td>\n",
       "      <td>-0.078803</td>\n",
       "      <td>0.085102</td>\n",
       "      <td>-0.255425</td>\n",
       "      <td>...</td>\n",
       "      <td>-0.225775</td>\n",
       "      <td>-0.638672</td>\n",
       "      <td>0.101288</td>\n",
       "      <td>-0.339846</td>\n",
       "      <td>0.167170</td>\n",
       "      <td>0.125895</td>\n",
       "      <td>-0.008983</td>\n",
       "      <td>0.014724</td>\n",
       "      <td>2.69</td>\n",
       "      <td>0</td>\n",
       "    </tr>\n",
       "    <tr>\n",
       "      <th>2</th>\n",
       "      <td>1.0</td>\n",
       "      <td>-1.358354</td>\n",
       "      <td>-1.340163</td>\n",
       "      <td>1.773209</td>\n",
       "      <td>0.379780</td>\n",
       "      <td>-0.503198</td>\n",
       "      <td>1.800499</td>\n",
       "      <td>0.791461</td>\n",
       "      <td>0.247676</td>\n",
       "      <td>-1.514654</td>\n",
       "      <td>...</td>\n",
       "      <td>0.247998</td>\n",
       "      <td>0.771679</td>\n",
       "      <td>0.909412</td>\n",
       "      <td>-0.689281</td>\n",
       "      <td>-0.327642</td>\n",
       "      <td>-0.139097</td>\n",
       "      <td>-0.055353</td>\n",
       "      <td>-0.059752</td>\n",
       "      <td>378.66</td>\n",
       "      <td>0</td>\n",
       "    </tr>\n",
       "    <tr>\n",
       "      <th>3</th>\n",
       "      <td>1.0</td>\n",
       "      <td>-0.966272</td>\n",
       "      <td>-0.185226</td>\n",
       "      <td>1.792993</td>\n",
       "      <td>-0.863291</td>\n",
       "      <td>-0.010309</td>\n",
       "      <td>1.247203</td>\n",
       "      <td>0.237609</td>\n",
       "      <td>0.377436</td>\n",
       "      <td>-1.387024</td>\n",
       "      <td>...</td>\n",
       "      <td>-0.108300</td>\n",
       "      <td>0.005274</td>\n",
       "      <td>-0.190321</td>\n",
       "      <td>-1.175575</td>\n",
       "      <td>0.647376</td>\n",
       "      <td>-0.221929</td>\n",
       "      <td>0.062723</td>\n",
       "      <td>0.061458</td>\n",
       "      <td>123.50</td>\n",
       "      <td>0</td>\n",
       "    </tr>\n",
       "    <tr>\n",
       "      <th>4</th>\n",
       "      <td>2.0</td>\n",
       "      <td>-1.158233</td>\n",
       "      <td>0.877737</td>\n",
       "      <td>1.548718</td>\n",
       "      <td>0.403034</td>\n",
       "      <td>-0.407193</td>\n",
       "      <td>0.095921</td>\n",
       "      <td>0.592941</td>\n",
       "      <td>-0.270533</td>\n",
       "      <td>0.817739</td>\n",
       "      <td>...</td>\n",
       "      <td>-0.009431</td>\n",
       "      <td>0.798278</td>\n",
       "      <td>-0.137458</td>\n",
       "      <td>0.141267</td>\n",
       "      <td>-0.206010</td>\n",
       "      <td>0.502292</td>\n",
       "      <td>0.219422</td>\n",
       "      <td>0.215153</td>\n",
       "      <td>69.99</td>\n",
       "      <td>0</td>\n",
       "    </tr>\n",
       "  </tbody>\n",
       "</table>\n",
       "<p>5 rows × 31 columns</p>\n",
       "</div>"
      ],
      "text/plain": [
       "   Time        V1        V2        V3        V4        V5        V6        V7  \\\n",
       "0   0.0 -1.359807 -0.072781  2.536347  1.378155 -0.338321  0.462388  0.239599   \n",
       "1   0.0  1.191857  0.266151  0.166480  0.448154  0.060018 -0.082361 -0.078803   \n",
       "2   1.0 -1.358354 -1.340163  1.773209  0.379780 -0.503198  1.800499  0.791461   \n",
       "3   1.0 -0.966272 -0.185226  1.792993 -0.863291 -0.010309  1.247203  0.237609   \n",
       "4   2.0 -1.158233  0.877737  1.548718  0.403034 -0.407193  0.095921  0.592941   \n",
       "\n",
       "         V8        V9  ...       V21       V22       V23       V24       V25  \\\n",
       "0  0.098698  0.363787  ... -0.018307  0.277838 -0.110474  0.066928  0.128539   \n",
       "1  0.085102 -0.255425  ... -0.225775 -0.638672  0.101288 -0.339846  0.167170   \n",
       "2  0.247676 -1.514654  ...  0.247998  0.771679  0.909412 -0.689281 -0.327642   \n",
       "3  0.377436 -1.387024  ... -0.108300  0.005274 -0.190321 -1.175575  0.647376   \n",
       "4 -0.270533  0.817739  ... -0.009431  0.798278 -0.137458  0.141267 -0.206010   \n",
       "\n",
       "        V26       V27       V28  Amount  Class  \n",
       "0 -0.189115  0.133558 -0.021053  149.62      0  \n",
       "1  0.125895 -0.008983  0.014724    2.69      0  \n",
       "2 -0.139097 -0.055353 -0.059752  378.66      0  \n",
       "3 -0.221929  0.062723  0.061458  123.50      0  \n",
       "4  0.502292  0.219422  0.215153   69.99      0  \n",
       "\n",
       "[5 rows x 31 columns]"
      ]
     },
     "execution_count": 3,
     "metadata": {},
     "output_type": "execute_result"
    }
   ],
   "source": [
    "df.head()"
   ]
  },
  {
   "cell_type": "markdown",
   "metadata": {
    "id": "K22reBkbMuHa"
   },
   "source": [
    "### Exploratory Data Analysis"
   ]
  },
  {
   "cell_type": "code",
   "execution_count": 4,
   "metadata": {
    "id": "2_yeQU4WJQ0D"
   },
   "outputs": [
    {
     "name": "stdout",
     "output_type": "stream",
     "text": [
      "<class 'pandas.core.frame.DataFrame'>\n",
      "RangeIndex: 284807 entries, 0 to 284806\n",
      "Data columns (total 31 columns):\n",
      " #   Column  Non-Null Count   Dtype  \n",
      "---  ------  --------------   -----  \n",
      " 0   Time    284807 non-null  float64\n",
      " 1   V1      284807 non-null  float64\n",
      " 2   V2      284807 non-null  float64\n",
      " 3   V3      284807 non-null  float64\n",
      " 4   V4      284807 non-null  float64\n",
      " 5   V5      284807 non-null  float64\n",
      " 6   V6      284807 non-null  float64\n",
      " 7   V7      284807 non-null  float64\n",
      " 8   V8      284807 non-null  float64\n",
      " 9   V9      284807 non-null  float64\n",
      " 10  V10     284807 non-null  float64\n",
      " 11  V11     284807 non-null  float64\n",
      " 12  V12     284807 non-null  float64\n",
      " 13  V13     284807 non-null  float64\n",
      " 14  V14     284807 non-null  float64\n",
      " 15  V15     284807 non-null  float64\n",
      " 16  V16     284807 non-null  float64\n",
      " 17  V17     284807 non-null  float64\n",
      " 18  V18     284807 non-null  float64\n",
      " 19  V19     284807 non-null  float64\n",
      " 20  V20     284807 non-null  float64\n",
      " 21  V21     284807 non-null  float64\n",
      " 22  V22     284807 non-null  float64\n",
      " 23  V23     284807 non-null  float64\n",
      " 24  V24     284807 non-null  float64\n",
      " 25  V25     284807 non-null  float64\n",
      " 26  V26     284807 non-null  float64\n",
      " 27  V27     284807 non-null  float64\n",
      " 28  V28     284807 non-null  float64\n",
      " 29  Amount  284807 non-null  float64\n",
      " 30  Class   284807 non-null  int64  \n",
      "dtypes: float64(30), int64(1)\n",
      "memory usage: 67.4 MB\n"
     ]
    }
   ],
   "source": [
    "df.info()"
   ]
  },
  {
   "cell_type": "code",
   "execution_count": 5,
   "metadata": {},
   "outputs": [
    {
     "data": {
      "text/html": [
       "<div>\n",
       "<style scoped>\n",
       "    .dataframe tbody tr th:only-of-type {\n",
       "        vertical-align: middle;\n",
       "    }\n",
       "\n",
       "    .dataframe tbody tr th {\n",
       "        vertical-align: top;\n",
       "    }\n",
       "\n",
       "    .dataframe thead th {\n",
       "        text-align: right;\n",
       "    }\n",
       "</style>\n",
       "<table border=\"1\" class=\"dataframe\">\n",
       "  <thead>\n",
       "    <tr style=\"text-align: right;\">\n",
       "      <th></th>\n",
       "      <th>Time</th>\n",
       "      <th>V1</th>\n",
       "      <th>V2</th>\n",
       "      <th>V3</th>\n",
       "      <th>V4</th>\n",
       "      <th>V5</th>\n",
       "      <th>V6</th>\n",
       "      <th>V7</th>\n",
       "      <th>V8</th>\n",
       "      <th>V9</th>\n",
       "      <th>...</th>\n",
       "      <th>V21</th>\n",
       "      <th>V22</th>\n",
       "      <th>V23</th>\n",
       "      <th>V24</th>\n",
       "      <th>V25</th>\n",
       "      <th>V26</th>\n",
       "      <th>V27</th>\n",
       "      <th>V28</th>\n",
       "      <th>Amount</th>\n",
       "      <th>Class</th>\n",
       "    </tr>\n",
       "  </thead>\n",
       "  <tbody>\n",
       "    <tr>\n",
       "      <th>count</th>\n",
       "      <td>284807.000000</td>\n",
       "      <td>2.848070e+05</td>\n",
       "      <td>2.848070e+05</td>\n",
       "      <td>2.848070e+05</td>\n",
       "      <td>2.848070e+05</td>\n",
       "      <td>2.848070e+05</td>\n",
       "      <td>2.848070e+05</td>\n",
       "      <td>2.848070e+05</td>\n",
       "      <td>2.848070e+05</td>\n",
       "      <td>2.848070e+05</td>\n",
       "      <td>...</td>\n",
       "      <td>2.848070e+05</td>\n",
       "      <td>2.848070e+05</td>\n",
       "      <td>2.848070e+05</td>\n",
       "      <td>2.848070e+05</td>\n",
       "      <td>2.848070e+05</td>\n",
       "      <td>2.848070e+05</td>\n",
       "      <td>2.848070e+05</td>\n",
       "      <td>2.848070e+05</td>\n",
       "      <td>284807.000000</td>\n",
       "      <td>284807.000000</td>\n",
       "    </tr>\n",
       "    <tr>\n",
       "      <th>mean</th>\n",
       "      <td>94813.859575</td>\n",
       "      <td>3.919560e-15</td>\n",
       "      <td>5.688174e-16</td>\n",
       "      <td>-8.769071e-15</td>\n",
       "      <td>2.782312e-15</td>\n",
       "      <td>-1.552563e-15</td>\n",
       "      <td>2.010663e-15</td>\n",
       "      <td>-1.694249e-15</td>\n",
       "      <td>-1.927028e-16</td>\n",
       "      <td>-3.137024e-15</td>\n",
       "      <td>...</td>\n",
       "      <td>1.537294e-16</td>\n",
       "      <td>7.959909e-16</td>\n",
       "      <td>5.367590e-16</td>\n",
       "      <td>4.458112e-15</td>\n",
       "      <td>1.453003e-15</td>\n",
       "      <td>1.699104e-15</td>\n",
       "      <td>-3.660161e-16</td>\n",
       "      <td>-1.206049e-16</td>\n",
       "      <td>88.349619</td>\n",
       "      <td>0.001727</td>\n",
       "    </tr>\n",
       "    <tr>\n",
       "      <th>std</th>\n",
       "      <td>47488.145955</td>\n",
       "      <td>1.958696e+00</td>\n",
       "      <td>1.651309e+00</td>\n",
       "      <td>1.516255e+00</td>\n",
       "      <td>1.415869e+00</td>\n",
       "      <td>1.380247e+00</td>\n",
       "      <td>1.332271e+00</td>\n",
       "      <td>1.237094e+00</td>\n",
       "      <td>1.194353e+00</td>\n",
       "      <td>1.098632e+00</td>\n",
       "      <td>...</td>\n",
       "      <td>7.345240e-01</td>\n",
       "      <td>7.257016e-01</td>\n",
       "      <td>6.244603e-01</td>\n",
       "      <td>6.056471e-01</td>\n",
       "      <td>5.212781e-01</td>\n",
       "      <td>4.822270e-01</td>\n",
       "      <td>4.036325e-01</td>\n",
       "      <td>3.300833e-01</td>\n",
       "      <td>250.120109</td>\n",
       "      <td>0.041527</td>\n",
       "    </tr>\n",
       "    <tr>\n",
       "      <th>min</th>\n",
       "      <td>0.000000</td>\n",
       "      <td>-5.640751e+01</td>\n",
       "      <td>-7.271573e+01</td>\n",
       "      <td>-4.832559e+01</td>\n",
       "      <td>-5.683171e+00</td>\n",
       "      <td>-1.137433e+02</td>\n",
       "      <td>-2.616051e+01</td>\n",
       "      <td>-4.355724e+01</td>\n",
       "      <td>-7.321672e+01</td>\n",
       "      <td>-1.343407e+01</td>\n",
       "      <td>...</td>\n",
       "      <td>-3.483038e+01</td>\n",
       "      <td>-1.093314e+01</td>\n",
       "      <td>-4.480774e+01</td>\n",
       "      <td>-2.836627e+00</td>\n",
       "      <td>-1.029540e+01</td>\n",
       "      <td>-2.604551e+00</td>\n",
       "      <td>-2.256568e+01</td>\n",
       "      <td>-1.543008e+01</td>\n",
       "      <td>0.000000</td>\n",
       "      <td>0.000000</td>\n",
       "    </tr>\n",
       "    <tr>\n",
       "      <th>25%</th>\n",
       "      <td>54201.500000</td>\n",
       "      <td>-9.203734e-01</td>\n",
       "      <td>-5.985499e-01</td>\n",
       "      <td>-8.903648e-01</td>\n",
       "      <td>-8.486401e-01</td>\n",
       "      <td>-6.915971e-01</td>\n",
       "      <td>-7.682956e-01</td>\n",
       "      <td>-5.540759e-01</td>\n",
       "      <td>-2.086297e-01</td>\n",
       "      <td>-6.430976e-01</td>\n",
       "      <td>...</td>\n",
       "      <td>-2.283949e-01</td>\n",
       "      <td>-5.423504e-01</td>\n",
       "      <td>-1.618463e-01</td>\n",
       "      <td>-3.545861e-01</td>\n",
       "      <td>-3.171451e-01</td>\n",
       "      <td>-3.269839e-01</td>\n",
       "      <td>-7.083953e-02</td>\n",
       "      <td>-5.295979e-02</td>\n",
       "      <td>5.600000</td>\n",
       "      <td>0.000000</td>\n",
       "    </tr>\n",
       "    <tr>\n",
       "      <th>50%</th>\n",
       "      <td>84692.000000</td>\n",
       "      <td>1.810880e-02</td>\n",
       "      <td>6.548556e-02</td>\n",
       "      <td>1.798463e-01</td>\n",
       "      <td>-1.984653e-02</td>\n",
       "      <td>-5.433583e-02</td>\n",
       "      <td>-2.741871e-01</td>\n",
       "      <td>4.010308e-02</td>\n",
       "      <td>2.235804e-02</td>\n",
       "      <td>-5.142873e-02</td>\n",
       "      <td>...</td>\n",
       "      <td>-2.945017e-02</td>\n",
       "      <td>6.781943e-03</td>\n",
       "      <td>-1.119293e-02</td>\n",
       "      <td>4.097606e-02</td>\n",
       "      <td>1.659350e-02</td>\n",
       "      <td>-5.213911e-02</td>\n",
       "      <td>1.342146e-03</td>\n",
       "      <td>1.124383e-02</td>\n",
       "      <td>22.000000</td>\n",
       "      <td>0.000000</td>\n",
       "    </tr>\n",
       "    <tr>\n",
       "      <th>75%</th>\n",
       "      <td>139320.500000</td>\n",
       "      <td>1.315642e+00</td>\n",
       "      <td>8.037239e-01</td>\n",
       "      <td>1.027196e+00</td>\n",
       "      <td>7.433413e-01</td>\n",
       "      <td>6.119264e-01</td>\n",
       "      <td>3.985649e-01</td>\n",
       "      <td>5.704361e-01</td>\n",
       "      <td>3.273459e-01</td>\n",
       "      <td>5.971390e-01</td>\n",
       "      <td>...</td>\n",
       "      <td>1.863772e-01</td>\n",
       "      <td>5.285536e-01</td>\n",
       "      <td>1.476421e-01</td>\n",
       "      <td>4.395266e-01</td>\n",
       "      <td>3.507156e-01</td>\n",
       "      <td>2.409522e-01</td>\n",
       "      <td>9.104512e-02</td>\n",
       "      <td>7.827995e-02</td>\n",
       "      <td>77.165000</td>\n",
       "      <td>0.000000</td>\n",
       "    </tr>\n",
       "    <tr>\n",
       "      <th>max</th>\n",
       "      <td>172792.000000</td>\n",
       "      <td>2.454930e+00</td>\n",
       "      <td>2.205773e+01</td>\n",
       "      <td>9.382558e+00</td>\n",
       "      <td>1.687534e+01</td>\n",
       "      <td>3.480167e+01</td>\n",
       "      <td>7.330163e+01</td>\n",
       "      <td>1.205895e+02</td>\n",
       "      <td>2.000721e+01</td>\n",
       "      <td>1.559499e+01</td>\n",
       "      <td>...</td>\n",
       "      <td>2.720284e+01</td>\n",
       "      <td>1.050309e+01</td>\n",
       "      <td>2.252841e+01</td>\n",
       "      <td>4.584549e+00</td>\n",
       "      <td>7.519589e+00</td>\n",
       "      <td>3.517346e+00</td>\n",
       "      <td>3.161220e+01</td>\n",
       "      <td>3.384781e+01</td>\n",
       "      <td>25691.160000</td>\n",
       "      <td>1.000000</td>\n",
       "    </tr>\n",
       "  </tbody>\n",
       "</table>\n",
       "<p>8 rows × 31 columns</p>\n",
       "</div>"
      ],
      "text/plain": [
       "                Time            V1            V2            V3            V4  \\\n",
       "count  284807.000000  2.848070e+05  2.848070e+05  2.848070e+05  2.848070e+05   \n",
       "mean    94813.859575  3.919560e-15  5.688174e-16 -8.769071e-15  2.782312e-15   \n",
       "std     47488.145955  1.958696e+00  1.651309e+00  1.516255e+00  1.415869e+00   \n",
       "min         0.000000 -5.640751e+01 -7.271573e+01 -4.832559e+01 -5.683171e+00   \n",
       "25%     54201.500000 -9.203734e-01 -5.985499e-01 -8.903648e-01 -8.486401e-01   \n",
       "50%     84692.000000  1.810880e-02  6.548556e-02  1.798463e-01 -1.984653e-02   \n",
       "75%    139320.500000  1.315642e+00  8.037239e-01  1.027196e+00  7.433413e-01   \n",
       "max    172792.000000  2.454930e+00  2.205773e+01  9.382558e+00  1.687534e+01   \n",
       "\n",
       "                 V5            V6            V7            V8            V9  \\\n",
       "count  2.848070e+05  2.848070e+05  2.848070e+05  2.848070e+05  2.848070e+05   \n",
       "mean  -1.552563e-15  2.010663e-15 -1.694249e-15 -1.927028e-16 -3.137024e-15   \n",
       "std    1.380247e+00  1.332271e+00  1.237094e+00  1.194353e+00  1.098632e+00   \n",
       "min   -1.137433e+02 -2.616051e+01 -4.355724e+01 -7.321672e+01 -1.343407e+01   \n",
       "25%   -6.915971e-01 -7.682956e-01 -5.540759e-01 -2.086297e-01 -6.430976e-01   \n",
       "50%   -5.433583e-02 -2.741871e-01  4.010308e-02  2.235804e-02 -5.142873e-02   \n",
       "75%    6.119264e-01  3.985649e-01  5.704361e-01  3.273459e-01  5.971390e-01   \n",
       "max    3.480167e+01  7.330163e+01  1.205895e+02  2.000721e+01  1.559499e+01   \n",
       "\n",
       "       ...           V21           V22           V23           V24  \\\n",
       "count  ...  2.848070e+05  2.848070e+05  2.848070e+05  2.848070e+05   \n",
       "mean   ...  1.537294e-16  7.959909e-16  5.367590e-16  4.458112e-15   \n",
       "std    ...  7.345240e-01  7.257016e-01  6.244603e-01  6.056471e-01   \n",
       "min    ... -3.483038e+01 -1.093314e+01 -4.480774e+01 -2.836627e+00   \n",
       "25%    ... -2.283949e-01 -5.423504e-01 -1.618463e-01 -3.545861e-01   \n",
       "50%    ... -2.945017e-02  6.781943e-03 -1.119293e-02  4.097606e-02   \n",
       "75%    ...  1.863772e-01  5.285536e-01  1.476421e-01  4.395266e-01   \n",
       "max    ...  2.720284e+01  1.050309e+01  2.252841e+01  4.584549e+00   \n",
       "\n",
       "                V25           V26           V27           V28         Amount  \\\n",
       "count  2.848070e+05  2.848070e+05  2.848070e+05  2.848070e+05  284807.000000   \n",
       "mean   1.453003e-15  1.699104e-15 -3.660161e-16 -1.206049e-16      88.349619   \n",
       "std    5.212781e-01  4.822270e-01  4.036325e-01  3.300833e-01     250.120109   \n",
       "min   -1.029540e+01 -2.604551e+00 -2.256568e+01 -1.543008e+01       0.000000   \n",
       "25%   -3.171451e-01 -3.269839e-01 -7.083953e-02 -5.295979e-02       5.600000   \n",
       "50%    1.659350e-02 -5.213911e-02  1.342146e-03  1.124383e-02      22.000000   \n",
       "75%    3.507156e-01  2.409522e-01  9.104512e-02  7.827995e-02      77.165000   \n",
       "max    7.519589e+00  3.517346e+00  3.161220e+01  3.384781e+01   25691.160000   \n",
       "\n",
       "               Class  \n",
       "count  284807.000000  \n",
       "mean        0.001727  \n",
       "std         0.041527  \n",
       "min         0.000000  \n",
       "25%         0.000000  \n",
       "50%         0.000000  \n",
       "75%         0.000000  \n",
       "max         1.000000  \n",
       "\n",
       "[8 rows x 31 columns]"
      ]
     },
     "execution_count": 5,
     "metadata": {},
     "output_type": "execute_result"
    }
   ],
   "source": [
    "df.describe()"
   ]
  },
  {
   "cell_type": "code",
   "execution_count": 6,
   "metadata": {},
   "outputs": [
    {
     "data": {
      "text/plain": [
       "(284807, 31)"
      ]
     },
     "execution_count": 6,
     "metadata": {},
     "output_type": "execute_result"
    }
   ],
   "source": [
    "df.shape"
   ]
  },
  {
   "cell_type": "code",
   "execution_count": 7,
   "metadata": {},
   "outputs": [
    {
     "data": {
      "text/plain": [
       "Time      0\n",
       "V1        0\n",
       "V2        0\n",
       "V3        0\n",
       "V4        0\n",
       "V5        0\n",
       "V6        0\n",
       "V7        0\n",
       "V8        0\n",
       "V9        0\n",
       "V10       0\n",
       "V11       0\n",
       "V12       0\n",
       "V13       0\n",
       "V14       0\n",
       "V15       0\n",
       "V16       0\n",
       "V17       0\n",
       "V18       0\n",
       "V19       0\n",
       "V20       0\n",
       "V21       0\n",
       "V22       0\n",
       "V23       0\n",
       "V24       0\n",
       "V25       0\n",
       "V26       0\n",
       "V27       0\n",
       "V28       0\n",
       "Amount    0\n",
       "Class     0\n",
       "dtype: int64"
      ]
     },
     "execution_count": 7,
     "metadata": {},
     "output_type": "execute_result"
    }
   ],
   "source": [
    "df.isnull().sum()"
   ]
  },
  {
   "cell_type": "code",
   "execution_count": 8,
   "metadata": {},
   "outputs": [
    {
     "data": {
      "text/plain": [
       "0    284315\n",
       "1       492\n",
       "Name: Class, dtype: int64"
      ]
     },
     "execution_count": 8,
     "metadata": {},
     "output_type": "execute_result"
    }
   ],
   "source": [
    "df.Class.value_counts()"
   ]
  },
  {
   "cell_type": "code",
   "execution_count": 9,
   "metadata": {},
   "outputs": [
    {
     "data": {
      "text/html": [
       "<div>\n",
       "<style scoped>\n",
       "    .dataframe tbody tr th:only-of-type {\n",
       "        vertical-align: middle;\n",
       "    }\n",
       "\n",
       "    .dataframe tbody tr th {\n",
       "        vertical-align: top;\n",
       "    }\n",
       "\n",
       "    .dataframe thead th {\n",
       "        text-align: right;\n",
       "    }\n",
       "</style>\n",
       "<table border=\"1\" class=\"dataframe\">\n",
       "  <thead>\n",
       "    <tr style=\"text-align: right;\">\n",
       "      <th></th>\n",
       "      <th>Time</th>\n",
       "      <th>V1</th>\n",
       "      <th>V2</th>\n",
       "      <th>V3</th>\n",
       "      <th>V4</th>\n",
       "      <th>V5</th>\n",
       "      <th>V6</th>\n",
       "      <th>V7</th>\n",
       "      <th>V8</th>\n",
       "      <th>V9</th>\n",
       "      <th>...</th>\n",
       "      <th>V20</th>\n",
       "      <th>V21</th>\n",
       "      <th>V22</th>\n",
       "      <th>V23</th>\n",
       "      <th>V24</th>\n",
       "      <th>V25</th>\n",
       "      <th>V26</th>\n",
       "      <th>V27</th>\n",
       "      <th>V28</th>\n",
       "      <th>Amount</th>\n",
       "    </tr>\n",
       "    <tr>\n",
       "      <th>Class</th>\n",
       "      <th></th>\n",
       "      <th></th>\n",
       "      <th></th>\n",
       "      <th></th>\n",
       "      <th></th>\n",
       "      <th></th>\n",
       "      <th></th>\n",
       "      <th></th>\n",
       "      <th></th>\n",
       "      <th></th>\n",
       "      <th></th>\n",
       "      <th></th>\n",
       "      <th></th>\n",
       "      <th></th>\n",
       "      <th></th>\n",
       "      <th></th>\n",
       "      <th></th>\n",
       "      <th></th>\n",
       "      <th></th>\n",
       "      <th></th>\n",
       "      <th></th>\n",
       "    </tr>\n",
       "  </thead>\n",
       "  <tbody>\n",
       "    <tr>\n",
       "      <th>0</th>\n",
       "      <td>94838.202258</td>\n",
       "      <td>0.008258</td>\n",
       "      <td>-0.006271</td>\n",
       "      <td>0.012171</td>\n",
       "      <td>-0.007860</td>\n",
       "      <td>0.005453</td>\n",
       "      <td>0.002419</td>\n",
       "      <td>0.009637</td>\n",
       "      <td>-0.000987</td>\n",
       "      <td>0.004467</td>\n",
       "      <td>...</td>\n",
       "      <td>-0.000644</td>\n",
       "      <td>-0.001235</td>\n",
       "      <td>-0.000024</td>\n",
       "      <td>0.000070</td>\n",
       "      <td>0.000182</td>\n",
       "      <td>-0.000072</td>\n",
       "      <td>-0.000089</td>\n",
       "      <td>-0.000295</td>\n",
       "      <td>-0.000131</td>\n",
       "      <td>88.291022</td>\n",
       "    </tr>\n",
       "    <tr>\n",
       "      <th>1</th>\n",
       "      <td>80746.806911</td>\n",
       "      <td>-4.771948</td>\n",
       "      <td>3.623778</td>\n",
       "      <td>-7.033281</td>\n",
       "      <td>4.542029</td>\n",
       "      <td>-3.151225</td>\n",
       "      <td>-1.397737</td>\n",
       "      <td>-5.568731</td>\n",
       "      <td>0.570636</td>\n",
       "      <td>-2.581123</td>\n",
       "      <td>...</td>\n",
       "      <td>0.372319</td>\n",
       "      <td>0.713588</td>\n",
       "      <td>0.014049</td>\n",
       "      <td>-0.040308</td>\n",
       "      <td>-0.105130</td>\n",
       "      <td>0.041449</td>\n",
       "      <td>0.051648</td>\n",
       "      <td>0.170575</td>\n",
       "      <td>0.075667</td>\n",
       "      <td>122.211321</td>\n",
       "    </tr>\n",
       "  </tbody>\n",
       "</table>\n",
       "<p>2 rows × 30 columns</p>\n",
       "</div>"
      ],
      "text/plain": [
       "               Time        V1        V2        V3        V4        V5  \\\n",
       "Class                                                                   \n",
       "0      94838.202258  0.008258 -0.006271  0.012171 -0.007860  0.005453   \n",
       "1      80746.806911 -4.771948  3.623778 -7.033281  4.542029 -3.151225   \n",
       "\n",
       "             V6        V7        V8        V9  ...       V20       V21  \\\n",
       "Class                                          ...                       \n",
       "0      0.002419  0.009637 -0.000987  0.004467  ... -0.000644 -0.001235   \n",
       "1     -1.397737 -5.568731  0.570636 -2.581123  ...  0.372319  0.713588   \n",
       "\n",
       "            V22       V23       V24       V25       V26       V27       V28  \\\n",
       "Class                                                                         \n",
       "0     -0.000024  0.000070  0.000182 -0.000072 -0.000089 -0.000295 -0.000131   \n",
       "1      0.014049 -0.040308 -0.105130  0.041449  0.051648  0.170575  0.075667   \n",
       "\n",
       "           Amount  \n",
       "Class              \n",
       "0       88.291022  \n",
       "1      122.211321  \n",
       "\n",
       "[2 rows x 30 columns]"
      ]
     },
     "execution_count": 9,
     "metadata": {},
     "output_type": "execute_result"
    }
   ],
   "source": [
    "df.groupby(\"Class\").mean()"
   ]
  },
  {
   "cell_type": "code",
   "execution_count": 10,
   "metadata": {},
   "outputs": [
    {
     "data": {
      "image/png": "[encoded data removed]",
      "text/plain": [
       "<Figure size 576x432 with 1 Axes>"
      ]
     },
     "metadata": {
      "needs_background": "light"
     },
     "output_type": "display_data"
    }
   ],
   "source": [
    "plt.figure(figsize=(8,6))\n",
    "ax = sns.countplot(x=df.Class, hue=df.Class)\n",
    "for p in ax.patches:\n",
    "    ax.annotate((p.get_height()), (p.get_x()+0.10, p.get_height()+4000));"
   ]
  },
  {
   "cell_type": "code",
   "execution_count": 11,
   "metadata": {},
   "outputs": [
    {
     "data": {
      "text/plain": [
       "<AxesSubplot:xlabel='Amount'>"
      ]
     },
     "execution_count": 11,
     "metadata": {},
     "output_type": "execute_result"
    },
    {
     "data": {
      "image/png": "[encoded data removed]",
      "text/plain": [
       "<Figure size 576x432 with 1 Axes>"
      ]
     },
     "metadata": {
      "needs_background": "light"
     },
     "output_type": "display_data"
    }
   ],
   "source": [
    "plt.figure(figsize=(8,6))\n",
    "sns.distplot(df.Amount, kde = False)"
   ]
  },
  {
   "cell_type": "markdown",
   "metadata": {
    "id": "NGyEoz9fJQ0E"
   },
   "source": [
    "### Data Cleaning\n",
    "Check Missing Values and Outliers"
   ]
  },
  {
   "cell_type": "code",
   "execution_count": 12,
   "metadata": {
    "id": "BvpEPuGAMuHa"
   },
   "outputs": [
    {
     "name": "stdout",
     "output_type": "stream",
     "text": [
      " count of outlier in Time column by Class 0= 0 \n",
      " count of outlier in Time column by Class 1= 0 \n",
      "\n",
      " count of outlier in V1 column by Class 0= 6912 \n",
      " count of outlier in V1 column by Class 1= 52 \n",
      "\n",
      " count of outlier in V2 column by Class 0= 13327 \n",
      " count of outlier in V2 column by Class 1= 46 \n",
      "\n",
      " count of outlier in V3 column by Class 0= 3095 \n",
      " count of outlier in V3 column by Class 1= 53 \n",
      "\n",
      " count of outlier in V4 column by Class 0= 10918 \n",
      " count of outlier in V4 column by Class 1= 0 \n",
      "\n",
      " count of outlier in V5 column by Class 0= 12124 \n",
      " count of outlier in V5 column by Class 1= 45 \n",
      "\n",
      " count of outlier in V6 column by Class 0= 22829 \n",
      " count of outlier in V6 column by Class 1= 15 \n",
      "\n",
      " count of outlier in V7 column by Class 0= 8668 \n",
      " count of outlier in V7 column by Class 1= 30 \n",
      "\n",
      " count of outlier in V8 column by Class 0= 23974 \n",
      " count of outlier in V8 column by Class 1= 98 \n",
      "\n",
      " count of outlier in V9 column by Class 0= 8090 \n",
      " count of outlier in V9 column by Class 1= 17 \n",
      "\n",
      " count of outlier in V10 column by Class 0= 9128 \n",
      " count of outlier in V10 column by Class 1= 19 \n",
      "\n",
      " count of outlier in V11 column by Class 0= 492 \n",
      " count of outlier in V11 column by Class 1= 10 \n",
      "\n",
      " count of outlier in V12 column by Class 0= 15054 \n",
      " count of outlier in V12 column by Class 1= 6 \n",
      "\n",
      " count of outlier in V13 column by Class 0= 3365 \n",
      " count of outlier in V13 column by Class 1= 0 \n",
      "\n",
      " count of outlier in V14 column by Class 0= 13800 \n",
      " count of outlier in V14 column by Class 1= 4 \n",
      "\n",
      " count of outlier in V15 column by Class 0= 2883 \n",
      " count of outlier in V15 column by Class 1= 8 \n",
      "\n",
      " count of outlier in V16 column by Class 0= 7908 \n",
      " count of outlier in V16 column by Class 1= 0 \n",
      "\n",
      " count of outlier in V17 column by Class 0= 7038 \n",
      " count of outlier in V17 column by Class 1= 0 \n",
      "\n",
      " count of outlier in V18 column by Class 0= 7345 \n",
      " count of outlier in V18 column by Class 1= 0 \n",
      "\n",
      " count of outlier in V19 column by Class 0= 10131 \n",
      " count of outlier in V19 column by Class 1= 5 \n",
      "\n",
      " count of outlier in V20 column by Class 0= 27649 \n",
      " count of outlier in V20 column by Class 1= 41 \n",
      "\n",
      " count of outlier in V21 column by Class 0= 14273 \n",
      " count of outlier in V21 column by Class 1= 49 \n",
      "\n",
      " count of outlier in V22 column by Class 0= 1289 \n",
      " count of outlier in V22 column by Class 1= 24 \n",
      "\n",
      " count of outlier in V23 column by Class 0= 18411 \n",
      " count of outlier in V23 column by Class 1= 59 \n",
      "\n",
      " count of outlier in V24 column by Class 0= 4771 \n",
      " count of outlier in V24 column by Class 1= 3 \n",
      "\n",
      " count of outlier in V25 column by Class 0= 5314 \n",
      " count of outlier in V25 column by Class 1= 36 \n",
      "\n",
      " count of outlier in V26 column by Class 0= 5603 \n",
      " count of outlier in V26 column by Class 1= 2 \n",
      "\n",
      " count of outlier in V27 column by Class 0= 39018 \n",
      " count of outlier in V27 column by Class 1= 70 \n",
      "\n",
      " count of outlier in V28 column by Class 0= 30206 \n",
      " count of outlier in V28 column by Class 1= 46 \n",
      "\n",
      " count of outlier in Amount column by Class 0= 31862 \n",
      " count of outlier in Amount column by Class 1= 69 \n",
      "\n",
      " count of outlier in Class column by Class 0= 0 \n",
      " count of outlier in Class column by Class 1= 0 \n",
      "\n"
     ]
    }
   ],
   "source": [
    "for col in df:\n",
    "    for counter in range(len(df[\"Class\"].unique())):\n",
    "        \n",
    "        Q1 = df[df[\"Class\"]==counter][col].quantile(0.25)\n",
    "        Q3 = df[df[\"Class\"]==counter][col].quantile(0.75)\n",
    "        IQR = Q3-Q1\n",
    "        lower_lim = Q1-1.5*IQR\n",
    "        upper_lim = Q3+1.5*IQR\n",
    "        print(f\" count of outlier in {col} column by Class {counter}= {df[df['Class']==counter][(df[df['Class']==counter][col] < lower_lim) | (df[df['Class']==counter][col] > upper_lim)][col].count()} \")\n",
    "    print()"
   ]
  },
  {
   "cell_type": "code",
   "execution_count": 14,
   "metadata": {},
   "outputs": [
    {
     "data": {
      "text/html": [
       "<div>\n",
       "<style scoped>\n",
       "    .dataframe tbody tr th:only-of-type {\n",
       "        vertical-align: middle;\n",
       "    }\n",
       "\n",
       "    .dataframe tbody tr th {\n",
       "        vertical-align: top;\n",
       "    }\n",
       "\n",
       "    .dataframe thead th {\n",
       "        text-align: right;\n",
       "    }\n",
       "</style>\n",
       "<table border=\"1\" class=\"dataframe\">\n",
       "  <thead>\n",
       "    <tr style=\"text-align: right;\">\n",
       "      <th></th>\n",
       "      <th>Time</th>\n",
       "      <th>Amount</th>\n",
       "    </tr>\n",
       "  </thead>\n",
       "  <tbody>\n",
       "    <tr>\n",
       "      <th>0</th>\n",
       "      <td>0.0</td>\n",
       "      <td>149.62</td>\n",
       "    </tr>\n",
       "    <tr>\n",
       "      <th>1</th>\n",
       "      <td>0.0</td>\n",
       "      <td>2.69</td>\n",
       "    </tr>\n",
       "    <tr>\n",
       "      <th>2</th>\n",
       "      <td>1.0</td>\n",
       "      <td>378.66</td>\n",
       "    </tr>\n",
       "    <tr>\n",
       "      <th>3</th>\n",
       "      <td>1.0</td>\n",
       "      <td>123.50</td>\n",
       "    </tr>\n",
       "    <tr>\n",
       "      <th>4</th>\n",
       "      <td>2.0</td>\n",
       "      <td>69.99</td>\n",
       "    </tr>\n",
       "    <tr>\n",
       "      <th>...</th>\n",
       "      <td>...</td>\n",
       "      <td>...</td>\n",
       "    </tr>\n",
       "    <tr>\n",
       "      <th>284802</th>\n",
       "      <td>172786.0</td>\n",
       "      <td>0.77</td>\n",
       "    </tr>\n",
       "    <tr>\n",
       "      <th>284803</th>\n",
       "      <td>172787.0</td>\n",
       "      <td>24.79</td>\n",
       "    </tr>\n",
       "    <tr>\n",
       "      <th>284804</th>\n",
       "      <td>172788.0</td>\n",
       "      <td>67.88</td>\n",
       "    </tr>\n",
       "    <tr>\n",
       "      <th>284805</th>\n",
       "      <td>172788.0</td>\n",
       "      <td>10.00</td>\n",
       "    </tr>\n",
       "    <tr>\n",
       "      <th>284806</th>\n",
       "      <td>172792.0</td>\n",
       "      <td>217.00</td>\n",
       "    </tr>\n",
       "  </tbody>\n",
       "</table>\n",
       "<p>284807 rows × 2 columns</p>\n",
       "</div>"
      ],
      "text/plain": [
       "            Time  Amount\n",
       "0            0.0  149.62\n",
       "1            0.0    2.69\n",
       "2            1.0  378.66\n",
       "3            1.0  123.50\n",
       "4            2.0   69.99\n",
       "...          ...     ...\n",
       "284802  172786.0    0.77\n",
       "284803  172787.0   24.79\n",
       "284804  172788.0   67.88\n",
       "284805  172788.0   10.00\n",
       "284806  172792.0  217.00\n",
       "\n",
       "[284807 rows x 2 columns]"
      ]
     },
     "execution_count": 14,
     "metadata": {},
     "output_type": "execute_result"
    }
   ],
   "source": [
    "df[[\"Time\", \"Amount\"]]"
   ]
  },
  {
   "cell_type": "code",
   "execution_count": 15,
   "metadata": {},
   "outputs": [
    {
     "data": {
      "text/plain": [
       "<AxesSubplot:xlabel='Class', ylabel='Time'>"
      ]
     },
     "execution_count": 15,
     "metadata": {},
     "output_type": "execute_result"
    },
    {
     "data": {
      "image/png": "[encoded data removed]",
      "text/plain": [
       "<Figure size 432x288 with 1 Axes>"
      ]
     },
     "metadata": {
      "needs_background": "light"
     },
     "output_type": "display_data"
    }
   ],
   "source": [
    "sns.boxplot(y = df.Time, x = df.Class)"
   ]
  },
  {
   "cell_type": "code",
   "execution_count": 16,
   "metadata": {},
   "outputs": [
    {
     "data": {
      "image/png": "[encoded data removed]",
      "text/plain": [
       "<Figure size 432x288 with 1 Axes>"
      ]
     },
     "metadata": {
      "needs_background": "light"
     },
     "output_type": "display_data"
    }
   ],
   "source": [
    "sns.boxplot(y = df.Amount, x = df.Class);"
   ]
  },
  {
   "cell_type": "code",
   "execution_count": 17,
   "metadata": {},
   "outputs": [
    {
     "data": {
      "text/html": [
       "<div>\n",
       "<style scoped>\n",
       "    .dataframe tbody tr th:only-of-type {\n",
       "        vertical-align: middle;\n",
       "    }\n",
       "\n",
       "    .dataframe tbody tr th {\n",
       "        vertical-align: top;\n",
       "    }\n",
       "\n",
       "    .dataframe thead th {\n",
       "        text-align: right;\n",
       "    }\n",
       "</style>\n",
       "<table border=\"1\" class=\"dataframe\">\n",
       "  <thead>\n",
       "    <tr style=\"text-align: right;\">\n",
       "      <th></th>\n",
       "      <th>Time</th>\n",
       "      <th>V1</th>\n",
       "      <th>V2</th>\n",
       "      <th>V3</th>\n",
       "      <th>V4</th>\n",
       "      <th>V5</th>\n",
       "      <th>V6</th>\n",
       "      <th>V7</th>\n",
       "      <th>V8</th>\n",
       "      <th>V9</th>\n",
       "      <th>...</th>\n",
       "      <th>V21</th>\n",
       "      <th>V22</th>\n",
       "      <th>V23</th>\n",
       "      <th>V24</th>\n",
       "      <th>V25</th>\n",
       "      <th>V26</th>\n",
       "      <th>V27</th>\n",
       "      <th>V28</th>\n",
       "      <th>Amount</th>\n",
       "      <th>Class</th>\n",
       "    </tr>\n",
       "  </thead>\n",
       "  <tbody>\n",
       "    <tr>\n",
       "      <th>0.333333</th>\n",
       "      <td>65096.333333</td>\n",
       "      <td>-0.640588</td>\n",
       "      <td>-0.336101</td>\n",
       "      <td>-0.466159</td>\n",
       "      <td>-0.602006</td>\n",
       "      <td>-0.455403</td>\n",
       "      <td>-0.602144</td>\n",
       "      <td>-0.333849</td>\n",
       "      <td>-0.126824</td>\n",
       "      <td>-0.412954</td>\n",
       "      <td>...</td>\n",
       "      <td>-0.160147</td>\n",
       "      <td>-0.357089</td>\n",
       "      <td>-0.104434</td>\n",
       "      <td>-0.152608</td>\n",
       "      <td>-0.216690</td>\n",
       "      <td>-0.238731</td>\n",
       "      <td>-0.042315</td>\n",
       "      <td>-0.032122</td>\n",
       "      <td>9.99</td>\n",
       "      <td>0.0</td>\n",
       "    </tr>\n",
       "    <tr>\n",
       "      <th>0.666667</th>\n",
       "      <td>128593.000000</td>\n",
       "      <td>1.177454</td>\n",
       "      <td>0.520578</td>\n",
       "      <td>0.723818</td>\n",
       "      <td>0.461542</td>\n",
       "      <td>0.364415</td>\n",
       "      <td>0.125498</td>\n",
       "      <td>0.359008</td>\n",
       "      <td>0.197366</td>\n",
       "      <td>0.356571</td>\n",
       "      <td>...</td>\n",
       "      <td>0.107777</td>\n",
       "      <td>0.339791</td>\n",
       "      <td>0.086350</td>\n",
       "      <td>0.323565</td>\n",
       "      <td>0.242539</td>\n",
       "      <td>0.141397</td>\n",
       "      <td>0.049289</td>\n",
       "      <td>0.041034</td>\n",
       "      <td>50.00</td>\n",
       "      <td>0.0</td>\n",
       "    </tr>\n",
       "  </tbody>\n",
       "</table>\n",
       "<p>2 rows × 31 columns</p>\n",
       "</div>"
      ],
      "text/plain": [
       "                   Time        V1        V2        V3        V4        V5  \\\n",
       "0.333333   65096.333333 -0.640588 -0.336101 -0.466159 -0.602006 -0.455403   \n",
       "0.666667  128593.000000  1.177454  0.520578  0.723818  0.461542  0.364415   \n",
       "\n",
       "                V6        V7        V8        V9  ...       V21       V22  \\\n",
       "0.333333 -0.602144 -0.333849 -0.126824 -0.412954  ... -0.160147 -0.357089   \n",
       "0.666667  0.125498  0.359008  0.197366  0.356571  ...  0.107777  0.339791   \n",
       "\n",
       "               V23       V24       V25       V26       V27       V28  Amount  \\\n",
       "0.333333 -0.104434 -0.152608 -0.216690 -0.238731 -0.042315 -0.032122    9.99   \n",
       "0.666667  0.086350  0.323565  0.242539  0.141397  0.049289  0.041034   50.00   \n",
       "\n",
       "          Class  \n",
       "0.333333    0.0  \n",
       "0.666667    0.0  \n",
       "\n",
       "[2 rows x 31 columns]"
      ]
     },
     "execution_count": 17,
     "metadata": {},
     "output_type": "execute_result"
    }
   ],
   "source": [
    "quartiles = df.quantile(q = [1/3, 2/3])\n",
    "quartiles"
   ]
  },
  {
   "cell_type": "code",
   "execution_count": 18,
   "metadata": {},
   "outputs": [],
   "source": [
    "def fraud(x, p,d):\n",
    "    if x <= d[p][1/3]:\n",
    "        return 1\n",
    "    elif x <= d[p][2/3]:\n",
    "        return 2\n",
    "    else:\n",
    "        return 3"
   ]
  },
  {
   "cell_type": "code",
   "execution_count": 19,
   "metadata": {},
   "outputs": [],
   "source": [
    "d = df.Amount.apply(fraud, args = (\"Amount\", quartiles))"
   ]
  },
  {
   "cell_type": "code",
   "execution_count": 20,
   "metadata": {},
   "outputs": [
    {
     "data": {
      "image/png": "[encoded data removed]",
      "text/plain": [
       "<Figure size 720x576 with 1 Axes>"
      ]
     },
     "metadata": {
      "needs_background": "light"
     },
     "output_type": "display_data"
    }
   ],
   "source": [
    "plt.figure(figsize=(10,8))\n",
    "ax = sns.countplot(d, hue = df.Class)\n",
    "for p in ax.patches:\n",
    "    ax.annotate((p.get_height()), (p.get_x()+0.15, p.get_height()+100));"
   ]
  },
  {
   "cell_type": "code",
   "execution_count": 21,
   "metadata": {},
   "outputs": [],
   "source": [
    "d = df.Time.apply(fraud, args = (\"Time\", quartiles))"
   ]
  },
  {
   "cell_type": "code",
   "execution_count": 22,
   "metadata": {},
   "outputs": [
    {
     "data": {
      "image/png": "[encoded data removed]",
      "text/plain": [
       "<Figure size 720x576 with 1 Axes>"
      ]
     },
     "metadata": {
      "needs_background": "light"
     },
     "output_type": "display_data"
    }
   ],
   "source": [
    "plt.figure(figsize=(10,8))\n",
    "ax = sns.countplot(d, hue = df.Class)\n",
    "for p in ax.patches:\n",
    "    ax.annotate((p.get_height()), (p.get_x()+0.15, p.get_height()+100));"
   ]
  },
  {
   "cell_type": "code",
   "execution_count": null,
   "metadata": {},
   "outputs": [],
   "source": []
  },
  {
   "cell_type": "markdown",
   "metadata": {
    "id": "tMOO7g-sMuHb"
   },
   "source": [
    "---\n",
    "---\n"
   ]
  },
  {
   "cell_type": "markdown",
   "metadata": {
    "id": "Yf6VvH6WMuHb"
   },
   "source": [
    "## 2. Data Preprocessing"
   ]
  },
  {
   "cell_type": "markdown",
   "metadata": {
    "id": "OV28RJBeMuHb"
   },
   "source": [
    "#### Scaling"
   ]
  },
  {
   "cell_type": "code",
   "execution_count": 23,
   "metadata": {},
   "outputs": [],
   "source": [
    "X = df.drop(\"Class\", axis=1)\n",
    "y = df[\"Class\"]"
   ]
  },
  {
   "cell_type": "code",
   "execution_count": 24,
   "metadata": {
    "cellView": "form",
    "id": "9YbdPguXMuHb"
   },
   "outputs": [
    {
     "data": {
      "text/html": [
       "<div>\n",
       "<style scoped>\n",
       "    .dataframe tbody tr th:only-of-type {\n",
       "        vertical-align: middle;\n",
       "    }\n",
       "\n",
       "    .dataframe tbody tr th {\n",
       "        vertical-align: top;\n",
       "    }\n",
       "\n",
       "    .dataframe thead th {\n",
       "        text-align: right;\n",
       "    }\n",
       "</style>\n",
       "<table border=\"1\" class=\"dataframe\">\n",
       "  <thead>\n",
       "    <tr style=\"text-align: right;\">\n",
       "      <th></th>\n",
       "      <th>Time</th>\n",
       "      <th>V1</th>\n",
       "      <th>V2</th>\n",
       "      <th>V3</th>\n",
       "      <th>V4</th>\n",
       "      <th>V5</th>\n",
       "      <th>V6</th>\n",
       "      <th>V7</th>\n",
       "      <th>V8</th>\n",
       "      <th>V9</th>\n",
       "      <th>...</th>\n",
       "      <th>V20</th>\n",
       "      <th>V21</th>\n",
       "      <th>V22</th>\n",
       "      <th>V23</th>\n",
       "      <th>V24</th>\n",
       "      <th>V25</th>\n",
       "      <th>V26</th>\n",
       "      <th>V27</th>\n",
       "      <th>V28</th>\n",
       "      <th>Amount</th>\n",
       "    </tr>\n",
       "  </thead>\n",
       "  <tbody>\n",
       "    <tr>\n",
       "      <th>0</th>\n",
       "      <td>-1.996583</td>\n",
       "      <td>-0.694242</td>\n",
       "      <td>-0.044075</td>\n",
       "      <td>1.672773</td>\n",
       "      <td>0.973366</td>\n",
       "      <td>-0.245117</td>\n",
       "      <td>0.347068</td>\n",
       "      <td>0.193679</td>\n",
       "      <td>0.082637</td>\n",
       "      <td>0.331128</td>\n",
       "      <td>...</td>\n",
       "      <td>0.326118</td>\n",
       "      <td>-0.024923</td>\n",
       "      <td>0.382854</td>\n",
       "      <td>-0.176911</td>\n",
       "      <td>0.110507</td>\n",
       "      <td>0.246585</td>\n",
       "      <td>-0.392170</td>\n",
       "      <td>0.330892</td>\n",
       "      <td>-0.063781</td>\n",
       "      <td>0.244964</td>\n",
       "    </tr>\n",
       "    <tr>\n",
       "      <th>1</th>\n",
       "      <td>-1.996583</td>\n",
       "      <td>0.608496</td>\n",
       "      <td>0.161176</td>\n",
       "      <td>0.109797</td>\n",
       "      <td>0.316523</td>\n",
       "      <td>0.043483</td>\n",
       "      <td>-0.061820</td>\n",
       "      <td>-0.063700</td>\n",
       "      <td>0.071253</td>\n",
       "      <td>-0.232494</td>\n",
       "      <td>...</td>\n",
       "      <td>-0.089611</td>\n",
       "      <td>-0.307377</td>\n",
       "      <td>-0.880077</td>\n",
       "      <td>0.162201</td>\n",
       "      <td>-0.561131</td>\n",
       "      <td>0.320694</td>\n",
       "      <td>0.261069</td>\n",
       "      <td>-0.022256</td>\n",
       "      <td>0.044608</td>\n",
       "      <td>-0.342475</td>\n",
       "    </tr>\n",
       "    <tr>\n",
       "      <th>2</th>\n",
       "      <td>-1.996562</td>\n",
       "      <td>-0.693500</td>\n",
       "      <td>-0.811578</td>\n",
       "      <td>1.169468</td>\n",
       "      <td>0.268231</td>\n",
       "      <td>-0.364572</td>\n",
       "      <td>1.351454</td>\n",
       "      <td>0.639776</td>\n",
       "      <td>0.207373</td>\n",
       "      <td>-1.378675</td>\n",
       "      <td>...</td>\n",
       "      <td>0.680975</td>\n",
       "      <td>0.337632</td>\n",
       "      <td>1.063358</td>\n",
       "      <td>1.456320</td>\n",
       "      <td>-1.138092</td>\n",
       "      <td>-0.628537</td>\n",
       "      <td>-0.288447</td>\n",
       "      <td>-0.137137</td>\n",
       "      <td>-0.181021</td>\n",
       "      <td>1.160686</td>\n",
       "    </tr>\n",
       "    <tr>\n",
       "      <th>3</th>\n",
       "      <td>-1.996562</td>\n",
       "      <td>-0.493325</td>\n",
       "      <td>-0.112169</td>\n",
       "      <td>1.182516</td>\n",
       "      <td>-0.609727</td>\n",
       "      <td>-0.007469</td>\n",
       "      <td>0.936150</td>\n",
       "      <td>0.192071</td>\n",
       "      <td>0.316018</td>\n",
       "      <td>-1.262503</td>\n",
       "      <td>...</td>\n",
       "      <td>-0.269855</td>\n",
       "      <td>-0.147443</td>\n",
       "      <td>0.007267</td>\n",
       "      <td>-0.304777</td>\n",
       "      <td>-1.941027</td>\n",
       "      <td>1.241904</td>\n",
       "      <td>-0.460217</td>\n",
       "      <td>0.155396</td>\n",
       "      <td>0.186189</td>\n",
       "      <td>0.140534</td>\n",
       "    </tr>\n",
       "    <tr>\n",
       "      <th>4</th>\n",
       "      <td>-1.996541</td>\n",
       "      <td>-0.591330</td>\n",
       "      <td>0.531541</td>\n",
       "      <td>1.021412</td>\n",
       "      <td>0.284655</td>\n",
       "      <td>-0.295015</td>\n",
       "      <td>0.071999</td>\n",
       "      <td>0.479302</td>\n",
       "      <td>-0.226510</td>\n",
       "      <td>0.744326</td>\n",
       "      <td>...</td>\n",
       "      <td>0.529939</td>\n",
       "      <td>-0.012839</td>\n",
       "      <td>1.100011</td>\n",
       "      <td>-0.220123</td>\n",
       "      <td>0.233250</td>\n",
       "      <td>-0.395202</td>\n",
       "      <td>1.041611</td>\n",
       "      <td>0.543620</td>\n",
       "      <td>0.651816</td>\n",
       "      <td>-0.073403</td>\n",
       "    </tr>\n",
       "  </tbody>\n",
       "</table>\n",
       "<p>5 rows × 30 columns</p>\n",
       "</div>"
      ],
      "text/plain": [
       "       Time        V1        V2        V3        V4        V5        V6  \\\n",
       "0 -1.996583 -0.694242 -0.044075  1.672773  0.973366 -0.245117  0.347068   \n",
       "1 -1.996583  0.608496  0.161176  0.109797  0.316523  0.043483 -0.061820   \n",
       "2 -1.996562 -0.693500 -0.811578  1.169468  0.268231 -0.364572  1.351454   \n",
       "3 -1.996562 -0.493325 -0.112169  1.182516 -0.609727 -0.007469  0.936150   \n",
       "4 -1.996541 -0.591330  0.531541  1.021412  0.284655 -0.295015  0.071999   \n",
       "\n",
       "         V7        V8        V9  ...       V20       V21       V22       V23  \\\n",
       "0  0.193679  0.082637  0.331128  ...  0.326118 -0.024923  0.382854 -0.176911   \n",
       "1 -0.063700  0.071253 -0.232494  ... -0.089611 -0.307377 -0.880077  0.162201   \n",
       "2  0.639776  0.207373 -1.378675  ...  0.680975  0.337632  1.063358  1.456320   \n",
       "3  0.192071  0.316018 -1.262503  ... -0.269855 -0.147443  0.007267 -0.304777   \n",
       "4  0.479302 -0.226510  0.744326  ...  0.529939 -0.012839  1.100011 -0.220123   \n",
       "\n",
       "        V24       V25       V26       V27       V28    Amount  \n",
       "0  0.110507  0.246585 -0.392170  0.330892 -0.063781  0.244964  \n",
       "1 -0.561131  0.320694  0.261069 -0.022256  0.044608 -0.342475  \n",
       "2 -1.138092 -0.628537 -0.288447 -0.137137 -0.181021  1.160686  \n",
       "3 -1.941027  1.241904 -0.460217  0.155396  0.186189  0.140534  \n",
       "4  0.233250 -0.395202  1.041611  0.543620  0.651816 -0.073403  \n",
       "\n",
       "[5 rows x 30 columns]"
      ]
     },
     "execution_count": 24,
     "metadata": {},
     "output_type": "execute_result"
    }
   ],
   "source": [
    "from sklearn.preprocessing import StandardScaler\n",
    "scaler = StandardScaler()\n",
    "X_scaled = scaler.fit_transform(X)\n",
    "# transform into a dataframe\n",
    "X_scaled = pd.DataFrame(X_scaled, index = X.index, columns = X.columns)\n",
    "X_scaled.head()\n"
   ]
  },
  {
   "cell_type": "markdown",
   "metadata": {
    "id": "hlm6gCsKMuHb"
   },
   "source": [
    "#### Train - Test Split\n",
    "\n",
    "As in this case, for extremely imbalanced datasets you may want to make sure that classes are balanced across train and test data."
   ]
  },
  {
   "cell_type": "code",
   "execution_count": 24,
   "metadata": {
    "id": "AuzpxEmKMuHb"
   },
   "outputs": [],
   "source": [
    "X_train, X_test, y_train, y_test = train_test_split(X, y, test_size = 0.15, stratify = y, random_state=42)"
   ]
  },
  {
   "cell_type": "code",
   "execution_count": 25,
   "metadata": {},
   "outputs": [],
   "source": [
    "X_train_sc, X_test_sc, y_train_sc, y_test_sc = train_test_split(X_scaled, y, test_size = 0.15, stratify = y, random_state=42)"
   ]
  },
  {
   "cell_type": "markdown",
   "metadata": {
    "id": "HO4HAIofMuHc"
   },
   "source": [
    "---\n",
    "---\n"
   ]
  },
  {
   "cell_type": "markdown",
   "metadata": {
    "id": "MwQdl4PdJQ0I"
   },
   "source": [
    "## 3. Model Building\n",
    "It was previously stated that you need to make class prediction with three different algorithms. As in this case, different approaches are required to obtain better performance on unbalanced data.\n",
    "\n",
    "This dataset is severely **unbalanced** (most of the transactions are non-fraud). So the algorithms are much more likely to classify new observations to the majority class and high accuracy won't tell us anything. To address the problem of imbalanced dataset we can use undersampling and oversampling data approach techniques. Oversampling increases the number of minority class members in the training set. The advantage of oversampling is that no information from the original training set is lost unlike in undersampling, as all observations from the minority and majority classes are kept. On the other hand, it is prone to overfitting. \n",
    "\n",
    "There is a type of oversampling called **[SMOTE](https://www.geeksforgeeks.org/ml-handling-imbalanced-data-with-smote-and-near-miss-algorithm-in-python/)** (Synthetic Minority Oversampling Technique), which we are going to use to make our dataset balanced. It creates synthetic points from the minority class.\n",
    "\n",
    "- It is important that you can evaluate the effectiveness of SMOTE. For this reason, implement the Logistic Regression algorithm in two different ways, with SMOTE applied and without.\n",
    "\n",
    "***Note***: \n",
    "\n",
    "- *Do not forget to import the necessary libraries and modules before starting the model building!*\n",
    "\n",
    "- *If you are going to use the cross validation method to be more sure of the performance of your model for unbalanced data, you should make sure that the class distributions in the iterations are equal. For this case, you should use **[StratifiedKFold](https://www.analyseup.com/python-machine-learning/stratified-kfold.html)** instead of regular cross validation method.*"
   ]
  },
  {
   "cell_type": "markdown",
   "metadata": {
    "id": "zKZcwgucJQ0I"
   },
   "source": [
    "### Logistic Regression without SMOTE\n",
    "\n",
    "- The steps you are going to cover for this algorithm are as follows: \n",
    "\n",
    "   i. Import Libraries\n",
    "   \n",
    "   *ii. Model Training*\n",
    "   \n",
    "   *iii. Prediction and Model Evaluating*\n",
    "   \n",
    "   *iv. Plot Precision and Recall Curve*\n",
    "   \n",
    "   *v. Apply and Plot StratifiedKFold*"
   ]
  },
  {
   "cell_type": "markdown",
   "metadata": {
    "id": "o48s5BCdMuHd"
   },
   "source": [
    "***i. Import Libraries***"
   ]
  },
  {
   "cell_type": "code",
   "execution_count": 25,
   "metadata": {
    "id": "3G3cx-UjMuHd"
   },
   "outputs": [],
   "source": [
    "from sklearn.linear_model import LogisticRegression"
   ]
  },
  {
   "cell_type": "markdown",
   "metadata": {
    "id": "6KD76bc5MuHd"
   },
   "source": [
    "***ii. Model Training***"
   ]
  },
  {
   "cell_type": "code",
   "execution_count": 26,
   "metadata": {
    "id": "g7GAK-u3MuHd"
   },
   "outputs": [],
   "source": [
    "log_model = LogisticRegression(C = 10).fit(X_train,y_train)"
   ]
  },
  {
   "cell_type": "markdown",
   "metadata": {
    "id": "uvKAJVTNMuHd"
   },
   "source": [
    "***iii. Prediction and Model Evaluating***"
   ]
  },
  {
   "cell_type": "code",
   "execution_count": 27,
   "metadata": {
    "id": "Kb68hH1TMuHd"
   },
   "outputs": [
    {
     "name": "stdout",
     "output_type": "stream",
     "text": [
      "              precision    recall  f1-score   support\n",
      "\n",
      "           0       1.00      1.00      1.00     42648\n",
      "           1       0.66      0.73      0.69        74\n",
      "\n",
      "    accuracy                           1.00     42722\n",
      "   macro avg       0.83      0.86      0.85     42722\n",
      "weighted avg       1.00      1.00      1.00     42722\n",
      "\n"
     ]
    }
   ],
   "source": [
    "y_pred = log_model.predict(X_test)\n",
    "confusion_matrix(y_test, y_pred)\n",
    "print(classification_report(y_test, y_pred))"
   ]
  },
  {
   "cell_type": "code",
   "execution_count": 72,
   "metadata": {},
   "outputs": [
    {
     "name": "stdout",
     "output_type": "stream",
     "text": [
      " accuracy score for log_model : 0.9989425195062047\n",
      "\n",
      " precision-0 score for log_model : 0.9994827720745094\n",
      "\n",
      " recall-0 score for log_model : 0.9994579340592884\n",
      "\n",
      " f1-0 score for log_model : 0.9994703369723181\n",
      "\n",
      " precision-1 score for log_model : 0.696111615109092\n",
      "\n",
      " recall-1 score for log_model : 0.7004065040650407\n",
      "\n",
      " f1-1 score for log_model : 0.6950815050428355\n",
      "\n"
     ]
    }
   ],
   "source": [
    "from sklearn.metrics import make_scorer\n",
    "from sklearn.metrics import f1_score, accuracy_score, precision_score, recall_score\n",
    "custom_scorer = {'accuracy': make_scorer(accuracy_score),\n",
    "                 'precision-0': make_scorer(precision_score, average='weighted', labels=[0]),\n",
    "                 'recall-0': make_scorer(recall_score, average='weighted', labels = [0]),\n",
    "                 'f1-0': make_scorer(f1_score, average='weighted', labels = [0]),\n",
    "                 'precision-1': make_scorer(precision_score, average='weighted', labels=[1]),\n",
    "                 'recall-1': make_scorer(recall_score, average='weighted', labels = [1]),\n",
    "                 'f1-1': make_scorer(f1_score, average='weighted', labels = [1])\n",
    "                 }\n",
    "\n",
    "for i, j in custom_scorer.items():\n",
    "    scores = cross_val_score(log_model, X_train, y_train, cv = 10, scoring = j).mean()\n",
    "    print(f\" {i} score for log_model : {scores}\\n\")"
   ]
  },
  {
   "cell_type": "code",
   "execution_count": 30,
   "metadata": {},
   "outputs": [
    {
     "name": "stdout",
     "output_type": "stream",
     "text": [
      " accuracy score for log_model : 0.9988062236006771\n",
      "\n",
      " precision-0 score for log_model : 0.9992734226793442\n",
      "\n",
      " recall-0 score for log_model : 0.9995310393292408\n",
      "\n",
      " f1-0 score for log_model : 0.9994021692481688\n",
      "\n",
      " precision-1 score for log_model : 0.6751190476190476\n",
      "\n",
      " recall-1 score for log_model : 0.5767857142857142\n",
      "\n",
      " f1-1 score for log_model : 0.6085317460317461\n",
      "\n"
     ]
    }
   ],
   "source": [
    "custom_scorer = {'accuracy': make_scorer(accuracy_score),\n",
    "                 'precision-0': make_scorer(precision_score, average='weighted', labels=[0]),\n",
    "                 'recall-0': make_scorer(recall_score, average='weighted', labels = [0]),\n",
    "                 'f1-0': make_scorer(f1_score, average='weighted', labels = [0]),\n",
    "                 'precision-1': make_scorer(precision_score, average='weighted', labels=[1]),\n",
    "                 'recall-1': make_scorer(recall_score, average='weighted', labels = [1]),\n",
    "                 'f1-1': make_scorer(f1_score, average='weighted', labels = [1])\n",
    "                 }\n",
    "\n",
    "for i, j in custom_scorer.items():\n",
    "    scores = cross_val_score(log_model, X_test, y_test, cv = 10, scoring = j).mean()\n",
    "    print(f\" {i} score for log_model : {scores}\\n\")"
   ]
  },
  {
   "cell_type": "code",
   "execution_count": 31,
   "metadata": {},
   "outputs": [
    {
     "data": {
      "image/png": "[encoded data removed]",
      "text/plain": [
       "<Figure size 576x396 with 1 Axes>"
      ]
     },
     "metadata": {},
     "output_type": "display_data"
    },
    {
     "data": {
      "text/plain": [
       "<AxesSubplot:title={'center':'LogisticRegression Confusion Matrix'}, xlabel='Predicted Class', ylabel='True Class'>"
      ]
     },
     "execution_count": 31,
     "metadata": {},
     "output_type": "execute_result"
    }
   ],
   "source": [
    "from yellowbrick.classifier import ConfusionMatrix\n",
    "# The ConfusionMatrix visualizer taxes a model\n",
    "cm = ConfusionMatrix(log_model, classes=y_test.unique())\n",
    "\n",
    "# Fit fits the passed model. This is unnecessary if you pass the visualizer a pre-fitted model\n",
    "cm.fit(X_train, y_train)\n",
    "\n",
    "# To create the ConfusionMatrix, we need some test data. Score runs predict() on the data\n",
    "# and then creates the confusion_matrix from scikit-learn.\n",
    "cm.score(X_test, y_test)\n",
    "\n",
    "# How did we do?\n",
    "cm.show()"
   ]
  },
  {
   "cell_type": "markdown",
   "metadata": {
    "id": "l193OP5fMuHd"
   },
   "source": [
    "\n",
    "You're evaluating \"accuracy score\"? Is your performance metric reflect real success? You may need to use different metrics to evaluate performance on unbalanced data. You should use **[precision and recall metrics](https://scikit-learn.org/stable/auto_examples/model_selection/plot_precision_recall.html#:~:text=The%20precision%2Drecall%20curve%20shows,a%20low%20false%20negative%20rate.)**."
   ]
  },
  {
   "cell_type": "markdown",
   "metadata": {
    "id": "fUDt5voIMuHe"
   },
   "source": [
    "***iv. Plot Precision and Recall Curve***\n"
   ]
  },
  {
   "cell_type": "code",
   "execution_count": 32,
   "metadata": {
    "id": "WI0OI9SDMuHe"
   },
   "outputs": [
    {
     "name": "stdout",
     "output_type": "stream",
     "text": [
      "Average precision-recall score: 0.59\n"
     ]
    }
   ],
   "source": [
    "from sklearn.metrics import average_precision_score\n",
    "y_score = log_model.decision_function(X_test)\n",
    "average_precision = average_precision_score(y_test, y_score, pos_label = 1)\n",
    "\n",
    "print('Average precision-recall score: {0:0.2f}'.format(average_precision))"
   ]
  },
  {
   "cell_type": "code",
   "execution_count": 34,
   "metadata": {},
   "outputs": [
    {
     "data": {
      "text/plain": [
       "Text(0.5, 1.0, '2-class Precision-Recall curve: AP=0.59')"
      ]
     },
     "execution_count": 34,
     "metadata": {},
     "output_type": "execute_result"
    },
    {
     "data": {
      "image/png": "[encoded data removed]",
      "text/plain": [
       "<Figure size 576x396 with 1 Axes>"
      ]
     },
     "metadata": {},
     "output_type": "display_data"
    }
   ],
   "source": [
    "from sklearn.metrics import plot_precision_recall_curve\n",
    "import matplotlib.pyplot as plt\n",
    "\n",
    "disp = plot_precision_recall_curve(log_model, X_test, y_test)\n",
    "disp.ax_.set_title('2-class Precision-Recall curve: '\n",
    "                   'AP={0:0.2f}'.format(average_precision))"
   ]
  },
  {
   "cell_type": "markdown",
   "metadata": {
    "id": "CAzArHfTMuHe"
   },
   "source": [
    "***v. Apply and Plot StratifiedKFold***"
   ]
  },
  {
   "cell_type": "code",
   "execution_count": 28,
   "metadata": {},
   "outputs": [],
   "source": [
    "from sklearn.model_selection import StratifiedKFold"
   ]
  },
  {
   "cell_type": "code",
   "execution_count": 32,
   "metadata": {
    "id": "8ugUuOhhMuHe"
   },
   "outputs": [
    {
     "name": "stdout",
     "output_type": "stream",
     "text": [
      "Class Ratio: 0.001727485630620034\n"
     ]
    }
   ],
   "source": [
    "print('Class Ratio:',sum(df['Class'])/len(df['Class']))"
   ]
  },
  {
   "cell_type": "code",
   "execution_count": 33,
   "metadata": {},
   "outputs": [],
   "source": [
    "skf = StratifiedKFold(n_splits= 10)"
   ]
  },
  {
   "cell_type": "code",
   "execution_count": 34,
   "metadata": {},
   "outputs": [
    {
     "data": {
      "text/plain": [
       "0         0\n",
       "1         0\n",
       "2         0\n",
       "3         0\n",
       "4         0\n",
       "         ..\n",
       "284802    0\n",
       "284803    0\n",
       "284804    0\n",
       "284805    0\n",
       "284806    0\n",
       "Name: Class, Length: 284807, dtype: int64"
      ]
     },
     "execution_count": 34,
     "metadata": {},
     "output_type": "execute_result"
    }
   ],
   "source": [
    "target = df.loc[:,'Class']\n",
    "target"
   ]
  },
  {
   "cell_type": "code",
   "execution_count": 35,
   "metadata": {},
   "outputs": [
    {
     "name": "stdout",
     "output_type": "stream",
     "text": [
      "Fold 1 Class Ratio: 0.0017204452090867595\n",
      "Fold 2 Class Ratio: 0.0017204452090867595\n",
      "Fold 3 Class Ratio: 0.0017204452090867595\n",
      "Fold 4 Class Ratio: 0.0017204452090867595\n",
      "Fold 5 Class Ratio: 0.0017204452090867595\n",
      "Fold 6 Class Ratio: 0.0017555563358028158\n",
      "Fold 7 Class Ratio: 0.0017555563358028158\n",
      "Fold 8 Class Ratio: 0.001720505617977528\n",
      "Fold 9 Class Ratio: 0.001720505617977528\n",
      "Fold 10 Class Ratio: 0.001720505617977528\n"
     ]
    }
   ],
   "source": [
    "fold_no = 1\n",
    "for train_index, test_index in skf.split(df, df.Class):\n",
    "    train = df.loc[train_index,:]\n",
    "    test = df.loc[test_index,:]\n",
    "    print('Fold',str(fold_no),'Class Ratio:',sum(test['Class'])/len(test['Class']))\n",
    "    fold_no += 1"
   ]
  },
  {
   "cell_type": "code",
   "execution_count": 38,
   "metadata": {},
   "outputs": [],
   "source": [
    "skf = StratifiedKFold(n_splits= 10)\n",
    "def train_model(train, test, fold_no):\n",
    "    X = df.drop(\"Class\", axis= 1).columns\n",
    "    y = ['Class']\n",
    "    X_train = train[X]\n",
    "    y_train = train[y]\n",
    "    X_test = test[X]\n",
    "    y_test = test[y]\n",
    "    log_model.fit(X_train,y_train)\n",
    "    predictions = log_model.predict(X_test)\n",
    "    return f1_score(y_test, predictions, pos_label=1)"
   ]
  },
  {
   "cell_type": "code",
   "execution_count": 41,
   "metadata": {},
   "outputs": [],
   "source": [
    "fold_no = 1\n",
    "score = []\n",
    "for train_index, test_index in skf.split(df, df.Class):\n",
    "    train = df.loc[train_index,:]\n",
    "    test = df.loc[test_index,:]\n",
    "    score.append(train_model(train,test,fold_no))\n",
    "    fold_no += 1"
   ]
  },
  {
   "cell_type": "code",
   "execution_count": 42,
   "metadata": {},
   "outputs": [
    {
     "name": "stdout",
     "output_type": "stream",
     "text": [
      "0.6401514045143794 0.2524924943600838\n"
     ]
    }
   ],
   "source": [
    "print(pd.Series(score).mean(), pd.Series(score).std())"
   ]
  },
  {
   "cell_type": "code",
   "execution_count": 113,
   "metadata": {},
   "outputs": [
    {
     "name": "stdout",
     "output_type": "stream",
     "text": [
      "accuracy : 99.89% (0.03%)\n",
      "precision-0 : 99.95% (0.02%)\n",
      "recall-0 : 99.95% (0.02%)\n",
      "f1-0 : 99.95% (0.01%)\n",
      "precision-1 : 69.61% (9.48%)\n",
      "recall-1 : 70.04% (10.26%)\n",
      "f1-1 : 69.51% (8.38%)\n"
     ]
    }
   ],
   "source": [
    "kfold = StratifiedKFold(n_splits= 10)\n",
    "custom_scorer = {'accuracy': make_scorer(accuracy_score),\n",
    "                 'precision-0': make_scorer(precision_score, average='weighted', labels=[0]),\n",
    "                 'recall-0': make_scorer(recall_score, average='weighted', labels = [0]),\n",
    "                 'f1-0': make_scorer(f1_score, average='weighted', labels = [0]),\n",
    "                 'precision-1': make_scorer(precision_score, average='weighted', labels=[1]),\n",
    "                 'recall-1': make_scorer(recall_score, average='weighted', labels = [1]),\n",
    "                 'f1-1': make_scorer(f1_score, average='weighted', labels = [1])\n",
    "                 }\n",
    "for i, j in custom_scorer.items():\n",
    "    results = cross_val_score(log_model, X_train, y_train, cv=kfold, n_jobs=-1, scoring = j)\n",
    "    print(i, \": %.2f%% (%.2f%%)\" % (results.mean()*100, results.std()*100))"
   ]
  },
  {
   "cell_type": "code",
   "execution_count": 37,
   "metadata": {},
   "outputs": [
    {
     "name": "stdout",
     "output_type": "stream",
     "text": [
      "accuracy : 99.88% (0.04%)\n",
      "precision-0 : 99.93% (0.03%)\n",
      "recall-0 : 99.95% (0.03%)\n",
      "f1-0 : 99.94% (0.02%)\n",
      "precision-1 : 67.51% (15.10%)\n",
      "recall-1 : 57.68% (19.95%)\n",
      "f1-1 : 60.85% (17.65%)\n"
     ]
    }
   ],
   "source": [
    "kfold = StratifiedKFold(n_splits= 10)\n",
    "custom_scorer = {'accuracy': make_scorer(accuracy_score),\n",
    "                 'precision-0': make_scorer(precision_score, average='weighted', labels=[0]),\n",
    "                 'recall-0': make_scorer(recall_score, average='weighted', labels = [0]),\n",
    "                 'f1-0': make_scorer(f1_score, average='weighted', labels = [0]),\n",
    "                 'precision-1': make_scorer(precision_score, average='weighted', labels=[1]),\n",
    "                 'recall-1': make_scorer(recall_score, average='weighted', labels = [1]),\n",
    "                 'f1-1': make_scorer(f1_score, average='weighted', labels = [1])\n",
    "                 }\n",
    "for i, j in custom_scorer.items():\n",
    "    results = cross_val_score(log_model, X_test, y_test, cv=kfold, n_jobs=-1, scoring = j)\n",
    "    print(i, \": %.2f%% (%.2f%%)\" % (results.mean()*100, results.std()*100))"
   ]
  },
  {
   "cell_type": "markdown",
   "metadata": {
    "id": "bwELs8xsJQ0Q"
   },
   "source": [
    "- Didn't the performance of the model you implemented above satisfy you? If your model is biased towards the majority class and minority class recall is not sufficient, apply **SMOTE**."
   ]
  },
  {
   "cell_type": "markdown",
   "metadata": {
    "id": "4f8q5y12MuHe"
   },
   "source": [
    "### Apply SMOTE"
   ]
  },
  {
   "cell_type": "code",
   "execution_count": 25,
   "metadata": {
    "id": "rlz070TfMuHf"
   },
   "outputs": [],
   "source": [
    "from imblearn.over_sampling import SMOTE\n",
    "from imblearn.under_sampling import RandomUnderSampler\n",
    "from imblearn.pipeline import Pipeline\n",
    "os = SMOTE(random_state=42)\n",
    "os_data_X, os_data_y=os.fit_sample(X_train, y_train)\n",
    "os_data_X = pd.DataFrame(data=os_data_X,columns= X.columns)\n",
    "os_data_y= pd.DataFrame(data=os_data_y,columns=[\"Class\"])"
   ]
  },
  {
   "cell_type": "code",
   "execution_count": 26,
   "metadata": {},
   "outputs": [],
   "source": [
    "from imblearn.over_sampling import SMOTE\n",
    "from imblearn.under_sampling import RandomUnderSampler\n",
    "from imblearn.pipeline import Pipeline\n",
    "os = SMOTE(random_state=42)\n",
    "os_data_X, os_data_y=os.fit_sample(X_train_sc, y_train_sc)\n",
    "os_data_X_sc = pd.DataFrame(data=os_data_X,columns= X.columns)\n",
    "os_data_y_sc= pd.DataFrame(data=os_data_y,columns=[\"Class\"])"
   ]
  },
  {
   "cell_type": "markdown",
   "metadata": {
    "id": "9wvBCEvpJQ0U"
   },
   "source": [
    "### Logistic Regression with SMOTE\n",
    "\n",
    "- The steps you are going to cover for this algorithm are as follows:\n",
    "   \n",
    "   *i. Train-Test Split (Again)*\n",
    "   \n",
    "   *ii. Model Training*\n",
    "   \n",
    "   *iii. Prediction and Model Evaluating*\n",
    "   \n",
    "   *iv. Plot Precision and Recall Curve*\n",
    "   \n",
    "   *v. Apply and Plot StratifiedKFold*"
   ]
  },
  {
   "cell_type": "markdown",
   "metadata": {
    "id": "IJqXQ_aHMuHf"
   },
   "source": [
    "***i. Train-Test Split (Again)***\n",
    "\n",
    "Use SMOTE applied data."
   ]
  },
  {
   "cell_type": "code",
   "execution_count": 26,
   "metadata": {},
   "outputs": [
    {
     "data": {
      "text/plain": [
       "(483334, 30)"
      ]
     },
     "execution_count": 26,
     "metadata": {},
     "output_type": "execute_result"
    }
   ],
   "source": [
    "os_data_X.shape"
   ]
  },
  {
   "cell_type": "code",
   "execution_count": 40,
   "metadata": {},
   "outputs": [
    {
     "data": {
      "text/plain": [
       "(483334, 1)"
      ]
     },
     "execution_count": 40,
     "metadata": {},
     "output_type": "execute_result"
    }
   ],
   "source": [
    "os_data_y.shape"
   ]
  },
  {
   "cell_type": "markdown",
   "metadata": {
    "id": "evc6DLPcMuHf"
   },
   "source": [
    "***ii. Model Training***"
   ]
  },
  {
   "cell_type": "code",
   "execution_count": 41,
   "metadata": {
    "id": "hz36IA3EMuHf"
   },
   "outputs": [],
   "source": [
    "log_model_smote = LogisticRegression(C = 10).fit(os_data_X, os_data_y)"
   ]
  },
  {
   "cell_type": "markdown",
   "metadata": {
    "id": "kqJHSV5FMuHf"
   },
   "source": [
    "***iii. Prediction and Model Evaluating***"
   ]
  },
  {
   "cell_type": "code",
   "execution_count": 42,
   "metadata": {
    "id": "J_lxSdHyMuHg"
   },
   "outputs": [
    {
     "name": "stdout",
     "output_type": "stream",
     "text": [
      "[[41868   780]\n",
      " [    9    65]]\n",
      "              precision    recall  f1-score   support\n",
      "\n",
      "           0       1.00      0.98      0.99     42648\n",
      "           1       0.08      0.88      0.14        74\n",
      "\n",
      "    accuracy                           0.98     42722\n",
      "   macro avg       0.54      0.93      0.57     42722\n",
      "weighted avg       1.00      0.98      0.99     42722\n",
      "\n"
     ]
    }
   ],
   "source": [
    "y_pred = log_model_smote.predict(X_test)\n",
    "print(confusion_matrix(y_test, y_pred))\n",
    "print(classification_report(y_test, y_pred))"
   ]
  },
  {
   "cell_type": "code",
   "execution_count": 48,
   "metadata": {},
   "outputs": [
    {
     "name": "stdout",
     "output_type": "stream",
     "text": [
      " precision-1 score for log_model : 0.696111615109092\n",
      "\n",
      " recall-1 score for log_model : 0.7004065040650407\n",
      "\n",
      " f1-1 score for log_model : 0.6950815050428355\n",
      "\n"
     ]
    }
   ],
   "source": [
    "custom_scorer = {\n",
    "                 'precision-1': make_scorer(precision_score, average='weighted', labels=[1]),\n",
    "                 'recall-1': make_scorer(recall_score, average='weighted', labels = [1]),\n",
    "                 'f1-1': make_scorer(f1_score, average='weighted', labels = [1])\n",
    "                 }\n",
    "\n",
    "for i, j in custom_scorer.items():\n",
    "    scores = cross_val_score(log_model_smote, X_train, y_train, cv = 10, scoring = j).mean()\n",
    "    print(f\" {i} score for log_model : {scores}\\n\")"
   ]
  },
  {
   "cell_type": "code",
   "execution_count": 51,
   "metadata": {},
   "outputs": [
    {
     "name": "stdout",
     "output_type": "stream",
     "text": [
      " precision-1 score for log_model : 0.6751190476190476\n",
      "\n",
      " recall-1 score for log_model : 0.5767857142857142\n",
      "\n",
      " f1-1 score for log_model : 0.6085317460317461\n",
      "\n"
     ]
    }
   ],
   "source": [
    "custom_scorer = {\n",
    "                 'precision-1': make_scorer(precision_score, average='weighted', labels=[1]),\n",
    "                 'recall-1': make_scorer(recall_score, average='weighted', labels = [1]),\n",
    "                 'f1-1': make_scorer(f1_score, average='weighted', labels = [1])\n",
    "                 }\n",
    "\n",
    "for i, j in custom_scorer.items():\n",
    "    scores = cross_val_score(log_model_smote, X_test, y_test, cv = 10, scoring = j).mean()\n",
    "    print(f\" {i} score for log_model : {scores}\\n\")"
   ]
  },
  {
   "cell_type": "markdown",
   "metadata": {
    "id": "AFGgLGBqMuHg"
   },
   "source": [
    "***iv.  Plot Precision and Recall Curve***\n"
   ]
  },
  {
   "cell_type": "code",
   "execution_count": 49,
   "metadata": {
    "id": "CWdU7r-UMuHg"
   },
   "outputs": [
    {
     "name": "stdout",
     "output_type": "stream",
     "text": [
      "Average precision-recall score: 0.67\n"
     ]
    }
   ],
   "source": [
    "from sklearn.metrics import average_precision_score\n",
    "y_score = log_model_smote.decision_function(X_test)\n",
    "average_precision = average_precision_score(y_test, y_score, pos_label = 1)\n",
    "\n",
    "print('Average precision-recall score: {0:0.2f}'.format(average_precision))"
   ]
  },
  {
   "cell_type": "code",
   "execution_count": 50,
   "metadata": {},
   "outputs": [
    {
     "data": {
      "text/plain": [
       "Text(0.5, 1.0, '2-class Precision-Recall curve: AP=0.67')"
      ]
     },
     "execution_count": 50,
     "metadata": {},
     "output_type": "execute_result"
    },
    {
     "data": {
      "image/png": "[encoded data removed]",
      "text/plain": [
       "<Figure size 576x396 with 1 Axes>"
      ]
     },
     "metadata": {},
     "output_type": "display_data"
    }
   ],
   "source": [
    "from sklearn.metrics import plot_precision_recall_curve\n",
    "import matplotlib.pyplot as plt\n",
    "\n",
    "disp = plot_precision_recall_curve(log_model_smote, X_test, y_test)\n",
    "disp.ax_.set_title('2-class Precision-Recall curve: '\n",
    "                   'AP={0:0.2f}'.format(average_precision))"
   ]
  },
  {
   "cell_type": "markdown",
   "metadata": {
    "id": "HELeR2YVMuHg"
   },
   "source": [
    "***v. Apply and Plot StratifiedKFold***"
   ]
  },
  {
   "cell_type": "code",
   "execution_count": 47,
   "metadata": {
    "id": "hcmB-zKsMuHg"
   },
   "outputs": [
    {
     "name": "stdout",
     "output_type": "stream",
     "text": [
      "precision-1 : 64.45% (21.89%)\n",
      "recall-1 : 61.79% (20.08%)\n",
      "f1-1 : 61.45% (11.71%)\n"
     ]
    }
   ],
   "source": [
    "kfold = StratifiedKFold(n_splits= 10, shuffle = True)\n",
    "custom_scorer = {\n",
    "                 'precision-1': make_scorer(precision_score, average='weighted', labels=[1]),\n",
    "                 'recall-1': make_scorer(recall_score, average='weighted', labels = [1]),\n",
    "                 'f1-1': make_scorer(f1_score, average='weighted', labels = [1])\n",
    "                 }\n",
    "for i, j in custom_scorer.items():\n",
    "    results = cross_val_score(log_model_smote, X_test, y_test, cv=kfold, n_jobs=-1, scoring = j)\n",
    "    print(i, \": %.2f%% (%.2f%%)\" % (results.mean()*100, results.std()*100))"
   ]
  },
  {
   "cell_type": "markdown",
   "metadata": {
    "id": "_3zm70O7JQ0Z"
   },
   "source": [
    "### Random Forest Classifier with SMOTE\n",
    "\n",
    "- The steps you are going to cover for this algorithm are as follows:\n",
    "\n",
    "   *i. Model Training*\n",
    "   \n",
    "   *ii. Prediction and Model Evaluating*\n",
    "   \n",
    "   *iii. Plot Precision and Recall Curve*\n",
    "   \n",
    "   *iv. Apply and Plot StratifiedKFold*\n",
    "   "
   ]
  },
  {
   "cell_type": "markdown",
   "metadata": {
    "id": "sr5U80HbMuHg"
   },
   "source": [
    "***i. Model Training***"
   ]
  },
  {
   "cell_type": "code",
   "execution_count": 34,
   "metadata": {},
   "outputs": [],
   "source": [
    "from sklearn.ensemble import RandomForestClassifier"
   ]
  },
  {
   "cell_type": "code",
   "execution_count": 35,
   "metadata": {
    "id": "kuvRr7f3MuHh"
   },
   "outputs": [],
   "source": [
    "rf = RandomForestClassifier().fit(os_data_X, os_data_y)"
   ]
  },
  {
   "cell_type": "markdown",
   "metadata": {
    "id": "dJ9TJdpmMuHh"
   },
   "source": [
    "***ii. Prediction and Model Evaluating***"
   ]
  },
  {
   "cell_type": "code",
   "execution_count": 36,
   "metadata": {
    "id": "BaNd2jTRMuHh"
   },
   "outputs": [
    {
     "name": "stdout",
     "output_type": "stream",
     "text": [
      "[[42635    13]\n",
      " [   14    60]]\n",
      "              precision    recall  f1-score   support\n",
      "\n",
      "           0       1.00      1.00      1.00     42648\n",
      "           1       0.82      0.81      0.82        74\n",
      "\n",
      "    accuracy                           1.00     42722\n",
      "   macro avg       0.91      0.91      0.91     42722\n",
      "weighted avg       1.00      1.00      1.00     42722\n",
      "\n"
     ]
    }
   ],
   "source": [
    "y_pred = rf.predict(X_test)\n",
    "print(confusion_matrix(y_test, y_pred))\n",
    "print(classification_report(y_test, y_pred))"
   ]
  },
  {
   "cell_type": "code",
   "execution_count": 55,
   "metadata": {},
   "outputs": [
    {
     "name": "stdout",
     "output_type": "stream",
     "text": [
      " precision-1 score for rf_model : 0.9036507936507936 std: 0.1374497778136176\n",
      "\n",
      " recall-1 score for rf_model : 0.6982142857142858 std: 0.21405493525289823\n",
      "\n",
      " f1-1 score for rf_model : 0.7968082897494663 std: 0.12387189284055077\n",
      "\n"
     ]
    }
   ],
   "source": [
    "custom_scorer = {\n",
    "                 'precision-1': make_scorer(precision_score, average='weighted', labels=[1]),\n",
    "                 'recall-1': make_scorer(recall_score, average='weighted', labels = [1]),\n",
    "                 'f1-1': make_scorer(f1_score, average='weighted', labels = [1])\n",
    "                 }\n",
    "\n",
    "for i, j in custom_scorer.items():\n",
    "    scores = cross_val_score(rf, X_test, y_test, cv = 10, scoring = j)\n",
    "    print(f\" {i} score for rf_model : {scores.mean()} std: {scores.std()}\\n\")"
   ]
  },
  {
   "cell_type": "markdown",
   "metadata": {
    "id": "8bdqEhrdMuHh"
   },
   "source": [
    "***iii. Plot Precision and Recall Curve***\n"
   ]
  },
  {
   "cell_type": "code",
   "execution_count": 37,
   "metadata": {
    "id": "smne1OBWMuHh"
   },
   "outputs": [
    {
     "name": "stdout",
     "output_type": "stream",
     "text": [
      "Average precision-recall score: 0.67\n"
     ]
    }
   ],
   "source": [
    "from sklearn.metrics import average_precision_score\n",
    "y_score = rf.predict(X_test)\n",
    "average_precision = average_precision_score(y_test, y_score, pos_label = 1)\n",
    "\n",
    "print('Average precision-recall score: {0:0.2f}'.format(average_precision))"
   ]
  },
  {
   "cell_type": "code",
   "execution_count": 38,
   "metadata": {},
   "outputs": [
    {
     "data": {
      "text/plain": [
       "Text(0.5, 1.0, '2-class Precision-Recall curve: AP=0.67')"
      ]
     },
     "execution_count": 38,
     "metadata": {},
     "output_type": "execute_result"
    },
    {
     "data": {
      "image/png": "[encoded data removed]",
      "text/plain": [
       "<Figure size 432x288 with 1 Axes>"
      ]
     },
     "metadata": {
      "needs_background": "light"
     },
     "output_type": "display_data"
    }
   ],
   "source": [
    "from sklearn.metrics import plot_precision_recall_curve\n",
    "import matplotlib.pyplot as plt\n",
    "\n",
    "disp = plot_precision_recall_curve(rf, X_test, y_test)\n",
    "disp.ax_.set_title('2-class Precision-Recall curve: '\n",
    "                   'AP={0:0.2f}'.format(average_precision))"
   ]
  },
  {
   "cell_type": "markdown",
   "metadata": {
    "id": "1n8q3JXcMuHh"
   },
   "source": [
    "***iv. Apply and Plot StratifiedKFold***"
   ]
  },
  {
   "cell_type": "code",
   "execution_count": 60,
   "metadata": {
    "id": "WukW9Gb3MuHh"
   },
   "outputs": [
    {
     "name": "stdout",
     "output_type": "stream",
     "text": [
      "precision-1 : 91.14% (14.25%)\n",
      "recall-1 : 71.07% (19.54%)\n",
      "f1-1 : 80.09% (16.69%)\n"
     ]
    }
   ],
   "source": [
    "kfold = StratifiedKFold(n_splits= 10)\n",
    "custom_scorer = {\n",
    "                 'precision-1': make_scorer(precision_score, average='weighted', labels=[1]),\n",
    "                 'recall-1': make_scorer(recall_score, average='weighted', labels = [1]),\n",
    "                 'f1-1': make_scorer(f1_score, average='weighted', labels = [1])\n",
    "                 }\n",
    "for i, j in custom_scorer.items():\n",
    "    results = cross_val_score(rf, X_test, y_test, cv=kfold, n_jobs=-1, scoring = j)\n",
    "    print(i, \": %.2f%% (%.2f%%)\" % (results.mean()*100, results.std()*100))"
   ]
  },
  {
   "cell_type": "code",
   "execution_count": 40,
   "metadata": {},
   "outputs": [
    {
     "data": {
      "image/png": "[encoded data removed]",
      "text/plain": [
       "<Figure size 864x648 with 1 Axes>"
      ]
     },
     "metadata": {
      "needs_background": "light"
     },
     "output_type": "display_data"
    }
   ],
   "source": [
    "from sklearn.feature_selection import RFE\n",
    "selector = RFE(rf, n_features_to_select=30, step=10,verbose=2)\n",
    "selector = selector.fit(X, y)\n",
    "selector.support_\n",
    "\n",
    "features = []\n",
    "for i in list(enumerate(selector.support_.tolist())):\n",
    "    if i[1] == True:\n",
    "        features.append(i[0])\n",
    "features\n",
    "X.columns[features]\n",
    "\n",
    "feature_imp = pd.Series(rf.feature_importances_[features],\n",
    "                        index=X_train.columns[features]).sort_values(ascending=False)\n",
    "plt.figure(figsize=(12,9))\n",
    "ax = sns.barplot(x=feature_imp, y=feature_imp.index)\n",
    "plt.title(\"Feature Importance\")\n",
    "\n",
    "\n",
    "for p in ax.patches:\n",
    "    ax.annotate(\"%.3f\" % p.get_width(), xy=(p.get_width(), p.get_y()+p.get_height()/2),\n",
    "            xytext=(5, 0), textcoords='offset points', ha=\"left\", va=\"center\")\n",
    "plt.show()"
   ]
  },
  {
   "cell_type": "code",
   "execution_count": 49,
   "metadata": {},
   "outputs": [],
   "source": [
    "X2 = df[[\"V14\", \"V10\", \"V4\", \"V12\", \"V3\", \"V17\", \"V11\", \"V16\"]]"
   ]
  },
  {
   "cell_type": "code",
   "execution_count": 50,
   "metadata": {},
   "outputs": [],
   "source": [
    "X_train2, X_test2, y_train2, y_test2 = train_test_split(X2, y, test_size = 0.15, stratify = y, random_state=42)"
   ]
  },
  {
   "cell_type": "code",
   "execution_count": 51,
   "metadata": {},
   "outputs": [],
   "source": [
    "from imblearn.over_sampling import SMOTE\n",
    "from imblearn.under_sampling import RandomUnderSampler\n",
    "from imblearn.pipeline import Pipeline\n",
    "os = SMOTE(random_state=42)\n",
    "os_data_X2, os_data_y2=os.fit_sample(X_train2, y_train2)\n",
    "os_data_X2 = pd.DataFrame(data=os_data_X2,columns= X2.columns)\n",
    "os_data_y2 = pd.DataFrame(data=os_data_y2,columns=[\"Class\"])"
   ]
  },
  {
   "cell_type": "code",
   "execution_count": 52,
   "metadata": {},
   "outputs": [],
   "source": [
    "rf2 = RandomForestClassifier(class_weight =\"balanced\").fit(os_data_X2, os_data_y2)"
   ]
  },
  {
   "cell_type": "code",
   "execution_count": 53,
   "metadata": {},
   "outputs": [
    {
     "name": "stdout",
     "output_type": "stream",
     "text": [
      "[[42620    28]\n",
      " [   17    57]]\n",
      "              precision    recall  f1-score   support\n",
      "\n",
      "           0       1.00      1.00      1.00     42648\n",
      "           1       0.67      0.77      0.72        74\n",
      "\n",
      "    accuracy                           1.00     42722\n",
      "   macro avg       0.84      0.88      0.86     42722\n",
      "weighted avg       1.00      1.00      1.00     42722\n",
      "\n"
     ]
    }
   ],
   "source": [
    "y_pred = rf2.predict(X_test2)\n",
    "print(confusion_matrix(y_test2, y_pred))\n",
    "print(classification_report(y_test2, y_pred))"
   ]
  },
  {
   "cell_type": "code",
   "execution_count": 54,
   "metadata": {},
   "outputs": [
    {
     "name": "stdout",
     "output_type": "stream",
     "text": [
      " precision-1 score for rf_model : 0.8639285714285714 std: 0.16920017428948422\n",
      "\n",
      " recall-1 score for rf_model : 0.7392857142857142 std: 0.1591591425368371\n",
      "\n",
      " f1-1 score for rf_model : 0.806133866133866 std: 0.11612843540403847\n",
      "\n"
     ]
    }
   ],
   "source": [
    "custom_scorer = {\n",
    "                 'precision-1': make_scorer(precision_score, average='weighted', labels=[1]),\n",
    "                 'recall-1': make_scorer(recall_score, average='weighted', labels = [1]),\n",
    "                 'f1-1': make_scorer(f1_score, average='weighted', labels = [1])\n",
    "                 }\n",
    "\n",
    "for i, j in custom_scorer.items():\n",
    "    scores = cross_val_score(rf2, X_test2, y_test2, cv = 10, scoring = j)\n",
    "    print(f\" {i} score for rf_model : {scores.mean()} std: {scores.std()}\\n\")"
   ]
  },
  {
   "cell_type": "code",
   "execution_count": 186,
   "metadata": {},
   "outputs": [],
   "source": [
    "rf3 = RandomForestClassifier(class_weight =\"balanced\").fit(X_train2, y_train2)"
   ]
  },
  {
   "cell_type": "code",
   "execution_count": 187,
   "metadata": {},
   "outputs": [
    {
     "name": "stdout",
     "output_type": "stream",
     "text": [
      "[[42646     2]\n",
      " [   18    56]]\n",
      "              precision    recall  f1-score   support\n",
      "\n",
      "           0       1.00      1.00      1.00     42648\n",
      "           1       0.97      0.76      0.85        74\n",
      "\n",
      "    accuracy                           1.00     42722\n",
      "   macro avg       0.98      0.88      0.92     42722\n",
      "weighted avg       1.00      1.00      1.00     42722\n",
      "\n"
     ]
    }
   ],
   "source": [
    "y_pred2 = rf3.predict(X_test2)\n",
    "print(confusion_matrix(y_test2, y_pred2))\n",
    "print(classification_report(y_test2, y_pred2))"
   ]
  },
  {
   "cell_type": "code",
   "execution_count": 188,
   "metadata": {},
   "outputs": [
    {
     "name": "stdout",
     "output_type": "stream",
     "text": [
      " precision-1 score for rf_model : 0.8823809523809523 std: 0.15087124152493203\n",
      "\n",
      " recall-1 score for rf_model : 0.6732142857142858 std: 0.1769659975410934\n",
      "\n",
      " f1-1 score for rf_model : 0.7636338661338662 std: 0.13327956381519468\n",
      "\n"
     ]
    }
   ],
   "source": [
    "custom_scorer = {\n",
    "                 'precision-1': make_scorer(precision_score, average='weighted', labels=[1]),\n",
    "                 'recall-1': make_scorer(recall_score, average='weighted', labels = [1]),\n",
    "                 'f1-1': make_scorer(f1_score, average='weighted', labels = [1])\n",
    "                 }\n",
    "\n",
    "for i, j in custom_scorer.items():\n",
    "    scores = cross_val_score(rf3, X_test2, y_test2, cv = 10, scoring = j)\n",
    "    print(f\" {i} score for rf_model : {scores.mean()} std: {scores.std()}\\n\")"
   ]
  },
  {
   "cell_type": "code",
   "execution_count": 184,
   "metadata": {},
   "outputs": [
    {
     "data": {
      "text/html": [
       "<div>\n",
       "<style scoped>\n",
       "    .dataframe tbody tr th:only-of-type {\n",
       "        vertical-align: middle;\n",
       "    }\n",
       "\n",
       "    .dataframe tbody tr th {\n",
       "        vertical-align: top;\n",
       "    }\n",
       "\n",
       "    .dataframe thead th {\n",
       "        text-align: right;\n",
       "    }\n",
       "</style>\n",
       "<table border=\"1\" class=\"dataframe\">\n",
       "  <thead>\n",
       "    <tr style=\"text-align: right;\">\n",
       "      <th></th>\n",
       "      <th>Time</th>\n",
       "      <th>V1</th>\n",
       "      <th>V2</th>\n",
       "      <th>V3</th>\n",
       "      <th>V4</th>\n",
       "      <th>V5</th>\n",
       "      <th>V6</th>\n",
       "      <th>V7</th>\n",
       "      <th>V8</th>\n",
       "      <th>V9</th>\n",
       "      <th>...</th>\n",
       "      <th>V20</th>\n",
       "      <th>V21</th>\n",
       "      <th>V22</th>\n",
       "      <th>V23</th>\n",
       "      <th>V24</th>\n",
       "      <th>V25</th>\n",
       "      <th>V26</th>\n",
       "      <th>V27</th>\n",
       "      <th>V28</th>\n",
       "      <th>Amount</th>\n",
       "    </tr>\n",
       "  </thead>\n",
       "  <tbody>\n",
       "    <tr>\n",
       "      <th>244077</th>\n",
       "      <td>152194.0</td>\n",
       "      <td>2.082004</td>\n",
       "      <td>-0.818569</td>\n",
       "      <td>-1.135807</td>\n",
       "      <td>-0.173036</td>\n",
       "      <td>-0.703332</td>\n",
       "      <td>-0.669019</td>\n",
       "      <td>-0.458621</td>\n",
       "      <td>-0.101388</td>\n",
       "      <td>-0.103272</td>\n",
       "      <td>...</td>\n",
       "      <td>-0.735559</td>\n",
       "      <td>-0.150079</td>\n",
       "      <td>0.286583</td>\n",
       "      <td>0.051542</td>\n",
       "      <td>0.000384</td>\n",
       "      <td>0.179212</td>\n",
       "      <td>-0.070597</td>\n",
       "      <td>0.009024</td>\n",
       "      <td>-0.067930</td>\n",
       "      <td>11.50</td>\n",
       "    </tr>\n",
       "    <tr>\n",
       "      <th>268223</th>\n",
       "      <td>163116.0</td>\n",
       "      <td>1.961180</td>\n",
       "      <td>-0.132630</td>\n",
       "      <td>-1.204767</td>\n",
       "      <td>0.517382</td>\n",
       "      <td>-0.064926</td>\n",
       "      <td>-1.186268</td>\n",
       "      <td>0.369890</td>\n",
       "      <td>-0.391319</td>\n",
       "      <td>0.697708</td>\n",
       "      <td>...</td>\n",
       "      <td>-0.131920</td>\n",
       "      <td>-0.182646</td>\n",
       "      <td>-0.393861</td>\n",
       "      <td>0.192813</td>\n",
       "      <td>0.045326</td>\n",
       "      <td>-0.008818</td>\n",
       "      <td>-0.514709</td>\n",
       "      <td>-0.017378</td>\n",
       "      <td>-0.043669</td>\n",
       "      <td>48.62</td>\n",
       "    </tr>\n",
       "    <tr>\n",
       "      <th>261237</th>\n",
       "      <td>159924.0</td>\n",
       "      <td>-1.748416</td>\n",
       "      <td>1.099935</td>\n",
       "      <td>-0.456043</td>\n",
       "      <td>-0.500196</td>\n",
       "      <td>1.140714</td>\n",
       "      <td>0.133756</td>\n",
       "      <td>0.715703</td>\n",
       "      <td>-0.180735</td>\n",
       "      <td>-0.109877</td>\n",
       "      <td>...</td>\n",
       "      <td>-0.407679</td>\n",
       "      <td>0.291384</td>\n",
       "      <td>0.965511</td>\n",
       "      <td>-0.323269</td>\n",
       "      <td>-1.387123</td>\n",
       "      <td>0.421327</td>\n",
       "      <td>0.041559</td>\n",
       "      <td>-1.224216</td>\n",
       "      <td>-0.040818</td>\n",
       "      <td>2.99</td>\n",
       "    </tr>\n",
       "    <tr>\n",
       "      <th>87743</th>\n",
       "      <td>61817.0</td>\n",
       "      <td>0.794243</td>\n",
       "      <td>-1.688863</td>\n",
       "      <td>1.341493</td>\n",
       "      <td>-0.115494</td>\n",
       "      <td>-2.018830</td>\n",
       "      <td>0.272800</td>\n",
       "      <td>-1.087525</td>\n",
       "      <td>0.160009</td>\n",
       "      <td>0.016777</td>\n",
       "      <td>...</td>\n",
       "      <td>0.613987</td>\n",
       "      <td>0.315605</td>\n",
       "      <td>0.672284</td>\n",
       "      <td>-0.272175</td>\n",
       "      <td>0.636383</td>\n",
       "      <td>0.338395</td>\n",
       "      <td>-0.178151</td>\n",
       "      <td>0.032779</td>\n",
       "      <td>0.063393</td>\n",
       "      <td>250.00</td>\n",
       "    </tr>\n",
       "    <tr>\n",
       "      <th>123137</th>\n",
       "      <td>76825.0</td>\n",
       "      <td>-0.416285</td>\n",
       "      <td>0.588658</td>\n",
       "      <td>1.185738</td>\n",
       "      <td>-2.091479</td>\n",
       "      <td>0.033349</td>\n",
       "      <td>-1.322596</td>\n",
       "      <td>1.001690</td>\n",
       "      <td>-0.247473</td>\n",
       "      <td>0.724273</td>\n",
       "      <td>...</td>\n",
       "      <td>-0.034979</td>\n",
       "      <td>0.113082</td>\n",
       "      <td>0.615876</td>\n",
       "      <td>-0.270214</td>\n",
       "      <td>0.511572</td>\n",
       "      <td>-0.020916</td>\n",
       "      <td>-0.865917</td>\n",
       "      <td>0.228222</td>\n",
       "      <td>-0.024121</td>\n",
       "      <td>1.00</td>\n",
       "    </tr>\n",
       "    <tr>\n",
       "      <th>...</th>\n",
       "      <td>...</td>\n",
       "      <td>...</td>\n",
       "      <td>...</td>\n",
       "      <td>...</td>\n",
       "      <td>...</td>\n",
       "      <td>...</td>\n",
       "      <td>...</td>\n",
       "      <td>...</td>\n",
       "      <td>...</td>\n",
       "      <td>...</td>\n",
       "      <td>...</td>\n",
       "      <td>...</td>\n",
       "      <td>...</td>\n",
       "      <td>...</td>\n",
       "      <td>...</td>\n",
       "      <td>...</td>\n",
       "      <td>...</td>\n",
       "      <td>...</td>\n",
       "      <td>...</td>\n",
       "      <td>...</td>\n",
       "      <td>...</td>\n",
       "    </tr>\n",
       "    <tr>\n",
       "      <th>233802</th>\n",
       "      <td>147710.0</td>\n",
       "      <td>1.993864</td>\n",
       "      <td>-0.516866</td>\n",
       "      <td>-0.620118</td>\n",
       "      <td>0.129845</td>\n",
       "      <td>-0.285128</td>\n",
       "      <td>0.395044</td>\n",
       "      <td>-0.822358</td>\n",
       "      <td>0.231591</td>\n",
       "      <td>0.995898</td>\n",
       "      <td>...</td>\n",
       "      <td>-0.174051</td>\n",
       "      <td>0.262526</td>\n",
       "      <td>0.884510</td>\n",
       "      <td>0.099141</td>\n",
       "      <td>0.275689</td>\n",
       "      <td>-0.195404</td>\n",
       "      <td>0.623598</td>\n",
       "      <td>-0.032455</td>\n",
       "      <td>-0.058552</td>\n",
       "      <td>5.99</td>\n",
       "    </tr>\n",
       "    <tr>\n",
       "      <th>85418</th>\n",
       "      <td>60764.0</td>\n",
       "      <td>-1.497933</td>\n",
       "      <td>0.657921</td>\n",
       "      <td>1.581568</td>\n",
       "      <td>-0.024286</td>\n",
       "      <td>0.584698</td>\n",
       "      <td>1.303031</td>\n",
       "      <td>0.609212</td>\n",
       "      <td>0.135561</td>\n",
       "      <td>0.452745</td>\n",
       "      <td>...</td>\n",
       "      <td>-0.225079</td>\n",
       "      <td>-0.072452</td>\n",
       "      <td>0.299172</td>\n",
       "      <td>0.110048</td>\n",
       "      <td>-0.615980</td>\n",
       "      <td>-0.425883</td>\n",
       "      <td>0.263968</td>\n",
       "      <td>-0.448445</td>\n",
       "      <td>0.045178</td>\n",
       "      <td>36.99</td>\n",
       "    </tr>\n",
       "    <tr>\n",
       "      <th>29062</th>\n",
       "      <td>35301.0</td>\n",
       "      <td>1.069777</td>\n",
       "      <td>0.072105</td>\n",
       "      <td>0.496540</td>\n",
       "      <td>1.505318</td>\n",
       "      <td>-0.380277</td>\n",
       "      <td>-0.370243</td>\n",
       "      <td>0.100551</td>\n",
       "      <td>-0.026687</td>\n",
       "      <td>0.319684</td>\n",
       "      <td>...</td>\n",
       "      <td>-0.149402</td>\n",
       "      <td>-0.061991</td>\n",
       "      <td>-0.044629</td>\n",
       "      <td>-0.050485</td>\n",
       "      <td>0.400171</td>\n",
       "      <td>0.593314</td>\n",
       "      <td>-0.335160</td>\n",
       "      <td>0.031014</td>\n",
       "      <td>0.024886</td>\n",
       "      <td>45.42</td>\n",
       "    </tr>\n",
       "    <tr>\n",
       "      <th>13766</th>\n",
       "      <td>24413.0</td>\n",
       "      <td>1.280465</td>\n",
       "      <td>0.300586</td>\n",
       "      <td>0.333044</td>\n",
       "      <td>0.512720</td>\n",
       "      <td>0.065052</td>\n",
       "      <td>-0.145844</td>\n",
       "      <td>-0.145519</td>\n",
       "      <td>-0.091833</td>\n",
       "      <td>1.111187</td>\n",
       "      <td>...</td>\n",
       "      <td>-0.093783</td>\n",
       "      <td>-0.409934</td>\n",
       "      <td>-0.961351</td>\n",
       "      <td>0.033153</td>\n",
       "      <td>-0.560429</td>\n",
       "      <td>0.278428</td>\n",
       "      <td>0.089546</td>\n",
       "      <td>-0.059835</td>\n",
       "      <td>-0.005887</td>\n",
       "      <td>0.89</td>\n",
       "    </tr>\n",
       "    <tr>\n",
       "      <th>17677</th>\n",
       "      <td>28847.0</td>\n",
       "      <td>-0.598120</td>\n",
       "      <td>0.775041</td>\n",
       "      <td>1.823394</td>\n",
       "      <td>0.312991</td>\n",
       "      <td>-0.096171</td>\n",
       "      <td>-0.391452</td>\n",
       "      <td>0.499351</td>\n",
       "      <td>0.071224</td>\n",
       "      <td>-0.017496</td>\n",
       "      <td>...</td>\n",
       "      <td>0.102259</td>\n",
       "      <td>0.060615</td>\n",
       "      <td>0.568083</td>\n",
       "      <td>-0.084001</td>\n",
       "      <td>0.685003</td>\n",
       "      <td>-0.245859</td>\n",
       "      <td>0.356638</td>\n",
       "      <td>0.378580</td>\n",
       "      <td>0.206366</td>\n",
       "      <td>6.99</td>\n",
       "    </tr>\n",
       "  </tbody>\n",
       "</table>\n",
       "<p>242085 rows × 30 columns</p>\n",
       "</div>"
      ],
      "text/plain": [
       "            Time        V1        V2        V3        V4        V5        V6  \\\n",
       "244077  152194.0  2.082004 -0.818569 -1.135807 -0.173036 -0.703332 -0.669019   \n",
       "268223  163116.0  1.961180 -0.132630 -1.204767  0.517382 -0.064926 -1.186268   \n",
       "261237  159924.0 -1.748416  1.099935 -0.456043 -0.500196  1.140714  0.133756   \n",
       "87743    61817.0  0.794243 -1.688863  1.341493 -0.115494 -2.018830  0.272800   \n",
       "123137   76825.0 -0.416285  0.588658  1.185738 -2.091479  0.033349 -1.322596   \n",
       "...          ...       ...       ...       ...       ...       ...       ...   \n",
       "233802  147710.0  1.993864 -0.516866 -0.620118  0.129845 -0.285128  0.395044   \n",
       "85418    60764.0 -1.497933  0.657921  1.581568 -0.024286  0.584698  1.303031   \n",
       "29062    35301.0  1.069777  0.072105  0.496540  1.505318 -0.380277 -0.370243   \n",
       "13766    24413.0  1.280465  0.300586  0.333044  0.512720  0.065052 -0.145844   \n",
       "17677    28847.0 -0.598120  0.775041  1.823394  0.312991 -0.096171 -0.391452   \n",
       "\n",
       "              V7        V8        V9  ...       V20       V21       V22  \\\n",
       "244077 -0.458621 -0.101388 -0.103272  ... -0.735559 -0.150079  0.286583   \n",
       "268223  0.369890 -0.391319  0.697708  ... -0.131920 -0.182646 -0.393861   \n",
       "261237  0.715703 -0.180735 -0.109877  ... -0.407679  0.291384  0.965511   \n",
       "87743  -1.087525  0.160009  0.016777  ...  0.613987  0.315605  0.672284   \n",
       "123137  1.001690 -0.247473  0.724273  ... -0.034979  0.113082  0.615876   \n",
       "...          ...       ...       ...  ...       ...       ...       ...   \n",
       "233802 -0.822358  0.231591  0.995898  ... -0.174051  0.262526  0.884510   \n",
       "85418   0.609212  0.135561  0.452745  ... -0.225079 -0.072452  0.299172   \n",
       "29062   0.100551 -0.026687  0.319684  ... -0.149402 -0.061991 -0.044629   \n",
       "13766  -0.145519 -0.091833  1.111187  ... -0.093783 -0.409934 -0.961351   \n",
       "17677   0.499351  0.071224 -0.017496  ...  0.102259  0.060615  0.568083   \n",
       "\n",
       "             V23       V24       V25       V26       V27       V28  Amount  \n",
       "244077  0.051542  0.000384  0.179212 -0.070597  0.009024 -0.067930   11.50  \n",
       "268223  0.192813  0.045326 -0.008818 -0.514709 -0.017378 -0.043669   48.62  \n",
       "261237 -0.323269 -1.387123  0.421327  0.041559 -1.224216 -0.040818    2.99  \n",
       "87743  -0.272175  0.636383  0.338395 -0.178151  0.032779  0.063393  250.00  \n",
       "123137 -0.270214  0.511572 -0.020916 -0.865917  0.228222 -0.024121    1.00  \n",
       "...          ...       ...       ...       ...       ...       ...     ...  \n",
       "233802  0.099141  0.275689 -0.195404  0.623598 -0.032455 -0.058552    5.99  \n",
       "85418   0.110048 -0.615980 -0.425883  0.263968 -0.448445  0.045178   36.99  \n",
       "29062  -0.050485  0.400171  0.593314 -0.335160  0.031014  0.024886   45.42  \n",
       "13766   0.033153 -0.560429  0.278428  0.089546 -0.059835 -0.005887    0.89  \n",
       "17677  -0.084001  0.685003 -0.245859  0.356638  0.378580  0.206366    6.99  \n",
       "\n",
       "[242085 rows x 30 columns]"
      ]
     },
     "execution_count": 184,
     "metadata": {},
     "output_type": "execute_result"
    }
   ],
   "source": [
    "X_train"
   ]
  },
  {
   "cell_type": "code",
   "execution_count": null,
   "metadata": {},
   "outputs": [],
   "source": []
  },
  {
   "cell_type": "code",
   "execution_count": null,
   "metadata": {},
   "outputs": [],
   "source": []
  },
  {
   "cell_type": "markdown",
   "metadata": {
    "id": "ife6NlFRJQ0f"
   },
   "source": [
    "### Neural Network\n",
    "\n",
    "In the final step, you will make classification with Neural Network which is a Deep Learning algorithm. \n",
    "\n",
    "Neural networks are a series of algorithms that mimic the operations of a human brain to recognize relationships between vast amounts of data. They are used in a variety of applications in financial services, from forecasting and marketing research to fraud detection and risk assessment.\n",
    "\n",
    "A neural network contains layers of interconnected nodes. Each node is a perceptron and is similar to a multiple linear regression. The perceptron feeds the signal produced by a multiple linear regression into an activation function that may be nonlinear.\n",
    "\n",
    "In a multi-layered perceptron (MLP), perceptrons are arranged in interconnected layers. The input layer collects input patterns. The output layer has classifications or output signals to which input patterns may map. \n",
    "\n",
    "Hidden layers fine-tune the input weightings until the neural network’s margin of error is minimal. It is hypothesized that hidden layers extrapolate salient features in the input data that have predictive power regarding the outputs.\n",
    "\n",
    "You will discover **[how to create](https://towardsdatascience.com/building-our-first-neural-network-in-keras-bdc8abbc17f5)** your deep learning neural network model in Python using **[Keras](https://keras.io/about/)**. Keras is a powerful and easy-to-use free open source Python library for developing and evaluating deep learning models.\n",
    "\n",
    "- The steps you are going to cover for this algorithm are as follows:\n",
    "\n",
    "   *i. Import Libraries*\n",
    "   \n",
    "   *ii. Define Model*\n",
    "    \n",
    "   *iii. Compile Model*\n",
    "   \n",
    "   *iv. Fit Model*\n",
    "   \n",
    "   *v. Prediction and Model Evaluating*\n",
    "   \n",
    "   *vi. Plot Precision and Recall Curve*"
   ]
  },
  {
   "cell_type": "markdown",
   "metadata": {
    "id": "i9Rl75fpMuHi"
   },
   "source": [
    "***i. Import Libraries***"
   ]
  },
  {
   "cell_type": "code",
   "execution_count": 27,
   "metadata": {
    "executionInfo": {
     "elapsed": 1897,
     "status": "ok",
     "timestamp": 1610977899555,
     "user": {
      "displayName": "Owen l",
      "photoUrl": "",
      "userId": "01085249422681493006"
     },
     "user_tz": -180
    },
    "id": "LhEc3K9KMuHi"
   },
   "outputs": [],
   "source": [
    "from tensorflow.keras.models import Sequential\n",
    "from tensorflow.keras.layers import Dense, Activation, Dropout, BatchNormalization\n",
    "from tensorflow.keras.optimizers import Adam, RMSprop, SGD\n",
    "from tensorflow.keras.callbacks import EarlyStopping\n",
    "from sklearn.neural_network import MLPClassifier"
   ]
  },
  {
   "cell_type": "markdown",
   "metadata": {
    "id": "gD6Rh1R8MuHi"
   },
   "source": [
    "***ii. Define Model***"
   ]
  },
  {
   "cell_type": "code",
   "execution_count": 29,
   "metadata": {
    "executionInfo": {
     "elapsed": 2582,
     "status": "ok",
     "timestamp": 1610977900244,
     "user": {
      "displayName": "Owen l",
      "photoUrl": "",
      "userId": "01085249422681493006"
     },
     "user_tz": -180
    },
    "id": "4okQmpRpMuHi"
   },
   "outputs": [],
   "source": [
    "early_stop = EarlyStopping(monitor=\"val_loss\", verbose =2, patience = 10, restore_best_weights=True)"
   ]
  },
  {
   "cell_type": "code",
   "execution_count": 30,
   "metadata": {},
   "outputs": [],
   "source": [
    "model = Sequential()\n",
    "\n",
    "model.add(Dense(30,activation='relu')) \n",
    "model.add(BatchNormalization())\n",
    "model.add(Dense(15,activation='relu'))\n",
    "model.add(BatchNormalization())\n",
    "model.add(Dense(units=1,activation='sigmoid'))\n",
    "opt = Adam(learning_rate=0.001)"
   ]
  },
  {
   "cell_type": "markdown",
   "metadata": {
    "id": "_IQN7--qMuHi"
   },
   "source": [
    "***iii. Compile Model***"
   ]
  },
  {
   "cell_type": "code",
   "execution_count": 31,
   "metadata": {
    "executionInfo": {
     "elapsed": 2582,
     "status": "ok",
     "timestamp": 1610977900245,
     "user": {
      "displayName": "Owen l",
      "photoUrl": "",
      "userId": "01085249422681493006"
     },
     "user_tz": -180
    },
    "id": "f4W96rfHMuHi"
   },
   "outputs": [],
   "source": [
    "model.compile(loss='binary_crossentropy', optimizer=opt, metrics = [\"accuracy\"])"
   ]
  },
  {
   "cell_type": "markdown",
   "metadata": {
    "id": "PsM_5PhJMuHi"
   },
   "source": [
    "***iv. Fit Model***"
   ]
  },
  {
   "cell_type": "code",
   "execution_count": 32,
   "metadata": {
    "executionInfo": {
     "elapsed": 2580,
     "status": "ok",
     "timestamp": 1610977900245,
     "user": {
      "displayName": "Owen l",
      "photoUrl": "",
      "userId": "01085249422681493006"
     },
     "user_tz": -180
    },
    "id": "cmkPKExFMuHj"
   },
   "outputs": [
    {
     "name": "stdout",
     "output_type": "stream",
     "text": [
      "Epoch 1/100\n",
      "945/945 [==============================] - 4s 3ms/step - loss: 0.2054 - accuracy: 0.9146 - val_loss: 0.0347 - val_accuracy: 0.9885\n",
      "Epoch 2/100\n",
      "945/945 [==============================] - 2s 3ms/step - loss: 0.0263 - accuracy: 0.9923 - val_loss: 0.0179 - val_accuracy: 0.9948\n",
      "Epoch 3/100\n",
      "945/945 [==============================] - 2s 3ms/step - loss: 0.0119 - accuracy: 0.9971 - val_loss: 0.0129 - val_accuracy: 0.9969\n",
      "Epoch 4/100\n",
      "945/945 [==============================] - 2s 3ms/step - loss: 0.0077 - accuracy: 0.9983 - val_loss: 0.0122 - val_accuracy: 0.9970\n",
      "Epoch 5/100\n",
      "945/945 [==============================] - 2s 3ms/step - loss: 0.0059 - accuracy: 0.9986 - val_loss: 0.0108 - val_accuracy: 0.9977\n",
      "Epoch 6/100\n",
      "945/945 [==============================] - 2s 3ms/step - loss: 0.0048 - accuracy: 0.9989 - val_loss: 0.0139 - val_accuracy: 0.9973\n",
      "Epoch 7/100\n",
      "945/945 [==============================] - 2s 3ms/step - loss: 0.0040 - accuracy: 0.9991 - val_loss: 0.0110 - val_accuracy: 0.9978\n",
      "Epoch 8/100\n",
      "945/945 [==============================] - 2s 3ms/step - loss: 0.0041 - accuracy: 0.9991 - val_loss: 0.0105 - val_accuracy: 0.9981\n",
      "Epoch 9/100\n",
      "945/945 [==============================] - 2s 3ms/step - loss: 0.0046 - accuracy: 0.9989 - val_loss: 0.0107 - val_accuracy: 0.9982\n",
      "Epoch 10/100\n",
      "945/945 [==============================] - 3s 3ms/step - loss: 0.0051 - accuracy: 0.9987 - val_loss: 0.0103 - val_accuracy: 0.9983\n",
      "Epoch 11/100\n",
      "945/945 [==============================] - 2s 3ms/step - loss: 0.0044 - accuracy: 0.9990 - val_loss: 0.0101 - val_accuracy: 0.9983\n",
      "Epoch 12/100\n",
      "945/945 [==============================] - 2s 3ms/step - loss: 0.0029 - accuracy: 0.9994 - val_loss: 0.0119 - val_accuracy: 0.9979\n",
      "Epoch 13/100\n",
      "945/945 [==============================] - 2s 3ms/step - loss: 0.0065 - accuracy: 0.9984 - val_loss: 0.0090 - val_accuracy: 0.9986\n",
      "Epoch 14/100\n",
      "945/945 [==============================] - 2s 3ms/step - loss: 0.0037 - accuracy: 0.9992 - val_loss: 0.0100 - val_accuracy: 0.9983\n",
      "Epoch 15/100\n",
      "945/945 [==============================] - 2s 3ms/step - loss: 0.0029 - accuracy: 0.9994 - val_loss: 0.0098 - val_accuracy: 0.9984\n",
      "Epoch 16/100\n",
      "945/945 [==============================] - 2s 3ms/step - loss: 0.0026 - accuracy: 0.9994 - val_loss: 0.0112 - val_accuracy: 0.9981\n",
      "Epoch 17/100\n",
      "945/945 [==============================] - 2s 3ms/step - loss: 0.0024 - accuracy: 0.9995 - val_loss: 0.0108 - val_accuracy: 0.9982\n",
      "Epoch 18/100\n",
      "945/945 [==============================] - 3s 3ms/step - loss: 0.0028 - accuracy: 0.9994 - val_loss: 0.0092 - val_accuracy: 0.9985\n",
      "Epoch 19/100\n",
      "945/945 [==============================] - 2s 3ms/step - loss: 0.0024 - accuracy: 0.9994 - val_loss: 0.0095 - val_accuracy: 0.9984\n",
      "Epoch 20/100\n",
      "945/945 [==============================] - 2s 3ms/step - loss: 0.0026 - accuracy: 0.9994 - val_loss: 0.0092 - val_accuracy: 0.9985\n",
      "Epoch 21/100\n",
      "945/945 [==============================] - 3s 3ms/step - loss: 0.0025 - accuracy: 0.9994 - val_loss: 0.0100 - val_accuracy: 0.9985\n",
      "Epoch 22/100\n",
      "945/945 [==============================] - 3s 3ms/step - loss: 0.0021 - accuracy: 0.9995 - val_loss: 0.0099 - val_accuracy: 0.9985\n",
      "Epoch 23/100\n",
      "945/945 [==============================] - 2s 3ms/step - loss: 0.0032 - accuracy: 0.9992 - val_loss: 0.0088 - val_accuracy: 0.9985\n",
      "Epoch 24/100\n",
      "945/945 [==============================] - 2s 3ms/step - loss: 0.0020 - accuracy: 0.9996 - val_loss: 0.0094 - val_accuracy: 0.9985\n",
      "Epoch 25/100\n",
      "945/945 [==============================] - 2s 3ms/step - loss: 0.0021 - accuracy: 0.9995 - val_loss: 0.0085 - val_accuracy: 0.9986\n",
      "Epoch 26/100\n",
      "945/945 [==============================] - 3s 3ms/step - loss: 0.0017 - accuracy: 0.9996 - val_loss: 0.0088 - val_accuracy: 0.9984\n",
      "Epoch 27/100\n",
      "945/945 [==============================] - 2s 3ms/step - loss: 0.0031 - accuracy: 0.9992 - val_loss: 0.0086 - val_accuracy: 0.9987\n",
      "Epoch 28/100\n",
      "945/945 [==============================] - 2s 3ms/step - loss: 0.0017 - accuracy: 0.9996 - val_loss: 0.0074 - val_accuracy: 0.9988\n",
      "Epoch 29/100\n",
      "945/945 [==============================] - 2s 3ms/step - loss: 0.0015 - accuracy: 0.9997 - val_loss: 0.0086 - val_accuracy: 0.9987\n",
      "Epoch 30/100\n",
      "945/945 [==============================] - 2s 3ms/step - loss: 0.0012 - accuracy: 0.9997 - val_loss: 0.0107 - val_accuracy: 0.9984\n",
      "Epoch 31/100\n",
      "945/945 [==============================] - 3s 3ms/step - loss: 0.0014 - accuracy: 0.9997 - val_loss: 0.0095 - val_accuracy: 0.9986\n",
      "Epoch 32/100\n",
      "945/945 [==============================] - 2s 3ms/step - loss: 0.0014 - accuracy: 0.9997 - val_loss: 0.0079 - val_accuracy: 0.9989\n",
      "Epoch 33/100\n",
      "945/945 [==============================] - 2s 3ms/step - loss: 0.0010 - accuracy: 0.9997 - val_loss: 0.0094 - val_accuracy: 0.9987\n",
      "Epoch 34/100\n",
      "945/945 [==============================] - 3s 3ms/step - loss: 0.0013 - accuracy: 0.9997 - val_loss: 0.0097 - val_accuracy: 0.9986\n",
      "Epoch 35/100\n",
      "945/945 [==============================] - 3s 3ms/step - loss: 0.0025 - accuracy: 0.9993 - val_loss: 0.0077 - val_accuracy: 0.9989\n",
      "Epoch 36/100\n",
      "945/945 [==============================] - 3s 3ms/step - loss: 0.0011 - accuracy: 0.9998 - val_loss: 0.0087 - val_accuracy: 0.9987\n",
      "Epoch 37/100\n",
      "945/945 [==============================] - 3s 3ms/step - loss: 0.0010 - accuracy: 0.9998 - val_loss: 0.0097 - val_accuracy: 0.9987\n",
      "Epoch 38/100\n",
      "945/945 [==============================] - 3s 3ms/step - loss: 0.0016 - accuracy: 0.9996 - val_loss: 0.0089 - val_accuracy: 0.9989\n",
      "Restoring model weights from the end of the best epoch.\n",
      "Epoch 00038: early stopping\n"
     ]
    }
   ],
   "source": [
    "history = model.fit(x=os_data_X_sc.values, \n",
    "          y=os_data_y_sc.values, \n",
    "          batch_size = 512,\n",
    "          epochs=100,\n",
    "          validation_data=(X_test_sc.values, y_test_sc.values), verbose=1, callbacks = [early_stop])"
   ]
  },
  {
   "cell_type": "markdown",
   "metadata": {
    "id": "InMeP9kgMuHj"
   },
   "source": [
    "***v. Prediction and Model Evaluating***"
   ]
  },
  {
   "cell_type": "code",
   "execution_count": 33,
   "metadata": {
    "executionInfo": {
     "elapsed": 2579,
     "status": "ok",
     "timestamp": 1610977900246,
     "user": {
      "displayName": "Owen l",
      "photoUrl": "",
      "userId": "01085249422681493006"
     },
     "user_tz": -180
    },
    "id": "wRi_uFjIMuHj"
   },
   "outputs": [],
   "source": [
    "y_pred = model.predict_classes(X_test_sc.values)"
   ]
  },
  {
   "cell_type": "code",
   "execution_count": 34,
   "metadata": {},
   "outputs": [
    {
     "name": "stdout",
     "output_type": "stream",
     "text": [
      "              precision    recall  f1-score   support\n",
      "\n",
      "           0       1.00      1.00      1.00     42648\n",
      "           1       0.61      0.82      0.70        74\n",
      "\n",
      "    accuracy                           1.00     42722\n",
      "   macro avg       0.80      0.91      0.85     42722\n",
      "weighted avg       1.00      1.00      1.00     42722\n",
      "\n"
     ]
    }
   ],
   "source": [
    "print(classification_report(y_test_sc.values, y_pred))"
   ]
  },
  {
   "cell_type": "code",
   "execution_count": 35,
   "metadata": {},
   "outputs": [
    {
     "data": {
      "image/png": "[encoded data removed]",
      "text/plain": [
       "<Figure size 432x432 with 1 Axes>"
      ]
     },
     "metadata": {
      "needs_background": "light"
     },
     "output_type": "display_data"
    }
   ],
   "source": [
    "plt.figure(figsize=(6,6))\n",
    "plt.plot(history.history[\"loss\"], label= \"train\")\n",
    "plt.plot(history.history[\"val_loss\"], label= \"validation\")\n",
    "plt.legend();"
   ]
  },
  {
   "cell_type": "code",
   "execution_count": 36,
   "metadata": {},
   "outputs": [
    {
     "data": {
      "image/png": "[encoded data removed]",
      "text/plain": [
       "<Figure size 432x288 with 1 Axes>"
      ]
     },
     "metadata": {
      "needs_background": "light"
     },
     "output_type": "display_data"
    }
   ],
   "source": [
    "model_loss = pd.DataFrame(history.history)\n",
    "model_loss.plot(colormap ='rainbow');"
   ]
  },
  {
   "cell_type": "code",
   "execution_count": 37,
   "metadata": {},
   "outputs": [
    {
     "name": "stdout",
     "output_type": "stream",
     "text": [
      "accuracy : 99.92% (0.05%)\n",
      "precision-1 : 76.52% (14.22%)\n",
      "recall-1 : 60.71% (21.31%)\n",
      "f1-1 : 63.19% (25.19%)\n"
     ]
    }
   ],
   "source": [
    "from tensorflow.keras.wrappers.scikit_learn import KerasClassifier\n",
    "from sklearn.model_selection import cross_val_score\n",
    "from sklearn.metrics import make_scorer\n",
    "from sklearn.metrics import f1_score, accuracy_score, precision_score, recall_score\n",
    "def create_baseline():\n",
    "    # create model\n",
    "    model = Sequential()\n",
    "    model.add(Dense(30,activation='relu')) \n",
    "    model.add(BatchNormalization())\n",
    "    model.add(Dense(15,activation='relu'))\n",
    "    model.add(BatchNormalization())\n",
    "    model.add(Dense(units=1,activation='sigmoid'))\n",
    "    opt = Adam(learning_rate=0.0001)\n",
    "    # Compile model\n",
    "    model.compile(loss='binary_crossentropy', optimizer= opt, metrics=['accuracy'])\n",
    "    return model\n",
    "# evaluate model with standardized dataset\n",
    "early_stop = EarlyStopping(monitor=\"val_loss\", verbose =2, patience = 10, restore_best_weights=True)\n",
    "estimator = KerasClassifier(build_fn=create_baseline, epochs=100, batch_size=512, verbose=0)\n",
    "kfold = StratifiedKFold(n_splits=10)\n",
    "custom_scorer = {'accuracy': make_scorer(accuracy_score),\n",
    "                 \n",
    "                 'precision-1': make_scorer(precision_score, average='weighted', labels=[1]),\n",
    "                 'recall-1': make_scorer(recall_score, average='weighted', labels = [1]),\n",
    "                 'f1-1': make_scorer(f1_score, average='weighted', labels = [1])\n",
    "                 }\n",
    "for i, j in custom_scorer.items():\n",
    "    results = cross_val_score(estimator, X_test_sc.values, y_test_sc.values, cv=kfold, n_jobs=-1, scoring = j, fit_params={'callbacks':early_stop})\n",
    "    print(i, \": %.2f%% (%.2f%%)\" % (results.mean()*100, results.std()*100))"
   ]
  },
  {
   "cell_type": "code",
   "execution_count": 39,
   "metadata": {},
   "outputs": [
    {
     "name": "stdout",
     "output_type": "stream",
     "text": [
      "[0.99953194 0.99859583 0.99836142 0.99906367 0.99812734 0.99859551\n",
      " 0.99882959 0.99836142 0.99859551 0.99812734]\n",
      "accuracy : 99.86% (0.04%)\n",
      "[1.         1.         0.         0.71428571 0.33333333 0.57142857\n",
      " 1.         0.         1.         0.        ]\n",
      "precision-1 : 56.19% (42.31%)\n",
      "[0.75       0.25       0.         0.71428571 0.14285714 0.57142857\n",
      " 0.28571429 0.         0.25       0.        ]\n",
      "recall-1 : 29.64% (27.34%)\n",
      "[0.85714286 0.4        0.         0.71428571 0.2        0.57142857\n",
      " 0.44444444 0.         0.4        0.        ]\n",
      "f1-1 : 35.87% (29.02%)\n"
     ]
    }
   ],
   "source": [
    "from tensorflow.keras.wrappers.scikit_learn import KerasClassifier\n",
    "from sklearn.model_selection import cross_val_score\n",
    "from sklearn.metrics import make_scorer\n",
    "from sklearn.metrics import f1_score, accuracy_score, precision_score, recall_score\n",
    "\n",
    "model = MLPClassifier(random_state=1, max_iter=300, batch_size=128, learning_rate_init=0.0001,early_stopping=True).fit(os_data_X_sc.values, \n",
    "                                                                                                           os_data_y_sc.values)\n",
    "\n",
    "# evaluate model with standardized dataset\n",
    "kfold = StratifiedKFold(n_splits=10, shuffle=True, random_state=1)\n",
    "custom_scorer = {'accuracy': make_scorer(accuracy_score),\n",
    "                 \n",
    "                 'precision-1': make_scorer(precision_score, average='weighted', labels=[1]),\n",
    "                 'recall-1': make_scorer(recall_score, average='weighted', labels = [1]),\n",
    "                 'f1-1': make_scorer(f1_score, average='weighted', labels = [1])\n",
    "                 }\n",
    "for i, j in custom_scorer.items():\n",
    "    results = cross_val_score(model, X_test_sc.values, y_test_sc.values, cv=kfold, n_jobs=-1, scoring = j)\n",
    "    print(results)\n",
    "    print(i, \": %.2f%% (%.2f%%)\" % (results.mean()*100, results.std()*100))"
   ]
  },
  {
   "cell_type": "code",
   "execution_count": 40,
   "metadata": {},
   "outputs": [],
   "source": [
    "early_stop = EarlyStopping(monitor=\"val_loss\", verbose =2, patience = 25, restore_best_weights=True)"
   ]
  },
  {
   "cell_type": "code",
   "execution_count": 41,
   "metadata": {},
   "outputs": [],
   "source": [
    "model = Sequential()\n",
    "\n",
    "model.add(Dense(30,activation='relu')) \n",
    "model.add(BatchNormalization())\n",
    "model.add(Dense(15,activation='relu'))\n",
    "model.add(BatchNormalization())\n",
    "model.add(Dense(units=1,activation='sigmoid'))\n",
    "opt = Adam(learning_rate=0.0001)\n",
    "model.compile(loss='binary_crossentropy', optimizer=opt, metrics = [\"accuracy\"])"
   ]
  },
  {
   "cell_type": "code",
   "execution_count": 42,
   "metadata": {},
   "outputs": [
    {
     "name": "stdout",
     "output_type": "stream",
     "text": [
      "Epoch 1/100\n",
      "3777/3777 [==============================] - 10s 3ms/step - loss: 0.3408 - accuracy: 0.8547 - val_loss: 0.0705 - val_accuracy: 0.9800\n",
      "Epoch 2/100\n",
      "3777/3777 [==============================] - 10s 3ms/step - loss: 0.0678 - accuracy: 0.9757 - val_loss: 0.0402 - val_accuracy: 0.9869\n",
      "Epoch 3/100\n",
      "3777/3777 [==============================] - 10s 3ms/step - loss: 0.0372 - accuracy: 0.9874 - val_loss: 0.0276 - val_accuracy: 0.9915\n",
      "Epoch 4/100\n",
      "3777/3777 [==============================] - 10s 3ms/step - loss: 0.0245 - accuracy: 0.9921 - val_loss: 0.0210 - val_accuracy: 0.9936\n",
      "Epoch 5/100\n",
      "3777/3777 [==============================] - 10s 3ms/step - loss: 0.0180 - accuracy: 0.9945 - val_loss: 0.0182 - val_accuracy: 0.9943\n",
      "Epoch 6/100\n",
      "3777/3777 [==============================] - 10s 3ms/step - loss: 0.0151 - accuracy: 0.9955 - val_loss: 0.0171 - val_accuracy: 0.9948\n",
      "Epoch 7/100\n",
      "3777/3777 [==============================] - 10s 3ms/step - loss: 0.0122 - accuracy: 0.9965 - val_loss: 0.0149 - val_accuracy: 0.9956\n",
      "Epoch 8/100\n",
      "3777/3777 [==============================] - 11s 3ms/step - loss: 0.0105 - accuracy: 0.9969 - val_loss: 0.0143 - val_accuracy: 0.9959\n",
      "Epoch 9/100\n",
      "3777/3777 [==============================] - 10s 3ms/step - loss: 0.0096 - accuracy: 0.9975 - val_loss: 0.0119 - val_accuracy: 0.9971\n",
      "Epoch 10/100\n",
      "3777/3777 [==============================] - 10s 3ms/step - loss: 0.0084 - accuracy: 0.9979 - val_loss: 0.0127 - val_accuracy: 0.9967\n",
      "Epoch 11/100\n",
      "3777/3777 [==============================] - 10s 3ms/step - loss: 0.0071 - accuracy: 0.9982 - val_loss: 0.0109 - val_accuracy: 0.9973\n",
      "Epoch 12/100\n",
      "3777/3777 [==============================] - 10s 3ms/step - loss: 0.0070 - accuracy: 0.9982 - val_loss: 0.0110 - val_accuracy: 0.9974\n",
      "Epoch 13/100\n",
      "3777/3777 [==============================] - 9s 2ms/step - loss: 0.0063 - accuracy: 0.9984 - val_loss: 0.0111 - val_accuracy: 0.9972\n",
      "Epoch 14/100\n",
      "3777/3777 [==============================] - 9s 2ms/step - loss: 0.0059 - accuracy: 0.9985 - val_loss: 0.0105 - val_accuracy: 0.9973\n",
      "Epoch 15/100\n",
      "3777/3777 [==============================] - 9s 2ms/step - loss: 0.0057 - accuracy: 0.9986 - val_loss: 0.0104 - val_accuracy: 0.9977\n",
      "Epoch 16/100\n",
      "3777/3777 [==============================] - 9s 2ms/step - loss: 0.0050 - accuracy: 0.9987 - val_loss: 0.0088 - val_accuracy: 0.9980\n",
      "Epoch 17/100\n",
      "3777/3777 [==============================] - 10s 3ms/step - loss: 0.0050 - accuracy: 0.9988 - val_loss: 0.0100 - val_accuracy: 0.9976\n",
      "Epoch 18/100\n",
      "3777/3777 [==============================] - 10s 3ms/step - loss: 0.0047 - accuracy: 0.9988 - val_loss: 0.0097 - val_accuracy: 0.9980\n",
      "Epoch 19/100\n",
      "3777/3777 [==============================] - 10s 3ms/step - loss: 0.0045 - accuracy: 0.9989 - val_loss: 0.0094 - val_accuracy: 0.9979\n",
      "Epoch 20/100\n",
      "3777/3777 [==============================] - 9s 2ms/step - loss: 0.0041 - accuracy: 0.9990 - val_loss: 0.0088 - val_accuracy: 0.9982\n",
      "Epoch 21/100\n",
      "3777/3777 [==============================] - 9s 2ms/step - loss: 0.0042 - accuracy: 0.9989 - val_loss: 0.0084 - val_accuracy: 0.9982\n",
      "Epoch 22/100\n",
      "3777/3777 [==============================] - 9s 2ms/step - loss: 0.0038 - accuracy: 0.9991 - val_loss: 0.0087 - val_accuracy: 0.9982\n",
      "Epoch 23/100\n",
      "3777/3777 [==============================] - 9s 2ms/step - loss: 0.0035 - accuracy: 0.9992 - val_loss: 0.0087 - val_accuracy: 0.9983\n",
      "Epoch 24/100\n",
      "3777/3777 [==============================] - 9s 2ms/step - loss: 0.0035 - accuracy: 0.9992 - val_loss: 0.0082 - val_accuracy: 0.9983\n",
      "Epoch 25/100\n",
      "3777/3777 [==============================] - 9s 2ms/step - loss: 0.0034 - accuracy: 0.9992 - val_loss: 0.0078 - val_accuracy: 0.9985\n",
      "Epoch 26/100\n",
      "3777/3777 [==============================] - 10s 3ms/step - loss: 0.0031 - accuracy: 0.9993 - val_loss: 0.0085 - val_accuracy: 0.9984\n",
      "Epoch 27/100\n",
      "3777/3777 [==============================] - 9s 3ms/step - loss: 0.0033 - accuracy: 0.9992 - val_loss: 0.0087 - val_accuracy: 0.9982\n",
      "Epoch 28/100\n",
      "3777/3777 [==============================] - 10s 3ms/step - loss: 0.0034 - accuracy: 0.9992 - val_loss: 0.0079 - val_accuracy: 0.9984\n",
      "Epoch 29/100\n",
      "3777/3777 [==============================] - 11s 3ms/step - loss: 0.0031 - accuracy: 0.9993 - val_loss: 0.0082 - val_accuracy: 0.9985\n",
      "Epoch 30/100\n",
      "3777/3777 [==============================] - 9s 2ms/step - loss: 0.0033 - accuracy: 0.9992 - val_loss: 0.0086 - val_accuracy: 0.9983\n",
      "Epoch 31/100\n",
      "3777/3777 [==============================] - 9s 2ms/step - loss: 0.0027 - accuracy: 0.9994 - val_loss: 0.0079 - val_accuracy: 0.9986\n",
      "Epoch 32/100\n",
      "3777/3777 [==============================] - 9s 2ms/step - loss: 0.0028 - accuracy: 0.9994 - val_loss: 0.0080 - val_accuracy: 0.9986\n",
      "Epoch 33/100\n",
      "3777/3777 [==============================] - 10s 3ms/step - loss: 0.0026 - accuracy: 0.9994 - val_loss: 0.0082 - val_accuracy: 0.9984\n",
      "Epoch 34/100\n",
      "3777/3777 [==============================] - 9s 2ms/step - loss: 0.0022 - accuracy: 0.9995 - val_loss: 0.0080 - val_accuracy: 0.9986\n",
      "Epoch 35/100\n",
      "3777/3777 [==============================] - 9s 2ms/step - loss: 0.0026 - accuracy: 0.9994 - val_loss: 0.0083 - val_accuracy: 0.9985\n",
      "Epoch 36/100\n",
      "3777/3777 [==============================] - 10s 3ms/step - loss: 0.0029 - accuracy: 0.9994 - val_loss: 0.0082 - val_accuracy: 0.9986\n",
      "Epoch 37/100\n",
      "3777/3777 [==============================] - 10s 3ms/step - loss: 0.0022 - accuracy: 0.9995 - val_loss: 0.0087 - val_accuracy: 0.9985\n",
      "Epoch 38/100\n",
      "3777/3777 [==============================] - 9s 3ms/step - loss: 0.0021 - accuracy: 0.9995 - val_loss: 0.0080 - val_accuracy: 0.9987\n",
      "Epoch 39/100\n",
      "3777/3777 [==============================] - 10s 3ms/step - loss: 0.0023 - accuracy: 0.9995 - val_loss: 0.0080 - val_accuracy: 0.9987\n",
      "Epoch 40/100\n",
      "3777/3777 [==============================] - 11s 3ms/step - loss: 0.0022 - accuracy: 0.9995 - val_loss: 0.0082 - val_accuracy: 0.9986\n",
      "Epoch 41/100\n",
      "3777/3777 [==============================] - 9s 2ms/step - loss: 0.0022 - accuracy: 0.9995 - val_loss: 0.0083 - val_accuracy: 0.9985\n",
      "Epoch 42/100\n",
      "3777/3777 [==============================] - 10s 3ms/step - loss: 0.0022 - accuracy: 0.9995 - val_loss: 0.0084 - val_accuracy: 0.9986\n",
      "Epoch 43/100\n",
      "3777/3777 [==============================] - 10s 3ms/step - loss: 0.0021 - accuracy: 0.9995 - val_loss: 0.0080 - val_accuracy: 0.9987\n",
      "Epoch 44/100\n",
      "3777/3777 [==============================] - 10s 3ms/step - loss: 0.0021 - accuracy: 0.9996 - val_loss: 0.0083 - val_accuracy: 0.9987\n",
      "Epoch 45/100\n",
      "3777/3777 [==============================] - 10s 3ms/step - loss: 0.0022 - accuracy: 0.9995 - val_loss: 0.0080 - val_accuracy: 0.9986\n",
      "Epoch 46/100\n",
      "3777/3777 [==============================] - 10s 3ms/step - loss: 0.0024 - accuracy: 0.9996 - val_loss: 0.0080 - val_accuracy: 0.9987\n",
      "Epoch 47/100\n",
      "3777/3777 [==============================] - 10s 3ms/step - loss: 0.0021 - accuracy: 0.9995 - val_loss: 0.0082 - val_accuracy: 0.9986\n",
      "Epoch 48/100\n",
      "3777/3777 [==============================] - 10s 3ms/step - loss: 0.0021 - accuracy: 0.9996 - val_loss: 0.0086 - val_accuracy: 0.9985\n",
      "Epoch 49/100\n",
      "3777/3777 [==============================] - 10s 3ms/step - loss: 0.0018 - accuracy: 0.9996 - val_loss: 0.0080 - val_accuracy: 0.9988\n",
      "Epoch 50/100\n",
      "3777/3777 [==============================] - 10s 3ms/step - loss: 0.0021 - accuracy: 0.9995 - val_loss: 0.0081 - val_accuracy: 0.9988\n",
      "Restoring model weights from the end of the best epoch.\n",
      "Epoch 00050: early stopping\n"
     ]
    }
   ],
   "source": [
    "history = model.fit(x=os_data_X_sc.values, \n",
    "          y=os_data_y_sc.values, \n",
    "          batch_size = 128,\n",
    "          epochs=100,\n",
    "          validation_data=(X_test_sc.values, y_test_sc.values), verbose=1, callbacks = [early_stop])"
   ]
  },
  {
   "cell_type": "code",
   "execution_count": 43,
   "metadata": {},
   "outputs": [],
   "source": [
    "y_pred = model.predict_classes(X_test_sc.values)"
   ]
  },
  {
   "cell_type": "code",
   "execution_count": 44,
   "metadata": {},
   "outputs": [
    {
     "name": "stdout",
     "output_type": "stream",
     "text": [
      "              precision    recall  f1-score   support\n",
      "\n",
      "           0       1.00      1.00      1.00     42648\n",
      "           1       0.55      0.82      0.66        74\n",
      "\n",
      "    accuracy                           1.00     42722\n",
      "   macro avg       0.77      0.91      0.83     42722\n",
      "weighted avg       1.00      1.00      1.00     42722\n",
      "\n"
     ]
    }
   ],
   "source": [
    "print(classification_report(y_test_sc.values, y_pred))"
   ]
  },
  {
   "cell_type": "code",
   "execution_count": 45,
   "metadata": {},
   "outputs": [
    {
     "data": {
      "image/png": "[encoded data removed]",
      "text/plain": [
       "<Figure size 432x432 with 1 Axes>"
      ]
     },
     "metadata": {
      "needs_background": "light"
     },
     "output_type": "display_data"
    }
   ],
   "source": [
    "plt.figure(figsize=(6,6))\n",
    "plt.plot(history.history[\"loss\"], label= \"train\")\n",
    "plt.plot(history.history[\"val_loss\"], label= \"validation\")\n",
    "plt.legend();"
   ]
  },
  {
   "cell_type": "code",
   "execution_count": null,
   "metadata": {},
   "outputs": [],
   "source": [
    "kfold = StratifiedKFold(n_splits=10, shuffle=True, random_state=seed)\n",
    "acc = []\n",
    "f1_1 = []\n",
    "pre_1 = []\n",
    "rec_1 = []\n",
    "for train, test in kfold.split(x=os_data_X.values, \n",
    "          y=os_data_y.values):\n",
    "  # create model\n",
    "    model = Sequential()\n",
    "\n",
    "    model.add(Dense(30,activation='relu')) \n",
    "    model.add(BatchNormalization())\n",
    "    model.add(Dense(15,activation='relu'))\n",
    "    model.add(BatchNormalization())\n",
    "    model.add(Dense(units=1,activation='sigmoid'))\n",
    "    opt = Adam(learning_rate=0.001)\n",
    "    model.compile(loss='binary_crossentropy', optimizer=opt, metrics = [\"accuracy\"])\n",
    "    early_stop = EarlyStopping(monitor=\"val_accuracy\", verbose =2, patience = 10, restore_best_weights=True)\n",
    "\t# Fit the model\n",
    "\tmodel.fit(x=os_data_X.values[train], \n",
    "          y=os_data_y.values[train], \n",
    "          batch_size = 512,\n",
    "          epochs=100,\n",
    "          validation_data=(X_test.values, y_test.values), verbose=1, callbacks = [early_stop])\n",
    "\t# evaluate the model\n",
    "    y_pred = model.predict_classes(X)\n",
    "\tscores = model.evaluate(X[test], Y[test], verbose=0)\n",
    "\tprint(\"%s: %.2f%%\" % (model.metrics_names[1], scores[1]*100))\n",
    "\tcvscores.append(scores[1] * 100)\n",
    "print(\"%.2f%% (+/- %.2f%%)\" % (numpy.mean(cvscores), numpy.std(cvscores)))"
   ]
  },
  {
   "cell_type": "code",
   "execution_count": 322,
   "metadata": {},
   "outputs": [
    {
     "name": "stdout",
     "output_type": "stream",
     "text": [
      "435000 48334\n",
      "435000 48334\n",
      "435000 48334\n",
      "435000 48334\n",
      "435001 48333\n",
      "435001 48333\n",
      "435001 48333\n",
      "435001 48333\n",
      "435001 48333\n",
      "435001 48333\n"
     ]
    }
   ],
   "source": [
    "kfold = StratifiedKFold(n_splits=10, shuffle=True)\n",
    "for train, test in kfold.split(os_data_X.values, os_data_y.values):\n",
    "    print(len(train), len(test))"
   ]
  },
  {
   "cell_type": "code",
   "execution_count": 309,
   "metadata": {},
   "outputs": [
    {
     "name": "stdout",
     "output_type": "stream",
     "text": [
      "2671/2671 [==============================] - 4s 2ms/step - loss: 0.0164 - accuracy: 0.9988\n"
     ]
    },
    {
     "data": {
      "text/plain": [
       "[0.016354046761989594, 0.9988296627998352]"
      ]
     },
     "execution_count": 309,
     "metadata": {},
     "output_type": "execute_result"
    }
   ],
   "source": [
    "model.evaluate(X_test, y_test, batch_size = 16,)"
   ]
  },
  {
   "cell_type": "code",
   "execution_count": 311,
   "metadata": {},
   "outputs": [
    {
     "data": {
      "text/plain": [
       "array([[0],\n",
       "       [0],\n",
       "       [0]])"
      ]
     },
     "execution_count": 311,
     "metadata": {},
     "output_type": "execute_result"
    }
   ],
   "source": [
    "model.predict_classes(X_test[:3])"
   ]
  },
  {
   "cell_type": "markdown",
   "metadata": {
    "id": "_JAEDNkjMuHj"
   },
   "source": [
    "***vi. Plot Precision and Recall Curve***"
   ]
  },
  {
   "cell_type": "markdown",
   "metadata": {
    "id": "LpbiGnpIxVK3"
   },
   "source": [
    "## 4. Model Deployement\n",
    "You cooked the food in the kitchen and moved on to the serving stage. The question is how do you showcase your work to others? Model Deployement helps you showcase your work to the world and make better decisions with it. But, deploying a model can get a little tricky at times. Before deploying the model, many things such as data storage, preprocessing, model building and monitoring need to be studied.\n",
    "\n",
    "Deployment of machine learning models, means making your models available to your other business systems. By deploying models, other systems can send data to them and get their predictions, which are in turn populated back into the company systems. Through machine learning model deployment, can begin to take full advantage of the model you built.\n",
    "\n",
    "Data science is concerned with how to build machine learning models, which algorithm is more predictive, how to design features, and what variables to use to make the models more accurate. However, how these models are actually used is often neglected. And yet this is the most important step in the machine learning pipline. Only when a model is fully integrated with the business systems, real values ​​can be extract from its predictions.\n",
    "\n",
    "After doing the following operations in this notebook, jump to *Pycharm* and create your web app with Flask API."
   ]
  },
  {
   "cell_type": "markdown",
   "metadata": {
    "id": "oCAYcMLEH_7P"
   },
   "source": [
    "### Save and Export the Model as .pkl\n"
   ]
  },
  {
   "cell_type": "code",
   "execution_count": 134,
   "metadata": {},
   "outputs": [],
   "source": [
    "import pickle"
   ]
  },
  {
   "cell_type": "code",
   "execution_count": 135,
   "metadata": {
    "id": "MqluJ9yvIOex"
   },
   "outputs": [],
   "source": [
    "pickle.dump(rf2, open('rf2_model.pkl', 'wb'))"
   ]
  },
  {
   "cell_type": "markdown",
   "metadata": {
    "id": "vaZP1N93IPQi"
   },
   "source": [
    "### Save and Export Variables as .pkl"
   ]
  },
  {
   "cell_type": "code",
   "execution_count": 136,
   "metadata": {
    "id": "q_vA-dJWxfFH"
   },
   "outputs": [],
   "source": [
    "pickle.dump(X2.columns, open('variables.pkl', 'wb'))"
   ]
  },
  {
   "cell_type": "markdown",
   "metadata": {
    "id": "cm9Z__Y7MuHj"
   },
   "source": [
    "___\n",
    "\n",
    "<p style=\"text-align: center;\"><img src=\"https://docs.google.com/uc?id=1lY0Uj5R04yMY3-ZppPWxqCr5pvBLYPnV\" class=\"img-fluid\" alt=\"CLRSWY\"></p>\n",
    "\n",
    "___"
   ]
  }
 ],
 "metadata": {
  "colab": {
   "collapsed_sections": [
    "OV28RJBeMuHb",
    "hlm6gCsKMuHb",
    "zKZcwgucJQ0I",
    "4f8q5y12MuHe",
    "9wvBCEvpJQ0U",
    "_3zm70O7JQ0Z"
   ],
   "name": "Fraud Detection_Student_V2.ipynb",
   "provenance": [],
   "toc_visible": true
  },
  "kernelspec": {
   "display_name": "Python 3",
   "language": "python",
   "name": "python3"
  },
  "language_info": {
   "codemirror_mode": {
    "name": "ipython",
    "version": 3
   },
   "file_extension": ".py",
   "mimetype": "text/x-python",
   "name": "python",
   "nbconvert_exporter": "python",
   "pygments_lexer": "ipython3",
   "version": "3.7.9"
  }
 },
 "nbformat": 4,
 "nbformat_minor": 1
}
