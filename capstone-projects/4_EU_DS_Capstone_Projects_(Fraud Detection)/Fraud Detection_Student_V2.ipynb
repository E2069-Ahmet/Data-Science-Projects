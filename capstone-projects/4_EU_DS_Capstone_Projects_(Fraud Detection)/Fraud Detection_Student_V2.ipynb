{
 "cells": [
  {
   "cell_type": "markdown",
   "metadata": {
    "id": "jx3Ut_rjMuHR"
   },
   "source": [
    "___\n",
    "\n",
    "<p style=\"text-align: center;\"><img src=\"https://docs.google.com/uc?id=1lY0Uj5R04yMY3-ZppPWxqCr5pvBLYPnV\" class=\"img-fluid\" alt=\"CLRSWY\"></p>\n",
    "\n",
    "___"
   ]
  },
  {
   "cell_type": "markdown",
   "metadata": {
    "id": "-24P_wByMuHX"
   },
   "source": [
    "# WELCOME!"
   ]
  },
  {
   "cell_type": "markdown",
   "metadata": {
    "id": "Ow9AD-4vMuHX"
   },
   "source": [
    "Welcome to \"***Fraud Detection Project***\". This is the last project of the Capstone Series.\n",
    "\n",
    "One of the challenges in this project is the absence of domain knowledge. So without knowing what the column names are, you will only be interested in their values. The other one is the class frequencies of the target variable are quite imbalanced.\n",
    "\n",
    "You will implement ***Logistic Regression, Random Forest, Neural Network*** algorithms and ***SMOTE*** technique. Also visualize performances of the models using ***Seaborn, Matplotlib*** and ***Yellowbrick*** in a variety of ways.\n",
    "\n",
    "At the end of the project, you will have the opportunity to deploy your model by ***Flask API***.\n",
    "\n",
    "Before diving into the project, please take a look at the Determines and Tasks.\n",
    "\n",
    "- ***NOTE:*** *This tutorial assumes that you already know the basics of coding in Python and are familiar with model deployement (flask api) as well as the theory behind Logistic Regression, Random Forest, Neural Network.*\n",
    "\n"
   ]
  },
  {
   "cell_type": "markdown",
   "metadata": {
    "id": "dqbMkIZ-MuHY"
   },
   "source": [
    "---\n",
    "---\n"
   ]
  },
  {
   "cell_type": "markdown",
   "metadata": {
    "id": "spCFDhO7MuHY"
   },
   "source": [
    "# #Determines\n",
    "The datasets contains transactions made by credit cards in September 2013 by european cardholders. This dataset presents transactions that occurred in two days, where it has **492 frauds** out of **284,807** transactions. The dataset is **highly unbalanced**, the positive class (frauds) account for 0.172% of all transactions.\n",
    "\n",
    "**Feature Information:**\n",
    "\n",
    "**Time**: This feature is contains the seconds elapsed between each transaction and the first transaction in the dataset. \n",
    "\n",
    "**Amount**:  This feature is the transaction Amount, can be used for example-dependant cost-senstive learning. \n",
    "\n",
    "**Class**: This feature is the target variable and it takes value 1 in case of fraud and 0 otherwise.\n",
    "\n",
    "---\n",
    "\n",
    "The aim of this project is to predict whether a credit card transaction is fraudulent. Of course, this is not easy to do.\n",
    "First of all, you need to analyze and recognize your data well in order to draw your roadmap and choose the correct arguments you will use. Accordingly, you can examine the frequency distributions of variables. You can observe variable correlations and want to explore multicollinearity. You can show the distribution of the target variable's classes over other variables. \n",
    "Also, it is useful to take missing values and outliers.\n",
    "\n",
    "After these procedures, you can move on to the model building stage by doing the basic data pre-processing you are familiar with. \n",
    "\n",
    "Start with Logistic Regression and evaluate model performance. You will apply the SMOTE technique used to increase the sample for unbalanced data. Next, rebuild your Logistic Regression model with SMOTE applied data to observe its effect.\n",
    "\n",
    "Then, you will use three different algorithms in the model building phase. You have applied Logistic Regression and Random Forest in your previous projects. However, the Deep Learning Neural Network algorithm will appear for the first time.\n",
    "\n",
    "In the final step, you will deploy your model using ***Flask API***."
   ]
  },
  {
   "cell_type": "markdown",
   "metadata": {
    "id": "YOl6z9mXMuHY"
   },
   "source": [
    "---\n",
    "---\n"
   ]
  },
  {
   "cell_type": "markdown",
   "metadata": {
    "id": "1o6X3hLLMuHZ"
   },
   "source": [
    "# #Tasks\n",
    "\n",
    "#### 1. Exploratory Data Analysis & Data Cleaning\n",
    "\n",
    "- Import Modules, Load Data & Data Review\n",
    "- Exploratory Data Analysis\n",
    "- Data Cleaning\n",
    "\n",
    "\n",
    "\n",
    "    \n",
    "#### 2. Data Preprocessing\n",
    "\n",
    "- Scaling\n",
    "- Train - Test Split\n",
    "\n",
    "\n",
    "#### 3. Model Building\n",
    "\n",
    "- Logistic Regression without SMOTE\n",
    "- Apply SMOTE\n",
    "- Logistic Regression with SMOTE\n",
    "- Random Forest Classifier with SMOTE\n",
    "- Neural Network\n",
    "\n",
    "#### 4. Model Deployement\n",
    "\n",
    "- Save and Export the Model as .pkl\n",
    "- Save and Export Variables as .pkl \n",
    "\n",
    "\n"
   ]
  },
  {
   "cell_type": "markdown",
   "metadata": {
    "id": "9sDSWJywMuHZ"
   },
   "source": [
    "---\n",
    "---\n"
   ]
  },
  {
   "cell_type": "markdown",
   "metadata": {
    "id": "fbFMU3AdMuHZ"
   },
   "source": [
    "## 1. Exploratory Data Analysis & Data Cleaning"
   ]
  },
  {
   "cell_type": "markdown",
   "metadata": {
    "id": "5nmI08_GMuHZ"
   },
   "source": [
    "### Import Modules, Load Data & Data Review"
   ]
  },
  {
   "cell_type": "code",
   "execution_count": 1,
   "metadata": {
    "id": "yKZtJybfMuHa"
   },
   "outputs": [],
   "source": [
    "import numpy as np\n",
    "import pandas as pd\n",
    "import statsmodels.api as sm\n",
    "import seaborn as sns\n",
    "import matplotlib.pyplot as plt\n",
    "import warnings\n",
    "warnings.filterwarnings(\"ignore\")\n",
    "from scipy.stats import zscore\n",
    "from scipy import stats\n",
    "import pandas as pd\n",
    "pd.set_option('display.max_rows', 500)\n",
    "pd.set_option('display.max_columns', 500)\n",
    "pd.set_option('display.width', 1000)\n",
    "from sklearn.preprocessing import scale, StandardScaler\n",
    "from sklearn.model_selection import train_test_split, GridSearchCV, cross_val_score\n",
    "from sklearn.metrics import confusion_matrix, accuracy_score, mean_squared_error, r2_score, roc_auc_score, roc_curve, classification_report"
   ]
  },
  {
   "cell_type": "code",
   "execution_count": 2,
   "metadata": {},
   "outputs": [],
   "source": [
    "df = pd.read_csv(\"creditcard.csv\")"
   ]
  },
  {
   "cell_type": "code",
   "execution_count": 3,
   "metadata": {},
   "outputs": [
    {
     "data": {
      "text/html": [
       "<div>\n",
       "<style scoped>\n",
       "    .dataframe tbody tr th:only-of-type {\n",
       "        vertical-align: middle;\n",
       "    }\n",
       "\n",
       "    .dataframe tbody tr th {\n",
       "        vertical-align: top;\n",
       "    }\n",
       "\n",
       "    .dataframe thead th {\n",
       "        text-align: right;\n",
       "    }\n",
       "</style>\n",
       "<table border=\"1\" class=\"dataframe\">\n",
       "  <thead>\n",
       "    <tr style=\"text-align: right;\">\n",
       "      <th></th>\n",
       "      <th>Time</th>\n",
       "      <th>V1</th>\n",
       "      <th>V2</th>\n",
       "      <th>V3</th>\n",
       "      <th>V4</th>\n",
       "      <th>V5</th>\n",
       "      <th>V6</th>\n",
       "      <th>V7</th>\n",
       "      <th>V8</th>\n",
       "      <th>V9</th>\n",
       "      <th>V10</th>\n",
       "      <th>V11</th>\n",
       "      <th>V12</th>\n",
       "      <th>V13</th>\n",
       "      <th>V14</th>\n",
       "      <th>V15</th>\n",
       "      <th>V16</th>\n",
       "      <th>V17</th>\n",
       "      <th>V18</th>\n",
       "      <th>V19</th>\n",
       "      <th>V20</th>\n",
       "      <th>V21</th>\n",
       "      <th>V22</th>\n",
       "      <th>V23</th>\n",
       "      <th>V24</th>\n",
       "      <th>V25</th>\n",
       "      <th>V26</th>\n",
       "      <th>V27</th>\n",
       "      <th>V28</th>\n",
       "      <th>Amount</th>\n",
       "      <th>Class</th>\n",
       "    </tr>\n",
       "  </thead>\n",
       "  <tbody>\n",
       "    <tr>\n",
       "      <th>0</th>\n",
       "      <td>0.0</td>\n",
       "      <td>-1.359807</td>\n",
       "      <td>-0.072781</td>\n",
       "      <td>2.536347</td>\n",
       "      <td>1.378155</td>\n",
       "      <td>-0.338321</td>\n",
       "      <td>0.462388</td>\n",
       "      <td>0.239599</td>\n",
       "      <td>0.098698</td>\n",
       "      <td>0.363787</td>\n",
       "      <td>0.090794</td>\n",
       "      <td>-0.551600</td>\n",
       "      <td>-0.617801</td>\n",
       "      <td>-0.991390</td>\n",
       "      <td>-0.311169</td>\n",
       "      <td>1.468177</td>\n",
       "      <td>-0.470401</td>\n",
       "      <td>0.207971</td>\n",
       "      <td>0.025791</td>\n",
       "      <td>0.403993</td>\n",
       "      <td>0.251412</td>\n",
       "      <td>-0.018307</td>\n",
       "      <td>0.277838</td>\n",
       "      <td>-0.110474</td>\n",
       "      <td>0.066928</td>\n",
       "      <td>0.128539</td>\n",
       "      <td>-0.189115</td>\n",
       "      <td>0.133558</td>\n",
       "      <td>-0.021053</td>\n",
       "      <td>149.62</td>\n",
       "      <td>0</td>\n",
       "    </tr>\n",
       "    <tr>\n",
       "      <th>1</th>\n",
       "      <td>0.0</td>\n",
       "      <td>1.191857</td>\n",
       "      <td>0.266151</td>\n",
       "      <td>0.166480</td>\n",
       "      <td>0.448154</td>\n",
       "      <td>0.060018</td>\n",
       "      <td>-0.082361</td>\n",
       "      <td>-0.078803</td>\n",
       "      <td>0.085102</td>\n",
       "      <td>-0.255425</td>\n",
       "      <td>-0.166974</td>\n",
       "      <td>1.612727</td>\n",
       "      <td>1.065235</td>\n",
       "      <td>0.489095</td>\n",
       "      <td>-0.143772</td>\n",
       "      <td>0.635558</td>\n",
       "      <td>0.463917</td>\n",
       "      <td>-0.114805</td>\n",
       "      <td>-0.183361</td>\n",
       "      <td>-0.145783</td>\n",
       "      <td>-0.069083</td>\n",
       "      <td>-0.225775</td>\n",
       "      <td>-0.638672</td>\n",
       "      <td>0.101288</td>\n",
       "      <td>-0.339846</td>\n",
       "      <td>0.167170</td>\n",
       "      <td>0.125895</td>\n",
       "      <td>-0.008983</td>\n",
       "      <td>0.014724</td>\n",
       "      <td>2.69</td>\n",
       "      <td>0</td>\n",
       "    </tr>\n",
       "    <tr>\n",
       "      <th>2</th>\n",
       "      <td>1.0</td>\n",
       "      <td>-1.358354</td>\n",
       "      <td>-1.340163</td>\n",
       "      <td>1.773209</td>\n",
       "      <td>0.379780</td>\n",
       "      <td>-0.503198</td>\n",
       "      <td>1.800499</td>\n",
       "      <td>0.791461</td>\n",
       "      <td>0.247676</td>\n",
       "      <td>-1.514654</td>\n",
       "      <td>0.207643</td>\n",
       "      <td>0.624501</td>\n",
       "      <td>0.066084</td>\n",
       "      <td>0.717293</td>\n",
       "      <td>-0.165946</td>\n",
       "      <td>2.345865</td>\n",
       "      <td>-2.890083</td>\n",
       "      <td>1.109969</td>\n",
       "      <td>-0.121359</td>\n",
       "      <td>-2.261857</td>\n",
       "      <td>0.524980</td>\n",
       "      <td>0.247998</td>\n",
       "      <td>0.771679</td>\n",
       "      <td>0.909412</td>\n",
       "      <td>-0.689281</td>\n",
       "      <td>-0.327642</td>\n",
       "      <td>-0.139097</td>\n",
       "      <td>-0.055353</td>\n",
       "      <td>-0.059752</td>\n",
       "      <td>378.66</td>\n",
       "      <td>0</td>\n",
       "    </tr>\n",
       "    <tr>\n",
       "      <th>3</th>\n",
       "      <td>1.0</td>\n",
       "      <td>-0.966272</td>\n",
       "      <td>-0.185226</td>\n",
       "      <td>1.792993</td>\n",
       "      <td>-0.863291</td>\n",
       "      <td>-0.010309</td>\n",
       "      <td>1.247203</td>\n",
       "      <td>0.237609</td>\n",
       "      <td>0.377436</td>\n",
       "      <td>-1.387024</td>\n",
       "      <td>-0.054952</td>\n",
       "      <td>-0.226487</td>\n",
       "      <td>0.178228</td>\n",
       "      <td>0.507757</td>\n",
       "      <td>-0.287924</td>\n",
       "      <td>-0.631418</td>\n",
       "      <td>-1.059647</td>\n",
       "      <td>-0.684093</td>\n",
       "      <td>1.965775</td>\n",
       "      <td>-1.232622</td>\n",
       "      <td>-0.208038</td>\n",
       "      <td>-0.108300</td>\n",
       "      <td>0.005274</td>\n",
       "      <td>-0.190321</td>\n",
       "      <td>-1.175575</td>\n",
       "      <td>0.647376</td>\n",
       "      <td>-0.221929</td>\n",
       "      <td>0.062723</td>\n",
       "      <td>0.061458</td>\n",
       "      <td>123.50</td>\n",
       "      <td>0</td>\n",
       "    </tr>\n",
       "    <tr>\n",
       "      <th>4</th>\n",
       "      <td>2.0</td>\n",
       "      <td>-1.158233</td>\n",
       "      <td>0.877737</td>\n",
       "      <td>1.548718</td>\n",
       "      <td>0.403034</td>\n",
       "      <td>-0.407193</td>\n",
       "      <td>0.095921</td>\n",
       "      <td>0.592941</td>\n",
       "      <td>-0.270533</td>\n",
       "      <td>0.817739</td>\n",
       "      <td>0.753074</td>\n",
       "      <td>-0.822843</td>\n",
       "      <td>0.538196</td>\n",
       "      <td>1.345852</td>\n",
       "      <td>-1.119670</td>\n",
       "      <td>0.175121</td>\n",
       "      <td>-0.451449</td>\n",
       "      <td>-0.237033</td>\n",
       "      <td>-0.038195</td>\n",
       "      <td>0.803487</td>\n",
       "      <td>0.408542</td>\n",
       "      <td>-0.009431</td>\n",
       "      <td>0.798278</td>\n",
       "      <td>-0.137458</td>\n",
       "      <td>0.141267</td>\n",
       "      <td>-0.206010</td>\n",
       "      <td>0.502292</td>\n",
       "      <td>0.219422</td>\n",
       "      <td>0.215153</td>\n",
       "      <td>69.99</td>\n",
       "      <td>0</td>\n",
       "    </tr>\n",
       "  </tbody>\n",
       "</table>\n",
       "</div>"
      ],
      "text/plain": [
       "   Time        V1        V2        V3        V4        V5        V6        V7        V8        V9       V10       V11       V12       V13       V14       V15       V16       V17       V18       V19       V20       V21       V22       V23       V24       V25       V26       V27       V28  Amount  Class\n",
       "0   0.0 -1.359807 -0.072781  2.536347  1.378155 -0.338321  0.462388  0.239599  0.098698  0.363787  0.090794 -0.551600 -0.617801 -0.991390 -0.311169  1.468177 -0.470401  0.207971  0.025791  0.403993  0.251412 -0.018307  0.277838 -0.110474  0.066928  0.128539 -0.189115  0.133558 -0.021053  149.62      0\n",
       "1   0.0  1.191857  0.266151  0.166480  0.448154  0.060018 -0.082361 -0.078803  0.085102 -0.255425 -0.166974  1.612727  1.065235  0.489095 -0.143772  0.635558  0.463917 -0.114805 -0.183361 -0.145783 -0.069083 -0.225775 -0.638672  0.101288 -0.339846  0.167170  0.125895 -0.008983  0.014724    2.69      0\n",
       "2   1.0 -1.358354 -1.340163  1.773209  0.379780 -0.503198  1.800499  0.791461  0.247676 -1.514654  0.207643  0.624501  0.066084  0.717293 -0.165946  2.345865 -2.890083  1.109969 -0.121359 -2.261857  0.524980  0.247998  0.771679  0.909412 -0.689281 -0.327642 -0.139097 -0.055353 -0.059752  378.66      0\n",
       "3   1.0 -0.966272 -0.185226  1.792993 -0.863291 -0.010309  1.247203  0.237609  0.377436 -1.387024 -0.054952 -0.226487  0.178228  0.507757 -0.287924 -0.631418 -1.059647 -0.684093  1.965775 -1.232622 -0.208038 -0.108300  0.005274 -0.190321 -1.175575  0.647376 -0.221929  0.062723  0.061458  123.50      0\n",
       "4   2.0 -1.158233  0.877737  1.548718  0.403034 -0.407193  0.095921  0.592941 -0.270533  0.817739  0.753074 -0.822843  0.538196  1.345852 -1.119670  0.175121 -0.451449 -0.237033 -0.038195  0.803487  0.408542 -0.009431  0.798278 -0.137458  0.141267 -0.206010  0.502292  0.219422  0.215153   69.99      0"
      ]
     },
     "execution_count": 3,
     "metadata": {},
     "output_type": "execute_result"
    }
   ],
   "source": [
    "df.head()"
   ]
  },
  {
   "cell_type": "markdown",
   "metadata": {
    "id": "K22reBkbMuHa"
   },
   "source": [
    "### Exploratory Data Analysis"
   ]
  },
  {
   "cell_type": "code",
   "execution_count": 18,
   "metadata": {
    "id": "2_yeQU4WJQ0D"
   },
   "outputs": [
    {
     "name": "stdout",
     "output_type": "stream",
     "text": [
      "<class 'pandas.core.frame.DataFrame'>\n",
      "RangeIndex: 284807 entries, 0 to 284806\n",
      "Data columns (total 31 columns):\n",
      " #   Column  Non-Null Count   Dtype  \n",
      "---  ------  --------------   -----  \n",
      " 0   Time    284807 non-null  float64\n",
      " 1   V1      284807 non-null  float64\n",
      " 2   V2      284807 non-null  float64\n",
      " 3   V3      284807 non-null  float64\n",
      " 4   V4      284807 non-null  float64\n",
      " 5   V5      284807 non-null  float64\n",
      " 6   V6      284807 non-null  float64\n",
      " 7   V7      284807 non-null  float64\n",
      " 8   V8      284807 non-null  float64\n",
      " 9   V9      284807 non-null  float64\n",
      " 10  V10     284807 non-null  float64\n",
      " 11  V11     284807 non-null  float64\n",
      " 12  V12     284807 non-null  float64\n",
      " 13  V13     284807 non-null  float64\n",
      " 14  V14     284807 non-null  float64\n",
      " 15  V15     284807 non-null  float64\n",
      " 16  V16     284807 non-null  float64\n",
      " 17  V17     284807 non-null  float64\n",
      " 18  V18     284807 non-null  float64\n",
      " 19  V19     284807 non-null  float64\n",
      " 20  V20     284807 non-null  float64\n",
      " 21  V21     284807 non-null  float64\n",
      " 22  V22     284807 non-null  float64\n",
      " 23  V23     284807 non-null  float64\n",
      " 24  V24     284807 non-null  float64\n",
      " 25  V25     284807 non-null  float64\n",
      " 26  V26     284807 non-null  float64\n",
      " 27  V27     284807 non-null  float64\n",
      " 28  V28     284807 non-null  float64\n",
      " 29  Amount  284807 non-null  float64\n",
      " 30  Class   284807 non-null  int64  \n",
      "dtypes: float64(30), int64(1)\n",
      "memory usage: 67.4 MB\n"
     ]
    }
   ],
   "source": [
    "df.info()"
   ]
  },
  {
   "cell_type": "code",
   "execution_count": 5,
   "metadata": {},
   "outputs": [
    {
     "data": {
      "text/html": [
       "<div>\n",
       "<style scoped>\n",
       "    .dataframe tbody tr th:only-of-type {\n",
       "        vertical-align: middle;\n",
       "    }\n",
       "\n",
       "    .dataframe tbody tr th {\n",
       "        vertical-align: top;\n",
       "    }\n",
       "\n",
       "    .dataframe thead th {\n",
       "        text-align: right;\n",
       "    }\n",
       "</style>\n",
       "<table border=\"1\" class=\"dataframe\">\n",
       "  <thead>\n",
       "    <tr style=\"text-align: right;\">\n",
       "      <th></th>\n",
       "      <th>Time</th>\n",
       "      <th>V1</th>\n",
       "      <th>V2</th>\n",
       "      <th>V3</th>\n",
       "      <th>V4</th>\n",
       "      <th>V5</th>\n",
       "      <th>V6</th>\n",
       "      <th>V7</th>\n",
       "      <th>V8</th>\n",
       "      <th>V9</th>\n",
       "      <th>V10</th>\n",
       "      <th>V11</th>\n",
       "      <th>V12</th>\n",
       "      <th>V13</th>\n",
       "      <th>V14</th>\n",
       "      <th>V15</th>\n",
       "      <th>V16</th>\n",
       "      <th>V17</th>\n",
       "      <th>V18</th>\n",
       "      <th>V19</th>\n",
       "      <th>V20</th>\n",
       "      <th>V21</th>\n",
       "      <th>V22</th>\n",
       "      <th>V23</th>\n",
       "      <th>V24</th>\n",
       "      <th>V25</th>\n",
       "      <th>V26</th>\n",
       "      <th>V27</th>\n",
       "      <th>V28</th>\n",
       "      <th>Amount</th>\n",
       "      <th>Class</th>\n",
       "    </tr>\n",
       "  </thead>\n",
       "  <tbody>\n",
       "    <tr>\n",
       "      <th>count</th>\n",
       "      <td>284807.000000</td>\n",
       "      <td>2.848070e+05</td>\n",
       "      <td>2.848070e+05</td>\n",
       "      <td>2.848070e+05</td>\n",
       "      <td>2.848070e+05</td>\n",
       "      <td>2.848070e+05</td>\n",
       "      <td>2.848070e+05</td>\n",
       "      <td>2.848070e+05</td>\n",
       "      <td>2.848070e+05</td>\n",
       "      <td>2.848070e+05</td>\n",
       "      <td>2.848070e+05</td>\n",
       "      <td>2.848070e+05</td>\n",
       "      <td>2.848070e+05</td>\n",
       "      <td>2.848070e+05</td>\n",
       "      <td>2.848070e+05</td>\n",
       "      <td>2.848070e+05</td>\n",
       "      <td>2.848070e+05</td>\n",
       "      <td>2.848070e+05</td>\n",
       "      <td>2.848070e+05</td>\n",
       "      <td>2.848070e+05</td>\n",
       "      <td>2.848070e+05</td>\n",
       "      <td>2.848070e+05</td>\n",
       "      <td>2.848070e+05</td>\n",
       "      <td>2.848070e+05</td>\n",
       "      <td>2.848070e+05</td>\n",
       "      <td>2.848070e+05</td>\n",
       "      <td>2.848070e+05</td>\n",
       "      <td>2.848070e+05</td>\n",
       "      <td>2.848070e+05</td>\n",
       "      <td>284807.000000</td>\n",
       "      <td>284807.000000</td>\n",
       "    </tr>\n",
       "    <tr>\n",
       "      <th>mean</th>\n",
       "      <td>94813.859575</td>\n",
       "      <td>3.919560e-15</td>\n",
       "      <td>5.688174e-16</td>\n",
       "      <td>-8.769071e-15</td>\n",
       "      <td>2.782312e-15</td>\n",
       "      <td>-1.552563e-15</td>\n",
       "      <td>2.010663e-15</td>\n",
       "      <td>-1.694249e-15</td>\n",
       "      <td>-1.927028e-16</td>\n",
       "      <td>-3.137024e-15</td>\n",
       "      <td>1.768627e-15</td>\n",
       "      <td>9.170318e-16</td>\n",
       "      <td>-1.810658e-15</td>\n",
       "      <td>1.693438e-15</td>\n",
       "      <td>1.479045e-15</td>\n",
       "      <td>3.482336e-15</td>\n",
       "      <td>1.392007e-15</td>\n",
       "      <td>-7.528491e-16</td>\n",
       "      <td>4.328772e-16</td>\n",
       "      <td>9.049732e-16</td>\n",
       "      <td>5.085503e-16</td>\n",
       "      <td>1.537294e-16</td>\n",
       "      <td>7.959909e-16</td>\n",
       "      <td>5.367590e-16</td>\n",
       "      <td>4.458112e-15</td>\n",
       "      <td>1.453003e-15</td>\n",
       "      <td>1.699104e-15</td>\n",
       "      <td>-3.660161e-16</td>\n",
       "      <td>-1.206049e-16</td>\n",
       "      <td>88.349619</td>\n",
       "      <td>0.001727</td>\n",
       "    </tr>\n",
       "    <tr>\n",
       "      <th>std</th>\n",
       "      <td>47488.145955</td>\n",
       "      <td>1.958696e+00</td>\n",
       "      <td>1.651309e+00</td>\n",
       "      <td>1.516255e+00</td>\n",
       "      <td>1.415869e+00</td>\n",
       "      <td>1.380247e+00</td>\n",
       "      <td>1.332271e+00</td>\n",
       "      <td>1.237094e+00</td>\n",
       "      <td>1.194353e+00</td>\n",
       "      <td>1.098632e+00</td>\n",
       "      <td>1.088850e+00</td>\n",
       "      <td>1.020713e+00</td>\n",
       "      <td>9.992014e-01</td>\n",
       "      <td>9.952742e-01</td>\n",
       "      <td>9.585956e-01</td>\n",
       "      <td>9.153160e-01</td>\n",
       "      <td>8.762529e-01</td>\n",
       "      <td>8.493371e-01</td>\n",
       "      <td>8.381762e-01</td>\n",
       "      <td>8.140405e-01</td>\n",
       "      <td>7.709250e-01</td>\n",
       "      <td>7.345240e-01</td>\n",
       "      <td>7.257016e-01</td>\n",
       "      <td>6.244603e-01</td>\n",
       "      <td>6.056471e-01</td>\n",
       "      <td>5.212781e-01</td>\n",
       "      <td>4.822270e-01</td>\n",
       "      <td>4.036325e-01</td>\n",
       "      <td>3.300833e-01</td>\n",
       "      <td>250.120109</td>\n",
       "      <td>0.041527</td>\n",
       "    </tr>\n",
       "    <tr>\n",
       "      <th>min</th>\n",
       "      <td>0.000000</td>\n",
       "      <td>-5.640751e+01</td>\n",
       "      <td>-7.271573e+01</td>\n",
       "      <td>-4.832559e+01</td>\n",
       "      <td>-5.683171e+00</td>\n",
       "      <td>-1.137433e+02</td>\n",
       "      <td>-2.616051e+01</td>\n",
       "      <td>-4.355724e+01</td>\n",
       "      <td>-7.321672e+01</td>\n",
       "      <td>-1.343407e+01</td>\n",
       "      <td>-2.458826e+01</td>\n",
       "      <td>-4.797473e+00</td>\n",
       "      <td>-1.868371e+01</td>\n",
       "      <td>-5.791881e+00</td>\n",
       "      <td>-1.921433e+01</td>\n",
       "      <td>-4.498945e+00</td>\n",
       "      <td>-1.412985e+01</td>\n",
       "      <td>-2.516280e+01</td>\n",
       "      <td>-9.498746e+00</td>\n",
       "      <td>-7.213527e+00</td>\n",
       "      <td>-5.449772e+01</td>\n",
       "      <td>-3.483038e+01</td>\n",
       "      <td>-1.093314e+01</td>\n",
       "      <td>-4.480774e+01</td>\n",
       "      <td>-2.836627e+00</td>\n",
       "      <td>-1.029540e+01</td>\n",
       "      <td>-2.604551e+00</td>\n",
       "      <td>-2.256568e+01</td>\n",
       "      <td>-1.543008e+01</td>\n",
       "      <td>0.000000</td>\n",
       "      <td>0.000000</td>\n",
       "    </tr>\n",
       "    <tr>\n",
       "      <th>25%</th>\n",
       "      <td>54201.500000</td>\n",
       "      <td>-9.203734e-01</td>\n",
       "      <td>-5.985499e-01</td>\n",
       "      <td>-8.903648e-01</td>\n",
       "      <td>-8.486401e-01</td>\n",
       "      <td>-6.915971e-01</td>\n",
       "      <td>-7.682956e-01</td>\n",
       "      <td>-5.540759e-01</td>\n",
       "      <td>-2.086297e-01</td>\n",
       "      <td>-6.430976e-01</td>\n",
       "      <td>-5.354257e-01</td>\n",
       "      <td>-7.624942e-01</td>\n",
       "      <td>-4.055715e-01</td>\n",
       "      <td>-6.485393e-01</td>\n",
       "      <td>-4.255740e-01</td>\n",
       "      <td>-5.828843e-01</td>\n",
       "      <td>-4.680368e-01</td>\n",
       "      <td>-4.837483e-01</td>\n",
       "      <td>-4.988498e-01</td>\n",
       "      <td>-4.562989e-01</td>\n",
       "      <td>-2.117214e-01</td>\n",
       "      <td>-2.283949e-01</td>\n",
       "      <td>-5.423504e-01</td>\n",
       "      <td>-1.618463e-01</td>\n",
       "      <td>-3.545861e-01</td>\n",
       "      <td>-3.171451e-01</td>\n",
       "      <td>-3.269839e-01</td>\n",
       "      <td>-7.083953e-02</td>\n",
       "      <td>-5.295979e-02</td>\n",
       "      <td>5.600000</td>\n",
       "      <td>0.000000</td>\n",
       "    </tr>\n",
       "    <tr>\n",
       "      <th>50%</th>\n",
       "      <td>84692.000000</td>\n",
       "      <td>1.810880e-02</td>\n",
       "      <td>6.548556e-02</td>\n",
       "      <td>1.798463e-01</td>\n",
       "      <td>-1.984653e-02</td>\n",
       "      <td>-5.433583e-02</td>\n",
       "      <td>-2.741871e-01</td>\n",
       "      <td>4.010308e-02</td>\n",
       "      <td>2.235804e-02</td>\n",
       "      <td>-5.142873e-02</td>\n",
       "      <td>-9.291738e-02</td>\n",
       "      <td>-3.275735e-02</td>\n",
       "      <td>1.400326e-01</td>\n",
       "      <td>-1.356806e-02</td>\n",
       "      <td>5.060132e-02</td>\n",
       "      <td>4.807155e-02</td>\n",
       "      <td>6.641332e-02</td>\n",
       "      <td>-6.567575e-02</td>\n",
       "      <td>-3.636312e-03</td>\n",
       "      <td>3.734823e-03</td>\n",
       "      <td>-6.248109e-02</td>\n",
       "      <td>-2.945017e-02</td>\n",
       "      <td>6.781943e-03</td>\n",
       "      <td>-1.119293e-02</td>\n",
       "      <td>4.097606e-02</td>\n",
       "      <td>1.659350e-02</td>\n",
       "      <td>-5.213911e-02</td>\n",
       "      <td>1.342146e-03</td>\n",
       "      <td>1.124383e-02</td>\n",
       "      <td>22.000000</td>\n",
       "      <td>0.000000</td>\n",
       "    </tr>\n",
       "    <tr>\n",
       "      <th>75%</th>\n",
       "      <td>139320.500000</td>\n",
       "      <td>1.315642e+00</td>\n",
       "      <td>8.037239e-01</td>\n",
       "      <td>1.027196e+00</td>\n",
       "      <td>7.433413e-01</td>\n",
       "      <td>6.119264e-01</td>\n",
       "      <td>3.985649e-01</td>\n",
       "      <td>5.704361e-01</td>\n",
       "      <td>3.273459e-01</td>\n",
       "      <td>5.971390e-01</td>\n",
       "      <td>4.539234e-01</td>\n",
       "      <td>7.395934e-01</td>\n",
       "      <td>6.182380e-01</td>\n",
       "      <td>6.625050e-01</td>\n",
       "      <td>4.931498e-01</td>\n",
       "      <td>6.488208e-01</td>\n",
       "      <td>5.232963e-01</td>\n",
       "      <td>3.996750e-01</td>\n",
       "      <td>5.008067e-01</td>\n",
       "      <td>4.589494e-01</td>\n",
       "      <td>1.330408e-01</td>\n",
       "      <td>1.863772e-01</td>\n",
       "      <td>5.285536e-01</td>\n",
       "      <td>1.476421e-01</td>\n",
       "      <td>4.395266e-01</td>\n",
       "      <td>3.507156e-01</td>\n",
       "      <td>2.409522e-01</td>\n",
       "      <td>9.104512e-02</td>\n",
       "      <td>7.827995e-02</td>\n",
       "      <td>77.165000</td>\n",
       "      <td>0.000000</td>\n",
       "    </tr>\n",
       "    <tr>\n",
       "      <th>max</th>\n",
       "      <td>172792.000000</td>\n",
       "      <td>2.454930e+00</td>\n",
       "      <td>2.205773e+01</td>\n",
       "      <td>9.382558e+00</td>\n",
       "      <td>1.687534e+01</td>\n",
       "      <td>3.480167e+01</td>\n",
       "      <td>7.330163e+01</td>\n",
       "      <td>1.205895e+02</td>\n",
       "      <td>2.000721e+01</td>\n",
       "      <td>1.559499e+01</td>\n",
       "      <td>2.374514e+01</td>\n",
       "      <td>1.201891e+01</td>\n",
       "      <td>7.848392e+00</td>\n",
       "      <td>7.126883e+00</td>\n",
       "      <td>1.052677e+01</td>\n",
       "      <td>8.877742e+00</td>\n",
       "      <td>1.731511e+01</td>\n",
       "      <td>9.253526e+00</td>\n",
       "      <td>5.041069e+00</td>\n",
       "      <td>5.591971e+00</td>\n",
       "      <td>3.942090e+01</td>\n",
       "      <td>2.720284e+01</td>\n",
       "      <td>1.050309e+01</td>\n",
       "      <td>2.252841e+01</td>\n",
       "      <td>4.584549e+00</td>\n",
       "      <td>7.519589e+00</td>\n",
       "      <td>3.517346e+00</td>\n",
       "      <td>3.161220e+01</td>\n",
       "      <td>3.384781e+01</td>\n",
       "      <td>25691.160000</td>\n",
       "      <td>1.000000</td>\n",
       "    </tr>\n",
       "  </tbody>\n",
       "</table>\n",
       "</div>"
      ],
      "text/plain": [
       "                Time            V1            V2            V3            V4            V5            V6            V7            V8            V9           V10           V11           V12           V13           V14           V15           V16           V17           V18           V19           V20           V21           V22           V23           V24           V25           V26           V27           V28         Amount          Class\n",
       "count  284807.000000  2.848070e+05  2.848070e+05  2.848070e+05  2.848070e+05  2.848070e+05  2.848070e+05  2.848070e+05  2.848070e+05  2.848070e+05  2.848070e+05  2.848070e+05  2.848070e+05  2.848070e+05  2.848070e+05  2.848070e+05  2.848070e+05  2.848070e+05  2.848070e+05  2.848070e+05  2.848070e+05  2.848070e+05  2.848070e+05  2.848070e+05  2.848070e+05  2.848070e+05  2.848070e+05  2.848070e+05  2.848070e+05  284807.000000  284807.000000\n",
       "mean    94813.859575  3.919560e-15  5.688174e-16 -8.769071e-15  2.782312e-15 -1.552563e-15  2.010663e-15 -1.694249e-15 -1.927028e-16 -3.137024e-15  1.768627e-15  9.170318e-16 -1.810658e-15  1.693438e-15  1.479045e-15  3.482336e-15  1.392007e-15 -7.528491e-16  4.328772e-16  9.049732e-16  5.085503e-16  1.537294e-16  7.959909e-16  5.367590e-16  4.458112e-15  1.453003e-15  1.699104e-15 -3.660161e-16 -1.206049e-16      88.349619       0.001727\n",
       "std     47488.145955  1.958696e+00  1.651309e+00  1.516255e+00  1.415869e+00  1.380247e+00  1.332271e+00  1.237094e+00  1.194353e+00  1.098632e+00  1.088850e+00  1.020713e+00  9.992014e-01  9.952742e-01  9.585956e-01  9.153160e-01  8.762529e-01  8.493371e-01  8.381762e-01  8.140405e-01  7.709250e-01  7.345240e-01  7.257016e-01  6.244603e-01  6.056471e-01  5.212781e-01  4.822270e-01  4.036325e-01  3.300833e-01     250.120109       0.041527\n",
       "min         0.000000 -5.640751e+01 -7.271573e+01 -4.832559e+01 -5.683171e+00 -1.137433e+02 -2.616051e+01 -4.355724e+01 -7.321672e+01 -1.343407e+01 -2.458826e+01 -4.797473e+00 -1.868371e+01 -5.791881e+00 -1.921433e+01 -4.498945e+00 -1.412985e+01 -2.516280e+01 -9.498746e+00 -7.213527e+00 -5.449772e+01 -3.483038e+01 -1.093314e+01 -4.480774e+01 -2.836627e+00 -1.029540e+01 -2.604551e+00 -2.256568e+01 -1.543008e+01       0.000000       0.000000\n",
       "25%     54201.500000 -9.203734e-01 -5.985499e-01 -8.903648e-01 -8.486401e-01 -6.915971e-01 -7.682956e-01 -5.540759e-01 -2.086297e-01 -6.430976e-01 -5.354257e-01 -7.624942e-01 -4.055715e-01 -6.485393e-01 -4.255740e-01 -5.828843e-01 -4.680368e-01 -4.837483e-01 -4.988498e-01 -4.562989e-01 -2.117214e-01 -2.283949e-01 -5.423504e-01 -1.618463e-01 -3.545861e-01 -3.171451e-01 -3.269839e-01 -7.083953e-02 -5.295979e-02       5.600000       0.000000\n",
       "50%     84692.000000  1.810880e-02  6.548556e-02  1.798463e-01 -1.984653e-02 -5.433583e-02 -2.741871e-01  4.010308e-02  2.235804e-02 -5.142873e-02 -9.291738e-02 -3.275735e-02  1.400326e-01 -1.356806e-02  5.060132e-02  4.807155e-02  6.641332e-02 -6.567575e-02 -3.636312e-03  3.734823e-03 -6.248109e-02 -2.945017e-02  6.781943e-03 -1.119293e-02  4.097606e-02  1.659350e-02 -5.213911e-02  1.342146e-03  1.124383e-02      22.000000       0.000000\n",
       "75%    139320.500000  1.315642e+00  8.037239e-01  1.027196e+00  7.433413e-01  6.119264e-01  3.985649e-01  5.704361e-01  3.273459e-01  5.971390e-01  4.539234e-01  7.395934e-01  6.182380e-01  6.625050e-01  4.931498e-01  6.488208e-01  5.232963e-01  3.996750e-01  5.008067e-01  4.589494e-01  1.330408e-01  1.863772e-01  5.285536e-01  1.476421e-01  4.395266e-01  3.507156e-01  2.409522e-01  9.104512e-02  7.827995e-02      77.165000       0.000000\n",
       "max    172792.000000  2.454930e+00  2.205773e+01  9.382558e+00  1.687534e+01  3.480167e+01  7.330163e+01  1.205895e+02  2.000721e+01  1.559499e+01  2.374514e+01  1.201891e+01  7.848392e+00  7.126883e+00  1.052677e+01  8.877742e+00  1.731511e+01  9.253526e+00  5.041069e+00  5.591971e+00  3.942090e+01  2.720284e+01  1.050309e+01  2.252841e+01  4.584549e+00  7.519589e+00  3.517346e+00  3.161220e+01  3.384781e+01   25691.160000       1.000000"
      ]
     },
     "execution_count": 5,
     "metadata": {},
     "output_type": "execute_result"
    }
   ],
   "source": [
    "df.describe()"
   ]
  },
  {
   "cell_type": "code",
   "execution_count": 6,
   "metadata": {},
   "outputs": [
    {
     "data": {
      "text/plain": [
       "(284807, 31)"
      ]
     },
     "execution_count": 6,
     "metadata": {},
     "output_type": "execute_result"
    }
   ],
   "source": [
    "df.shape"
   ]
  },
  {
   "cell_type": "code",
   "execution_count": 7,
   "metadata": {},
   "outputs": [
    {
     "data": {
      "text/plain": [
       "False"
      ]
     },
     "execution_count": 7,
     "metadata": {},
     "output_type": "execute_result"
    }
   ],
   "source": [
    "any(df.isnull().sum())"
   ]
  },
  {
   "cell_type": "code",
   "execution_count": 8,
   "metadata": {},
   "outputs": [
    {
     "data": {
      "text/plain": [
       "0    284315\n",
       "1       492\n",
       "Name: Class, dtype: int64"
      ]
     },
     "execution_count": 8,
     "metadata": {},
     "output_type": "execute_result"
    }
   ],
   "source": [
    "df.Class.value_counts()"
   ]
  },
  {
   "cell_type": "code",
   "execution_count": 9,
   "metadata": {},
   "outputs": [
    {
     "data": {
      "text/html": [
       "<div>\n",
       "<style scoped>\n",
       "    .dataframe tbody tr th:only-of-type {\n",
       "        vertical-align: middle;\n",
       "    }\n",
       "\n",
       "    .dataframe tbody tr th {\n",
       "        vertical-align: top;\n",
       "    }\n",
       "\n",
       "    .dataframe thead th {\n",
       "        text-align: right;\n",
       "    }\n",
       "</style>\n",
       "<table border=\"1\" class=\"dataframe\">\n",
       "  <thead>\n",
       "    <tr style=\"text-align: right;\">\n",
       "      <th></th>\n",
       "      <th>Time</th>\n",
       "      <th>V1</th>\n",
       "      <th>V2</th>\n",
       "      <th>V3</th>\n",
       "      <th>V4</th>\n",
       "      <th>V5</th>\n",
       "      <th>V6</th>\n",
       "      <th>V7</th>\n",
       "      <th>V8</th>\n",
       "      <th>V9</th>\n",
       "      <th>V10</th>\n",
       "      <th>V11</th>\n",
       "      <th>V12</th>\n",
       "      <th>V13</th>\n",
       "      <th>V14</th>\n",
       "      <th>V15</th>\n",
       "      <th>V16</th>\n",
       "      <th>V17</th>\n",
       "      <th>V18</th>\n",
       "      <th>V19</th>\n",
       "      <th>V20</th>\n",
       "      <th>V21</th>\n",
       "      <th>V22</th>\n",
       "      <th>V23</th>\n",
       "      <th>V24</th>\n",
       "      <th>V25</th>\n",
       "      <th>V26</th>\n",
       "      <th>V27</th>\n",
       "      <th>V28</th>\n",
       "      <th>Amount</th>\n",
       "    </tr>\n",
       "    <tr>\n",
       "      <th>Class</th>\n",
       "      <th></th>\n",
       "      <th></th>\n",
       "      <th></th>\n",
       "      <th></th>\n",
       "      <th></th>\n",
       "      <th></th>\n",
       "      <th></th>\n",
       "      <th></th>\n",
       "      <th></th>\n",
       "      <th></th>\n",
       "      <th></th>\n",
       "      <th></th>\n",
       "      <th></th>\n",
       "      <th></th>\n",
       "      <th></th>\n",
       "      <th></th>\n",
       "      <th></th>\n",
       "      <th></th>\n",
       "      <th></th>\n",
       "      <th></th>\n",
       "      <th></th>\n",
       "      <th></th>\n",
       "      <th></th>\n",
       "      <th></th>\n",
       "      <th></th>\n",
       "      <th></th>\n",
       "      <th></th>\n",
       "      <th></th>\n",
       "      <th></th>\n",
       "      <th></th>\n",
       "    </tr>\n",
       "  </thead>\n",
       "  <tbody>\n",
       "    <tr>\n",
       "      <th>0</th>\n",
       "      <td>94838.202258</td>\n",
       "      <td>0.008258</td>\n",
       "      <td>-0.006271</td>\n",
       "      <td>0.012171</td>\n",
       "      <td>-0.007860</td>\n",
       "      <td>0.005453</td>\n",
       "      <td>0.002419</td>\n",
       "      <td>0.009637</td>\n",
       "      <td>-0.000987</td>\n",
       "      <td>0.004467</td>\n",
       "      <td>0.009824</td>\n",
       "      <td>-0.006576</td>\n",
       "      <td>0.010832</td>\n",
       "      <td>0.000189</td>\n",
       "      <td>0.012064</td>\n",
       "      <td>0.000161</td>\n",
       "      <td>0.007164</td>\n",
       "      <td>0.011535</td>\n",
       "      <td>0.003887</td>\n",
       "      <td>-0.001178</td>\n",
       "      <td>-0.000644</td>\n",
       "      <td>-0.001235</td>\n",
       "      <td>-0.000024</td>\n",
       "      <td>0.000070</td>\n",
       "      <td>0.000182</td>\n",
       "      <td>-0.000072</td>\n",
       "      <td>-0.000089</td>\n",
       "      <td>-0.000295</td>\n",
       "      <td>-0.000131</td>\n",
       "      <td>88.291022</td>\n",
       "    </tr>\n",
       "    <tr>\n",
       "      <th>1</th>\n",
       "      <td>80746.806911</td>\n",
       "      <td>-4.771948</td>\n",
       "      <td>3.623778</td>\n",
       "      <td>-7.033281</td>\n",
       "      <td>4.542029</td>\n",
       "      <td>-3.151225</td>\n",
       "      <td>-1.397737</td>\n",
       "      <td>-5.568731</td>\n",
       "      <td>0.570636</td>\n",
       "      <td>-2.581123</td>\n",
       "      <td>-5.676883</td>\n",
       "      <td>3.800173</td>\n",
       "      <td>-6.259393</td>\n",
       "      <td>-0.109334</td>\n",
       "      <td>-6.971723</td>\n",
       "      <td>-0.092929</td>\n",
       "      <td>-4.139946</td>\n",
       "      <td>-6.665836</td>\n",
       "      <td>-2.246308</td>\n",
       "      <td>0.680659</td>\n",
       "      <td>0.372319</td>\n",
       "      <td>0.713588</td>\n",
       "      <td>0.014049</td>\n",
       "      <td>-0.040308</td>\n",
       "      <td>-0.105130</td>\n",
       "      <td>0.041449</td>\n",
       "      <td>0.051648</td>\n",
       "      <td>0.170575</td>\n",
       "      <td>0.075667</td>\n",
       "      <td>122.211321</td>\n",
       "    </tr>\n",
       "  </tbody>\n",
       "</table>\n",
       "</div>"
      ],
      "text/plain": [
       "               Time        V1        V2        V3        V4        V5        V6        V7        V8        V9       V10       V11       V12       V13       V14       V15       V16       V17       V18       V19       V20       V21       V22       V23       V24       V25       V26       V27       V28      Amount\n",
       "Class                                                                                                                                                                                                                                                                                                                  \n",
       "0      94838.202258  0.008258 -0.006271  0.012171 -0.007860  0.005453  0.002419  0.009637 -0.000987  0.004467  0.009824 -0.006576  0.010832  0.000189  0.012064  0.000161  0.007164  0.011535  0.003887 -0.001178 -0.000644 -0.001235 -0.000024  0.000070  0.000182 -0.000072 -0.000089 -0.000295 -0.000131   88.291022\n",
       "1      80746.806911 -4.771948  3.623778 -7.033281  4.542029 -3.151225 -1.397737 -5.568731  0.570636 -2.581123 -5.676883  3.800173 -6.259393 -0.109334 -6.971723 -0.092929 -4.139946 -6.665836 -2.246308  0.680659  0.372319  0.713588  0.014049 -0.040308 -0.105130  0.041449  0.051648  0.170575  0.075667  122.211321"
      ]
     },
     "execution_count": 9,
     "metadata": {},
     "output_type": "execute_result"
    }
   ],
   "source": [
    "df.groupby(\"Class\").mean()"
   ]
  },
  {
   "cell_type": "code",
   "execution_count": 10,
   "metadata": {},
   "outputs": [
    {
     "data": {
      "image/png": "[encoded data removed]",
      "text/plain": [
       "<Figure size 576x432 with 1 Axes>"
      ]
     },
     "metadata": {
      "needs_background": "light"
     },
     "output_type": "display_data"
    }
   ],
   "source": [
    "plt.figure(figsize=(8,6))\n",
    "ax = sns.countplot(x=df.Class, hue=df.Class)\n",
    "for p in ax.patches:\n",
    "    ax.annotate((p.get_height()), (p.get_x()+0.10, p.get_height()+4000));"
   ]
  },
  {
   "cell_type": "code",
   "execution_count": 11,
   "metadata": {},
   "outputs": [
    {
     "data": {
      "image/png": "[encoded data removed]",
      "text/plain": [
       "<Figure size 1440x432 with 1 Axes>"
      ]
     },
     "metadata": {
      "needs_background": "light"
     },
     "output_type": "display_data"
    }
   ],
   "source": [
    "plt.figure(figsize=(20,6))\n",
    "ax = sns.distplot(df.Amount, kde = False)\n",
    "for p in ax.patches:\n",
    "    ax.annotate(int(p.get_height()), (p.get_x()+0.10, p.get_height()+4000), rotation=90);"
   ]
  },
  {
   "cell_type": "markdown",
   "metadata": {
    "id": "NGyEoz9fJQ0E"
   },
   "source": [
    "### Data Cleaning\n",
    "Check Missing Values and Outliers"
   ]
  },
  {
   "cell_type": "code",
   "execution_count": 12,
   "metadata": {
    "id": "BvpEPuGAMuHa"
   },
   "outputs": [
    {
     "name": "stdout",
     "output_type": "stream",
     "text": [
      " count of outlier in Time column by Class 0= 0 \n",
      " count of outlier in Time column by Class 1= 0 \n",
      "\n",
      " count of outlier in V1 column by Class 0= 6912 \n",
      " count of outlier in V1 column by Class 1= 52 \n",
      "\n",
      " count of outlier in V2 column by Class 0= 13327 \n",
      " count of outlier in V2 column by Class 1= 46 \n",
      "\n",
      " count of outlier in V3 column by Class 0= 3095 \n",
      " count of outlier in V3 column by Class 1= 53 \n",
      "\n",
      " count of outlier in V4 column by Class 0= 10918 \n",
      " count of outlier in V4 column by Class 1= 0 \n",
      "\n",
      " count of outlier in V5 column by Class 0= 12124 \n",
      " count of outlier in V5 column by Class 1= 45 \n",
      "\n",
      " count of outlier in V6 column by Class 0= 22829 \n",
      " count of outlier in V6 column by Class 1= 15 \n",
      "\n",
      " count of outlier in V7 column by Class 0= 8668 \n",
      " count of outlier in V7 column by Class 1= 30 \n",
      "\n",
      " count of outlier in V8 column by Class 0= 23974 \n",
      " count of outlier in V8 column by Class 1= 98 \n",
      "\n",
      " count of outlier in V9 column by Class 0= 8090 \n",
      " count of outlier in V9 column by Class 1= 17 \n",
      "\n",
      " count of outlier in V10 column by Class 0= 9128 \n",
      " count of outlier in V10 column by Class 1= 19 \n",
      "\n",
      " count of outlier in V11 column by Class 0= 492 \n",
      " count of outlier in V11 column by Class 1= 10 \n",
      "\n",
      " count of outlier in V12 column by Class 0= 15054 \n",
      " count of outlier in V12 column by Class 1= 6 \n",
      "\n",
      " count of outlier in V13 column by Class 0= 3365 \n",
      " count of outlier in V13 column by Class 1= 0 \n",
      "\n",
      " count of outlier in V14 column by Class 0= 13800 \n",
      " count of outlier in V14 column by Class 1= 4 \n",
      "\n",
      " count of outlier in V15 column by Class 0= 2883 \n",
      " count of outlier in V15 column by Class 1= 8 \n",
      "\n",
      " count of outlier in V16 column by Class 0= 7908 \n",
      " count of outlier in V16 column by Class 1= 0 \n",
      "\n",
      " count of outlier in V17 column by Class 0= 7038 \n",
      " count of outlier in V17 column by Class 1= 0 \n",
      "\n",
      " count of outlier in V18 column by Class 0= 7345 \n",
      " count of outlier in V18 column by Class 1= 0 \n",
      "\n",
      " count of outlier in V19 column by Class 0= 10131 \n",
      " count of outlier in V19 column by Class 1= 5 \n",
      "\n",
      " count of outlier in V20 column by Class 0= 27649 \n",
      " count of outlier in V20 column by Class 1= 41 \n",
      "\n",
      " count of outlier in V21 column by Class 0= 14273 \n",
      " count of outlier in V21 column by Class 1= 49 \n",
      "\n",
      " count of outlier in V22 column by Class 0= 1289 \n",
      " count of outlier in V22 column by Class 1= 24 \n",
      "\n",
      " count of outlier in V23 column by Class 0= 18411 \n",
      " count of outlier in V23 column by Class 1= 59 \n",
      "\n",
      " count of outlier in V24 column by Class 0= 4771 \n",
      " count of outlier in V24 column by Class 1= 3 \n",
      "\n",
      " count of outlier in V25 column by Class 0= 5314 \n",
      " count of outlier in V25 column by Class 1= 36 \n",
      "\n",
      " count of outlier in V26 column by Class 0= 5603 \n",
      " count of outlier in V26 column by Class 1= 2 \n",
      "\n",
      " count of outlier in V27 column by Class 0= 39018 \n",
      " count of outlier in V27 column by Class 1= 70 \n",
      "\n",
      " count of outlier in V28 column by Class 0= 30206 \n",
      " count of outlier in V28 column by Class 1= 46 \n",
      "\n",
      " count of outlier in Amount column by Class 0= 31862 \n",
      " count of outlier in Amount column by Class 1= 69 \n",
      "\n",
      " count of outlier in Class column by Class 0= 0 \n",
      " count of outlier in Class column by Class 1= 0 \n",
      "\n"
     ]
    }
   ],
   "source": [
    "for col in df:\n",
    "    for counter in range(len(df[\"Class\"].unique())):\n",
    "        \n",
    "        Q1 = df[df[\"Class\"]==counter][col].quantile(0.25)\n",
    "        Q3 = df[df[\"Class\"]==counter][col].quantile(0.75)\n",
    "        IQR = Q3-Q1\n",
    "        lower_lim = Q1-1.5*IQR\n",
    "        upper_lim = Q3+1.5*IQR\n",
    "        print(f\" count of outlier in {col} column by Class {counter}= {df[df['Class']==counter][(df[df['Class']==counter][col] < lower_lim) | (df[df['Class']==counter][col] > upper_lim)][col].count()} \")\n",
    "    print()"
   ]
  },
  {
   "cell_type": "code",
   "execution_count": 13,
   "metadata": {},
   "outputs": [
    {
     "data": {
      "text/html": [
       "<div>\n",
       "<style scoped>\n",
       "    .dataframe tbody tr th:only-of-type {\n",
       "        vertical-align: middle;\n",
       "    }\n",
       "\n",
       "    .dataframe tbody tr th {\n",
       "        vertical-align: top;\n",
       "    }\n",
       "\n",
       "    .dataframe thead th {\n",
       "        text-align: right;\n",
       "    }\n",
       "</style>\n",
       "<table border=\"1\" class=\"dataframe\">\n",
       "  <thead>\n",
       "    <tr style=\"text-align: right;\">\n",
       "      <th></th>\n",
       "      <th>Time</th>\n",
       "      <th>Amount</th>\n",
       "    </tr>\n",
       "  </thead>\n",
       "  <tbody>\n",
       "    <tr>\n",
       "      <th>0</th>\n",
       "      <td>0.0</td>\n",
       "      <td>149.62</td>\n",
       "    </tr>\n",
       "    <tr>\n",
       "      <th>1</th>\n",
       "      <td>0.0</td>\n",
       "      <td>2.69</td>\n",
       "    </tr>\n",
       "    <tr>\n",
       "      <th>2</th>\n",
       "      <td>1.0</td>\n",
       "      <td>378.66</td>\n",
       "    </tr>\n",
       "    <tr>\n",
       "      <th>3</th>\n",
       "      <td>1.0</td>\n",
       "      <td>123.50</td>\n",
       "    </tr>\n",
       "    <tr>\n",
       "      <th>4</th>\n",
       "      <td>2.0</td>\n",
       "      <td>69.99</td>\n",
       "    </tr>\n",
       "    <tr>\n",
       "      <th>...</th>\n",
       "      <td>...</td>\n",
       "      <td>...</td>\n",
       "    </tr>\n",
       "    <tr>\n",
       "      <th>284802</th>\n",
       "      <td>172786.0</td>\n",
       "      <td>0.77</td>\n",
       "    </tr>\n",
       "    <tr>\n",
       "      <th>284803</th>\n",
       "      <td>172787.0</td>\n",
       "      <td>24.79</td>\n",
       "    </tr>\n",
       "    <tr>\n",
       "      <th>284804</th>\n",
       "      <td>172788.0</td>\n",
       "      <td>67.88</td>\n",
       "    </tr>\n",
       "    <tr>\n",
       "      <th>284805</th>\n",
       "      <td>172788.0</td>\n",
       "      <td>10.00</td>\n",
       "    </tr>\n",
       "    <tr>\n",
       "      <th>284806</th>\n",
       "      <td>172792.0</td>\n",
       "      <td>217.00</td>\n",
       "    </tr>\n",
       "  </tbody>\n",
       "</table>\n",
       "<p>284807 rows × 2 columns</p>\n",
       "</div>"
      ],
      "text/plain": [
       "            Time  Amount\n",
       "0            0.0  149.62\n",
       "1            0.0    2.69\n",
       "2            1.0  378.66\n",
       "3            1.0  123.50\n",
       "4            2.0   69.99\n",
       "...          ...     ...\n",
       "284802  172786.0    0.77\n",
       "284803  172787.0   24.79\n",
       "284804  172788.0   67.88\n",
       "284805  172788.0   10.00\n",
       "284806  172792.0  217.00\n",
       "\n",
       "[284807 rows x 2 columns]"
      ]
     },
     "execution_count": 13,
     "metadata": {},
     "output_type": "execute_result"
    }
   ],
   "source": [
    "df[[\"Time\", \"Amount\"]]"
   ]
  },
  {
   "cell_type": "code",
   "execution_count": 14,
   "metadata": {},
   "outputs": [
    {
     "data": {
      "text/plain": [
       "<AxesSubplot:xlabel='Class', ylabel='Time'>"
      ]
     },
     "execution_count": 14,
     "metadata": {},
     "output_type": "execute_result"
    },
    {
     "data": {
      "image/png": "[encoded data removed]",
      "text/plain": [
       "<Figure size 432x288 with 1 Axes>"
      ]
     },
     "metadata": {
      "needs_background": "light"
     },
     "output_type": "display_data"
    }
   ],
   "source": [
    "sns.boxplot(y = df.Time, x = df.Class)"
   ]
  },
  {
   "cell_type": "code",
   "execution_count": 15,
   "metadata": {},
   "outputs": [
    {
     "data": {
      "image/png": "[encoded data removed]",
      "text/plain": [
       "<Figure size 432x288 with 1 Axes>"
      ]
     },
     "metadata": {
      "needs_background": "light"
     },
     "output_type": "display_data"
    }
   ],
   "source": [
    "sns.boxplot(y = df.Amount, x = df.Class);"
   ]
  },
  {
   "cell_type": "code",
   "execution_count": 16,
   "metadata": {},
   "outputs": [
    {
     "data": {
      "text/html": [
       "<div>\n",
       "<style scoped>\n",
       "    .dataframe tbody tr th:only-of-type {\n",
       "        vertical-align: middle;\n",
       "    }\n",
       "\n",
       "    .dataframe tbody tr th {\n",
       "        vertical-align: top;\n",
       "    }\n",
       "\n",
       "    .dataframe thead th {\n",
       "        text-align: right;\n",
       "    }\n",
       "</style>\n",
       "<table border=\"1\" class=\"dataframe\">\n",
       "  <thead>\n",
       "    <tr style=\"text-align: right;\">\n",
       "      <th></th>\n",
       "      <th>Time</th>\n",
       "      <th>V1</th>\n",
       "      <th>V2</th>\n",
       "      <th>V3</th>\n",
       "      <th>V4</th>\n",
       "      <th>V5</th>\n",
       "      <th>V6</th>\n",
       "      <th>V7</th>\n",
       "      <th>V8</th>\n",
       "      <th>V9</th>\n",
       "      <th>...</th>\n",
       "      <th>V21</th>\n",
       "      <th>V22</th>\n",
       "      <th>V23</th>\n",
       "      <th>V24</th>\n",
       "      <th>V25</th>\n",
       "      <th>V26</th>\n",
       "      <th>V27</th>\n",
       "      <th>V28</th>\n",
       "      <th>Amount</th>\n",
       "      <th>Class</th>\n",
       "    </tr>\n",
       "  </thead>\n",
       "  <tbody>\n",
       "    <tr>\n",
       "      <th>0.333333</th>\n",
       "      <td>65096.333333</td>\n",
       "      <td>-0.640588</td>\n",
       "      <td>-0.336101</td>\n",
       "      <td>-0.466159</td>\n",
       "      <td>-0.602006</td>\n",
       "      <td>-0.455403</td>\n",
       "      <td>-0.602144</td>\n",
       "      <td>-0.333849</td>\n",
       "      <td>-0.126824</td>\n",
       "      <td>-0.412954</td>\n",
       "      <td>...</td>\n",
       "      <td>-0.160147</td>\n",
       "      <td>-0.357089</td>\n",
       "      <td>-0.104434</td>\n",
       "      <td>-0.152608</td>\n",
       "      <td>-0.216690</td>\n",
       "      <td>-0.238731</td>\n",
       "      <td>-0.042315</td>\n",
       "      <td>-0.032122</td>\n",
       "      <td>9.99</td>\n",
       "      <td>0.0</td>\n",
       "    </tr>\n",
       "    <tr>\n",
       "      <th>0.666667</th>\n",
       "      <td>128593.000000</td>\n",
       "      <td>1.177454</td>\n",
       "      <td>0.520578</td>\n",
       "      <td>0.723818</td>\n",
       "      <td>0.461542</td>\n",
       "      <td>0.364415</td>\n",
       "      <td>0.125498</td>\n",
       "      <td>0.359008</td>\n",
       "      <td>0.197366</td>\n",
       "      <td>0.356571</td>\n",
       "      <td>...</td>\n",
       "      <td>0.107777</td>\n",
       "      <td>0.339791</td>\n",
       "      <td>0.086350</td>\n",
       "      <td>0.323565</td>\n",
       "      <td>0.242539</td>\n",
       "      <td>0.141397</td>\n",
       "      <td>0.049289</td>\n",
       "      <td>0.041034</td>\n",
       "      <td>50.00</td>\n",
       "      <td>0.0</td>\n",
       "    </tr>\n",
       "  </tbody>\n",
       "</table>\n",
       "<p>2 rows × 31 columns</p>\n",
       "</div>"
      ],
      "text/plain": [
       "                   Time        V1        V2        V3        V4        V5  \\\n",
       "0.333333   65096.333333 -0.640588 -0.336101 -0.466159 -0.602006 -0.455403   \n",
       "0.666667  128593.000000  1.177454  0.520578  0.723818  0.461542  0.364415   \n",
       "\n",
       "                V6        V7        V8        V9  ...       V21       V22  \\\n",
       "0.333333 -0.602144 -0.333849 -0.126824 -0.412954  ... -0.160147 -0.357089   \n",
       "0.666667  0.125498  0.359008  0.197366  0.356571  ...  0.107777  0.339791   \n",
       "\n",
       "               V23       V24       V25       V26       V27       V28  Amount  \\\n",
       "0.333333 -0.104434 -0.152608 -0.216690 -0.238731 -0.042315 -0.032122    9.99   \n",
       "0.666667  0.086350  0.323565  0.242539  0.141397  0.049289  0.041034   50.00   \n",
       "\n",
       "          Class  \n",
       "0.333333    0.0  \n",
       "0.666667    0.0  \n",
       "\n",
       "[2 rows x 31 columns]"
      ]
     },
     "execution_count": 16,
     "metadata": {},
     "output_type": "execute_result"
    }
   ],
   "source": [
    "quartiles = df.quantile(q = [1/3, 2/3])\n",
    "quartiles"
   ]
  },
  {
   "cell_type": "code",
   "execution_count": 17,
   "metadata": {},
   "outputs": [],
   "source": [
    "def fraud(x, p,d):\n",
    "    if x <= d[p][1/3]:\n",
    "        return 1\n",
    "    elif x <= d[p][2/3]:\n",
    "        return 2\n",
    "    else:\n",
    "        return 3"
   ]
  },
  {
   "cell_type": "code",
   "execution_count": 18,
   "metadata": {},
   "outputs": [],
   "source": [
    "d = df.Amount.apply(fraud, args = (\"Amount\", quartiles))"
   ]
  },
  {
   "cell_type": "code",
   "execution_count": 19,
   "metadata": {},
   "outputs": [
    {
     "data": {
      "image/png": "[encoded data removed]",
      "text/plain": [
       "<Figure size 720x576 with 1 Axes>"
      ]
     },
     "metadata": {
      "needs_background": "light"
     },
     "output_type": "display_data"
    }
   ],
   "source": [
    "plt.figure(figsize=(10,8))\n",
    "ax = sns.countplot(d, hue = df.Class)\n",
    "for p in ax.patches:\n",
    "    ax.annotate((p.get_height()), (p.get_x()+0.15, p.get_height()+100));"
   ]
  },
  {
   "cell_type": "code",
   "execution_count": 20,
   "metadata": {},
   "outputs": [],
   "source": [
    "d = df.Time.apply(fraud, args = (\"Time\", quartiles))"
   ]
  },
  {
   "cell_type": "code",
   "execution_count": 21,
   "metadata": {},
   "outputs": [
    {
     "data": {
      "image/png": "[encoded data removed]",
      "text/plain": [
       "<Figure size 720x576 with 1 Axes>"
      ]
     },
     "metadata": {
      "needs_background": "light"
     },
     "output_type": "display_data"
    }
   ],
   "source": [
    "plt.figure(figsize=(10,8))\n",
    "ax = sns.countplot(d, hue = df.Class)\n",
    "for p in ax.patches:\n",
    "    ax.annotate((p.get_height()), (p.get_x()+0.15, p.get_height()+100));"
   ]
  },
  {
   "cell_type": "code",
   "execution_count": null,
   "metadata": {},
   "outputs": [],
   "source": []
  },
  {
   "cell_type": "markdown",
   "metadata": {
    "id": "tMOO7g-sMuHb"
   },
   "source": [
    "---\n",
    "---\n"
   ]
  },
  {
   "cell_type": "markdown",
   "metadata": {
    "id": "Yf6VvH6WMuHb"
   },
   "source": [
    "## 2. Data Preprocessing"
   ]
  },
  {
   "cell_type": "markdown",
   "metadata": {
    "id": "OV28RJBeMuHb"
   },
   "source": [
    "#### Scaling"
   ]
  },
  {
   "cell_type": "code",
   "execution_count": 4,
   "metadata": {},
   "outputs": [],
   "source": [
    "X = df.drop(\"Class\", axis=1)\n",
    "y = df[\"Class\"]"
   ]
  },
  {
   "cell_type": "code",
   "execution_count": 5,
   "metadata": {
    "cellView": "form",
    "id": "9YbdPguXMuHb"
   },
   "outputs": [
    {
     "data": {
      "text/html": [
       "<div>\n",
       "<style scoped>\n",
       "    .dataframe tbody tr th:only-of-type {\n",
       "        vertical-align: middle;\n",
       "    }\n",
       "\n",
       "    .dataframe tbody tr th {\n",
       "        vertical-align: top;\n",
       "    }\n",
       "\n",
       "    .dataframe thead th {\n",
       "        text-align: right;\n",
       "    }\n",
       "</style>\n",
       "<table border=\"1\" class=\"dataframe\">\n",
       "  <thead>\n",
       "    <tr style=\"text-align: right;\">\n",
       "      <th></th>\n",
       "      <th>Time</th>\n",
       "      <th>V1</th>\n",
       "      <th>V2</th>\n",
       "      <th>V3</th>\n",
       "      <th>V4</th>\n",
       "      <th>V5</th>\n",
       "      <th>V6</th>\n",
       "      <th>V7</th>\n",
       "      <th>V8</th>\n",
       "      <th>V9</th>\n",
       "      <th>V10</th>\n",
       "      <th>V11</th>\n",
       "      <th>V12</th>\n",
       "      <th>V13</th>\n",
       "      <th>V14</th>\n",
       "      <th>V15</th>\n",
       "      <th>V16</th>\n",
       "      <th>V17</th>\n",
       "      <th>V18</th>\n",
       "      <th>V19</th>\n",
       "      <th>V20</th>\n",
       "      <th>V21</th>\n",
       "      <th>V22</th>\n",
       "      <th>V23</th>\n",
       "      <th>V24</th>\n",
       "      <th>V25</th>\n",
       "      <th>V26</th>\n",
       "      <th>V27</th>\n",
       "      <th>V28</th>\n",
       "      <th>Amount</th>\n",
       "    </tr>\n",
       "  </thead>\n",
       "  <tbody>\n",
       "    <tr>\n",
       "      <th>0</th>\n",
       "      <td>-1.996583</td>\n",
       "      <td>-0.694242</td>\n",
       "      <td>-0.044075</td>\n",
       "      <td>1.672773</td>\n",
       "      <td>0.973366</td>\n",
       "      <td>-0.245117</td>\n",
       "      <td>0.347068</td>\n",
       "      <td>0.193679</td>\n",
       "      <td>0.082637</td>\n",
       "      <td>0.331128</td>\n",
       "      <td>0.083386</td>\n",
       "      <td>-0.540407</td>\n",
       "      <td>-0.618296</td>\n",
       "      <td>-0.996099</td>\n",
       "      <td>-0.324610</td>\n",
       "      <td>1.604014</td>\n",
       "      <td>-0.536833</td>\n",
       "      <td>0.244863</td>\n",
       "      <td>0.030770</td>\n",
       "      <td>0.496282</td>\n",
       "      <td>0.326118</td>\n",
       "      <td>-0.024923</td>\n",
       "      <td>0.382854</td>\n",
       "      <td>-0.176911</td>\n",
       "      <td>0.110507</td>\n",
       "      <td>0.246585</td>\n",
       "      <td>-0.392170</td>\n",
       "      <td>0.330892</td>\n",
       "      <td>-0.063781</td>\n",
       "      <td>0.244964</td>\n",
       "    </tr>\n",
       "    <tr>\n",
       "      <th>1</th>\n",
       "      <td>-1.996583</td>\n",
       "      <td>0.608496</td>\n",
       "      <td>0.161176</td>\n",
       "      <td>0.109797</td>\n",
       "      <td>0.316523</td>\n",
       "      <td>0.043483</td>\n",
       "      <td>-0.061820</td>\n",
       "      <td>-0.063700</td>\n",
       "      <td>0.071253</td>\n",
       "      <td>-0.232494</td>\n",
       "      <td>-0.153350</td>\n",
       "      <td>1.580003</td>\n",
       "      <td>1.066089</td>\n",
       "      <td>0.491418</td>\n",
       "      <td>-0.149982</td>\n",
       "      <td>0.694360</td>\n",
       "      <td>0.529434</td>\n",
       "      <td>-0.135170</td>\n",
       "      <td>-0.218763</td>\n",
       "      <td>-0.179086</td>\n",
       "      <td>-0.089611</td>\n",
       "      <td>-0.307377</td>\n",
       "      <td>-0.880077</td>\n",
       "      <td>0.162201</td>\n",
       "      <td>-0.561131</td>\n",
       "      <td>0.320694</td>\n",
       "      <td>0.261069</td>\n",
       "      <td>-0.022256</td>\n",
       "      <td>0.044608</td>\n",
       "      <td>-0.342475</td>\n",
       "    </tr>\n",
       "    <tr>\n",
       "      <th>2</th>\n",
       "      <td>-1.996562</td>\n",
       "      <td>-0.693500</td>\n",
       "      <td>-0.811578</td>\n",
       "      <td>1.169468</td>\n",
       "      <td>0.268231</td>\n",
       "      <td>-0.364572</td>\n",
       "      <td>1.351454</td>\n",
       "      <td>0.639776</td>\n",
       "      <td>0.207373</td>\n",
       "      <td>-1.378675</td>\n",
       "      <td>0.190700</td>\n",
       "      <td>0.611830</td>\n",
       "      <td>0.066137</td>\n",
       "      <td>0.720700</td>\n",
       "      <td>-0.173114</td>\n",
       "      <td>2.562906</td>\n",
       "      <td>-3.298235</td>\n",
       "      <td>1.306868</td>\n",
       "      <td>-0.144790</td>\n",
       "      <td>-2.778561</td>\n",
       "      <td>0.680975</td>\n",
       "      <td>0.337632</td>\n",
       "      <td>1.063358</td>\n",
       "      <td>1.456320</td>\n",
       "      <td>-1.138092</td>\n",
       "      <td>-0.628537</td>\n",
       "      <td>-0.288447</td>\n",
       "      <td>-0.137137</td>\n",
       "      <td>-0.181021</td>\n",
       "      <td>1.160686</td>\n",
       "    </tr>\n",
       "    <tr>\n",
       "      <th>3</th>\n",
       "      <td>-1.996562</td>\n",
       "      <td>-0.493325</td>\n",
       "      <td>-0.112169</td>\n",
       "      <td>1.182516</td>\n",
       "      <td>-0.609727</td>\n",
       "      <td>-0.007469</td>\n",
       "      <td>0.936150</td>\n",
       "      <td>0.192071</td>\n",
       "      <td>0.316018</td>\n",
       "      <td>-1.262503</td>\n",
       "      <td>-0.050468</td>\n",
       "      <td>-0.221892</td>\n",
       "      <td>0.178371</td>\n",
       "      <td>0.510169</td>\n",
       "      <td>-0.300360</td>\n",
       "      <td>-0.689837</td>\n",
       "      <td>-1.209296</td>\n",
       "      <td>-0.805445</td>\n",
       "      <td>2.345305</td>\n",
       "      <td>-1.514205</td>\n",
       "      <td>-0.269855</td>\n",
       "      <td>-0.147443</td>\n",
       "      <td>0.007267</td>\n",
       "      <td>-0.304777</td>\n",
       "      <td>-1.941027</td>\n",
       "      <td>1.241904</td>\n",
       "      <td>-0.460217</td>\n",
       "      <td>0.155396</td>\n",
       "      <td>0.186189</td>\n",
       "      <td>0.140534</td>\n",
       "    </tr>\n",
       "    <tr>\n",
       "      <th>4</th>\n",
       "      <td>-1.996541</td>\n",
       "      <td>-0.591330</td>\n",
       "      <td>0.531541</td>\n",
       "      <td>1.021412</td>\n",
       "      <td>0.284655</td>\n",
       "      <td>-0.295015</td>\n",
       "      <td>0.071999</td>\n",
       "      <td>0.479302</td>\n",
       "      <td>-0.226510</td>\n",
       "      <td>0.744326</td>\n",
       "      <td>0.691625</td>\n",
       "      <td>-0.806147</td>\n",
       "      <td>0.538627</td>\n",
       "      <td>1.352244</td>\n",
       "      <td>-1.168034</td>\n",
       "      <td>0.191323</td>\n",
       "      <td>-0.515205</td>\n",
       "      <td>-0.279081</td>\n",
       "      <td>-0.045569</td>\n",
       "      <td>0.987037</td>\n",
       "      <td>0.529939</td>\n",
       "      <td>-0.012839</td>\n",
       "      <td>1.100011</td>\n",
       "      <td>-0.220123</td>\n",
       "      <td>0.233250</td>\n",
       "      <td>-0.395202</td>\n",
       "      <td>1.041611</td>\n",
       "      <td>0.543620</td>\n",
       "      <td>0.651816</td>\n",
       "      <td>-0.073403</td>\n",
       "    </tr>\n",
       "  </tbody>\n",
       "</table>\n",
       "</div>"
      ],
      "text/plain": [
       "       Time        V1        V2        V3        V4        V5        V6        V7        V8        V9       V10       V11       V12       V13       V14       V15       V16       V17       V18       V19       V20       V21       V22       V23       V24       V25       V26       V27       V28    Amount\n",
       "0 -1.996583 -0.694242 -0.044075  1.672773  0.973366 -0.245117  0.347068  0.193679  0.082637  0.331128  0.083386 -0.540407 -0.618296 -0.996099 -0.324610  1.604014 -0.536833  0.244863  0.030770  0.496282  0.326118 -0.024923  0.382854 -0.176911  0.110507  0.246585 -0.392170  0.330892 -0.063781  0.244964\n",
       "1 -1.996583  0.608496  0.161176  0.109797  0.316523  0.043483 -0.061820 -0.063700  0.071253 -0.232494 -0.153350  1.580003  1.066089  0.491418 -0.149982  0.694360  0.529434 -0.135170 -0.218763 -0.179086 -0.089611 -0.307377 -0.880077  0.162201 -0.561131  0.320694  0.261069 -0.022256  0.044608 -0.342475\n",
       "2 -1.996562 -0.693500 -0.811578  1.169468  0.268231 -0.364572  1.351454  0.639776  0.207373 -1.378675  0.190700  0.611830  0.066137  0.720700 -0.173114  2.562906 -3.298235  1.306868 -0.144790 -2.778561  0.680975  0.337632  1.063358  1.456320 -1.138092 -0.628537 -0.288447 -0.137137 -0.181021  1.160686\n",
       "3 -1.996562 -0.493325 -0.112169  1.182516 -0.609727 -0.007469  0.936150  0.192071  0.316018 -1.262503 -0.050468 -0.221892  0.178371  0.510169 -0.300360 -0.689837 -1.209296 -0.805445  2.345305 -1.514205 -0.269855 -0.147443  0.007267 -0.304777 -1.941027  1.241904 -0.460217  0.155396  0.186189  0.140534\n",
       "4 -1.996541 -0.591330  0.531541  1.021412  0.284655 -0.295015  0.071999  0.479302 -0.226510  0.744326  0.691625 -0.806147  0.538627  1.352244 -1.168034  0.191323 -0.515205 -0.279081 -0.045569  0.987037  0.529939 -0.012839  1.100011 -0.220123  0.233250 -0.395202  1.041611  0.543620  0.651816 -0.073403"
      ]
     },
     "execution_count": 5,
     "metadata": {},
     "output_type": "execute_result"
    }
   ],
   "source": [
    "from sklearn.preprocessing import StandardScaler\n",
    "scaler = StandardScaler().fit(X)\n",
    "X_scaled = scaler.transform(X)\n",
    "# transform into a dataframe\n",
    "X_scaled = pd.DataFrame(X_scaled, index = X.index, columns = X.columns)\n",
    "X_scaled.head()\n"
   ]
  },
  {
   "cell_type": "markdown",
   "metadata": {
    "id": "hlm6gCsKMuHb"
   },
   "source": [
    "#### Train - Test Split\n",
    "\n",
    "As in this case, for extremely imbalanced datasets you may want to make sure that classes are balanced across train and test data."
   ]
  },
  {
   "cell_type": "code",
   "execution_count": 6,
   "metadata": {
    "id": "AuzpxEmKMuHb"
   },
   "outputs": [],
   "source": [
    "X_train, X_test, y_train, y_test = train_test_split(X, y, test_size = 0.15, stratify = y, random_state=42)"
   ]
  },
  {
   "cell_type": "code",
   "execution_count": 7,
   "metadata": {},
   "outputs": [],
   "source": [
    "X_train_sc, X_test_sc, y_train_sc, y_test_sc = train_test_split(X_scaled, y, test_size = 0.15, stratify = y, random_state=42)"
   ]
  },
  {
   "cell_type": "markdown",
   "metadata": {
    "id": "HO4HAIofMuHc"
   },
   "source": [
    "---\n",
    "---\n"
   ]
  },
  {
   "cell_type": "markdown",
   "metadata": {
    "id": "MwQdl4PdJQ0I"
   },
   "source": [
    "## 3. Model Building\n",
    "It was previously stated that you need to make class prediction with three different algorithms. As in this case, different approaches are required to obtain better performance on unbalanced data.\n",
    "\n",
    "This dataset is severely **unbalanced** (most of the transactions are non-fraud). So the algorithms are much more likely to classify new observations to the majority class and high accuracy won't tell us anything. To address the problem of imbalanced dataset we can use undersampling and oversampling data approach techniques. Oversampling increases the number of minority class members in the training set. The advantage of oversampling is that no information from the original training set is lost unlike in undersampling, as all observations from the minority and majority classes are kept. On the other hand, it is prone to overfitting. \n",
    "\n",
    "There is a type of oversampling called **[SMOTE](https://www.geeksforgeeks.org/ml-handling-imbalanced-data-with-smote-and-near-miss-algorithm-in-python/)** (Synthetic Minority Oversampling Technique), which we are going to use to make our dataset balanced. It creates synthetic points from the minority class.\n",
    "\n",
    "- It is important that you can evaluate the effectiveness of SMOTE. For this reason, implement the Logistic Regression algorithm in two different ways, with SMOTE applied and without.\n",
    "\n",
    "***Note***: \n",
    "\n",
    "- *Do not forget to import the necessary libraries and modules before starting the model building!*\n",
    "\n",
    "- *If you are going to use the cross validation method to be more sure of the performance of your model for unbalanced data, you should make sure that the class distributions in the iterations are equal. For this case, you should use **[StratifiedKFold](https://www.analyseup.com/python-machine-learning/stratified-kfold.html)** instead of regular cross validation method.*"
   ]
  },
  {
   "cell_type": "markdown",
   "metadata": {
    "id": "zKZcwgucJQ0I"
   },
   "source": [
    "### Logistic Regression without SMOTE\n",
    "\n",
    "- The steps you are going to cover for this algorithm are as follows: \n",
    "\n",
    "   i. Import Libraries\n",
    "   \n",
    "   *ii. Model Training*\n",
    "   \n",
    "   *iii. Prediction and Model Evaluating*\n",
    "   \n",
    "   *iv. Plot Precision and Recall Curve*\n",
    "   \n",
    "   *v. Apply and Plot StratifiedKFold*"
   ]
  },
  {
   "cell_type": "markdown",
   "metadata": {
    "id": "o48s5BCdMuHd"
   },
   "source": [
    "***i. Import Libraries***"
   ]
  },
  {
   "cell_type": "code",
   "execution_count": 8,
   "metadata": {
    "id": "3G3cx-UjMuHd"
   },
   "outputs": [],
   "source": [
    "from sklearn.linear_model import LogisticRegression"
   ]
  },
  {
   "cell_type": "markdown",
   "metadata": {
    "id": "6KD76bc5MuHd"
   },
   "source": [
    "***ii. Model Training***"
   ]
  },
  {
   "cell_type": "code",
   "execution_count": 14,
   "metadata": {},
   "outputs": [],
   "source": [
    "log_model = LogisticRegression(C = 10)"
   ]
  },
  {
   "cell_type": "code",
   "execution_count": 15,
   "metadata": {
    "id": "g7GAK-u3MuHd"
   },
   "outputs": [
    {
     "data": {
      "text/plain": [
       "LogisticRegression(C=10)"
      ]
     },
     "execution_count": 15,
     "metadata": {},
     "output_type": "execute_result"
    }
   ],
   "source": [
    "log_model.fit(X_train_sc,y_train_sc)"
   ]
  },
  {
   "cell_type": "markdown",
   "metadata": {
    "id": "uvKAJVTNMuHd"
   },
   "source": [
    "***iii. Prediction and Model Evaluating***"
   ]
  },
  {
   "cell_type": "code",
   "execution_count": 16,
   "metadata": {
    "id": "Kb68hH1TMuHd"
   },
   "outputs": [
    {
     "name": "stdout",
     "output_type": "stream",
     "text": [
      "[[42637    11]\n",
      " [   25    49]]\n",
      "              precision    recall  f1-score   support\n",
      "\n",
      "           0       1.00      1.00      1.00     42648\n",
      "           1       0.82      0.66      0.73        74\n",
      "\n",
      "    accuracy                           1.00     42722\n",
      "   macro avg       0.91      0.83      0.87     42722\n",
      "weighted avg       1.00      1.00      1.00     42722\n",
      "\n"
     ]
    }
   ],
   "source": [
    "y_pred = log_model.predict(X_test_sc)\n",
    "print(confusion_matrix(y_test_sc, y_pred))\n",
    "print(classification_report(y_test_sc, y_pred))"
   ]
  },
  {
   "cell_type": "code",
   "execution_count": 9,
   "metadata": {},
   "outputs": [],
   "source": [
    "from sklearn.metrics import make_scorer\n",
    "from sklearn.metrics import f1_score, accuracy_score, precision_score, recall_score"
   ]
  },
  {
   "cell_type": "code",
   "execution_count": 12,
   "metadata": {},
   "outputs": [
    {
     "name": "stdout",
     "output_type": "stream",
     "text": [
      "[0.9993, 0.9994, 0.9994, 0.9992, 0.9992, 0.999, 0.9991, 0.999, 0.9995, 0.9995] \n",
      "\n",
      " accuracy : %99.93 std : %0.015 \n",
      "\n",
      "[0.9994, 0.9997, 0.9995, 0.9994, 0.9994, 0.9992, 0.9993, 0.9991, 0.9996, 0.9995] \n",
      "\n",
      " precision-0 : %99.94 std : %0.017 \n",
      "\n",
      "[0.9999, 0.9997, 0.9999, 0.9998, 0.9998, 0.9999, 0.9999, 0.9999, 0.9998, 1.0] \n",
      "\n",
      " recall-0 : %99.99 std : %0.007 \n",
      "\n",
      "[0.9996, 0.9997, 0.9997, 0.9996, 0.9996, 0.9995, 0.9996, 0.9995, 0.9997, 0.9997] \n",
      "\n",
      " f1-0 : %99.96 std : %0.008 \n",
      "\n",
      "[0.9, 0.8293, 0.9355, 0.871, 0.8235, 0.875, 0.8846, 0.913, 0.8919, 0.9677] \n",
      "\n",
      " precision-1 : %88.92 std : %4.179 \n",
      "\n",
      "[0.6429, 0.8095, 0.6905, 0.6429, 0.6667, 0.5122, 0.561, 0.5, 0.7857, 0.7143] \n",
      "\n",
      " recall-1 : %65.26 std : %9.968 \n",
      "\n",
      "[0.75, 0.8193, 0.7945, 0.7397, 0.7368, 0.6462, 0.6866, 0.6462, 0.8354, 0.8219] \n",
      "\n",
      " f1-1 : %74.77 std : %6.713 \n",
      "\n"
     ]
    }
   ],
   "source": [
    "from sklearn.metrics import make_scorer\n",
    "from sklearn.metrics import f1_score, accuracy_score, precision_score, recall_score\n",
    "custom_scorer = {'accuracy': make_scorer(accuracy_score),\n",
    "                 'precision-0': make_scorer(precision_score, average='weighted', labels=[0]),\n",
    "                 'recall-0': make_scorer(recall_score, average='weighted', labels = [0]),\n",
    "                 'f1-0': make_scorer(f1_score, average='weighted', labels = [0]),\n",
    "                 'precision-1': make_scorer(precision_score, average='weighted', labels=[1]),\n",
    "                 'recall-1': make_scorer(recall_score, average='weighted', labels = [1]),\n",
    "                 'f1-1': make_scorer(f1_score, average='weighted', labels = [1])\n",
    "                 }\n",
    "\n",
    "for i, j in custom_scorer.items():\n",
    "    log_model = LogisticRegression(C = 10)\n",
    "    scores = cross_val_score(log_model, X_train_sc, y_train_sc, cv = 10, scoring = j, n_jobs = -1)\n",
    "    print([round(i, 4) for i in scores], \"\\n\")\n",
    "    print(f\" {i} : %{scores.mean()*100:.2f} std : %{scores.std()*100:.3f} \\n\")"
   ]
  },
  {
   "cell_type": "code",
   "execution_count": 17,
   "metadata": {},
   "outputs": [
    {
     "data": {
      "image/png": "[encoded data removed]",
      "text/plain": [
       "<Figure size 576x396 with 1 Axes>"
      ]
     },
     "metadata": {},
     "output_type": "display_data"
    },
    {
     "data": {
      "text/plain": [
       "<AxesSubplot:title={'center':'LogisticRegression Confusion Matrix'}, xlabel='Predicted Class', ylabel='True Class'>"
      ]
     },
     "execution_count": 17,
     "metadata": {},
     "output_type": "execute_result"
    }
   ],
   "source": [
    "from yellowbrick.classifier import ConfusionMatrix\n",
    "# The ConfusionMatrix visualizer taxes a model\n",
    "cm = ConfusionMatrix(log_model, classes=y_test.unique())\n",
    "\n",
    "# Fit fits the passed model. This is unnecessary if you pass the visualizer a pre-fitted model\n",
    "cm.fit(X_train_sc, y_train_sc)\n",
    "\n",
    "# To create the ConfusionMatrix, we need some test data. Score runs predict() on the data\n",
    "# and then creates the confusion_matrix from scikit-learn.\n",
    "cm.score(X_test_sc, y_test_sc)\n",
    "\n",
    "# How did we do?\n",
    "cm.show()"
   ]
  },
  {
   "cell_type": "markdown",
   "metadata": {
    "id": "l193OP5fMuHd"
   },
   "source": [
    "\n",
    "You're evaluating \"accuracy score\"? Is your performance metric reflect real success? You may need to use different metrics to evaluate performance on unbalanced data. You should use **[precision and recall metrics](https://scikit-learn.org/stable/auto_examples/model_selection/plot_precision_recall.html#:~:text=The%20precision%2Drecall%20curve%20shows,a%20low%20false%20negative%20rate.)**."
   ]
  },
  {
   "cell_type": "markdown",
   "metadata": {
    "id": "fUDt5voIMuHe"
   },
   "source": [
    "***iv. Plot Precision and Recall Curve***\n"
   ]
  },
  {
   "cell_type": "code",
   "execution_count": 18,
   "metadata": {
    "id": "WI0OI9SDMuHe"
   },
   "outputs": [
    {
     "name": "stdout",
     "output_type": "stream",
     "text": [
      "Average precision-recall score: 0.70\n"
     ]
    }
   ],
   "source": [
    "from sklearn.metrics import average_precision_score\n",
    "y_score = log_model.decision_function(X_test_sc)\n",
    "average_precision = average_precision_score(y_test_sc, y_score, pos_label = 1)\n",
    "\n",
    "print('Average precision-recall score: {0:0.2f}'.format(average_precision))"
   ]
  },
  {
   "cell_type": "code",
   "execution_count": 19,
   "metadata": {},
   "outputs": [
    {
     "data": {
      "text/plain": [
       "<Figure size 720x720 with 0 Axes>"
      ]
     },
     "metadata": {},
     "output_type": "display_data"
    },
    {
     "data": {
      "image/png": "[encoded data removed]",
      "text/plain": [
       "<Figure size 576x396 with 1 Axes>"
      ]
     },
     "metadata": {},
     "output_type": "display_data"
    }
   ],
   "source": [
    "from sklearn.metrics import plot_precision_recall_curve\n",
    "\n",
    "plt.figure(figsize=(10,10))\n",
    "disp = plot_precision_recall_curve(log_model, X_test_sc, y_test_sc)\n",
    "disp.ax_.set_title('Precision-Recall curve');"
   ]
  },
  {
   "cell_type": "markdown",
   "metadata": {
    "id": "CAzArHfTMuHe"
   },
   "source": [
    "***v. Apply and Plot StratifiedKFold***"
   ]
  },
  {
   "cell_type": "code",
   "execution_count": 10,
   "metadata": {},
   "outputs": [],
   "source": [
    "from sklearn.model_selection import StratifiedKFold\n",
    "from imblearn.over_sampling import SMOTE"
   ]
  },
  {
   "cell_type": "code",
   "execution_count": 49,
   "metadata": {},
   "outputs": [
    {
     "name": "stdout",
     "output_type": "stream",
     "text": [
      "Accuracy: %99.9206 std %0.01\n",
      "Precision 1: %87.8613 std %4.91\n",
      "Recall 1: %63.0204 std %5.20\n",
      "F1_score 1: %73.2033 std  %3.78\n"
     ]
    }
   ],
   "source": [
    "def Learning(n, est, X, y):\n",
    "    skf = StratifiedKFold(n_splits = n, shuffle = True, random_state = 42)\n",
    "    acc_scores = []\n",
    "    pre_scores = []\n",
    "    rec_scores = []\n",
    "    f1_scores = []\n",
    "    \n",
    "    for train_index, test_index in skf.split(X, y): \n",
    "        X_train = X.loc[train_index]\n",
    "        y_train = y.loc[train_index]    \n",
    "        \n",
    "        X_test = X.loc[test_index]\n",
    "        y_test = y.loc[test_index]\n",
    "        est = est\n",
    "        est.fit(X_train, y_train)\n",
    "        y_pred = est.predict(X_test)\n",
    "        acc_scores.append(est.score(X_test, y_test))\n",
    "        pre_scores.append(precision_score(y_test, y_pred, pos_label=1))\n",
    "        rec_scores.append(recall_score(y_test, y_pred, pos_label=1))\n",
    "        f1_scores.append(f1_score(y_test, y_pred, pos_label=1)) \n",
    "\n",
    "    print(f'Accuracy: %{np.mean(acc_scores)*100:.4f} std %{np.std(acc_scores)*100:.2f}')\n",
    "    print(f'Precision 1: %{np.mean(pre_scores)*100:.4f} std %{np.std(pre_scores)*100:.2f}')\n",
    "    print(f'Recall 1: %{np.mean(rec_scores)*100:.4f} std %{np.std(rec_scores)*100:.2f}')\n",
    "    print(f'F1_score 1: %{np.mean(f1_scores)*100:.4f} std  %{np.std(f1_scores)*100:.2f}') \n",
    "\n",
    "Learning(10, LogisticRegression(C = 10), X_scaled, y)"
   ]
  },
  {
   "cell_type": "code",
   "execution_count": 50,
   "metadata": {},
   "outputs": [
    {
     "name": "stdout",
     "output_type": "stream",
     "text": [
      " accuracy : %99.93 std : %0.015 \n",
      "\n",
      " precision-0 : %99.94 std : %0.017 \n",
      "\n",
      " recall-0 : %99.99 std : %0.007 \n",
      "\n",
      " f1-0 : %99.96 std : %0.008 \n",
      "\n",
      " precision-1 : %88.92 std : %4.179 \n",
      "\n",
      " recall-1 : %65.26 std : %9.968 \n",
      "\n",
      " f1-1 : %74.77 std : %6.713 \n",
      "\n"
     ]
    }
   ],
   "source": [
    "skf = StratifiedKFold(n_splits = 10, shuffle = True, random_state = 42)\n",
    "custom_scorer = {'accuracy': make_scorer(accuracy_score),\n",
    "                 'precision-0': make_scorer(precision_score, average='weighted', labels=[0]),\n",
    "                 'recall-0': make_scorer(recall_score, average='weighted', labels = [0]),\n",
    "                 'f1-0': make_scorer(f1_score, average='weighted', labels = [0]),\n",
    "                 'precision-1': make_scorer(precision_score, average='weighted', labels=[1]),\n",
    "                 'recall-1': make_scorer(recall_score, average='weighted', labels = [1]),\n",
    "                 'f1-1': make_scorer(f1_score, average='weighted', labels = [1])\n",
    "                 }\n",
    "\n",
    "for i, j in custom_scorer.items():\n",
    "    log_model = LogisticRegression(C = 10)\n",
    "    scores = cross_val_score(log_model, X_train_sc, y_train_sc, cv = kfold, scoring = j, n_jobs = -1)\n",
    "    print(f\" {i} : %{scores.mean()*100:.2f} std : %{scores.std()*100:.3f} \\n\")"
   ]
  },
  {
   "cell_type": "markdown",
   "metadata": {
    "id": "bwELs8xsJQ0Q"
   },
   "source": [
    "- Didn't the performance of the model you implemented above satisfy you? If your model is biased towards the majority class and minority class recall is not sufficient, apply **SMOTE**."
   ]
  },
  {
   "cell_type": "markdown",
   "metadata": {
    "id": "4f8q5y12MuHe"
   },
   "source": [
    "### Apply SMOTE"
   ]
  },
  {
   "cell_type": "code",
   "execution_count": 11,
   "metadata": {},
   "outputs": [],
   "source": [
    "os = SMOTE(random_state=42)\n",
    "os_data_X, os_data_y=os.fit_sample(X_train_sc, y_train_sc)\n",
    "os_data_X_sc = pd.DataFrame(data=os_data_X,columns= X.columns)\n",
    "os_data_y_sc= pd.DataFrame(data=os_data_y,columns=[\"Class\"])"
   ]
  },
  {
   "cell_type": "markdown",
   "metadata": {
    "id": "9wvBCEvpJQ0U"
   },
   "source": [
    "### Logistic Regression with SMOTE\n",
    "\n",
    "- The steps you are going to cover for this algorithm are as follows:\n",
    "   \n",
    "   *i. Train-Test Split (Again)*\n",
    "   \n",
    "   *ii. Model Training*\n",
    "   \n",
    "   *iii. Prediction and Model Evaluating*\n",
    "   \n",
    "   *iv. Plot Precision and Recall Curve*\n",
    "   \n",
    "   *v. Apply and Plot StratifiedKFold*"
   ]
  },
  {
   "cell_type": "markdown",
   "metadata": {
    "id": "IJqXQ_aHMuHf"
   },
   "source": [
    "***i. Train-Test Split (Again)***\n",
    "\n",
    "Use SMOTE applied data."
   ]
  },
  {
   "cell_type": "code",
   "execution_count": 54,
   "metadata": {},
   "outputs": [
    {
     "data": {
      "text/plain": [
       "(483334, 30)"
      ]
     },
     "execution_count": 54,
     "metadata": {},
     "output_type": "execute_result"
    }
   ],
   "source": [
    "os_data_X_sc.shape"
   ]
  },
  {
   "cell_type": "code",
   "execution_count": 55,
   "metadata": {},
   "outputs": [
    {
     "data": {
      "text/plain": [
       "(483334, 1)"
      ]
     },
     "execution_count": 55,
     "metadata": {},
     "output_type": "execute_result"
    }
   ],
   "source": [
    "os_data_y_sc.shape"
   ]
  },
  {
   "cell_type": "markdown",
   "metadata": {
    "id": "evc6DLPcMuHf"
   },
   "source": [
    "***ii. Model Training***"
   ]
  },
  {
   "cell_type": "code",
   "execution_count": 12,
   "metadata": {
    "id": "hz36IA3EMuHf"
   },
   "outputs": [],
   "source": [
    "log_model_smote = LogisticRegression(C=10).fit(os_data_X_sc, os_data_y_sc)"
   ]
  },
  {
   "cell_type": "markdown",
   "metadata": {
    "id": "kqJHSV5FMuHf"
   },
   "source": [
    "***iii. Prediction and Model Evaluating***"
   ]
  },
  {
   "cell_type": "code",
   "execution_count": 15,
   "metadata": {},
   "outputs": [],
   "source": [
    "y_pred = log_model_smote.predict(X_test_sc)"
   ]
  },
  {
   "cell_type": "code",
   "execution_count": 16,
   "metadata": {
    "id": "J_lxSdHyMuHg"
   },
   "outputs": [
    {
     "name": "stdout",
     "output_type": "stream",
     "text": [
      "[[41594  1054]\n",
      " [    8    66]]\n",
      "              precision    recall  f1-score   support\n",
      "\n",
      "           0       1.00      0.98      0.99     42648\n",
      "           1       0.06      0.89      0.11        74\n",
      "\n",
      "    accuracy                           0.98     42722\n",
      "   macro avg       0.53      0.93      0.55     42722\n",
      "weighted avg       1.00      0.98      0.99     42722\n",
      "\n"
     ]
    }
   ],
   "source": [
    "y_pred = log_model_smote.predict(X_test_sc)\n",
    "print(confusion_matrix(y_test_sc, y_pred))\n",
    "print(classification_report(y_test_sc, y_pred))"
   ]
  },
  {
   "cell_type": "markdown",
   "metadata": {
    "id": "AFGgLGBqMuHg"
   },
   "source": [
    "***iv.  Plot Precision and Recall Curve***\n"
   ]
  },
  {
   "cell_type": "code",
   "execution_count": 17,
   "metadata": {},
   "outputs": [
    {
     "name": "stdout",
     "output_type": "stream",
     "text": [
      "Average precision-recall score: 0.05\n"
     ]
    }
   ],
   "source": [
    "from sklearn.metrics import average_precision_score\n",
    "y_score = log_model_smote.predict(X_test_sc)\n",
    "average_precision = average_precision_score(y_test_sc, y_score, pos_label = 1)\n",
    "\n",
    "print('Average precision-recall score: {0:0.2f}'.format(average_precision))"
   ]
  },
  {
   "cell_type": "code",
   "execution_count": 77,
   "metadata": {},
   "outputs": [
    {
     "data": {
      "image/png": "[encoded data removed]",
      "text/plain": [
       "<Figure size 432x288 with 1 Axes>"
      ]
     },
     "metadata": {
      "needs_background": "light"
     },
     "output_type": "display_data"
    }
   ],
   "source": [
    "from sklearn.metrics import plot_precision_recall_curve\n",
    "disp = plot_precision_recall_curve(log_model_smote, X_test_sc, y_test_sc)\n",
    "disp.ax_.set_title('Precision-Recall curve');"
   ]
  },
  {
   "cell_type": "markdown",
   "metadata": {
    "id": "HELeR2YVMuHg"
   },
   "source": [
    "***v. Apply and Plot StratifiedKFold***"
   ]
  },
  {
   "cell_type": "markdown",
   "metadata": {},
   "source": [
    "**We do the cross validation manually with StratifiedKFold since our train set is oversampled.**"
   ]
  },
  {
   "cell_type": "code",
   "execution_count": 19,
   "metadata": {
    "id": "hcmB-zKsMuHg"
   },
   "outputs": [
    {
     "name": "stdout",
     "output_type": "stream",
     "text": [
      "Accuracy: %97.1809 std %1.22\n",
      "Precision 1: %6.1771 std %2.74\n",
      "Recall 1: %87.5755 std %10.60\n",
      "F1_score 1: %11.3713 std  %4.62\n"
     ]
    }
   ],
   "source": [
    "def Learning(n, est, X, y):\n",
    "    skf = StratifiedKFold(n_splits = n, shuffle = True, random_state = 42)\n",
    "    acc_scores = []\n",
    "    pre_scores = []\n",
    "    rec_scores = []\n",
    "    f1_scores = []\n",
    "    \n",
    "    for train_index, test_index in skf.split(X, y): \n",
    "        X_train = X.loc[train_index]\n",
    "        y_train = y.loc[train_index]    \n",
    "\n",
    "        \n",
    "        sm = SMOTE(random_state=42)\n",
    "        X_resampled, y_resampled = sm.fit_resample(X_train, y_train)\n",
    "        \n",
    "        X_test = X.loc[test_index]\n",
    "        y_test = y.loc[test_index]\n",
    "        est = est\n",
    "        est.fit(X_resampled, y_resampled)\n",
    "        y_pred = est.predict(X_test)\n",
    "        acc_scores.append(est.score(X_test, y_test))\n",
    "        pre_scores.append(precision_score(y_test, y_pred, pos_label=1))\n",
    "        rec_scores.append(recall_score(y_test, y_pred, pos_label=1))\n",
    "        f1_scores.append(f1_score(y_test, y_pred, pos_label=1))\n",
    "        \n",
    "    print([round(i, 4) for i in acc_scores])\n",
    "    print(f'Accuracy: %{np.mean(acc_scores)*100:.4f} std %{np.std(acc_scores)*100:.2f} \\n')\n",
    "    print([round(i, 4) for i in pre_scores])\n",
    "    print(f'Precision 1: %{np.mean(pre_scores)*100:.4f} std %{np.std(pre_scores)*100:.2f} \\n')\n",
    "    print([round(i, 4) for i in rec_scores])\n",
    "    print(f'Recall 1: %{np.mean(rec_scores)*100:.4f} std %{np.std(rec_scores)*100:.2f} \\n')\n",
    "    print([round(i, 4) for i in f1_scores])\n",
    "    print(f'F1_score 1: %{np.mean(f1_scores)*100:.4f} std  %{np.std(f1_scores)*100:.2f}') \n",
    "\n",
    "Learning(10, LogisticRegression(C=10), X_scaled, y)"
   ]
  },
  {
   "cell_type": "markdown",
   "metadata": {
    "id": "_3zm70O7JQ0Z"
   },
   "source": [
    "### Random Forest Classifier with SMOTE\n",
    "\n",
    "- The steps you are going to cover for this algorithm are as follows:\n",
    "\n",
    "   *i. Model Training*\n",
    "   \n",
    "   *ii. Prediction and Model Evaluating*\n",
    "   \n",
    "   *iii. Plot Precision and Recall Curve*\n",
    "   \n",
    "   *iv. Apply and Plot StratifiedKFold*\n",
    "   "
   ]
  },
  {
   "cell_type": "markdown",
   "metadata": {
    "id": "sr5U80HbMuHg"
   },
   "source": [
    "***i. Model Training***"
   ]
  },
  {
   "cell_type": "code",
   "execution_count": 20,
   "metadata": {},
   "outputs": [],
   "source": [
    "from sklearn.ensemble import RandomForestClassifier"
   ]
  },
  {
   "cell_type": "code",
   "execution_count": 21,
   "metadata": {
    "id": "kuvRr7f3MuHh"
   },
   "outputs": [],
   "source": [
    "rf = RandomForestClassifier().fit(os_data_X_sc, os_data_y_sc)"
   ]
  },
  {
   "cell_type": "markdown",
   "metadata": {
    "id": "dJ9TJdpmMuHh"
   },
   "source": [
    "***ii. Prediction and Model Evaluating***"
   ]
  },
  {
   "cell_type": "code",
   "execution_count": 22,
   "metadata": {
    "id": "BaNd2jTRMuHh"
   },
   "outputs": [
    {
     "name": "stdout",
     "output_type": "stream",
     "text": [
      "[[42638    10]\n",
      " [   16    58]]\n",
      "              precision    recall  f1-score   support\n",
      "\n",
      "           0       1.00      1.00      1.00     42648\n",
      "           1       0.85      0.78      0.82        74\n",
      "\n",
      "    accuracy                           1.00     42722\n",
      "   macro avg       0.93      0.89      0.91     42722\n",
      "weighted avg       1.00      1.00      1.00     42722\n",
      "\n"
     ]
    }
   ],
   "source": [
    "y_pred = rf.predict(X_test_sc)\n",
    "print(confusion_matrix(y_test_sc, y_pred))\n",
    "print(classification_report(y_test_sc, y_pred))"
   ]
  },
  {
   "cell_type": "markdown",
   "metadata": {
    "id": "8bdqEhrdMuHh"
   },
   "source": [
    "***iii. Plot Precision and Recall Curve***\n"
   ]
  },
  {
   "cell_type": "code",
   "execution_count": 23,
   "metadata": {},
   "outputs": [
    {
     "data": {
      "text/plain": [
       "Text(0.5, 1.0, 'class Precision-Recall curve')"
      ]
     },
     "execution_count": 23,
     "metadata": {},
     "output_type": "execute_result"
    },
    {
     "data": {
      "image/png": "[encoded data removed]",
      "text/plain": [
       "<Figure size 432x288 with 1 Axes>"
      ]
     },
     "metadata": {
      "needs_background": "light"
     },
     "output_type": "display_data"
    }
   ],
   "source": [
    "from sklearn.metrics import plot_precision_recall_curve\n",
    "import matplotlib.pyplot as plt\n",
    "\n",
    "disp = plot_precision_recall_curve(rf, X_test_sc, y_test_sc)\n",
    "disp.ax_.set_title('class Precision-Recall curve')"
   ]
  },
  {
   "cell_type": "markdown",
   "metadata": {
    "id": "1n8q3JXcMuHh"
   },
   "source": [
    "***iv. Apply and Plot StratifiedKFold***"
   ]
  },
  {
   "cell_type": "markdown",
   "metadata": {},
   "source": [
    "**We do the cross validation manually with StratifiedKFold since our train set is oversampled.**"
   ]
  },
  {
   "cell_type": "code",
   "execution_count": 24,
   "metadata": {
    "id": "WukW9Gb3MuHh"
   },
   "outputs": [
    {
     "name": "stdout",
     "output_type": "stream",
     "text": [
      "[0.9984551104244935, 0.9990519995786665, 0.9997893332397036, 0.9994733330992591, 0.9993679997191109, 0.9985253326779256, 0.9993328885923949, 0.9994733146067416, 0.9995084269662922, 0.9994030898876405]\n",
      "Accuracy: %99.9238 std %0.04 \n",
      "\n",
      "[0.5324675324675324, 0.9230769230769231, 0.9215686274509803, 0.9722222222222222, 0.8780487804878049, 0.5606060606060606, 0.803921568627451, 0.8863636363636364, 0.9487179487179487, 0.9]\n",
      "Precision 1: %83.2699 std %14.95 \n",
      "\n",
      "[0.8367346938775511, 0.4897959183673469, 0.9591836734693877, 0.7142857142857143, 0.7346938775510204, 0.74, 0.82, 0.7959183673469388, 0.7551020408163265, 0.7346938775510204]\n",
      "Recall 1: %75.8041 std %11.28\n",
      "[0.6507936507936507, 0.64, 0.9400000000000001, 0.8235294117647058, 0.8, 0.6379310344827586, 0.8118811881188118, 0.8387096774193548, 0.8409090909090908, 0.8089887640449438]\n",
      "F1_score 1: %77.9274 std  %9.66\n"
     ]
    }
   ],
   "source": [
    "def Learning(n, est, X, y):\n",
    "    skf = StratifiedKFold(n_splits = n, shuffle = True, random_state = 42)\n",
    "    acc_scores = []\n",
    "    pre_scores = []\n",
    "    rec_scores = []\n",
    "    f1_scores = []\n",
    "    \n",
    "    for train_index, test_index in skf.split(X, y): \n",
    "        X_train = X.loc[train_index]\n",
    "        y_train = y.loc[train_index]    \n",
    "\n",
    "        \n",
    "        sm = SMOTE(random_state=42)\n",
    "        X_resampled, y_resampled = sm.fit_resample(X_train, y_train)\n",
    "        \n",
    "        X_test = X.loc[test_index]\n",
    "        y_test = y.loc[test_index]\n",
    "        est = est\n",
    "        est.fit(X_resampled, y_resampled)\n",
    "        y_pred = est.predict(X_test)\n",
    "        acc_scores.append(est.score(X_test, y_test))\n",
    "        pre_scores.append(precision_score(y_test, y_pred, pos_label=1))\n",
    "        rec_scores.append(recall_score(y_test, y_pred, pos_label=1))\n",
    "        f1_scores.append(f1_score(y_test, y_pred, pos_label=1))\n",
    "        \n",
    "    print([round(i, 4) for i in acc_scores])\n",
    "    print(f'Accuracy: %{np.mean(acc_scores)*100:.4f} std %{np.std(acc_scores)*100:.2f} \\n')\n",
    "    print([round(i, 4) for i in pre_scores])\n",
    "    print(f'Precision 1: %{np.mean(pre_scores)*100:.4f} std %{np.std(pre_scores)*100:.2f} \\n')\n",
    "    print([round(i, 4) for i in rec_scores])\n",
    "    print(f'Recall 1: %{np.mean(rec_scores)*100:.4f} std %{np.std(rec_scores)*100:.2f} \\n')\n",
    "    print([round(i, 4) for i in f1_scores])\n",
    "    print(f'F1_score 1: %{np.mean(f1_scores)*100:.4f} std  %{np.std(f1_scores)*100:.2f}') \n",
    "\n",
    "Learning(10, RandomForestClassifier(), X_scaled, y)"
   ]
  },
  {
   "cell_type": "code",
   "execution_count": 130,
   "metadata": {},
   "outputs": [
    {
     "data": {
      "text/plain": [
       "<AxesSubplot:>"
      ]
     },
     "execution_count": 130,
     "metadata": {},
     "output_type": "execute_result"
    },
    {
     "data": {
      "image/png": "[encoded data removed]",
      "text/plain": [
       "<Figure size 576x576 with 1 Axes>"
      ]
     },
     "metadata": {
      "needs_background": "light"
     },
     "output_type": "display_data"
    }
   ],
   "source": [
    "plt.figure(figsize = (8,8))\n",
    "df.corr()[\"Class\"].sort_values()[:-1].plot(kind=\"bar\")"
   ]
  },
  {
   "cell_type": "code",
   "execution_count": 131,
   "metadata": {},
   "outputs": [
    {
     "data": {
      "image/png": "[encoded data removed]",
      "text/plain": [
       "<Figure size 576x576 with 1 Axes>"
      ]
     },
     "metadata": {
      "needs_background": "light"
     },
     "output_type": "display_data"
    }
   ],
   "source": [
    "plt.figure(figsize = (8,8))\n",
    "sns.barplot(df.corr()[\"Class\"].sort_values()[:-1].index, df.corr()[\"Class\"].sort_values()[:-1].values)\n",
    "plt.xticks(rotation=90);"
   ]
  },
  {
   "cell_type": "code",
   "execution_count": 25,
   "metadata": {},
   "outputs": [
    {
     "data": {
      "image/png": "[encoded data removed]",
      "text/plain": [
       "<Figure size 864x648 with 1 Axes>"
      ]
     },
     "metadata": {
      "needs_background": "light"
     },
     "output_type": "display_data"
    }
   ],
   "source": [
    "from sklearn.feature_selection import RFE\n",
    "selector = RFE(rf, n_features_to_select=30, step=10,verbose=2)\n",
    "selector = selector.fit(X_scaled, y)\n",
    "selector.support_\n",
    "\n",
    "features = []\n",
    "for i in list(enumerate(selector.support_.tolist())):\n",
    "    if i[1] == True:\n",
    "        features.append(i[0])\n",
    "features\n",
    "X.columns[features]\n",
    "\n",
    "feature_imp = pd.Series(rf.feature_importances_[features],\n",
    "                        index=X_train.columns[features]).sort_values(ascending=False)\n",
    "plt.figure(figsize=(12,9))\n",
    "ax = sns.barplot(x=feature_imp, y=feature_imp.index)\n",
    "plt.title(\"Feature Importance\")\n",
    "\n",
    "\n",
    "for p in ax.patches:\n",
    "    ax.annotate(\"%.3f\" % p.get_width(), xy=(p.get_width(), p.get_y()+p.get_height()/2),\n",
    "            xytext=(5, 0), textcoords='offset points', ha=\"left\", va=\"center\")\n",
    "plt.show()"
   ]
  },
  {
   "cell_type": "markdown",
   "metadata": {},
   "source": [
    "**We are rebuilding our model according to the first 8 features within the scope of feature importance.**"
   ]
  },
  {
   "cell_type": "code",
   "execution_count": 31,
   "metadata": {},
   "outputs": [],
   "source": [
    "X2 = X_scaled[[\"V14\", \"V10\", \"V4\", \"V12\", \"V3\", \"V17\", \"V11\", \"V16\"]]"
   ]
  },
  {
   "cell_type": "code",
   "execution_count": 32,
   "metadata": {},
   "outputs": [],
   "source": [
    "X_train2, X_test2, y_train2, y_test2 = train_test_split(X2, y, test_size = 0.15, stratify = y, random_state=42)"
   ]
  },
  {
   "cell_type": "code",
   "execution_count": 33,
   "metadata": {},
   "outputs": [],
   "source": [
    "from imblearn.over_sampling import SMOTE\n",
    "os = SMOTE(random_state=42)\n",
    "os_data_X2, os_data_y2=os.fit_sample(X_train2, y_train2)\n",
    "os_data_X2 = pd.DataFrame(data=os_data_X2,columns= X2.columns)\n",
    "os_data_y2 = pd.DataFrame(data=os_data_y2,columns=[\"Class\"])"
   ]
  },
  {
   "cell_type": "code",
   "execution_count": 34,
   "metadata": {},
   "outputs": [],
   "source": [
    "rf2 = RandomForestClassifier().fit(os_data_X2, os_data_y2)"
   ]
  },
  {
   "cell_type": "code",
   "execution_count": 35,
   "metadata": {},
   "outputs": [
    {
     "name": "stdout",
     "output_type": "stream",
     "text": [
      "[[42616    32]\n",
      " [   15    59]]\n",
      "              precision    recall  f1-score   support\n",
      "\n",
      "           0       1.00      1.00      1.00     42648\n",
      "           1       0.65      0.80      0.72        74\n",
      "\n",
      "    accuracy                           1.00     42722\n",
      "   macro avg       0.82      0.90      0.86     42722\n",
      "weighted avg       1.00      1.00      1.00     42722\n",
      "\n"
     ]
    }
   ],
   "source": [
    "y_pred = rf2.predict(X_test2)\n",
    "print(confusion_matrix(y_test2, y_pred))\n",
    "print(classification_report(y_test2, y_pred))"
   ]
  },
  {
   "cell_type": "markdown",
   "metadata": {},
   "source": [
    "**We do the cross validation manually with StratifiedKFold since our train set is oversampled.**"
   ]
  },
  {
   "cell_type": "code",
   "execution_count": 36,
   "metadata": {},
   "outputs": [
    {
     "name": "stdout",
     "output_type": "stream",
     "text": [
      "[0.9989, 0.9995, 0.998, 0.9992, 0.9994]\n",
      "Accuracy: %99.9010 std %0.05 \n",
      "\n",
      "[0.6181, 0.8925, 0.4551, 0.75, 0.8706]\n",
      "Precision 1: %71.7249 std %16.36 \n",
      "\n",
      "[0.899, 0.8384, 0.7245, 0.8265, 0.7551]\n",
      "Recall 1: %80.8699 std %6.22 \n",
      "\n",
      "[0.7325, 0.8646, 0.5591, 0.7864, 0.8087]\n",
      "F1_score 1: %75.0260 std  %10.46\n"
     ]
    }
   ],
   "source": [
    "def Learning(n, est, X, y):\n",
    "    skf = StratifiedKFold(n_splits = n, shuffle = True, random_state = 42))\n",
    "    acc_scores = []\n",
    "    pre_scores = []\n",
    "    rec_scores = []\n",
    "    f1_scores = []\n",
    "    \n",
    "    for train_index, test_index in skf.split(X, y): \n",
    "        X_train = X.loc[train_index]\n",
    "        y_train = y.loc[train_index]    \n",
    "\n",
    "        \n",
    "        sm = SMOTE(random_state=42)\n",
    "        X_resampled, y_resampled = sm.fit_resample(X_train, y_train)\n",
    "        \n",
    "        X_test = X.loc[test_index]\n",
    "        y_test = y.loc[test_index]\n",
    "        est = est\n",
    "        est.fit(X_resampled, y_resampled)\n",
    "        y_pred = est.predict(X_test)\n",
    "        acc_scores.append(est.score(X_test, y_test))\n",
    "        pre_scores.append(precision_score(y_test, y_pred, pos_label=1))\n",
    "        rec_scores.append(recall_score(y_test, y_pred, pos_label=1))\n",
    "        f1_scores.append(f1_score(y_test, y_pred, pos_label=1))\n",
    "        \n",
    "    print([round(i, 4) for i in acc_scores])\n",
    "    print(f'Accuracy: %{np.mean(acc_scores)*100:.4f} std %{np.std(acc_scores)*100:.2f} \\n')\n",
    "    print([round(i, 4) for i in pre_scores])\n",
    "    print(f'Precision 1: %{np.mean(pre_scores)*100:.4f} std %{np.std(pre_scores)*100:.2f} \\n')\n",
    "    print([round(i, 4) for i in rec_scores])\n",
    "    print(f'Recall 1: %{np.mean(rec_scores)*100:.4f} std %{np.std(rec_scores)*100:.2f} \\n')\n",
    "    print([round(i, 4) for i in f1_scores])\n",
    "    print(f'F1_score 1: %{np.mean(f1_scores)*100:.4f} std  %{np.std(f1_scores)*100:.2f}') \n",
    "\n",
    "Learning(5, RandomForestClassifier(), X2, y)"
   ]
  },
  {
   "cell_type": "markdown",
   "metadata": {},
   "source": [
    "**When we select class_weight parameter  the RandomForestClassifier as \"balenced\", our model turns into a balanced.**"
   ]
  },
  {
   "cell_type": "code",
   "execution_count": 186,
   "metadata": {},
   "outputs": [],
   "source": [
    "rf3 = RandomForestClassifier(class_weight =\"balanced\").fit(X_train2, y_train2)"
   ]
  },
  {
   "cell_type": "code",
   "execution_count": 187,
   "metadata": {},
   "outputs": [
    {
     "name": "stdout",
     "output_type": "stream",
     "text": [
      "[[42646     2]\n",
      " [   18    56]]\n",
      "              precision    recall  f1-score   support\n",
      "\n",
      "           0       1.00      1.00      1.00     42648\n",
      "           1       0.97      0.76      0.85        74\n",
      "\n",
      "    accuracy                           1.00     42722\n",
      "   macro avg       0.98      0.88      0.92     42722\n",
      "weighted avg       1.00      1.00      1.00     42722\n",
      "\n"
     ]
    }
   ],
   "source": [
    "y_pred2 = rf3.predict(X_test2)\n",
    "print(confusion_matrix(y_test2, y_pred2))\n",
    "print(classification_report(y_test2, y_pred2))"
   ]
  },
  {
   "cell_type": "code",
   "execution_count": 81,
   "metadata": {},
   "outputs": [
    {
     "name": "stdout",
     "output_type": "stream",
     "text": [
      "[0.9467, 0.9577, 0.9041, 0.9692, 0.9375] \n",
      "\n",
      " precision-1 : %94.31 std : %2.219 \n",
      "\n",
      "[0.8554, 0.8193, 0.7976, 0.75, 0.7262] \n",
      "\n",
      " recall-1 : %78.97 std : %4.662 \n",
      "\n",
      "[0.9172, 0.8831, 0.8462, 0.8477, 0.8108] \n",
      "\n",
      " f1-1 : %86.10 std : %3.623 \n",
      "\n"
     ]
    }
   ],
   "source": [
    "skf = StratifiedKFold(n_splits = 5, shuffle = True, random_state = 42)\n",
    "custom_scorer = {\n",
    "                 'precision-1': make_scorer(precision_score, average='weighted', labels=[1]),\n",
    "                 'recall-1': make_scorer(recall_score, average='weighted', labels = [1]),\n",
    "                 'f1-1': make_scorer(f1_score, average='weighted', labels = [1])\n",
    "                 }\n",
    "\n",
    "for i, j in custom_scorer.items():\n",
    "    rf3 = RandomForestClassifier(class_weight =\"balanced\")\n",
    "    scores = cross_val_score(rf3, X_train2, y_train2, cv = skf, scoring = j, n_jobs = -1)\n",
    "    print([round(i, 4) for i in scores], \"\\n\")\n",
    "    print(f\" {i} : %{scores.mean()*100:.2f} std : %{scores.std()*100:.3f} \\n\")"
   ]
  },
  {
   "cell_type": "markdown",
   "metadata": {
    "id": "ife6NlFRJQ0f"
   },
   "source": [
    "### Neural Network\n",
    "\n",
    "In the final step, you will make classification with Neural Network which is a Deep Learning algorithm. \n",
    "\n",
    "Neural networks are a series of algorithms that mimic the operations of a human brain to recognize relationships between vast amounts of data. They are used in a variety of applications in financial services, from forecasting and marketing research to fraud detection and risk assessment.\n",
    "\n",
    "A neural network contains layers of interconnected nodes. Each node is a perceptron and is similar to a multiple linear regression. The perceptron feeds the signal produced by a multiple linear regression into an activation function that may be nonlinear.\n",
    "\n",
    "In a multi-layered perceptron (MLP), perceptrons are arranged in interconnected layers. The input layer collects input patterns. The output layer has classifications or output signals to which input patterns may map. \n",
    "\n",
    "Hidden layers fine-tune the input weightings until the neural network’s margin of error is minimal. It is hypothesized that hidden layers extrapolate salient features in the input data that have predictive power regarding the outputs.\n",
    "\n",
    "You will discover **[how to create](https://towardsdatascience.com/building-our-first-neural-network-in-keras-bdc8abbc17f5)** your deep learning neural network model in Python using **[Keras](https://keras.io/about/)**. Keras is a powerful and easy-to-use free open source Python library for developing and evaluating deep learning models.\n",
    "\n",
    "- The steps you are going to cover for this algorithm are as follows:\n",
    "\n",
    "   *i. Import Libraries*\n",
    "   \n",
    "   *ii. Define Model*\n",
    "    \n",
    "   *iii. Compile Model*\n",
    "   \n",
    "   *iv. Fit Model*\n",
    "   \n",
    "   *v. Prediction and Model Evaluating*\n",
    "   \n",
    "   *vi. Plot Precision and Recall Curve*"
   ]
  },
  {
   "cell_type": "markdown",
   "metadata": {
    "id": "i9Rl75fpMuHi"
   },
   "source": [
    "***i. Import Libraries***"
   ]
  },
  {
   "cell_type": "markdown",
   "metadata": {},
   "source": [
    "**We put our oversampled dataset into the model.**"
   ]
  },
  {
   "cell_type": "code",
   "execution_count": 40,
   "metadata": {
    "executionInfo": {
     "elapsed": 1897,
     "status": "ok",
     "timestamp": 1610977899555,
     "user": {
      "displayName": "Owen l",
      "photoUrl": "",
      "userId": "01085249422681493006"
     },
     "user_tz": -180
    },
    "id": "LhEc3K9KMuHi"
   },
   "outputs": [],
   "source": [
    "from tensorflow.keras.models import Sequential\n",
    "from tensorflow.keras.layers import Dense, Activation, Dropout, BatchNormalization\n",
    "from tensorflow.keras.optimizers import Adam, RMSprop, SGD\n",
    "from tensorflow.keras.callbacks import EarlyStopping\n",
    "from sklearn.neural_network import MLPClassifier"
   ]
  },
  {
   "cell_type": "markdown",
   "metadata": {
    "id": "gD6Rh1R8MuHi"
   },
   "source": [
    "***ii. Define Model***"
   ]
  },
  {
   "cell_type": "code",
   "execution_count": 41,
   "metadata": {
    "executionInfo": {
     "elapsed": 2582,
     "status": "ok",
     "timestamp": 1610977900244,
     "user": {
      "displayName": "Owen l",
      "photoUrl": "",
      "userId": "01085249422681493006"
     },
     "user_tz": -180
    },
    "id": "4okQmpRpMuHi"
   },
   "outputs": [],
   "source": [
    "early_stop = EarlyStopping(monitor=\"val_loss\", verbose =2, patience = 10, restore_best_weights=True)"
   ]
  },
  {
   "cell_type": "code",
   "execution_count": 42,
   "metadata": {},
   "outputs": [],
   "source": [
    "model = Sequential()\n",
    "\n",
    "model.add(Dense(30,activation='relu')) \n",
    "model.add(BatchNormalization())\n",
    "model.add(Dense(15,activation='relu'))\n",
    "model.add(BatchNormalization())\n",
    "model.add(Dense(units=1,activation='sigmoid'))\n",
    "opt = Adam(learning_rate=0.0001)"
   ]
  },
  {
   "cell_type": "markdown",
   "metadata": {
    "id": "_IQN7--qMuHi"
   },
   "source": [
    "***iii. Compile Model***"
   ]
  },
  {
   "cell_type": "code",
   "execution_count": 43,
   "metadata": {
    "executionInfo": {
     "elapsed": 2582,
     "status": "ok",
     "timestamp": 1610977900245,
     "user": {
      "displayName": "Owen l",
      "photoUrl": "",
      "userId": "01085249422681493006"
     },
     "user_tz": -180
    },
    "id": "f4W96rfHMuHi"
   },
   "outputs": [],
   "source": [
    "model.compile(loss='binary_crossentropy', optimizer=opt, metrics = [\"accuracy\"])"
   ]
  },
  {
   "cell_type": "markdown",
   "metadata": {
    "id": "PsM_5PhJMuHi"
   },
   "source": [
    "***iv. Fit Model***"
   ]
  },
  {
   "cell_type": "code",
   "execution_count": 44,
   "metadata": {
    "executionInfo": {
     "elapsed": 2580,
     "status": "ok",
     "timestamp": 1610977900245,
     "user": {
      "displayName": "Owen l",
      "photoUrl": "",
      "userId": "01085249422681493006"
     },
     "user_tz": -180
    },
    "id": "cmkPKExFMuHj"
   },
   "outputs": [
    {
     "name": "stdout",
     "output_type": "stream",
     "text": [
      "Epoch 1/100\n",
      "945/945 [==============================] - 4s 3ms/step - loss: 0.4049 - accuracy: 0.8380 - val_loss: 0.1334 - val_accuracy: 0.9790\n",
      "Epoch 2/100\n",
      "945/945 [==============================] - 3s 3ms/step - loss: 0.1371 - accuracy: 0.9507 - val_loss: 0.0950 - val_accuracy: 0.9767\n",
      "Epoch 3/100\n",
      "945/945 [==============================] - 3s 3ms/step - loss: 0.0933 - accuracy: 0.9660 - val_loss: 0.0729 - val_accuracy: 0.9784\n",
      "Epoch 4/100\n",
      "945/945 [==============================] - 3s 3ms/step - loss: 0.0700 - accuracy: 0.9766 - val_loss: 0.0628 - val_accuracy: 0.9800\n",
      "Epoch 5/100\n",
      "945/945 [==============================] - 3s 3ms/step - loss: 0.0541 - accuracy: 0.9819 - val_loss: 0.0506 - val_accuracy: 0.9842\n",
      "Epoch 6/100\n",
      "945/945 [==============================] - 2s 3ms/step - loss: 0.0426 - accuracy: 0.9861 - val_loss: 0.0437 - val_accuracy: 0.9866\n",
      "Epoch 7/100\n",
      "945/945 [==============================] - 2s 3ms/step - loss: 0.0352 - accuracy: 0.9893 - val_loss: 0.0377 - val_accuracy: 0.9883\n",
      "Epoch 8/100\n",
      "945/945 [==============================] - 2s 3ms/step - loss: 0.0292 - accuracy: 0.9915 - val_loss: 0.0316 - val_accuracy: 0.9904\n",
      "Epoch 9/100\n",
      "945/945 [==============================] - 2s 3ms/step - loss: 0.0244 - accuracy: 0.9934 - val_loss: 0.0275 - val_accuracy: 0.9917\n",
      "Epoch 10/100\n",
      "945/945 [==============================] - 3s 3ms/step - loss: 0.0210 - accuracy: 0.9943 - val_loss: 0.0246 - val_accuracy: 0.9929\n",
      "Epoch 11/100\n",
      "945/945 [==============================] - 3s 3ms/step - loss: 0.0180 - accuracy: 0.9953 - val_loss: 0.0210 - val_accuracy: 0.9940\n",
      "Epoch 12/100\n",
      "945/945 [==============================] - 3s 3ms/step - loss: 0.0159 - accuracy: 0.9961 - val_loss: 0.0219 - val_accuracy: 0.9935\n",
      "Epoch 13/100\n",
      "945/945 [==============================] - 3s 3ms/step - loss: 0.0146 - accuracy: 0.9963 - val_loss: 0.0191 - val_accuracy: 0.9948\n",
      "Epoch 14/100\n",
      "945/945 [==============================] - 2s 3ms/step - loss: 0.0135 - accuracy: 0.9966 - val_loss: 0.0173 - val_accuracy: 0.9955\n",
      "Epoch 15/100\n",
      "945/945 [==============================] - 2s 3ms/step - loss: 0.0126 - accuracy: 0.9968 - val_loss: 0.0168 - val_accuracy: 0.9953\n",
      "Epoch 16/100\n",
      "945/945 [==============================] - 3s 3ms/step - loss: 0.0114 - accuracy: 0.9973 - val_loss: 0.0166 - val_accuracy: 0.9955\n",
      "Epoch 17/100\n",
      "945/945 [==============================] - 2s 3ms/step - loss: 0.0105 - accuracy: 0.9975 - val_loss: 0.0155 - val_accuracy: 0.9959\n",
      "Epoch 18/100\n",
      "945/945 [==============================] - 2s 3ms/step - loss: 0.0102 - accuracy: 0.9976 - val_loss: 0.0150 - val_accuracy: 0.9960\n",
      "Epoch 19/100\n",
      "945/945 [==============================] - 3s 3ms/step - loss: 0.0097 - accuracy: 0.9977 - val_loss: 0.0147 - val_accuracy: 0.9961\n",
      "Epoch 20/100\n",
      "945/945 [==============================] - 3s 3ms/step - loss: 0.0099 - accuracy: 0.9977 - val_loss: 0.0139 - val_accuracy: 0.9963\n",
      "Epoch 21/100\n",
      "945/945 [==============================] - 3s 3ms/step - loss: 0.0086 - accuracy: 0.9981 - val_loss: 0.0135 - val_accuracy: 0.9966\n",
      "Epoch 22/100\n",
      "945/945 [==============================] - 3s 3ms/step - loss: 0.0083 - accuracy: 0.9980 - val_loss: 0.0135 - val_accuracy: 0.9963\n",
      "Epoch 23/100\n",
      "945/945 [==============================] - 3s 3ms/step - loss: 0.0078 - accuracy: 0.9981 - val_loss: 0.0124 - val_accuracy: 0.9968\n",
      "Epoch 24/100\n",
      "945/945 [==============================] - 3s 3ms/step - loss: 0.0081 - accuracy: 0.9981 - val_loss: 0.0133 - val_accuracy: 0.9965\n",
      "Epoch 25/100\n",
      "945/945 [==============================] - 3s 3ms/step - loss: 0.0074 - accuracy: 0.9983 - val_loss: 0.0127 - val_accuracy: 0.9969\n",
      "Epoch 26/100\n",
      "945/945 [==============================] - 3s 3ms/step - loss: 0.0070 - accuracy: 0.9984 - val_loss: 0.0125 - val_accuracy: 0.9969\n",
      "Epoch 27/100\n",
      "945/945 [==============================] - 3s 3ms/step - loss: 0.0070 - accuracy: 0.9984 - val_loss: 0.0122 - val_accuracy: 0.9968\n",
      "Epoch 28/100\n",
      "945/945 [==============================] - 3s 3ms/step - loss: 0.0069 - accuracy: 0.9984 - val_loss: 0.0118 - val_accuracy: 0.9969\n",
      "Epoch 29/100\n",
      "945/945 [==============================] - 3s 3ms/step - loss: 0.0066 - accuracy: 0.9984 - val_loss: 0.0121 - val_accuracy: 0.9969\n",
      "Epoch 30/100\n",
      "945/945 [==============================] - 3s 3ms/step - loss: 0.0058 - accuracy: 0.9987 - val_loss: 0.0113 - val_accuracy: 0.9971\n",
      "Epoch 31/100\n",
      "945/945 [==============================] - 3s 3ms/step - loss: 0.0060 - accuracy: 0.9987 - val_loss: 0.0115 - val_accuracy: 0.9970\n",
      "Epoch 32/100\n",
      "945/945 [==============================] - 3s 3ms/step - loss: 0.0058 - accuracy: 0.9987 - val_loss: 0.0112 - val_accuracy: 0.9972\n",
      "Epoch 33/100\n",
      "945/945 [==============================] - 3s 3ms/step - loss: 0.0061 - accuracy: 0.9986 - val_loss: 0.0116 - val_accuracy: 0.9970\n",
      "Epoch 34/100\n",
      "945/945 [==============================] - 3s 3ms/step - loss: 0.0056 - accuracy: 0.9987 - val_loss: 0.0109 - val_accuracy: 0.9973\n",
      "Epoch 35/100\n",
      "945/945 [==============================] - 3s 3ms/step - loss: 0.0055 - accuracy: 0.9988 - val_loss: 0.0113 - val_accuracy: 0.9970\n",
      "Epoch 36/100\n",
      "945/945 [==============================] - 3s 3ms/step - loss: 0.0054 - accuracy: 0.9988 - val_loss: 0.0110 - val_accuracy: 0.9973\n",
      "Epoch 37/100\n",
      "945/945 [==============================] - 3s 3ms/step - loss: 0.0052 - accuracy: 0.9988 - val_loss: 0.0105 - val_accuracy: 0.9976\n",
      "Epoch 38/100\n",
      "945/945 [==============================] - 3s 3ms/step - loss: 0.0051 - accuracy: 0.9988 - val_loss: 0.0110 - val_accuracy: 0.9973\n",
      "Epoch 39/100\n",
      "945/945 [==============================] - 3s 3ms/step - loss: 0.0051 - accuracy: 0.9989 - val_loss: 0.0107 - val_accuracy: 0.9974\n",
      "Epoch 40/100\n",
      "945/945 [==============================] - 3s 3ms/step - loss: 0.0049 - accuracy: 0.9990 - val_loss: 0.0107 - val_accuracy: 0.9974\n",
      "Epoch 41/100\n",
      "945/945 [==============================] - 3s 3ms/step - loss: 0.0046 - accuracy: 0.9991 - val_loss: 0.0105 - val_accuracy: 0.9974\n",
      "Epoch 42/100\n",
      "945/945 [==============================] - 3s 3ms/step - loss: 0.0044 - accuracy: 0.9991 - val_loss: 0.0108 - val_accuracy: 0.9974\n",
      "Epoch 43/100\n",
      "945/945 [==============================] - 3s 3ms/step - loss: 0.0047 - accuracy: 0.9990 - val_loss: 0.0110 - val_accuracy: 0.9974\n",
      "Epoch 44/100\n",
      "945/945 [==============================] - 3s 3ms/step - loss: 0.0042 - accuracy: 0.9990 - val_loss: 0.0106 - val_accuracy: 0.9975\n",
      "Epoch 45/100\n",
      "945/945 [==============================] - 3s 3ms/step - loss: 0.0042 - accuracy: 0.9991 - val_loss: 0.0105 - val_accuracy: 0.9976\n",
      "Epoch 46/100\n",
      "945/945 [==============================] - 3s 3ms/step - loss: 0.0041 - accuracy: 0.9991 - val_loss: 0.0102 - val_accuracy: 0.9977\n",
      "Epoch 47/100\n",
      "945/945 [==============================] - 3s 3ms/step - loss: 0.0042 - accuracy: 0.9991 - val_loss: 0.0104 - val_accuracy: 0.9975\n",
      "Epoch 48/100\n",
      "945/945 [==============================] - 3s 3ms/step - loss: 0.0040 - accuracy: 0.9992 - val_loss: 0.0099 - val_accuracy: 0.9977\n",
      "Epoch 49/100\n",
      "945/945 [==============================] - 3s 3ms/step - loss: 0.0037 - accuracy: 0.9991 - val_loss: 0.0096 - val_accuracy: 0.9979\n",
      "Epoch 50/100\n",
      "945/945 [==============================] - 3s 3ms/step - loss: 0.0036 - accuracy: 0.9992 - val_loss: 0.0099 - val_accuracy: 0.9978\n",
      "Epoch 51/100\n",
      "945/945 [==============================] - 3s 3ms/step - loss: 0.0039 - accuracy: 0.9991 - val_loss: 0.0103 - val_accuracy: 0.9975\n",
      "Epoch 52/100\n",
      "945/945 [==============================] - 3s 3ms/step - loss: 0.0037 - accuracy: 0.9992 - val_loss: 0.0096 - val_accuracy: 0.9979\n",
      "Epoch 53/100\n",
      "945/945 [==============================] - 3s 3ms/step - loss: 0.0036 - accuracy: 0.9992 - val_loss: 0.0097 - val_accuracy: 0.9979\n",
      "Epoch 54/100\n",
      "945/945 [==============================] - 3s 3ms/step - loss: 0.0036 - accuracy: 0.9992 - val_loss: 0.0093 - val_accuracy: 0.9980\n",
      "Epoch 55/100\n",
      "945/945 [==============================] - 3s 3ms/step - loss: 0.0035 - accuracy: 0.9992 - val_loss: 0.0098 - val_accuracy: 0.9978\n",
      "Epoch 56/100\n",
      "945/945 [==============================] - 3s 3ms/step - loss: 0.0036 - accuracy: 0.9993 - val_loss: 0.0098 - val_accuracy: 0.9978\n",
      "Epoch 57/100\n",
      "945/945 [==============================] - 3s 3ms/step - loss: 0.0035 - accuracy: 0.9992 - val_loss: 0.0097 - val_accuracy: 0.9978\n"
     ]
    },
    {
     "name": "stdout",
     "output_type": "stream",
     "text": [
      "Epoch 58/100\n",
      "945/945 [==============================] - 3s 3ms/step - loss: 0.0034 - accuracy: 0.9993 - val_loss: 0.0094 - val_accuracy: 0.9979\n",
      "Epoch 59/100\n",
      "945/945 [==============================] - 3s 3ms/step - loss: 0.0032 - accuracy: 0.9994 - val_loss: 0.0091 - val_accuracy: 0.9981\n",
      "Epoch 60/100\n",
      "945/945 [==============================] - 3s 3ms/step - loss: 0.0030 - accuracy: 0.9993 - val_loss: 0.0096 - val_accuracy: 0.9979\n",
      "Epoch 61/100\n",
      "945/945 [==============================] - 3s 3ms/step - loss: 0.0030 - accuracy: 0.9993 - val_loss: 0.0095 - val_accuracy: 0.9980\n",
      "Epoch 62/100\n",
      "945/945 [==============================] - 3s 3ms/step - loss: 0.0030 - accuracy: 0.9993 - val_loss: 0.0090 - val_accuracy: 0.9980\n",
      "Epoch 63/100\n",
      "945/945 [==============================] - 3s 3ms/step - loss: 0.0032 - accuracy: 0.9993 - val_loss: 0.0094 - val_accuracy: 0.9980\n",
      "Epoch 64/100\n",
      "945/945 [==============================] - 3s 3ms/step - loss: 0.0031 - accuracy: 0.9993 - val_loss: 0.0098 - val_accuracy: 0.9978\n",
      "Epoch 65/100\n",
      "945/945 [==============================] - 3s 3ms/step - loss: 0.0030 - accuracy: 0.9992 - val_loss: 0.0093 - val_accuracy: 0.9980\n",
      "Epoch 66/100\n",
      "945/945 [==============================] - 3s 3ms/step - loss: 0.0028 - accuracy: 0.9994 - val_loss: 0.0095 - val_accuracy: 0.9980\n",
      "Epoch 67/100\n",
      "945/945 [==============================] - 3s 3ms/step - loss: 0.0028 - accuracy: 0.9994 - val_loss: 0.0090 - val_accuracy: 0.9980\n",
      "Epoch 68/100\n",
      "945/945 [==============================] - 3s 3ms/step - loss: 0.0031 - accuracy: 0.9993 - val_loss: 0.0099 - val_accuracy: 0.9980\n",
      "Epoch 69/100\n",
      "945/945 [==============================] - 3s 3ms/step - loss: 0.0027 - accuracy: 0.9994 - val_loss: 0.0090 - val_accuracy: 0.9981\n",
      "Epoch 70/100\n",
      "945/945 [==============================] - 3s 3ms/step - loss: 0.0027 - accuracy: 0.9995 - val_loss: 0.0089 - val_accuracy: 0.9982\n",
      "Epoch 71/100\n",
      "945/945 [==============================] - 3s 3ms/step - loss: 0.0031 - accuracy: 0.9993 - val_loss: 0.0093 - val_accuracy: 0.9980\n",
      "Epoch 72/100\n",
      "945/945 [==============================] - 3s 3ms/step - loss: 0.0025 - accuracy: 0.9995 - val_loss: 0.0091 - val_accuracy: 0.9982\n",
      "Epoch 73/100\n",
      "945/945 [==============================] - 3s 3ms/step - loss: 0.0026 - accuracy: 0.9995 - val_loss: 0.0094 - val_accuracy: 0.9983\n",
      "Epoch 74/100\n",
      "945/945 [==============================] - 3s 3ms/step - loss: 0.0027 - accuracy: 0.9994 - val_loss: 0.0089 - val_accuracy: 0.9983\n",
      "Epoch 75/100\n",
      "945/945 [==============================] - 3s 3ms/step - loss: 0.0026 - accuracy: 0.9995 - val_loss: 0.0089 - val_accuracy: 0.9982\n",
      "Epoch 76/100\n",
      "945/945 [==============================] - 3s 3ms/step - loss: 0.0029 - accuracy: 0.9993 - val_loss: 0.0091 - val_accuracy: 0.9982\n",
      "Epoch 77/100\n",
      "945/945 [==============================] - 3s 3ms/step - loss: 0.0028 - accuracy: 0.9994 - val_loss: 0.0093 - val_accuracy: 0.9982\n",
      "Epoch 78/100\n",
      "945/945 [==============================] - 3s 3ms/step - loss: 0.0025 - accuracy: 0.9995 - val_loss: 0.0093 - val_accuracy: 0.9982\n",
      "Epoch 79/100\n",
      "945/945 [==============================] - 3s 3ms/step - loss: 0.0023 - accuracy: 0.9995 - val_loss: 0.0094 - val_accuracy: 0.9981\n",
      "Epoch 80/100\n",
      "945/945 [==============================] - 3s 3ms/step - loss: 0.0026 - accuracy: 0.9995 - val_loss: 0.0093 - val_accuracy: 0.9981\n",
      "Restoring model weights from the end of the best epoch.\n",
      "Epoch 00080: early stopping\n"
     ]
    }
   ],
   "source": [
    "history = model.fit(x=os_data_X_sc.values, \n",
    "          y=os_data_y_sc.values, \n",
    "          batch_size = 512,\n",
    "          epochs=100,\n",
    "          validation_data=(X_test_sc.values, y_test_sc.values), verbose=1, callbacks = [early_stop])"
   ]
  },
  {
   "cell_type": "markdown",
   "metadata": {
    "id": "InMeP9kgMuHj"
   },
   "source": [
    "***v. Prediction and Model Evaluating***"
   ]
  },
  {
   "cell_type": "code",
   "execution_count": 45,
   "metadata": {
    "executionInfo": {
     "elapsed": 2579,
     "status": "ok",
     "timestamp": 1610977900246,
     "user": {
      "displayName": "Owen l",
      "photoUrl": "",
      "userId": "01085249422681493006"
     },
     "user_tz": -180
    },
    "id": "wRi_uFjIMuHj"
   },
   "outputs": [],
   "source": [
    "y_pred = model.predict_classes(X_test_sc.values)"
   ]
  },
  {
   "cell_type": "code",
   "execution_count": 46,
   "metadata": {},
   "outputs": [
    {
     "name": "stdout",
     "output_type": "stream",
     "text": [
      "              precision    recall  f1-score   support\n",
      "\n",
      "           0       1.00      1.00      1.00     42648\n",
      "           1       0.49      0.84      0.62        74\n",
      "\n",
      "    accuracy                           1.00     42722\n",
      "   macro avg       0.74      0.92      0.81     42722\n",
      "weighted avg       1.00      1.00      1.00     42722\n",
      "\n"
     ]
    }
   ],
   "source": [
    "print(classification_report(y_test_sc.values, y_pred))"
   ]
  },
  {
   "cell_type": "code",
   "execution_count": 47,
   "metadata": {},
   "outputs": [
    {
     "data": {
      "image/png": "[encoded data removed]",
      "text/plain": [
       "<Figure size 432x432 with 1 Axes>"
      ]
     },
     "metadata": {
      "needs_background": "light"
     },
     "output_type": "display_data"
    }
   ],
   "source": [
    "plt.figure(figsize=(6,6))\n",
    "plt.plot(history.history[\"loss\"], label= \"train\")\n",
    "plt.plot(history.history[\"val_loss\"], label= \"validation\")\n",
    "plt.legend();"
   ]
  },
  {
   "cell_type": "code",
   "execution_count": 48,
   "metadata": {},
   "outputs": [
    {
     "data": {
      "image/png": "[encoded data removed]",
      "text/plain": [
       "<Figure size 432x288 with 1 Axes>"
      ]
     },
     "metadata": {
      "needs_background": "light"
     },
     "output_type": "display_data"
    }
   ],
   "source": [
    "model_loss = pd.DataFrame(history.history)\n",
    "model_loss.plot(colormap ='rainbow');"
   ]
  },
  {
   "cell_type": "markdown",
   "metadata": {},
   "source": [
    "**We do the cross validation manually with StratifiedKFold since our train set is oversampled.**"
   ]
  },
  {
   "cell_type": "code",
   "execution_count": 57,
   "metadata": {},
   "outputs": [
    {
     "name": "stdout",
     "output_type": "stream",
     "text": [
      "[0.9988, 0.9989, 0.9987, 0.9989, 0.9983]\n",
      "Accuracy: %99.8736 std %0.02 \n",
      "\n",
      "[0.622, 0.6277, 0.5899, 0.6583, 0.5098]\n",
      "Precision 1: %60.1570 std %5.08 \n",
      "\n",
      "[0.798, 0.8687, 0.8367, 0.8061, 0.7959]\n",
      "Recall 1: %82.1088 std %2.79 \n",
      "\n",
      "[0.6991, 0.7288, 0.692, 0.7248, 0.6215]\n",
      "F1_score 1: %69.3239 std  %3.86\n"
     ]
    }
   ],
   "source": [
    "def Learning(n, X, y):\n",
    "    \n",
    "    skf = StratifiedKFold(n_splits = n, shuffle = True, random_state = 42)\n",
    "    acc_scores = []\n",
    "    pre_scores = []\n",
    "    rec_scores = []\n",
    "    f1_scores = []\n",
    "    \n",
    "    for train_index, test_index in skf.split(X, y): \n",
    "        model_1 = Sequential()\n",
    "        model_1.add(Dense(30,activation='relu')) \n",
    "        model_1.add(BatchNormalization())\n",
    "        model_1.add(Dense(15,activation='relu'))\n",
    "        model_1.add(BatchNormalization())\n",
    "        model_1.add(Dense(units=1,activation='sigmoid'))\n",
    "        opt = Adam(learning_rate=0.0001)\n",
    "        # Compile model\n",
    "        model_1.compile(loss='binary_crossentropy', optimizer= opt, metrics=['accuracy'])\n",
    "        early_stop = EarlyStopping(monitor=\"val_loss\", verbose =0, patience = 10, restore_best_weights=True)\n",
    "        \n",
    "        X_train = X.loc[train_index]\n",
    "        y_train = y.loc[train_index]    \n",
    "\n",
    "        \n",
    "        sm = SMOTE(random_state=42)\n",
    "        X_resampled, y_resampled = sm.fit_resample(X_train, y_train)\n",
    "        \n",
    "        X_test = X.loc[test_index]\n",
    "        y_test = y.loc[test_index]\n",
    "        \n",
    "        \n",
    "        model_1.fit(x= X_resampled.values, y= y_resampled.values, \n",
    "          batch_size = 512,\n",
    "          epochs=100,\n",
    "          validation_data=(X_test.values, y_test.values), callbacks = [early_stop], verbose =0)\n",
    "        \n",
    "        y_pred = model_1.predict_classes(X_test.values)\n",
    "        \n",
    "        \n",
    "        acc_scores.append(accuracy_score(y_test.values, y_pred))\n",
    "        pre_scores.append(precision_score(y_test.values, y_pred, pos_label=1))\n",
    "        rec_scores.append(recall_score(y_test.values, y_pred, pos_label=1))\n",
    "        f1_scores.append(f1_score(y_test.values, y_pred, pos_label=1))\n",
    "        \n",
    "    print([round(i, 4) for i in acc_scores])\n",
    "    print(f'Accuracy: %{np.mean(acc_scores)*100:.4f} std %{np.std(acc_scores)*100:.2f} \\n')\n",
    "    print([round(i, 4) for i in pre_scores])\n",
    "    print(f'Precision 1: %{np.mean(pre_scores)*100:.4f} std %{np.std(pre_scores)*100:.2f} \\n')\n",
    "    print([round(i, 4) for i in rec_scores])\n",
    "    print(f'Recall 1: %{np.mean(rec_scores)*100:.4f} std %{np.std(rec_scores)*100:.2f} \\n')\n",
    "    print([round(i, 4) for i in f1_scores])\n",
    "    print(f'F1_score 1: %{np.mean(f1_scores)*100:.4f} std  %{np.std(f1_scores)*100:.2f}') \n",
    "\n",
    "Learning(5, X_scaled, y)"
   ]
  },
  {
   "cell_type": "markdown",
   "metadata": {},
   "source": [
    "**this time, we put our data without Oversampling into the model.**"
   ]
  },
  {
   "cell_type": "code",
   "execution_count": 62,
   "metadata": {},
   "outputs": [],
   "source": [
    "early_stop = EarlyStopping(monitor=\"val_loss\", verbose =2, patience = 10, restore_best_weights=True)"
   ]
  },
  {
   "cell_type": "code",
   "execution_count": 63,
   "metadata": {},
   "outputs": [],
   "source": [
    "model = Sequential()\n",
    "\n",
    "model.add(Dense(30,activation='relu')) \n",
    "model.add(BatchNormalization())\n",
    "model.add(Dense(15,activation='relu'))\n",
    "model.add(BatchNormalization())\n",
    "model.add(Dense(units=1,activation='sigmoid'))\n",
    "opt = Adam(learning_rate=0.0001)"
   ]
  },
  {
   "cell_type": "code",
   "execution_count": 64,
   "metadata": {},
   "outputs": [],
   "source": [
    "model.compile(loss='binary_crossentropy', optimizer=opt, metrics = [\"accuracy\"])"
   ]
  },
  {
   "cell_type": "code",
   "execution_count": 65,
   "metadata": {},
   "outputs": [
    {
     "name": "stdout",
     "output_type": "stream",
     "text": [
      "Epoch 1/100\n",
      "473/473 [==============================] - 3s 4ms/step - loss: 0.7473 - accuracy: 0.6014 - val_loss: 0.5977 - val_accuracy: 0.7544\n",
      "Epoch 2/100\n",
      "473/473 [==============================] - 1s 3ms/step - loss: 0.5652 - accuracy: 0.8012 - val_loss: 0.4593 - val_accuracy: 0.9497\n",
      "Epoch 3/100\n",
      "473/473 [==============================] - 1s 3ms/step - loss: 0.4341 - accuracy: 0.9556 - val_loss: 0.3331 - val_accuracy: 0.9928\n",
      "Epoch 4/100\n",
      "473/473 [==============================] - 1s 3ms/step - loss: 0.3140 - accuracy: 0.9917 - val_loss: 0.2327 - val_accuracy: 0.9977\n",
      "Epoch 5/100\n",
      "473/473 [==============================] - 1s 3ms/step - loss: 0.2179 - accuracy: 0.9976 - val_loss: 0.1611 - val_accuracy: 0.9988\n",
      "Epoch 6/100\n",
      "473/473 [==============================] - 1s 3ms/step - loss: 0.1494 - accuracy: 0.9989 - val_loss: 0.1108 - val_accuracy: 0.9989\n",
      "Epoch 7/100\n",
      "473/473 [==============================] - 1s 3ms/step - loss: 0.1027 - accuracy: 0.9992 - val_loss: 0.0778 - val_accuracy: 0.9991\n",
      "Epoch 8/100\n",
      "473/473 [==============================] - 1s 3ms/step - loss: 0.0715 - accuracy: 0.9994 - val_loss: 0.0549 - val_accuracy: 0.9992\n",
      "Epoch 9/100\n",
      "473/473 [==============================] - 1s 3ms/step - loss: 0.0507 - accuracy: 0.9994 - val_loss: 0.0400 - val_accuracy: 0.9992\n",
      "Epoch 10/100\n",
      "473/473 [==============================] - 1s 3ms/step - loss: 0.0367 - accuracy: 0.9994 - val_loss: 0.0292 - val_accuracy: 0.9991\n",
      "Epoch 11/100\n",
      "473/473 [==============================] - 1s 3ms/step - loss: 0.0272 - accuracy: 0.9993 - val_loss: 0.0222 - val_accuracy: 0.9992\n",
      "Epoch 12/100\n",
      "473/473 [==============================] - 1s 3ms/step - loss: 0.0201 - accuracy: 0.9995 - val_loss: 0.0171 - val_accuracy: 0.9992\n",
      "Epoch 13/100\n",
      "473/473 [==============================] - 1s 3ms/step - loss: 0.0159 - accuracy: 0.9993 - val_loss: 0.0136 - val_accuracy: 0.9992\n",
      "Epoch 14/100\n",
      "473/473 [==============================] - 1s 3ms/step - loss: 0.0122 - accuracy: 0.9994 - val_loss: 0.0112 - val_accuracy: 0.9992\n",
      "Epoch 15/100\n",
      "473/473 [==============================] - 1s 3ms/step - loss: 0.0095 - accuracy: 0.9994 - val_loss: 0.0091 - val_accuracy: 0.9992\n",
      "Epoch 16/100\n",
      "473/473 [==============================] - 1s 3ms/step - loss: 0.0079 - accuracy: 0.9994 - val_loss: 0.0080 - val_accuracy: 0.9992\n",
      "Epoch 17/100\n",
      "473/473 [==============================] - 1s 3ms/step - loss: 0.0067 - accuracy: 0.9994 - val_loss: 0.0070 - val_accuracy: 0.9992\n",
      "Epoch 18/100\n",
      "473/473 [==============================] - 1s 3ms/step - loss: 0.0056 - accuracy: 0.9994 - val_loss: 0.0063 - val_accuracy: 0.9993\n",
      "Epoch 19/100\n",
      "473/473 [==============================] - 1s 3ms/step - loss: 0.0051 - accuracy: 0.9994 - val_loss: 0.0058 - val_accuracy: 0.9993\n",
      "Epoch 20/100\n",
      "473/473 [==============================] - 1s 3ms/step - loss: 0.0041 - accuracy: 0.9995 - val_loss: 0.0051 - val_accuracy: 0.9993\n",
      "Epoch 21/100\n",
      "473/473 [==============================] - 1s 3ms/step - loss: 0.0041 - accuracy: 0.9994 - val_loss: 0.0049 - val_accuracy: 0.9993\n",
      "Epoch 22/100\n",
      "473/473 [==============================] - 1s 3ms/step - loss: 0.0038 - accuracy: 0.9994 - val_loss: 0.0044 - val_accuracy: 0.9993\n",
      "Epoch 23/100\n",
      "473/473 [==============================] - 1s 3ms/step - loss: 0.0033 - accuracy: 0.9995 - val_loss: 0.0045 - val_accuracy: 0.9992\n",
      "Epoch 24/100\n",
      "473/473 [==============================] - 1s 3ms/step - loss: 0.0033 - accuracy: 0.9994 - val_loss: 0.0046 - val_accuracy: 0.9993\n",
      "Epoch 25/100\n",
      "473/473 [==============================] - 1s 3ms/step - loss: 0.0035 - accuracy: 0.9993 - val_loss: 0.0041 - val_accuracy: 0.9993\n",
      "Epoch 26/100\n",
      "473/473 [==============================] - 1s 3ms/step - loss: 0.0029 - accuracy: 0.9995 - val_loss: 0.0045 - val_accuracy: 0.9993\n",
      "Epoch 27/100\n",
      "473/473 [==============================] - 1s 3ms/step - loss: 0.0026 - accuracy: 0.9995 - val_loss: 0.0042 - val_accuracy: 0.9993\n",
      "Epoch 28/100\n",
      "473/473 [==============================] - 1s 3ms/step - loss: 0.0029 - accuracy: 0.9994 - val_loss: 0.0041 - val_accuracy: 0.9993\n",
      "Epoch 29/100\n",
      "473/473 [==============================] - 1s 3ms/step - loss: 0.0028 - accuracy: 0.9994 - val_loss: 0.0038 - val_accuracy: 0.9993\n",
      "Epoch 30/100\n",
      "473/473 [==============================] - 1s 3ms/step - loss: 0.0024 - accuracy: 0.9995 - val_loss: 0.0038 - val_accuracy: 0.9993\n",
      "Epoch 31/100\n",
      "473/473 [==============================] - 1s 3ms/step - loss: 0.0029 - accuracy: 0.9994 - val_loss: 0.0041 - val_accuracy: 0.9993\n",
      "Epoch 32/100\n",
      "473/473 [==============================] - 1s 3ms/step - loss: 0.0028 - accuracy: 0.9994 - val_loss: 0.0037 - val_accuracy: 0.9993\n",
      "Epoch 33/100\n",
      "473/473 [==============================] - 1s 3ms/step - loss: 0.0026 - accuracy: 0.9995 - val_loss: 0.0037 - val_accuracy: 0.9993\n",
      "Epoch 34/100\n",
      "473/473 [==============================] - 1s 3ms/step - loss: 0.0023 - accuracy: 0.9995 - val_loss: 0.0039 - val_accuracy: 0.9993\n",
      "Epoch 35/100\n",
      "473/473 [==============================] - 1s 3ms/step - loss: 0.0021 - accuracy: 0.9995 - val_loss: 0.0037 - val_accuracy: 0.9993\n",
      "Epoch 36/100\n",
      "473/473 [==============================] - 1s 3ms/step - loss: 0.0025 - accuracy: 0.9994 - val_loss: 0.0038 - val_accuracy: 0.9993\n",
      "Epoch 37/100\n",
      "473/473 [==============================] - 1s 3ms/step - loss: 0.0024 - accuracy: 0.9995 - val_loss: 0.0034 - val_accuracy: 0.9994\n",
      "Epoch 38/100\n",
      "473/473 [==============================] - 1s 3ms/step - loss: 0.0025 - accuracy: 0.9994 - val_loss: 0.0040 - val_accuracy: 0.9993\n",
      "Epoch 39/100\n",
      "473/473 [==============================] - 1s 3ms/step - loss: 0.0023 - accuracy: 0.9995 - val_loss: 0.0036 - val_accuracy: 0.9994\n",
      "Epoch 40/100\n",
      "473/473 [==============================] - 1s 3ms/step - loss: 0.0023 - accuracy: 0.9995 - val_loss: 0.0037 - val_accuracy: 0.9993\n",
      "Epoch 41/100\n",
      "473/473 [==============================] - 1s 3ms/step - loss: 0.0021 - accuracy: 0.9996 - val_loss: 0.0036 - val_accuracy: 0.9993\n",
      "Epoch 42/100\n",
      "473/473 [==============================] - 1s 3ms/step - loss: 0.0021 - accuracy: 0.9995 - val_loss: 0.0035 - val_accuracy: 0.9994\n",
      "Epoch 43/100\n",
      "473/473 [==============================] - 1s 3ms/step - loss: 0.0022 - accuracy: 0.9995 - val_loss: 0.0034 - val_accuracy: 0.9994\n",
      "Epoch 44/100\n",
      "473/473 [==============================] - 1s 3ms/step - loss: 0.0020 - accuracy: 0.9995 - val_loss: 0.0034 - val_accuracy: 0.9994\n",
      "Epoch 45/100\n",
      "473/473 [==============================] - 1s 3ms/step - loss: 0.0019 - accuracy: 0.9996 - val_loss: 0.0036 - val_accuracy: 0.9993\n",
      "Epoch 46/100\n",
      "473/473 [==============================] - 1s 3ms/step - loss: 0.0021 - accuracy: 0.9996 - val_loss: 0.0035 - val_accuracy: 0.9994\n",
      "Epoch 47/100\n",
      "473/473 [==============================] - 1s 3ms/step - loss: 0.0019 - accuracy: 0.9995 - val_loss: 0.0035 - val_accuracy: 0.9994\n",
      "Epoch 48/100\n",
      "473/473 [==============================] - 1s 3ms/step - loss: 0.0020 - accuracy: 0.9995 - val_loss: 0.0034 - val_accuracy: 0.9994\n",
      "Epoch 49/100\n",
      "473/473 [==============================] - 1s 3ms/step - loss: 0.0020 - accuracy: 0.9996 - val_loss: 0.0033 - val_accuracy: 0.9994\n",
      "Epoch 50/100\n",
      "473/473 [==============================] - 1s 3ms/step - loss: 0.0023 - accuracy: 0.9995 - val_loss: 0.0035 - val_accuracy: 0.9994\n",
      "Epoch 51/100\n",
      "473/473 [==============================] - 1s 3ms/step - loss: 0.0018 - accuracy: 0.9996 - val_loss: 0.0034 - val_accuracy: 0.9994\n",
      "Epoch 52/100\n",
      "473/473 [==============================] - 1s 3ms/step - loss: 0.0018 - accuracy: 0.9996 - val_loss: 0.0034 - val_accuracy: 0.9994\n",
      "Epoch 53/100\n",
      "473/473 [==============================] - 1s 3ms/step - loss: 0.0016 - accuracy: 0.9996 - val_loss: 0.0033 - val_accuracy: 0.9994\n",
      "Epoch 54/100\n",
      "473/473 [==============================] - 1s 3ms/step - loss: 0.0018 - accuracy: 0.9995 - val_loss: 0.0034 - val_accuracy: 0.9994\n",
      "Epoch 55/100\n",
      "473/473 [==============================] - 1s 3ms/step - loss: 0.0023 - accuracy: 0.9995 - val_loss: 0.0033 - val_accuracy: 0.9994\n",
      "Epoch 56/100\n",
      "473/473 [==============================] - 1s 3ms/step - loss: 0.0020 - accuracy: 0.9996 - val_loss: 0.0032 - val_accuracy: 0.9994\n",
      "Epoch 57/100\n"
     ]
    },
    {
     "name": "stdout",
     "output_type": "stream",
     "text": [
      "473/473 [==============================] - 2s 3ms/step - loss: 0.0020 - accuracy: 0.9996 - val_loss: 0.0033 - val_accuracy: 0.9994\n",
      "Epoch 58/100\n",
      "473/473 [==============================] - 1s 3ms/step - loss: 0.0019 - accuracy: 0.9996 - val_loss: 0.0036 - val_accuracy: 0.9994\n",
      "Epoch 59/100\n",
      "473/473 [==============================] - 1s 3ms/step - loss: 0.0021 - accuracy: 0.9995 - val_loss: 0.0033 - val_accuracy: 0.9994\n",
      "Epoch 60/100\n",
      "473/473 [==============================] - 1s 3ms/step - loss: 0.0021 - accuracy: 0.9995 - val_loss: 0.0035 - val_accuracy: 0.9994\n",
      "Epoch 61/100\n",
      "473/473 [==============================] - 1s 3ms/step - loss: 0.0019 - accuracy: 0.9995 - val_loss: 0.0034 - val_accuracy: 0.9994\n",
      "Epoch 62/100\n",
      "473/473 [==============================] - 1s 3ms/step - loss: 0.0023 - accuracy: 0.9995 - val_loss: 0.0034 - val_accuracy: 0.9994\n",
      "Epoch 63/100\n",
      "473/473 [==============================] - 1s 3ms/step - loss: 0.0019 - accuracy: 0.9996 - val_loss: 0.0034 - val_accuracy: 0.9994\n",
      "Epoch 64/100\n",
      "473/473 [==============================] - 1s 3ms/step - loss: 0.0020 - accuracy: 0.9995 - val_loss: 0.0034 - val_accuracy: 0.9994\n",
      "Epoch 65/100\n",
      "473/473 [==============================] - 1s 3ms/step - loss: 0.0016 - accuracy: 0.9996 - val_loss: 0.0035 - val_accuracy: 0.9994\n",
      "Epoch 66/100\n",
      "473/473 [==============================] - 1s 3ms/step - loss: 0.0016 - accuracy: 0.9996 - val_loss: 0.0032 - val_accuracy: 0.9994\n",
      "Restoring model weights from the end of the best epoch.\n",
      "Epoch 00066: early stopping\n"
     ]
    }
   ],
   "source": [
    "history = model.fit(x=X_train_sc.values, \n",
    "          y=y_train_sc.values, \n",
    "          batch_size = 512,\n",
    "          epochs=100,\n",
    "          validation_data=(X_test_sc.values, y_test_sc.values), verbose=1, callbacks = [early_stop])"
   ]
  },
  {
   "cell_type": "code",
   "execution_count": 68,
   "metadata": {},
   "outputs": [],
   "source": [
    "y_pred = model.predict_classes(X_test_sc.values)"
   ]
  },
  {
   "cell_type": "code",
   "execution_count": 69,
   "metadata": {},
   "outputs": [
    {
     "name": "stdout",
     "output_type": "stream",
     "text": [
      "[[42639     9]\n",
      " [   16    58]]\n",
      "              precision    recall  f1-score   support\n",
      "\n",
      "           0       1.00      1.00      1.00     42648\n",
      "           1       0.87      0.78      0.82        74\n",
      "\n",
      "    accuracy                           1.00     42722\n",
      "   macro avg       0.93      0.89      0.91     42722\n",
      "weighted avg       1.00      1.00      1.00     42722\n",
      "\n"
     ]
    }
   ],
   "source": [
    "print(confusion_matrix(y_test_sc, y_pred))\n",
    "print(classification_report(y_test_sc.values, y_pred))"
   ]
  },
  {
   "cell_type": "code",
   "execution_count": 66,
   "metadata": {},
   "outputs": [
    {
     "data": {
      "image/png": "[encoded data removed]",
      "text/plain": [
       "<Figure size 432x432 with 1 Axes>"
      ]
     },
     "metadata": {
      "needs_background": "light"
     },
     "output_type": "display_data"
    }
   ],
   "source": [
    "plt.figure(figsize=(6,6))\n",
    "plt.plot(history.history[\"loss\"], label= \"train\")\n",
    "plt.plot(history.history[\"val_loss\"], label= \"validation\")\n",
    "plt.legend();"
   ]
  },
  {
   "cell_type": "code",
   "execution_count": 67,
   "metadata": {},
   "outputs": [
    {
     "data": {
      "image/png": "[encoded data removed]",
      "text/plain": [
       "<Figure size 432x288 with 1 Axes>"
      ]
     },
     "metadata": {
      "needs_background": "light"
     },
     "output_type": "display_data"
    }
   ],
   "source": [
    "model_loss = pd.DataFrame(history.history)\n",
    "model_loss.plot(colormap ='rainbow');"
   ]
  },
  {
   "cell_type": "markdown",
   "metadata": {},
   "source": [
    "**We can put our data without oversampling into cross validation as follows.**"
   ]
  },
  {
   "cell_type": "code",
   "execution_count": 70,
   "metadata": {},
   "outputs": [
    {
     "name": "stdout",
     "output_type": "stream",
     "text": [
      "[0.9995, 0.9995, 0.9996, 0.9995, 0.9993] \n",
      "\n",
      " accuracy : %99.95 std : %0.009 \n",
      "\n",
      "[0.9429, 0.8378, 0.8718, 0.9286, 0.9412] \n",
      "\n",
      " precision-1 : %90.44 std : %4.221 \n",
      "\n",
      "[0.7952, 0.7349, 0.7976, 0.7143, 0.7976] \n",
      "\n",
      " recall-1 : %76.79 std : %3.598 \n",
      "\n",
      "[0.8456, 0.7887, 0.8435, 0.8701, 0.8408] \n",
      "\n",
      " f1-1 : %83.78 std : %2.667 \n",
      "\n"
     ]
    }
   ],
   "source": [
    "from tensorflow.keras.wrappers.scikit_learn import KerasClassifier\n",
    "from sklearn.model_selection import cross_val_score\n",
    "from sklearn.metrics import make_scorer\n",
    "from sklearn.metrics import f1_score, accuracy_score, precision_score, recall_score\n",
    "def create_baseline():\n",
    "    # create model\n",
    "    model = Sequential()\n",
    "    model.add(Dense(30,activation='relu')) \n",
    "    model.add(BatchNormalization())\n",
    "    model.add(Dense(15,activation='relu'))\n",
    "    model.add(BatchNormalization())\n",
    "    model.add(Dense(units=1,activation='sigmoid'))\n",
    "    opt = Adam(learning_rate=0.0001)\n",
    "    # Compile model\n",
    "    model.compile(loss='binary_crossentropy', optimizer= opt, metrics=['accuracy'])\n",
    "    return model\n",
    "# evaluate model with standardized dataset\n",
    "early_stop = EarlyStopping(monitor=\"val_loss\", verbose =0, patience = 10, restore_best_weights=True)\n",
    "\n",
    "kfold = StratifiedKFold(n_splits=5, shuffle = True)\n",
    "custom_scorer = {'accuracy': make_scorer(accuracy_score),\n",
    "                 \n",
    "                 'precision-1': make_scorer(precision_score, average='weighted', labels=[1]),\n",
    "                 'recall-1': make_scorer(recall_score, average='weighted', labels = [1]),\n",
    "                 'f1-1': make_scorer(f1_score, average='weighted', labels = [1])\n",
    "                 }\n",
    "for i, j in custom_scorer.items():\n",
    "    estimator = KerasClassifier(build_fn=create_baseline, epochs=100, batch_size=512, verbose=0)\n",
    "    scores = cross_val_score(estimator, X_train_sc.values, y_train_sc.values, cv=kfold, n_jobs=-1, scoring = j, fit_params={'callbacks':early_stop})\n",
    "    print([round(i, 4) for i in scores], \"\\n\")\n",
    "    print(f\" {i} : %{scores.mean()*100:.2f} std : %{scores.std()*100:.3f} \\n\")"
   ]
  },
  {
   "cell_type": "markdown",
   "metadata": {},
   "source": [
    "**We can also put our data without oversampling into cross validation as follows with MLPClassifier**"
   ]
  },
  {
   "cell_type": "code",
   "execution_count": 71,
   "metadata": {},
   "outputs": [
    {
     "name": "stdout",
     "output_type": "stream",
     "text": [
      "[0.9994, 0.9996, 0.9995, 0.9994, 0.9994] \n",
      "\n",
      " accuracy : %99.95 std : %0.008 \n",
      "\n",
      "[0.9104, 0.9333, 0.9054, 0.9014, 0.9231] \n",
      "\n",
      " precision-1 : %91.47 std : %1.182 \n",
      "\n",
      "[0.7349, 0.8434, 0.7976, 0.7619, 0.7143] \n",
      "\n",
      " recall-1 : %77.04 std : %4.592 \n",
      "\n",
      "[0.8133, 0.8861, 0.8481, 0.8258, 0.8054] \n",
      "\n",
      " f1-1 : %83.57 std : %2.902 \n",
      "\n"
     ]
    }
   ],
   "source": [
    "from sklearn.neural_network import MLPClassifier\n",
    "\n",
    "# evaluate model with standardized dataset\n",
    "kfold = StratifiedKFold(n_splits=5, shuffle=True, random_state=42)\n",
    "custom_scorer = {'accuracy': make_scorer(accuracy_score),\n",
    "                 \n",
    "                 'precision-1': make_scorer(precision_score, average='weighted', labels=[1]),\n",
    "                 'recall-1': make_scorer(recall_score, average='weighted', labels = [1]),\n",
    "                 'f1-1': make_scorer(f1_score, average='weighted', labels = [1])\n",
    "                 }\n",
    "for i, j in custom_scorer.items():\n",
    "    model2 = MLPClassifier(random_state=42, max_iter=300)\n",
    "    scores = cross_val_score(model2, X_train_sc.values, y_train_sc.values, cv=kfold, n_jobs=-1, scoring = j)\n",
    "    print([round(i, 4) for i in scores], \"\\n\")\n",
    "    print(f\" {i} : %{scores.mean()*100:.2f} std : %{scores.std()*100:.3f} \\n\")"
   ]
  },
  {
   "cell_type": "markdown",
   "metadata": {
    "id": "_JAEDNkjMuHj"
   },
   "source": [
    "***vi. Plot Precision and Recall Curve***"
   ]
  },
  {
   "cell_type": "markdown",
   "metadata": {
    "id": "LpbiGnpIxVK3"
   },
   "source": [
    "## 4. Model Deployement\n",
    "You cooked the food in the kitchen and moved on to the serving stage. The question is how do you showcase your work to others? Model Deployement helps you showcase your work to the world and make better decisions with it. But, deploying a model can get a little tricky at times. Before deploying the model, many things such as data storage, preprocessing, model building and monitoring need to be studied.\n",
    "\n",
    "Deployment of machine learning models, means making your models available to your other business systems. By deploying models, other systems can send data to them and get their predictions, which are in turn populated back into the company systems. Through machine learning model deployment, can begin to take full advantage of the model you built.\n",
    "\n",
    "Data science is concerned with how to build machine learning models, which algorithm is more predictive, how to design features, and what variables to use to make the models more accurate. However, how these models are actually used is often neglected. And yet this is the most important step in the machine learning pipline. Only when a model is fully integrated with the business systems, real values ​​can be extract from its predictions.\n",
    "\n",
    "After doing the following operations in this notebook, jump to *Pycharm* and create your web app with Flask API."
   ]
  },
  {
   "cell_type": "markdown",
   "metadata": {
    "id": "oCAYcMLEH_7P"
   },
   "source": [
    "### Save and Export the Model as .pkl\n"
   ]
  },
  {
   "cell_type": "code",
   "execution_count": 78,
   "metadata": {},
   "outputs": [],
   "source": [
    "import pickle"
   ]
  },
  {
   "cell_type": "code",
   "execution_count": 79,
   "metadata": {
    "id": "MqluJ9yvIOex"
   },
   "outputs": [],
   "source": [
    "pickle.dump(rf2, open('rf2_model.pkl', 'wb'))"
   ]
  },
  {
   "cell_type": "markdown",
   "metadata": {
    "id": "vaZP1N93IPQi"
   },
   "source": [
    "### Save and Export Variables as .pkl"
   ]
  },
  {
   "cell_type": "code",
   "execution_count": 80,
   "metadata": {
    "id": "q_vA-dJWxfFH"
   },
   "outputs": [],
   "source": [
    "pickle.dump(X2.columns, open('variables.pkl', 'wb'))"
   ]
  },
  {
   "cell_type": "markdown",
   "metadata": {
    "id": "cm9Z__Y7MuHj"
   },
   "source": [
    "___\n",
    "\n",
    "<p style=\"text-align: center;\"><img src=\"https://docs.google.com/uc?id=1lY0Uj5R04yMY3-ZppPWxqCr5pvBLYPnV\" class=\"img-fluid\" alt=\"CLRSWY\"></p>\n",
    "\n",
    "___"
   ]
  }
 ],
 "metadata": {
  "colab": {
   "collapsed_sections": [
    "OV28RJBeMuHb",
    "hlm6gCsKMuHb",
    "zKZcwgucJQ0I",
    "4f8q5y12MuHe",
    "9wvBCEvpJQ0U",
    "_3zm70O7JQ0Z"
   ],
   "name": "Fraud Detection_Student_V2.ipynb",
   "provenance": [],
   "toc_visible": true
  },
  "kernelspec": {
   "display_name": "Python 3",
   "language": "python",
   "name": "python3"
  },
  "language_info": {
   "codemirror_mode": {
    "name": "ipython",
    "version": 3
   },
   "file_extension": ".py",
   "mimetype": "text/x-python",
   "name": "python",
   "nbconvert_exporter": "python",
   "pygments_lexer": "ipython3",
   "version": "3.7.9"
  }
 },
 "nbformat": 4,
 "nbformat_minor": 1
}
